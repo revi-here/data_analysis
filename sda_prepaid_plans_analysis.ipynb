{
 "cells": [
  {
   "cell_type": "markdown",
   "metadata": {},
   "source": [
    "# Analysis of different prepaid plans for budget allocation"
   ]
  },
  {
   "cell_type": "markdown",
   "metadata": {},
   "source": [
    "The telecom operator company , Megaline offers its clients two prepaid plans, Surf and Ultimate. The commercial department wants to know which of the plans brings in more revenue in order to adjust the advertising budget.\n",
    "Therefore ,  a preliminary analysis of the plans based on a relatively small client selection has to be done. The data on 500 Megaline clients: who the clients are, where they're from, which plan they use, and the number of calls they made and text messages they sent in 2018 .. is provided. The clients' behavior needs to be analyzed to determine which prepaid plan brings in more revenue. "
   ]
  },
  {
   "cell_type": "markdown",
   "metadata": {},
   "source": [
    "### Goal: \n",
    "1. Create separate dataset for each plan users.  \n",
    "2. Calculate the total revenue for each plan.  \n",
    "3. Also table the customer behavior like monthly minutes used,gb used,messages sent..  \n",
    "The above steps make it easier to proceed with analysing the data fields and test the hypothesis.  \n",
    "\n",
    "\n",
    "### Test hypotheses:\n",
    "    The average revenue from users of Ultimate and Surf calling plans differs.\n",
    "    The average revenue from users in NY-NJ area is different from that of the users from other regions."
   ]
  },
  {
   "cell_type": "code",
   "execution_count": 154,
   "metadata": {},
   "outputs": [],
   "source": [
    "#Import necessary packages\n",
    "import pandas as pd\n",
    "import numpy as np\n",
    "import matplotlib.pyplot as plt\n",
    "from scipy import stats as st\n"
   ]
  },
  {
   "cell_type": "code",
   "execution_count": 155,
   "metadata": {},
   "outputs": [],
   "source": [
    "file_list=[\n",
    "           '/datasets/megaline_internet.csv',\n",
    "           '/datasets/megaline_messages.csv',\n",
    "           '/datasets/megaline_plans.csv',\n",
    "           '/datasets/megaline_users.csv',\n",
    "           '/datasets/megaline_calls.csv'\n",
    "    \n",
    "]\n"
   ]
  },
  {
   "cell_type": "code",
   "execution_count": 156,
   "metadata": {},
   "outputs": [],
   "source": [
    "    #Read all the files   \n",
    "    try: \n",
    "        internet_df=pd.read_csv(file_list[0])\n",
    "        messages_df=pd.read_csv(file_list[1])\n",
    "        plans_df=pd.read_csv(file_list[2])\n",
    "        users_df=pd.read_csv(file_list[3])\n",
    "        calls_df=pd.read_csv(file_list[4])\n",
    "        \n",
    "    except Exception as e:\n",
    "        print ('Error in reading file')\n",
    "        print (e)\n"
   ]
  },
  {
   "cell_type": "markdown",
   "metadata": {},
   "source": [
    "**Having an initial overview of each dataset used**"
   ]
  },
  {
   "cell_type": "code",
   "execution_count": 157,
   "metadata": {},
   "outputs": [
    {
     "data": {
      "text/html": [
       "<div>\n",
       "<style scoped>\n",
       "    .dataframe tbody tr th:only-of-type {\n",
       "        vertical-align: middle;\n",
       "    }\n",
       "\n",
       "    .dataframe tbody tr th {\n",
       "        vertical-align: top;\n",
       "    }\n",
       "\n",
       "    .dataframe thead th {\n",
       "        text-align: right;\n",
       "    }\n",
       "</style>\n",
       "<table border=\"1\" class=\"dataframe\">\n",
       "  <thead>\n",
       "    <tr style=\"text-align: right;\">\n",
       "      <th></th>\n",
       "      <th>id</th>\n",
       "      <th>user_id</th>\n",
       "      <th>session_date</th>\n",
       "      <th>mb_used</th>\n",
       "    </tr>\n",
       "  </thead>\n",
       "  <tbody>\n",
       "    <tr>\n",
       "      <th>0</th>\n",
       "      <td>1000_13</td>\n",
       "      <td>1000</td>\n",
       "      <td>2018-12-29</td>\n",
       "      <td>89.86</td>\n",
       "    </tr>\n",
       "    <tr>\n",
       "      <th>1</th>\n",
       "      <td>1000_204</td>\n",
       "      <td>1000</td>\n",
       "      <td>2018-12-31</td>\n",
       "      <td>0.00</td>\n",
       "    </tr>\n",
       "    <tr>\n",
       "      <th>2</th>\n",
       "      <td>1000_379</td>\n",
       "      <td>1000</td>\n",
       "      <td>2018-12-28</td>\n",
       "      <td>660.40</td>\n",
       "    </tr>\n",
       "    <tr>\n",
       "      <th>3</th>\n",
       "      <td>1000_413</td>\n",
       "      <td>1000</td>\n",
       "      <td>2018-12-26</td>\n",
       "      <td>270.99</td>\n",
       "    </tr>\n",
       "    <tr>\n",
       "      <th>4</th>\n",
       "      <td>1000_442</td>\n",
       "      <td>1000</td>\n",
       "      <td>2018-12-27</td>\n",
       "      <td>880.22</td>\n",
       "    </tr>\n",
       "    <tr>\n",
       "      <th>5</th>\n",
       "      <td>1001_0</td>\n",
       "      <td>1001</td>\n",
       "      <td>2018-08-24</td>\n",
       "      <td>284.68</td>\n",
       "    </tr>\n",
       "    <tr>\n",
       "      <th>6</th>\n",
       "      <td>1001_3</td>\n",
       "      <td>1001</td>\n",
       "      <td>2018-12-09</td>\n",
       "      <td>656.04</td>\n",
       "    </tr>\n",
       "    <tr>\n",
       "      <th>7</th>\n",
       "      <td>1001_4</td>\n",
       "      <td>1001</td>\n",
       "      <td>2018-11-04</td>\n",
       "      <td>16.97</td>\n",
       "    </tr>\n",
       "    <tr>\n",
       "      <th>8</th>\n",
       "      <td>1001_10</td>\n",
       "      <td>1001</td>\n",
       "      <td>2018-11-27</td>\n",
       "      <td>135.18</td>\n",
       "    </tr>\n",
       "    <tr>\n",
       "      <th>9</th>\n",
       "      <td>1001_15</td>\n",
       "      <td>1001</td>\n",
       "      <td>2018-12-13</td>\n",
       "      <td>761.92</td>\n",
       "    </tr>\n",
       "  </tbody>\n",
       "</table>\n",
       "</div>"
      ],
      "text/plain": [
       "         id  user_id session_date  mb_used\n",
       "0   1000_13     1000   2018-12-29    89.86\n",
       "1  1000_204     1000   2018-12-31     0.00\n",
       "2  1000_379     1000   2018-12-28   660.40\n",
       "3  1000_413     1000   2018-12-26   270.99\n",
       "4  1000_442     1000   2018-12-27   880.22\n",
       "5    1001_0     1001   2018-08-24   284.68\n",
       "6    1001_3     1001   2018-12-09   656.04\n",
       "7    1001_4     1001   2018-11-04    16.97\n",
       "8   1001_10     1001   2018-11-27   135.18\n",
       "9   1001_15     1001   2018-12-13   761.92"
      ]
     },
     "execution_count": 157,
     "metadata": {},
     "output_type": "execute_result"
    }
   ],
   "source": [
    "internet_df.head(10)"
   ]
  },
  {
   "cell_type": "code",
   "execution_count": 158,
   "metadata": {},
   "outputs": [
    {
     "data": {
      "text/html": [
       "<div>\n",
       "<style scoped>\n",
       "    .dataframe tbody tr th:only-of-type {\n",
       "        vertical-align: middle;\n",
       "    }\n",
       "\n",
       "    .dataframe tbody tr th {\n",
       "        vertical-align: top;\n",
       "    }\n",
       "\n",
       "    .dataframe thead th {\n",
       "        text-align: right;\n",
       "    }\n",
       "</style>\n",
       "<table border=\"1\" class=\"dataframe\">\n",
       "  <thead>\n",
       "    <tr style=\"text-align: right;\">\n",
       "      <th></th>\n",
       "      <th>id</th>\n",
       "      <th>user_id</th>\n",
       "      <th>message_date</th>\n",
       "    </tr>\n",
       "  </thead>\n",
       "  <tbody>\n",
       "    <tr>\n",
       "      <th>0</th>\n",
       "      <td>1000_125</td>\n",
       "      <td>1000</td>\n",
       "      <td>2018-12-27</td>\n",
       "    </tr>\n",
       "    <tr>\n",
       "      <th>1</th>\n",
       "      <td>1000_160</td>\n",
       "      <td>1000</td>\n",
       "      <td>2018-12-31</td>\n",
       "    </tr>\n",
       "    <tr>\n",
       "      <th>2</th>\n",
       "      <td>1000_223</td>\n",
       "      <td>1000</td>\n",
       "      <td>2018-12-31</td>\n",
       "    </tr>\n",
       "    <tr>\n",
       "      <th>3</th>\n",
       "      <td>1000_251</td>\n",
       "      <td>1000</td>\n",
       "      <td>2018-12-27</td>\n",
       "    </tr>\n",
       "    <tr>\n",
       "      <th>4</th>\n",
       "      <td>1000_255</td>\n",
       "      <td>1000</td>\n",
       "      <td>2018-12-26</td>\n",
       "    </tr>\n",
       "    <tr>\n",
       "      <th>5</th>\n",
       "      <td>1000_346</td>\n",
       "      <td>1000</td>\n",
       "      <td>2018-12-29</td>\n",
       "    </tr>\n",
       "    <tr>\n",
       "      <th>6</th>\n",
       "      <td>1000_386</td>\n",
       "      <td>1000</td>\n",
       "      <td>2018-12-30</td>\n",
       "    </tr>\n",
       "    <tr>\n",
       "      <th>7</th>\n",
       "      <td>1000_413</td>\n",
       "      <td>1000</td>\n",
       "      <td>2018-12-31</td>\n",
       "    </tr>\n",
       "    <tr>\n",
       "      <th>8</th>\n",
       "      <td>1000_502</td>\n",
       "      <td>1000</td>\n",
       "      <td>2018-12-27</td>\n",
       "    </tr>\n",
       "    <tr>\n",
       "      <th>9</th>\n",
       "      <td>1000_525</td>\n",
       "      <td>1000</td>\n",
       "      <td>2018-12-28</td>\n",
       "    </tr>\n",
       "  </tbody>\n",
       "</table>\n",
       "</div>"
      ],
      "text/plain": [
       "         id  user_id message_date\n",
       "0  1000_125     1000   2018-12-27\n",
       "1  1000_160     1000   2018-12-31\n",
       "2  1000_223     1000   2018-12-31\n",
       "3  1000_251     1000   2018-12-27\n",
       "4  1000_255     1000   2018-12-26\n",
       "5  1000_346     1000   2018-12-29\n",
       "6  1000_386     1000   2018-12-30\n",
       "7  1000_413     1000   2018-12-31\n",
       "8  1000_502     1000   2018-12-27\n",
       "9  1000_525     1000   2018-12-28"
      ]
     },
     "execution_count": 158,
     "metadata": {},
     "output_type": "execute_result"
    }
   ],
   "source": [
    "messages_df.head(10)"
   ]
  },
  {
   "cell_type": "code",
   "execution_count": 159,
   "metadata": {},
   "outputs": [
    {
     "data": {
      "text/html": [
       "<div>\n",
       "<style scoped>\n",
       "    .dataframe tbody tr th:only-of-type {\n",
       "        vertical-align: middle;\n",
       "    }\n",
       "\n",
       "    .dataframe tbody tr th {\n",
       "        vertical-align: top;\n",
       "    }\n",
       "\n",
       "    .dataframe thead th {\n",
       "        text-align: right;\n",
       "    }\n",
       "</style>\n",
       "<table border=\"1\" class=\"dataframe\">\n",
       "  <thead>\n",
       "    <tr style=\"text-align: right;\">\n",
       "      <th></th>\n",
       "      <th>messages_included</th>\n",
       "      <th>mb_per_month_included</th>\n",
       "      <th>minutes_included</th>\n",
       "      <th>usd_monthly_pay</th>\n",
       "      <th>usd_per_gb</th>\n",
       "      <th>usd_per_message</th>\n",
       "      <th>usd_per_minute</th>\n",
       "      <th>plan_name</th>\n",
       "    </tr>\n",
       "  </thead>\n",
       "  <tbody>\n",
       "    <tr>\n",
       "      <th>0</th>\n",
       "      <td>50</td>\n",
       "      <td>15360</td>\n",
       "      <td>500</td>\n",
       "      <td>20</td>\n",
       "      <td>10</td>\n",
       "      <td>0.03</td>\n",
       "      <td>0.03</td>\n",
       "      <td>surf</td>\n",
       "    </tr>\n",
       "    <tr>\n",
       "      <th>1</th>\n",
       "      <td>1000</td>\n",
       "      <td>30720</td>\n",
       "      <td>3000</td>\n",
       "      <td>70</td>\n",
       "      <td>7</td>\n",
       "      <td>0.01</td>\n",
       "      <td>0.01</td>\n",
       "      <td>ultimate</td>\n",
       "    </tr>\n",
       "  </tbody>\n",
       "</table>\n",
       "</div>"
      ],
      "text/plain": [
       "   messages_included  mb_per_month_included  minutes_included  \\\n",
       "0                 50                  15360               500   \n",
       "1               1000                  30720              3000   \n",
       "\n",
       "   usd_monthly_pay  usd_per_gb  usd_per_message  usd_per_minute plan_name  \n",
       "0               20          10             0.03            0.03      surf  \n",
       "1               70           7             0.01            0.01  ultimate  "
      ]
     },
     "execution_count": 159,
     "metadata": {},
     "output_type": "execute_result"
    }
   ],
   "source": [
    "plans_df.head(10)"
   ]
  },
  {
   "cell_type": "code",
   "execution_count": 160,
   "metadata": {},
   "outputs": [
    {
     "data": {
      "text/html": [
       "<div>\n",
       "<style scoped>\n",
       "    .dataframe tbody tr th:only-of-type {\n",
       "        vertical-align: middle;\n",
       "    }\n",
       "\n",
       "    .dataframe tbody tr th {\n",
       "        vertical-align: top;\n",
       "    }\n",
       "\n",
       "    .dataframe thead th {\n",
       "        text-align: right;\n",
       "    }\n",
       "</style>\n",
       "<table border=\"1\" class=\"dataframe\">\n",
       "  <thead>\n",
       "    <tr style=\"text-align: right;\">\n",
       "      <th></th>\n",
       "      <th>user_id</th>\n",
       "      <th>first_name</th>\n",
       "      <th>last_name</th>\n",
       "      <th>age</th>\n",
       "      <th>city</th>\n",
       "      <th>reg_date</th>\n",
       "      <th>plan</th>\n",
       "      <th>churn_date</th>\n",
       "    </tr>\n",
       "  </thead>\n",
       "  <tbody>\n",
       "    <tr>\n",
       "      <th>0</th>\n",
       "      <td>1000</td>\n",
       "      <td>Anamaria</td>\n",
       "      <td>Bauer</td>\n",
       "      <td>45</td>\n",
       "      <td>Atlanta-Sandy Springs-Roswell, GA MSA</td>\n",
       "      <td>2018-12-24</td>\n",
       "      <td>ultimate</td>\n",
       "      <td>NaN</td>\n",
       "    </tr>\n",
       "    <tr>\n",
       "      <th>1</th>\n",
       "      <td>1001</td>\n",
       "      <td>Mickey</td>\n",
       "      <td>Wilkerson</td>\n",
       "      <td>28</td>\n",
       "      <td>Seattle-Tacoma-Bellevue, WA MSA</td>\n",
       "      <td>2018-08-13</td>\n",
       "      <td>surf</td>\n",
       "      <td>NaN</td>\n",
       "    </tr>\n",
       "    <tr>\n",
       "      <th>2</th>\n",
       "      <td>1002</td>\n",
       "      <td>Carlee</td>\n",
       "      <td>Hoffman</td>\n",
       "      <td>36</td>\n",
       "      <td>Las Vegas-Henderson-Paradise, NV MSA</td>\n",
       "      <td>2018-10-21</td>\n",
       "      <td>surf</td>\n",
       "      <td>NaN</td>\n",
       "    </tr>\n",
       "    <tr>\n",
       "      <th>3</th>\n",
       "      <td>1003</td>\n",
       "      <td>Reynaldo</td>\n",
       "      <td>Jenkins</td>\n",
       "      <td>52</td>\n",
       "      <td>Tulsa, OK MSA</td>\n",
       "      <td>2018-01-28</td>\n",
       "      <td>surf</td>\n",
       "      <td>NaN</td>\n",
       "    </tr>\n",
       "    <tr>\n",
       "      <th>4</th>\n",
       "      <td>1004</td>\n",
       "      <td>Leonila</td>\n",
       "      <td>Thompson</td>\n",
       "      <td>40</td>\n",
       "      <td>Seattle-Tacoma-Bellevue, WA MSA</td>\n",
       "      <td>2018-05-23</td>\n",
       "      <td>surf</td>\n",
       "      <td>NaN</td>\n",
       "    </tr>\n",
       "    <tr>\n",
       "      <th>5</th>\n",
       "      <td>1005</td>\n",
       "      <td>Livia</td>\n",
       "      <td>Shields</td>\n",
       "      <td>31</td>\n",
       "      <td>Dallas-Fort Worth-Arlington, TX MSA</td>\n",
       "      <td>2018-11-29</td>\n",
       "      <td>surf</td>\n",
       "      <td>NaN</td>\n",
       "    </tr>\n",
       "    <tr>\n",
       "      <th>6</th>\n",
       "      <td>1006</td>\n",
       "      <td>Jesusa</td>\n",
       "      <td>Bradford</td>\n",
       "      <td>73</td>\n",
       "      <td>San Francisco-Oakland-Berkeley, CA MSA</td>\n",
       "      <td>2018-11-27</td>\n",
       "      <td>ultimate</td>\n",
       "      <td>2018-12-18</td>\n",
       "    </tr>\n",
       "    <tr>\n",
       "      <th>7</th>\n",
       "      <td>1007</td>\n",
       "      <td>Eusebio</td>\n",
       "      <td>Welch</td>\n",
       "      <td>42</td>\n",
       "      <td>Grand Rapids-Kentwood, MI MSA</td>\n",
       "      <td>2018-07-11</td>\n",
       "      <td>surf</td>\n",
       "      <td>NaN</td>\n",
       "    </tr>\n",
       "    <tr>\n",
       "      <th>8</th>\n",
       "      <td>1008</td>\n",
       "      <td>Emely</td>\n",
       "      <td>Hoffman</td>\n",
       "      <td>53</td>\n",
       "      <td>Orlando-Kissimmee-Sanford, FL MSA</td>\n",
       "      <td>2018-08-03</td>\n",
       "      <td>ultimate</td>\n",
       "      <td>NaN</td>\n",
       "    </tr>\n",
       "    <tr>\n",
       "      <th>9</th>\n",
       "      <td>1009</td>\n",
       "      <td>Gerry</td>\n",
       "      <td>Little</td>\n",
       "      <td>19</td>\n",
       "      <td>San Jose-Sunnyvale-Santa Clara, CA MSA</td>\n",
       "      <td>2018-04-22</td>\n",
       "      <td>surf</td>\n",
       "      <td>NaN</td>\n",
       "    </tr>\n",
       "  </tbody>\n",
       "</table>\n",
       "</div>"
      ],
      "text/plain": [
       "   user_id first_name  last_name  age                                    city  \\\n",
       "0     1000   Anamaria      Bauer   45   Atlanta-Sandy Springs-Roswell, GA MSA   \n",
       "1     1001     Mickey  Wilkerson   28         Seattle-Tacoma-Bellevue, WA MSA   \n",
       "2     1002     Carlee    Hoffman   36    Las Vegas-Henderson-Paradise, NV MSA   \n",
       "3     1003   Reynaldo    Jenkins   52                           Tulsa, OK MSA   \n",
       "4     1004    Leonila   Thompson   40         Seattle-Tacoma-Bellevue, WA MSA   \n",
       "5     1005      Livia    Shields   31     Dallas-Fort Worth-Arlington, TX MSA   \n",
       "6     1006     Jesusa   Bradford   73  San Francisco-Oakland-Berkeley, CA MSA   \n",
       "7     1007    Eusebio      Welch   42           Grand Rapids-Kentwood, MI MSA   \n",
       "8     1008      Emely    Hoffman   53       Orlando-Kissimmee-Sanford, FL MSA   \n",
       "9     1009      Gerry     Little   19  San Jose-Sunnyvale-Santa Clara, CA MSA   \n",
       "\n",
       "     reg_date      plan  churn_date  \n",
       "0  2018-12-24  ultimate         NaN  \n",
       "1  2018-08-13      surf         NaN  \n",
       "2  2018-10-21      surf         NaN  \n",
       "3  2018-01-28      surf         NaN  \n",
       "4  2018-05-23      surf         NaN  \n",
       "5  2018-11-29      surf         NaN  \n",
       "6  2018-11-27  ultimate  2018-12-18  \n",
       "7  2018-07-11      surf         NaN  \n",
       "8  2018-08-03  ultimate         NaN  \n",
       "9  2018-04-22      surf         NaN  "
      ]
     },
     "execution_count": 160,
     "metadata": {},
     "output_type": "execute_result"
    }
   ],
   "source": [
    "users_df.head(10)"
   ]
  },
  {
   "cell_type": "code",
   "execution_count": 161,
   "metadata": {},
   "outputs": [
    {
     "data": {
      "text/html": [
       "<div>\n",
       "<style scoped>\n",
       "    .dataframe tbody tr th:only-of-type {\n",
       "        vertical-align: middle;\n",
       "    }\n",
       "\n",
       "    .dataframe tbody tr th {\n",
       "        vertical-align: top;\n",
       "    }\n",
       "\n",
       "    .dataframe thead th {\n",
       "        text-align: right;\n",
       "    }\n",
       "</style>\n",
       "<table border=\"1\" class=\"dataframe\">\n",
       "  <thead>\n",
       "    <tr style=\"text-align: right;\">\n",
       "      <th></th>\n",
       "      <th>id</th>\n",
       "      <th>user_id</th>\n",
       "      <th>call_date</th>\n",
       "      <th>duration</th>\n",
       "    </tr>\n",
       "  </thead>\n",
       "  <tbody>\n",
       "    <tr>\n",
       "      <th>0</th>\n",
       "      <td>1000_93</td>\n",
       "      <td>1000</td>\n",
       "      <td>2018-12-27</td>\n",
       "      <td>8.52</td>\n",
       "    </tr>\n",
       "    <tr>\n",
       "      <th>1</th>\n",
       "      <td>1000_145</td>\n",
       "      <td>1000</td>\n",
       "      <td>2018-12-27</td>\n",
       "      <td>13.66</td>\n",
       "    </tr>\n",
       "    <tr>\n",
       "      <th>2</th>\n",
       "      <td>1000_247</td>\n",
       "      <td>1000</td>\n",
       "      <td>2018-12-27</td>\n",
       "      <td>14.48</td>\n",
       "    </tr>\n",
       "    <tr>\n",
       "      <th>3</th>\n",
       "      <td>1000_309</td>\n",
       "      <td>1000</td>\n",
       "      <td>2018-12-28</td>\n",
       "      <td>5.76</td>\n",
       "    </tr>\n",
       "    <tr>\n",
       "      <th>4</th>\n",
       "      <td>1000_380</td>\n",
       "      <td>1000</td>\n",
       "      <td>2018-12-30</td>\n",
       "      <td>4.22</td>\n",
       "    </tr>\n",
       "    <tr>\n",
       "      <th>5</th>\n",
       "      <td>1000_388</td>\n",
       "      <td>1000</td>\n",
       "      <td>2018-12-31</td>\n",
       "      <td>2.20</td>\n",
       "    </tr>\n",
       "    <tr>\n",
       "      <th>6</th>\n",
       "      <td>1000_510</td>\n",
       "      <td>1000</td>\n",
       "      <td>2018-12-27</td>\n",
       "      <td>5.75</td>\n",
       "    </tr>\n",
       "    <tr>\n",
       "      <th>7</th>\n",
       "      <td>1000_521</td>\n",
       "      <td>1000</td>\n",
       "      <td>2018-12-28</td>\n",
       "      <td>14.18</td>\n",
       "    </tr>\n",
       "    <tr>\n",
       "      <th>8</th>\n",
       "      <td>1000_530</td>\n",
       "      <td>1000</td>\n",
       "      <td>2018-12-28</td>\n",
       "      <td>5.77</td>\n",
       "    </tr>\n",
       "    <tr>\n",
       "      <th>9</th>\n",
       "      <td>1000_544</td>\n",
       "      <td>1000</td>\n",
       "      <td>2018-12-26</td>\n",
       "      <td>4.40</td>\n",
       "    </tr>\n",
       "  </tbody>\n",
       "</table>\n",
       "</div>"
      ],
      "text/plain": [
       "         id  user_id   call_date  duration\n",
       "0   1000_93     1000  2018-12-27      8.52\n",
       "1  1000_145     1000  2018-12-27     13.66\n",
       "2  1000_247     1000  2018-12-27     14.48\n",
       "3  1000_309     1000  2018-12-28      5.76\n",
       "4  1000_380     1000  2018-12-30      4.22\n",
       "5  1000_388     1000  2018-12-31      2.20\n",
       "6  1000_510     1000  2018-12-27      5.75\n",
       "7  1000_521     1000  2018-12-28     14.18\n",
       "8  1000_530     1000  2018-12-28      5.77\n",
       "9  1000_544     1000  2018-12-26      4.40"
      ]
     },
     "execution_count": 161,
     "metadata": {},
     "output_type": "execute_result"
    }
   ],
   "source": [
    "calls_df.head(10)"
   ]
  },
  {
   "cell_type": "markdown",
   "metadata": {},
   "source": [
    "### Processing data"
   ]
  },
  {
   "cell_type": "code",
   "execution_count": 162,
   "metadata": {},
   "outputs": [
    {
     "name": "stdout",
     "output_type": "stream",
     "text": [
      "<class 'pandas.core.frame.DataFrame'>\n",
      "RangeIndex: 137735 entries, 0 to 137734\n",
      "Data columns (total 4 columns):\n",
      " #   Column     Non-Null Count   Dtype  \n",
      "---  ------     --------------   -----  \n",
      " 0   id         137735 non-null  object \n",
      " 1   user_id    137735 non-null  int64  \n",
      " 2   call_date  137735 non-null  object \n",
      " 3   duration   137735 non-null  float64\n",
      "dtypes: float64(1), int64(1), object(2)\n",
      "memory usage: 4.2+ MB\n"
     ]
    }
   ],
   "source": [
    "#studying calls dataset\n",
    "calls_df.info()"
   ]
  },
  {
   "cell_type": "code",
   "execution_count": 163,
   "metadata": {},
   "outputs": [],
   "source": [
    "#call_date is converted to datetime format as it helps to easy calculation based on month\n",
    "calls_df['call_date']=pd.to_datetime(calls_df['call_date'],format='%Y-%m-%d')"
   ]
  },
  {
   "cell_type": "code",
   "execution_count": 164,
   "metadata": {},
   "outputs": [],
   "source": [
    "calls_df['month']=pd.DatetimeIndex(calls_df['call_date']).month"
   ]
  },
  {
   "cell_type": "code",
   "execution_count": 165,
   "metadata": {},
   "outputs": [],
   "source": [
    "#each individual call is rounded up using np.ceil: even if the call lasted just one second, it will be counted as one minute.\n",
    "calls_df['rounded_minutes']=calls_df['duration'].apply(np.ceil)"
   ]
  },
  {
   "cell_type": "code",
   "execution_count": 166,
   "metadata": {},
   "outputs": [
    {
     "data": {
      "text/html": [
       "<div>\n",
       "<style scoped>\n",
       "    .dataframe tbody tr th:only-of-type {\n",
       "        vertical-align: middle;\n",
       "    }\n",
       "\n",
       "    .dataframe tbody tr th {\n",
       "        vertical-align: top;\n",
       "    }\n",
       "\n",
       "    .dataframe thead th {\n",
       "        text-align: right;\n",
       "    }\n",
       "</style>\n",
       "<table border=\"1\" class=\"dataframe\">\n",
       "  <thead>\n",
       "    <tr style=\"text-align: right;\">\n",
       "      <th></th>\n",
       "      <th>id</th>\n",
       "      <th>user_id</th>\n",
       "      <th>call_date</th>\n",
       "      <th>duration</th>\n",
       "      <th>month</th>\n",
       "      <th>rounded_minutes</th>\n",
       "    </tr>\n",
       "  </thead>\n",
       "  <tbody>\n",
       "    <tr>\n",
       "      <th>0</th>\n",
       "      <td>1000_93</td>\n",
       "      <td>1000</td>\n",
       "      <td>2018-12-27</td>\n",
       "      <td>8.52</td>\n",
       "      <td>12</td>\n",
       "      <td>9.0</td>\n",
       "    </tr>\n",
       "    <tr>\n",
       "      <th>1</th>\n",
       "      <td>1000_145</td>\n",
       "      <td>1000</td>\n",
       "      <td>2018-12-27</td>\n",
       "      <td>13.66</td>\n",
       "      <td>12</td>\n",
       "      <td>14.0</td>\n",
       "    </tr>\n",
       "    <tr>\n",
       "      <th>2</th>\n",
       "      <td>1000_247</td>\n",
       "      <td>1000</td>\n",
       "      <td>2018-12-27</td>\n",
       "      <td>14.48</td>\n",
       "      <td>12</td>\n",
       "      <td>15.0</td>\n",
       "    </tr>\n",
       "    <tr>\n",
       "      <th>3</th>\n",
       "      <td>1000_309</td>\n",
       "      <td>1000</td>\n",
       "      <td>2018-12-28</td>\n",
       "      <td>5.76</td>\n",
       "      <td>12</td>\n",
       "      <td>6.0</td>\n",
       "    </tr>\n",
       "    <tr>\n",
       "      <th>4</th>\n",
       "      <td>1000_380</td>\n",
       "      <td>1000</td>\n",
       "      <td>2018-12-30</td>\n",
       "      <td>4.22</td>\n",
       "      <td>12</td>\n",
       "      <td>5.0</td>\n",
       "    </tr>\n",
       "    <tr>\n",
       "      <th>5</th>\n",
       "      <td>1000_388</td>\n",
       "      <td>1000</td>\n",
       "      <td>2018-12-31</td>\n",
       "      <td>2.20</td>\n",
       "      <td>12</td>\n",
       "      <td>3.0</td>\n",
       "    </tr>\n",
       "    <tr>\n",
       "      <th>6</th>\n",
       "      <td>1000_510</td>\n",
       "      <td>1000</td>\n",
       "      <td>2018-12-27</td>\n",
       "      <td>5.75</td>\n",
       "      <td>12</td>\n",
       "      <td>6.0</td>\n",
       "    </tr>\n",
       "    <tr>\n",
       "      <th>7</th>\n",
       "      <td>1000_521</td>\n",
       "      <td>1000</td>\n",
       "      <td>2018-12-28</td>\n",
       "      <td>14.18</td>\n",
       "      <td>12</td>\n",
       "      <td>15.0</td>\n",
       "    </tr>\n",
       "    <tr>\n",
       "      <th>8</th>\n",
       "      <td>1000_530</td>\n",
       "      <td>1000</td>\n",
       "      <td>2018-12-28</td>\n",
       "      <td>5.77</td>\n",
       "      <td>12</td>\n",
       "      <td>6.0</td>\n",
       "    </tr>\n",
       "    <tr>\n",
       "      <th>9</th>\n",
       "      <td>1000_544</td>\n",
       "      <td>1000</td>\n",
       "      <td>2018-12-26</td>\n",
       "      <td>4.40</td>\n",
       "      <td>12</td>\n",
       "      <td>5.0</td>\n",
       "    </tr>\n",
       "  </tbody>\n",
       "</table>\n",
       "</div>"
      ],
      "text/plain": [
       "         id  user_id  call_date  duration  month  rounded_minutes\n",
       "0   1000_93     1000 2018-12-27      8.52     12              9.0\n",
       "1  1000_145     1000 2018-12-27     13.66     12             14.0\n",
       "2  1000_247     1000 2018-12-27     14.48     12             15.0\n",
       "3  1000_309     1000 2018-12-28      5.76     12              6.0\n",
       "4  1000_380     1000 2018-12-30      4.22     12              5.0\n",
       "5  1000_388     1000 2018-12-31      2.20     12              3.0\n",
       "6  1000_510     1000 2018-12-27      5.75     12              6.0\n",
       "7  1000_521     1000 2018-12-28     14.18     12             15.0\n",
       "8  1000_530     1000 2018-12-28      5.77     12              6.0\n",
       "9  1000_544     1000 2018-12-26      4.40     12              5.0"
      ]
     },
     "execution_count": 166,
     "metadata": {},
     "output_type": "execute_result"
    }
   ],
   "source": [
    "calls_df.head(10)"
   ]
  },
  {
   "cell_type": "code",
   "execution_count": 167,
   "metadata": {},
   "outputs": [
    {
     "data": {
      "text/plain": [
       "1185    851\n",
       "1028    752\n",
       "1171    716\n",
       "1498    657\n",
       "1214    652\n",
       "       ... \n",
       "1323      3\n",
       "1034      2\n",
       "1108      2\n",
       "1452      1\n",
       "1306      1\n",
       "Name: user_id, Length: 489, dtype: int64"
      ]
     },
     "execution_count": 167,
     "metadata": {},
     "output_type": "execute_result"
    }
   ],
   "source": [
    "#studying internet dataset\n",
    "internet_df['user_id'].value_counts()"
   ]
  },
  {
   "cell_type": "code",
   "execution_count": 168,
   "metadata": {},
   "outputs": [
    {
     "name": "stdout",
     "output_type": "stream",
     "text": [
      "<class 'pandas.core.frame.DataFrame'>\n",
      "RangeIndex: 104825 entries, 0 to 104824\n",
      "Data columns (total 4 columns):\n",
      " #   Column        Non-Null Count   Dtype  \n",
      "---  ------        --------------   -----  \n",
      " 0   id            104825 non-null  object \n",
      " 1   user_id       104825 non-null  int64  \n",
      " 2   session_date  104825 non-null  object \n",
      " 3   mb_used       104825 non-null  float64\n",
      "dtypes: float64(1), int64(1), object(2)\n",
      "memory usage: 3.2+ MB\n"
     ]
    }
   ],
   "source": [
    "internet_df.info()"
   ]
  },
  {
   "cell_type": "code",
   "execution_count": 169,
   "metadata": {},
   "outputs": [
    {
     "name": "stdout",
     "output_type": "stream",
     "text": [
      "<class 'pandas.core.frame.DataFrame'>\n",
      "RangeIndex: 104825 entries, 0 to 104824\n",
      "Data columns (total 4 columns):\n",
      " #   Column        Non-Null Count   Dtype         \n",
      "---  ------        --------------   -----         \n",
      " 0   id            104825 non-null  object        \n",
      " 1   user_id       104825 non-null  int64         \n",
      " 2   session_date  104825 non-null  datetime64[ns]\n",
      " 3   mb_used       104825 non-null  float64       \n",
      "dtypes: datetime64[ns](1), float64(1), int64(1), object(1)\n",
      "memory usage: 3.2+ MB\n"
     ]
    }
   ],
   "source": [
    "#session_date is converted to datetime format as it helps to easy calculation based on month\n",
    "internet_df['session_date']=pd.to_datetime(internet_df['session_date'],format='%Y-%m-%d')\n",
    "internet_df.info()"
   ]
  },
  {
   "cell_type": "code",
   "execution_count": 170,
   "metadata": {},
   "outputs": [],
   "source": [
    "internet_df['month']=pd.DatetimeIndex(internet_df['session_date']).month"
   ]
  },
  {
   "cell_type": "code",
   "execution_count": 171,
   "metadata": {},
   "outputs": [
    {
     "data": {
      "text/html": [
       "<div>\n",
       "<style scoped>\n",
       "    .dataframe tbody tr th:only-of-type {\n",
       "        vertical-align: middle;\n",
       "    }\n",
       "\n",
       "    .dataframe tbody tr th {\n",
       "        vertical-align: top;\n",
       "    }\n",
       "\n",
       "    .dataframe thead th {\n",
       "        text-align: right;\n",
       "    }\n",
       "</style>\n",
       "<table border=\"1\" class=\"dataframe\">\n",
       "  <thead>\n",
       "    <tr style=\"text-align: right;\">\n",
       "      <th></th>\n",
       "      <th>id</th>\n",
       "      <th>user_id</th>\n",
       "      <th>session_date</th>\n",
       "      <th>mb_used</th>\n",
       "      <th>month</th>\n",
       "    </tr>\n",
       "  </thead>\n",
       "  <tbody>\n",
       "    <tr>\n",
       "      <th>0</th>\n",
       "      <td>1000_13</td>\n",
       "      <td>1000</td>\n",
       "      <td>2018-12-29</td>\n",
       "      <td>89.86</td>\n",
       "      <td>12</td>\n",
       "    </tr>\n",
       "    <tr>\n",
       "      <th>1</th>\n",
       "      <td>1000_204</td>\n",
       "      <td>1000</td>\n",
       "      <td>2018-12-31</td>\n",
       "      <td>0.00</td>\n",
       "      <td>12</td>\n",
       "    </tr>\n",
       "    <tr>\n",
       "      <th>2</th>\n",
       "      <td>1000_379</td>\n",
       "      <td>1000</td>\n",
       "      <td>2018-12-28</td>\n",
       "      <td>660.40</td>\n",
       "      <td>12</td>\n",
       "    </tr>\n",
       "    <tr>\n",
       "      <th>3</th>\n",
       "      <td>1000_413</td>\n",
       "      <td>1000</td>\n",
       "      <td>2018-12-26</td>\n",
       "      <td>270.99</td>\n",
       "      <td>12</td>\n",
       "    </tr>\n",
       "    <tr>\n",
       "      <th>4</th>\n",
       "      <td>1000_442</td>\n",
       "      <td>1000</td>\n",
       "      <td>2018-12-27</td>\n",
       "      <td>880.22</td>\n",
       "      <td>12</td>\n",
       "    </tr>\n",
       "    <tr>\n",
       "      <th>5</th>\n",
       "      <td>1001_0</td>\n",
       "      <td>1001</td>\n",
       "      <td>2018-08-24</td>\n",
       "      <td>284.68</td>\n",
       "      <td>8</td>\n",
       "    </tr>\n",
       "    <tr>\n",
       "      <th>6</th>\n",
       "      <td>1001_3</td>\n",
       "      <td>1001</td>\n",
       "      <td>2018-12-09</td>\n",
       "      <td>656.04</td>\n",
       "      <td>12</td>\n",
       "    </tr>\n",
       "    <tr>\n",
       "      <th>7</th>\n",
       "      <td>1001_4</td>\n",
       "      <td>1001</td>\n",
       "      <td>2018-11-04</td>\n",
       "      <td>16.97</td>\n",
       "      <td>11</td>\n",
       "    </tr>\n",
       "    <tr>\n",
       "      <th>8</th>\n",
       "      <td>1001_10</td>\n",
       "      <td>1001</td>\n",
       "      <td>2018-11-27</td>\n",
       "      <td>135.18</td>\n",
       "      <td>11</td>\n",
       "    </tr>\n",
       "    <tr>\n",
       "      <th>9</th>\n",
       "      <td>1001_15</td>\n",
       "      <td>1001</td>\n",
       "      <td>2018-12-13</td>\n",
       "      <td>761.92</td>\n",
       "      <td>12</td>\n",
       "    </tr>\n",
       "  </tbody>\n",
       "</table>\n",
       "</div>"
      ],
      "text/plain": [
       "         id  user_id session_date  mb_used  month\n",
       "0   1000_13     1000   2018-12-29    89.86     12\n",
       "1  1000_204     1000   2018-12-31     0.00     12\n",
       "2  1000_379     1000   2018-12-28   660.40     12\n",
       "3  1000_413     1000   2018-12-26   270.99     12\n",
       "4  1000_442     1000   2018-12-27   880.22     12\n",
       "5    1001_0     1001   2018-08-24   284.68      8\n",
       "6    1001_3     1001   2018-12-09   656.04     12\n",
       "7    1001_4     1001   2018-11-04    16.97     11\n",
       "8   1001_10     1001   2018-11-27   135.18     11\n",
       "9   1001_15     1001   2018-12-13   761.92     12"
      ]
     },
     "execution_count": 171,
     "metadata": {},
     "output_type": "execute_result"
    }
   ],
   "source": [
    "internet_df.head(10)"
   ]
  },
  {
   "cell_type": "code",
   "execution_count": 172,
   "metadata": {},
   "outputs": [
    {
     "name": "stdout",
     "output_type": "stream",
     "text": [
      "<class 'pandas.core.frame.DataFrame'>\n",
      "RangeIndex: 500 entries, 0 to 499\n",
      "Data columns (total 8 columns):\n",
      " #   Column      Non-Null Count  Dtype \n",
      "---  ------      --------------  ----- \n",
      " 0   user_id     500 non-null    int64 \n",
      " 1   first_name  500 non-null    object\n",
      " 2   last_name   500 non-null    object\n",
      " 3   age         500 non-null    int64 \n",
      " 4   city        500 non-null    object\n",
      " 5   reg_date    500 non-null    object\n",
      " 6   plan        500 non-null    object\n",
      " 7   churn_date  34 non-null     object\n",
      "dtypes: int64(2), object(6)\n",
      "memory usage: 31.4+ KB\n"
     ]
    }
   ],
   "source": [
    "#studying users dataset\n",
    "users_df.info()"
   ]
  },
  {
   "cell_type": "markdown",
   "metadata": {},
   "source": [
    "**Missing values in each dataset**"
   ]
  },
  {
   "cell_type": "code",
   "execution_count": 173,
   "metadata": {},
   "outputs": [
    {
     "data": {
      "text/plain": [
       "user_id         0\n",
       "first_name      0\n",
       "last_name       0\n",
       "age             0\n",
       "city            0\n",
       "reg_date        0\n",
       "plan            0\n",
       "churn_date    466\n",
       "dtype: int64"
      ]
     },
     "execution_count": 173,
     "metadata": {},
     "output_type": "execute_result"
    }
   ],
   "source": [
    "users_df.isna().sum()"
   ]
  },
  {
   "cell_type": "markdown",
   "metadata": {},
   "source": [
    "**Missing values detected in 'churn_date' column of users_df.** "
   ]
  },
  {
   "cell_type": "code",
   "execution_count": 174,
   "metadata": {},
   "outputs": [
    {
     "name": "stdout",
     "output_type": "stream",
     "text": [
      "<class 'pandas.core.frame.DataFrame'>\n",
      "RangeIndex: 76051 entries, 0 to 76050\n",
      "Data columns (total 3 columns):\n",
      " #   Column        Non-Null Count  Dtype \n",
      "---  ------        --------------  ----- \n",
      " 0   id            76051 non-null  object\n",
      " 1   user_id       76051 non-null  int64 \n",
      " 2   message_date  76051 non-null  object\n",
      "dtypes: int64(1), object(2)\n",
      "memory usage: 1.7+ MB\n"
     ]
    }
   ],
   "source": [
    "#studying messages\n",
    "messages_df.info()"
   ]
  },
  {
   "cell_type": "code",
   "execution_count": 175,
   "metadata": {},
   "outputs": [],
   "source": [
    "#message_date is converted to datetime format as it helps to easy calculation based on month\n",
    "messages_df['message_date']=pd.to_datetime(messages_df['message_date'],format='%Y-%m-%d')"
   ]
  },
  {
   "cell_type": "code",
   "execution_count": 176,
   "metadata": {},
   "outputs": [],
   "source": [
    "messages_df['month']=pd.DatetimeIndex(messages_df['message_date']).month"
   ]
  },
  {
   "cell_type": "code",
   "execution_count": 177,
   "metadata": {},
   "outputs": [
    {
     "data": {
      "text/plain": [
       "id              0\n",
       "user_id         0\n",
       "message_date    0\n",
       "month           0\n",
       "dtype: int64"
      ]
     },
     "execution_count": 177,
     "metadata": {},
     "output_type": "execute_result"
    }
   ],
   "source": [
    "messages_df.isna().sum()"
   ]
  },
  {
   "cell_type": "markdown",
   "metadata": {},
   "source": [
    "**No missing values observed in messages_df**"
   ]
  },
  {
   "cell_type": "code",
   "execution_count": 178,
   "metadata": {},
   "outputs": [
    {
     "name": "stdout",
     "output_type": "stream",
     "text": [
      "<class 'pandas.core.frame.DataFrame'>\n",
      "RangeIndex: 137735 entries, 0 to 137734\n",
      "Data columns (total 6 columns):\n",
      " #   Column           Non-Null Count   Dtype         \n",
      "---  ------           --------------   -----         \n",
      " 0   id               137735 non-null  object        \n",
      " 1   user_id          137735 non-null  int64         \n",
      " 2   call_date        137735 non-null  datetime64[ns]\n",
      " 3   duration         137735 non-null  float64       \n",
      " 4   month            137735 non-null  int64         \n",
      " 5   rounded_minutes  137735 non-null  float64       \n",
      "dtypes: datetime64[ns](1), float64(2), int64(2), object(1)\n",
      "memory usage: 6.3+ MB\n"
     ]
    }
   ],
   "source": [
    "calls_df.info()"
   ]
  },
  {
   "cell_type": "code",
   "execution_count": 179,
   "metadata": {},
   "outputs": [
    {
     "data": {
      "text/plain": [
       "id                 0\n",
       "user_id            0\n",
       "call_date          0\n",
       "duration           0\n",
       "month              0\n",
       "rounded_minutes    0\n",
       "dtype: int64"
      ]
     },
     "execution_count": 179,
     "metadata": {},
     "output_type": "execute_result"
    }
   ],
   "source": [
    "calls_df.isna().sum()"
   ]
  },
  {
   "cell_type": "markdown",
   "metadata": {},
   "source": [
    "**No missing values observed in calls_df**"
   ]
  },
  {
   "cell_type": "code",
   "execution_count": 180,
   "metadata": {},
   "outputs": [
    {
     "name": "stdout",
     "output_type": "stream",
     "text": [
      "<class 'pandas.core.frame.DataFrame'>\n",
      "RangeIndex: 104825 entries, 0 to 104824\n",
      "Data columns (total 5 columns):\n",
      " #   Column        Non-Null Count   Dtype         \n",
      "---  ------        --------------   -----         \n",
      " 0   id            104825 non-null  object        \n",
      " 1   user_id       104825 non-null  int64         \n",
      " 2   session_date  104825 non-null  datetime64[ns]\n",
      " 3   mb_used       104825 non-null  float64       \n",
      " 4   month         104825 non-null  int64         \n",
      "dtypes: datetime64[ns](1), float64(1), int64(2), object(1)\n",
      "memory usage: 4.0+ MB\n"
     ]
    }
   ],
   "source": [
    "internet_df.info()"
   ]
  },
  {
   "cell_type": "code",
   "execution_count": 181,
   "metadata": {},
   "outputs": [
    {
     "data": {
      "text/plain": [
       "id              0\n",
       "user_id         0\n",
       "session_date    0\n",
       "mb_used         0\n",
       "month           0\n",
       "dtype: int64"
      ]
     },
     "execution_count": 181,
     "metadata": {},
     "output_type": "execute_result"
    }
   ],
   "source": [
    "internet_df.isna().sum()"
   ]
  },
  {
   "cell_type": "markdown",
   "metadata": {},
   "source": [
    "**No missing values observed in internet_df**"
   ]
  },
  {
   "cell_type": "code",
   "execution_count": 182,
   "metadata": {},
   "outputs": [
    {
     "data": {
      "text/html": [
       "<div>\n",
       "<style scoped>\n",
       "    .dataframe tbody tr th:only-of-type {\n",
       "        vertical-align: middle;\n",
       "    }\n",
       "\n",
       "    .dataframe tbody tr th {\n",
       "        vertical-align: top;\n",
       "    }\n",
       "\n",
       "    .dataframe thead th {\n",
       "        text-align: right;\n",
       "    }\n",
       "</style>\n",
       "<table border=\"1\" class=\"dataframe\">\n",
       "  <thead>\n",
       "    <tr style=\"text-align: right;\">\n",
       "      <th></th>\n",
       "      <th>user_id</th>\n",
       "      <th>first_name</th>\n",
       "      <th>last_name</th>\n",
       "      <th>age</th>\n",
       "      <th>city</th>\n",
       "      <th>reg_date</th>\n",
       "      <th>plan</th>\n",
       "      <th>churn_date</th>\n",
       "    </tr>\n",
       "  </thead>\n",
       "  <tbody>\n",
       "    <tr>\n",
       "      <th>0</th>\n",
       "      <td>1000</td>\n",
       "      <td>Anamaria</td>\n",
       "      <td>Bauer</td>\n",
       "      <td>45</td>\n",
       "      <td>Atlanta-Sandy Springs-Roswell, GA MSA</td>\n",
       "      <td>2018-12-24</td>\n",
       "      <td>ultimate</td>\n",
       "      <td>NaN</td>\n",
       "    </tr>\n",
       "    <tr>\n",
       "      <th>1</th>\n",
       "      <td>1001</td>\n",
       "      <td>Mickey</td>\n",
       "      <td>Wilkerson</td>\n",
       "      <td>28</td>\n",
       "      <td>Seattle-Tacoma-Bellevue, WA MSA</td>\n",
       "      <td>2018-08-13</td>\n",
       "      <td>surf</td>\n",
       "      <td>NaN</td>\n",
       "    </tr>\n",
       "    <tr>\n",
       "      <th>2</th>\n",
       "      <td>1002</td>\n",
       "      <td>Carlee</td>\n",
       "      <td>Hoffman</td>\n",
       "      <td>36</td>\n",
       "      <td>Las Vegas-Henderson-Paradise, NV MSA</td>\n",
       "      <td>2018-10-21</td>\n",
       "      <td>surf</td>\n",
       "      <td>NaN</td>\n",
       "    </tr>\n",
       "    <tr>\n",
       "      <th>3</th>\n",
       "      <td>1003</td>\n",
       "      <td>Reynaldo</td>\n",
       "      <td>Jenkins</td>\n",
       "      <td>52</td>\n",
       "      <td>Tulsa, OK MSA</td>\n",
       "      <td>2018-01-28</td>\n",
       "      <td>surf</td>\n",
       "      <td>NaN</td>\n",
       "    </tr>\n",
       "    <tr>\n",
       "      <th>4</th>\n",
       "      <td>1004</td>\n",
       "      <td>Leonila</td>\n",
       "      <td>Thompson</td>\n",
       "      <td>40</td>\n",
       "      <td>Seattle-Tacoma-Bellevue, WA MSA</td>\n",
       "      <td>2018-05-23</td>\n",
       "      <td>surf</td>\n",
       "      <td>NaN</td>\n",
       "    </tr>\n",
       "    <tr>\n",
       "      <th>5</th>\n",
       "      <td>1005</td>\n",
       "      <td>Livia</td>\n",
       "      <td>Shields</td>\n",
       "      <td>31</td>\n",
       "      <td>Dallas-Fort Worth-Arlington, TX MSA</td>\n",
       "      <td>2018-11-29</td>\n",
       "      <td>surf</td>\n",
       "      <td>NaN</td>\n",
       "    </tr>\n",
       "    <tr>\n",
       "      <th>6</th>\n",
       "      <td>1006</td>\n",
       "      <td>Jesusa</td>\n",
       "      <td>Bradford</td>\n",
       "      <td>73</td>\n",
       "      <td>San Francisco-Oakland-Berkeley, CA MSA</td>\n",
       "      <td>2018-11-27</td>\n",
       "      <td>ultimate</td>\n",
       "      <td>2018-12-18</td>\n",
       "    </tr>\n",
       "    <tr>\n",
       "      <th>7</th>\n",
       "      <td>1007</td>\n",
       "      <td>Eusebio</td>\n",
       "      <td>Welch</td>\n",
       "      <td>42</td>\n",
       "      <td>Grand Rapids-Kentwood, MI MSA</td>\n",
       "      <td>2018-07-11</td>\n",
       "      <td>surf</td>\n",
       "      <td>NaN</td>\n",
       "    </tr>\n",
       "    <tr>\n",
       "      <th>8</th>\n",
       "      <td>1008</td>\n",
       "      <td>Emely</td>\n",
       "      <td>Hoffman</td>\n",
       "      <td>53</td>\n",
       "      <td>Orlando-Kissimmee-Sanford, FL MSA</td>\n",
       "      <td>2018-08-03</td>\n",
       "      <td>ultimate</td>\n",
       "      <td>NaN</td>\n",
       "    </tr>\n",
       "    <tr>\n",
       "      <th>9</th>\n",
       "      <td>1009</td>\n",
       "      <td>Gerry</td>\n",
       "      <td>Little</td>\n",
       "      <td>19</td>\n",
       "      <td>San Jose-Sunnyvale-Santa Clara, CA MSA</td>\n",
       "      <td>2018-04-22</td>\n",
       "      <td>surf</td>\n",
       "      <td>NaN</td>\n",
       "    </tr>\n",
       "  </tbody>\n",
       "</table>\n",
       "</div>"
      ],
      "text/plain": [
       "   user_id first_name  last_name  age                                    city  \\\n",
       "0     1000   Anamaria      Bauer   45   Atlanta-Sandy Springs-Roswell, GA MSA   \n",
       "1     1001     Mickey  Wilkerson   28         Seattle-Tacoma-Bellevue, WA MSA   \n",
       "2     1002     Carlee    Hoffman   36    Las Vegas-Henderson-Paradise, NV MSA   \n",
       "3     1003   Reynaldo    Jenkins   52                           Tulsa, OK MSA   \n",
       "4     1004    Leonila   Thompson   40         Seattle-Tacoma-Bellevue, WA MSA   \n",
       "5     1005      Livia    Shields   31     Dallas-Fort Worth-Arlington, TX MSA   \n",
       "6     1006     Jesusa   Bradford   73  San Francisco-Oakland-Berkeley, CA MSA   \n",
       "7     1007    Eusebio      Welch   42           Grand Rapids-Kentwood, MI MSA   \n",
       "8     1008      Emely    Hoffman   53       Orlando-Kissimmee-Sanford, FL MSA   \n",
       "9     1009      Gerry     Little   19  San Jose-Sunnyvale-Santa Clara, CA MSA   \n",
       "\n",
       "     reg_date      plan  churn_date  \n",
       "0  2018-12-24  ultimate         NaN  \n",
       "1  2018-08-13      surf         NaN  \n",
       "2  2018-10-21      surf         NaN  \n",
       "3  2018-01-28      surf         NaN  \n",
       "4  2018-05-23      surf         NaN  \n",
       "5  2018-11-29      surf         NaN  \n",
       "6  2018-11-27  ultimate  2018-12-18  \n",
       "7  2018-07-11      surf         NaN  \n",
       "8  2018-08-03  ultimate         NaN  \n",
       "9  2018-04-22      surf         NaN  "
      ]
     },
     "execution_count": 182,
     "metadata": {},
     "output_type": "execute_result"
    }
   ],
   "source": [
    "#Workng with missing values in users_df\n",
    "users_df.head(10)"
   ]
  },
  {
   "cell_type": "code",
   "execution_count": 183,
   "metadata": {},
   "outputs": [
    {
     "name": "stdout",
     "output_type": "stream",
     "text": [
      "<class 'pandas.core.frame.DataFrame'>\n",
      "RangeIndex: 500 entries, 0 to 499\n",
      "Data columns (total 8 columns):\n",
      " #   Column      Non-Null Count  Dtype \n",
      "---  ------      --------------  ----- \n",
      " 0   user_id     500 non-null    int64 \n",
      " 1   first_name  500 non-null    object\n",
      " 2   last_name   500 non-null    object\n",
      " 3   age         500 non-null    int64 \n",
      " 4   city        500 non-null    object\n",
      " 5   reg_date    500 non-null    object\n",
      " 6   plan        500 non-null    object\n",
      " 7   churn_date  34 non-null     object\n",
      "dtypes: int64(2), object(6)\n",
      "memory usage: 31.4+ KB\n"
     ]
    }
   ],
   "source": [
    "users_df.info()"
   ]
  },
  {
   "cell_type": "code",
   "execution_count": 184,
   "metadata": {},
   "outputs": [],
   "source": [
    "#missing values in churn_date means plan is still in use.we created new column that takes boolean to make it easy\n",
    "users_df['plan_in_use']=pd.isnull(users_df['churn_date'])"
   ]
  },
  {
   "cell_type": "code",
   "execution_count": 185,
   "metadata": {},
   "outputs": [
    {
     "data": {
      "text/html": [
       "<div>\n",
       "<style scoped>\n",
       "    .dataframe tbody tr th:only-of-type {\n",
       "        vertical-align: middle;\n",
       "    }\n",
       "\n",
       "    .dataframe tbody tr th {\n",
       "        vertical-align: top;\n",
       "    }\n",
       "\n",
       "    .dataframe thead th {\n",
       "        text-align: right;\n",
       "    }\n",
       "</style>\n",
       "<table border=\"1\" class=\"dataframe\">\n",
       "  <thead>\n",
       "    <tr style=\"text-align: right;\">\n",
       "      <th></th>\n",
       "      <th>user_id</th>\n",
       "      <th>first_name</th>\n",
       "      <th>last_name</th>\n",
       "      <th>age</th>\n",
       "      <th>city</th>\n",
       "      <th>reg_date</th>\n",
       "      <th>plan</th>\n",
       "      <th>churn_date</th>\n",
       "      <th>plan_in_use</th>\n",
       "    </tr>\n",
       "  </thead>\n",
       "  <tbody>\n",
       "    <tr>\n",
       "      <th>6</th>\n",
       "      <td>1006</td>\n",
       "      <td>Jesusa</td>\n",
       "      <td>Bradford</td>\n",
       "      <td>73</td>\n",
       "      <td>San Francisco-Oakland-Berkeley, CA MSA</td>\n",
       "      <td>2018-11-27</td>\n",
       "      <td>ultimate</td>\n",
       "      <td>2018-12-18</td>\n",
       "      <td>False</td>\n",
       "    </tr>\n",
       "    <tr>\n",
       "      <th>12</th>\n",
       "      <td>1012</td>\n",
       "      <td>Jonelle</td>\n",
       "      <td>Mcbride</td>\n",
       "      <td>59</td>\n",
       "      <td>Chicago-Naperville-Elgin, IL-IN-WI MSA</td>\n",
       "      <td>2018-06-28</td>\n",
       "      <td>surf</td>\n",
       "      <td>2018-11-16</td>\n",
       "      <td>False</td>\n",
       "    </tr>\n",
       "    <tr>\n",
       "      <th>22</th>\n",
       "      <td>1022</td>\n",
       "      <td>Bo</td>\n",
       "      <td>Snow</td>\n",
       "      <td>73</td>\n",
       "      <td>New York-Newark-Jersey City, NY-NJ-PA MSA</td>\n",
       "      <td>2018-04-20</td>\n",
       "      <td>surf</td>\n",
       "      <td>2018-09-07</td>\n",
       "      <td>False</td>\n",
       "    </tr>\n",
       "    <tr>\n",
       "      <th>40</th>\n",
       "      <td>1040</td>\n",
       "      <td>Paris</td>\n",
       "      <td>Santos</td>\n",
       "      <td>72</td>\n",
       "      <td>Philadelphia-Camden-Wilmington, PA-NJ-DE-MD MSA</td>\n",
       "      <td>2018-12-23</td>\n",
       "      <td>surf</td>\n",
       "      <td>2018-12-30</td>\n",
       "      <td>False</td>\n",
       "    </tr>\n",
       "    <tr>\n",
       "      <th>50</th>\n",
       "      <td>1050</td>\n",
       "      <td>Jone</td>\n",
       "      <td>Owen</td>\n",
       "      <td>23</td>\n",
       "      <td>Miami-Fort Lauderdale-West Palm Beach, FL MSA</td>\n",
       "      <td>2018-03-20</td>\n",
       "      <td>ultimate</td>\n",
       "      <td>2018-10-07</td>\n",
       "      <td>False</td>\n",
       "    </tr>\n",
       "    <tr>\n",
       "      <th>54</th>\n",
       "      <td>1054</td>\n",
       "      <td>Denis</td>\n",
       "      <td>Frost</td>\n",
       "      <td>50</td>\n",
       "      <td>Phoenix-Mesa-Chandler, AZ MSA</td>\n",
       "      <td>2018-04-21</td>\n",
       "      <td>surf</td>\n",
       "      <td>2018-12-31</td>\n",
       "      <td>False</td>\n",
       "    </tr>\n",
       "    <tr>\n",
       "      <th>67</th>\n",
       "      <td>1067</td>\n",
       "      <td>Robt</td>\n",
       "      <td>Allen</td>\n",
       "      <td>37</td>\n",
       "      <td>Grand Rapids-Kentwood, MI MSA</td>\n",
       "      <td>2018-09-24</td>\n",
       "      <td>surf</td>\n",
       "      <td>2018-11-24</td>\n",
       "      <td>False</td>\n",
       "    </tr>\n",
       "    <tr>\n",
       "      <th>83</th>\n",
       "      <td>1083</td>\n",
       "      <td>Lyndia</td>\n",
       "      <td>Acevedo</td>\n",
       "      <td>65</td>\n",
       "      <td>Los Angeles-Long Beach-Anaheim, CA MSA</td>\n",
       "      <td>2018-10-26</td>\n",
       "      <td>surf</td>\n",
       "      <td>2018-12-18</td>\n",
       "      <td>False</td>\n",
       "    </tr>\n",
       "    <tr>\n",
       "      <th>84</th>\n",
       "      <td>1084</td>\n",
       "      <td>Wiley</td>\n",
       "      <td>Mckinney</td>\n",
       "      <td>21</td>\n",
       "      <td>Miami-Fort Lauderdale-West Palm Beach, FL MSA</td>\n",
       "      <td>2018-06-04</td>\n",
       "      <td>surf</td>\n",
       "      <td>2018-11-11</td>\n",
       "      <td>False</td>\n",
       "    </tr>\n",
       "    <tr>\n",
       "      <th>94</th>\n",
       "      <td>1094</td>\n",
       "      <td>Walter</td>\n",
       "      <td>Petersen</td>\n",
       "      <td>54</td>\n",
       "      <td>Los Angeles-Long Beach-Anaheim, CA MSA</td>\n",
       "      <td>2018-10-30</td>\n",
       "      <td>surf</td>\n",
       "      <td>2018-12-12</td>\n",
       "      <td>False</td>\n",
       "    </tr>\n",
       "  </tbody>\n",
       "</table>\n",
       "</div>"
      ],
      "text/plain": [
       "    user_id first_name last_name  age  \\\n",
       "6      1006     Jesusa  Bradford   73   \n",
       "12     1012    Jonelle   Mcbride   59   \n",
       "22     1022         Bo      Snow   73   \n",
       "40     1040      Paris    Santos   72   \n",
       "50     1050       Jone      Owen   23   \n",
       "54     1054      Denis     Frost   50   \n",
       "67     1067       Robt     Allen   37   \n",
       "83     1083     Lyndia   Acevedo   65   \n",
       "84     1084      Wiley  Mckinney   21   \n",
       "94     1094     Walter  Petersen   54   \n",
       "\n",
       "                                               city    reg_date      plan  \\\n",
       "6            San Francisco-Oakland-Berkeley, CA MSA  2018-11-27  ultimate   \n",
       "12           Chicago-Naperville-Elgin, IL-IN-WI MSA  2018-06-28      surf   \n",
       "22        New York-Newark-Jersey City, NY-NJ-PA MSA  2018-04-20      surf   \n",
       "40  Philadelphia-Camden-Wilmington, PA-NJ-DE-MD MSA  2018-12-23      surf   \n",
       "50    Miami-Fort Lauderdale-West Palm Beach, FL MSA  2018-03-20  ultimate   \n",
       "54                    Phoenix-Mesa-Chandler, AZ MSA  2018-04-21      surf   \n",
       "67                    Grand Rapids-Kentwood, MI MSA  2018-09-24      surf   \n",
       "83           Los Angeles-Long Beach-Anaheim, CA MSA  2018-10-26      surf   \n",
       "84    Miami-Fort Lauderdale-West Palm Beach, FL MSA  2018-06-04      surf   \n",
       "94           Los Angeles-Long Beach-Anaheim, CA MSA  2018-10-30      surf   \n",
       "\n",
       "    churn_date  plan_in_use  \n",
       "6   2018-12-18        False  \n",
       "12  2018-11-16        False  \n",
       "22  2018-09-07        False  \n",
       "40  2018-12-30        False  \n",
       "50  2018-10-07        False  \n",
       "54  2018-12-31        False  \n",
       "67  2018-11-24        False  \n",
       "83  2018-12-18        False  \n",
       "84  2018-11-11        False  \n",
       "94  2018-12-12        False  "
      ]
     },
     "execution_count": 185,
     "metadata": {},
     "output_type": "execute_result"
    }
   ],
   "source": [
    "users_df[users_df['plan_in_use']==False].head(10)"
   ]
  },
  {
   "cell_type": "code",
   "execution_count": 186,
   "metadata": {},
   "outputs": [
    {
     "data": {
      "text/html": [
       "<div>\n",
       "<style scoped>\n",
       "    .dataframe tbody tr th:only-of-type {\n",
       "        vertical-align: middle;\n",
       "    }\n",
       "\n",
       "    .dataframe tbody tr th {\n",
       "        vertical-align: top;\n",
       "    }\n",
       "\n",
       "    .dataframe thead th {\n",
       "        text-align: right;\n",
       "    }\n",
       "</style>\n",
       "<table border=\"1\" class=\"dataframe\">\n",
       "  <thead>\n",
       "    <tr style=\"text-align: right;\">\n",
       "      <th></th>\n",
       "      <th>user_id</th>\n",
       "      <th>first_name</th>\n",
       "      <th>last_name</th>\n",
       "      <th>age</th>\n",
       "      <th>city</th>\n",
       "      <th>reg_date</th>\n",
       "      <th>plan</th>\n",
       "      <th>churn_date</th>\n",
       "      <th>plan_in_use</th>\n",
       "    </tr>\n",
       "  </thead>\n",
       "  <tbody>\n",
       "    <tr>\n",
       "      <th>490</th>\n",
       "      <td>1490</td>\n",
       "      <td>Shane</td>\n",
       "      <td>Cortez</td>\n",
       "      <td>42</td>\n",
       "      <td>Sacramento–Roseville–Folsom, CA MSA</td>\n",
       "      <td>2018-01-20</td>\n",
       "      <td>ultimate</td>\n",
       "      <td>NaN</td>\n",
       "      <td>True</td>\n",
       "    </tr>\n",
       "    <tr>\n",
       "      <th>491</th>\n",
       "      <td>1491</td>\n",
       "      <td>Terina</td>\n",
       "      <td>Jensen</td>\n",
       "      <td>22</td>\n",
       "      <td>Grand Rapids-Kentwood, MI MSA</td>\n",
       "      <td>2018-04-27</td>\n",
       "      <td>surf</td>\n",
       "      <td>2018-09-18</td>\n",
       "      <td>False</td>\n",
       "    </tr>\n",
       "    <tr>\n",
       "      <th>492</th>\n",
       "      <td>1492</td>\n",
       "      <td>Elvie</td>\n",
       "      <td>Jones</td>\n",
       "      <td>63</td>\n",
       "      <td>Portland-Vancouver-Hillsboro, OR-WA MSA</td>\n",
       "      <td>2018-03-07</td>\n",
       "      <td>surf</td>\n",
       "      <td>NaN</td>\n",
       "      <td>True</td>\n",
       "    </tr>\n",
       "    <tr>\n",
       "      <th>493</th>\n",
       "      <td>1493</td>\n",
       "      <td>Cicely</td>\n",
       "      <td>Wynn</td>\n",
       "      <td>18</td>\n",
       "      <td>Boston-Cambridge-Newton, MA-NH MSA</td>\n",
       "      <td>2018-03-06</td>\n",
       "      <td>ultimate</td>\n",
       "      <td>NaN</td>\n",
       "      <td>True</td>\n",
       "    </tr>\n",
       "    <tr>\n",
       "      <th>494</th>\n",
       "      <td>1494</td>\n",
       "      <td>Preston</td>\n",
       "      <td>Downs</td>\n",
       "      <td>70</td>\n",
       "      <td>New York-Newark-Jersey City, NY-NJ-PA MSA</td>\n",
       "      <td>2018-04-19</td>\n",
       "      <td>surf</td>\n",
       "      <td>NaN</td>\n",
       "      <td>True</td>\n",
       "    </tr>\n",
       "    <tr>\n",
       "      <th>495</th>\n",
       "      <td>1495</td>\n",
       "      <td>Fidel</td>\n",
       "      <td>Sharpe</td>\n",
       "      <td>67</td>\n",
       "      <td>New York-Newark-Jersey City, NY-NJ-PA MSA</td>\n",
       "      <td>2018-09-04</td>\n",
       "      <td>surf</td>\n",
       "      <td>NaN</td>\n",
       "      <td>True</td>\n",
       "    </tr>\n",
       "    <tr>\n",
       "      <th>496</th>\n",
       "      <td>1496</td>\n",
       "      <td>Ariel</td>\n",
       "      <td>Shepherd</td>\n",
       "      <td>49</td>\n",
       "      <td>New Orleans-Metairie, LA MSA</td>\n",
       "      <td>2018-02-20</td>\n",
       "      <td>surf</td>\n",
       "      <td>NaN</td>\n",
       "      <td>True</td>\n",
       "    </tr>\n",
       "    <tr>\n",
       "      <th>497</th>\n",
       "      <td>1497</td>\n",
       "      <td>Donte</td>\n",
       "      <td>Barrera</td>\n",
       "      <td>49</td>\n",
       "      <td>Los Angeles-Long Beach-Anaheim, CA MSA</td>\n",
       "      <td>2018-12-10</td>\n",
       "      <td>ultimate</td>\n",
       "      <td>NaN</td>\n",
       "      <td>True</td>\n",
       "    </tr>\n",
       "    <tr>\n",
       "      <th>498</th>\n",
       "      <td>1498</td>\n",
       "      <td>Scot</td>\n",
       "      <td>Williamson</td>\n",
       "      <td>51</td>\n",
       "      <td>New York-Newark-Jersey City, NY-NJ-PA MSA</td>\n",
       "      <td>2018-02-04</td>\n",
       "      <td>surf</td>\n",
       "      <td>NaN</td>\n",
       "      <td>True</td>\n",
       "    </tr>\n",
       "    <tr>\n",
       "      <th>499</th>\n",
       "      <td>1499</td>\n",
       "      <td>Shena</td>\n",
       "      <td>Dickson</td>\n",
       "      <td>37</td>\n",
       "      <td>Orlando-Kissimmee-Sanford, FL MSA</td>\n",
       "      <td>2018-05-06</td>\n",
       "      <td>surf</td>\n",
       "      <td>NaN</td>\n",
       "      <td>True</td>\n",
       "    </tr>\n",
       "  </tbody>\n",
       "</table>\n",
       "</div>"
      ],
      "text/plain": [
       "     user_id first_name   last_name  age  \\\n",
       "490     1490      Shane      Cortez   42   \n",
       "491     1491     Terina      Jensen   22   \n",
       "492     1492      Elvie       Jones   63   \n",
       "493     1493     Cicely        Wynn   18   \n",
       "494     1494    Preston       Downs   70   \n",
       "495     1495      Fidel      Sharpe   67   \n",
       "496     1496      Ariel    Shepherd   49   \n",
       "497     1497      Donte     Barrera   49   \n",
       "498     1498       Scot  Williamson   51   \n",
       "499     1499      Shena     Dickson   37   \n",
       "\n",
       "                                          city    reg_date      plan  \\\n",
       "490        Sacramento–Roseville–Folsom, CA MSA  2018-01-20  ultimate   \n",
       "491              Grand Rapids-Kentwood, MI MSA  2018-04-27      surf   \n",
       "492    Portland-Vancouver-Hillsboro, OR-WA MSA  2018-03-07      surf   \n",
       "493         Boston-Cambridge-Newton, MA-NH MSA  2018-03-06  ultimate   \n",
       "494  New York-Newark-Jersey City, NY-NJ-PA MSA  2018-04-19      surf   \n",
       "495  New York-Newark-Jersey City, NY-NJ-PA MSA  2018-09-04      surf   \n",
       "496               New Orleans-Metairie, LA MSA  2018-02-20      surf   \n",
       "497     Los Angeles-Long Beach-Anaheim, CA MSA  2018-12-10  ultimate   \n",
       "498  New York-Newark-Jersey City, NY-NJ-PA MSA  2018-02-04      surf   \n",
       "499          Orlando-Kissimmee-Sanford, FL MSA  2018-05-06      surf   \n",
       "\n",
       "     churn_date  plan_in_use  \n",
       "490         NaN         True  \n",
       "491  2018-09-18        False  \n",
       "492         NaN         True  \n",
       "493         NaN         True  \n",
       "494         NaN         True  \n",
       "495         NaN         True  \n",
       "496         NaN         True  \n",
       "497         NaN         True  \n",
       "498         NaN         True  \n",
       "499         NaN         True  "
      ]
     },
     "execution_count": 186,
     "metadata": {},
     "output_type": "execute_result"
    }
   ],
   "source": [
    "users_df.tail(10)"
   ]
  },
  {
   "cell_type": "code",
   "execution_count": 187,
   "metadata": {},
   "outputs": [],
   "source": [
    "#reg_date is converted to datetime format as it helps to easy calculation based on month\n",
    "users_df['reg_date']=pd.to_datetime(users_df['reg_date'],format='%Y-%m-%d')"
   ]
  },
  {
   "cell_type": "code",
   "execution_count": 188,
   "metadata": {},
   "outputs": [
    {
     "data": {
      "text/plain": [
       "29"
      ]
     },
     "execution_count": 188,
     "metadata": {},
     "output_type": "execute_result"
    }
   ],
   "source": [
    "#'churn_date' with dates (subscription cancelled) are less than 10%(around 7%).Also we see some inconsistency with monthly data.\n",
    "#Since their percent is less,we just have them without any processing.\n",
    "users_df['churn_date'].value_counts().count()"
   ]
  },
  {
   "cell_type": "code",
   "execution_count": 189,
   "metadata": {},
   "outputs": [],
   "source": [
    "#replacing missing items with na as they cannot have any dates(still in use)\n",
    "users_df['churn_date']=users_df['churn_date'].fillna('na')"
   ]
  },
  {
   "cell_type": "code",
   "execution_count": 190,
   "metadata": {},
   "outputs": [
    {
     "data": {
      "text/html": [
       "<div>\n",
       "<style scoped>\n",
       "    .dataframe tbody tr th:only-of-type {\n",
       "        vertical-align: middle;\n",
       "    }\n",
       "\n",
       "    .dataframe tbody tr th {\n",
       "        vertical-align: top;\n",
       "    }\n",
       "\n",
       "    .dataframe thead th {\n",
       "        text-align: right;\n",
       "    }\n",
       "</style>\n",
       "<table border=\"1\" class=\"dataframe\">\n",
       "  <thead>\n",
       "    <tr style=\"text-align: right;\">\n",
       "      <th></th>\n",
       "      <th>user_id</th>\n",
       "      <th>first_name</th>\n",
       "      <th>last_name</th>\n",
       "      <th>age</th>\n",
       "      <th>city</th>\n",
       "      <th>reg_date</th>\n",
       "      <th>plan</th>\n",
       "      <th>churn_date</th>\n",
       "      <th>plan_in_use</th>\n",
       "    </tr>\n",
       "  </thead>\n",
       "  <tbody>\n",
       "    <tr>\n",
       "      <th>0</th>\n",
       "      <td>1000</td>\n",
       "      <td>Anamaria</td>\n",
       "      <td>Bauer</td>\n",
       "      <td>45</td>\n",
       "      <td>Atlanta-Sandy Springs-Roswell, GA MSA</td>\n",
       "      <td>2018-12-24</td>\n",
       "      <td>ultimate</td>\n",
       "      <td>na</td>\n",
       "      <td>True</td>\n",
       "    </tr>\n",
       "    <tr>\n",
       "      <th>1</th>\n",
       "      <td>1001</td>\n",
       "      <td>Mickey</td>\n",
       "      <td>Wilkerson</td>\n",
       "      <td>28</td>\n",
       "      <td>Seattle-Tacoma-Bellevue, WA MSA</td>\n",
       "      <td>2018-08-13</td>\n",
       "      <td>surf</td>\n",
       "      <td>na</td>\n",
       "      <td>True</td>\n",
       "    </tr>\n",
       "    <tr>\n",
       "      <th>2</th>\n",
       "      <td>1002</td>\n",
       "      <td>Carlee</td>\n",
       "      <td>Hoffman</td>\n",
       "      <td>36</td>\n",
       "      <td>Las Vegas-Henderson-Paradise, NV MSA</td>\n",
       "      <td>2018-10-21</td>\n",
       "      <td>surf</td>\n",
       "      <td>na</td>\n",
       "      <td>True</td>\n",
       "    </tr>\n",
       "    <tr>\n",
       "      <th>3</th>\n",
       "      <td>1003</td>\n",
       "      <td>Reynaldo</td>\n",
       "      <td>Jenkins</td>\n",
       "      <td>52</td>\n",
       "      <td>Tulsa, OK MSA</td>\n",
       "      <td>2018-01-28</td>\n",
       "      <td>surf</td>\n",
       "      <td>na</td>\n",
       "      <td>True</td>\n",
       "    </tr>\n",
       "    <tr>\n",
       "      <th>4</th>\n",
       "      <td>1004</td>\n",
       "      <td>Leonila</td>\n",
       "      <td>Thompson</td>\n",
       "      <td>40</td>\n",
       "      <td>Seattle-Tacoma-Bellevue, WA MSA</td>\n",
       "      <td>2018-05-23</td>\n",
       "      <td>surf</td>\n",
       "      <td>na</td>\n",
       "      <td>True</td>\n",
       "    </tr>\n",
       "    <tr>\n",
       "      <th>5</th>\n",
       "      <td>1005</td>\n",
       "      <td>Livia</td>\n",
       "      <td>Shields</td>\n",
       "      <td>31</td>\n",
       "      <td>Dallas-Fort Worth-Arlington, TX MSA</td>\n",
       "      <td>2018-11-29</td>\n",
       "      <td>surf</td>\n",
       "      <td>na</td>\n",
       "      <td>True</td>\n",
       "    </tr>\n",
       "    <tr>\n",
       "      <th>6</th>\n",
       "      <td>1006</td>\n",
       "      <td>Jesusa</td>\n",
       "      <td>Bradford</td>\n",
       "      <td>73</td>\n",
       "      <td>San Francisco-Oakland-Berkeley, CA MSA</td>\n",
       "      <td>2018-11-27</td>\n",
       "      <td>ultimate</td>\n",
       "      <td>2018-12-18</td>\n",
       "      <td>False</td>\n",
       "    </tr>\n",
       "    <tr>\n",
       "      <th>7</th>\n",
       "      <td>1007</td>\n",
       "      <td>Eusebio</td>\n",
       "      <td>Welch</td>\n",
       "      <td>42</td>\n",
       "      <td>Grand Rapids-Kentwood, MI MSA</td>\n",
       "      <td>2018-07-11</td>\n",
       "      <td>surf</td>\n",
       "      <td>na</td>\n",
       "      <td>True</td>\n",
       "    </tr>\n",
       "    <tr>\n",
       "      <th>8</th>\n",
       "      <td>1008</td>\n",
       "      <td>Emely</td>\n",
       "      <td>Hoffman</td>\n",
       "      <td>53</td>\n",
       "      <td>Orlando-Kissimmee-Sanford, FL MSA</td>\n",
       "      <td>2018-08-03</td>\n",
       "      <td>ultimate</td>\n",
       "      <td>na</td>\n",
       "      <td>True</td>\n",
       "    </tr>\n",
       "    <tr>\n",
       "      <th>9</th>\n",
       "      <td>1009</td>\n",
       "      <td>Gerry</td>\n",
       "      <td>Little</td>\n",
       "      <td>19</td>\n",
       "      <td>San Jose-Sunnyvale-Santa Clara, CA MSA</td>\n",
       "      <td>2018-04-22</td>\n",
       "      <td>surf</td>\n",
       "      <td>na</td>\n",
       "      <td>True</td>\n",
       "    </tr>\n",
       "  </tbody>\n",
       "</table>\n",
       "</div>"
      ],
      "text/plain": [
       "   user_id first_name  last_name  age                                    city  \\\n",
       "0     1000   Anamaria      Bauer   45   Atlanta-Sandy Springs-Roswell, GA MSA   \n",
       "1     1001     Mickey  Wilkerson   28         Seattle-Tacoma-Bellevue, WA MSA   \n",
       "2     1002     Carlee    Hoffman   36    Las Vegas-Henderson-Paradise, NV MSA   \n",
       "3     1003   Reynaldo    Jenkins   52                           Tulsa, OK MSA   \n",
       "4     1004    Leonila   Thompson   40         Seattle-Tacoma-Bellevue, WA MSA   \n",
       "5     1005      Livia    Shields   31     Dallas-Fort Worth-Arlington, TX MSA   \n",
       "6     1006     Jesusa   Bradford   73  San Francisco-Oakland-Berkeley, CA MSA   \n",
       "7     1007    Eusebio      Welch   42           Grand Rapids-Kentwood, MI MSA   \n",
       "8     1008      Emely    Hoffman   53       Orlando-Kissimmee-Sanford, FL MSA   \n",
       "9     1009      Gerry     Little   19  San Jose-Sunnyvale-Santa Clara, CA MSA   \n",
       "\n",
       "    reg_date      plan  churn_date  plan_in_use  \n",
       "0 2018-12-24  ultimate          na         True  \n",
       "1 2018-08-13      surf          na         True  \n",
       "2 2018-10-21      surf          na         True  \n",
       "3 2018-01-28      surf          na         True  \n",
       "4 2018-05-23      surf          na         True  \n",
       "5 2018-11-29      surf          na         True  \n",
       "6 2018-11-27  ultimate  2018-12-18        False  \n",
       "7 2018-07-11      surf          na         True  \n",
       "8 2018-08-03  ultimate          na         True  \n",
       "9 2018-04-22      surf          na         True  "
      ]
     },
     "execution_count": 190,
     "metadata": {},
     "output_type": "execute_result"
    }
   ],
   "source": [
    "users_df.head(10)"
   ]
  },
  {
   "cell_type": "code",
   "execution_count": 191,
   "metadata": {},
   "outputs": [
    {
     "data": {
      "text/plain": [
       "0"
      ]
     },
     "execution_count": 191,
     "metadata": {},
     "output_type": "execute_result"
    }
   ],
   "source": [
    "users_df['churn_date'].isna().sum()"
   ]
  },
  {
   "cell_type": "code",
   "execution_count": 192,
   "metadata": {},
   "outputs": [
    {
     "data": {
      "text/plain": [
       "0.00      13747\n",
       "414.46        8\n",
       "435.77        8\n",
       "423.06        7\n",
       "313.79        7\n",
       "          ...  \n",
       "301.21        1\n",
       "108.62        1\n",
       "608.63        1\n",
       "212.02        1\n",
       "677.66        1\n",
       "Name: mb_used, Length: 57624, dtype: int64"
      ]
     },
     "execution_count": 192,
     "metadata": {},
     "output_type": "execute_result"
    }
   ],
   "source": [
    "#working with internet dataset\n",
    "internet_df['mb_used'].value_counts()"
   ]
  },
  {
   "cell_type": "code",
   "execution_count": 193,
   "metadata": {},
   "outputs": [
    {
     "data": {
      "text/html": [
       "<div>\n",
       "<style scoped>\n",
       "    .dataframe tbody tr th:only-of-type {\n",
       "        vertical-align: middle;\n",
       "    }\n",
       "\n",
       "    .dataframe tbody tr th {\n",
       "        vertical-align: top;\n",
       "    }\n",
       "\n",
       "    .dataframe thead th {\n",
       "        text-align: right;\n",
       "    }\n",
       "</style>\n",
       "<table border=\"1\" class=\"dataframe\">\n",
       "  <thead>\n",
       "    <tr style=\"text-align: right;\">\n",
       "      <th></th>\n",
       "      <th>id</th>\n",
       "      <th>user_id</th>\n",
       "      <th>session_date</th>\n",
       "      <th>mb_used</th>\n",
       "      <th>month</th>\n",
       "    </tr>\n",
       "  </thead>\n",
       "  <tbody>\n",
       "    <tr>\n",
       "      <th>1</th>\n",
       "      <td>1000_204</td>\n",
       "      <td>1000</td>\n",
       "      <td>2018-12-31</td>\n",
       "      <td>0.0</td>\n",
       "      <td>12</td>\n",
       "    </tr>\n",
       "    <tr>\n",
       "      <th>14</th>\n",
       "      <td>1001_26</td>\n",
       "      <td>1001</td>\n",
       "      <td>2018-09-17</td>\n",
       "      <td>0.0</td>\n",
       "      <td>9</td>\n",
       "    </tr>\n",
       "    <tr>\n",
       "      <th>16</th>\n",
       "      <td>1001_28</td>\n",
       "      <td>1001</td>\n",
       "      <td>2018-10-17</td>\n",
       "      <td>0.0</td>\n",
       "      <td>10</td>\n",
       "    </tr>\n",
       "    <tr>\n",
       "      <th>34</th>\n",
       "      <td>1001_54</td>\n",
       "      <td>1001</td>\n",
       "      <td>2018-09-02</td>\n",
       "      <td>0.0</td>\n",
       "      <td>9</td>\n",
       "    </tr>\n",
       "    <tr>\n",
       "      <th>43</th>\n",
       "      <td>1001_77</td>\n",
       "      <td>1001</td>\n",
       "      <td>2018-10-31</td>\n",
       "      <td>0.0</td>\n",
       "      <td>10</td>\n",
       "    </tr>\n",
       "    <tr>\n",
       "      <th>44</th>\n",
       "      <td>1001_80</td>\n",
       "      <td>1001</td>\n",
       "      <td>2018-12-24</td>\n",
       "      <td>0.0</td>\n",
       "      <td>12</td>\n",
       "    </tr>\n",
       "    <tr>\n",
       "      <th>46</th>\n",
       "      <td>1001_84</td>\n",
       "      <td>1001</td>\n",
       "      <td>2018-10-13</td>\n",
       "      <td>0.0</td>\n",
       "      <td>10</td>\n",
       "    </tr>\n",
       "    <tr>\n",
       "      <th>54</th>\n",
       "      <td>1001_94</td>\n",
       "      <td>1001</td>\n",
       "      <td>2018-12-03</td>\n",
       "      <td>0.0</td>\n",
       "      <td>12</td>\n",
       "    </tr>\n",
       "    <tr>\n",
       "      <th>58</th>\n",
       "      <td>1001_103</td>\n",
       "      <td>1001</td>\n",
       "      <td>2018-12-10</td>\n",
       "      <td>0.0</td>\n",
       "      <td>12</td>\n",
       "    </tr>\n",
       "    <tr>\n",
       "      <th>64</th>\n",
       "      <td>1001_124</td>\n",
       "      <td>1001</td>\n",
       "      <td>2018-09-28</td>\n",
       "      <td>0.0</td>\n",
       "      <td>9</td>\n",
       "    </tr>\n",
       "  </tbody>\n",
       "</table>\n",
       "</div>"
      ],
      "text/plain": [
       "          id  user_id session_date  mb_used  month\n",
       "1   1000_204     1000   2018-12-31      0.0     12\n",
       "14   1001_26     1001   2018-09-17      0.0      9\n",
       "16   1001_28     1001   2018-10-17      0.0     10\n",
       "34   1001_54     1001   2018-09-02      0.0      9\n",
       "43   1001_77     1001   2018-10-31      0.0     10\n",
       "44   1001_80     1001   2018-12-24      0.0     12\n",
       "46   1001_84     1001   2018-10-13      0.0     10\n",
       "54   1001_94     1001   2018-12-03      0.0     12\n",
       "58  1001_103     1001   2018-12-10      0.0     12\n",
       "64  1001_124     1001   2018-09-28      0.0      9"
      ]
     },
     "execution_count": 193,
     "metadata": {},
     "output_type": "execute_result"
    }
   ],
   "source": [
    "#We observe nearly 13747 rows with value 0\n",
    "internet_df[internet_df['mb_used']==0.00].head(10)"
   ]
  },
  {
   "cell_type": "code",
   "execution_count": 194,
   "metadata": {},
   "outputs": [
    {
     "name": "stdout",
     "output_type": "stream",
     "text": [
      "<class 'pandas.core.frame.DataFrame'>\n",
      "RangeIndex: 104825 entries, 0 to 104824\n",
      "Data columns (total 5 columns):\n",
      " #   Column        Non-Null Count   Dtype         \n",
      "---  ------        --------------   -----         \n",
      " 0   id            104825 non-null  object        \n",
      " 1   user_id       104825 non-null  int64         \n",
      " 2   session_date  104825 non-null  datetime64[ns]\n",
      " 3   mb_used       104825 non-null  float64       \n",
      " 4   month         104825 non-null  int64         \n",
      "dtypes: datetime64[ns](1), float64(1), int64(2), object(1)\n",
      "memory usage: 4.0+ MB\n"
     ]
    }
   ],
   "source": [
    "#when checking total number of rows in the dataset \n",
    "internet_df.info()"
   ]
  },
  {
   "cell_type": "code",
   "execution_count": 195,
   "metadata": {},
   "outputs": [
    {
     "data": {
      "text/html": [
       "<div>\n",
       "<style scoped>\n",
       "    .dataframe tbody tr th:only-of-type {\n",
       "        vertical-align: middle;\n",
       "    }\n",
       "\n",
       "    .dataframe tbody tr th {\n",
       "        vertical-align: top;\n",
       "    }\n",
       "\n",
       "    .dataframe thead th {\n",
       "        text-align: right;\n",
       "    }\n",
       "</style>\n",
       "<table border=\"1\" class=\"dataframe\">\n",
       "  <thead>\n",
       "    <tr style=\"text-align: right;\">\n",
       "      <th></th>\n",
       "      <th>id</th>\n",
       "      <th>user_id</th>\n",
       "      <th>session_date</th>\n",
       "      <th>mb_used</th>\n",
       "      <th>month</th>\n",
       "    </tr>\n",
       "  </thead>\n",
       "  <tbody>\n",
       "    <tr>\n",
       "      <th>246</th>\n",
       "      <td>1001_470</td>\n",
       "      <td>1001</td>\n",
       "      <td>2018-09-01</td>\n",
       "      <td>388.14</td>\n",
       "      <td>9</td>\n",
       "    </tr>\n",
       "    <tr>\n",
       "      <th>80</th>\n",
       "      <td>1001_148</td>\n",
       "      <td>1001</td>\n",
       "      <td>2018-09-01</td>\n",
       "      <td>298.57</td>\n",
       "      <td>9</td>\n",
       "    </tr>\n",
       "    <tr>\n",
       "      <th>34</th>\n",
       "      <td>1001_54</td>\n",
       "      <td>1001</td>\n",
       "      <td>2018-09-02</td>\n",
       "      <td>0.00</td>\n",
       "      <td>9</td>\n",
       "    </tr>\n",
       "    <tr>\n",
       "      <th>241</th>\n",
       "      <td>1001_460</td>\n",
       "      <td>1001</td>\n",
       "      <td>2018-09-04</td>\n",
       "      <td>0.00</td>\n",
       "      <td>9</td>\n",
       "    </tr>\n",
       "    <tr>\n",
       "      <th>234</th>\n",
       "      <td>1001_445</td>\n",
       "      <td>1001</td>\n",
       "      <td>2018-09-04</td>\n",
       "      <td>42.34</td>\n",
       "      <td>9</td>\n",
       "    </tr>\n",
       "    <tr>\n",
       "      <th>11</th>\n",
       "      <td>1001_17</td>\n",
       "      <td>1001</td>\n",
       "      <td>2018-09-05</td>\n",
       "      <td>727.29</td>\n",
       "      <td>9</td>\n",
       "    </tr>\n",
       "    <tr>\n",
       "      <th>12</th>\n",
       "      <td>1001_24</td>\n",
       "      <td>1001</td>\n",
       "      <td>2018-09-05</td>\n",
       "      <td>622.03</td>\n",
       "      <td>9</td>\n",
       "    </tr>\n",
       "    <tr>\n",
       "      <th>79</th>\n",
       "      <td>1001_147</td>\n",
       "      <td>1001</td>\n",
       "      <td>2018-09-06</td>\n",
       "      <td>0.00</td>\n",
       "      <td>9</td>\n",
       "    </tr>\n",
       "    <tr>\n",
       "      <th>40</th>\n",
       "      <td>1001_71</td>\n",
       "      <td>1001</td>\n",
       "      <td>2018-09-06</td>\n",
       "      <td>310.16</td>\n",
       "      <td>9</td>\n",
       "    </tr>\n",
       "    <tr>\n",
       "      <th>53</th>\n",
       "      <td>1001_93</td>\n",
       "      <td>1001</td>\n",
       "      <td>2018-09-06</td>\n",
       "      <td>240.13</td>\n",
       "      <td>9</td>\n",
       "    </tr>\n",
       "    <tr>\n",
       "      <th>160</th>\n",
       "      <td>1001_300</td>\n",
       "      <td>1001</td>\n",
       "      <td>2018-09-07</td>\n",
       "      <td>492.98</td>\n",
       "      <td>9</td>\n",
       "    </tr>\n",
       "    <tr>\n",
       "      <th>187</th>\n",
       "      <td>1001_332</td>\n",
       "      <td>1001</td>\n",
       "      <td>2018-09-07</td>\n",
       "      <td>0.00</td>\n",
       "      <td>9</td>\n",
       "    </tr>\n",
       "    <tr>\n",
       "      <th>96</th>\n",
       "      <td>1001_178</td>\n",
       "      <td>1001</td>\n",
       "      <td>2018-09-07</td>\n",
       "      <td>213.61</td>\n",
       "      <td>9</td>\n",
       "    </tr>\n",
       "    <tr>\n",
       "      <th>29</th>\n",
       "      <td>1001_48</td>\n",
       "      <td>1001</td>\n",
       "      <td>2018-09-08</td>\n",
       "      <td>284.97</td>\n",
       "      <td>9</td>\n",
       "    </tr>\n",
       "    <tr>\n",
       "      <th>217</th>\n",
       "      <td>1001_406</td>\n",
       "      <td>1001</td>\n",
       "      <td>2018-09-08</td>\n",
       "      <td>0.00</td>\n",
       "      <td>9</td>\n",
       "    </tr>\n",
       "  </tbody>\n",
       "</table>\n",
       "</div>"
      ],
      "text/plain": [
       "           id  user_id session_date  mb_used  month\n",
       "246  1001_470     1001   2018-09-01   388.14      9\n",
       "80   1001_148     1001   2018-09-01   298.57      9\n",
       "34    1001_54     1001   2018-09-02     0.00      9\n",
       "241  1001_460     1001   2018-09-04     0.00      9\n",
       "234  1001_445     1001   2018-09-04    42.34      9\n",
       "11    1001_17     1001   2018-09-05   727.29      9\n",
       "12    1001_24     1001   2018-09-05   622.03      9\n",
       "79   1001_147     1001   2018-09-06     0.00      9\n",
       "40    1001_71     1001   2018-09-06   310.16      9\n",
       "53    1001_93     1001   2018-09-06   240.13      9\n",
       "160  1001_300     1001   2018-09-07   492.98      9\n",
       "187  1001_332     1001   2018-09-07     0.00      9\n",
       "96   1001_178     1001   2018-09-07   213.61      9\n",
       "29    1001_48     1001   2018-09-08   284.97      9\n",
       "217  1001_406     1001   2018-09-08     0.00      9"
      ]
     },
     "execution_count": 195,
     "metadata": {},
     "output_type": "execute_result"
    }
   ],
   "source": [
    "#rows with 'mb_used' 0.0 will have less impact as the data is day wise.There can be days without using much internet.\n",
    "internet_df[(internet_df['user_id']==1001) & (internet_df['month']==9) ].sort_values('session_date').head(15)"
   ]
  },
  {
   "cell_type": "code",
   "execution_count": 196,
   "metadata": {},
   "outputs": [
    {
     "name": "stdout",
     "output_type": "stream",
     "text": [
      "<class 'pandas.core.frame.DataFrame'>\n",
      "RangeIndex: 137735 entries, 0 to 137734\n",
      "Data columns (total 6 columns):\n",
      " #   Column           Non-Null Count   Dtype         \n",
      "---  ------           --------------   -----         \n",
      " 0   id               137735 non-null  object        \n",
      " 1   user_id          137735 non-null  int64         \n",
      " 2   call_date        137735 non-null  datetime64[ns]\n",
      " 3   duration         137735 non-null  float64       \n",
      " 4   month            137735 non-null  int64         \n",
      " 5   rounded_minutes  137735 non-null  float64       \n",
      "dtypes: datetime64[ns](1), float64(2), int64(2), object(1)\n",
      "memory usage: 6.3+ MB\n"
     ]
    }
   ],
   "source": [
    "calls_df.info()"
   ]
  },
  {
   "cell_type": "code",
   "execution_count": 197,
   "metadata": {},
   "outputs": [
    {
     "data": {
      "text/plain": [
       "0.00     26834\n",
       "8.37       102\n",
       "4.02       102\n",
       "3.91       101\n",
       "7.61       100\n",
       "         ...  \n",
       "32.53        1\n",
       "24.74        1\n",
       "29.31        1\n",
       "29.30        1\n",
       "23.29        1\n",
       "Name: duration, Length: 2802, dtype: int64"
      ]
     },
     "execution_count": 197,
     "metadata": {},
     "output_type": "execute_result"
    }
   ],
   "source": [
    "#handling call duration with 0.0\n",
    "calls_df['duration'].value_counts()"
   ]
  },
  {
   "cell_type": "code",
   "execution_count": 198,
   "metadata": {},
   "outputs": [
    {
     "data": {
      "text/html": [
       "<div>\n",
       "<style scoped>\n",
       "    .dataframe tbody tr th:only-of-type {\n",
       "        vertical-align: middle;\n",
       "    }\n",
       "\n",
       "    .dataframe tbody tr th {\n",
       "        vertical-align: top;\n",
       "    }\n",
       "\n",
       "    .dataframe thead th {\n",
       "        text-align: right;\n",
       "    }\n",
       "</style>\n",
       "<table border=\"1\" class=\"dataframe\">\n",
       "  <thead>\n",
       "    <tr style=\"text-align: right;\">\n",
       "      <th></th>\n",
       "      <th>id</th>\n",
       "      <th>user_id</th>\n",
       "      <th>call_date</th>\n",
       "      <th>duration</th>\n",
       "      <th>month</th>\n",
       "      <th>rounded_minutes</th>\n",
       "    </tr>\n",
       "  </thead>\n",
       "  <tbody>\n",
       "    <tr>\n",
       "      <th>100</th>\n",
       "      <td>1001_167</td>\n",
       "      <td>1001</td>\n",
       "      <td>2018-08-14</td>\n",
       "      <td>10.19</td>\n",
       "      <td>8</td>\n",
       "      <td>11.0</td>\n",
       "    </tr>\n",
       "    <tr>\n",
       "      <th>212</th>\n",
       "      <td>1001_387</td>\n",
       "      <td>1001</td>\n",
       "      <td>2018-08-14</td>\n",
       "      <td>3.67</td>\n",
       "      <td>8</td>\n",
       "      <td>4.0</td>\n",
       "    </tr>\n",
       "    <tr>\n",
       "      <th>276</th>\n",
       "      <td>1001_512</td>\n",
       "      <td>1001</td>\n",
       "      <td>2018-08-16</td>\n",
       "      <td>10.82</td>\n",
       "      <td>8</td>\n",
       "      <td>11.0</td>\n",
       "    </tr>\n",
       "    <tr>\n",
       "      <th>143</th>\n",
       "      <td>1001_245</td>\n",
       "      <td>1001</td>\n",
       "      <td>2018-08-16</td>\n",
       "      <td>8.11</td>\n",
       "      <td>8</td>\n",
       "      <td>9.0</td>\n",
       "    </tr>\n",
       "    <tr>\n",
       "      <th>162</th>\n",
       "      <td>1001_284</td>\n",
       "      <td>1001</td>\n",
       "      <td>2018-08-16</td>\n",
       "      <td>4.53</td>\n",
       "      <td>8</td>\n",
       "      <td>5.0</td>\n",
       "    </tr>\n",
       "    <tr>\n",
       "      <th>...</th>\n",
       "      <td>...</td>\n",
       "      <td>...</td>\n",
       "      <td>...</td>\n",
       "      <td>...</td>\n",
       "      <td>...</td>\n",
       "      <td>...</td>\n",
       "    </tr>\n",
       "    <tr>\n",
       "      <th>193</th>\n",
       "      <td>1001_345</td>\n",
       "      <td>1001</td>\n",
       "      <td>2018-12-29</td>\n",
       "      <td>1.70</td>\n",
       "      <td>12</td>\n",
       "      <td>2.0</td>\n",
       "    </tr>\n",
       "    <tr>\n",
       "      <th>226</th>\n",
       "      <td>1001_414</td>\n",
       "      <td>1001</td>\n",
       "      <td>2018-12-30</td>\n",
       "      <td>5.52</td>\n",
       "      <td>12</td>\n",
       "      <td>6.0</td>\n",
       "    </tr>\n",
       "    <tr>\n",
       "      <th>224</th>\n",
       "      <td>1001_412</td>\n",
       "      <td>1001</td>\n",
       "      <td>2018-12-30</td>\n",
       "      <td>12.49</td>\n",
       "      <td>12</td>\n",
       "      <td>13.0</td>\n",
       "    </tr>\n",
       "    <tr>\n",
       "      <th>106</th>\n",
       "      <td>1001_179</td>\n",
       "      <td>1001</td>\n",
       "      <td>2018-12-31</td>\n",
       "      <td>14.44</td>\n",
       "      <td>12</td>\n",
       "      <td>15.0</td>\n",
       "    </tr>\n",
       "    <tr>\n",
       "      <th>145</th>\n",
       "      <td>1001_250</td>\n",
       "      <td>1001</td>\n",
       "      <td>2018-12-31</td>\n",
       "      <td>12.16</td>\n",
       "      <td>12</td>\n",
       "      <td>13.0</td>\n",
       "    </tr>\n",
       "  </tbody>\n",
       "</table>\n",
       "<p>202 rows × 6 columns</p>\n",
       "</div>"
      ],
      "text/plain": [
       "           id  user_id  call_date  duration  month  rounded_minutes\n",
       "100  1001_167     1001 2018-08-14     10.19      8             11.0\n",
       "212  1001_387     1001 2018-08-14      3.67      8              4.0\n",
       "276  1001_512     1001 2018-08-16     10.82      8             11.0\n",
       "143  1001_245     1001 2018-08-16      8.11      8              9.0\n",
       "162  1001_284     1001 2018-08-16      4.53      8              5.0\n",
       "..        ...      ...        ...       ...    ...              ...\n",
       "193  1001_345     1001 2018-12-29      1.70     12              2.0\n",
       "226  1001_414     1001 2018-12-30      5.52     12              6.0\n",
       "224  1001_412     1001 2018-12-30     12.49     12             13.0\n",
       "106  1001_179     1001 2018-12-31     14.44     12             15.0\n",
       "145  1001_250     1001 2018-12-31     12.16     12             13.0\n",
       "\n",
       "[202 rows x 6 columns]"
      ]
     },
     "execution_count": 198,
     "metadata": {},
     "output_type": "execute_result"
    }
   ],
   "source": [
    "#Though calls  with 0 call duration seems to be more ,it has less impact as we take monthly data for analysis\n",
    "calls_df[(calls_df['duration'] != 0.00) & (calls_df['user_id'] == 1001)].sort_values('call_date')"
   ]
  },
  {
   "cell_type": "markdown",
   "metadata": {},
   "source": [
    "duration values with 0.00 can be ignored as it is considered for monthly and not on day-to-day basis."
   ]
  },
  {
   "cell_type": "markdown",
   "metadata": {},
   "source": [
    "### Intermediate Conclusions:\n",
    "So far ,we analysed all the  available datasets .   \n",
    "1.users_df  \n",
    "    This table gives the details about each user,his is,address ,the plan he uses,plan details..  \n",
    "2.calls_df  \n",
    "    This table gives the call details like calls made,duration ,call date...\n",
    "3.internet_df  \n",
    "    The details of internet usage like the date and mb used are tabeled in this dataset.\n",
    "4.messages_df\n",
    "    This has the details about text messages like count of messages,date..  \n",
    "5.plans_df  \n",
    "    This details the plans used..Since we have 2 plans,this table has 2 rows detailing each plan..  \n",
    "    \n",
    "We looked for missing values in each dataset and also any inappropriate data .\n",
    "'churn_date' in users_df is the only column with missing values..Since the missing value represents   \n",
    "'plan still in use ' state , we don't worry much about it.We just replaced with 'na' for more readablity.  \n",
    "\n",
    "All the dates in each dataset are converted from object to datetime type as we are going to work with  \n",
    "each of the datasets based on the monthly details..  \n",
    "\n",
    "Our next step is to get the necessary data from each dataset based on the requirement (month wise 'minutes_used','gb_used','messages','total_revenue')and to calculate extra  \n",
    "charges from them and then compare the revenue between users of the plans."
   ]
  },
  {
   "cell_type": "code",
   "execution_count": 199,
   "metadata": {},
   "outputs": [],
   "source": [
    "#monthly call details for each user id.\n",
    "calls_df_pivot=calls_df.pivot_table(index=['user_id','month'],values='rounded_minutes',aggfunc=('count','sum'))"
   ]
  },
  {
   "cell_type": "code",
   "execution_count": 200,
   "metadata": {},
   "outputs": [],
   "source": [
    "calls_df_pivot= calls_df_pivot.rename(columns={\n",
    "    'count':'number_of_calls',\n",
    "    'sum':'minutes_used'\n",
    "})"
   ]
  },
  {
   "cell_type": "code",
   "execution_count": 201,
   "metadata": {},
   "outputs": [],
   "source": [
    "calls_df_pivot=calls_df_pivot.reset_index()"
   ]
  },
  {
   "cell_type": "code",
   "execution_count": 202,
   "metadata": {},
   "outputs": [
    {
     "data": {
      "text/html": [
       "<div>\n",
       "<style scoped>\n",
       "    .dataframe tbody tr th:only-of-type {\n",
       "        vertical-align: middle;\n",
       "    }\n",
       "\n",
       "    .dataframe tbody tr th {\n",
       "        vertical-align: top;\n",
       "    }\n",
       "\n",
       "    .dataframe thead th {\n",
       "        text-align: right;\n",
       "    }\n",
       "</style>\n",
       "<table border=\"1\" class=\"dataframe\">\n",
       "  <thead>\n",
       "    <tr style=\"text-align: right;\">\n",
       "      <th></th>\n",
       "      <th>user_id</th>\n",
       "      <th>month</th>\n",
       "      <th>number_of_calls</th>\n",
       "      <th>minutes_used</th>\n",
       "    </tr>\n",
       "  </thead>\n",
       "  <tbody>\n",
       "    <tr>\n",
       "      <th>0</th>\n",
       "      <td>1000</td>\n",
       "      <td>12</td>\n",
       "      <td>16</td>\n",
       "      <td>124.0</td>\n",
       "    </tr>\n",
       "    <tr>\n",
       "      <th>1</th>\n",
       "      <td>1001</td>\n",
       "      <td>8</td>\n",
       "      <td>27</td>\n",
       "      <td>182.0</td>\n",
       "    </tr>\n",
       "    <tr>\n",
       "      <th>2</th>\n",
       "      <td>1001</td>\n",
       "      <td>9</td>\n",
       "      <td>49</td>\n",
       "      <td>315.0</td>\n",
       "    </tr>\n",
       "    <tr>\n",
       "      <th>3</th>\n",
       "      <td>1001</td>\n",
       "      <td>10</td>\n",
       "      <td>65</td>\n",
       "      <td>393.0</td>\n",
       "    </tr>\n",
       "    <tr>\n",
       "      <th>4</th>\n",
       "      <td>1001</td>\n",
       "      <td>11</td>\n",
       "      <td>64</td>\n",
       "      <td>426.0</td>\n",
       "    </tr>\n",
       "    <tr>\n",
       "      <th>...</th>\n",
       "      <td>...</td>\n",
       "      <td>...</td>\n",
       "      <td>...</td>\n",
       "      <td>...</td>\n",
       "    </tr>\n",
       "    <tr>\n",
       "      <th>2253</th>\n",
       "      <td>1498</td>\n",
       "      <td>12</td>\n",
       "      <td>39</td>\n",
       "      <td>339.0</td>\n",
       "    </tr>\n",
       "    <tr>\n",
       "      <th>2254</th>\n",
       "      <td>1499</td>\n",
       "      <td>9</td>\n",
       "      <td>41</td>\n",
       "      <td>346.0</td>\n",
       "    </tr>\n",
       "    <tr>\n",
       "      <th>2255</th>\n",
       "      <td>1499</td>\n",
       "      <td>10</td>\n",
       "      <td>53</td>\n",
       "      <td>385.0</td>\n",
       "    </tr>\n",
       "    <tr>\n",
       "      <th>2256</th>\n",
       "      <td>1499</td>\n",
       "      <td>11</td>\n",
       "      <td>45</td>\n",
       "      <td>308.0</td>\n",
       "    </tr>\n",
       "    <tr>\n",
       "      <th>2257</th>\n",
       "      <td>1499</td>\n",
       "      <td>12</td>\n",
       "      <td>65</td>\n",
       "      <td>496.0</td>\n",
       "    </tr>\n",
       "  </tbody>\n",
       "</table>\n",
       "<p>2258 rows × 4 columns</p>\n",
       "</div>"
      ],
      "text/plain": [
       "      user_id  month  number_of_calls  minutes_used\n",
       "0        1000     12               16         124.0\n",
       "1        1001      8               27         182.0\n",
       "2        1001      9               49         315.0\n",
       "3        1001     10               65         393.0\n",
       "4        1001     11               64         426.0\n",
       "...       ...    ...              ...           ...\n",
       "2253     1498     12               39         339.0\n",
       "2254     1499      9               41         346.0\n",
       "2255     1499     10               53         385.0\n",
       "2256     1499     11               45         308.0\n",
       "2257     1499     12               65         496.0\n",
       "\n",
       "[2258 rows x 4 columns]"
      ]
     },
     "execution_count": 202,
     "metadata": {},
     "output_type": "execute_result"
    }
   ],
   "source": [
    "calls_df_pivot.sort_values(['user_id','month'])"
   ]
  },
  {
   "cell_type": "code",
   "execution_count": 203,
   "metadata": {},
   "outputs": [
    {
     "data": {
      "text/html": [
       "<div>\n",
       "<style scoped>\n",
       "    .dataframe tbody tr th:only-of-type {\n",
       "        vertical-align: middle;\n",
       "    }\n",
       "\n",
       "    .dataframe tbody tr th {\n",
       "        vertical-align: top;\n",
       "    }\n",
       "\n",
       "    .dataframe thead th {\n",
       "        text-align: right;\n",
       "    }\n",
       "</style>\n",
       "<table border=\"1\" class=\"dataframe\">\n",
       "  <thead>\n",
       "    <tr style=\"text-align: right;\">\n",
       "      <th></th>\n",
       "      <th>id</th>\n",
       "      <th>user_id</th>\n",
       "      <th>message_date</th>\n",
       "      <th>month</th>\n",
       "    </tr>\n",
       "  </thead>\n",
       "  <tbody>\n",
       "    <tr>\n",
       "      <th>0</th>\n",
       "      <td>1000_125</td>\n",
       "      <td>1000</td>\n",
       "      <td>2018-12-27</td>\n",
       "      <td>12</td>\n",
       "    </tr>\n",
       "    <tr>\n",
       "      <th>1</th>\n",
       "      <td>1000_160</td>\n",
       "      <td>1000</td>\n",
       "      <td>2018-12-31</td>\n",
       "      <td>12</td>\n",
       "    </tr>\n",
       "    <tr>\n",
       "      <th>2</th>\n",
       "      <td>1000_223</td>\n",
       "      <td>1000</td>\n",
       "      <td>2018-12-31</td>\n",
       "      <td>12</td>\n",
       "    </tr>\n",
       "    <tr>\n",
       "      <th>3</th>\n",
       "      <td>1000_251</td>\n",
       "      <td>1000</td>\n",
       "      <td>2018-12-27</td>\n",
       "      <td>12</td>\n",
       "    </tr>\n",
       "    <tr>\n",
       "      <th>4</th>\n",
       "      <td>1000_255</td>\n",
       "      <td>1000</td>\n",
       "      <td>2018-12-26</td>\n",
       "      <td>12</td>\n",
       "    </tr>\n",
       "    <tr>\n",
       "      <th>5</th>\n",
       "      <td>1000_346</td>\n",
       "      <td>1000</td>\n",
       "      <td>2018-12-29</td>\n",
       "      <td>12</td>\n",
       "    </tr>\n",
       "    <tr>\n",
       "      <th>6</th>\n",
       "      <td>1000_386</td>\n",
       "      <td>1000</td>\n",
       "      <td>2018-12-30</td>\n",
       "      <td>12</td>\n",
       "    </tr>\n",
       "    <tr>\n",
       "      <th>7</th>\n",
       "      <td>1000_413</td>\n",
       "      <td>1000</td>\n",
       "      <td>2018-12-31</td>\n",
       "      <td>12</td>\n",
       "    </tr>\n",
       "    <tr>\n",
       "      <th>8</th>\n",
       "      <td>1000_502</td>\n",
       "      <td>1000</td>\n",
       "      <td>2018-12-27</td>\n",
       "      <td>12</td>\n",
       "    </tr>\n",
       "    <tr>\n",
       "      <th>9</th>\n",
       "      <td>1000_525</td>\n",
       "      <td>1000</td>\n",
       "      <td>2018-12-28</td>\n",
       "      <td>12</td>\n",
       "    </tr>\n",
       "  </tbody>\n",
       "</table>\n",
       "</div>"
      ],
      "text/plain": [
       "         id  user_id message_date  month\n",
       "0  1000_125     1000   2018-12-27     12\n",
       "1  1000_160     1000   2018-12-31     12\n",
       "2  1000_223     1000   2018-12-31     12\n",
       "3  1000_251     1000   2018-12-27     12\n",
       "4  1000_255     1000   2018-12-26     12\n",
       "5  1000_346     1000   2018-12-29     12\n",
       "6  1000_386     1000   2018-12-30     12\n",
       "7  1000_413     1000   2018-12-31     12\n",
       "8  1000_502     1000   2018-12-27     12\n",
       "9  1000_525     1000   2018-12-28     12"
      ]
     },
     "execution_count": 203,
     "metadata": {},
     "output_type": "execute_result"
    }
   ],
   "source": [
    "messages_df.head(10)"
   ]
  },
  {
   "cell_type": "code",
   "execution_count": 204,
   "metadata": {},
   "outputs": [],
   "source": [
    "#monthly message details for each user id.\n",
    "messages_df_pivot=messages_df.pivot_table(index=['user_id','month'],values='id',aggfunc='count')"
   ]
  },
  {
   "cell_type": "code",
   "execution_count": 205,
   "metadata": {},
   "outputs": [
    {
     "data": {
      "text/html": [
       "<div>\n",
       "<style scoped>\n",
       "    .dataframe tbody tr th:only-of-type {\n",
       "        vertical-align: middle;\n",
       "    }\n",
       "\n",
       "    .dataframe tbody tr th {\n",
       "        vertical-align: top;\n",
       "    }\n",
       "\n",
       "    .dataframe thead th {\n",
       "        text-align: right;\n",
       "    }\n",
       "</style>\n",
       "<table border=\"1\" class=\"dataframe\">\n",
       "  <thead>\n",
       "    <tr style=\"text-align: right;\">\n",
       "      <th></th>\n",
       "      <th></th>\n",
       "      <th>id</th>\n",
       "    </tr>\n",
       "    <tr>\n",
       "      <th>user_id</th>\n",
       "      <th>month</th>\n",
       "      <th></th>\n",
       "    </tr>\n",
       "  </thead>\n",
       "  <tbody>\n",
       "    <tr>\n",
       "      <th>1000</th>\n",
       "      <th>12</th>\n",
       "      <td>11</td>\n",
       "    </tr>\n",
       "    <tr>\n",
       "      <th rowspan=\"5\" valign=\"top\">1001</th>\n",
       "      <th>8</th>\n",
       "      <td>30</td>\n",
       "    </tr>\n",
       "    <tr>\n",
       "      <th>9</th>\n",
       "      <td>44</td>\n",
       "    </tr>\n",
       "    <tr>\n",
       "      <th>10</th>\n",
       "      <td>53</td>\n",
       "    </tr>\n",
       "    <tr>\n",
       "      <th>11</th>\n",
       "      <td>36</td>\n",
       "    </tr>\n",
       "    <tr>\n",
       "      <th>12</th>\n",
       "      <td>44</td>\n",
       "    </tr>\n",
       "    <tr>\n",
       "      <th rowspan=\"3\" valign=\"top\">1002</th>\n",
       "      <th>10</th>\n",
       "      <td>15</td>\n",
       "    </tr>\n",
       "    <tr>\n",
       "      <th>11</th>\n",
       "      <td>32</td>\n",
       "    </tr>\n",
       "    <tr>\n",
       "      <th>12</th>\n",
       "      <td>41</td>\n",
       "    </tr>\n",
       "    <tr>\n",
       "      <th>1003</th>\n",
       "      <th>12</th>\n",
       "      <td>50</td>\n",
       "    </tr>\n",
       "  </tbody>\n",
       "</table>\n",
       "</div>"
      ],
      "text/plain": [
       "               id\n",
       "user_id month    \n",
       "1000    12     11\n",
       "1001    8      30\n",
       "        9      44\n",
       "        10     53\n",
       "        11     36\n",
       "        12     44\n",
       "1002    10     15\n",
       "        11     32\n",
       "        12     41\n",
       "1003    12     50"
      ]
     },
     "execution_count": 205,
     "metadata": {},
     "output_type": "execute_result"
    }
   ],
   "source": [
    "messages_df_pivot.head(10)"
   ]
  },
  {
   "cell_type": "code",
   "execution_count": 206,
   "metadata": {},
   "outputs": [],
   "source": [
    "messages_df_pivot= messages_df_pivot.rename(columns={\n",
    "    'id':'number_of_messages',\n",
    "   \n",
    "})"
   ]
  },
  {
   "cell_type": "code",
   "execution_count": 207,
   "metadata": {},
   "outputs": [
    {
     "data": {
      "text/html": [
       "<div>\n",
       "<style scoped>\n",
       "    .dataframe tbody tr th:only-of-type {\n",
       "        vertical-align: middle;\n",
       "    }\n",
       "\n",
       "    .dataframe tbody tr th {\n",
       "        vertical-align: top;\n",
       "    }\n",
       "\n",
       "    .dataframe thead th {\n",
       "        text-align: right;\n",
       "    }\n",
       "</style>\n",
       "<table border=\"1\" class=\"dataframe\">\n",
       "  <thead>\n",
       "    <tr style=\"text-align: right;\">\n",
       "      <th></th>\n",
       "      <th></th>\n",
       "      <th>number_of_messages</th>\n",
       "    </tr>\n",
       "    <tr>\n",
       "      <th>user_id</th>\n",
       "      <th>month</th>\n",
       "      <th></th>\n",
       "    </tr>\n",
       "  </thead>\n",
       "  <tbody>\n",
       "    <tr>\n",
       "      <th>1000</th>\n",
       "      <th>12</th>\n",
       "      <td>11</td>\n",
       "    </tr>\n",
       "    <tr>\n",
       "      <th rowspan=\"4\" valign=\"top\">1001</th>\n",
       "      <th>8</th>\n",
       "      <td>30</td>\n",
       "    </tr>\n",
       "    <tr>\n",
       "      <th>9</th>\n",
       "      <td>44</td>\n",
       "    </tr>\n",
       "    <tr>\n",
       "      <th>10</th>\n",
       "      <td>53</td>\n",
       "    </tr>\n",
       "    <tr>\n",
       "      <th>11</th>\n",
       "      <td>36</td>\n",
       "    </tr>\n",
       "    <tr>\n",
       "      <th>...</th>\n",
       "      <th>...</th>\n",
       "      <td>...</td>\n",
       "    </tr>\n",
       "    <tr>\n",
       "      <th rowspan=\"4\" valign=\"top\">1496</th>\n",
       "      <th>9</th>\n",
       "      <td>21</td>\n",
       "    </tr>\n",
       "    <tr>\n",
       "      <th>10</th>\n",
       "      <td>18</td>\n",
       "    </tr>\n",
       "    <tr>\n",
       "      <th>11</th>\n",
       "      <td>13</td>\n",
       "    </tr>\n",
       "    <tr>\n",
       "      <th>12</th>\n",
       "      <td>11</td>\n",
       "    </tr>\n",
       "    <tr>\n",
       "      <th>1497</th>\n",
       "      <th>12</th>\n",
       "      <td>50</td>\n",
       "    </tr>\n",
       "  </tbody>\n",
       "</table>\n",
       "<p>1806 rows × 1 columns</p>\n",
       "</div>"
      ],
      "text/plain": [
       "               number_of_messages\n",
       "user_id month                    \n",
       "1000    12                     11\n",
       "1001    8                      30\n",
       "        9                      44\n",
       "        10                     53\n",
       "        11                     36\n",
       "...                           ...\n",
       "1496    9                      21\n",
       "        10                     18\n",
       "        11                     13\n",
       "        12                     11\n",
       "1497    12                     50\n",
       "\n",
       "[1806 rows x 1 columns]"
      ]
     },
     "execution_count": 207,
     "metadata": {},
     "output_type": "execute_result"
    }
   ],
   "source": [
    "messages_df_pivot"
   ]
  },
  {
   "cell_type": "code",
   "execution_count": 208,
   "metadata": {},
   "outputs": [],
   "source": [
    "messages_df_pivot=messages_df_pivot.reset_index()"
   ]
  },
  {
   "cell_type": "code",
   "execution_count": 209,
   "metadata": {},
   "outputs": [
    {
     "data": {
      "text/html": [
       "<div>\n",
       "<style scoped>\n",
       "    .dataframe tbody tr th:only-of-type {\n",
       "        vertical-align: middle;\n",
       "    }\n",
       "\n",
       "    .dataframe tbody tr th {\n",
       "        vertical-align: top;\n",
       "    }\n",
       "\n",
       "    .dataframe thead th {\n",
       "        text-align: right;\n",
       "    }\n",
       "</style>\n",
       "<table border=\"1\" class=\"dataframe\">\n",
       "  <thead>\n",
       "    <tr style=\"text-align: right;\">\n",
       "      <th></th>\n",
       "      <th>user_id</th>\n",
       "      <th>month</th>\n",
       "      <th>number_of_messages</th>\n",
       "    </tr>\n",
       "  </thead>\n",
       "  <tbody>\n",
       "    <tr>\n",
       "      <th>0</th>\n",
       "      <td>1000</td>\n",
       "      <td>12</td>\n",
       "      <td>11</td>\n",
       "    </tr>\n",
       "    <tr>\n",
       "      <th>1</th>\n",
       "      <td>1001</td>\n",
       "      <td>8</td>\n",
       "      <td>30</td>\n",
       "    </tr>\n",
       "    <tr>\n",
       "      <th>2</th>\n",
       "      <td>1001</td>\n",
       "      <td>9</td>\n",
       "      <td>44</td>\n",
       "    </tr>\n",
       "    <tr>\n",
       "      <th>3</th>\n",
       "      <td>1001</td>\n",
       "      <td>10</td>\n",
       "      <td>53</td>\n",
       "    </tr>\n",
       "    <tr>\n",
       "      <th>4</th>\n",
       "      <td>1001</td>\n",
       "      <td>11</td>\n",
       "      <td>36</td>\n",
       "    </tr>\n",
       "    <tr>\n",
       "      <th>...</th>\n",
       "      <td>...</td>\n",
       "      <td>...</td>\n",
       "      <td>...</td>\n",
       "    </tr>\n",
       "    <tr>\n",
       "      <th>1801</th>\n",
       "      <td>1496</td>\n",
       "      <td>9</td>\n",
       "      <td>21</td>\n",
       "    </tr>\n",
       "    <tr>\n",
       "      <th>1802</th>\n",
       "      <td>1496</td>\n",
       "      <td>10</td>\n",
       "      <td>18</td>\n",
       "    </tr>\n",
       "    <tr>\n",
       "      <th>1803</th>\n",
       "      <td>1496</td>\n",
       "      <td>11</td>\n",
       "      <td>13</td>\n",
       "    </tr>\n",
       "    <tr>\n",
       "      <th>1804</th>\n",
       "      <td>1496</td>\n",
       "      <td>12</td>\n",
       "      <td>11</td>\n",
       "    </tr>\n",
       "    <tr>\n",
       "      <th>1805</th>\n",
       "      <td>1497</td>\n",
       "      <td>12</td>\n",
       "      <td>50</td>\n",
       "    </tr>\n",
       "  </tbody>\n",
       "</table>\n",
       "<p>1806 rows × 3 columns</p>\n",
       "</div>"
      ],
      "text/plain": [
       "      user_id  month  number_of_messages\n",
       "0        1000     12                  11\n",
       "1        1001      8                  30\n",
       "2        1001      9                  44\n",
       "3        1001     10                  53\n",
       "4        1001     11                  36\n",
       "...       ...    ...                 ...\n",
       "1801     1496      9                  21\n",
       "1802     1496     10                  18\n",
       "1803     1496     11                  13\n",
       "1804     1496     12                  11\n",
       "1805     1497     12                  50\n",
       "\n",
       "[1806 rows x 3 columns]"
      ]
     },
     "execution_count": 209,
     "metadata": {},
     "output_type": "execute_result"
    }
   ],
   "source": [
    "messages_df_pivot"
   ]
  },
  {
   "cell_type": "code",
   "execution_count": 210,
   "metadata": {},
   "outputs": [],
   "source": [
    "#monthly mb_used for each user id\n",
    "internet_df_pivot=internet_df.pivot_table(index=['user_id','month'],values='mb_used',aggfunc='sum')"
   ]
  },
  {
   "cell_type": "code",
   "execution_count": 211,
   "metadata": {},
   "outputs": [
    {
     "data": {
      "text/html": [
       "<div>\n",
       "<style scoped>\n",
       "    .dataframe tbody tr th:only-of-type {\n",
       "        vertical-align: middle;\n",
       "    }\n",
       "\n",
       "    .dataframe tbody tr th {\n",
       "        vertical-align: top;\n",
       "    }\n",
       "\n",
       "    .dataframe thead th {\n",
       "        text-align: right;\n",
       "    }\n",
       "</style>\n",
       "<table border=\"1\" class=\"dataframe\">\n",
       "  <thead>\n",
       "    <tr style=\"text-align: right;\">\n",
       "      <th></th>\n",
       "      <th></th>\n",
       "      <th>mb_used</th>\n",
       "    </tr>\n",
       "    <tr>\n",
       "      <th>user_id</th>\n",
       "      <th>month</th>\n",
       "      <th></th>\n",
       "    </tr>\n",
       "  </thead>\n",
       "  <tbody>\n",
       "    <tr>\n",
       "      <th>1000</th>\n",
       "      <th>12</th>\n",
       "      <td>1901.47</td>\n",
       "    </tr>\n",
       "    <tr>\n",
       "      <th rowspan=\"4\" valign=\"top\">1001</th>\n",
       "      <th>8</th>\n",
       "      <td>6919.15</td>\n",
       "    </tr>\n",
       "    <tr>\n",
       "      <th>9</th>\n",
       "      <td>13314.82</td>\n",
       "    </tr>\n",
       "    <tr>\n",
       "      <th>10</th>\n",
       "      <td>22330.49</td>\n",
       "    </tr>\n",
       "    <tr>\n",
       "      <th>11</th>\n",
       "      <td>18504.30</td>\n",
       "    </tr>\n",
       "    <tr>\n",
       "      <th>...</th>\n",
       "      <th>...</th>\n",
       "      <td>...</td>\n",
       "    </tr>\n",
       "    <tr>\n",
       "      <th>1498</th>\n",
       "      <th>12</th>\n",
       "      <td>23137.69</td>\n",
       "    </tr>\n",
       "    <tr>\n",
       "      <th rowspan=\"4\" valign=\"top\">1499</th>\n",
       "      <th>9</th>\n",
       "      <td>12984.76</td>\n",
       "    </tr>\n",
       "    <tr>\n",
       "      <th>10</th>\n",
       "      <td>19492.43</td>\n",
       "    </tr>\n",
       "    <tr>\n",
       "      <th>11</th>\n",
       "      <td>16813.83</td>\n",
       "    </tr>\n",
       "    <tr>\n",
       "      <th>12</th>\n",
       "      <td>22059.21</td>\n",
       "    </tr>\n",
       "  </tbody>\n",
       "</table>\n",
       "<p>2277 rows × 1 columns</p>\n",
       "</div>"
      ],
      "text/plain": [
       "                mb_used\n",
       "user_id month          \n",
       "1000    12      1901.47\n",
       "1001    8       6919.15\n",
       "        9      13314.82\n",
       "        10     22330.49\n",
       "        11     18504.30\n",
       "...                 ...\n",
       "1498    12     23137.69\n",
       "1499    9      12984.76\n",
       "        10     19492.43\n",
       "        11     16813.83\n",
       "        12     22059.21\n",
       "\n",
       "[2277 rows x 1 columns]"
      ]
     },
     "execution_count": 211,
     "metadata": {},
     "output_type": "execute_result"
    }
   ],
   "source": [
    "internet_df_pivot"
   ]
  },
  {
   "cell_type": "code",
   "execution_count": 212,
   "metadata": {},
   "outputs": [],
   "source": [
    "internet_df_pivot=internet_df_pivot.reset_index()"
   ]
  },
  {
   "cell_type": "code",
   "execution_count": 213,
   "metadata": {},
   "outputs": [
    {
     "data": {
      "text/html": [
       "<div>\n",
       "<style scoped>\n",
       "    .dataframe tbody tr th:only-of-type {\n",
       "        vertical-align: middle;\n",
       "    }\n",
       "\n",
       "    .dataframe tbody tr th {\n",
       "        vertical-align: top;\n",
       "    }\n",
       "\n",
       "    .dataframe thead th {\n",
       "        text-align: right;\n",
       "    }\n",
       "</style>\n",
       "<table border=\"1\" class=\"dataframe\">\n",
       "  <thead>\n",
       "    <tr style=\"text-align: right;\">\n",
       "      <th></th>\n",
       "      <th>user_id</th>\n",
       "      <th>month</th>\n",
       "      <th>mb_used</th>\n",
       "    </tr>\n",
       "  </thead>\n",
       "  <tbody>\n",
       "    <tr>\n",
       "      <th>0</th>\n",
       "      <td>1000</td>\n",
       "      <td>12</td>\n",
       "      <td>1901.47</td>\n",
       "    </tr>\n",
       "    <tr>\n",
       "      <th>1</th>\n",
       "      <td>1001</td>\n",
       "      <td>8</td>\n",
       "      <td>6919.15</td>\n",
       "    </tr>\n",
       "    <tr>\n",
       "      <th>2</th>\n",
       "      <td>1001</td>\n",
       "      <td>9</td>\n",
       "      <td>13314.82</td>\n",
       "    </tr>\n",
       "    <tr>\n",
       "      <th>3</th>\n",
       "      <td>1001</td>\n",
       "      <td>10</td>\n",
       "      <td>22330.49</td>\n",
       "    </tr>\n",
       "    <tr>\n",
       "      <th>4</th>\n",
       "      <td>1001</td>\n",
       "      <td>11</td>\n",
       "      <td>18504.30</td>\n",
       "    </tr>\n",
       "    <tr>\n",
       "      <th>...</th>\n",
       "      <td>...</td>\n",
       "      <td>...</td>\n",
       "      <td>...</td>\n",
       "    </tr>\n",
       "    <tr>\n",
       "      <th>2272</th>\n",
       "      <td>1498</td>\n",
       "      <td>12</td>\n",
       "      <td>23137.69</td>\n",
       "    </tr>\n",
       "    <tr>\n",
       "      <th>2273</th>\n",
       "      <td>1499</td>\n",
       "      <td>9</td>\n",
       "      <td>12984.76</td>\n",
       "    </tr>\n",
       "    <tr>\n",
       "      <th>2274</th>\n",
       "      <td>1499</td>\n",
       "      <td>10</td>\n",
       "      <td>19492.43</td>\n",
       "    </tr>\n",
       "    <tr>\n",
       "      <th>2275</th>\n",
       "      <td>1499</td>\n",
       "      <td>11</td>\n",
       "      <td>16813.83</td>\n",
       "    </tr>\n",
       "    <tr>\n",
       "      <th>2276</th>\n",
       "      <td>1499</td>\n",
       "      <td>12</td>\n",
       "      <td>22059.21</td>\n",
       "    </tr>\n",
       "  </tbody>\n",
       "</table>\n",
       "<p>2277 rows × 3 columns</p>\n",
       "</div>"
      ],
      "text/plain": [
       "      user_id  month   mb_used\n",
       "0        1000     12   1901.47\n",
       "1        1001      8   6919.15\n",
       "2        1001      9  13314.82\n",
       "3        1001     10  22330.49\n",
       "4        1001     11  18504.30\n",
       "...       ...    ...       ...\n",
       "2272     1498     12  23137.69\n",
       "2273     1499      9  12984.76\n",
       "2274     1499     10  19492.43\n",
       "2275     1499     11  16813.83\n",
       "2276     1499     12  22059.21\n",
       "\n",
       "[2277 rows x 3 columns]"
      ]
     },
     "execution_count": 213,
     "metadata": {},
     "output_type": "execute_result"
    }
   ],
   "source": [
    "internet_df_pivot"
   ]
  },
  {
   "cell_type": "code",
   "execution_count": 214,
   "metadata": {},
   "outputs": [],
   "source": [
    "#As per the requirement : the total for the month is rounded up. If someone uses 1025 megabytes this month, they\n",
    "# will be charged for 2 gigabytes.\n",
    "#Creating new column 'gb-used'\n",
    "internet_df_pivot['gb_used']=(internet_df_pivot['mb_used']/1024).apply(np.ceil)"
   ]
  },
  {
   "cell_type": "code",
   "execution_count": 215,
   "metadata": {},
   "outputs": [
    {
     "data": {
      "text/html": [
       "<div>\n",
       "<style scoped>\n",
       "    .dataframe tbody tr th:only-of-type {\n",
       "        vertical-align: middle;\n",
       "    }\n",
       "\n",
       "    .dataframe tbody tr th {\n",
       "        vertical-align: top;\n",
       "    }\n",
       "\n",
       "    .dataframe thead th {\n",
       "        text-align: right;\n",
       "    }\n",
       "</style>\n",
       "<table border=\"1\" class=\"dataframe\">\n",
       "  <thead>\n",
       "    <tr style=\"text-align: right;\">\n",
       "      <th></th>\n",
       "      <th>user_id</th>\n",
       "      <th>month</th>\n",
       "      <th>mb_used</th>\n",
       "      <th>gb_used</th>\n",
       "    </tr>\n",
       "  </thead>\n",
       "  <tbody>\n",
       "    <tr>\n",
       "      <th>0</th>\n",
       "      <td>1000</td>\n",
       "      <td>12</td>\n",
       "      <td>1901.47</td>\n",
       "      <td>2.0</td>\n",
       "    </tr>\n",
       "    <tr>\n",
       "      <th>1</th>\n",
       "      <td>1001</td>\n",
       "      <td>8</td>\n",
       "      <td>6919.15</td>\n",
       "      <td>7.0</td>\n",
       "    </tr>\n",
       "    <tr>\n",
       "      <th>2</th>\n",
       "      <td>1001</td>\n",
       "      <td>9</td>\n",
       "      <td>13314.82</td>\n",
       "      <td>14.0</td>\n",
       "    </tr>\n",
       "    <tr>\n",
       "      <th>3</th>\n",
       "      <td>1001</td>\n",
       "      <td>10</td>\n",
       "      <td>22330.49</td>\n",
       "      <td>22.0</td>\n",
       "    </tr>\n",
       "    <tr>\n",
       "      <th>4</th>\n",
       "      <td>1001</td>\n",
       "      <td>11</td>\n",
       "      <td>18504.30</td>\n",
       "      <td>19.0</td>\n",
       "    </tr>\n",
       "    <tr>\n",
       "      <th>...</th>\n",
       "      <td>...</td>\n",
       "      <td>...</td>\n",
       "      <td>...</td>\n",
       "      <td>...</td>\n",
       "    </tr>\n",
       "    <tr>\n",
       "      <th>2272</th>\n",
       "      <td>1498</td>\n",
       "      <td>12</td>\n",
       "      <td>23137.69</td>\n",
       "      <td>23.0</td>\n",
       "    </tr>\n",
       "    <tr>\n",
       "      <th>2273</th>\n",
       "      <td>1499</td>\n",
       "      <td>9</td>\n",
       "      <td>12984.76</td>\n",
       "      <td>13.0</td>\n",
       "    </tr>\n",
       "    <tr>\n",
       "      <th>2274</th>\n",
       "      <td>1499</td>\n",
       "      <td>10</td>\n",
       "      <td>19492.43</td>\n",
       "      <td>20.0</td>\n",
       "    </tr>\n",
       "    <tr>\n",
       "      <th>2275</th>\n",
       "      <td>1499</td>\n",
       "      <td>11</td>\n",
       "      <td>16813.83</td>\n",
       "      <td>17.0</td>\n",
       "    </tr>\n",
       "    <tr>\n",
       "      <th>2276</th>\n",
       "      <td>1499</td>\n",
       "      <td>12</td>\n",
       "      <td>22059.21</td>\n",
       "      <td>22.0</td>\n",
       "    </tr>\n",
       "  </tbody>\n",
       "</table>\n",
       "<p>2277 rows × 4 columns</p>\n",
       "</div>"
      ],
      "text/plain": [
       "      user_id  month   mb_used  gb_used\n",
       "0        1000     12   1901.47      2.0\n",
       "1        1001      8   6919.15      7.0\n",
       "2        1001      9  13314.82     14.0\n",
       "3        1001     10  22330.49     22.0\n",
       "4        1001     11  18504.30     19.0\n",
       "...       ...    ...       ...      ...\n",
       "2272     1498     12  23137.69     23.0\n",
       "2273     1499      9  12984.76     13.0\n",
       "2274     1499     10  19492.43     20.0\n",
       "2275     1499     11  16813.83     17.0\n",
       "2276     1499     12  22059.21     22.0\n",
       "\n",
       "[2277 rows x 4 columns]"
      ]
     },
     "execution_count": 215,
     "metadata": {},
     "output_type": "execute_result"
    }
   ],
   "source": [
    "internet_df_pivot"
   ]
  },
  {
   "cell_type": "code",
   "execution_count": 216,
   "metadata": {},
   "outputs": [],
   "source": [
    "#new dataframe to store monthly messages,calls and internet details for easy analysis\n",
    "user_final_df=pd.DataFrame()"
   ]
  },
  {
   "cell_type": "code",
   "execution_count": 217,
   "metadata": {},
   "outputs": [],
   "source": [
    "#Call details and internet details are merged for each user\n",
    "user_final_df=calls_df_pivot.merge(internet_df_pivot,on=['user_id','month'],how='outer')"
   ]
  },
  {
   "cell_type": "code",
   "execution_count": 218,
   "metadata": {},
   "outputs": [
    {
     "data": {
      "text/html": [
       "<div>\n",
       "<style scoped>\n",
       "    .dataframe tbody tr th:only-of-type {\n",
       "        vertical-align: middle;\n",
       "    }\n",
       "\n",
       "    .dataframe tbody tr th {\n",
       "        vertical-align: top;\n",
       "    }\n",
       "\n",
       "    .dataframe thead th {\n",
       "        text-align: right;\n",
       "    }\n",
       "</style>\n",
       "<table border=\"1\" class=\"dataframe\">\n",
       "  <thead>\n",
       "    <tr style=\"text-align: right;\">\n",
       "      <th></th>\n",
       "      <th>user_id</th>\n",
       "      <th>month</th>\n",
       "      <th>number_of_calls</th>\n",
       "      <th>minutes_used</th>\n",
       "      <th>mb_used</th>\n",
       "      <th>gb_used</th>\n",
       "    </tr>\n",
       "  </thead>\n",
       "  <tbody>\n",
       "    <tr>\n",
       "      <th>0</th>\n",
       "      <td>1000</td>\n",
       "      <td>12</td>\n",
       "      <td>16.0</td>\n",
       "      <td>124.0</td>\n",
       "      <td>1901.47</td>\n",
       "      <td>2.0</td>\n",
       "    </tr>\n",
       "    <tr>\n",
       "      <th>1</th>\n",
       "      <td>1001</td>\n",
       "      <td>8</td>\n",
       "      <td>27.0</td>\n",
       "      <td>182.0</td>\n",
       "      <td>6919.15</td>\n",
       "      <td>7.0</td>\n",
       "    </tr>\n",
       "    <tr>\n",
       "      <th>2</th>\n",
       "      <td>1001</td>\n",
       "      <td>9</td>\n",
       "      <td>49.0</td>\n",
       "      <td>315.0</td>\n",
       "      <td>13314.82</td>\n",
       "      <td>14.0</td>\n",
       "    </tr>\n",
       "    <tr>\n",
       "      <th>3</th>\n",
       "      <td>1001</td>\n",
       "      <td>10</td>\n",
       "      <td>65.0</td>\n",
       "      <td>393.0</td>\n",
       "      <td>22330.49</td>\n",
       "      <td>22.0</td>\n",
       "    </tr>\n",
       "    <tr>\n",
       "      <th>4</th>\n",
       "      <td>1001</td>\n",
       "      <td>11</td>\n",
       "      <td>64.0</td>\n",
       "      <td>426.0</td>\n",
       "      <td>18504.30</td>\n",
       "      <td>19.0</td>\n",
       "    </tr>\n",
       "    <tr>\n",
       "      <th>...</th>\n",
       "      <td>...</td>\n",
       "      <td>...</td>\n",
       "      <td>...</td>\n",
       "      <td>...</td>\n",
       "      <td>...</td>\n",
       "      <td>...</td>\n",
       "    </tr>\n",
       "    <tr>\n",
       "      <th>2287</th>\n",
       "      <td>1311</td>\n",
       "      <td>6</td>\n",
       "      <td>NaN</td>\n",
       "      <td>NaN</td>\n",
       "      <td>1498.83</td>\n",
       "      <td>2.0</td>\n",
       "    </tr>\n",
       "    <tr>\n",
       "      <th>2288</th>\n",
       "      <td>1349</td>\n",
       "      <td>10</td>\n",
       "      <td>NaN</td>\n",
       "      <td>NaN</td>\n",
       "      <td>13093.55</td>\n",
       "      <td>13.0</td>\n",
       "    </tr>\n",
       "    <tr>\n",
       "      <th>2289</th>\n",
       "      <td>1349</td>\n",
       "      <td>11</td>\n",
       "      <td>NaN</td>\n",
       "      <td>NaN</td>\n",
       "      <td>17128.26</td>\n",
       "      <td>17.0</td>\n",
       "    </tr>\n",
       "    <tr>\n",
       "      <th>2290</th>\n",
       "      <td>1349</td>\n",
       "      <td>12</td>\n",
       "      <td>NaN</td>\n",
       "      <td>NaN</td>\n",
       "      <td>13039.91</td>\n",
       "      <td>13.0</td>\n",
       "    </tr>\n",
       "    <tr>\n",
       "      <th>2291</th>\n",
       "      <td>1361</td>\n",
       "      <td>5</td>\n",
       "      <td>NaN</td>\n",
       "      <td>NaN</td>\n",
       "      <td>1519.69</td>\n",
       "      <td>2.0</td>\n",
       "    </tr>\n",
       "  </tbody>\n",
       "</table>\n",
       "<p>2292 rows × 6 columns</p>\n",
       "</div>"
      ],
      "text/plain": [
       "      user_id  month  number_of_calls  minutes_used   mb_used  gb_used\n",
       "0        1000     12             16.0         124.0   1901.47      2.0\n",
       "1        1001      8             27.0         182.0   6919.15      7.0\n",
       "2        1001      9             49.0         315.0  13314.82     14.0\n",
       "3        1001     10             65.0         393.0  22330.49     22.0\n",
       "4        1001     11             64.0         426.0  18504.30     19.0\n",
       "...       ...    ...              ...           ...       ...      ...\n",
       "2287     1311      6              NaN           NaN   1498.83      2.0\n",
       "2288     1349     10              NaN           NaN  13093.55     13.0\n",
       "2289     1349     11              NaN           NaN  17128.26     17.0\n",
       "2290     1349     12              NaN           NaN  13039.91     13.0\n",
       "2291     1361      5              NaN           NaN   1519.69      2.0\n",
       "\n",
       "[2292 rows x 6 columns]"
      ]
     },
     "execution_count": 218,
     "metadata": {},
     "output_type": "execute_result"
    }
   ],
   "source": [
    "user_final_df"
   ]
  },
  {
   "cell_type": "code",
   "execution_count": 219,
   "metadata": {},
   "outputs": [],
   "source": [
    "#message details are merged along with calls and internet details\n",
    "user_final_df=user_final_df.merge(messages_df_pivot,on=['user_id','month'],how='outer')"
   ]
  },
  {
   "cell_type": "code",
   "execution_count": 220,
   "metadata": {},
   "outputs": [
    {
     "data": {
      "text/html": [
       "<div>\n",
       "<style scoped>\n",
       "    .dataframe tbody tr th:only-of-type {\n",
       "        vertical-align: middle;\n",
       "    }\n",
       "\n",
       "    .dataframe tbody tr th {\n",
       "        vertical-align: top;\n",
       "    }\n",
       "\n",
       "    .dataframe thead th {\n",
       "        text-align: right;\n",
       "    }\n",
       "</style>\n",
       "<table border=\"1\" class=\"dataframe\">\n",
       "  <thead>\n",
       "    <tr style=\"text-align: right;\">\n",
       "      <th></th>\n",
       "      <th>user_id</th>\n",
       "      <th>month</th>\n",
       "      <th>number_of_calls</th>\n",
       "      <th>minutes_used</th>\n",
       "      <th>mb_used</th>\n",
       "      <th>gb_used</th>\n",
       "      <th>number_of_messages</th>\n",
       "    </tr>\n",
       "  </thead>\n",
       "  <tbody>\n",
       "    <tr>\n",
       "      <th>0</th>\n",
       "      <td>1000</td>\n",
       "      <td>12</td>\n",
       "      <td>16.0</td>\n",
       "      <td>124.0</td>\n",
       "      <td>1901.47</td>\n",
       "      <td>2.0</td>\n",
       "      <td>11.0</td>\n",
       "    </tr>\n",
       "    <tr>\n",
       "      <th>1</th>\n",
       "      <td>1001</td>\n",
       "      <td>8</td>\n",
       "      <td>27.0</td>\n",
       "      <td>182.0</td>\n",
       "      <td>6919.15</td>\n",
       "      <td>7.0</td>\n",
       "      <td>30.0</td>\n",
       "    </tr>\n",
       "    <tr>\n",
       "      <th>2</th>\n",
       "      <td>1001</td>\n",
       "      <td>9</td>\n",
       "      <td>49.0</td>\n",
       "      <td>315.0</td>\n",
       "      <td>13314.82</td>\n",
       "      <td>14.0</td>\n",
       "      <td>44.0</td>\n",
       "    </tr>\n",
       "    <tr>\n",
       "      <th>3</th>\n",
       "      <td>1001</td>\n",
       "      <td>10</td>\n",
       "      <td>65.0</td>\n",
       "      <td>393.0</td>\n",
       "      <td>22330.49</td>\n",
       "      <td>22.0</td>\n",
       "      <td>53.0</td>\n",
       "    </tr>\n",
       "    <tr>\n",
       "      <th>4</th>\n",
       "      <td>1001</td>\n",
       "      <td>11</td>\n",
       "      <td>64.0</td>\n",
       "      <td>426.0</td>\n",
       "      <td>18504.30</td>\n",
       "      <td>19.0</td>\n",
       "      <td>36.0</td>\n",
       "    </tr>\n",
       "    <tr>\n",
       "      <th>...</th>\n",
       "      <td>...</td>\n",
       "      <td>...</td>\n",
       "      <td>...</td>\n",
       "      <td>...</td>\n",
       "      <td>...</td>\n",
       "      <td>...</td>\n",
       "      <td>...</td>\n",
       "    </tr>\n",
       "    <tr>\n",
       "      <th>2288</th>\n",
       "      <td>1349</td>\n",
       "      <td>10</td>\n",
       "      <td>NaN</td>\n",
       "      <td>NaN</td>\n",
       "      <td>13093.55</td>\n",
       "      <td>13.0</td>\n",
       "      <td>76.0</td>\n",
       "    </tr>\n",
       "    <tr>\n",
       "      <th>2289</th>\n",
       "      <td>1349</td>\n",
       "      <td>11</td>\n",
       "      <td>NaN</td>\n",
       "      <td>NaN</td>\n",
       "      <td>17128.26</td>\n",
       "      <td>17.0</td>\n",
       "      <td>72.0</td>\n",
       "    </tr>\n",
       "    <tr>\n",
       "      <th>2290</th>\n",
       "      <td>1349</td>\n",
       "      <td>12</td>\n",
       "      <td>NaN</td>\n",
       "      <td>NaN</td>\n",
       "      <td>13039.91</td>\n",
       "      <td>13.0</td>\n",
       "      <td>61.0</td>\n",
       "    </tr>\n",
       "    <tr>\n",
       "      <th>2291</th>\n",
       "      <td>1361</td>\n",
       "      <td>5</td>\n",
       "      <td>NaN</td>\n",
       "      <td>NaN</td>\n",
       "      <td>1519.69</td>\n",
       "      <td>2.0</td>\n",
       "      <td>2.0</td>\n",
       "    </tr>\n",
       "    <tr>\n",
       "      <th>2292</th>\n",
       "      <td>1482</td>\n",
       "      <td>10</td>\n",
       "      <td>NaN</td>\n",
       "      <td>NaN</td>\n",
       "      <td>NaN</td>\n",
       "      <td>NaN</td>\n",
       "      <td>2.0</td>\n",
       "    </tr>\n",
       "  </tbody>\n",
       "</table>\n",
       "<p>2293 rows × 7 columns</p>\n",
       "</div>"
      ],
      "text/plain": [
       "      user_id  month  number_of_calls  minutes_used   mb_used  gb_used  \\\n",
       "0        1000     12             16.0         124.0   1901.47      2.0   \n",
       "1        1001      8             27.0         182.0   6919.15      7.0   \n",
       "2        1001      9             49.0         315.0  13314.82     14.0   \n",
       "3        1001     10             65.0         393.0  22330.49     22.0   \n",
       "4        1001     11             64.0         426.0  18504.30     19.0   \n",
       "...       ...    ...              ...           ...       ...      ...   \n",
       "2288     1349     10              NaN           NaN  13093.55     13.0   \n",
       "2289     1349     11              NaN           NaN  17128.26     17.0   \n",
       "2290     1349     12              NaN           NaN  13039.91     13.0   \n",
       "2291     1361      5              NaN           NaN   1519.69      2.0   \n",
       "2292     1482     10              NaN           NaN       NaN      NaN   \n",
       "\n",
       "      number_of_messages  \n",
       "0                   11.0  \n",
       "1                   30.0  \n",
       "2                   44.0  \n",
       "3                   53.0  \n",
       "4                   36.0  \n",
       "...                  ...  \n",
       "2288                76.0  \n",
       "2289                72.0  \n",
       "2290                61.0  \n",
       "2291                 2.0  \n",
       "2292                 2.0  \n",
       "\n",
       "[2293 rows x 7 columns]"
      ]
     },
     "execution_count": 220,
     "metadata": {},
     "output_type": "execute_result"
    }
   ],
   "source": [
    "user_final_df"
   ]
  },
  {
   "cell_type": "code",
   "execution_count": 221,
   "metadata": {},
   "outputs": [],
   "source": [
    "#filling missed value as they don't have any value literally.(0)\n",
    "user_final_df=user_final_df.fillna(0)"
   ]
  },
  {
   "cell_type": "code",
   "execution_count": 222,
   "metadata": {},
   "outputs": [
    {
     "data": {
      "text/html": [
       "<div>\n",
       "<style scoped>\n",
       "    .dataframe tbody tr th:only-of-type {\n",
       "        vertical-align: middle;\n",
       "    }\n",
       "\n",
       "    .dataframe tbody tr th {\n",
       "        vertical-align: top;\n",
       "    }\n",
       "\n",
       "    .dataframe thead th {\n",
       "        text-align: right;\n",
       "    }\n",
       "</style>\n",
       "<table border=\"1\" class=\"dataframe\">\n",
       "  <thead>\n",
       "    <tr style=\"text-align: right;\">\n",
       "      <th></th>\n",
       "      <th>user_id</th>\n",
       "      <th>month</th>\n",
       "      <th>number_of_calls</th>\n",
       "      <th>minutes_used</th>\n",
       "      <th>mb_used</th>\n",
       "      <th>gb_used</th>\n",
       "      <th>number_of_messages</th>\n",
       "    </tr>\n",
       "  </thead>\n",
       "  <tbody>\n",
       "    <tr>\n",
       "      <th>0</th>\n",
       "      <td>1000</td>\n",
       "      <td>12</td>\n",
       "      <td>16.0</td>\n",
       "      <td>124.0</td>\n",
       "      <td>1901.47</td>\n",
       "      <td>2.0</td>\n",
       "      <td>11.0</td>\n",
       "    </tr>\n",
       "    <tr>\n",
       "      <th>1</th>\n",
       "      <td>1001</td>\n",
       "      <td>8</td>\n",
       "      <td>27.0</td>\n",
       "      <td>182.0</td>\n",
       "      <td>6919.15</td>\n",
       "      <td>7.0</td>\n",
       "      <td>30.0</td>\n",
       "    </tr>\n",
       "    <tr>\n",
       "      <th>2</th>\n",
       "      <td>1001</td>\n",
       "      <td>9</td>\n",
       "      <td>49.0</td>\n",
       "      <td>315.0</td>\n",
       "      <td>13314.82</td>\n",
       "      <td>14.0</td>\n",
       "      <td>44.0</td>\n",
       "    </tr>\n",
       "    <tr>\n",
       "      <th>3</th>\n",
       "      <td>1001</td>\n",
       "      <td>10</td>\n",
       "      <td>65.0</td>\n",
       "      <td>393.0</td>\n",
       "      <td>22330.49</td>\n",
       "      <td>22.0</td>\n",
       "      <td>53.0</td>\n",
       "    </tr>\n",
       "    <tr>\n",
       "      <th>4</th>\n",
       "      <td>1001</td>\n",
       "      <td>11</td>\n",
       "      <td>64.0</td>\n",
       "      <td>426.0</td>\n",
       "      <td>18504.30</td>\n",
       "      <td>19.0</td>\n",
       "      <td>36.0</td>\n",
       "    </tr>\n",
       "    <tr>\n",
       "      <th>...</th>\n",
       "      <td>...</td>\n",
       "      <td>...</td>\n",
       "      <td>...</td>\n",
       "      <td>...</td>\n",
       "      <td>...</td>\n",
       "      <td>...</td>\n",
       "      <td>...</td>\n",
       "    </tr>\n",
       "    <tr>\n",
       "      <th>2288</th>\n",
       "      <td>1349</td>\n",
       "      <td>10</td>\n",
       "      <td>0.0</td>\n",
       "      <td>0.0</td>\n",
       "      <td>13093.55</td>\n",
       "      <td>13.0</td>\n",
       "      <td>76.0</td>\n",
       "    </tr>\n",
       "    <tr>\n",
       "      <th>2289</th>\n",
       "      <td>1349</td>\n",
       "      <td>11</td>\n",
       "      <td>0.0</td>\n",
       "      <td>0.0</td>\n",
       "      <td>17128.26</td>\n",
       "      <td>17.0</td>\n",
       "      <td>72.0</td>\n",
       "    </tr>\n",
       "    <tr>\n",
       "      <th>2290</th>\n",
       "      <td>1349</td>\n",
       "      <td>12</td>\n",
       "      <td>0.0</td>\n",
       "      <td>0.0</td>\n",
       "      <td>13039.91</td>\n",
       "      <td>13.0</td>\n",
       "      <td>61.0</td>\n",
       "    </tr>\n",
       "    <tr>\n",
       "      <th>2291</th>\n",
       "      <td>1361</td>\n",
       "      <td>5</td>\n",
       "      <td>0.0</td>\n",
       "      <td>0.0</td>\n",
       "      <td>1519.69</td>\n",
       "      <td>2.0</td>\n",
       "      <td>2.0</td>\n",
       "    </tr>\n",
       "    <tr>\n",
       "      <th>2292</th>\n",
       "      <td>1482</td>\n",
       "      <td>10</td>\n",
       "      <td>0.0</td>\n",
       "      <td>0.0</td>\n",
       "      <td>0.00</td>\n",
       "      <td>0.0</td>\n",
       "      <td>2.0</td>\n",
       "    </tr>\n",
       "  </tbody>\n",
       "</table>\n",
       "<p>2293 rows × 7 columns</p>\n",
       "</div>"
      ],
      "text/plain": [
       "      user_id  month  number_of_calls  minutes_used   mb_used  gb_used  \\\n",
       "0        1000     12             16.0         124.0   1901.47      2.0   \n",
       "1        1001      8             27.0         182.0   6919.15      7.0   \n",
       "2        1001      9             49.0         315.0  13314.82     14.0   \n",
       "3        1001     10             65.0         393.0  22330.49     22.0   \n",
       "4        1001     11             64.0         426.0  18504.30     19.0   \n",
       "...       ...    ...              ...           ...       ...      ...   \n",
       "2288     1349     10              0.0           0.0  13093.55     13.0   \n",
       "2289     1349     11              0.0           0.0  17128.26     17.0   \n",
       "2290     1349     12              0.0           0.0  13039.91     13.0   \n",
       "2291     1361      5              0.0           0.0   1519.69      2.0   \n",
       "2292     1482     10              0.0           0.0      0.00      0.0   \n",
       "\n",
       "      number_of_messages  \n",
       "0                   11.0  \n",
       "1                   30.0  \n",
       "2                   44.0  \n",
       "3                   53.0  \n",
       "4                   36.0  \n",
       "...                  ...  \n",
       "2288                76.0  \n",
       "2289                72.0  \n",
       "2290                61.0  \n",
       "2291                 2.0  \n",
       "2292                 2.0  \n",
       "\n",
       "[2293 rows x 7 columns]"
      ]
     },
     "execution_count": 222,
     "metadata": {},
     "output_type": "execute_result"
    }
   ],
   "source": [
    "user_final_df"
   ]
  },
  {
   "cell_type": "code",
   "execution_count": 223,
   "metadata": {},
   "outputs": [
    {
     "data": {
      "text/plain": [
       "user_id               35\n",
       "month                 35\n",
       "number_of_calls       35\n",
       "minutes_used          35\n",
       "mb_used               35\n",
       "gb_used               35\n",
       "number_of_messages    35\n",
       "dtype: int64"
      ]
     },
     "execution_count": 223,
     "metadata": {},
     "output_type": "execute_result"
    }
   ],
   "source": [
    "#checking number of records with call minutes being 0.\n",
    "#we see that such records are very few in numbers\n",
    "user_final_df[(user_final_df['number_of_calls']==0.0) & (user_final_df['minutes_used']==0.0)].count()"
   ]
  },
  {
   "cell_type": "code",
   "execution_count": 224,
   "metadata": {},
   "outputs": [
    {
     "data": {
      "text/html": [
       "<div>\n",
       "<style scoped>\n",
       "    .dataframe tbody tr th:only-of-type {\n",
       "        vertical-align: middle;\n",
       "    }\n",
       "\n",
       "    .dataframe tbody tr th {\n",
       "        vertical-align: top;\n",
       "    }\n",
       "\n",
       "    .dataframe thead th {\n",
       "        text-align: right;\n",
       "    }\n",
       "</style>\n",
       "<table border=\"1\" class=\"dataframe\">\n",
       "  <thead>\n",
       "    <tr style=\"text-align: right;\">\n",
       "      <th></th>\n",
       "      <th>user_id</th>\n",
       "      <th>month</th>\n",
       "      <th>number_of_calls</th>\n",
       "      <th>minutes_used</th>\n",
       "      <th>mb_used</th>\n",
       "      <th>gb_used</th>\n",
       "      <th>number_of_messages</th>\n",
       "    </tr>\n",
       "  </thead>\n",
       "  <tbody>\n",
       "    <tr>\n",
       "      <th>0</th>\n",
       "      <td>1000</td>\n",
       "      <td>12</td>\n",
       "      <td>16.0</td>\n",
       "      <td>124.0</td>\n",
       "      <td>1901.47</td>\n",
       "      <td>2.0</td>\n",
       "      <td>11.0</td>\n",
       "    </tr>\n",
       "    <tr>\n",
       "      <th>1</th>\n",
       "      <td>1001</td>\n",
       "      <td>8</td>\n",
       "      <td>27.0</td>\n",
       "      <td>182.0</td>\n",
       "      <td>6919.15</td>\n",
       "      <td>7.0</td>\n",
       "      <td>30.0</td>\n",
       "    </tr>\n",
       "    <tr>\n",
       "      <th>2</th>\n",
       "      <td>1001</td>\n",
       "      <td>9</td>\n",
       "      <td>49.0</td>\n",
       "      <td>315.0</td>\n",
       "      <td>13314.82</td>\n",
       "      <td>14.0</td>\n",
       "      <td>44.0</td>\n",
       "    </tr>\n",
       "    <tr>\n",
       "      <th>3</th>\n",
       "      <td>1001</td>\n",
       "      <td>10</td>\n",
       "      <td>65.0</td>\n",
       "      <td>393.0</td>\n",
       "      <td>22330.49</td>\n",
       "      <td>22.0</td>\n",
       "      <td>53.0</td>\n",
       "    </tr>\n",
       "    <tr>\n",
       "      <th>4</th>\n",
       "      <td>1001</td>\n",
       "      <td>11</td>\n",
       "      <td>64.0</td>\n",
       "      <td>426.0</td>\n",
       "      <td>18504.30</td>\n",
       "      <td>19.0</td>\n",
       "      <td>36.0</td>\n",
       "    </tr>\n",
       "    <tr>\n",
       "      <th>5</th>\n",
       "      <td>1001</td>\n",
       "      <td>12</td>\n",
       "      <td>56.0</td>\n",
       "      <td>412.0</td>\n",
       "      <td>19369.18</td>\n",
       "      <td>19.0</td>\n",
       "      <td>44.0</td>\n",
       "    </tr>\n",
       "    <tr>\n",
       "      <th>6</th>\n",
       "      <td>1002</td>\n",
       "      <td>10</td>\n",
       "      <td>11.0</td>\n",
       "      <td>59.0</td>\n",
       "      <td>6552.01</td>\n",
       "      <td>7.0</td>\n",
       "      <td>15.0</td>\n",
       "    </tr>\n",
       "    <tr>\n",
       "      <th>7</th>\n",
       "      <td>1002</td>\n",
       "      <td>11</td>\n",
       "      <td>55.0</td>\n",
       "      <td>386.0</td>\n",
       "      <td>19345.08</td>\n",
       "      <td>19.0</td>\n",
       "      <td>32.0</td>\n",
       "    </tr>\n",
       "    <tr>\n",
       "      <th>8</th>\n",
       "      <td>1002</td>\n",
       "      <td>12</td>\n",
       "      <td>47.0</td>\n",
       "      <td>384.0</td>\n",
       "      <td>14396.24</td>\n",
       "      <td>15.0</td>\n",
       "      <td>41.0</td>\n",
       "    </tr>\n",
       "    <tr>\n",
       "      <th>9</th>\n",
       "      <td>1003</td>\n",
       "      <td>12</td>\n",
       "      <td>149.0</td>\n",
       "      <td>1104.0</td>\n",
       "      <td>27044.14</td>\n",
       "      <td>27.0</td>\n",
       "      <td>50.0</td>\n",
       "    </tr>\n",
       "    <tr>\n",
       "      <th>10</th>\n",
       "      <td>1004</td>\n",
       "      <td>5</td>\n",
       "      <td>21.0</td>\n",
       "      <td>193.0</td>\n",
       "      <td>6547.21</td>\n",
       "      <td>7.0</td>\n",
       "      <td>7.0</td>\n",
       "    </tr>\n",
       "    <tr>\n",
       "      <th>11</th>\n",
       "      <td>1004</td>\n",
       "      <td>6</td>\n",
       "      <td>44.0</td>\n",
       "      <td>275.0</td>\n",
       "      <td>20672.82</td>\n",
       "      <td>21.0</td>\n",
       "      <td>18.0</td>\n",
       "    </tr>\n",
       "    <tr>\n",
       "      <th>12</th>\n",
       "      <td>1004</td>\n",
       "      <td>7</td>\n",
       "      <td>49.0</td>\n",
       "      <td>381.0</td>\n",
       "      <td>24516.62</td>\n",
       "      <td>24.0</td>\n",
       "      <td>26.0</td>\n",
       "    </tr>\n",
       "    <tr>\n",
       "      <th>13</th>\n",
       "      <td>1004</td>\n",
       "      <td>8</td>\n",
       "      <td>49.0</td>\n",
       "      <td>354.0</td>\n",
       "      <td>27981.74</td>\n",
       "      <td>28.0</td>\n",
       "      <td>25.0</td>\n",
       "    </tr>\n",
       "    <tr>\n",
       "      <th>14</th>\n",
       "      <td>1004</td>\n",
       "      <td>9</td>\n",
       "      <td>42.0</td>\n",
       "      <td>301.0</td>\n",
       "      <td>18852.72</td>\n",
       "      <td>19.0</td>\n",
       "      <td>21.0</td>\n",
       "    </tr>\n",
       "  </tbody>\n",
       "</table>\n",
       "</div>"
      ],
      "text/plain": [
       "    user_id  month  number_of_calls  minutes_used   mb_used  gb_used  \\\n",
       "0      1000     12             16.0         124.0   1901.47      2.0   \n",
       "1      1001      8             27.0         182.0   6919.15      7.0   \n",
       "2      1001      9             49.0         315.0  13314.82     14.0   \n",
       "3      1001     10             65.0         393.0  22330.49     22.0   \n",
       "4      1001     11             64.0         426.0  18504.30     19.0   \n",
       "5      1001     12             56.0         412.0  19369.18     19.0   \n",
       "6      1002     10             11.0          59.0   6552.01      7.0   \n",
       "7      1002     11             55.0         386.0  19345.08     19.0   \n",
       "8      1002     12             47.0         384.0  14396.24     15.0   \n",
       "9      1003     12            149.0        1104.0  27044.14     27.0   \n",
       "10     1004      5             21.0         193.0   6547.21      7.0   \n",
       "11     1004      6             44.0         275.0  20672.82     21.0   \n",
       "12     1004      7             49.0         381.0  24516.62     24.0   \n",
       "13     1004      8             49.0         354.0  27981.74     28.0   \n",
       "14     1004      9             42.0         301.0  18852.72     19.0   \n",
       "\n",
       "    number_of_messages  \n",
       "0                 11.0  \n",
       "1                 30.0  \n",
       "2                 44.0  \n",
       "3                 53.0  \n",
       "4                 36.0  \n",
       "5                 44.0  \n",
       "6                 15.0  \n",
       "7                 32.0  \n",
       "8                 41.0  \n",
       "9                 50.0  \n",
       "10                 7.0  \n",
       "11                18.0  \n",
       "12                26.0  \n",
       "13                25.0  \n",
       "14                21.0  "
      ]
     },
     "execution_count": 224,
     "metadata": {},
     "output_type": "execute_result"
    }
   ],
   "source": [
    "#Our new dataset with all the necessary data fields (number_of_messages,gb_used,minutes_used)for our analysis\n",
    "user_final_df.head(15)"
   ]
  },
  {
   "cell_type": "code",
   "execution_count": 225,
   "metadata": {},
   "outputs": [
    {
     "data": {
      "text/html": [
       "<div>\n",
       "<style scoped>\n",
       "    .dataframe tbody tr th:only-of-type {\n",
       "        vertical-align: middle;\n",
       "    }\n",
       "\n",
       "    .dataframe tbody tr th {\n",
       "        vertical-align: top;\n",
       "    }\n",
       "\n",
       "    .dataframe thead th {\n",
       "        text-align: right;\n",
       "    }\n",
       "</style>\n",
       "<table border=\"1\" class=\"dataframe\">\n",
       "  <thead>\n",
       "    <tr style=\"text-align: right;\">\n",
       "      <th></th>\n",
       "      <th>user_id</th>\n",
       "      <th>first_name</th>\n",
       "      <th>last_name</th>\n",
       "      <th>age</th>\n",
       "      <th>city</th>\n",
       "      <th>reg_date</th>\n",
       "      <th>plan</th>\n",
       "      <th>churn_date</th>\n",
       "      <th>plan_in_use</th>\n",
       "    </tr>\n",
       "  </thead>\n",
       "  <tbody>\n",
       "    <tr>\n",
       "      <th>0</th>\n",
       "      <td>1000</td>\n",
       "      <td>Anamaria</td>\n",
       "      <td>Bauer</td>\n",
       "      <td>45</td>\n",
       "      <td>Atlanta-Sandy Springs-Roswell, GA MSA</td>\n",
       "      <td>2018-12-24</td>\n",
       "      <td>ultimate</td>\n",
       "      <td>na</td>\n",
       "      <td>True</td>\n",
       "    </tr>\n",
       "    <tr>\n",
       "      <th>1</th>\n",
       "      <td>1001</td>\n",
       "      <td>Mickey</td>\n",
       "      <td>Wilkerson</td>\n",
       "      <td>28</td>\n",
       "      <td>Seattle-Tacoma-Bellevue, WA MSA</td>\n",
       "      <td>2018-08-13</td>\n",
       "      <td>surf</td>\n",
       "      <td>na</td>\n",
       "      <td>True</td>\n",
       "    </tr>\n",
       "    <tr>\n",
       "      <th>2</th>\n",
       "      <td>1002</td>\n",
       "      <td>Carlee</td>\n",
       "      <td>Hoffman</td>\n",
       "      <td>36</td>\n",
       "      <td>Las Vegas-Henderson-Paradise, NV MSA</td>\n",
       "      <td>2018-10-21</td>\n",
       "      <td>surf</td>\n",
       "      <td>na</td>\n",
       "      <td>True</td>\n",
       "    </tr>\n",
       "    <tr>\n",
       "      <th>3</th>\n",
       "      <td>1003</td>\n",
       "      <td>Reynaldo</td>\n",
       "      <td>Jenkins</td>\n",
       "      <td>52</td>\n",
       "      <td>Tulsa, OK MSA</td>\n",
       "      <td>2018-01-28</td>\n",
       "      <td>surf</td>\n",
       "      <td>na</td>\n",
       "      <td>True</td>\n",
       "    </tr>\n",
       "    <tr>\n",
       "      <th>4</th>\n",
       "      <td>1004</td>\n",
       "      <td>Leonila</td>\n",
       "      <td>Thompson</td>\n",
       "      <td>40</td>\n",
       "      <td>Seattle-Tacoma-Bellevue, WA MSA</td>\n",
       "      <td>2018-05-23</td>\n",
       "      <td>surf</td>\n",
       "      <td>na</td>\n",
       "      <td>True</td>\n",
       "    </tr>\n",
       "    <tr>\n",
       "      <th>5</th>\n",
       "      <td>1005</td>\n",
       "      <td>Livia</td>\n",
       "      <td>Shields</td>\n",
       "      <td>31</td>\n",
       "      <td>Dallas-Fort Worth-Arlington, TX MSA</td>\n",
       "      <td>2018-11-29</td>\n",
       "      <td>surf</td>\n",
       "      <td>na</td>\n",
       "      <td>True</td>\n",
       "    </tr>\n",
       "    <tr>\n",
       "      <th>6</th>\n",
       "      <td>1006</td>\n",
       "      <td>Jesusa</td>\n",
       "      <td>Bradford</td>\n",
       "      <td>73</td>\n",
       "      <td>San Francisco-Oakland-Berkeley, CA MSA</td>\n",
       "      <td>2018-11-27</td>\n",
       "      <td>ultimate</td>\n",
       "      <td>2018-12-18</td>\n",
       "      <td>False</td>\n",
       "    </tr>\n",
       "    <tr>\n",
       "      <th>7</th>\n",
       "      <td>1007</td>\n",
       "      <td>Eusebio</td>\n",
       "      <td>Welch</td>\n",
       "      <td>42</td>\n",
       "      <td>Grand Rapids-Kentwood, MI MSA</td>\n",
       "      <td>2018-07-11</td>\n",
       "      <td>surf</td>\n",
       "      <td>na</td>\n",
       "      <td>True</td>\n",
       "    </tr>\n",
       "    <tr>\n",
       "      <th>8</th>\n",
       "      <td>1008</td>\n",
       "      <td>Emely</td>\n",
       "      <td>Hoffman</td>\n",
       "      <td>53</td>\n",
       "      <td>Orlando-Kissimmee-Sanford, FL MSA</td>\n",
       "      <td>2018-08-03</td>\n",
       "      <td>ultimate</td>\n",
       "      <td>na</td>\n",
       "      <td>True</td>\n",
       "    </tr>\n",
       "    <tr>\n",
       "      <th>9</th>\n",
       "      <td>1009</td>\n",
       "      <td>Gerry</td>\n",
       "      <td>Little</td>\n",
       "      <td>19</td>\n",
       "      <td>San Jose-Sunnyvale-Santa Clara, CA MSA</td>\n",
       "      <td>2018-04-22</td>\n",
       "      <td>surf</td>\n",
       "      <td>na</td>\n",
       "      <td>True</td>\n",
       "    </tr>\n",
       "  </tbody>\n",
       "</table>\n",
       "</div>"
      ],
      "text/plain": [
       "   user_id first_name  last_name  age                                    city  \\\n",
       "0     1000   Anamaria      Bauer   45   Atlanta-Sandy Springs-Roswell, GA MSA   \n",
       "1     1001     Mickey  Wilkerson   28         Seattle-Tacoma-Bellevue, WA MSA   \n",
       "2     1002     Carlee    Hoffman   36    Las Vegas-Henderson-Paradise, NV MSA   \n",
       "3     1003   Reynaldo    Jenkins   52                           Tulsa, OK MSA   \n",
       "4     1004    Leonila   Thompson   40         Seattle-Tacoma-Bellevue, WA MSA   \n",
       "5     1005      Livia    Shields   31     Dallas-Fort Worth-Arlington, TX MSA   \n",
       "6     1006     Jesusa   Bradford   73  San Francisco-Oakland-Berkeley, CA MSA   \n",
       "7     1007    Eusebio      Welch   42           Grand Rapids-Kentwood, MI MSA   \n",
       "8     1008      Emely    Hoffman   53       Orlando-Kissimmee-Sanford, FL MSA   \n",
       "9     1009      Gerry     Little   19  San Jose-Sunnyvale-Santa Clara, CA MSA   \n",
       "\n",
       "    reg_date      plan  churn_date  plan_in_use  \n",
       "0 2018-12-24  ultimate          na         True  \n",
       "1 2018-08-13      surf          na         True  \n",
       "2 2018-10-21      surf          na         True  \n",
       "3 2018-01-28      surf          na         True  \n",
       "4 2018-05-23      surf          na         True  \n",
       "5 2018-11-29      surf          na         True  \n",
       "6 2018-11-27  ultimate  2018-12-18        False  \n",
       "7 2018-07-11      surf          na         True  \n",
       "8 2018-08-03  ultimate          na         True  \n",
       "9 2018-04-22      surf          na         True  "
      ]
     },
     "execution_count": 225,
     "metadata": {},
     "output_type": "execute_result"
    }
   ],
   "source": [
    "users_df.head(10)"
   ]
  },
  {
   "cell_type": "code",
   "execution_count": 226,
   "metadata": {},
   "outputs": [],
   "source": [
    "#We remove the unwanted columns for the final reference table for easy understanding\n",
    "user_final_df=user_final_df.drop(['number_of_calls'],axis=1)"
   ]
  },
  {
   "cell_type": "code",
   "execution_count": 227,
   "metadata": {},
   "outputs": [
    {
     "name": "stdout",
     "output_type": "stream",
     "text": [
      "<class 'pandas.core.frame.DataFrame'>\n",
      "Int64Index: 2293 entries, 0 to 2292\n",
      "Data columns (total 6 columns):\n",
      " #   Column              Non-Null Count  Dtype  \n",
      "---  ------              --------------  -----  \n",
      " 0   user_id             2293 non-null   int64  \n",
      " 1   month               2293 non-null   int64  \n",
      " 2   minutes_used        2293 non-null   float64\n",
      " 3   mb_used             2293 non-null   float64\n",
      " 4   gb_used             2293 non-null   float64\n",
      " 5   number_of_messages  2293 non-null   float64\n",
      "dtypes: float64(4), int64(2)\n",
      "memory usage: 125.4 KB\n"
     ]
    }
   ],
   "source": [
    "user_final_df.info()"
   ]
  },
  {
   "cell_type": "code",
   "execution_count": 228,
   "metadata": {},
   "outputs": [
    {
     "data": {
      "text/html": [
       "<div>\n",
       "<style scoped>\n",
       "    .dataframe tbody tr th:only-of-type {\n",
       "        vertical-align: middle;\n",
       "    }\n",
       "\n",
       "    .dataframe tbody tr th {\n",
       "        vertical-align: top;\n",
       "    }\n",
       "\n",
       "    .dataframe thead th {\n",
       "        text-align: right;\n",
       "    }\n",
       "</style>\n",
       "<table border=\"1\" class=\"dataframe\">\n",
       "  <thead>\n",
       "    <tr style=\"text-align: right;\">\n",
       "      <th></th>\n",
       "      <th>user_id</th>\n",
       "      <th>month</th>\n",
       "      <th>minutes_used</th>\n",
       "      <th>mb_used</th>\n",
       "      <th>gb_used</th>\n",
       "      <th>number_of_messages</th>\n",
       "    </tr>\n",
       "  </thead>\n",
       "  <tbody>\n",
       "    <tr>\n",
       "      <th>0</th>\n",
       "      <td>1000</td>\n",
       "      <td>12</td>\n",
       "      <td>124.0</td>\n",
       "      <td>1901.47</td>\n",
       "      <td>2.0</td>\n",
       "      <td>11.0</td>\n",
       "    </tr>\n",
       "    <tr>\n",
       "      <th>1</th>\n",
       "      <td>1001</td>\n",
       "      <td>8</td>\n",
       "      <td>182.0</td>\n",
       "      <td>6919.15</td>\n",
       "      <td>7.0</td>\n",
       "      <td>30.0</td>\n",
       "    </tr>\n",
       "    <tr>\n",
       "      <th>2</th>\n",
       "      <td>1001</td>\n",
       "      <td>9</td>\n",
       "      <td>315.0</td>\n",
       "      <td>13314.82</td>\n",
       "      <td>14.0</td>\n",
       "      <td>44.0</td>\n",
       "    </tr>\n",
       "    <tr>\n",
       "      <th>3</th>\n",
       "      <td>1001</td>\n",
       "      <td>10</td>\n",
       "      <td>393.0</td>\n",
       "      <td>22330.49</td>\n",
       "      <td>22.0</td>\n",
       "      <td>53.0</td>\n",
       "    </tr>\n",
       "    <tr>\n",
       "      <th>4</th>\n",
       "      <td>1001</td>\n",
       "      <td>11</td>\n",
       "      <td>426.0</td>\n",
       "      <td>18504.30</td>\n",
       "      <td>19.0</td>\n",
       "      <td>36.0</td>\n",
       "    </tr>\n",
       "    <tr>\n",
       "      <th>...</th>\n",
       "      <td>...</td>\n",
       "      <td>...</td>\n",
       "      <td>...</td>\n",
       "      <td>...</td>\n",
       "      <td>...</td>\n",
       "      <td>...</td>\n",
       "    </tr>\n",
       "    <tr>\n",
       "      <th>2288</th>\n",
       "      <td>1349</td>\n",
       "      <td>10</td>\n",
       "      <td>0.0</td>\n",
       "      <td>13093.55</td>\n",
       "      <td>13.0</td>\n",
       "      <td>76.0</td>\n",
       "    </tr>\n",
       "    <tr>\n",
       "      <th>2289</th>\n",
       "      <td>1349</td>\n",
       "      <td>11</td>\n",
       "      <td>0.0</td>\n",
       "      <td>17128.26</td>\n",
       "      <td>17.0</td>\n",
       "      <td>72.0</td>\n",
       "    </tr>\n",
       "    <tr>\n",
       "      <th>2290</th>\n",
       "      <td>1349</td>\n",
       "      <td>12</td>\n",
       "      <td>0.0</td>\n",
       "      <td>13039.91</td>\n",
       "      <td>13.0</td>\n",
       "      <td>61.0</td>\n",
       "    </tr>\n",
       "    <tr>\n",
       "      <th>2291</th>\n",
       "      <td>1361</td>\n",
       "      <td>5</td>\n",
       "      <td>0.0</td>\n",
       "      <td>1519.69</td>\n",
       "      <td>2.0</td>\n",
       "      <td>2.0</td>\n",
       "    </tr>\n",
       "    <tr>\n",
       "      <th>2292</th>\n",
       "      <td>1482</td>\n",
       "      <td>10</td>\n",
       "      <td>0.0</td>\n",
       "      <td>0.00</td>\n",
       "      <td>0.0</td>\n",
       "      <td>2.0</td>\n",
       "    </tr>\n",
       "  </tbody>\n",
       "</table>\n",
       "<p>2293 rows × 6 columns</p>\n",
       "</div>"
      ],
      "text/plain": [
       "      user_id  month  minutes_used   mb_used  gb_used  number_of_messages\n",
       "0        1000     12         124.0   1901.47      2.0                11.0\n",
       "1        1001      8         182.0   6919.15      7.0                30.0\n",
       "2        1001      9         315.0  13314.82     14.0                44.0\n",
       "3        1001     10         393.0  22330.49     22.0                53.0\n",
       "4        1001     11         426.0  18504.30     19.0                36.0\n",
       "...       ...    ...           ...       ...      ...                 ...\n",
       "2288     1349     10           0.0  13093.55     13.0                76.0\n",
       "2289     1349     11           0.0  17128.26     17.0                72.0\n",
       "2290     1349     12           0.0  13039.91     13.0                61.0\n",
       "2291     1361      5           0.0   1519.69      2.0                 2.0\n",
       "2292     1482     10           0.0      0.00      0.0                 2.0\n",
       "\n",
       "[2293 rows x 6 columns]"
      ]
     },
     "execution_count": 228,
     "metadata": {},
     "output_type": "execute_result"
    }
   ],
   "source": [
    "user_final_df"
   ]
  },
  {
   "cell_type": "markdown",
   "metadata": {},
   "source": [
    "### Working with each plan , and calculating extra charges for each user ."
   ]
  },
  {
   "cell_type": "code",
   "execution_count": 229,
   "metadata": {},
   "outputs": [],
   "source": [
    "#creating a buffer dataset with 'user_id' and 'plan' fields mainly to merge plan details to our 'user_final_df' dataset\n",
    "users_plan=users_df[['user_id','plan']]"
   ]
  },
  {
   "cell_type": "code",
   "execution_count": 230,
   "metadata": {},
   "outputs": [
    {
     "data": {
      "text/html": [
       "<div>\n",
       "<style scoped>\n",
       "    .dataframe tbody tr th:only-of-type {\n",
       "        vertical-align: middle;\n",
       "    }\n",
       "\n",
       "    .dataframe tbody tr th {\n",
       "        vertical-align: top;\n",
       "    }\n",
       "\n",
       "    .dataframe thead th {\n",
       "        text-align: right;\n",
       "    }\n",
       "</style>\n",
       "<table border=\"1\" class=\"dataframe\">\n",
       "  <thead>\n",
       "    <tr style=\"text-align: right;\">\n",
       "      <th></th>\n",
       "      <th>user_id</th>\n",
       "      <th>plan</th>\n",
       "    </tr>\n",
       "  </thead>\n",
       "  <tbody>\n",
       "    <tr>\n",
       "      <th>0</th>\n",
       "      <td>1000</td>\n",
       "      <td>ultimate</td>\n",
       "    </tr>\n",
       "    <tr>\n",
       "      <th>1</th>\n",
       "      <td>1001</td>\n",
       "      <td>surf</td>\n",
       "    </tr>\n",
       "    <tr>\n",
       "      <th>2</th>\n",
       "      <td>1002</td>\n",
       "      <td>surf</td>\n",
       "    </tr>\n",
       "    <tr>\n",
       "      <th>3</th>\n",
       "      <td>1003</td>\n",
       "      <td>surf</td>\n",
       "    </tr>\n",
       "    <tr>\n",
       "      <th>4</th>\n",
       "      <td>1004</td>\n",
       "      <td>surf</td>\n",
       "    </tr>\n",
       "    <tr>\n",
       "      <th>5</th>\n",
       "      <td>1005</td>\n",
       "      <td>surf</td>\n",
       "    </tr>\n",
       "    <tr>\n",
       "      <th>6</th>\n",
       "      <td>1006</td>\n",
       "      <td>ultimate</td>\n",
       "    </tr>\n",
       "    <tr>\n",
       "      <th>7</th>\n",
       "      <td>1007</td>\n",
       "      <td>surf</td>\n",
       "    </tr>\n",
       "    <tr>\n",
       "      <th>8</th>\n",
       "      <td>1008</td>\n",
       "      <td>ultimate</td>\n",
       "    </tr>\n",
       "    <tr>\n",
       "      <th>9</th>\n",
       "      <td>1009</td>\n",
       "      <td>surf</td>\n",
       "    </tr>\n",
       "  </tbody>\n",
       "</table>\n",
       "</div>"
      ],
      "text/plain": [
       "   user_id      plan\n",
       "0     1000  ultimate\n",
       "1     1001      surf\n",
       "2     1002      surf\n",
       "3     1003      surf\n",
       "4     1004      surf\n",
       "5     1005      surf\n",
       "6     1006  ultimate\n",
       "7     1007      surf\n",
       "8     1008  ultimate\n",
       "9     1009      surf"
      ]
     },
     "execution_count": 230,
     "metadata": {},
     "output_type": "execute_result"
    }
   ],
   "source": [
    "users_plan.head(10)"
   ]
  },
  {
   "cell_type": "code",
   "execution_count": 231,
   "metadata": {},
   "outputs": [
    {
     "data": {
      "text/plain": [
       "1077    12\n",
       "1042    12\n",
       "1185    12\n",
       "1362    12\n",
       "1196    12\n",
       "        ..\n",
       "1221     1\n",
       "1262     1\n",
       "1266     1\n",
       "1207     1\n",
       "1000     1\n",
       "Name: user_id, Length: 490, dtype: int64"
      ]
     },
     "execution_count": 231,
     "metadata": {},
     "output_type": "execute_result"
    }
   ],
   "source": [
    "user_final_df['user_id'].value_counts()"
   ]
  },
  {
   "cell_type": "code",
   "execution_count": 232,
   "metadata": {},
   "outputs": [],
   "source": [
    "#getting new column for plan in our user_final_df by merging with 'users_plan' dataset\n",
    "user_final_df=user_final_df.merge(users_plan,on='user_id')"
   ]
  },
  {
   "cell_type": "markdown",
   "metadata": {},
   "source": [
    "###  Defining functions to calculate extra minutes,gb_used and messages_sent to calculate the extra_charges for each user.."
   ]
  },
  {
   "cell_type": "code",
   "execution_count": 233,
   "metadata": {},
   "outputs": [],
   "source": [
    "#function to calculate extra minutes\n",
    "def get_extra_minutes(row):\n",
    "    \n",
    "    used_minutes=row['minutes_used']\n",
    "    plan_name =row['plan']\n",
    "    extra_minutes=0\n",
    "    if (plan_name == 'surf'):\n",
    "        extra_minutes=used_minutes - int(plans_df.query('plan_name == \"surf\"').minutes_included)\n",
    "    else:\n",
    "        extra_minutes=used_minutes - int(plans_df.query('plan_name != \"surf\"').minutes_included)\n",
    "    if (extra_minutes < 0 ):\n",
    "        extra_minutes = 0\n",
    "    return extra_minutes\n",
    "        "
   ]
  },
  {
   "cell_type": "code",
   "execution_count": 234,
   "metadata": {},
   "outputs": [],
   "source": [
    "\n",
    "user_final_df['extra_minutes']=user_final_df.apply(get_extra_minutes,axis=1).astype(int)"
   ]
  },
  {
   "cell_type": "code",
   "execution_count": 235,
   "metadata": {},
   "outputs": [],
   "source": [
    "#function to calculate extra gb\n",
    "def get_extra_gb(row):\n",
    "    used_mb=row['mb_used']\n",
    "    plan_name=row['plan']\n",
    "    extra_mb=0\n",
    "    if (plan_name == 'surf'):\n",
    "        extra_gb=(used_mb - int(plans_df.query('plan_name == \"surf\"').mb_per_month_included))/1024\n",
    "    else:\n",
    "        extra_gb=(used_mb - int(plans_df.query('plan_name != \"surf\"').mb_per_month_included))/1024\n",
    "    if (extra_gb < 0 ):\n",
    "        extra_gb = 0\n",
    "    return extra_gb\n",
    "    \n",
    "    \n",
    "    "
   ]
  },
  {
   "cell_type": "code",
   "execution_count": 236,
   "metadata": {},
   "outputs": [],
   "source": [
    "user_final_df['extra_gb']=user_final_df.apply(get_extra_gb,axis=1).astype(int)"
   ]
  },
  {
   "cell_type": "code",
   "execution_count": 237,
   "metadata": {},
   "outputs": [
    {
     "data": {
      "text/html": [
       "<div>\n",
       "<style scoped>\n",
       "    .dataframe tbody tr th:only-of-type {\n",
       "        vertical-align: middle;\n",
       "    }\n",
       "\n",
       "    .dataframe tbody tr th {\n",
       "        vertical-align: top;\n",
       "    }\n",
       "\n",
       "    .dataframe thead th {\n",
       "        text-align: right;\n",
       "    }\n",
       "</style>\n",
       "<table border=\"1\" class=\"dataframe\">\n",
       "  <thead>\n",
       "    <tr style=\"text-align: right;\">\n",
       "      <th></th>\n",
       "      <th>user_id</th>\n",
       "      <th>month</th>\n",
       "      <th>minutes_used</th>\n",
       "      <th>mb_used</th>\n",
       "      <th>gb_used</th>\n",
       "      <th>number_of_messages</th>\n",
       "      <th>plan</th>\n",
       "      <th>extra_minutes</th>\n",
       "      <th>extra_gb</th>\n",
       "    </tr>\n",
       "  </thead>\n",
       "  <tbody>\n",
       "    <tr>\n",
       "      <th>0</th>\n",
       "      <td>1000</td>\n",
       "      <td>12</td>\n",
       "      <td>124.0</td>\n",
       "      <td>1901.47</td>\n",
       "      <td>2.0</td>\n",
       "      <td>11.0</td>\n",
       "      <td>ultimate</td>\n",
       "      <td>0</td>\n",
       "      <td>0</td>\n",
       "    </tr>\n",
       "    <tr>\n",
       "      <th>1</th>\n",
       "      <td>1001</td>\n",
       "      <td>8</td>\n",
       "      <td>182.0</td>\n",
       "      <td>6919.15</td>\n",
       "      <td>7.0</td>\n",
       "      <td>30.0</td>\n",
       "      <td>surf</td>\n",
       "      <td>0</td>\n",
       "      <td>0</td>\n",
       "    </tr>\n",
       "    <tr>\n",
       "      <th>2</th>\n",
       "      <td>1001</td>\n",
       "      <td>9</td>\n",
       "      <td>315.0</td>\n",
       "      <td>13314.82</td>\n",
       "      <td>14.0</td>\n",
       "      <td>44.0</td>\n",
       "      <td>surf</td>\n",
       "      <td>0</td>\n",
       "      <td>0</td>\n",
       "    </tr>\n",
       "    <tr>\n",
       "      <th>3</th>\n",
       "      <td>1001</td>\n",
       "      <td>10</td>\n",
       "      <td>393.0</td>\n",
       "      <td>22330.49</td>\n",
       "      <td>22.0</td>\n",
       "      <td>53.0</td>\n",
       "      <td>surf</td>\n",
       "      <td>0</td>\n",
       "      <td>6</td>\n",
       "    </tr>\n",
       "    <tr>\n",
       "      <th>4</th>\n",
       "      <td>1001</td>\n",
       "      <td>11</td>\n",
       "      <td>426.0</td>\n",
       "      <td>18504.30</td>\n",
       "      <td>19.0</td>\n",
       "      <td>36.0</td>\n",
       "      <td>surf</td>\n",
       "      <td>0</td>\n",
       "      <td>3</td>\n",
       "    </tr>\n",
       "    <tr>\n",
       "      <th>...</th>\n",
       "      <td>...</td>\n",
       "      <td>...</td>\n",
       "      <td>...</td>\n",
       "      <td>...</td>\n",
       "      <td>...</td>\n",
       "      <td>...</td>\n",
       "      <td>...</td>\n",
       "      <td>...</td>\n",
       "      <td>...</td>\n",
       "    </tr>\n",
       "    <tr>\n",
       "      <th>2288</th>\n",
       "      <td>1204</td>\n",
       "      <td>11</td>\n",
       "      <td>0.0</td>\n",
       "      <td>21346.95</td>\n",
       "      <td>21.0</td>\n",
       "      <td>42.0</td>\n",
       "      <td>ultimate</td>\n",
       "      <td>0</td>\n",
       "      <td>0</td>\n",
       "    </tr>\n",
       "    <tr>\n",
       "      <th>2289</th>\n",
       "      <td>1204</td>\n",
       "      <td>12</td>\n",
       "      <td>0.0</td>\n",
       "      <td>36730.05</td>\n",
       "      <td>36.0</td>\n",
       "      <td>78.0</td>\n",
       "      <td>ultimate</td>\n",
       "      <td>0</td>\n",
       "      <td>5</td>\n",
       "    </tr>\n",
       "    <tr>\n",
       "      <th>2290</th>\n",
       "      <td>1349</td>\n",
       "      <td>10</td>\n",
       "      <td>0.0</td>\n",
       "      <td>13093.55</td>\n",
       "      <td>13.0</td>\n",
       "      <td>76.0</td>\n",
       "      <td>surf</td>\n",
       "      <td>0</td>\n",
       "      <td>0</td>\n",
       "    </tr>\n",
       "    <tr>\n",
       "      <th>2291</th>\n",
       "      <td>1349</td>\n",
       "      <td>11</td>\n",
       "      <td>0.0</td>\n",
       "      <td>17128.26</td>\n",
       "      <td>17.0</td>\n",
       "      <td>72.0</td>\n",
       "      <td>surf</td>\n",
       "      <td>0</td>\n",
       "      <td>1</td>\n",
       "    </tr>\n",
       "    <tr>\n",
       "      <th>2292</th>\n",
       "      <td>1349</td>\n",
       "      <td>12</td>\n",
       "      <td>0.0</td>\n",
       "      <td>13039.91</td>\n",
       "      <td>13.0</td>\n",
       "      <td>61.0</td>\n",
       "      <td>surf</td>\n",
       "      <td>0</td>\n",
       "      <td>0</td>\n",
       "    </tr>\n",
       "  </tbody>\n",
       "</table>\n",
       "<p>2293 rows × 9 columns</p>\n",
       "</div>"
      ],
      "text/plain": [
       "      user_id  month  minutes_used   mb_used  gb_used  number_of_messages  \\\n",
       "0        1000     12         124.0   1901.47      2.0                11.0   \n",
       "1        1001      8         182.0   6919.15      7.0                30.0   \n",
       "2        1001      9         315.0  13314.82     14.0                44.0   \n",
       "3        1001     10         393.0  22330.49     22.0                53.0   \n",
       "4        1001     11         426.0  18504.30     19.0                36.0   \n",
       "...       ...    ...           ...       ...      ...                 ...   \n",
       "2288     1204     11           0.0  21346.95     21.0                42.0   \n",
       "2289     1204     12           0.0  36730.05     36.0                78.0   \n",
       "2290     1349     10           0.0  13093.55     13.0                76.0   \n",
       "2291     1349     11           0.0  17128.26     17.0                72.0   \n",
       "2292     1349     12           0.0  13039.91     13.0                61.0   \n",
       "\n",
       "          plan  extra_minutes  extra_gb  \n",
       "0     ultimate              0         0  \n",
       "1         surf              0         0  \n",
       "2         surf              0         0  \n",
       "3         surf              0         6  \n",
       "4         surf              0         3  \n",
       "...        ...            ...       ...  \n",
       "2288  ultimate              0         0  \n",
       "2289  ultimate              0         5  \n",
       "2290      surf              0         0  \n",
       "2291      surf              0         1  \n",
       "2292      surf              0         0  \n",
       "\n",
       "[2293 rows x 9 columns]"
      ]
     },
     "execution_count": 237,
     "metadata": {},
     "output_type": "execute_result"
    }
   ],
   "source": [
    "user_final_df"
   ]
  },
  {
   "cell_type": "code",
   "execution_count": 238,
   "metadata": {},
   "outputs": [],
   "source": [
    "#function to calculate extra messages \n",
    "def get_extra_messages(row):\n",
    "    used_messages=row['number_of_messages']\n",
    "    plan_name=row['plan']\n",
    "    extra_gb=0\n",
    "    if (plan_name == 'surf'):\n",
    "        extra_messages=used_messages - int(plans_df.query('plan_name == \"surf\"').messages_included)\n",
    "    else:\n",
    "        extra_messages=used_messages - int(plans_df.query('plan_name != \"surf\"').messages_included)\n",
    "    if (extra_messages < 0 ):\n",
    "        extra_messages = 0\n",
    "    return extra_messages\n",
    "    "
   ]
  },
  {
   "cell_type": "code",
   "execution_count": 239,
   "metadata": {},
   "outputs": [],
   "source": [
    "user_final_df['extra_messages']=user_final_df.apply(get_extra_messages,axis=1).astype(int)"
   ]
  },
  {
   "cell_type": "code",
   "execution_count": 240,
   "metadata": {},
   "outputs": [
    {
     "data": {
      "text/html": [
       "<div>\n",
       "<style scoped>\n",
       "    .dataframe tbody tr th:only-of-type {\n",
       "        vertical-align: middle;\n",
       "    }\n",
       "\n",
       "    .dataframe tbody tr th {\n",
       "        vertical-align: top;\n",
       "    }\n",
       "\n",
       "    .dataframe thead th {\n",
       "        text-align: right;\n",
       "    }\n",
       "</style>\n",
       "<table border=\"1\" class=\"dataframe\">\n",
       "  <thead>\n",
       "    <tr style=\"text-align: right;\">\n",
       "      <th></th>\n",
       "      <th>user_id</th>\n",
       "      <th>month</th>\n",
       "      <th>minutes_used</th>\n",
       "      <th>mb_used</th>\n",
       "      <th>gb_used</th>\n",
       "      <th>number_of_messages</th>\n",
       "      <th>plan</th>\n",
       "      <th>extra_minutes</th>\n",
       "      <th>extra_gb</th>\n",
       "      <th>extra_messages</th>\n",
       "    </tr>\n",
       "  </thead>\n",
       "  <tbody>\n",
       "    <tr>\n",
       "      <th>0</th>\n",
       "      <td>1000</td>\n",
       "      <td>12</td>\n",
       "      <td>124.0</td>\n",
       "      <td>1901.47</td>\n",
       "      <td>2.0</td>\n",
       "      <td>11.0</td>\n",
       "      <td>ultimate</td>\n",
       "      <td>0</td>\n",
       "      <td>0</td>\n",
       "      <td>0</td>\n",
       "    </tr>\n",
       "    <tr>\n",
       "      <th>1</th>\n",
       "      <td>1001</td>\n",
       "      <td>8</td>\n",
       "      <td>182.0</td>\n",
       "      <td>6919.15</td>\n",
       "      <td>7.0</td>\n",
       "      <td>30.0</td>\n",
       "      <td>surf</td>\n",
       "      <td>0</td>\n",
       "      <td>0</td>\n",
       "      <td>0</td>\n",
       "    </tr>\n",
       "    <tr>\n",
       "      <th>2</th>\n",
       "      <td>1001</td>\n",
       "      <td>9</td>\n",
       "      <td>315.0</td>\n",
       "      <td>13314.82</td>\n",
       "      <td>14.0</td>\n",
       "      <td>44.0</td>\n",
       "      <td>surf</td>\n",
       "      <td>0</td>\n",
       "      <td>0</td>\n",
       "      <td>0</td>\n",
       "    </tr>\n",
       "    <tr>\n",
       "      <th>3</th>\n",
       "      <td>1001</td>\n",
       "      <td>10</td>\n",
       "      <td>393.0</td>\n",
       "      <td>22330.49</td>\n",
       "      <td>22.0</td>\n",
       "      <td>53.0</td>\n",
       "      <td>surf</td>\n",
       "      <td>0</td>\n",
       "      <td>6</td>\n",
       "      <td>3</td>\n",
       "    </tr>\n",
       "    <tr>\n",
       "      <th>4</th>\n",
       "      <td>1001</td>\n",
       "      <td>11</td>\n",
       "      <td>426.0</td>\n",
       "      <td>18504.30</td>\n",
       "      <td>19.0</td>\n",
       "      <td>36.0</td>\n",
       "      <td>surf</td>\n",
       "      <td>0</td>\n",
       "      <td>3</td>\n",
       "      <td>0</td>\n",
       "    </tr>\n",
       "    <tr>\n",
       "      <th>...</th>\n",
       "      <td>...</td>\n",
       "      <td>...</td>\n",
       "      <td>...</td>\n",
       "      <td>...</td>\n",
       "      <td>...</td>\n",
       "      <td>...</td>\n",
       "      <td>...</td>\n",
       "      <td>...</td>\n",
       "      <td>...</td>\n",
       "      <td>...</td>\n",
       "    </tr>\n",
       "    <tr>\n",
       "      <th>2288</th>\n",
       "      <td>1204</td>\n",
       "      <td>11</td>\n",
       "      <td>0.0</td>\n",
       "      <td>21346.95</td>\n",
       "      <td>21.0</td>\n",
       "      <td>42.0</td>\n",
       "      <td>ultimate</td>\n",
       "      <td>0</td>\n",
       "      <td>0</td>\n",
       "      <td>0</td>\n",
       "    </tr>\n",
       "    <tr>\n",
       "      <th>2289</th>\n",
       "      <td>1204</td>\n",
       "      <td>12</td>\n",
       "      <td>0.0</td>\n",
       "      <td>36730.05</td>\n",
       "      <td>36.0</td>\n",
       "      <td>78.0</td>\n",
       "      <td>ultimate</td>\n",
       "      <td>0</td>\n",
       "      <td>5</td>\n",
       "      <td>0</td>\n",
       "    </tr>\n",
       "    <tr>\n",
       "      <th>2290</th>\n",
       "      <td>1349</td>\n",
       "      <td>10</td>\n",
       "      <td>0.0</td>\n",
       "      <td>13093.55</td>\n",
       "      <td>13.0</td>\n",
       "      <td>76.0</td>\n",
       "      <td>surf</td>\n",
       "      <td>0</td>\n",
       "      <td>0</td>\n",
       "      <td>26</td>\n",
       "    </tr>\n",
       "    <tr>\n",
       "      <th>2291</th>\n",
       "      <td>1349</td>\n",
       "      <td>11</td>\n",
       "      <td>0.0</td>\n",
       "      <td>17128.26</td>\n",
       "      <td>17.0</td>\n",
       "      <td>72.0</td>\n",
       "      <td>surf</td>\n",
       "      <td>0</td>\n",
       "      <td>1</td>\n",
       "      <td>22</td>\n",
       "    </tr>\n",
       "    <tr>\n",
       "      <th>2292</th>\n",
       "      <td>1349</td>\n",
       "      <td>12</td>\n",
       "      <td>0.0</td>\n",
       "      <td>13039.91</td>\n",
       "      <td>13.0</td>\n",
       "      <td>61.0</td>\n",
       "      <td>surf</td>\n",
       "      <td>0</td>\n",
       "      <td>0</td>\n",
       "      <td>11</td>\n",
       "    </tr>\n",
       "  </tbody>\n",
       "</table>\n",
       "<p>2293 rows × 10 columns</p>\n",
       "</div>"
      ],
      "text/plain": [
       "      user_id  month  minutes_used   mb_used  gb_used  number_of_messages  \\\n",
       "0        1000     12         124.0   1901.47      2.0                11.0   \n",
       "1        1001      8         182.0   6919.15      7.0                30.0   \n",
       "2        1001      9         315.0  13314.82     14.0                44.0   \n",
       "3        1001     10         393.0  22330.49     22.0                53.0   \n",
       "4        1001     11         426.0  18504.30     19.0                36.0   \n",
       "...       ...    ...           ...       ...      ...                 ...   \n",
       "2288     1204     11           0.0  21346.95     21.0                42.0   \n",
       "2289     1204     12           0.0  36730.05     36.0                78.0   \n",
       "2290     1349     10           0.0  13093.55     13.0                76.0   \n",
       "2291     1349     11           0.0  17128.26     17.0                72.0   \n",
       "2292     1349     12           0.0  13039.91     13.0                61.0   \n",
       "\n",
       "          plan  extra_minutes  extra_gb  extra_messages  \n",
       "0     ultimate              0         0               0  \n",
       "1         surf              0         0               0  \n",
       "2         surf              0         0               0  \n",
       "3         surf              0         6               3  \n",
       "4         surf              0         3               0  \n",
       "...        ...            ...       ...             ...  \n",
       "2288  ultimate              0         0               0  \n",
       "2289  ultimate              0         5               0  \n",
       "2290      surf              0         0              26  \n",
       "2291      surf              0         1              22  \n",
       "2292      surf              0         0              11  \n",
       "\n",
       "[2293 rows x 10 columns]"
      ]
     },
     "execution_count": 240,
     "metadata": {},
     "output_type": "execute_result"
    }
   ],
   "source": [
    "user_final_df"
   ]
  },
  {
   "cell_type": "code",
   "execution_count": 241,
   "metadata": {},
   "outputs": [],
   "source": [
    "#function to calculate extra charges incurred by each user and  'total revenue' (that includes monthly charge)from each user\n",
    "def get_extra_charges(row):\n",
    "    extra_minutes=row['extra_minutes']\n",
    "    extra_gb=row['extra_gb']\n",
    "    extra_messages=row['extra_messages']\n",
    "    plan_name=row['plan']\n",
    "    extra_charges =0\n",
    "    extra_minutes_charge=0\n",
    "    extra_gb_charge=0\n",
    "    extra_messages_charge=0\n",
    "    monthly_charge=0\n",
    "    total_revenue=0\n",
    "    if (plan_name == 'surf'):\n",
    "        monthly_charge=int(plans_df.query('plan_name == \"surf\"').usd_monthly_pay)\n",
    "        if(extra_minutes > 0):\n",
    "            extra_minutes_charge=int(plans_df.query('plan_name == \"surf\"').usd_per_minute )* extra_minutes\n",
    "        if(extra_gb > 0):\n",
    "            extra_gb_charge = int(plans_df.query('plan_name == \"surf\"').usd_per_gb )* extra_gb\n",
    "        if(extra_messages > 0):\n",
    "            extra_messages_charge = int(plans_df.query('plan_name == \"surf\"').usd_per_message) * extra_messages\n",
    "        total_charge=extra_minutes_charge+extra_gb_charge+extra_messages_charge\n",
    "        total_revenue = total_charge+monthly_charge\n",
    "    \n",
    "    else:\n",
    "        monthly_charge=int(plans_df.query('plan_name != \"surf\"').usd_monthly_pay)\n",
    "        if(extra_minutes > 0):\n",
    "            extra_minutes_charge=int(plans_df.query('plan_name != \"surf\"').usd_per_minute) * extra_minutes\n",
    "        if(extra_gb > 0):\n",
    "            extra_gb_charge = int(plans_df.query('plan_name != \"surf\"').usd_per_gb) * extra_gb\n",
    "        if(extra_messages > 0):\n",
    "            extra_messages_charge = int(plans_df.query('plan_name != \"surf\"').usd_per_message) * extra_messages\n",
    "        total_charge=extra_minutes_charge+extra_gb_charge+extra_messages_charge\n",
    "        total_revenue = total_charge+monthly_charge\n",
    "           \n",
    "    return total_charge , total_revenue"
   ]
  },
  {
   "cell_type": "code",
   "execution_count": 242,
   "metadata": {},
   "outputs": [],
   "source": [
    "#adding 2 new columns to store the calculated 'extra charge' and 'total revenue'\n",
    "user_final_df[['extra_charges','total_revenue']]=user_final_df.apply(get_extra_charges,axis=1,result_type ='expand')"
   ]
  },
  {
   "cell_type": "code",
   "execution_count": 243,
   "metadata": {},
   "outputs": [
    {
     "data": {
      "text/html": [
       "<div>\n",
       "<style scoped>\n",
       "    .dataframe tbody tr th:only-of-type {\n",
       "        vertical-align: middle;\n",
       "    }\n",
       "\n",
       "    .dataframe tbody tr th {\n",
       "        vertical-align: top;\n",
       "    }\n",
       "\n",
       "    .dataframe thead th {\n",
       "        text-align: right;\n",
       "    }\n",
       "</style>\n",
       "<table border=\"1\" class=\"dataframe\">\n",
       "  <thead>\n",
       "    <tr style=\"text-align: right;\">\n",
       "      <th></th>\n",
       "      <th>user_id</th>\n",
       "      <th>month</th>\n",
       "      <th>minutes_used</th>\n",
       "      <th>mb_used</th>\n",
       "      <th>gb_used</th>\n",
       "      <th>number_of_messages</th>\n",
       "      <th>plan</th>\n",
       "      <th>extra_minutes</th>\n",
       "      <th>extra_gb</th>\n",
       "      <th>extra_messages</th>\n",
       "      <th>extra_charges</th>\n",
       "      <th>total_revenue</th>\n",
       "    </tr>\n",
       "  </thead>\n",
       "  <tbody>\n",
       "    <tr>\n",
       "      <th>0</th>\n",
       "      <td>1000</td>\n",
       "      <td>12</td>\n",
       "      <td>124.0</td>\n",
       "      <td>1901.47</td>\n",
       "      <td>2.0</td>\n",
       "      <td>11.0</td>\n",
       "      <td>ultimate</td>\n",
       "      <td>0</td>\n",
       "      <td>0</td>\n",
       "      <td>0</td>\n",
       "      <td>0</td>\n",
       "      <td>70</td>\n",
       "    </tr>\n",
       "    <tr>\n",
       "      <th>1</th>\n",
       "      <td>1001</td>\n",
       "      <td>8</td>\n",
       "      <td>182.0</td>\n",
       "      <td>6919.15</td>\n",
       "      <td>7.0</td>\n",
       "      <td>30.0</td>\n",
       "      <td>surf</td>\n",
       "      <td>0</td>\n",
       "      <td>0</td>\n",
       "      <td>0</td>\n",
       "      <td>0</td>\n",
       "      <td>20</td>\n",
       "    </tr>\n",
       "    <tr>\n",
       "      <th>2</th>\n",
       "      <td>1001</td>\n",
       "      <td>9</td>\n",
       "      <td>315.0</td>\n",
       "      <td>13314.82</td>\n",
       "      <td>14.0</td>\n",
       "      <td>44.0</td>\n",
       "      <td>surf</td>\n",
       "      <td>0</td>\n",
       "      <td>0</td>\n",
       "      <td>0</td>\n",
       "      <td>0</td>\n",
       "      <td>20</td>\n",
       "    </tr>\n",
       "    <tr>\n",
       "      <th>3</th>\n",
       "      <td>1001</td>\n",
       "      <td>10</td>\n",
       "      <td>393.0</td>\n",
       "      <td>22330.49</td>\n",
       "      <td>22.0</td>\n",
       "      <td>53.0</td>\n",
       "      <td>surf</td>\n",
       "      <td>0</td>\n",
       "      <td>6</td>\n",
       "      <td>3</td>\n",
       "      <td>60</td>\n",
       "      <td>80</td>\n",
       "    </tr>\n",
       "    <tr>\n",
       "      <th>4</th>\n",
       "      <td>1001</td>\n",
       "      <td>11</td>\n",
       "      <td>426.0</td>\n",
       "      <td>18504.30</td>\n",
       "      <td>19.0</td>\n",
       "      <td>36.0</td>\n",
       "      <td>surf</td>\n",
       "      <td>0</td>\n",
       "      <td>3</td>\n",
       "      <td>0</td>\n",
       "      <td>30</td>\n",
       "      <td>50</td>\n",
       "    </tr>\n",
       "    <tr>\n",
       "      <th>...</th>\n",
       "      <td>...</td>\n",
       "      <td>...</td>\n",
       "      <td>...</td>\n",
       "      <td>...</td>\n",
       "      <td>...</td>\n",
       "      <td>...</td>\n",
       "      <td>...</td>\n",
       "      <td>...</td>\n",
       "      <td>...</td>\n",
       "      <td>...</td>\n",
       "      <td>...</td>\n",
       "      <td>...</td>\n",
       "    </tr>\n",
       "    <tr>\n",
       "      <th>2288</th>\n",
       "      <td>1204</td>\n",
       "      <td>11</td>\n",
       "      <td>0.0</td>\n",
       "      <td>21346.95</td>\n",
       "      <td>21.0</td>\n",
       "      <td>42.0</td>\n",
       "      <td>ultimate</td>\n",
       "      <td>0</td>\n",
       "      <td>0</td>\n",
       "      <td>0</td>\n",
       "      <td>0</td>\n",
       "      <td>70</td>\n",
       "    </tr>\n",
       "    <tr>\n",
       "      <th>2289</th>\n",
       "      <td>1204</td>\n",
       "      <td>12</td>\n",
       "      <td>0.0</td>\n",
       "      <td>36730.05</td>\n",
       "      <td>36.0</td>\n",
       "      <td>78.0</td>\n",
       "      <td>ultimate</td>\n",
       "      <td>0</td>\n",
       "      <td>5</td>\n",
       "      <td>0</td>\n",
       "      <td>35</td>\n",
       "      <td>105</td>\n",
       "    </tr>\n",
       "    <tr>\n",
       "      <th>2290</th>\n",
       "      <td>1349</td>\n",
       "      <td>10</td>\n",
       "      <td>0.0</td>\n",
       "      <td>13093.55</td>\n",
       "      <td>13.0</td>\n",
       "      <td>76.0</td>\n",
       "      <td>surf</td>\n",
       "      <td>0</td>\n",
       "      <td>0</td>\n",
       "      <td>26</td>\n",
       "      <td>0</td>\n",
       "      <td>20</td>\n",
       "    </tr>\n",
       "    <tr>\n",
       "      <th>2291</th>\n",
       "      <td>1349</td>\n",
       "      <td>11</td>\n",
       "      <td>0.0</td>\n",
       "      <td>17128.26</td>\n",
       "      <td>17.0</td>\n",
       "      <td>72.0</td>\n",
       "      <td>surf</td>\n",
       "      <td>0</td>\n",
       "      <td>1</td>\n",
       "      <td>22</td>\n",
       "      <td>10</td>\n",
       "      <td>30</td>\n",
       "    </tr>\n",
       "    <tr>\n",
       "      <th>2292</th>\n",
       "      <td>1349</td>\n",
       "      <td>12</td>\n",
       "      <td>0.0</td>\n",
       "      <td>13039.91</td>\n",
       "      <td>13.0</td>\n",
       "      <td>61.0</td>\n",
       "      <td>surf</td>\n",
       "      <td>0</td>\n",
       "      <td>0</td>\n",
       "      <td>11</td>\n",
       "      <td>0</td>\n",
       "      <td>20</td>\n",
       "    </tr>\n",
       "  </tbody>\n",
       "</table>\n",
       "<p>2293 rows × 12 columns</p>\n",
       "</div>"
      ],
      "text/plain": [
       "      user_id  month  minutes_used   mb_used  gb_used  number_of_messages  \\\n",
       "0        1000     12         124.0   1901.47      2.0                11.0   \n",
       "1        1001      8         182.0   6919.15      7.0                30.0   \n",
       "2        1001      9         315.0  13314.82     14.0                44.0   \n",
       "3        1001     10         393.0  22330.49     22.0                53.0   \n",
       "4        1001     11         426.0  18504.30     19.0                36.0   \n",
       "...       ...    ...           ...       ...      ...                 ...   \n",
       "2288     1204     11           0.0  21346.95     21.0                42.0   \n",
       "2289     1204     12           0.0  36730.05     36.0                78.0   \n",
       "2290     1349     10           0.0  13093.55     13.0                76.0   \n",
       "2291     1349     11           0.0  17128.26     17.0                72.0   \n",
       "2292     1349     12           0.0  13039.91     13.0                61.0   \n",
       "\n",
       "          plan  extra_minutes  extra_gb  extra_messages  extra_charges  \\\n",
       "0     ultimate              0         0               0              0   \n",
       "1         surf              0         0               0              0   \n",
       "2         surf              0         0               0              0   \n",
       "3         surf              0         6               3             60   \n",
       "4         surf              0         3               0             30   \n",
       "...        ...            ...       ...             ...            ...   \n",
       "2288  ultimate              0         0               0              0   \n",
       "2289  ultimate              0         5               0             35   \n",
       "2290      surf              0         0              26              0   \n",
       "2291      surf              0         1              22             10   \n",
       "2292      surf              0         0              11              0   \n",
       "\n",
       "      total_revenue  \n",
       "0                70  \n",
       "1                20  \n",
       "2                20  \n",
       "3                80  \n",
       "4                50  \n",
       "...             ...  \n",
       "2288             70  \n",
       "2289            105  \n",
       "2290             20  \n",
       "2291             30  \n",
       "2292             20  \n",
       "\n",
       "[2293 rows x 12 columns]"
      ]
     },
     "execution_count": 243,
     "metadata": {},
     "output_type": "execute_result"
    }
   ],
   "source": [
    "user_final_df"
   ]
  },
  {
   "cell_type": "code",
   "execution_count": 244,
   "metadata": {},
   "outputs": [
    {
     "data": {
      "text/plain": [
       "0     1425\n",
       "20     114\n",
       "10     112\n",
       "50      94\n",
       "30      85\n",
       "40      80\n",
       "60      59\n",
       "80      51\n",
       "70      50\n",
       "90      41\n",
       "Name: extra_charges, dtype: int64"
      ]
     },
     "execution_count": 244,
     "metadata": {},
     "output_type": "execute_result"
    }
   ],
   "source": [
    "user_final_df['extra_charges'].value_counts().head(10)"
   ]
  },
  {
   "cell_type": "code",
   "execution_count": 245,
   "metadata": {},
   "outputs": [
    {
     "data": {
      "text/html": [
       "<div>\n",
       "<style scoped>\n",
       "    .dataframe tbody tr th:only-of-type {\n",
       "        vertical-align: middle;\n",
       "    }\n",
       "\n",
       "    .dataframe tbody tr th {\n",
       "        vertical-align: top;\n",
       "    }\n",
       "\n",
       "    .dataframe thead th {\n",
       "        text-align: right;\n",
       "    }\n",
       "</style>\n",
       "<table border=\"1\" class=\"dataframe\">\n",
       "  <thead>\n",
       "    <tr style=\"text-align: right;\">\n",
       "      <th></th>\n",
       "      <th>user_id</th>\n",
       "      <th>month</th>\n",
       "      <th>minutes_used</th>\n",
       "      <th>mb_used</th>\n",
       "      <th>gb_used</th>\n",
       "      <th>number_of_messages</th>\n",
       "      <th>plan</th>\n",
       "      <th>extra_minutes</th>\n",
       "      <th>extra_gb</th>\n",
       "      <th>extra_messages</th>\n",
       "      <th>extra_charges</th>\n",
       "      <th>total_revenue</th>\n",
       "    </tr>\n",
       "  </thead>\n",
       "  <tbody>\n",
       "    <tr>\n",
       "      <th>3</th>\n",
       "      <td>1001</td>\n",
       "      <td>10</td>\n",
       "      <td>393.0</td>\n",
       "      <td>22330.49</td>\n",
       "      <td>22.0</td>\n",
       "      <td>53.0</td>\n",
       "      <td>surf</td>\n",
       "      <td>0</td>\n",
       "      <td>6</td>\n",
       "      <td>3</td>\n",
       "      <td>60</td>\n",
       "      <td>80</td>\n",
       "    </tr>\n",
       "    <tr>\n",
       "      <th>4</th>\n",
       "      <td>1001</td>\n",
       "      <td>11</td>\n",
       "      <td>426.0</td>\n",
       "      <td>18504.30</td>\n",
       "      <td>19.0</td>\n",
       "      <td>36.0</td>\n",
       "      <td>surf</td>\n",
       "      <td>0</td>\n",
       "      <td>3</td>\n",
       "      <td>0</td>\n",
       "      <td>30</td>\n",
       "      <td>50</td>\n",
       "    </tr>\n",
       "    <tr>\n",
       "      <th>5</th>\n",
       "      <td>1001</td>\n",
       "      <td>12</td>\n",
       "      <td>412.0</td>\n",
       "      <td>19369.18</td>\n",
       "      <td>19.0</td>\n",
       "      <td>44.0</td>\n",
       "      <td>surf</td>\n",
       "      <td>0</td>\n",
       "      <td>3</td>\n",
       "      <td>0</td>\n",
       "      <td>30</td>\n",
       "      <td>50</td>\n",
       "    </tr>\n",
       "    <tr>\n",
       "      <th>7</th>\n",
       "      <td>1002</td>\n",
       "      <td>11</td>\n",
       "      <td>386.0</td>\n",
       "      <td>19345.08</td>\n",
       "      <td>19.0</td>\n",
       "      <td>32.0</td>\n",
       "      <td>surf</td>\n",
       "      <td>0</td>\n",
       "      <td>3</td>\n",
       "      <td>0</td>\n",
       "      <td>30</td>\n",
       "      <td>50</td>\n",
       "    </tr>\n",
       "    <tr>\n",
       "      <th>9</th>\n",
       "      <td>1003</td>\n",
       "      <td>12</td>\n",
       "      <td>1104.0</td>\n",
       "      <td>27044.14</td>\n",
       "      <td>27.0</td>\n",
       "      <td>50.0</td>\n",
       "      <td>surf</td>\n",
       "      <td>604</td>\n",
       "      <td>11</td>\n",
       "      <td>0</td>\n",
       "      <td>110</td>\n",
       "      <td>130</td>\n",
       "    </tr>\n",
       "    <tr>\n",
       "      <th>11</th>\n",
       "      <td>1004</td>\n",
       "      <td>6</td>\n",
       "      <td>275.0</td>\n",
       "      <td>20672.82</td>\n",
       "      <td>21.0</td>\n",
       "      <td>18.0</td>\n",
       "      <td>surf</td>\n",
       "      <td>0</td>\n",
       "      <td>5</td>\n",
       "      <td>0</td>\n",
       "      <td>50</td>\n",
       "      <td>70</td>\n",
       "    </tr>\n",
       "    <tr>\n",
       "      <th>12</th>\n",
       "      <td>1004</td>\n",
       "      <td>7</td>\n",
       "      <td>381.0</td>\n",
       "      <td>24516.62</td>\n",
       "      <td>24.0</td>\n",
       "      <td>26.0</td>\n",
       "      <td>surf</td>\n",
       "      <td>0</td>\n",
       "      <td>8</td>\n",
       "      <td>0</td>\n",
       "      <td>80</td>\n",
       "      <td>100</td>\n",
       "    </tr>\n",
       "    <tr>\n",
       "      <th>13</th>\n",
       "      <td>1004</td>\n",
       "      <td>8</td>\n",
       "      <td>354.0</td>\n",
       "      <td>27981.74</td>\n",
       "      <td>28.0</td>\n",
       "      <td>25.0</td>\n",
       "      <td>surf</td>\n",
       "      <td>0</td>\n",
       "      <td>12</td>\n",
       "      <td>0</td>\n",
       "      <td>120</td>\n",
       "      <td>140</td>\n",
       "    </tr>\n",
       "    <tr>\n",
       "      <th>14</th>\n",
       "      <td>1004</td>\n",
       "      <td>9</td>\n",
       "      <td>301.0</td>\n",
       "      <td>18852.72</td>\n",
       "      <td>19.0</td>\n",
       "      <td>21.0</td>\n",
       "      <td>surf</td>\n",
       "      <td>0</td>\n",
       "      <td>3</td>\n",
       "      <td>0</td>\n",
       "      <td>30</td>\n",
       "      <td>50</td>\n",
       "    </tr>\n",
       "    <tr>\n",
       "      <th>16</th>\n",
       "      <td>1004</td>\n",
       "      <td>11</td>\n",
       "      <td>476.0</td>\n",
       "      <td>21850.78</td>\n",
       "      <td>22.0</td>\n",
       "      <td>25.0</td>\n",
       "      <td>surf</td>\n",
       "      <td>0</td>\n",
       "      <td>6</td>\n",
       "      <td>0</td>\n",
       "      <td>60</td>\n",
       "      <td>80</td>\n",
       "    </tr>\n",
       "  </tbody>\n",
       "</table>\n",
       "</div>"
      ],
      "text/plain": [
       "    user_id  month  minutes_used   mb_used  gb_used  number_of_messages  plan  \\\n",
       "3      1001     10         393.0  22330.49     22.0                53.0  surf   \n",
       "4      1001     11         426.0  18504.30     19.0                36.0  surf   \n",
       "5      1001     12         412.0  19369.18     19.0                44.0  surf   \n",
       "7      1002     11         386.0  19345.08     19.0                32.0  surf   \n",
       "9      1003     12        1104.0  27044.14     27.0                50.0  surf   \n",
       "11     1004      6         275.0  20672.82     21.0                18.0  surf   \n",
       "12     1004      7         381.0  24516.62     24.0                26.0  surf   \n",
       "13     1004      8         354.0  27981.74     28.0                25.0  surf   \n",
       "14     1004      9         301.0  18852.72     19.0                21.0  surf   \n",
       "16     1004     11         476.0  21850.78     22.0                25.0  surf   \n",
       "\n",
       "    extra_minutes  extra_gb  extra_messages  extra_charges  total_revenue  \n",
       "3               0         6               3             60             80  \n",
       "4               0         3               0             30             50  \n",
       "5               0         3               0             30             50  \n",
       "7               0         3               0             30             50  \n",
       "9             604        11               0            110            130  \n",
       "11              0         5               0             50             70  \n",
       "12              0         8               0             80            100  \n",
       "13              0        12               0            120            140  \n",
       "14              0         3               0             30             50  \n",
       "16              0         6               0             60             80  "
      ]
     },
     "execution_count": 245,
     "metadata": {},
     "output_type": "execute_result"
    }
   ],
   "source": [
    "user_final_df[user_final_df['extra_charges']>0].head(10)"
   ]
  },
  {
   "cell_type": "code",
   "execution_count": 246,
   "metadata": {},
   "outputs": [
    {
     "data": {
      "text/plain": [
       "1359    11\n",
       "1498    10\n",
       "1171    10\n",
       "1268    10\n",
       "1251     9\n",
       "1120     9\n",
       "1028     9\n",
       "1066     9\n",
       "1138     9\n",
       "1406     8\n",
       "Name: user_id, dtype: int64"
      ]
     },
     "execution_count": 246,
     "metadata": {},
     "output_type": "execute_result"
    }
   ],
   "source": [
    "user_final_df[user_final_df['extra_charges']>0]['user_id'].value_counts().head(10)"
   ]
  },
  {
   "cell_type": "code",
   "execution_count": 247,
   "metadata": {},
   "outputs": [
    {
     "data": {
      "text/plain": [
       "1077    12\n",
       "1042    12\n",
       "1185    12\n",
       "1362    12\n",
       "1196    12\n",
       "1214    12\n",
       "1408    11\n",
       "1261    11\n",
       "1028    11\n",
       "1498    11\n",
       "Name: user_id, dtype: int64"
      ]
     },
     "execution_count": 247,
     "metadata": {},
     "output_type": "execute_result"
    }
   ],
   "source": [
    "user_final_df[user_final_df['total_revenue']>0]['user_id'].value_counts().head(10)"
   ]
  },
  {
   "cell_type": "code",
   "execution_count": 248,
   "metadata": {},
   "outputs": [
    {
     "data": {
      "text/plain": [
       "1359    11\n",
       "1268    10\n",
       "1171    10\n",
       "1498    10\n",
       "1138     9\n",
       "1251     9\n",
       "1066     9\n",
       "1120     9\n",
       "1261     8\n",
       "1277     8\n",
       "Name: user_id, dtype: int64"
      ]
     },
     "execution_count": 248,
     "metadata": {},
     "output_type": "execute_result"
    }
   ],
   "source": [
    "user_final_df[(user_final_df['extra_charges']>0) & (user_final_df['plan']=='surf')]['user_id'].value_counts().head(10)"
   ]
  },
  {
   "cell_type": "code",
   "execution_count": 249,
   "metadata": {},
   "outputs": [],
   "source": [
    "#creating separate dataset for ultimate plan users\n",
    "user_ultimate_df=user_final_df[user_final_df['plan']=='ultimate']"
   ]
  },
  {
   "cell_type": "code",
   "execution_count": 250,
   "metadata": {},
   "outputs": [
    {
     "data": {
      "text/html": [
       "<div>\n",
       "<style scoped>\n",
       "    .dataframe tbody tr th:only-of-type {\n",
       "        vertical-align: middle;\n",
       "    }\n",
       "\n",
       "    .dataframe tbody tr th {\n",
       "        vertical-align: top;\n",
       "    }\n",
       "\n",
       "    .dataframe thead th {\n",
       "        text-align: right;\n",
       "    }\n",
       "</style>\n",
       "<table border=\"1\" class=\"dataframe\">\n",
       "  <thead>\n",
       "    <tr style=\"text-align: right;\">\n",
       "      <th></th>\n",
       "      <th>user_id</th>\n",
       "      <th>month</th>\n",
       "      <th>minutes_used</th>\n",
       "      <th>mb_used</th>\n",
       "      <th>gb_used</th>\n",
       "      <th>number_of_messages</th>\n",
       "      <th>plan</th>\n",
       "      <th>extra_minutes</th>\n",
       "      <th>extra_gb</th>\n",
       "      <th>extra_messages</th>\n",
       "      <th>extra_charges</th>\n",
       "      <th>total_revenue</th>\n",
       "    </tr>\n",
       "  </thead>\n",
       "  <tbody>\n",
       "    <tr>\n",
       "      <th>0</th>\n",
       "      <td>1000</td>\n",
       "      <td>12</td>\n",
       "      <td>124.0</td>\n",
       "      <td>1901.47</td>\n",
       "      <td>2.0</td>\n",
       "      <td>11.0</td>\n",
       "      <td>ultimate</td>\n",
       "      <td>0</td>\n",
       "      <td>0</td>\n",
       "      <td>0</td>\n",
       "      <td>0</td>\n",
       "      <td>70</td>\n",
       "    </tr>\n",
       "    <tr>\n",
       "      <th>19</th>\n",
       "      <td>1006</td>\n",
       "      <td>11</td>\n",
       "      <td>10.0</td>\n",
       "      <td>2068.37</td>\n",
       "      <td>3.0</td>\n",
       "      <td>15.0</td>\n",
       "      <td>ultimate</td>\n",
       "      <td>0</td>\n",
       "      <td>0</td>\n",
       "      <td>0</td>\n",
       "      <td>0</td>\n",
       "      <td>70</td>\n",
       "    </tr>\n",
       "    <tr>\n",
       "      <th>20</th>\n",
       "      <td>1006</td>\n",
       "      <td>12</td>\n",
       "      <td>59.0</td>\n",
       "      <td>32118.82</td>\n",
       "      <td>32.0</td>\n",
       "      <td>139.0</td>\n",
       "      <td>ultimate</td>\n",
       "      <td>0</td>\n",
       "      <td>1</td>\n",
       "      <td>0</td>\n",
       "      <td>7</td>\n",
       "      <td>77</td>\n",
       "    </tr>\n",
       "    <tr>\n",
       "      <th>26</th>\n",
       "      <td>1008</td>\n",
       "      <td>10</td>\n",
       "      <td>476.0</td>\n",
       "      <td>17106.99</td>\n",
       "      <td>17.0</td>\n",
       "      <td>21.0</td>\n",
       "      <td>ultimate</td>\n",
       "      <td>0</td>\n",
       "      <td>0</td>\n",
       "      <td>0</td>\n",
       "      <td>0</td>\n",
       "      <td>70</td>\n",
       "    </tr>\n",
       "    <tr>\n",
       "      <th>27</th>\n",
       "      <td>1008</td>\n",
       "      <td>11</td>\n",
       "      <td>446.0</td>\n",
       "      <td>23676.72</td>\n",
       "      <td>24.0</td>\n",
       "      <td>37.0</td>\n",
       "      <td>ultimate</td>\n",
       "      <td>0</td>\n",
       "      <td>0</td>\n",
       "      <td>0</td>\n",
       "      <td>0</td>\n",
       "      <td>70</td>\n",
       "    </tr>\n",
       "    <tr>\n",
       "      <th>28</th>\n",
       "      <td>1008</td>\n",
       "      <td>12</td>\n",
       "      <td>634.0</td>\n",
       "      <td>14689.33</td>\n",
       "      <td>15.0</td>\n",
       "      <td>26.0</td>\n",
       "      <td>ultimate</td>\n",
       "      <td>0</td>\n",
       "      <td>0</td>\n",
       "      <td>0</td>\n",
       "      <td>0</td>\n",
       "      <td>70</td>\n",
       "    </tr>\n",
       "    <tr>\n",
       "      <th>46</th>\n",
       "      <td>1011</td>\n",
       "      <td>6</td>\n",
       "      <td>118.0</td>\n",
       "      <td>6685.11</td>\n",
       "      <td>7.0</td>\n",
       "      <td>21.0</td>\n",
       "      <td>ultimate</td>\n",
       "      <td>0</td>\n",
       "      <td>0</td>\n",
       "      <td>0</td>\n",
       "      <td>0</td>\n",
       "      <td>70</td>\n",
       "    </tr>\n",
       "    <tr>\n",
       "      <th>47</th>\n",
       "      <td>1011</td>\n",
       "      <td>7</td>\n",
       "      <td>499.0</td>\n",
       "      <td>21046.41</td>\n",
       "      <td>21.0</td>\n",
       "      <td>53.0</td>\n",
       "      <td>ultimate</td>\n",
       "      <td>0</td>\n",
       "      <td>0</td>\n",
       "      <td>0</td>\n",
       "      <td>0</td>\n",
       "      <td>70</td>\n",
       "    </tr>\n",
       "    <tr>\n",
       "      <th>48</th>\n",
       "      <td>1011</td>\n",
       "      <td>8</td>\n",
       "      <td>486.0</td>\n",
       "      <td>21099.37</td>\n",
       "      <td>21.0</td>\n",
       "      <td>54.0</td>\n",
       "      <td>ultimate</td>\n",
       "      <td>0</td>\n",
       "      <td>0</td>\n",
       "      <td>0</td>\n",
       "      <td>0</td>\n",
       "      <td>70</td>\n",
       "    </tr>\n",
       "    <tr>\n",
       "      <th>49</th>\n",
       "      <td>1011</td>\n",
       "      <td>9</td>\n",
       "      <td>484.0</td>\n",
       "      <td>16638.46</td>\n",
       "      <td>17.0</td>\n",
       "      <td>60.0</td>\n",
       "      <td>ultimate</td>\n",
       "      <td>0</td>\n",
       "      <td>0</td>\n",
       "      <td>0</td>\n",
       "      <td>0</td>\n",
       "      <td>70</td>\n",
       "    </tr>\n",
       "  </tbody>\n",
       "</table>\n",
       "</div>"
      ],
      "text/plain": [
       "    user_id  month  minutes_used   mb_used  gb_used  number_of_messages  \\\n",
       "0      1000     12         124.0   1901.47      2.0                11.0   \n",
       "19     1006     11          10.0   2068.37      3.0                15.0   \n",
       "20     1006     12          59.0  32118.82     32.0               139.0   \n",
       "26     1008     10         476.0  17106.99     17.0                21.0   \n",
       "27     1008     11         446.0  23676.72     24.0                37.0   \n",
       "28     1008     12         634.0  14689.33     15.0                26.0   \n",
       "46     1011      6         118.0   6685.11      7.0                21.0   \n",
       "47     1011      7         499.0  21046.41     21.0                53.0   \n",
       "48     1011      8         486.0  21099.37     21.0                54.0   \n",
       "49     1011      9         484.0  16638.46     17.0                60.0   \n",
       "\n",
       "        plan  extra_minutes  extra_gb  extra_messages  extra_charges  \\\n",
       "0   ultimate              0         0               0              0   \n",
       "19  ultimate              0         0               0              0   \n",
       "20  ultimate              0         1               0              7   \n",
       "26  ultimate              0         0               0              0   \n",
       "27  ultimate              0         0               0              0   \n",
       "28  ultimate              0         0               0              0   \n",
       "46  ultimate              0         0               0              0   \n",
       "47  ultimate              0         0               0              0   \n",
       "48  ultimate              0         0               0              0   \n",
       "49  ultimate              0         0               0              0   \n",
       "\n",
       "    total_revenue  \n",
       "0              70  \n",
       "19             70  \n",
       "20             77  \n",
       "26             70  \n",
       "27             70  \n",
       "28             70  \n",
       "46             70  \n",
       "47             70  \n",
       "48             70  \n",
       "49             70  "
      ]
     },
     "execution_count": 250,
     "metadata": {},
     "output_type": "execute_result"
    }
   ],
   "source": [
    "user_ultimate_df.head(10)"
   ]
  },
  {
   "cell_type": "code",
   "execution_count": 251,
   "metadata": {},
   "outputs": [
    {
     "data": {
      "text/plain": [
       "1214    12\n",
       "1196    12\n",
       "1185    12\n",
       "1077    12\n",
       "1028    11\n",
       "1155    11\n",
       "1062    10\n",
       "1403    10\n",
       "1041    10\n",
       "1050    10\n",
       "Name: user_id, dtype: int64"
      ]
     },
     "execution_count": 251,
     "metadata": {},
     "output_type": "execute_result"
    }
   ],
   "source": [
    "user_ultimate_df['user_id'].value_counts().head(10)"
   ]
  },
  {
   "cell_type": "code",
   "execution_count": 252,
   "metadata": {},
   "outputs": [
    {
     "data": {
      "text/html": [
       "<div>\n",
       "<style scoped>\n",
       "    .dataframe tbody tr th:only-of-type {\n",
       "        vertical-align: middle;\n",
       "    }\n",
       "\n",
       "    .dataframe tbody tr th {\n",
       "        vertical-align: top;\n",
       "    }\n",
       "\n",
       "    .dataframe thead th {\n",
       "        text-align: right;\n",
       "    }\n",
       "</style>\n",
       "<table border=\"1\" class=\"dataframe\">\n",
       "  <thead>\n",
       "    <tr style=\"text-align: right;\">\n",
       "      <th></th>\n",
       "      <th>user_id</th>\n",
       "      <th>month</th>\n",
       "      <th>minutes_used</th>\n",
       "      <th>mb_used</th>\n",
       "      <th>gb_used</th>\n",
       "      <th>number_of_messages</th>\n",
       "      <th>extra_minutes</th>\n",
       "      <th>extra_gb</th>\n",
       "      <th>extra_messages</th>\n",
       "      <th>extra_charges</th>\n",
       "      <th>total_revenue</th>\n",
       "    </tr>\n",
       "  </thead>\n",
       "  <tbody>\n",
       "    <tr>\n",
       "      <th>count</th>\n",
       "      <td>720.000000</td>\n",
       "      <td>720.000000</td>\n",
       "      <td>720.000000</td>\n",
       "      <td>720.000000</td>\n",
       "      <td>720.000000</td>\n",
       "      <td>720.000000</td>\n",
       "      <td>720.0</td>\n",
       "      <td>720.000000</td>\n",
       "      <td>720.0</td>\n",
       "      <td>720.000000</td>\n",
       "      <td>720.000000</td>\n",
       "    </tr>\n",
       "    <tr>\n",
       "      <th>mean</th>\n",
       "      <td>1253.330556</td>\n",
       "      <td>9.151389</td>\n",
       "      <td>430.450000</td>\n",
       "      <td>17214.699694</td>\n",
       "      <td>17.306944</td>\n",
       "      <td>37.551389</td>\n",
       "      <td>0.0</td>\n",
       "      <td>0.273611</td>\n",
       "      <td>0.0</td>\n",
       "      <td>1.915278</td>\n",
       "      <td>71.915278</td>\n",
       "    </tr>\n",
       "    <tr>\n",
       "      <th>std</th>\n",
       "      <td>150.915644</td>\n",
       "      <td>2.558495</td>\n",
       "      <td>240.508762</td>\n",
       "      <td>7851.897435</td>\n",
       "      <td>7.670108</td>\n",
       "      <td>34.767179</td>\n",
       "      <td>0.0</td>\n",
       "      <td>1.442017</td>\n",
       "      <td>0.0</td>\n",
       "      <td>10.094121</td>\n",
       "      <td>10.094121</td>\n",
       "    </tr>\n",
       "    <tr>\n",
       "      <th>min</th>\n",
       "      <td>1000.000000</td>\n",
       "      <td>1.000000</td>\n",
       "      <td>0.000000</td>\n",
       "      <td>0.000000</td>\n",
       "      <td>0.000000</td>\n",
       "      <td>0.000000</td>\n",
       "      <td>0.0</td>\n",
       "      <td>0.000000</td>\n",
       "      <td>0.0</td>\n",
       "      <td>0.000000</td>\n",
       "      <td>70.000000</td>\n",
       "    </tr>\n",
       "    <tr>\n",
       "      <th>25%</th>\n",
       "      <td>1126.000000</td>\n",
       "      <td>8.000000</td>\n",
       "      <td>260.000000</td>\n",
       "      <td>12666.955000</td>\n",
       "      <td>13.000000</td>\n",
       "      <td>7.000000</td>\n",
       "      <td>0.0</td>\n",
       "      <td>0.000000</td>\n",
       "      <td>0.0</td>\n",
       "      <td>0.000000</td>\n",
       "      <td>70.000000</td>\n",
       "    </tr>\n",
       "    <tr>\n",
       "      <th>50%</th>\n",
       "      <td>1241.500000</td>\n",
       "      <td>10.000000</td>\n",
       "      <td>424.000000</td>\n",
       "      <td>16858.340000</td>\n",
       "      <td>17.000000</td>\n",
       "      <td>30.000000</td>\n",
       "      <td>0.0</td>\n",
       "      <td>0.000000</td>\n",
       "      <td>0.0</td>\n",
       "      <td>0.000000</td>\n",
       "      <td>70.000000</td>\n",
       "    </tr>\n",
       "    <tr>\n",
       "      <th>75%</th>\n",
       "      <td>1401.000000</td>\n",
       "      <td>11.000000</td>\n",
       "      <td>565.250000</td>\n",
       "      <td>21014.527500</td>\n",
       "      <td>21.000000</td>\n",
       "      <td>61.000000</td>\n",
       "      <td>0.0</td>\n",
       "      <td>0.000000</td>\n",
       "      <td>0.0</td>\n",
       "      <td>0.000000</td>\n",
       "      <td>70.000000</td>\n",
       "    </tr>\n",
       "    <tr>\n",
       "      <th>max</th>\n",
       "      <td>1497.000000</td>\n",
       "      <td>12.000000</td>\n",
       "      <td>1369.000000</td>\n",
       "      <td>46595.330000</td>\n",
       "      <td>46.000000</td>\n",
       "      <td>166.000000</td>\n",
       "      <td>0.0</td>\n",
       "      <td>15.000000</td>\n",
       "      <td>0.0</td>\n",
       "      <td>105.000000</td>\n",
       "      <td>175.000000</td>\n",
       "    </tr>\n",
       "  </tbody>\n",
       "</table>\n",
       "</div>"
      ],
      "text/plain": [
       "           user_id       month  minutes_used       mb_used     gb_used  \\\n",
       "count   720.000000  720.000000    720.000000    720.000000  720.000000   \n",
       "mean   1253.330556    9.151389    430.450000  17214.699694   17.306944   \n",
       "std     150.915644    2.558495    240.508762   7851.897435    7.670108   \n",
       "min    1000.000000    1.000000      0.000000      0.000000    0.000000   \n",
       "25%    1126.000000    8.000000    260.000000  12666.955000   13.000000   \n",
       "50%    1241.500000   10.000000    424.000000  16858.340000   17.000000   \n",
       "75%    1401.000000   11.000000    565.250000  21014.527500   21.000000   \n",
       "max    1497.000000   12.000000   1369.000000  46595.330000   46.000000   \n",
       "\n",
       "       number_of_messages  extra_minutes    extra_gb  extra_messages  \\\n",
       "count          720.000000          720.0  720.000000           720.0   \n",
       "mean            37.551389            0.0    0.273611             0.0   \n",
       "std             34.767179            0.0    1.442017             0.0   \n",
       "min              0.000000            0.0    0.000000             0.0   \n",
       "25%              7.000000            0.0    0.000000             0.0   \n",
       "50%             30.000000            0.0    0.000000             0.0   \n",
       "75%             61.000000            0.0    0.000000             0.0   \n",
       "max            166.000000            0.0   15.000000             0.0   \n",
       "\n",
       "       extra_charges  total_revenue  \n",
       "count     720.000000     720.000000  \n",
       "mean        1.915278      71.915278  \n",
       "std        10.094121      10.094121  \n",
       "min         0.000000      70.000000  \n",
       "25%         0.000000      70.000000  \n",
       "50%         0.000000      70.000000  \n",
       "75%         0.000000      70.000000  \n",
       "max       105.000000     175.000000  "
      ]
     },
     "execution_count": 252,
     "metadata": {},
     "output_type": "execute_result"
    }
   ],
   "source": [
    "user_ultimate_df.describe()"
   ]
  },
  {
   "cell_type": "markdown",
   "metadata": {},
   "source": [
    "Based on the statistical data , we don't see much revenue from ultimate plan.\n",
    "Though minutes used is well in the limt ,its standard deviation is in higher side..\n",
    "We do see few extra gb used with comparitively low standard deviation.\n",
    "Messages are significantly lower in numbers and we dont see any extras .\n"
   ]
  },
  {
   "cell_type": "code",
   "execution_count": 253,
   "metadata": {},
   "outputs": [
    {
     "data": {
      "text/plain": [
       "0"
      ]
     },
     "execution_count": 253,
     "metadata": {},
     "output_type": "execute_result"
    }
   ],
   "source": [
    "user_ultimate_df['extra_minutes'].sum()"
   ]
  },
  {
   "cell_type": "code",
   "execution_count": 254,
   "metadata": {},
   "outputs": [
    {
     "data": {
      "text/plain": [
       "197"
      ]
     },
     "execution_count": 254,
     "metadata": {},
     "output_type": "execute_result"
    }
   ],
   "source": [
    "user_ultimate_df['extra_gb'].sum()"
   ]
  },
  {
   "cell_type": "code",
   "execution_count": 255,
   "metadata": {},
   "outputs": [
    {
     "data": {
      "text/plain": [
       "1379"
      ]
     },
     "execution_count": 255,
     "metadata": {},
     "output_type": "execute_result"
    }
   ],
   "source": [
    "user_ultimate_df['extra_charges'].sum()"
   ]
  },
  {
   "cell_type": "code",
   "execution_count": 256,
   "metadata": {},
   "outputs": [
    {
     "data": {
      "text/plain": [
       "51779"
      ]
     },
     "execution_count": 256,
     "metadata": {},
     "output_type": "execute_result"
    }
   ],
   "source": [
    "user_ultimate_df['total_revenue'].sum()"
   ]
  },
  {
   "cell_type": "markdown",
   "metadata": {},
   "source": [
    "We see a total revenue of around 51779 from ultimate plan which includes monthly charge."
   ]
  },
  {
   "cell_type": "code",
   "execution_count": 257,
   "metadata": {},
   "outputs": [],
   "source": [
    "#getting data for 'surf' plan users\n",
    "user_surf_df=user_final_df[user_final_df['plan']=='surf'].reset_index()"
   ]
  },
  {
   "cell_type": "code",
   "execution_count": 258,
   "metadata": {},
   "outputs": [
    {
     "data": {
      "text/html": [
       "<div>\n",
       "<style scoped>\n",
       "    .dataframe tbody tr th:only-of-type {\n",
       "        vertical-align: middle;\n",
       "    }\n",
       "\n",
       "    .dataframe tbody tr th {\n",
       "        vertical-align: top;\n",
       "    }\n",
       "\n",
       "    .dataframe thead th {\n",
       "        text-align: right;\n",
       "    }\n",
       "</style>\n",
       "<table border=\"1\" class=\"dataframe\">\n",
       "  <thead>\n",
       "    <tr style=\"text-align: right;\">\n",
       "      <th></th>\n",
       "      <th>index</th>\n",
       "      <th>user_id</th>\n",
       "      <th>month</th>\n",
       "      <th>minutes_used</th>\n",
       "      <th>mb_used</th>\n",
       "      <th>gb_used</th>\n",
       "      <th>number_of_messages</th>\n",
       "      <th>plan</th>\n",
       "      <th>extra_minutes</th>\n",
       "      <th>extra_gb</th>\n",
       "      <th>extra_messages</th>\n",
       "      <th>extra_charges</th>\n",
       "      <th>total_revenue</th>\n",
       "    </tr>\n",
       "  </thead>\n",
       "  <tbody>\n",
       "    <tr>\n",
       "      <th>0</th>\n",
       "      <td>1</td>\n",
       "      <td>1001</td>\n",
       "      <td>8</td>\n",
       "      <td>182.0</td>\n",
       "      <td>6919.15</td>\n",
       "      <td>7.0</td>\n",
       "      <td>30.0</td>\n",
       "      <td>surf</td>\n",
       "      <td>0</td>\n",
       "      <td>0</td>\n",
       "      <td>0</td>\n",
       "      <td>0</td>\n",
       "      <td>20</td>\n",
       "    </tr>\n",
       "    <tr>\n",
       "      <th>1</th>\n",
       "      <td>2</td>\n",
       "      <td>1001</td>\n",
       "      <td>9</td>\n",
       "      <td>315.0</td>\n",
       "      <td>13314.82</td>\n",
       "      <td>14.0</td>\n",
       "      <td>44.0</td>\n",
       "      <td>surf</td>\n",
       "      <td>0</td>\n",
       "      <td>0</td>\n",
       "      <td>0</td>\n",
       "      <td>0</td>\n",
       "      <td>20</td>\n",
       "    </tr>\n",
       "    <tr>\n",
       "      <th>2</th>\n",
       "      <td>3</td>\n",
       "      <td>1001</td>\n",
       "      <td>10</td>\n",
       "      <td>393.0</td>\n",
       "      <td>22330.49</td>\n",
       "      <td>22.0</td>\n",
       "      <td>53.0</td>\n",
       "      <td>surf</td>\n",
       "      <td>0</td>\n",
       "      <td>6</td>\n",
       "      <td>3</td>\n",
       "      <td>60</td>\n",
       "      <td>80</td>\n",
       "    </tr>\n",
       "    <tr>\n",
       "      <th>3</th>\n",
       "      <td>4</td>\n",
       "      <td>1001</td>\n",
       "      <td>11</td>\n",
       "      <td>426.0</td>\n",
       "      <td>18504.30</td>\n",
       "      <td>19.0</td>\n",
       "      <td>36.0</td>\n",
       "      <td>surf</td>\n",
       "      <td>0</td>\n",
       "      <td>3</td>\n",
       "      <td>0</td>\n",
       "      <td>30</td>\n",
       "      <td>50</td>\n",
       "    </tr>\n",
       "    <tr>\n",
       "      <th>4</th>\n",
       "      <td>5</td>\n",
       "      <td>1001</td>\n",
       "      <td>12</td>\n",
       "      <td>412.0</td>\n",
       "      <td>19369.18</td>\n",
       "      <td>19.0</td>\n",
       "      <td>44.0</td>\n",
       "      <td>surf</td>\n",
       "      <td>0</td>\n",
       "      <td>3</td>\n",
       "      <td>0</td>\n",
       "      <td>30</td>\n",
       "      <td>50</td>\n",
       "    </tr>\n",
       "    <tr>\n",
       "      <th>5</th>\n",
       "      <td>6</td>\n",
       "      <td>1002</td>\n",
       "      <td>10</td>\n",
       "      <td>59.0</td>\n",
       "      <td>6552.01</td>\n",
       "      <td>7.0</td>\n",
       "      <td>15.0</td>\n",
       "      <td>surf</td>\n",
       "      <td>0</td>\n",
       "      <td>0</td>\n",
       "      <td>0</td>\n",
       "      <td>0</td>\n",
       "      <td>20</td>\n",
       "    </tr>\n",
       "    <tr>\n",
       "      <th>6</th>\n",
       "      <td>7</td>\n",
       "      <td>1002</td>\n",
       "      <td>11</td>\n",
       "      <td>386.0</td>\n",
       "      <td>19345.08</td>\n",
       "      <td>19.0</td>\n",
       "      <td>32.0</td>\n",
       "      <td>surf</td>\n",
       "      <td>0</td>\n",
       "      <td>3</td>\n",
       "      <td>0</td>\n",
       "      <td>30</td>\n",
       "      <td>50</td>\n",
       "    </tr>\n",
       "    <tr>\n",
       "      <th>7</th>\n",
       "      <td>8</td>\n",
       "      <td>1002</td>\n",
       "      <td>12</td>\n",
       "      <td>384.0</td>\n",
       "      <td>14396.24</td>\n",
       "      <td>15.0</td>\n",
       "      <td>41.0</td>\n",
       "      <td>surf</td>\n",
       "      <td>0</td>\n",
       "      <td>0</td>\n",
       "      <td>0</td>\n",
       "      <td>0</td>\n",
       "      <td>20</td>\n",
       "    </tr>\n",
       "    <tr>\n",
       "      <th>8</th>\n",
       "      <td>9</td>\n",
       "      <td>1003</td>\n",
       "      <td>12</td>\n",
       "      <td>1104.0</td>\n",
       "      <td>27044.14</td>\n",
       "      <td>27.0</td>\n",
       "      <td>50.0</td>\n",
       "      <td>surf</td>\n",
       "      <td>604</td>\n",
       "      <td>11</td>\n",
       "      <td>0</td>\n",
       "      <td>110</td>\n",
       "      <td>130</td>\n",
       "    </tr>\n",
       "    <tr>\n",
       "      <th>9</th>\n",
       "      <td>10</td>\n",
       "      <td>1004</td>\n",
       "      <td>5</td>\n",
       "      <td>193.0</td>\n",
       "      <td>6547.21</td>\n",
       "      <td>7.0</td>\n",
       "      <td>7.0</td>\n",
       "      <td>surf</td>\n",
       "      <td>0</td>\n",
       "      <td>0</td>\n",
       "      <td>0</td>\n",
       "      <td>0</td>\n",
       "      <td>20</td>\n",
       "    </tr>\n",
       "  </tbody>\n",
       "</table>\n",
       "</div>"
      ],
      "text/plain": [
       "   index  user_id  month  minutes_used   mb_used  gb_used  number_of_messages  \\\n",
       "0      1     1001      8         182.0   6919.15      7.0                30.0   \n",
       "1      2     1001      9         315.0  13314.82     14.0                44.0   \n",
       "2      3     1001     10         393.0  22330.49     22.0                53.0   \n",
       "3      4     1001     11         426.0  18504.30     19.0                36.0   \n",
       "4      5     1001     12         412.0  19369.18     19.0                44.0   \n",
       "5      6     1002     10          59.0   6552.01      7.0                15.0   \n",
       "6      7     1002     11         386.0  19345.08     19.0                32.0   \n",
       "7      8     1002     12         384.0  14396.24     15.0                41.0   \n",
       "8      9     1003     12        1104.0  27044.14     27.0                50.0   \n",
       "9     10     1004      5         193.0   6547.21      7.0                 7.0   \n",
       "\n",
       "   plan  extra_minutes  extra_gb  extra_messages  extra_charges  total_revenue  \n",
       "0  surf              0         0               0              0             20  \n",
       "1  surf              0         0               0              0             20  \n",
       "2  surf              0         6               3             60             80  \n",
       "3  surf              0         3               0             30             50  \n",
       "4  surf              0         3               0             30             50  \n",
       "5  surf              0         0               0              0             20  \n",
       "6  surf              0         3               0             30             50  \n",
       "7  surf              0         0               0              0             20  \n",
       "8  surf            604        11               0            110            130  \n",
       "9  surf              0         0               0              0             20  "
      ]
     },
     "execution_count": 258,
     "metadata": {},
     "output_type": "execute_result"
    }
   ],
   "source": [
    "user_surf_df.head(10)"
   ]
  },
  {
   "cell_type": "code",
   "execution_count": 259,
   "metadata": {},
   "outputs": [
    {
     "data": {
      "text/plain": [
       "1362    12\n",
       "1042    12\n",
       "1498    11\n",
       "1359    11\n",
       "1408    11\n",
       "1261    11\n",
       "1138    11\n",
       "1099    11\n",
       "1171    11\n",
       "1203    10\n",
       "Name: user_id, dtype: int64"
      ]
     },
     "execution_count": 259,
     "metadata": {},
     "output_type": "execute_result"
    }
   ],
   "source": [
    "user_surf_df['user_id'].value_counts().head(10)"
   ]
  },
  {
   "cell_type": "code",
   "execution_count": 260,
   "metadata": {},
   "outputs": [
    {
     "data": {
      "text/html": [
       "<div>\n",
       "<style scoped>\n",
       "    .dataframe tbody tr th:only-of-type {\n",
       "        vertical-align: middle;\n",
       "    }\n",
       "\n",
       "    .dataframe tbody tr th {\n",
       "        vertical-align: top;\n",
       "    }\n",
       "\n",
       "    .dataframe thead th {\n",
       "        text-align: right;\n",
       "    }\n",
       "</style>\n",
       "<table border=\"1\" class=\"dataframe\">\n",
       "  <thead>\n",
       "    <tr style=\"text-align: right;\">\n",
       "      <th></th>\n",
       "      <th>index</th>\n",
       "      <th>user_id</th>\n",
       "      <th>month</th>\n",
       "      <th>minutes_used</th>\n",
       "      <th>mb_used</th>\n",
       "      <th>gb_used</th>\n",
       "      <th>number_of_messages</th>\n",
       "      <th>extra_minutes</th>\n",
       "      <th>extra_gb</th>\n",
       "      <th>extra_messages</th>\n",
       "      <th>extra_charges</th>\n",
       "      <th>total_revenue</th>\n",
       "    </tr>\n",
       "  </thead>\n",
       "  <tbody>\n",
       "    <tr>\n",
       "      <th>count</th>\n",
       "      <td>1573.000000</td>\n",
       "      <td>1573.000000</td>\n",
       "      <td>1573.000000</td>\n",
       "      <td>1573.000000</td>\n",
       "      <td>1573.000000</td>\n",
       "      <td>1573.000000</td>\n",
       "      <td>1573.000000</td>\n",
       "      <td>1573.000000</td>\n",
       "      <td>1573.000000</td>\n",
       "      <td>1573.000000</td>\n",
       "      <td>1573.000000</td>\n",
       "      <td>1573.000000</td>\n",
       "    </tr>\n",
       "    <tr>\n",
       "      <th>mean</th>\n",
       "      <td>1137.636364</td>\n",
       "      <td>1242.755245</td>\n",
       "      <td>9.182454</td>\n",
       "      <td>428.749523</td>\n",
       "      <td>16558.283490</td>\n",
       "      <td>16.670693</td>\n",
       "      <td>31.159568</td>\n",
       "      <td>61.458996</td>\n",
       "      <td>3.286078</td>\n",
       "      <td>7.012715</td>\n",
       "      <td>32.860776</td>\n",
       "      <td>52.860776</td>\n",
       "    </tr>\n",
       "    <tr>\n",
       "      <th>std</th>\n",
       "      <td>647.290014</td>\n",
       "      <td>139.227939</td>\n",
       "      <td>2.468199</td>\n",
       "      <td>234.453150</td>\n",
       "      <td>8013.513327</td>\n",
       "      <td>7.847522</td>\n",
       "      <td>33.566717</td>\n",
       "      <td>125.524813</td>\n",
       "      <td>5.161715</td>\n",
       "      <td>19.470891</td>\n",
       "      <td>51.617147</td>\n",
       "      <td>51.617147</td>\n",
       "    </tr>\n",
       "    <tr>\n",
       "      <th>min</th>\n",
       "      <td>1.000000</td>\n",
       "      <td>1001.000000</td>\n",
       "      <td>1.000000</td>\n",
       "      <td>0.000000</td>\n",
       "      <td>0.000000</td>\n",
       "      <td>0.000000</td>\n",
       "      <td>0.000000</td>\n",
       "      <td>0.000000</td>\n",
       "      <td>0.000000</td>\n",
       "      <td>0.000000</td>\n",
       "      <td>0.000000</td>\n",
       "      <td>20.000000</td>\n",
       "    </tr>\n",
       "    <tr>\n",
       "      <th>25%</th>\n",
       "      <td>564.000000</td>\n",
       "      <td>1120.000000</td>\n",
       "      <td>8.000000</td>\n",
       "      <td>272.000000</td>\n",
       "      <td>11986.520000</td>\n",
       "      <td>12.000000</td>\n",
       "      <td>3.000000</td>\n",
       "      <td>0.000000</td>\n",
       "      <td>0.000000</td>\n",
       "      <td>0.000000</td>\n",
       "      <td>0.000000</td>\n",
       "      <td>20.000000</td>\n",
       "    </tr>\n",
       "    <tr>\n",
       "      <th>50%</th>\n",
       "      <td>1170.000000</td>\n",
       "      <td>1245.000000</td>\n",
       "      <td>10.000000</td>\n",
       "      <td>425.000000</td>\n",
       "      <td>16829.310000</td>\n",
       "      <td>17.000000</td>\n",
       "      <td>24.000000</td>\n",
       "      <td>0.000000</td>\n",
       "      <td>1.000000</td>\n",
       "      <td>0.000000</td>\n",
       "      <td>10.000000</td>\n",
       "      <td>30.000000</td>\n",
       "    </tr>\n",
       "    <tr>\n",
       "      <th>75%</th>\n",
       "      <td>1649.000000</td>\n",
       "      <td>1358.000000</td>\n",
       "      <td>11.000000</td>\n",
       "      <td>576.000000</td>\n",
       "      <td>20999.610000</td>\n",
       "      <td>21.000000</td>\n",
       "      <td>47.000000</td>\n",
       "      <td>76.000000</td>\n",
       "      <td>5.000000</td>\n",
       "      <td>0.000000</td>\n",
       "      <td>50.000000</td>\n",
       "      <td>70.000000</td>\n",
       "    </tr>\n",
       "    <tr>\n",
       "      <th>max</th>\n",
       "      <td>2292.000000</td>\n",
       "      <td>1499.000000</td>\n",
       "      <td>12.000000</td>\n",
       "      <td>1510.000000</td>\n",
       "      <td>70931.590000</td>\n",
       "      <td>70.000000</td>\n",
       "      <td>266.000000</td>\n",
       "      <td>1010.000000</td>\n",
       "      <td>54.000000</td>\n",
       "      <td>216.000000</td>\n",
       "      <td>540.000000</td>\n",
       "      <td>560.000000</td>\n",
       "    </tr>\n",
       "  </tbody>\n",
       "</table>\n",
       "</div>"
      ],
      "text/plain": [
       "             index      user_id        month  minutes_used       mb_used  \\\n",
       "count  1573.000000  1573.000000  1573.000000   1573.000000   1573.000000   \n",
       "mean   1137.636364  1242.755245     9.182454    428.749523  16558.283490   \n",
       "std     647.290014   139.227939     2.468199    234.453150   8013.513327   \n",
       "min       1.000000  1001.000000     1.000000      0.000000      0.000000   \n",
       "25%     564.000000  1120.000000     8.000000    272.000000  11986.520000   \n",
       "50%    1170.000000  1245.000000    10.000000    425.000000  16829.310000   \n",
       "75%    1649.000000  1358.000000    11.000000    576.000000  20999.610000   \n",
       "max    2292.000000  1499.000000    12.000000   1510.000000  70931.590000   \n",
       "\n",
       "           gb_used  number_of_messages  extra_minutes     extra_gb  \\\n",
       "count  1573.000000         1573.000000    1573.000000  1573.000000   \n",
       "mean     16.670693           31.159568      61.458996     3.286078   \n",
       "std       7.847522           33.566717     125.524813     5.161715   \n",
       "min       0.000000            0.000000       0.000000     0.000000   \n",
       "25%      12.000000            3.000000       0.000000     0.000000   \n",
       "50%      17.000000           24.000000       0.000000     1.000000   \n",
       "75%      21.000000           47.000000      76.000000     5.000000   \n",
       "max      70.000000          266.000000    1010.000000    54.000000   \n",
       "\n",
       "       extra_messages  extra_charges  total_revenue  \n",
       "count     1573.000000    1573.000000    1573.000000  \n",
       "mean         7.012715      32.860776      52.860776  \n",
       "std         19.470891      51.617147      51.617147  \n",
       "min          0.000000       0.000000      20.000000  \n",
       "25%          0.000000       0.000000      20.000000  \n",
       "50%          0.000000      10.000000      30.000000  \n",
       "75%          0.000000      50.000000      70.000000  \n",
       "max        216.000000     540.000000     560.000000  "
      ]
     },
     "execution_count": 260,
     "metadata": {},
     "output_type": "execute_result"
    }
   ],
   "source": [
    "user_surf_df.describe()"
   ]
  },
  {
   "cell_type": "code",
   "execution_count": 261,
   "metadata": {},
   "outputs": [
    {
     "data": {
      "text/plain": [
       "96675"
      ]
     },
     "execution_count": 261,
     "metadata": {},
     "output_type": "execute_result"
    }
   ],
   "source": [
    "user_surf_df['extra_minutes'].sum()"
   ]
  },
  {
   "cell_type": "code",
   "execution_count": 262,
   "metadata": {},
   "outputs": [
    {
     "data": {
      "text/plain": [
       "5169"
      ]
     },
     "execution_count": 262,
     "metadata": {},
     "output_type": "execute_result"
    }
   ],
   "source": [
    "user_surf_df['extra_gb'].sum()"
   ]
  },
  {
   "cell_type": "code",
   "execution_count": 263,
   "metadata": {},
   "outputs": [
    {
     "data": {
      "text/plain": [
       "51690"
      ]
     },
     "execution_count": 263,
     "metadata": {},
     "output_type": "execute_result"
    }
   ],
   "source": [
    "user_surf_df['extra_charges'].sum()"
   ]
  },
  {
   "cell_type": "code",
   "execution_count": 264,
   "metadata": {},
   "outputs": [
    {
     "data": {
      "text/plain": [
       "83150"
      ]
     },
     "execution_count": 264,
     "metadata": {},
     "output_type": "execute_result"
    }
   ],
   "source": [
    "user_surf_df['total_revenue'].sum()"
   ]
  },
  {
   "cell_type": "markdown",
   "metadata": {},
   "source": [
    "**Revenue Generator for Megaline**  \n",
    "surf plan is the major revenue generator for Megaline which is  around 83150.  \n",
    "The users in this plan use more calling minutes and gb compared to ultimate users.  \n",
    "The total number of users subscribed to surf plan(333) is almost double that of ultimate  \n",
    "plan users(157).Interestingly the total revenue generated from surf users are  \n",
    "way more than that of ultimate users.\n",
    "Messages are significantly lower in numbers and we dont see any extras ."
   ]
  },
  {
   "cell_type": "markdown",
   "metadata": {},
   "source": [
    "### Plotting 'minutes_used' , 'gb_used' and 'number_of_messages' for 'ultimate'  and  'safe' plan users.\n"
   ]
  },
  {
   "cell_type": "code",
   "execution_count": 265,
   "metadata": {},
   "outputs": [
    {
     "data": {
      "image/png": "[encoded data removed]",
      "text/plain": [
       "<Figure size 540x252 with 2 Axes>"
      ]
     },
     "metadata": {
      "needs_background": "light"
     },
     "output_type": "display_data"
    }
   ],
   "source": [
    "plt.rcParams[\"figure.figsize\"] = [7.50, 3.50]\n",
    "plt.rcParams[\"figure.autolayout\"] = True\n",
    "\n",
    "fig, axes = plt.subplots(1, 2)\n",
    "axes[0].set_xlabel(\"Minutes used - ultimate\")\n",
    "axes[0].set_ylabel(\"Frequency\")\n",
    "\n",
    "\n",
    "axes[1].set_xlabel(\"Minutes used - surf\")\n",
    "axes[1].set_ylabel(\"Frequency\")\n",
    "user_ultimate_df.hist('minutes_used', ax=axes[0])\n",
    "user_surf_df.hist('minutes_used', ax=axes[1])\n",
    "plt.show()"
   ]
  },
  {
   "cell_type": "markdown",
   "metadata": {},
   "source": [
    "The average 'minutes used ' by ultimate plan user are around 400-550 whereas it is slightly lesser around 300-400 for surf plan members.  \n",
    "Both the histograms shows slight rightly skewed signs.\n",
    "Also surf users shows more users around mean which makes it better choice ."
   ]
  },
  {
   "cell_type": "code",
   "execution_count": 266,
   "metadata": {},
   "outputs": [
    {
     "data": {
      "image/png": "[encoded data removed]",
      "text/plain": [
       "<Figure size 540x252 with 2 Axes>"
      ]
     },
     "metadata": {
      "needs_background": "light"
     },
     "output_type": "display_data"
    }
   ],
   "source": [
    "plt.rcParams[\"figure.figsize\"] = [7.50, 3.50]\n",
    "plt.rcParams[\"figure.autolayout\"] = True\n",
    "\n",
    "fig, axes = plt.subplots(1, 2)\n",
    "axes[0].set_xlabel(\"GB used - ultimate\")\n",
    "axes[0].set_ylabel(\"Frequency\")\n",
    "axes[0].set_title(\"GB used by 'ultimate' plan users monthly\")\n",
    "\n",
    "axes[1].set_xlabel(\"GB used - surf\")\n",
    "axes[1].set_ylabel(\"Frequency\")\n",
    "axes[1].set_title(\"GB used by 'surf' plan users monthly\")\n",
    "user_ultimate_df.hist('gb_used', ax=axes[0])\n",
    "user_surf_df.hist('gb_used', ax=axes[1])\n",
    "\n",
    "plt.show()"
   ]
  },
  {
   "cell_type": "markdown",
   "metadata": {},
   "source": [
    "'gb used' by ultimate customers show an average of 15-18gb .Also it is skewed to the right.With the surf users,  \n",
    "there are some outliers around 60gb .Since the outlier proportion is lesser ,it doesn't have a significant impact."
   ]
  },
  {
   "cell_type": "code",
   "execution_count": 267,
   "metadata": {},
   "outputs": [
    {
     "data": {
      "image/png": "[encoded data removed]",
      "text/plain": [
       "<Figure size 540x252 with 2 Axes>"
      ]
     },
     "metadata": {
      "needs_background": "light"
     },
     "output_type": "display_data"
    }
   ],
   "source": [
    "plt.rcParams[\"figure.figsize\"] = [7.50, 3.50]\n",
    "plt.rcParams[\"figure.autolayout\"] = True\n",
    "\n",
    "fig, axes = plt.subplots(1, 2)\n",
    "axes[0].set_xlabel(\"Number of messages - ultimate\")\n",
    "axes[0].set_ylabel(\"Frequency\")\n",
    "axes[0].set_title(\"Number of messages by 'ultimate' plan users monthly\")\n",
    "\n",
    "axes[1].set_xlabel(\"Number of messages - surf\")\n",
    "axes[1].set_ylabel(\"Frequency\")\n",
    "axes[1].set_title(\"Number of messages by 'surf' plan users monthly\")\n",
    "user_ultimate_df.hist('number_of_messages', ax=axes[0])\n",
    "user_surf_df.hist('number_of_messages', ax=axes[1])\n",
    "\n",
    "plt.show()"
   ]
  },
  {
   "cell_type": "markdown",
   "metadata": {},
   "source": [
    "Both the plan users shows similar trend with respect to the 'message' feature.The average message sent monthly  \n",
    "is way less than 100 and is most  likely around less than 20 messages .This feature doesn't show any significant  \n",
    "impact on either plan."
   ]
  },
  {
   "cell_type": "code",
   "execution_count": 268,
   "metadata": {},
   "outputs": [
    {
     "data": {
      "image/png": "[encoded data removed]",
      "text/plain": [
       "<Figure size 540x252 with 2 Axes>"
      ]
     },
     "metadata": {
      "needs_background": "light"
     },
     "output_type": "display_data"
    }
   ],
   "source": [
    "plt.rcParams[\"figure.figsize\"] = [7.50, 3.50]\n",
    "plt.rcParams[\"figure.autolayout\"] = True\n",
    "\n",
    "fig, axes = plt.subplots(1, 2)\n",
    "axes[0].set_xlabel(\"Total revenue - ultimate\")\n",
    "axes[0].set_ylabel(\"Frequency\")\n",
    "axes[0].set_title(\"Total revenue by 'ultimate' plan users monthly\")\n",
    "\n",
    "axes[1].set_xlabel(\"Total revenue - surf\")\n",
    "axes[1].set_ylabel(\"Frequency\")\n",
    "axes[1].set_title(\"Total revenue by 'surf' plan users monthly\")\n",
    "user_ultimate_df.hist('total_revenue', ax=axes[0])\n",
    "user_surf_df.hist('total_revenue', ax=axes[1])\n",
    "\n",
    "plt.show()"
   ]
  },
  {
   "cell_type": "markdown",
   "metadata": {},
   "source": [
    "Looking in detail of 0-50 range in x axis by defining the xlim for 'total_revenue' histograms"
   ]
  },
  {
   "cell_type": "code",
   "execution_count": 269,
   "metadata": {},
   "outputs": [
    {
     "data": {
      "image/png": "[encoded data removed]",
      "text/plain": [
       "<Figure size 540x252 with 1 Axes>"
      ]
     },
     "metadata": {
      "needs_background": "light"
     },
     "output_type": "display_data"
    }
   ],
   "source": [
    "plt.xlabel(\"Total revenue - ultimate\")\n",
    "plt.ylabel(\"Frequency\")\n",
    "plt.title(\"Total revenue by 'ultimate' plan users monthly\")\n",
    "plt.xlim(0,100)\n",
    "user_ultimate_df['total_revenue'].hist()\n",
    "plt.show()\n"
   ]
  },
  {
   "cell_type": "code",
   "execution_count": 270,
   "metadata": {},
   "outputs": [
    {
     "data": {
      "image/png": "[encoded data removed]",
      "text/plain": [
       "<Figure size 540x252 with 1 Axes>"
      ]
     },
     "metadata": {
      "needs_background": "light"
     },
     "output_type": "display_data"
    }
   ],
   "source": [
    "plt.xlabel(\"Total revenue - surf\")\n",
    "plt.ylabel(\"Frequency\")\n",
    "plt.title(\"Total revenue by 'surf' plan users monthly\")\n",
    "plt.xlim(0,100)\n",
    "user_surf_df['total_revenue'].hist(bins=8)\n",
    "plt.show()"
   ]
  },
  {
   "cell_type": "markdown",
   "metadata": {},
   "source": [
    "We see more revenue with 'surf' plan but also has some inconsistency(deviation) in revenue generated with surf users  compared to the ultimate users.Outliers looks more in ultimate plan.\n"
   ]
  },
  {
   "cell_type": "markdown",
   "metadata": {},
   "source": [
    "**Distribution of data**  \n",
    "All the discussed features (minutes used,gb used,messages,total revenue) shows  \n",
    "ultimate plan has more data skewed to the right.In general its data are more dispersed towards the right .  \n",
    "Though surf plan users show similar trends , they are comparitively less skewed ."
   ]
  },
  {
   "cell_type": "markdown",
   "metadata": {},
   "source": [
    "**Conclusion from histogram**  \n",
    "So far with the analysis of customer behavior with respect to each parameter using histogram ,we could see that  \n",
    "surf plan has more potential to generate better revenue with customers by catering closer to their preference."
   ]
  },
  {
   "cell_type": "code",
   "execution_count": 271,
   "metadata": {},
   "outputs": [
    {
     "data": {
      "text/html": [
       "<style  type=\"text/css\" >\n",
       "</style><table id=\"T_fde8c_\" ><thead>    <tr>        <th class=\"blank level0\" ></th>        <th class=\"col_heading level0 col0\" colspan=\"3\">minutes_used</th>        <th class=\"col_heading level0 col3\" colspan=\"3\">gb_used</th>        <th class=\"col_heading level0 col6\" colspan=\"3\">number_of_messages</th>        <th class=\"col_heading level0 col9\" colspan=\"3\">total_revenue</th>    </tr>    <tr>        <th class=\"blank level1\" ></th>        <th class=\"col_heading level1 col0\" >mean</th>        <th class=\"col_heading level1 col1\" >var</th>        <th class=\"col_heading level1 col2\" >std</th>        <th class=\"col_heading level1 col3\" >mean</th>        <th class=\"col_heading level1 col4\" >var</th>        <th class=\"col_heading level1 col5\" >std</th>        <th class=\"col_heading level1 col6\" >mean</th>        <th class=\"col_heading level1 col7\" >var</th>        <th class=\"col_heading level1 col8\" >std</th>        <th class=\"col_heading level1 col9\" >mean</th>        <th class=\"col_heading level1 col10\" >var</th>        <th class=\"col_heading level1 col11\" >std</th>    </tr>    <tr>        <th class=\"index_name level0\" >plan</th>        <th class=\"blank\" ></th>        <th class=\"blank\" ></th>        <th class=\"blank\" ></th>        <th class=\"blank\" ></th>        <th class=\"blank\" ></th>        <th class=\"blank\" ></th>        <th class=\"blank\" ></th>        <th class=\"blank\" ></th>        <th class=\"blank\" ></th>        <th class=\"blank\" ></th>        <th class=\"blank\" ></th>        <th class=\"blank\" ></th>    </tr></thead><tbody>\n",
       "                <tr>\n",
       "                        <th id=\"T_fde8c_level0_row0\" class=\"row_heading level0 row0\" >surf</th>\n",
       "                        <td id=\"T_fde8c_row0_col0\" class=\"data row0 col0\" >428.75</td>\n",
       "                        <td id=\"T_fde8c_row0_col1\" class=\"data row0 col1\" >54968.28</td>\n",
       "                        <td id=\"T_fde8c_row0_col2\" class=\"data row0 col2\" >234.45</td>\n",
       "                        <td id=\"T_fde8c_row0_col3\" class=\"data row0 col3\" >16.67</td>\n",
       "                        <td id=\"T_fde8c_row0_col4\" class=\"data row0 col4\" >61.58</td>\n",
       "                        <td id=\"T_fde8c_row0_col5\" class=\"data row0 col5\" >7.85</td>\n",
       "                        <td id=\"T_fde8c_row0_col6\" class=\"data row0 col6\" >31.16</td>\n",
       "                        <td id=\"T_fde8c_row0_col7\" class=\"data row0 col7\" >1126.72</td>\n",
       "                        <td id=\"T_fde8c_row0_col8\" class=\"data row0 col8\" >33.57</td>\n",
       "                        <td id=\"T_fde8c_row0_col9\" class=\"data row0 col9\" >52.86</td>\n",
       "                        <td id=\"T_fde8c_row0_col10\" class=\"data row0 col10\" >2664.33</td>\n",
       "                        <td id=\"T_fde8c_row0_col11\" class=\"data row0 col11\" >51.62</td>\n",
       "            </tr>\n",
       "            <tr>\n",
       "                        <th id=\"T_fde8c_level0_row1\" class=\"row_heading level0 row1\" >ultimate</th>\n",
       "                        <td id=\"T_fde8c_row1_col0\" class=\"data row1 col0\" >430.45</td>\n",
       "                        <td id=\"T_fde8c_row1_col1\" class=\"data row1 col1\" >57844.46</td>\n",
       "                        <td id=\"T_fde8c_row1_col2\" class=\"data row1 col2\" >240.51</td>\n",
       "                        <td id=\"T_fde8c_row1_col3\" class=\"data row1 col3\" >17.31</td>\n",
       "                        <td id=\"T_fde8c_row1_col4\" class=\"data row1 col4\" >58.83</td>\n",
       "                        <td id=\"T_fde8c_row1_col5\" class=\"data row1 col5\" >7.67</td>\n",
       "                        <td id=\"T_fde8c_row1_col6\" class=\"data row1 col6\" >37.55</td>\n",
       "                        <td id=\"T_fde8c_row1_col7\" class=\"data row1 col7\" >1208.76</td>\n",
       "                        <td id=\"T_fde8c_row1_col8\" class=\"data row1 col8\" >34.77</td>\n",
       "                        <td id=\"T_fde8c_row1_col9\" class=\"data row1 col9\" >71.92</td>\n",
       "                        <td id=\"T_fde8c_row1_col10\" class=\"data row1 col10\" >101.89</td>\n",
       "                        <td id=\"T_fde8c_row1_col11\" class=\"data row1 col11\" >10.09</td>\n",
       "            </tr>\n",
       "    </tbody></table>"
      ],
      "text/plain": [
       "<pandas.io.formats.style.Styler at 0x7feac7025be0>"
      ]
     },
     "execution_count": 271,
     "metadata": {},
     "output_type": "execute_result"
    }
   ],
   "source": [
    "(user_final_df.groupby('plan').agg({\n",
    "    'minutes_used': ('mean','var','std'),\n",
    "    'gb_used' : ('mean','var','std'),\n",
    "    'number_of_messages' : ('mean','var','std'),\n",
    "    'total_revenue' : ('mean','var','std')})\n",
    ").style.format('{:.2f}')"
   ]
  },
  {
   "cell_type": "markdown",
   "metadata": {},
   "source": [
    "Comparing these data individually with the code shows clearly both the plan shows similar trends with  \n",
    "surf plan having more standard deviation for total revenue .will continue with our analysis to see if other   \n",
    "testing might provide more insight about this."
   ]
  },
  {
   "cell_type": "markdown",
   "metadata": {},
   "source": [
    "**Creating dataset with used id and total revenue individually for each plan.**"
   ]
  },
  {
   "cell_type": "code",
   "execution_count": 272,
   "metadata": {},
   "outputs": [],
   "source": [
    "#dataset with revenue for 'ultimate' users.\n",
    "user_ultimate_pivot=user_ultimate_df.pivot_table(index=['user_id'],values='total_revenue',aggfunc='sum')"
   ]
  },
  {
   "cell_type": "code",
   "execution_count": 273,
   "metadata": {},
   "outputs": [],
   "source": [
    "user_ultimate_pivot=user_ultimate_pivot.reset_index()"
   ]
  },
  {
   "cell_type": "code",
   "execution_count": 274,
   "metadata": {},
   "outputs": [
    {
     "data": {
      "text/html": [
       "<div>\n",
       "<style scoped>\n",
       "    .dataframe tbody tr th:only-of-type {\n",
       "        vertical-align: middle;\n",
       "    }\n",
       "\n",
       "    .dataframe tbody tr th {\n",
       "        vertical-align: top;\n",
       "    }\n",
       "\n",
       "    .dataframe thead th {\n",
       "        text-align: right;\n",
       "    }\n",
       "</style>\n",
       "<table border=\"1\" class=\"dataframe\">\n",
       "  <thead>\n",
       "    <tr style=\"text-align: right;\">\n",
       "      <th></th>\n",
       "      <th>user_id</th>\n",
       "      <th>total_revenue</th>\n",
       "    </tr>\n",
       "  </thead>\n",
       "  <tbody>\n",
       "    <tr>\n",
       "      <th>0</th>\n",
       "      <td>1000</td>\n",
       "      <td>70</td>\n",
       "    </tr>\n",
       "    <tr>\n",
       "      <th>1</th>\n",
       "      <td>1006</td>\n",
       "      <td>147</td>\n",
       "    </tr>\n",
       "    <tr>\n",
       "      <th>2</th>\n",
       "      <td>1008</td>\n",
       "      <td>210</td>\n",
       "    </tr>\n",
       "    <tr>\n",
       "      <th>3</th>\n",
       "      <td>1011</td>\n",
       "      <td>490</td>\n",
       "    </tr>\n",
       "    <tr>\n",
       "      <th>4</th>\n",
       "      <td>1013</td>\n",
       "      <td>70</td>\n",
       "    </tr>\n",
       "    <tr>\n",
       "      <th>...</th>\n",
       "      <td>...</td>\n",
       "      <td>...</td>\n",
       "    </tr>\n",
       "    <tr>\n",
       "      <th>152</th>\n",
       "      <td>1482</td>\n",
       "      <td>210</td>\n",
       "    </tr>\n",
       "    <tr>\n",
       "      <th>153</th>\n",
       "      <td>1487</td>\n",
       "      <td>70</td>\n",
       "    </tr>\n",
       "    <tr>\n",
       "      <th>154</th>\n",
       "      <td>1490</td>\n",
       "      <td>658</td>\n",
       "    </tr>\n",
       "    <tr>\n",
       "      <th>155</th>\n",
       "      <td>1493</td>\n",
       "      <td>350</td>\n",
       "    </tr>\n",
       "    <tr>\n",
       "      <th>156</th>\n",
       "      <td>1497</td>\n",
       "      <td>70</td>\n",
       "    </tr>\n",
       "  </tbody>\n",
       "</table>\n",
       "<p>157 rows × 2 columns</p>\n",
       "</div>"
      ],
      "text/plain": [
       "     user_id  total_revenue\n",
       "0       1000             70\n",
       "1       1006            147\n",
       "2       1008            210\n",
       "3       1011            490\n",
       "4       1013             70\n",
       "..       ...            ...\n",
       "152     1482            210\n",
       "153     1487             70\n",
       "154     1490            658\n",
       "155     1493            350\n",
       "156     1497             70\n",
       "\n",
       "[157 rows x 2 columns]"
      ]
     },
     "execution_count": 274,
     "metadata": {},
     "output_type": "execute_result"
    }
   ],
   "source": [
    "user_ultimate_pivot.head(10)"
   ]
  },
  {
   "cell_type": "code",
   "execution_count": 275,
   "metadata": {},
   "outputs": [],
   "source": [
    "#dataset with revenue for 'surf' users\n",
    "user_surf_pivot=user_surf_df.pivot_table(index=['user_id'],values='total_revenue',aggfunc='sum')"
   ]
  },
  {
   "cell_type": "code",
   "execution_count": 276,
   "metadata": {},
   "outputs": [],
   "source": [
    "user_surf_pivot=user_surf_pivot.reset_index()"
   ]
  },
  {
   "cell_type": "code",
   "execution_count": 277,
   "metadata": {},
   "outputs": [
    {
     "data": {
      "text/html": [
       "<div>\n",
       "<style scoped>\n",
       "    .dataframe tbody tr th:only-of-type {\n",
       "        vertical-align: middle;\n",
       "    }\n",
       "\n",
       "    .dataframe tbody tr th {\n",
       "        vertical-align: top;\n",
       "    }\n",
       "\n",
       "    .dataframe thead th {\n",
       "        text-align: right;\n",
       "    }\n",
       "</style>\n",
       "<table border=\"1\" class=\"dataframe\">\n",
       "  <thead>\n",
       "    <tr style=\"text-align: right;\">\n",
       "      <th></th>\n",
       "      <th>user_id</th>\n",
       "      <th>total_revenue</th>\n",
       "    </tr>\n",
       "  </thead>\n",
       "  <tbody>\n",
       "    <tr>\n",
       "      <th>0</th>\n",
       "      <td>1001</td>\n",
       "      <td>220</td>\n",
       "    </tr>\n",
       "    <tr>\n",
       "      <th>1</th>\n",
       "      <td>1002</td>\n",
       "      <td>90</td>\n",
       "    </tr>\n",
       "    <tr>\n",
       "      <th>2</th>\n",
       "      <td>1003</td>\n",
       "      <td>130</td>\n",
       "    </tr>\n",
       "    <tr>\n",
       "      <th>3</th>\n",
       "      <td>1004</td>\n",
       "      <td>550</td>\n",
       "    </tr>\n",
       "    <tr>\n",
       "      <th>4</th>\n",
       "      <td>1005</td>\n",
       "      <td>30</td>\n",
       "    </tr>\n",
       "    <tr>\n",
       "      <th>...</th>\n",
       "      <td>...</td>\n",
       "      <td>...</td>\n",
       "    </tr>\n",
       "    <tr>\n",
       "      <th>328</th>\n",
       "      <td>1494</td>\n",
       "      <td>150</td>\n",
       "    </tr>\n",
       "    <tr>\n",
       "      <th>329</th>\n",
       "      <td>1495</td>\n",
       "      <td>430</td>\n",
       "    </tr>\n",
       "    <tr>\n",
       "      <th>330</th>\n",
       "      <td>1496</td>\n",
       "      <td>120</td>\n",
       "    </tr>\n",
       "    <tr>\n",
       "      <th>331</th>\n",
       "      <td>1498</td>\n",
       "      <td>750</td>\n",
       "    </tr>\n",
       "    <tr>\n",
       "      <th>332</th>\n",
       "      <td>1499</td>\n",
       "      <td>190</td>\n",
       "    </tr>\n",
       "  </tbody>\n",
       "</table>\n",
       "<p>333 rows × 2 columns</p>\n",
       "</div>"
      ],
      "text/plain": [
       "     user_id  total_revenue\n",
       "0       1001            220\n",
       "1       1002             90\n",
       "2       1003            130\n",
       "3       1004            550\n",
       "4       1005             30\n",
       "..       ...            ...\n",
       "328     1494            150\n",
       "329     1495            430\n",
       "330     1496            120\n",
       "331     1498            750\n",
       "332     1499            190\n",
       "\n",
       "[333 rows x 2 columns]"
      ]
     },
     "execution_count": 277,
     "metadata": {},
     "output_type": "execute_result"
    }
   ],
   "source": [
    "user_surf_pivot.head(10)"
   ]
  },
  {
   "cell_type": "code",
   "execution_count": 278,
   "metadata": {},
   "outputs": [
    {
     "data": {
      "text/html": [
       "<div>\n",
       "<style scoped>\n",
       "    .dataframe tbody tr th:only-of-type {\n",
       "        vertical-align: middle;\n",
       "    }\n",
       "\n",
       "    .dataframe tbody tr th {\n",
       "        vertical-align: top;\n",
       "    }\n",
       "\n",
       "    .dataframe thead th {\n",
       "        text-align: right;\n",
       "    }\n",
       "</style>\n",
       "<table border=\"1\" class=\"dataframe\">\n",
       "  <thead>\n",
       "    <tr style=\"text-align: right;\">\n",
       "      <th></th>\n",
       "      <th>user_id</th>\n",
       "      <th>total_revenue</th>\n",
       "    </tr>\n",
       "  </thead>\n",
       "  <tbody>\n",
       "    <tr>\n",
       "      <th>count</th>\n",
       "      <td>157.000000</td>\n",
       "      <td>157.000000</td>\n",
       "    </tr>\n",
       "    <tr>\n",
       "      <th>mean</th>\n",
       "      <td>1256.573248</td>\n",
       "      <td>329.802548</td>\n",
       "    </tr>\n",
       "    <tr>\n",
       "      <th>std</th>\n",
       "      <td>150.734705</td>\n",
       "      <td>221.235906</td>\n",
       "    </tr>\n",
       "    <tr>\n",
       "      <th>min</th>\n",
       "      <td>1000.000000</td>\n",
       "      <td>70.000000</td>\n",
       "    </tr>\n",
       "    <tr>\n",
       "      <th>25%</th>\n",
       "      <td>1126.000000</td>\n",
       "      <td>140.000000</td>\n",
       "    </tr>\n",
       "    <tr>\n",
       "      <th>50%</th>\n",
       "      <td>1250.000000</td>\n",
       "      <td>280.000000</td>\n",
       "    </tr>\n",
       "    <tr>\n",
       "      <th>75%</th>\n",
       "      <td>1395.000000</td>\n",
       "      <td>490.000000</td>\n",
       "    </tr>\n",
       "    <tr>\n",
       "      <th>max</th>\n",
       "      <td>1497.000000</td>\n",
       "      <td>1246.000000</td>\n",
       "    </tr>\n",
       "  </tbody>\n",
       "</table>\n",
       "</div>"
      ],
      "text/plain": [
       "           user_id  total_revenue\n",
       "count   157.000000     157.000000\n",
       "mean   1256.573248     329.802548\n",
       "std     150.734705     221.235906\n",
       "min    1000.000000      70.000000\n",
       "25%    1126.000000     140.000000\n",
       "50%    1250.000000     280.000000\n",
       "75%    1395.000000     490.000000\n",
       "max    1497.000000    1246.000000"
      ]
     },
     "execution_count": 278,
     "metadata": {},
     "output_type": "execute_result"
    }
   ],
   "source": [
    "user_ultimate_pivot.describe()"
   ]
  },
  {
   "cell_type": "code",
   "execution_count": 279,
   "metadata": {},
   "outputs": [
    {
     "data": {
      "text/html": [
       "<div>\n",
       "<style scoped>\n",
       "    .dataframe tbody tr th:only-of-type {\n",
       "        vertical-align: middle;\n",
       "    }\n",
       "\n",
       "    .dataframe tbody tr th {\n",
       "        vertical-align: top;\n",
       "    }\n",
       "\n",
       "    .dataframe thead th {\n",
       "        text-align: right;\n",
       "    }\n",
       "</style>\n",
       "<table border=\"1\" class=\"dataframe\">\n",
       "  <thead>\n",
       "    <tr style=\"text-align: right;\">\n",
       "      <th></th>\n",
       "      <th>user_id</th>\n",
       "      <th>total_revenue</th>\n",
       "    </tr>\n",
       "  </thead>\n",
       "  <tbody>\n",
       "    <tr>\n",
       "      <th>count</th>\n",
       "      <td>333.000000</td>\n",
       "      <td>333.000000</td>\n",
       "    </tr>\n",
       "    <tr>\n",
       "      <th>mean</th>\n",
       "      <td>1245.306306</td>\n",
       "      <td>249.699700</td>\n",
       "    </tr>\n",
       "    <tr>\n",
       "      <th>std</th>\n",
       "      <td>141.644481</td>\n",
       "      <td>263.051887</td>\n",
       "    </tr>\n",
       "    <tr>\n",
       "      <th>min</th>\n",
       "      <td>1001.000000</td>\n",
       "      <td>20.000000</td>\n",
       "    </tr>\n",
       "    <tr>\n",
       "      <th>25%</th>\n",
       "      <td>1122.000000</td>\n",
       "      <td>70.000000</td>\n",
       "    </tr>\n",
       "    <tr>\n",
       "      <th>50%</th>\n",
       "      <td>1244.000000</td>\n",
       "      <td>170.000000</td>\n",
       "    </tr>\n",
       "    <tr>\n",
       "      <th>75%</th>\n",
       "      <td>1360.000000</td>\n",
       "      <td>300.000000</td>\n",
       "    </tr>\n",
       "    <tr>\n",
       "      <th>max</th>\n",
       "      <td>1499.000000</td>\n",
       "      <td>1720.000000</td>\n",
       "    </tr>\n",
       "  </tbody>\n",
       "</table>\n",
       "</div>"
      ],
      "text/plain": [
       "           user_id  total_revenue\n",
       "count   333.000000     333.000000\n",
       "mean   1245.306306     249.699700\n",
       "std     141.644481     263.051887\n",
       "min    1001.000000      20.000000\n",
       "25%    1122.000000      70.000000\n",
       "50%    1244.000000     170.000000\n",
       "75%    1360.000000     300.000000\n",
       "max    1499.000000    1720.000000"
      ]
     },
     "execution_count": 279,
     "metadata": {},
     "output_type": "execute_result"
    }
   ],
   "source": [
    "user_surf_pivot.describe()"
   ]
  },
  {
   "cell_type": "markdown",
   "metadata": {},
   "source": [
    "Comparing the data statistically , we see the revenue from the plans are different with 'surf' having comparitively more income."
   ]
  },
  {
   "cell_type": "markdown",
   "metadata": {},
   "source": [
    "   # Null hypothesis1:\n",
    "     The average revenue from users of Ultimate and Surf calling plans are equal.\n",
    "    "
   ]
  },
  {
   "cell_type": "markdown",
   "metadata": {},
   "source": [
    "# Alternate hypothesis1:\n",
    "    The average revenue from users of Ultimate and Surf calling plans differs.\n",
    "   "
   ]
  },
  {
   "cell_type": "markdown",
   "metadata": {},
   "source": [
    "In order to test our hypothesis that the means of the two statistical populations are equal based on samples taken from them,we apply the method scipy.stats.ttest_ind(array1, array2, equal_var)"
   ]
  },
  {
   "cell_type": "code",
   "execution_count": 280,
   "metadata": {},
   "outputs": [
    {
     "name": "stdout",
     "output_type": "stream",
     "text": [
      "p-value:  0.0010240415268913947\n",
      "We reject the null hypothesis\n"
     ]
    }
   ],
   "source": [
    "alpha = 0.05  # critical statistical significance level\n",
    "# if the p-value is less than alpha, we reject the hypothesis\n",
    "\n",
    "#we take sample from user_surf_pivot(surf revenue) and user_ultimate_pivot(ultimate plan revenue)\n",
    "results = st.ttest_ind(user_surf_pivot['total_revenue'], user_ultimate_pivot['total_revenue'])\n",
    "\n",
    "print('p-value: ', results.pvalue)\n",
    "\n",
    "if results.pvalue < alpha:\n",
    "    print(\"We reject the null hypothesis\")\n",
    "else:\n",
    "    print(\"We can't reject the null hypothesis\") "
   ]
  },
  {
   "cell_type": "markdown",
   "metadata": {},
   "source": [
    "**Hypothesis testing conclusion for null hypothesis 1:**  \n",
    "Based on our hypothesis testing , we see that as the p-value is way less than alpha , our null hypothesis is rejected .This means ultimate and surf plan revenues differ from each other.\n",
    "This is in agreement with what we have derived from the statistical data and the calculation of total_revenue  \n",
    "based on each plan from the two datasets('user_surf_df' and 'user_ultimate_df').\n"
   ]
  },
  {
   "cell_type": "markdown",
   "metadata": {},
   "source": [
    " # Null Hypothesis 2:\n",
    " The average revenue from users in NY-NJ area is same as that of the users from other regions."
   ]
  },
  {
   "cell_type": "markdown",
   "metadata": {},
   "source": [
    "# Alternate Hypothesis2:\n",
    "     The average revenue from users in NY-NJ area is different from that of the users from other regions."
   ]
  },
  {
   "cell_type": "code",
   "execution_count": 281,
   "metadata": {},
   "outputs": [
    {
     "data": {
      "text/html": [
       "<div>\n",
       "<style scoped>\n",
       "    .dataframe tbody tr th:only-of-type {\n",
       "        vertical-align: middle;\n",
       "    }\n",
       "\n",
       "    .dataframe tbody tr th {\n",
       "        vertical-align: top;\n",
       "    }\n",
       "\n",
       "    .dataframe thead th {\n",
       "        text-align: right;\n",
       "    }\n",
       "</style>\n",
       "<table border=\"1\" class=\"dataframe\">\n",
       "  <thead>\n",
       "    <tr style=\"text-align: right;\">\n",
       "      <th></th>\n",
       "      <th>user_id</th>\n",
       "      <th>first_name</th>\n",
       "      <th>last_name</th>\n",
       "      <th>age</th>\n",
       "      <th>city</th>\n",
       "      <th>reg_date</th>\n",
       "      <th>plan</th>\n",
       "      <th>churn_date</th>\n",
       "      <th>plan_in_use</th>\n",
       "    </tr>\n",
       "  </thead>\n",
       "  <tbody>\n",
       "    <tr>\n",
       "      <th>0</th>\n",
       "      <td>1000</td>\n",
       "      <td>Anamaria</td>\n",
       "      <td>Bauer</td>\n",
       "      <td>45</td>\n",
       "      <td>Atlanta-Sandy Springs-Roswell, GA MSA</td>\n",
       "      <td>2018-12-24</td>\n",
       "      <td>ultimate</td>\n",
       "      <td>na</td>\n",
       "      <td>True</td>\n",
       "    </tr>\n",
       "    <tr>\n",
       "      <th>1</th>\n",
       "      <td>1001</td>\n",
       "      <td>Mickey</td>\n",
       "      <td>Wilkerson</td>\n",
       "      <td>28</td>\n",
       "      <td>Seattle-Tacoma-Bellevue, WA MSA</td>\n",
       "      <td>2018-08-13</td>\n",
       "      <td>surf</td>\n",
       "      <td>na</td>\n",
       "      <td>True</td>\n",
       "    </tr>\n",
       "    <tr>\n",
       "      <th>2</th>\n",
       "      <td>1002</td>\n",
       "      <td>Carlee</td>\n",
       "      <td>Hoffman</td>\n",
       "      <td>36</td>\n",
       "      <td>Las Vegas-Henderson-Paradise, NV MSA</td>\n",
       "      <td>2018-10-21</td>\n",
       "      <td>surf</td>\n",
       "      <td>na</td>\n",
       "      <td>True</td>\n",
       "    </tr>\n",
       "    <tr>\n",
       "      <th>3</th>\n",
       "      <td>1003</td>\n",
       "      <td>Reynaldo</td>\n",
       "      <td>Jenkins</td>\n",
       "      <td>52</td>\n",
       "      <td>Tulsa, OK MSA</td>\n",
       "      <td>2018-01-28</td>\n",
       "      <td>surf</td>\n",
       "      <td>na</td>\n",
       "      <td>True</td>\n",
       "    </tr>\n",
       "    <tr>\n",
       "      <th>4</th>\n",
       "      <td>1004</td>\n",
       "      <td>Leonila</td>\n",
       "      <td>Thompson</td>\n",
       "      <td>40</td>\n",
       "      <td>Seattle-Tacoma-Bellevue, WA MSA</td>\n",
       "      <td>2018-05-23</td>\n",
       "      <td>surf</td>\n",
       "      <td>na</td>\n",
       "      <td>True</td>\n",
       "    </tr>\n",
       "    <tr>\n",
       "      <th>5</th>\n",
       "      <td>1005</td>\n",
       "      <td>Livia</td>\n",
       "      <td>Shields</td>\n",
       "      <td>31</td>\n",
       "      <td>Dallas-Fort Worth-Arlington, TX MSA</td>\n",
       "      <td>2018-11-29</td>\n",
       "      <td>surf</td>\n",
       "      <td>na</td>\n",
       "      <td>True</td>\n",
       "    </tr>\n",
       "    <tr>\n",
       "      <th>6</th>\n",
       "      <td>1006</td>\n",
       "      <td>Jesusa</td>\n",
       "      <td>Bradford</td>\n",
       "      <td>73</td>\n",
       "      <td>San Francisco-Oakland-Berkeley, CA MSA</td>\n",
       "      <td>2018-11-27</td>\n",
       "      <td>ultimate</td>\n",
       "      <td>2018-12-18</td>\n",
       "      <td>False</td>\n",
       "    </tr>\n",
       "    <tr>\n",
       "      <th>7</th>\n",
       "      <td>1007</td>\n",
       "      <td>Eusebio</td>\n",
       "      <td>Welch</td>\n",
       "      <td>42</td>\n",
       "      <td>Grand Rapids-Kentwood, MI MSA</td>\n",
       "      <td>2018-07-11</td>\n",
       "      <td>surf</td>\n",
       "      <td>na</td>\n",
       "      <td>True</td>\n",
       "    </tr>\n",
       "    <tr>\n",
       "      <th>8</th>\n",
       "      <td>1008</td>\n",
       "      <td>Emely</td>\n",
       "      <td>Hoffman</td>\n",
       "      <td>53</td>\n",
       "      <td>Orlando-Kissimmee-Sanford, FL MSA</td>\n",
       "      <td>2018-08-03</td>\n",
       "      <td>ultimate</td>\n",
       "      <td>na</td>\n",
       "      <td>True</td>\n",
       "    </tr>\n",
       "    <tr>\n",
       "      <th>9</th>\n",
       "      <td>1009</td>\n",
       "      <td>Gerry</td>\n",
       "      <td>Little</td>\n",
       "      <td>19</td>\n",
       "      <td>San Jose-Sunnyvale-Santa Clara, CA MSA</td>\n",
       "      <td>2018-04-22</td>\n",
       "      <td>surf</td>\n",
       "      <td>na</td>\n",
       "      <td>True</td>\n",
       "    </tr>\n",
       "  </tbody>\n",
       "</table>\n",
       "</div>"
      ],
      "text/plain": [
       "   user_id first_name  last_name  age                                    city  \\\n",
       "0     1000   Anamaria      Bauer   45   Atlanta-Sandy Springs-Roswell, GA MSA   \n",
       "1     1001     Mickey  Wilkerson   28         Seattle-Tacoma-Bellevue, WA MSA   \n",
       "2     1002     Carlee    Hoffman   36    Las Vegas-Henderson-Paradise, NV MSA   \n",
       "3     1003   Reynaldo    Jenkins   52                           Tulsa, OK MSA   \n",
       "4     1004    Leonila   Thompson   40         Seattle-Tacoma-Bellevue, WA MSA   \n",
       "5     1005      Livia    Shields   31     Dallas-Fort Worth-Arlington, TX MSA   \n",
       "6     1006     Jesusa   Bradford   73  San Francisco-Oakland-Berkeley, CA MSA   \n",
       "7     1007    Eusebio      Welch   42           Grand Rapids-Kentwood, MI MSA   \n",
       "8     1008      Emely    Hoffman   53       Orlando-Kissimmee-Sanford, FL MSA   \n",
       "9     1009      Gerry     Little   19  San Jose-Sunnyvale-Santa Clara, CA MSA   \n",
       "\n",
       "    reg_date      plan  churn_date  plan_in_use  \n",
       "0 2018-12-24  ultimate          na         True  \n",
       "1 2018-08-13      surf          na         True  \n",
       "2 2018-10-21      surf          na         True  \n",
       "3 2018-01-28      surf          na         True  \n",
       "4 2018-05-23      surf          na         True  \n",
       "5 2018-11-29      surf          na         True  \n",
       "6 2018-11-27  ultimate  2018-12-18        False  \n",
       "7 2018-07-11      surf          na         True  \n",
       "8 2018-08-03  ultimate          na         True  \n",
       "9 2018-04-22      surf          na         True  "
      ]
     },
     "execution_count": 281,
     "metadata": {},
     "output_type": "execute_result"
    }
   ],
   "source": [
    "users_df.head(10)"
   ]
  },
  {
   "cell_type": "code",
   "execution_count": 282,
   "metadata": {},
   "outputs": [],
   "source": [
    "#getting a new dataframe with ny-nj users\n",
    "users_ny_nj=users_df[users_df['city'].str.contains('NY-NJ')]"
   ]
  },
  {
   "cell_type": "code",
   "execution_count": 283,
   "metadata": {},
   "outputs": [
    {
     "data": {
      "text/html": [
       "<div>\n",
       "<style scoped>\n",
       "    .dataframe tbody tr th:only-of-type {\n",
       "        vertical-align: middle;\n",
       "    }\n",
       "\n",
       "    .dataframe tbody tr th {\n",
       "        vertical-align: top;\n",
       "    }\n",
       "\n",
       "    .dataframe thead th {\n",
       "        text-align: right;\n",
       "    }\n",
       "</style>\n",
       "<table border=\"1\" class=\"dataframe\">\n",
       "  <thead>\n",
       "    <tr style=\"text-align: right;\">\n",
       "      <th></th>\n",
       "      <th>user_id</th>\n",
       "      <th>first_name</th>\n",
       "      <th>last_name</th>\n",
       "      <th>age</th>\n",
       "      <th>city</th>\n",
       "      <th>reg_date</th>\n",
       "      <th>plan</th>\n",
       "      <th>churn_date</th>\n",
       "      <th>plan_in_use</th>\n",
       "    </tr>\n",
       "  </thead>\n",
       "  <tbody>\n",
       "    <tr>\n",
       "      <th>14</th>\n",
       "      <td>1014</td>\n",
       "      <td>Edmundo</td>\n",
       "      <td>Simon</td>\n",
       "      <td>61</td>\n",
       "      <td>New York-Newark-Jersey City, NY-NJ-PA MSA</td>\n",
       "      <td>2018-11-25</td>\n",
       "      <td>surf</td>\n",
       "      <td>na</td>\n",
       "      <td>True</td>\n",
       "    </tr>\n",
       "    <tr>\n",
       "      <th>22</th>\n",
       "      <td>1022</td>\n",
       "      <td>Bo</td>\n",
       "      <td>Snow</td>\n",
       "      <td>73</td>\n",
       "      <td>New York-Newark-Jersey City, NY-NJ-PA MSA</td>\n",
       "      <td>2018-04-20</td>\n",
       "      <td>surf</td>\n",
       "      <td>2018-09-07</td>\n",
       "      <td>False</td>\n",
       "    </tr>\n",
       "    <tr>\n",
       "      <th>24</th>\n",
       "      <td>1024</td>\n",
       "      <td>Yuki</td>\n",
       "      <td>Tyson</td>\n",
       "      <td>74</td>\n",
       "      <td>New York-Newark-Jersey City, NY-NJ-PA MSA</td>\n",
       "      <td>2018-08-21</td>\n",
       "      <td>surf</td>\n",
       "      <td>na</td>\n",
       "      <td>True</td>\n",
       "    </tr>\n",
       "    <tr>\n",
       "      <th>27</th>\n",
       "      <td>1027</td>\n",
       "      <td>Georgeanna</td>\n",
       "      <td>Cardenas</td>\n",
       "      <td>38</td>\n",
       "      <td>New York-Newark-Jersey City, NY-NJ-PA MSA</td>\n",
       "      <td>2018-06-26</td>\n",
       "      <td>surf</td>\n",
       "      <td>na</td>\n",
       "      <td>True</td>\n",
       "    </tr>\n",
       "    <tr>\n",
       "      <th>31</th>\n",
       "      <td>1031</td>\n",
       "      <td>Lane</td>\n",
       "      <td>Martin</td>\n",
       "      <td>52</td>\n",
       "      <td>New York-Newark-Jersey City, NY-NJ-PA MSA</td>\n",
       "      <td>2018-07-15</td>\n",
       "      <td>ultimate</td>\n",
       "      <td>na</td>\n",
       "      <td>True</td>\n",
       "    </tr>\n",
       "    <tr>\n",
       "      <th>34</th>\n",
       "      <td>1034</td>\n",
       "      <td>Jc</td>\n",
       "      <td>Gentry</td>\n",
       "      <td>22</td>\n",
       "      <td>New York-Newark-Jersey City, NY-NJ-PA MSA</td>\n",
       "      <td>2018-08-13</td>\n",
       "      <td>surf</td>\n",
       "      <td>na</td>\n",
       "      <td>True</td>\n",
       "    </tr>\n",
       "    <tr>\n",
       "      <th>43</th>\n",
       "      <td>1043</td>\n",
       "      <td>Carlos</td>\n",
       "      <td>Hinton</td>\n",
       "      <td>42</td>\n",
       "      <td>New York-Newark-Jersey City, NY-NJ-PA MSA</td>\n",
       "      <td>2018-06-20</td>\n",
       "      <td>ultimate</td>\n",
       "      <td>na</td>\n",
       "      <td>True</td>\n",
       "    </tr>\n",
       "    <tr>\n",
       "      <th>45</th>\n",
       "      <td>1045</td>\n",
       "      <td>Barney</td>\n",
       "      <td>Ortega</td>\n",
       "      <td>20</td>\n",
       "      <td>New York-Newark-Jersey City, NY-NJ-PA MSA</td>\n",
       "      <td>2018-10-15</td>\n",
       "      <td>surf</td>\n",
       "      <td>na</td>\n",
       "      <td>True</td>\n",
       "    </tr>\n",
       "    <tr>\n",
       "      <th>49</th>\n",
       "      <td>1049</td>\n",
       "      <td>Loise</td>\n",
       "      <td>Avery</td>\n",
       "      <td>25</td>\n",
       "      <td>New York-Newark-Jersey City, NY-NJ-PA MSA</td>\n",
       "      <td>2018-02-21</td>\n",
       "      <td>surf</td>\n",
       "      <td>na</td>\n",
       "      <td>True</td>\n",
       "    </tr>\n",
       "    <tr>\n",
       "      <th>53</th>\n",
       "      <td>1053</td>\n",
       "      <td>Piper</td>\n",
       "      <td>Espinoza</td>\n",
       "      <td>27</td>\n",
       "      <td>New York-Newark-Jersey City, NY-NJ-PA MSA</td>\n",
       "      <td>2018-07-30</td>\n",
       "      <td>surf</td>\n",
       "      <td>na</td>\n",
       "      <td>True</td>\n",
       "    </tr>\n",
       "  </tbody>\n",
       "</table>\n",
       "</div>"
      ],
      "text/plain": [
       "    user_id  first_name last_name  age  \\\n",
       "14     1014     Edmundo     Simon   61   \n",
       "22     1022          Bo      Snow   73   \n",
       "24     1024        Yuki     Tyson   74   \n",
       "27     1027  Georgeanna  Cardenas   38   \n",
       "31     1031        Lane    Martin   52   \n",
       "34     1034          Jc    Gentry   22   \n",
       "43     1043      Carlos    Hinton   42   \n",
       "45     1045      Barney    Ortega   20   \n",
       "49     1049       Loise     Avery   25   \n",
       "53     1053       Piper  Espinoza   27   \n",
       "\n",
       "                                         city   reg_date      plan  \\\n",
       "14  New York-Newark-Jersey City, NY-NJ-PA MSA 2018-11-25      surf   \n",
       "22  New York-Newark-Jersey City, NY-NJ-PA MSA 2018-04-20      surf   \n",
       "24  New York-Newark-Jersey City, NY-NJ-PA MSA 2018-08-21      surf   \n",
       "27  New York-Newark-Jersey City, NY-NJ-PA MSA 2018-06-26      surf   \n",
       "31  New York-Newark-Jersey City, NY-NJ-PA MSA 2018-07-15  ultimate   \n",
       "34  New York-Newark-Jersey City, NY-NJ-PA MSA 2018-08-13      surf   \n",
       "43  New York-Newark-Jersey City, NY-NJ-PA MSA 2018-06-20  ultimate   \n",
       "45  New York-Newark-Jersey City, NY-NJ-PA MSA 2018-10-15      surf   \n",
       "49  New York-Newark-Jersey City, NY-NJ-PA MSA 2018-02-21      surf   \n",
       "53  New York-Newark-Jersey City, NY-NJ-PA MSA 2018-07-30      surf   \n",
       "\n",
       "    churn_date  plan_in_use  \n",
       "14          na         True  \n",
       "22  2018-09-07        False  \n",
       "24          na         True  \n",
       "27          na         True  \n",
       "31          na         True  \n",
       "34          na         True  \n",
       "43          na         True  \n",
       "45          na         True  \n",
       "49          na         True  \n",
       "53          na         True  "
      ]
     },
     "execution_count": 283,
     "metadata": {},
     "output_type": "execute_result"
    }
   ],
   "source": [
    "users_ny_nj.head(10)"
   ]
  },
  {
   "cell_type": "code",
   "execution_count": 284,
   "metadata": {},
   "outputs": [],
   "source": [
    "#new dataset for users from other than 'ny-nj'\n",
    "users_others=users_df[users_df['city'].str.contains('NY-NJ')==False]"
   ]
  },
  {
   "cell_type": "code",
   "execution_count": 285,
   "metadata": {},
   "outputs": [
    {
     "data": {
      "text/html": [
       "<div>\n",
       "<style scoped>\n",
       "    .dataframe tbody tr th:only-of-type {\n",
       "        vertical-align: middle;\n",
       "    }\n",
       "\n",
       "    .dataframe tbody tr th {\n",
       "        vertical-align: top;\n",
       "    }\n",
       "\n",
       "    .dataframe thead th {\n",
       "        text-align: right;\n",
       "    }\n",
       "</style>\n",
       "<table border=\"1\" class=\"dataframe\">\n",
       "  <thead>\n",
       "    <tr style=\"text-align: right;\">\n",
       "      <th></th>\n",
       "      <th>user_id</th>\n",
       "      <th>first_name</th>\n",
       "      <th>last_name</th>\n",
       "      <th>age</th>\n",
       "      <th>city</th>\n",
       "      <th>reg_date</th>\n",
       "      <th>plan</th>\n",
       "      <th>churn_date</th>\n",
       "      <th>plan_in_use</th>\n",
       "    </tr>\n",
       "  </thead>\n",
       "  <tbody>\n",
       "    <tr>\n",
       "      <th>0</th>\n",
       "      <td>1000</td>\n",
       "      <td>Anamaria</td>\n",
       "      <td>Bauer</td>\n",
       "      <td>45</td>\n",
       "      <td>Atlanta-Sandy Springs-Roswell, GA MSA</td>\n",
       "      <td>2018-12-24</td>\n",
       "      <td>ultimate</td>\n",
       "      <td>na</td>\n",
       "      <td>True</td>\n",
       "    </tr>\n",
       "    <tr>\n",
       "      <th>1</th>\n",
       "      <td>1001</td>\n",
       "      <td>Mickey</td>\n",
       "      <td>Wilkerson</td>\n",
       "      <td>28</td>\n",
       "      <td>Seattle-Tacoma-Bellevue, WA MSA</td>\n",
       "      <td>2018-08-13</td>\n",
       "      <td>surf</td>\n",
       "      <td>na</td>\n",
       "      <td>True</td>\n",
       "    </tr>\n",
       "    <tr>\n",
       "      <th>2</th>\n",
       "      <td>1002</td>\n",
       "      <td>Carlee</td>\n",
       "      <td>Hoffman</td>\n",
       "      <td>36</td>\n",
       "      <td>Las Vegas-Henderson-Paradise, NV MSA</td>\n",
       "      <td>2018-10-21</td>\n",
       "      <td>surf</td>\n",
       "      <td>na</td>\n",
       "      <td>True</td>\n",
       "    </tr>\n",
       "    <tr>\n",
       "      <th>3</th>\n",
       "      <td>1003</td>\n",
       "      <td>Reynaldo</td>\n",
       "      <td>Jenkins</td>\n",
       "      <td>52</td>\n",
       "      <td>Tulsa, OK MSA</td>\n",
       "      <td>2018-01-28</td>\n",
       "      <td>surf</td>\n",
       "      <td>na</td>\n",
       "      <td>True</td>\n",
       "    </tr>\n",
       "    <tr>\n",
       "      <th>4</th>\n",
       "      <td>1004</td>\n",
       "      <td>Leonila</td>\n",
       "      <td>Thompson</td>\n",
       "      <td>40</td>\n",
       "      <td>Seattle-Tacoma-Bellevue, WA MSA</td>\n",
       "      <td>2018-05-23</td>\n",
       "      <td>surf</td>\n",
       "      <td>na</td>\n",
       "      <td>True</td>\n",
       "    </tr>\n",
       "    <tr>\n",
       "      <th>5</th>\n",
       "      <td>1005</td>\n",
       "      <td>Livia</td>\n",
       "      <td>Shields</td>\n",
       "      <td>31</td>\n",
       "      <td>Dallas-Fort Worth-Arlington, TX MSA</td>\n",
       "      <td>2018-11-29</td>\n",
       "      <td>surf</td>\n",
       "      <td>na</td>\n",
       "      <td>True</td>\n",
       "    </tr>\n",
       "    <tr>\n",
       "      <th>6</th>\n",
       "      <td>1006</td>\n",
       "      <td>Jesusa</td>\n",
       "      <td>Bradford</td>\n",
       "      <td>73</td>\n",
       "      <td>San Francisco-Oakland-Berkeley, CA MSA</td>\n",
       "      <td>2018-11-27</td>\n",
       "      <td>ultimate</td>\n",
       "      <td>2018-12-18</td>\n",
       "      <td>False</td>\n",
       "    </tr>\n",
       "    <tr>\n",
       "      <th>7</th>\n",
       "      <td>1007</td>\n",
       "      <td>Eusebio</td>\n",
       "      <td>Welch</td>\n",
       "      <td>42</td>\n",
       "      <td>Grand Rapids-Kentwood, MI MSA</td>\n",
       "      <td>2018-07-11</td>\n",
       "      <td>surf</td>\n",
       "      <td>na</td>\n",
       "      <td>True</td>\n",
       "    </tr>\n",
       "    <tr>\n",
       "      <th>8</th>\n",
       "      <td>1008</td>\n",
       "      <td>Emely</td>\n",
       "      <td>Hoffman</td>\n",
       "      <td>53</td>\n",
       "      <td>Orlando-Kissimmee-Sanford, FL MSA</td>\n",
       "      <td>2018-08-03</td>\n",
       "      <td>ultimate</td>\n",
       "      <td>na</td>\n",
       "      <td>True</td>\n",
       "    </tr>\n",
       "    <tr>\n",
       "      <th>9</th>\n",
       "      <td>1009</td>\n",
       "      <td>Gerry</td>\n",
       "      <td>Little</td>\n",
       "      <td>19</td>\n",
       "      <td>San Jose-Sunnyvale-Santa Clara, CA MSA</td>\n",
       "      <td>2018-04-22</td>\n",
       "      <td>surf</td>\n",
       "      <td>na</td>\n",
       "      <td>True</td>\n",
       "    </tr>\n",
       "  </tbody>\n",
       "</table>\n",
       "</div>"
      ],
      "text/plain": [
       "   user_id first_name  last_name  age                                    city  \\\n",
       "0     1000   Anamaria      Bauer   45   Atlanta-Sandy Springs-Roswell, GA MSA   \n",
       "1     1001     Mickey  Wilkerson   28         Seattle-Tacoma-Bellevue, WA MSA   \n",
       "2     1002     Carlee    Hoffman   36    Las Vegas-Henderson-Paradise, NV MSA   \n",
       "3     1003   Reynaldo    Jenkins   52                           Tulsa, OK MSA   \n",
       "4     1004    Leonila   Thompson   40         Seattle-Tacoma-Bellevue, WA MSA   \n",
       "5     1005      Livia    Shields   31     Dallas-Fort Worth-Arlington, TX MSA   \n",
       "6     1006     Jesusa   Bradford   73  San Francisco-Oakland-Berkeley, CA MSA   \n",
       "7     1007    Eusebio      Welch   42           Grand Rapids-Kentwood, MI MSA   \n",
       "8     1008      Emely    Hoffman   53       Orlando-Kissimmee-Sanford, FL MSA   \n",
       "9     1009      Gerry     Little   19  San Jose-Sunnyvale-Santa Clara, CA MSA   \n",
       "\n",
       "    reg_date      plan  churn_date  plan_in_use  \n",
       "0 2018-12-24  ultimate          na         True  \n",
       "1 2018-08-13      surf          na         True  \n",
       "2 2018-10-21      surf          na         True  \n",
       "3 2018-01-28      surf          na         True  \n",
       "4 2018-05-23      surf          na         True  \n",
       "5 2018-11-29      surf          na         True  \n",
       "6 2018-11-27  ultimate  2018-12-18        False  \n",
       "7 2018-07-11      surf          na         True  \n",
       "8 2018-08-03  ultimate          na         True  \n",
       "9 2018-04-22      surf          na         True  "
      ]
     },
     "execution_count": 285,
     "metadata": {},
     "output_type": "execute_result"
    }
   ],
   "source": [
    "users_others.head(10)"
   ]
  },
  {
   "cell_type": "markdown",
   "metadata": {},
   "source": [
    "Create a dataset with extra charges for ny-nj users of both 'surf' and 'ultimate' plans"
   ]
  },
  {
   "cell_type": "code",
   "execution_count": 286,
   "metadata": {},
   "outputs": [],
   "source": [
    "users_ny_nj=users_ny_nj[['user_id','city']]"
   ]
  },
  {
   "cell_type": "code",
   "execution_count": 287,
   "metadata": {},
   "outputs": [
    {
     "data": {
      "text/html": [
       "<div>\n",
       "<style scoped>\n",
       "    .dataframe tbody tr th:only-of-type {\n",
       "        vertical-align: middle;\n",
       "    }\n",
       "\n",
       "    .dataframe tbody tr th {\n",
       "        vertical-align: top;\n",
       "    }\n",
       "\n",
       "    .dataframe thead th {\n",
       "        text-align: right;\n",
       "    }\n",
       "</style>\n",
       "<table border=\"1\" class=\"dataframe\">\n",
       "  <thead>\n",
       "    <tr style=\"text-align: right;\">\n",
       "      <th></th>\n",
       "      <th>user_id</th>\n",
       "      <th>city</th>\n",
       "    </tr>\n",
       "  </thead>\n",
       "  <tbody>\n",
       "    <tr>\n",
       "      <th>14</th>\n",
       "      <td>1014</td>\n",
       "      <td>New York-Newark-Jersey City, NY-NJ-PA MSA</td>\n",
       "    </tr>\n",
       "    <tr>\n",
       "      <th>22</th>\n",
       "      <td>1022</td>\n",
       "      <td>New York-Newark-Jersey City, NY-NJ-PA MSA</td>\n",
       "    </tr>\n",
       "    <tr>\n",
       "      <th>24</th>\n",
       "      <td>1024</td>\n",
       "      <td>New York-Newark-Jersey City, NY-NJ-PA MSA</td>\n",
       "    </tr>\n",
       "    <tr>\n",
       "      <th>27</th>\n",
       "      <td>1027</td>\n",
       "      <td>New York-Newark-Jersey City, NY-NJ-PA MSA</td>\n",
       "    </tr>\n",
       "    <tr>\n",
       "      <th>31</th>\n",
       "      <td>1031</td>\n",
       "      <td>New York-Newark-Jersey City, NY-NJ-PA MSA</td>\n",
       "    </tr>\n",
       "    <tr>\n",
       "      <th>34</th>\n",
       "      <td>1034</td>\n",
       "      <td>New York-Newark-Jersey City, NY-NJ-PA MSA</td>\n",
       "    </tr>\n",
       "    <tr>\n",
       "      <th>43</th>\n",
       "      <td>1043</td>\n",
       "      <td>New York-Newark-Jersey City, NY-NJ-PA MSA</td>\n",
       "    </tr>\n",
       "    <tr>\n",
       "      <th>45</th>\n",
       "      <td>1045</td>\n",
       "      <td>New York-Newark-Jersey City, NY-NJ-PA MSA</td>\n",
       "    </tr>\n",
       "    <tr>\n",
       "      <th>49</th>\n",
       "      <td>1049</td>\n",
       "      <td>New York-Newark-Jersey City, NY-NJ-PA MSA</td>\n",
       "    </tr>\n",
       "    <tr>\n",
       "      <th>53</th>\n",
       "      <td>1053</td>\n",
       "      <td>New York-Newark-Jersey City, NY-NJ-PA MSA</td>\n",
       "    </tr>\n",
       "  </tbody>\n",
       "</table>\n",
       "</div>"
      ],
      "text/plain": [
       "    user_id                                       city\n",
       "14     1014  New York-Newark-Jersey City, NY-NJ-PA MSA\n",
       "22     1022  New York-Newark-Jersey City, NY-NJ-PA MSA\n",
       "24     1024  New York-Newark-Jersey City, NY-NJ-PA MSA\n",
       "27     1027  New York-Newark-Jersey City, NY-NJ-PA MSA\n",
       "31     1031  New York-Newark-Jersey City, NY-NJ-PA MSA\n",
       "34     1034  New York-Newark-Jersey City, NY-NJ-PA MSA\n",
       "43     1043  New York-Newark-Jersey City, NY-NJ-PA MSA\n",
       "45     1045  New York-Newark-Jersey City, NY-NJ-PA MSA\n",
       "49     1049  New York-Newark-Jersey City, NY-NJ-PA MSA\n",
       "53     1053  New York-Newark-Jersey City, NY-NJ-PA MSA"
      ]
     },
     "execution_count": 287,
     "metadata": {},
     "output_type": "execute_result"
    }
   ],
   "source": [
    "users_ny_nj.head(10)"
   ]
  },
  {
   "cell_type": "markdown",
   "metadata": {},
   "source": [
    "Create a dataset with extra charges for non 'ny-nj' users of both 'surf' and 'ultimate' plans"
   ]
  },
  {
   "cell_type": "code",
   "execution_count": 288,
   "metadata": {},
   "outputs": [],
   "source": [
    "users_others=users_others[['user_id','city']]"
   ]
  },
  {
   "cell_type": "code",
   "execution_count": 289,
   "metadata": {},
   "outputs": [
    {
     "data": {
      "text/html": [
       "<div>\n",
       "<style scoped>\n",
       "    .dataframe tbody tr th:only-of-type {\n",
       "        vertical-align: middle;\n",
       "    }\n",
       "\n",
       "    .dataframe tbody tr th {\n",
       "        vertical-align: top;\n",
       "    }\n",
       "\n",
       "    .dataframe thead th {\n",
       "        text-align: right;\n",
       "    }\n",
       "</style>\n",
       "<table border=\"1\" class=\"dataframe\">\n",
       "  <thead>\n",
       "    <tr style=\"text-align: right;\">\n",
       "      <th></th>\n",
       "      <th>user_id</th>\n",
       "      <th>city</th>\n",
       "    </tr>\n",
       "  </thead>\n",
       "  <tbody>\n",
       "    <tr>\n",
       "      <th>0</th>\n",
       "      <td>1000</td>\n",
       "      <td>Atlanta-Sandy Springs-Roswell, GA MSA</td>\n",
       "    </tr>\n",
       "    <tr>\n",
       "      <th>1</th>\n",
       "      <td>1001</td>\n",
       "      <td>Seattle-Tacoma-Bellevue, WA MSA</td>\n",
       "    </tr>\n",
       "    <tr>\n",
       "      <th>2</th>\n",
       "      <td>1002</td>\n",
       "      <td>Las Vegas-Henderson-Paradise, NV MSA</td>\n",
       "    </tr>\n",
       "    <tr>\n",
       "      <th>3</th>\n",
       "      <td>1003</td>\n",
       "      <td>Tulsa, OK MSA</td>\n",
       "    </tr>\n",
       "    <tr>\n",
       "      <th>4</th>\n",
       "      <td>1004</td>\n",
       "      <td>Seattle-Tacoma-Bellevue, WA MSA</td>\n",
       "    </tr>\n",
       "    <tr>\n",
       "      <th>5</th>\n",
       "      <td>1005</td>\n",
       "      <td>Dallas-Fort Worth-Arlington, TX MSA</td>\n",
       "    </tr>\n",
       "    <tr>\n",
       "      <th>6</th>\n",
       "      <td>1006</td>\n",
       "      <td>San Francisco-Oakland-Berkeley, CA MSA</td>\n",
       "    </tr>\n",
       "    <tr>\n",
       "      <th>7</th>\n",
       "      <td>1007</td>\n",
       "      <td>Grand Rapids-Kentwood, MI MSA</td>\n",
       "    </tr>\n",
       "    <tr>\n",
       "      <th>8</th>\n",
       "      <td>1008</td>\n",
       "      <td>Orlando-Kissimmee-Sanford, FL MSA</td>\n",
       "    </tr>\n",
       "    <tr>\n",
       "      <th>9</th>\n",
       "      <td>1009</td>\n",
       "      <td>San Jose-Sunnyvale-Santa Clara, CA MSA</td>\n",
       "    </tr>\n",
       "  </tbody>\n",
       "</table>\n",
       "</div>"
      ],
      "text/plain": [
       "   user_id                                    city\n",
       "0     1000   Atlanta-Sandy Springs-Roswell, GA MSA\n",
       "1     1001         Seattle-Tacoma-Bellevue, WA MSA\n",
       "2     1002    Las Vegas-Henderson-Paradise, NV MSA\n",
       "3     1003                           Tulsa, OK MSA\n",
       "4     1004         Seattle-Tacoma-Bellevue, WA MSA\n",
       "5     1005     Dallas-Fort Worth-Arlington, TX MSA\n",
       "6     1006  San Francisco-Oakland-Berkeley, CA MSA\n",
       "7     1007           Grand Rapids-Kentwood, MI MSA\n",
       "8     1008       Orlando-Kissimmee-Sanford, FL MSA\n",
       "9     1009  San Jose-Sunnyvale-Santa Clara, CA MSA"
      ]
     },
     "execution_count": 289,
     "metadata": {},
     "output_type": "execute_result"
    }
   ],
   "source": [
    "users_others.head(10)"
   ]
  },
  {
   "cell_type": "code",
   "execution_count": 290,
   "metadata": {},
   "outputs": [],
   "source": [
    "users_ny_nj_surf=users_ny_nj.merge(user_surf_pivot,on='user_id',how='inner')"
   ]
  },
  {
   "cell_type": "code",
   "execution_count": 291,
   "metadata": {},
   "outputs": [
    {
     "data": {
      "text/html": [
       "<div>\n",
       "<style scoped>\n",
       "    .dataframe tbody tr th:only-of-type {\n",
       "        vertical-align: middle;\n",
       "    }\n",
       "\n",
       "    .dataframe tbody tr th {\n",
       "        vertical-align: top;\n",
       "    }\n",
       "\n",
       "    .dataframe thead th {\n",
       "        text-align: right;\n",
       "    }\n",
       "</style>\n",
       "<table border=\"1\" class=\"dataframe\">\n",
       "  <thead>\n",
       "    <tr style=\"text-align: right;\">\n",
       "      <th></th>\n",
       "      <th>user_id</th>\n",
       "      <th>city</th>\n",
       "      <th>total_revenue</th>\n",
       "    </tr>\n",
       "  </thead>\n",
       "  <tbody>\n",
       "    <tr>\n",
       "      <th>0</th>\n",
       "      <td>1014</td>\n",
       "      <td>New York-Newark-Jersey City, NY-NJ-PA MSA</td>\n",
       "      <td>40</td>\n",
       "    </tr>\n",
       "    <tr>\n",
       "      <th>1</th>\n",
       "      <td>1022</td>\n",
       "      <td>New York-Newark-Jersey City, NY-NJ-PA MSA</td>\n",
       "      <td>390</td>\n",
       "    </tr>\n",
       "    <tr>\n",
       "      <th>2</th>\n",
       "      <td>1024</td>\n",
       "      <td>New York-Newark-Jersey City, NY-NJ-PA MSA</td>\n",
       "      <td>20</td>\n",
       "    </tr>\n",
       "    <tr>\n",
       "      <th>3</th>\n",
       "      <td>1027</td>\n",
       "      <td>New York-Newark-Jersey City, NY-NJ-PA MSA</td>\n",
       "      <td>170</td>\n",
       "    </tr>\n",
       "    <tr>\n",
       "      <th>4</th>\n",
       "      <td>1034</td>\n",
       "      <td>New York-Newark-Jersey City, NY-NJ-PA MSA</td>\n",
       "      <td>20</td>\n",
       "    </tr>\n",
       "    <tr>\n",
       "      <th>5</th>\n",
       "      <td>1045</td>\n",
       "      <td>New York-Newark-Jersey City, NY-NJ-PA MSA</td>\n",
       "      <td>160</td>\n",
       "    </tr>\n",
       "    <tr>\n",
       "      <th>6</th>\n",
       "      <td>1049</td>\n",
       "      <td>New York-Newark-Jersey City, NY-NJ-PA MSA</td>\n",
       "      <td>180</td>\n",
       "    </tr>\n",
       "    <tr>\n",
       "      <th>7</th>\n",
       "      <td>1053</td>\n",
       "      <td>New York-Newark-Jersey City, NY-NJ-PA MSA</td>\n",
       "      <td>280</td>\n",
       "    </tr>\n",
       "    <tr>\n",
       "      <th>8</th>\n",
       "      <td>1064</td>\n",
       "      <td>New York-Newark-Jersey City, NY-NJ-PA MSA</td>\n",
       "      <td>250</td>\n",
       "    </tr>\n",
       "    <tr>\n",
       "      <th>9</th>\n",
       "      <td>1068</td>\n",
       "      <td>New York-Newark-Jersey City, NY-NJ-PA MSA</td>\n",
       "      <td>210</td>\n",
       "    </tr>\n",
       "  </tbody>\n",
       "</table>\n",
       "</div>"
      ],
      "text/plain": [
       "   user_id                                       city  total_revenue\n",
       "0     1014  New York-Newark-Jersey City, NY-NJ-PA MSA             40\n",
       "1     1022  New York-Newark-Jersey City, NY-NJ-PA MSA            390\n",
       "2     1024  New York-Newark-Jersey City, NY-NJ-PA MSA             20\n",
       "3     1027  New York-Newark-Jersey City, NY-NJ-PA MSA            170\n",
       "4     1034  New York-Newark-Jersey City, NY-NJ-PA MSA             20\n",
       "5     1045  New York-Newark-Jersey City, NY-NJ-PA MSA            160\n",
       "6     1049  New York-Newark-Jersey City, NY-NJ-PA MSA            180\n",
       "7     1053  New York-Newark-Jersey City, NY-NJ-PA MSA            280\n",
       "8     1064  New York-Newark-Jersey City, NY-NJ-PA MSA            250\n",
       "9     1068  New York-Newark-Jersey City, NY-NJ-PA MSA            210"
      ]
     },
     "execution_count": 291,
     "metadata": {},
     "output_type": "execute_result"
    }
   ],
   "source": [
    "users_ny_nj_surf.head(10)"
   ]
  },
  {
   "cell_type": "code",
   "execution_count": 292,
   "metadata": {},
   "outputs": [],
   "source": [
    "users_ny_nj_ultimate=users_ny_nj.merge(user_ultimate_pivot,on='user_id',how='inner')"
   ]
  },
  {
   "cell_type": "code",
   "execution_count": 293,
   "metadata": {},
   "outputs": [
    {
     "data": {
      "text/html": [
       "<div>\n",
       "<style scoped>\n",
       "    .dataframe tbody tr th:only-of-type {\n",
       "        vertical-align: middle;\n",
       "    }\n",
       "\n",
       "    .dataframe tbody tr th {\n",
       "        vertical-align: top;\n",
       "    }\n",
       "\n",
       "    .dataframe thead th {\n",
       "        text-align: right;\n",
       "    }\n",
       "</style>\n",
       "<table border=\"1\" class=\"dataframe\">\n",
       "  <thead>\n",
       "    <tr style=\"text-align: right;\">\n",
       "      <th></th>\n",
       "      <th>user_id</th>\n",
       "      <th>city</th>\n",
       "      <th>total_revenue</th>\n",
       "    </tr>\n",
       "  </thead>\n",
       "  <tbody>\n",
       "    <tr>\n",
       "      <th>0</th>\n",
       "      <td>1031</td>\n",
       "      <td>New York-Newark-Jersey City, NY-NJ-PA MSA</td>\n",
       "      <td>420</td>\n",
       "    </tr>\n",
       "    <tr>\n",
       "      <th>1</th>\n",
       "      <td>1043</td>\n",
       "      <td>New York-Newark-Jersey City, NY-NJ-PA MSA</td>\n",
       "      <td>560</td>\n",
       "    </tr>\n",
       "    <tr>\n",
       "      <th>2</th>\n",
       "      <td>1063</td>\n",
       "      <td>New York-Newark-Jersey City, NY-NJ-PA MSA</td>\n",
       "      <td>140</td>\n",
       "    </tr>\n",
       "    <tr>\n",
       "      <th>3</th>\n",
       "      <td>1086</td>\n",
       "      <td>New York-Newark-Jersey City, NY-NJ-PA MSA</td>\n",
       "      <td>70</td>\n",
       "    </tr>\n",
       "    <tr>\n",
       "      <th>4</th>\n",
       "      <td>1096</td>\n",
       "      <td>New York-Newark-Jersey City, NY-NJ-PA MSA</td>\n",
       "      <td>70</td>\n",
       "    </tr>\n",
       "    <tr>\n",
       "      <th>5</th>\n",
       "      <td>1107</td>\n",
       "      <td>New York-Newark-Jersey City, NY-NJ-PA MSA</td>\n",
       "      <td>140</td>\n",
       "    </tr>\n",
       "    <tr>\n",
       "      <th>6</th>\n",
       "      <td>1113</td>\n",
       "      <td>New York-Newark-Jersey City, NY-NJ-PA MSA</td>\n",
       "      <td>490</td>\n",
       "    </tr>\n",
       "    <tr>\n",
       "      <th>7</th>\n",
       "      <td>1144</td>\n",
       "      <td>New York-Newark-Jersey City, NY-NJ-PA MSA</td>\n",
       "      <td>819</td>\n",
       "    </tr>\n",
       "    <tr>\n",
       "      <th>8</th>\n",
       "      <td>1161</td>\n",
       "      <td>New York-Newark-Jersey City, NY-NJ-PA MSA</td>\n",
       "      <td>140</td>\n",
       "    </tr>\n",
       "    <tr>\n",
       "      <th>9</th>\n",
       "      <td>1211</td>\n",
       "      <td>New York-Newark-Jersey City, NY-NJ-PA MSA</td>\n",
       "      <td>420</td>\n",
       "    </tr>\n",
       "  </tbody>\n",
       "</table>\n",
       "</div>"
      ],
      "text/plain": [
       "   user_id                                       city  total_revenue\n",
       "0     1031  New York-Newark-Jersey City, NY-NJ-PA MSA            420\n",
       "1     1043  New York-Newark-Jersey City, NY-NJ-PA MSA            560\n",
       "2     1063  New York-Newark-Jersey City, NY-NJ-PA MSA            140\n",
       "3     1086  New York-Newark-Jersey City, NY-NJ-PA MSA             70\n",
       "4     1096  New York-Newark-Jersey City, NY-NJ-PA MSA             70\n",
       "5     1107  New York-Newark-Jersey City, NY-NJ-PA MSA            140\n",
       "6     1113  New York-Newark-Jersey City, NY-NJ-PA MSA            490\n",
       "7     1144  New York-Newark-Jersey City, NY-NJ-PA MSA            819\n",
       "8     1161  New York-Newark-Jersey City, NY-NJ-PA MSA            140\n",
       "9     1211  New York-Newark-Jersey City, NY-NJ-PA MSA            420"
      ]
     },
     "execution_count": 293,
     "metadata": {},
     "output_type": "execute_result"
    }
   ],
   "source": [
    "users_ny_nj_ultimate.head(10)"
   ]
  },
  {
   "cell_type": "code",
   "execution_count": 294,
   "metadata": {},
   "outputs": [],
   "source": [
    "#appending surf and ultimate users for ny-nj \n",
    "users_ny_nj_charges=users_ny_nj_surf.append(users_ny_nj_ultimate,ignore_index=True)"
   ]
  },
  {
   "cell_type": "code",
   "execution_count": 295,
   "metadata": {},
   "outputs": [
    {
     "data": {
      "text/html": [
       "<div>\n",
       "<style scoped>\n",
       "    .dataframe tbody tr th:only-of-type {\n",
       "        vertical-align: middle;\n",
       "    }\n",
       "\n",
       "    .dataframe tbody tr th {\n",
       "        vertical-align: top;\n",
       "    }\n",
       "\n",
       "    .dataframe thead th {\n",
       "        text-align: right;\n",
       "    }\n",
       "</style>\n",
       "<table border=\"1\" class=\"dataframe\">\n",
       "  <thead>\n",
       "    <tr style=\"text-align: right;\">\n",
       "      <th></th>\n",
       "      <th>user_id</th>\n",
       "      <th>city</th>\n",
       "      <th>total_revenue</th>\n",
       "    </tr>\n",
       "  </thead>\n",
       "  <tbody>\n",
       "    <tr>\n",
       "      <th>0</th>\n",
       "      <td>1014</td>\n",
       "      <td>New York-Newark-Jersey City, NY-NJ-PA MSA</td>\n",
       "      <td>40</td>\n",
       "    </tr>\n",
       "    <tr>\n",
       "      <th>1</th>\n",
       "      <td>1022</td>\n",
       "      <td>New York-Newark-Jersey City, NY-NJ-PA MSA</td>\n",
       "      <td>390</td>\n",
       "    </tr>\n",
       "    <tr>\n",
       "      <th>2</th>\n",
       "      <td>1024</td>\n",
       "      <td>New York-Newark-Jersey City, NY-NJ-PA MSA</td>\n",
       "      <td>20</td>\n",
       "    </tr>\n",
       "    <tr>\n",
       "      <th>3</th>\n",
       "      <td>1027</td>\n",
       "      <td>New York-Newark-Jersey City, NY-NJ-PA MSA</td>\n",
       "      <td>170</td>\n",
       "    </tr>\n",
       "    <tr>\n",
       "      <th>4</th>\n",
       "      <td>1034</td>\n",
       "      <td>New York-Newark-Jersey City, NY-NJ-PA MSA</td>\n",
       "      <td>20</td>\n",
       "    </tr>\n",
       "    <tr>\n",
       "      <th>5</th>\n",
       "      <td>1045</td>\n",
       "      <td>New York-Newark-Jersey City, NY-NJ-PA MSA</td>\n",
       "      <td>160</td>\n",
       "    </tr>\n",
       "    <tr>\n",
       "      <th>6</th>\n",
       "      <td>1049</td>\n",
       "      <td>New York-Newark-Jersey City, NY-NJ-PA MSA</td>\n",
       "      <td>180</td>\n",
       "    </tr>\n",
       "    <tr>\n",
       "      <th>7</th>\n",
       "      <td>1053</td>\n",
       "      <td>New York-Newark-Jersey City, NY-NJ-PA MSA</td>\n",
       "      <td>280</td>\n",
       "    </tr>\n",
       "    <tr>\n",
       "      <th>8</th>\n",
       "      <td>1064</td>\n",
       "      <td>New York-Newark-Jersey City, NY-NJ-PA MSA</td>\n",
       "      <td>250</td>\n",
       "    </tr>\n",
       "    <tr>\n",
       "      <th>9</th>\n",
       "      <td>1068</td>\n",
       "      <td>New York-Newark-Jersey City, NY-NJ-PA MSA</td>\n",
       "      <td>210</td>\n",
       "    </tr>\n",
       "  </tbody>\n",
       "</table>\n",
       "</div>"
      ],
      "text/plain": [
       "   user_id                                       city  total_revenue\n",
       "0     1014  New York-Newark-Jersey City, NY-NJ-PA MSA             40\n",
       "1     1022  New York-Newark-Jersey City, NY-NJ-PA MSA            390\n",
       "2     1024  New York-Newark-Jersey City, NY-NJ-PA MSA             20\n",
       "3     1027  New York-Newark-Jersey City, NY-NJ-PA MSA            170\n",
       "4     1034  New York-Newark-Jersey City, NY-NJ-PA MSA             20\n",
       "5     1045  New York-Newark-Jersey City, NY-NJ-PA MSA            160\n",
       "6     1049  New York-Newark-Jersey City, NY-NJ-PA MSA            180\n",
       "7     1053  New York-Newark-Jersey City, NY-NJ-PA MSA            280\n",
       "8     1064  New York-Newark-Jersey City, NY-NJ-PA MSA            250\n",
       "9     1068  New York-Newark-Jersey City, NY-NJ-PA MSA            210"
      ]
     },
     "execution_count": 295,
     "metadata": {},
     "output_type": "execute_result"
    }
   ],
   "source": [
    "users_ny_nj_charges.head(10)"
   ]
  },
  {
   "cell_type": "code",
   "execution_count": 296,
   "metadata": {},
   "outputs": [],
   "source": [
    "users_others_surf=users_others.merge(user_surf_pivot,on='user_id',how='inner')"
   ]
  },
  {
   "cell_type": "code",
   "execution_count": 297,
   "metadata": {},
   "outputs": [
    {
     "data": {
      "text/html": [
       "<div>\n",
       "<style scoped>\n",
       "    .dataframe tbody tr th:only-of-type {\n",
       "        vertical-align: middle;\n",
       "    }\n",
       "\n",
       "    .dataframe tbody tr th {\n",
       "        vertical-align: top;\n",
       "    }\n",
       "\n",
       "    .dataframe thead th {\n",
       "        text-align: right;\n",
       "    }\n",
       "</style>\n",
       "<table border=\"1\" class=\"dataframe\">\n",
       "  <thead>\n",
       "    <tr style=\"text-align: right;\">\n",
       "      <th></th>\n",
       "      <th>user_id</th>\n",
       "      <th>city</th>\n",
       "      <th>total_revenue</th>\n",
       "    </tr>\n",
       "  </thead>\n",
       "  <tbody>\n",
       "    <tr>\n",
       "      <th>0</th>\n",
       "      <td>1001</td>\n",
       "      <td>Seattle-Tacoma-Bellevue, WA MSA</td>\n",
       "      <td>220</td>\n",
       "    </tr>\n",
       "    <tr>\n",
       "      <th>1</th>\n",
       "      <td>1002</td>\n",
       "      <td>Las Vegas-Henderson-Paradise, NV MSA</td>\n",
       "      <td>90</td>\n",
       "    </tr>\n",
       "    <tr>\n",
       "      <th>2</th>\n",
       "      <td>1003</td>\n",
       "      <td>Tulsa, OK MSA</td>\n",
       "      <td>130</td>\n",
       "    </tr>\n",
       "    <tr>\n",
       "      <th>3</th>\n",
       "      <td>1004</td>\n",
       "      <td>Seattle-Tacoma-Bellevue, WA MSA</td>\n",
       "      <td>550</td>\n",
       "    </tr>\n",
       "    <tr>\n",
       "      <th>4</th>\n",
       "      <td>1005</td>\n",
       "      <td>Dallas-Fort Worth-Arlington, TX MSA</td>\n",
       "      <td>30</td>\n",
       "    </tr>\n",
       "    <tr>\n",
       "      <th>5</th>\n",
       "      <td>1007</td>\n",
       "      <td>Grand Rapids-Kentwood, MI MSA</td>\n",
       "      <td>720</td>\n",
       "    </tr>\n",
       "    <tr>\n",
       "      <th>6</th>\n",
       "      <td>1009</td>\n",
       "      <td>San Jose-Sunnyvale-Santa Clara, CA MSA</td>\n",
       "      <td>740</td>\n",
       "    </tr>\n",
       "    <tr>\n",
       "      <th>7</th>\n",
       "      <td>1010</td>\n",
       "      <td>Dallas-Fort Worth-Arlington, TX MSA</td>\n",
       "      <td>290</td>\n",
       "    </tr>\n",
       "    <tr>\n",
       "      <th>8</th>\n",
       "      <td>1012</td>\n",
       "      <td>Chicago-Naperville-Elgin, IL-IN-WI MSA</td>\n",
       "      <td>40</td>\n",
       "    </tr>\n",
       "    <tr>\n",
       "      <th>9</th>\n",
       "      <td>1015</td>\n",
       "      <td>Pittsburgh, PA MSA</td>\n",
       "      <td>40</td>\n",
       "    </tr>\n",
       "  </tbody>\n",
       "</table>\n",
       "</div>"
      ],
      "text/plain": [
       "   user_id                                    city  total_revenue\n",
       "0     1001         Seattle-Tacoma-Bellevue, WA MSA            220\n",
       "1     1002    Las Vegas-Henderson-Paradise, NV MSA             90\n",
       "2     1003                           Tulsa, OK MSA            130\n",
       "3     1004         Seattle-Tacoma-Bellevue, WA MSA            550\n",
       "4     1005     Dallas-Fort Worth-Arlington, TX MSA             30\n",
       "5     1007           Grand Rapids-Kentwood, MI MSA            720\n",
       "6     1009  San Jose-Sunnyvale-Santa Clara, CA MSA            740\n",
       "7     1010     Dallas-Fort Worth-Arlington, TX MSA            290\n",
       "8     1012  Chicago-Naperville-Elgin, IL-IN-WI MSA             40\n",
       "9     1015                      Pittsburgh, PA MSA             40"
      ]
     },
     "execution_count": 297,
     "metadata": {},
     "output_type": "execute_result"
    }
   ],
   "source": [
    "users_others_surf.head(10)"
   ]
  },
  {
   "cell_type": "code",
   "execution_count": 298,
   "metadata": {},
   "outputs": [],
   "source": [
    "users_others_ultimate=users_others.merge(user_ultimate_pivot,on='user_id',how='inner')"
   ]
  },
  {
   "cell_type": "code",
   "execution_count": 299,
   "metadata": {},
   "outputs": [
    {
     "data": {
      "text/html": [
       "<div>\n",
       "<style scoped>\n",
       "    .dataframe tbody tr th:only-of-type {\n",
       "        vertical-align: middle;\n",
       "    }\n",
       "\n",
       "    .dataframe tbody tr th {\n",
       "        vertical-align: top;\n",
       "    }\n",
       "\n",
       "    .dataframe thead th {\n",
       "        text-align: right;\n",
       "    }\n",
       "</style>\n",
       "<table border=\"1\" class=\"dataframe\">\n",
       "  <thead>\n",
       "    <tr style=\"text-align: right;\">\n",
       "      <th></th>\n",
       "      <th>user_id</th>\n",
       "      <th>city</th>\n",
       "      <th>total_revenue</th>\n",
       "    </tr>\n",
       "  </thead>\n",
       "  <tbody>\n",
       "    <tr>\n",
       "      <th>0</th>\n",
       "      <td>1000</td>\n",
       "      <td>Atlanta-Sandy Springs-Roswell, GA MSA</td>\n",
       "      <td>70</td>\n",
       "    </tr>\n",
       "    <tr>\n",
       "      <th>1</th>\n",
       "      <td>1006</td>\n",
       "      <td>San Francisco-Oakland-Berkeley, CA MSA</td>\n",
       "      <td>147</td>\n",
       "    </tr>\n",
       "    <tr>\n",
       "      <th>2</th>\n",
       "      <td>1008</td>\n",
       "      <td>Orlando-Kissimmee-Sanford, FL MSA</td>\n",
       "      <td>210</td>\n",
       "    </tr>\n",
       "    <tr>\n",
       "      <th>3</th>\n",
       "      <td>1011</td>\n",
       "      <td>Cleveland-Elyria, OH MSA</td>\n",
       "      <td>490</td>\n",
       "    </tr>\n",
       "    <tr>\n",
       "      <th>4</th>\n",
       "      <td>1013</td>\n",
       "      <td>Knoxville, TN MSA</td>\n",
       "      <td>70</td>\n",
       "    </tr>\n",
       "    <tr>\n",
       "      <th>5</th>\n",
       "      <td>1026</td>\n",
       "      <td>Houston-The Woodlands-Sugar Land, TX MSA</td>\n",
       "      <td>140</td>\n",
       "    </tr>\n",
       "    <tr>\n",
       "      <th>6</th>\n",
       "      <td>1028</td>\n",
       "      <td>Philadelphia-Camden-Wilmington, PA-NJ-DE-MD MSA</td>\n",
       "      <td>1246</td>\n",
       "    </tr>\n",
       "    <tr>\n",
       "      <th>7</th>\n",
       "      <td>1030</td>\n",
       "      <td>Chicago-Naperville-Elgin, IL-IN-WI MSA</td>\n",
       "      <td>210</td>\n",
       "    </tr>\n",
       "    <tr>\n",
       "      <th>8</th>\n",
       "      <td>1032</td>\n",
       "      <td>Birmingham-Hoover, AL MSA</td>\n",
       "      <td>140</td>\n",
       "    </tr>\n",
       "    <tr>\n",
       "      <th>9</th>\n",
       "      <td>1033</td>\n",
       "      <td>Oklahoma City, OK MSA</td>\n",
       "      <td>280</td>\n",
       "    </tr>\n",
       "  </tbody>\n",
       "</table>\n",
       "</div>"
      ],
      "text/plain": [
       "   user_id                                             city  total_revenue\n",
       "0     1000            Atlanta-Sandy Springs-Roswell, GA MSA             70\n",
       "1     1006           San Francisco-Oakland-Berkeley, CA MSA            147\n",
       "2     1008                Orlando-Kissimmee-Sanford, FL MSA            210\n",
       "3     1011                         Cleveland-Elyria, OH MSA            490\n",
       "4     1013                                Knoxville, TN MSA             70\n",
       "5     1026         Houston-The Woodlands-Sugar Land, TX MSA            140\n",
       "6     1028  Philadelphia-Camden-Wilmington, PA-NJ-DE-MD MSA           1246\n",
       "7     1030           Chicago-Naperville-Elgin, IL-IN-WI MSA            210\n",
       "8     1032                        Birmingham-Hoover, AL MSA            140\n",
       "9     1033                            Oklahoma City, OK MSA            280"
      ]
     },
     "execution_count": 299,
     "metadata": {},
     "output_type": "execute_result"
    }
   ],
   "source": [
    "users_others_ultimate.head(10)"
   ]
  },
  {
   "cell_type": "code",
   "execution_count": 300,
   "metadata": {},
   "outputs": [],
   "source": [
    "#appending surf and ultimate users for other than 'ny-nj ''\n",
    "users_others_charges=users_others_surf.append(users_others_ultimate,ignore_index=True)"
   ]
  },
  {
   "cell_type": "code",
   "execution_count": 301,
   "metadata": {},
   "outputs": [
    {
     "data": {
      "text/html": [
       "<div>\n",
       "<style scoped>\n",
       "    .dataframe tbody tr th:only-of-type {\n",
       "        vertical-align: middle;\n",
       "    }\n",
       "\n",
       "    .dataframe tbody tr th {\n",
       "        vertical-align: top;\n",
       "    }\n",
       "\n",
       "    .dataframe thead th {\n",
       "        text-align: right;\n",
       "    }\n",
       "</style>\n",
       "<table border=\"1\" class=\"dataframe\">\n",
       "  <thead>\n",
       "    <tr style=\"text-align: right;\">\n",
       "      <th></th>\n",
       "      <th>user_id</th>\n",
       "      <th>city</th>\n",
       "      <th>total_revenue</th>\n",
       "    </tr>\n",
       "  </thead>\n",
       "  <tbody>\n",
       "    <tr>\n",
       "      <th>0</th>\n",
       "      <td>1001</td>\n",
       "      <td>Seattle-Tacoma-Bellevue, WA MSA</td>\n",
       "      <td>220</td>\n",
       "    </tr>\n",
       "    <tr>\n",
       "      <th>1</th>\n",
       "      <td>1002</td>\n",
       "      <td>Las Vegas-Henderson-Paradise, NV MSA</td>\n",
       "      <td>90</td>\n",
       "    </tr>\n",
       "    <tr>\n",
       "      <th>2</th>\n",
       "      <td>1003</td>\n",
       "      <td>Tulsa, OK MSA</td>\n",
       "      <td>130</td>\n",
       "    </tr>\n",
       "    <tr>\n",
       "      <th>3</th>\n",
       "      <td>1004</td>\n",
       "      <td>Seattle-Tacoma-Bellevue, WA MSA</td>\n",
       "      <td>550</td>\n",
       "    </tr>\n",
       "    <tr>\n",
       "      <th>4</th>\n",
       "      <td>1005</td>\n",
       "      <td>Dallas-Fort Worth-Arlington, TX MSA</td>\n",
       "      <td>30</td>\n",
       "    </tr>\n",
       "    <tr>\n",
       "      <th>5</th>\n",
       "      <td>1007</td>\n",
       "      <td>Grand Rapids-Kentwood, MI MSA</td>\n",
       "      <td>720</td>\n",
       "    </tr>\n",
       "    <tr>\n",
       "      <th>6</th>\n",
       "      <td>1009</td>\n",
       "      <td>San Jose-Sunnyvale-Santa Clara, CA MSA</td>\n",
       "      <td>740</td>\n",
       "    </tr>\n",
       "    <tr>\n",
       "      <th>7</th>\n",
       "      <td>1010</td>\n",
       "      <td>Dallas-Fort Worth-Arlington, TX MSA</td>\n",
       "      <td>290</td>\n",
       "    </tr>\n",
       "    <tr>\n",
       "      <th>8</th>\n",
       "      <td>1012</td>\n",
       "      <td>Chicago-Naperville-Elgin, IL-IN-WI MSA</td>\n",
       "      <td>40</td>\n",
       "    </tr>\n",
       "    <tr>\n",
       "      <th>9</th>\n",
       "      <td>1015</td>\n",
       "      <td>Pittsburgh, PA MSA</td>\n",
       "      <td>40</td>\n",
       "    </tr>\n",
       "  </tbody>\n",
       "</table>\n",
       "</div>"
      ],
      "text/plain": [
       "   user_id                                    city  total_revenue\n",
       "0     1001         Seattle-Tacoma-Bellevue, WA MSA            220\n",
       "1     1002    Las Vegas-Henderson-Paradise, NV MSA             90\n",
       "2     1003                           Tulsa, OK MSA            130\n",
       "3     1004         Seattle-Tacoma-Bellevue, WA MSA            550\n",
       "4     1005     Dallas-Fort Worth-Arlington, TX MSA             30\n",
       "5     1007           Grand Rapids-Kentwood, MI MSA            720\n",
       "6     1009  San Jose-Sunnyvale-Santa Clara, CA MSA            740\n",
       "7     1010     Dallas-Fort Worth-Arlington, TX MSA            290\n",
       "8     1012  Chicago-Naperville-Elgin, IL-IN-WI MSA             40\n",
       "9     1015                      Pittsburgh, PA MSA             40"
      ]
     },
     "execution_count": 301,
     "metadata": {},
     "output_type": "execute_result"
    }
   ],
   "source": [
    "users_others_charges.head(10)"
   ]
  },
  {
   "cell_type": "markdown",
   "metadata": {},
   "source": [
    "Hypothesis testing using samples from 'users_others_charges'(other than ny-nj) and 'users_ny_nj_charges'(ny-nj)"
   ]
  },
  {
   "cell_type": "code",
   "execution_count": 302,
   "metadata": {},
   "outputs": [
    {
     "name": "stdout",
     "output_type": "stream",
     "text": [
      "p-value:  0.4478656745243377\n",
      "We can't reject the null hypothesis\n"
     ]
    }
   ],
   "source": [
    "alpha = 0.05  # critical statistical significance level\n",
    "# if the p-value is less than alpha, we reject the hypothesis\n",
    "\n",
    "results = st.ttest_ind(users_others_charges['total_revenue'], users_ny_nj_charges['total_revenue'])\n",
    "\n",
    "print('p-value: ', results.pvalue)\n",
    "\n",
    "if results.pvalue < alpha:\n",
    "    print(\"We reject the null hypothesis\")\n",
    "else:\n",
    "    print(\"We can't reject the null hypothesis\") "
   ]
  },
  {
   "cell_type": "markdown",
   "metadata": {},
   "source": [
    "**Hypothesis testing conclusion for null hypothesis 1:**  \n",
    "Based on our hypothesis testing , we see that as the p-value is larger than alpha indicating that we can't reject the null hypothesis.  \n",
    "So , the revenue from NY-NJ region is closer to revenues of other region."
   ]
  },
  {
   "cell_type": "code",
   "execution_count": 303,
   "metadata": {},
   "outputs": [
    {
     "data": {
      "text/html": [
       "<div>\n",
       "<style scoped>\n",
       "    .dataframe tbody tr th:only-of-type {\n",
       "        vertical-align: middle;\n",
       "    }\n",
       "\n",
       "    .dataframe tbody tr th {\n",
       "        vertical-align: top;\n",
       "    }\n",
       "\n",
       "    .dataframe thead th {\n",
       "        text-align: right;\n",
       "    }\n",
       "</style>\n",
       "<table border=\"1\" class=\"dataframe\">\n",
       "  <thead>\n",
       "    <tr style=\"text-align: right;\">\n",
       "      <th></th>\n",
       "      <th>user_id</th>\n",
       "      <th>total_revenue</th>\n",
       "    </tr>\n",
       "  </thead>\n",
       "  <tbody>\n",
       "    <tr>\n",
       "      <th>count</th>\n",
       "      <td>411.000000</td>\n",
       "      <td>411.000000</td>\n",
       "    </tr>\n",
       "    <tr>\n",
       "      <th>mean</th>\n",
       "      <td>1253.437956</td>\n",
       "      <td>279.172749</td>\n",
       "    </tr>\n",
       "    <tr>\n",
       "      <th>std</th>\n",
       "      <td>144.194509</td>\n",
       "      <td>258.814722</td>\n",
       "    </tr>\n",
       "    <tr>\n",
       "      <th>min</th>\n",
       "      <td>1000.000000</td>\n",
       "      <td>20.000000</td>\n",
       "    </tr>\n",
       "    <tr>\n",
       "      <th>25%</th>\n",
       "      <td>1131.500000</td>\n",
       "      <td>90.000000</td>\n",
       "    </tr>\n",
       "    <tr>\n",
       "      <th>50%</th>\n",
       "      <td>1255.000000</td>\n",
       "      <td>210.000000</td>\n",
       "    </tr>\n",
       "    <tr>\n",
       "      <th>75%</th>\n",
       "      <td>1375.500000</td>\n",
       "      <td>395.000000</td>\n",
       "    </tr>\n",
       "    <tr>\n",
       "      <th>max</th>\n",
       "      <td>1499.000000</td>\n",
       "      <td>1720.000000</td>\n",
       "    </tr>\n",
       "  </tbody>\n",
       "</table>\n",
       "</div>"
      ],
      "text/plain": [
       "           user_id  total_revenue\n",
       "count   411.000000     411.000000\n",
       "mean   1253.437956     279.172749\n",
       "std     144.194509     258.814722\n",
       "min    1000.000000      20.000000\n",
       "25%    1131.500000      90.000000\n",
       "50%    1255.000000     210.000000\n",
       "75%    1375.500000     395.000000\n",
       "max    1499.000000    1720.000000"
      ]
     },
     "execution_count": 303,
     "metadata": {},
     "output_type": "execute_result"
    }
   ],
   "source": [
    "users_others_charges.describe()"
   ]
  },
  {
   "cell_type": "code",
   "execution_count": 304,
   "metadata": {},
   "outputs": [
    {
     "data": {
      "text/plain": [
       "114740"
      ]
     },
     "execution_count": 304,
     "metadata": {},
     "output_type": "execute_result"
    }
   ],
   "source": [
    "users_others_charges['total_revenue'].sum()"
   ]
  },
  {
   "cell_type": "code",
   "execution_count": 305,
   "metadata": {},
   "outputs": [
    {
     "data": {
      "text/plain": [
       "20189"
      ]
     },
     "execution_count": 305,
     "metadata": {},
     "output_type": "execute_result"
    }
   ],
   "source": [
    "users_ny_nj_charges['total_revenue'].sum()"
   ]
  },
  {
   "cell_type": "code",
   "execution_count": 306,
   "metadata": {},
   "outputs": [
    {
     "data": {
      "text/html": [
       "<div>\n",
       "<style scoped>\n",
       "    .dataframe tbody tr th:only-of-type {\n",
       "        vertical-align: middle;\n",
       "    }\n",
       "\n",
       "    .dataframe tbody tr th {\n",
       "        vertical-align: top;\n",
       "    }\n",
       "\n",
       "    .dataframe thead th {\n",
       "        text-align: right;\n",
       "    }\n",
       "</style>\n",
       "<table border=\"1\" class=\"dataframe\">\n",
       "  <thead>\n",
       "    <tr style=\"text-align: right;\">\n",
       "      <th></th>\n",
       "      <th>user_id</th>\n",
       "      <th>total_revenue</th>\n",
       "    </tr>\n",
       "  </thead>\n",
       "  <tbody>\n",
       "    <tr>\n",
       "      <th>count</th>\n",
       "      <td>79.000000</td>\n",
       "      <td>79.000000</td>\n",
       "    </tr>\n",
       "    <tr>\n",
       "      <th>mean</th>\n",
       "      <td>1225.392405</td>\n",
       "      <td>255.556962</td>\n",
       "    </tr>\n",
       "    <tr>\n",
       "      <th>std</th>\n",
       "      <td>145.095850</td>\n",
       "      <td>220.501221</td>\n",
       "    </tr>\n",
       "    <tr>\n",
       "      <th>min</th>\n",
       "      <td>1014.000000</td>\n",
       "      <td>20.000000</td>\n",
       "    </tr>\n",
       "    <tr>\n",
       "      <th>25%</th>\n",
       "      <td>1103.000000</td>\n",
       "      <td>75.000000</td>\n",
       "    </tr>\n",
       "    <tr>\n",
       "      <th>50%</th>\n",
       "      <td>1198.000000</td>\n",
       "      <td>200.000000</td>\n",
       "    </tr>\n",
       "    <tr>\n",
       "      <th>75%</th>\n",
       "      <td>1356.000000</td>\n",
       "      <td>305.000000</td>\n",
       "    </tr>\n",
       "    <tr>\n",
       "      <th>max</th>\n",
       "      <td>1498.000000</td>\n",
       "      <td>950.000000</td>\n",
       "    </tr>\n",
       "  </tbody>\n",
       "</table>\n",
       "</div>"
      ],
      "text/plain": [
       "           user_id  total_revenue\n",
       "count    79.000000      79.000000\n",
       "mean   1225.392405     255.556962\n",
       "std     145.095850     220.501221\n",
       "min    1014.000000      20.000000\n",
       "25%    1103.000000      75.000000\n",
       "50%    1198.000000     200.000000\n",
       "75%    1356.000000     305.000000\n",
       "max    1498.000000     950.000000"
      ]
     },
     "execution_count": 306,
     "metadata": {},
     "output_type": "execute_result"
    }
   ],
   "source": [
    "users_ny_nj_charges.describe()"
   ]
  },
  {
   "cell_type": "markdown",
   "metadata": {},
   "source": [
    "# Conclusion  \n",
    "1.**Revenue Generator for Megaline**  \n",
    "surf plan is the major revenue generator for Megaline which is  around 68330.  \n",
    "The users in this plan use more calling minutes and gb compared to ultimate users.  \n",
    "The total number of users subscribed to surf plan(333) is almost double that of ultimate  \n",
    "plan users(157).Interestingly the total revenue generated from surf users are  \n",
    "way more than that of ultimate users.\n",
    "Messages are significantly lower in numbers and we don't see any extras used in either plan .   \n",
    "2.There is no much difference in revenues from 'NY-NJ' and other regions."
   ]
  }
 ],
 "metadata": {
  "ExecuteTimeLog": [
   {
    "duration": 761,
    "start_time": "2021-12-29T05:27:10.500Z"
   },
   {
    "duration": 2118,
    "start_time": "2021-12-29T05:27:36.279Z"
   },
   {
    "duration": 2275,
    "start_time": "2021-12-29T05:28:27.240Z"
   },
   {
    "duration": 192,
    "start_time": "2021-12-29T05:30:47.211Z"
   },
   {
    "duration": 719,
    "start_time": "2021-12-29T05:52:38.279Z"
   },
   {
    "duration": 344,
    "start_time": "2021-12-29T06:02:46.897Z"
   },
   {
    "duration": 342,
    "start_time": "2021-12-29T06:07:31.788Z"
   },
   {
    "duration": 17,
    "start_time": "2021-12-29T06:07:56.244Z"
   },
   {
    "duration": 12,
    "start_time": "2021-12-29T06:08:13.028Z"
   },
   {
    "duration": 11,
    "start_time": "2021-12-29T06:08:27.673Z"
   },
   {
    "duration": 13,
    "start_time": "2021-12-29T06:08:41.915Z"
   },
   {
    "duration": 12,
    "start_time": "2021-12-29T06:10:07.228Z"
   },
   {
    "duration": 339,
    "start_time": "2021-12-29T06:10:38.914Z"
   },
   {
    "duration": 11,
    "start_time": "2021-12-29T06:10:42.528Z"
   },
   {
    "duration": 11,
    "start_time": "2021-12-29T06:10:46.121Z"
   },
   {
    "duration": 13,
    "start_time": "2021-12-29T06:10:49.202Z"
   },
   {
    "duration": 12,
    "start_time": "2021-12-29T06:11:04.005Z"
   },
   {
    "duration": 3,
    "start_time": "2021-12-29T06:12:35.998Z"
   },
   {
    "duration": 6,
    "start_time": "2021-12-29T06:12:36.004Z"
   },
   {
    "duration": 383,
    "start_time": "2021-12-29T06:12:36.013Z"
   },
   {
    "duration": 12,
    "start_time": "2021-12-29T06:12:36.398Z"
   },
   {
    "duration": 18,
    "start_time": "2021-12-29T06:12:36.412Z"
   },
   {
    "duration": 12,
    "start_time": "2021-12-29T06:12:36.432Z"
   },
   {
    "duration": 13,
    "start_time": "2021-12-29T06:12:36.446Z"
   },
   {
    "duration": 15,
    "start_time": "2021-12-29T06:14:20.113Z"
   },
   {
    "duration": 14,
    "start_time": "2021-12-29T06:18:00.777Z"
   },
   {
    "duration": 7808,
    "start_time": "2021-12-29T06:19:30.473Z"
   },
   {
    "duration": 25,
    "start_time": "2021-12-29T06:20:09.740Z"
   },
   {
    "duration": 373,
    "start_time": "2021-12-29T06:25:18.696Z"
   },
   {
    "duration": 2870,
    "start_time": "2021-12-29T06:27:10.412Z"
   },
   {
    "duration": 31,
    "start_time": "2021-12-29T06:27:37.224Z"
   },
   {
    "duration": 20,
    "start_time": "2021-12-29T06:28:52.643Z"
   },
   {
    "duration": 13,
    "start_time": "2021-12-29T06:29:10.111Z"
   },
   {
    "duration": 20,
    "start_time": "2021-12-29T06:29:59.636Z"
   },
   {
    "duration": 15,
    "start_time": "2021-12-29T06:30:03.657Z"
   },
   {
    "duration": 4,
    "start_time": "2021-12-29T06:30:20.780Z"
   },
   {
    "duration": 10,
    "start_time": "2021-12-29T06:30:20.791Z"
   },
   {
    "duration": 392,
    "start_time": "2021-12-29T06:30:20.803Z"
   },
   {
    "duration": 13,
    "start_time": "2021-12-29T06:30:21.198Z"
   },
   {
    "duration": 11,
    "start_time": "2021-12-29T06:30:21.224Z"
   },
   {
    "duration": 22,
    "start_time": "2021-12-29T06:30:21.238Z"
   },
   {
    "duration": 16,
    "start_time": "2021-12-29T06:30:21.263Z"
   },
   {
    "duration": 52,
    "start_time": "2021-12-29T06:30:21.282Z"
   },
   {
    "duration": 27,
    "start_time": "2021-12-29T06:30:21.337Z"
   },
   {
    "duration": 63,
    "start_time": "2021-12-29T06:30:21.367Z"
   },
   {
    "duration": 20,
    "start_time": "2021-12-29T06:30:21.433Z"
   },
   {
    "duration": 17,
    "start_time": "2021-12-29T06:30:21.456Z"
   },
   {
    "duration": 5,
    "start_time": "2021-12-29T06:30:26.451Z"
   },
   {
    "duration": 6,
    "start_time": "2021-12-29T06:30:26.459Z"
   },
   {
    "duration": 391,
    "start_time": "2021-12-29T06:30:26.468Z"
   },
   {
    "duration": 12,
    "start_time": "2021-12-29T06:30:26.862Z"
   },
   {
    "duration": 12,
    "start_time": "2021-12-29T06:30:26.877Z"
   },
   {
    "duration": 16,
    "start_time": "2021-12-29T06:30:26.924Z"
   },
   {
    "duration": 19,
    "start_time": "2021-12-29T06:30:26.943Z"
   },
   {
    "duration": 20,
    "start_time": "2021-12-29T06:30:26.965Z"
   },
   {
    "duration": 52,
    "start_time": "2021-12-29T06:30:26.987Z"
   },
   {
    "duration": 40,
    "start_time": "2021-12-29T06:30:27.042Z"
   },
   {
    "duration": 49,
    "start_time": "2021-12-29T06:30:27.086Z"
   },
   {
    "duration": 16,
    "start_time": "2021-12-29T06:30:27.137Z"
   },
   {
    "duration": 1653,
    "start_time": "2021-12-29T06:33:55.695Z"
   },
   {
    "duration": 434,
    "start_time": "2021-12-29T06:34:15.441Z"
   },
   {
    "duration": 1665,
    "start_time": "2021-12-29T06:34:57.663Z"
   },
   {
    "duration": 1394,
    "start_time": "2021-12-29T06:38:57.888Z"
   },
   {
    "duration": 14,
    "start_time": "2021-12-29T06:39:30.626Z"
   },
   {
    "duration": 21,
    "start_time": "2021-12-29T06:40:01.960Z"
   },
   {
    "duration": 289,
    "start_time": "2021-12-29T06:46:01.744Z"
   },
   {
    "duration": 290,
    "start_time": "2021-12-29T06:46:36.696Z"
   },
   {
    "duration": 5,
    "start_time": "2021-12-29T06:46:50.205Z"
   },
   {
    "duration": 292,
    "start_time": "2021-12-29T06:46:55.642Z"
   },
   {
    "duration": 6,
    "start_time": "2021-12-29T06:47:41.243Z"
   },
   {
    "duration": 25,
    "start_time": "2021-12-29T06:47:56.015Z"
   },
   {
    "duration": 289,
    "start_time": "2021-12-29T06:48:50.690Z"
   },
   {
    "duration": 3,
    "start_time": "2021-12-29T06:51:06.771Z"
   },
   {
    "duration": 112,
    "start_time": "2021-12-29T06:51:12.606Z"
   },
   {
    "duration": 4,
    "start_time": "2021-12-29T06:51:21.127Z"
   },
   {
    "duration": 22,
    "start_time": "2021-12-29T06:51:33.510Z"
   },
   {
    "duration": 15,
    "start_time": "2021-12-29T06:52:53.686Z"
   },
   {
    "duration": 5,
    "start_time": "2021-12-29T06:55:02.660Z"
   },
   {
    "duration": 21,
    "start_time": "2021-12-29T06:55:03.631Z"
   },
   {
    "duration": 20,
    "start_time": "2021-12-29T06:55:09.043Z"
   },
   {
    "duration": 19,
    "start_time": "2021-12-29T06:56:01.814Z"
   },
   {
    "duration": 18,
    "start_time": "2021-12-29T06:58:01.099Z"
   },
   {
    "duration": 105,
    "start_time": "2021-12-29T06:58:42.951Z"
   },
   {
    "duration": 21,
    "start_time": "2021-12-29T06:58:53.437Z"
   },
   {
    "duration": 5,
    "start_time": "2021-12-29T06:59:28.614Z"
   },
   {
    "duration": 22,
    "start_time": "2021-12-29T06:59:29.523Z"
   },
   {
    "duration": 10,
    "start_time": "2021-12-29T06:59:32.870Z"
   },
   {
    "duration": 10,
    "start_time": "2021-12-29T06:59:42.341Z"
   },
   {
    "duration": 16,
    "start_time": "2021-12-29T06:59:50.826Z"
   },
   {
    "duration": 4,
    "start_time": "2021-12-29T07:00:10.535Z"
   },
   {
    "duration": 3,
    "start_time": "2021-12-29T07:00:10.547Z"
   },
   {
    "duration": 353,
    "start_time": "2021-12-29T07:00:10.553Z"
   },
   {
    "duration": 26,
    "start_time": "2021-12-29T07:00:10.909Z"
   },
   {
    "duration": 11,
    "start_time": "2021-12-29T07:00:10.938Z"
   },
   {
    "duration": 12,
    "start_time": "2021-12-29T07:00:10.952Z"
   },
   {
    "duration": 61,
    "start_time": "2021-12-29T07:00:10.966Z"
   },
   {
    "duration": 10,
    "start_time": "2021-12-29T07:00:11.030Z"
   },
   {
    "duration": 18,
    "start_time": "2021-12-29T07:00:11.042Z"
   },
   {
    "duration": 70,
    "start_time": "2021-12-29T07:00:11.064Z"
   },
   {
    "duration": 18,
    "start_time": "2021-12-29T07:00:11.137Z"
   },
   {
    "duration": 14,
    "start_time": "2021-12-29T07:00:11.157Z"
   },
   {
    "duration": 50,
    "start_time": "2021-12-29T07:00:11.173Z"
   },
   {
    "duration": 18,
    "start_time": "2021-12-29T07:00:11.225Z"
   },
   {
    "duration": 5,
    "start_time": "2021-12-29T07:00:11.245Z"
   },
   {
    "duration": 23,
    "start_time": "2021-12-29T07:00:11.252Z"
   },
   {
    "duration": 46,
    "start_time": "2021-12-29T07:00:11.278Z"
   },
   {
    "duration": 25,
    "start_time": "2021-12-29T07:00:11.327Z"
   },
   {
    "duration": 8,
    "start_time": "2021-12-29T07:00:11.354Z"
   },
   {
    "duration": 13,
    "start_time": "2021-12-29T07:00:11.365Z"
   },
   {
    "duration": 5,
    "start_time": "2021-12-29T07:02:24.004Z"
   },
   {
    "duration": 21,
    "start_time": "2021-12-29T07:02:31.808Z"
   },
   {
    "duration": 571,
    "start_time": "2021-12-29T15:03:21.290Z"
   },
   {
    "duration": 2,
    "start_time": "2021-12-29T15:03:22.454Z"
   },
   {
    "duration": 1753,
    "start_time": "2021-12-29T15:03:23.528Z"
   },
   {
    "duration": 18,
    "start_time": "2021-12-29T15:03:26.932Z"
   },
   {
    "duration": 8,
    "start_time": "2021-12-29T15:03:29.864Z"
   },
   {
    "duration": 8,
    "start_time": "2021-12-29T15:03:31.773Z"
   },
   {
    "duration": 316,
    "start_time": "2021-12-29T15:04:29.855Z"
   },
   {
    "duration": 14,
    "start_time": "2021-12-29T15:07:58.013Z"
   },
   {
    "duration": 7,
    "start_time": "2021-12-29T15:09:47.126Z"
   },
   {
    "duration": 12,
    "start_time": "2021-12-29T15:10:35.932Z"
   },
   {
    "duration": 16,
    "start_time": "2021-12-29T15:11:22.361Z"
   },
   {
    "duration": 14,
    "start_time": "2021-12-29T15:12:05.556Z"
   },
   {
    "duration": 62,
    "start_time": "2021-12-29T15:12:32.051Z"
   },
   {
    "duration": 240,
    "start_time": "2021-12-29T15:12:54.341Z"
   },
   {
    "duration": 3,
    "start_time": "2021-12-29T15:13:28.788Z"
   },
   {
    "duration": 4,
    "start_time": "2021-12-29T15:13:28.794Z"
   },
   {
    "duration": 281,
    "start_time": "2021-12-29T15:13:28.800Z"
   },
   {
    "duration": 11,
    "start_time": "2021-12-29T15:13:29.091Z"
   },
   {
    "duration": 6,
    "start_time": "2021-12-29T15:13:29.104Z"
   },
   {
    "duration": 11,
    "start_time": "2021-12-29T15:13:29.112Z"
   },
   {
    "duration": 19,
    "start_time": "2021-12-29T15:13:29.125Z"
   },
   {
    "duration": 10,
    "start_time": "2021-12-29T15:13:29.146Z"
   },
   {
    "duration": 11,
    "start_time": "2021-12-29T15:13:29.159Z"
   },
   {
    "duration": 31,
    "start_time": "2021-12-29T15:13:29.172Z"
   },
   {
    "duration": 23,
    "start_time": "2021-12-29T15:13:29.204Z"
   },
   {
    "duration": 12,
    "start_time": "2021-12-29T15:13:29.229Z"
   },
   {
    "duration": 9,
    "start_time": "2021-12-29T15:13:29.243Z"
   },
   {
    "duration": 38,
    "start_time": "2021-12-29T15:13:29.253Z"
   },
   {
    "duration": 13,
    "start_time": "2021-12-29T15:13:29.293Z"
   },
   {
    "duration": 7,
    "start_time": "2021-12-29T15:13:29.308Z"
   },
   {
    "duration": 16,
    "start_time": "2021-12-29T15:13:29.316Z"
   },
   {
    "duration": 4,
    "start_time": "2021-12-29T15:13:29.333Z"
   },
   {
    "duration": 15,
    "start_time": "2021-12-29T15:13:29.338Z"
   },
   {
    "duration": 39,
    "start_time": "2021-12-29T15:13:29.355Z"
   },
   {
    "duration": 10,
    "start_time": "2021-12-29T15:13:29.395Z"
   },
   {
    "duration": 7,
    "start_time": "2021-12-29T15:13:29.407Z"
   },
   {
    "duration": 15,
    "start_time": "2021-12-29T15:13:29.415Z"
   },
   {
    "duration": 6,
    "start_time": "2021-12-29T15:13:29.433Z"
   },
   {
    "duration": 12,
    "start_time": "2021-12-29T15:13:29.441Z"
   },
   {
    "duration": 46,
    "start_time": "2021-12-29T15:13:29.454Z"
   },
   {
    "duration": 11,
    "start_time": "2021-12-29T15:13:29.502Z"
   },
   {
    "duration": 6,
    "start_time": "2021-12-29T15:13:29.515Z"
   },
   {
    "duration": 7,
    "start_time": "2021-12-29T15:15:55.062Z"
   },
   {
    "duration": 182,
    "start_time": "2021-12-29T15:16:24.302Z"
   },
   {
    "duration": 11,
    "start_time": "2021-12-29T15:16:29.817Z"
   },
   {
    "duration": 17,
    "start_time": "2021-12-29T15:16:42.720Z"
   },
   {
    "duration": 13,
    "start_time": "2021-12-29T15:17:01.430Z"
   },
   {
    "duration": 6,
    "start_time": "2021-12-29T15:17:25.675Z"
   },
   {
    "duration": 199,
    "start_time": "2021-12-29T15:18:04.672Z"
   },
   {
    "duration": 9,
    "start_time": "2021-12-29T15:19:52.548Z"
   },
   {
    "duration": 10,
    "start_time": "2021-12-29T15:20:04.275Z"
   },
   {
    "duration": 11,
    "start_time": "2021-12-29T15:21:48.313Z"
   },
   {
    "duration": 175,
    "start_time": "2021-12-29T15:23:11.538Z"
   },
   {
    "duration": 7,
    "start_time": "2021-12-29T15:23:18.595Z"
   },
   {
    "duration": 174,
    "start_time": "2021-12-29T15:29:44.692Z"
   },
   {
    "duration": 4,
    "start_time": "2021-12-29T15:30:51.045Z"
   },
   {
    "duration": 12,
    "start_time": "2021-12-29T15:31:09.751Z"
   },
   {
    "duration": 11,
    "start_time": "2021-12-29T15:31:42.652Z"
   },
   {
    "duration": 5,
    "start_time": "2021-12-29T15:33:39.382Z"
   },
   {
    "duration": 6,
    "start_time": "2021-12-29T15:34:38.179Z"
   },
   {
    "duration": 5,
    "start_time": "2021-12-29T15:34:52.555Z"
   },
   {
    "duration": 176,
    "start_time": "2021-12-29T15:40:10.777Z"
   },
   {
    "duration": 185,
    "start_time": "2021-12-29T15:40:23.210Z"
   },
   {
    "duration": 174,
    "start_time": "2021-12-29T15:40:38.899Z"
   },
   {
    "duration": 85,
    "start_time": "2021-12-29T15:41:27.540Z"
   },
   {
    "duration": 59,
    "start_time": "2021-12-29T15:41:45.326Z"
   },
   {
    "duration": 168,
    "start_time": "2021-12-29T15:42:57.569Z"
   },
   {
    "duration": 65,
    "start_time": "2021-12-29T15:45:52.384Z"
   },
   {
    "duration": 59,
    "start_time": "2021-12-29T15:46:15.708Z"
   },
   {
    "duration": 339,
    "start_time": "2021-12-29T15:48:01.129Z"
   },
   {
    "duration": 6,
    "start_time": "2021-12-29T15:54:03.136Z"
   },
   {
    "duration": 6,
    "start_time": "2021-12-29T15:54:28.065Z"
   },
   {
    "duration": 4,
    "start_time": "2021-12-29T15:54:51.378Z"
   },
   {
    "duration": 6,
    "start_time": "2021-12-29T15:55:00.216Z"
   },
   {
    "duration": 3,
    "start_time": "2021-12-29T15:55:27.625Z"
   },
   {
    "duration": 6,
    "start_time": "2021-12-29T15:55:31.024Z"
   },
   {
    "duration": 6,
    "start_time": "2021-12-29T15:55:35.666Z"
   },
   {
    "duration": 5,
    "start_time": "2021-12-29T15:55:44.223Z"
   },
   {
    "duration": 177,
    "start_time": "2021-12-29T15:56:22.679Z"
   },
   {
    "duration": 13,
    "start_time": "2021-12-29T15:56:40.489Z"
   },
   {
    "duration": 15,
    "start_time": "2021-12-29T15:57:24.494Z"
   },
   {
    "duration": 11,
    "start_time": "2021-12-29T15:59:09.805Z"
   },
   {
    "duration": 15,
    "start_time": "2021-12-29T16:00:36.398Z"
   },
   {
    "duration": 200,
    "start_time": "2021-12-29T16:02:10.613Z"
   },
   {
    "duration": 11,
    "start_time": "2021-12-29T16:03:09.478Z"
   },
   {
    "duration": 9,
    "start_time": "2021-12-29T16:03:58.478Z"
   },
   {
    "duration": 7,
    "start_time": "2021-12-29T16:05:10.552Z"
   },
   {
    "duration": 13,
    "start_time": "2021-12-29T16:06:22.014Z"
   },
   {
    "duration": 14,
    "start_time": "2021-12-29T16:07:42.762Z"
   },
   {
    "duration": 2,
    "start_time": "2021-12-29T16:07:47.462Z"
   },
   {
    "duration": 6,
    "start_time": "2021-12-29T16:07:47.466Z"
   },
   {
    "duration": 308,
    "start_time": "2021-12-29T16:07:47.474Z"
   },
   {
    "duration": 16,
    "start_time": "2021-12-29T16:07:47.784Z"
   },
   {
    "duration": 10,
    "start_time": "2021-12-29T16:07:47.801Z"
   },
   {
    "duration": 8,
    "start_time": "2021-12-29T16:07:47.813Z"
   },
   {
    "duration": 12,
    "start_time": "2021-12-29T16:07:47.822Z"
   },
   {
    "duration": 8,
    "start_time": "2021-12-29T16:07:47.836Z"
   },
   {
    "duration": 9,
    "start_time": "2021-12-29T16:07:47.845Z"
   },
   {
    "duration": 44,
    "start_time": "2021-12-29T16:07:47.855Z"
   },
   {
    "duration": 24,
    "start_time": "2021-12-29T16:07:47.901Z"
   },
   {
    "duration": 13,
    "start_time": "2021-12-29T16:07:47.927Z"
   },
   {
    "duration": 14,
    "start_time": "2021-12-29T16:07:47.942Z"
   },
   {
    "duration": 10,
    "start_time": "2021-12-29T16:07:47.991Z"
   },
   {
    "duration": 15,
    "start_time": "2021-12-29T16:07:48.004Z"
   },
   {
    "duration": 13,
    "start_time": "2021-12-29T16:07:48.021Z"
   },
   {
    "duration": 4,
    "start_time": "2021-12-29T16:07:48.035Z"
   },
   {
    "duration": 17,
    "start_time": "2021-12-29T16:07:48.040Z"
   },
   {
    "duration": 3,
    "start_time": "2021-12-29T16:07:48.058Z"
   },
   {
    "duration": 15,
    "start_time": "2021-12-29T16:07:48.091Z"
   },
   {
    "duration": 7,
    "start_time": "2021-12-29T16:07:48.107Z"
   },
   {
    "duration": 9,
    "start_time": "2021-12-29T16:07:48.116Z"
   },
   {
    "duration": 6,
    "start_time": "2021-12-29T16:07:48.127Z"
   },
   {
    "duration": 13,
    "start_time": "2021-12-29T16:07:48.135Z"
   },
   {
    "duration": 42,
    "start_time": "2021-12-29T16:07:48.150Z"
   },
   {
    "duration": 7,
    "start_time": "2021-12-29T16:07:48.194Z"
   },
   {
    "duration": 15,
    "start_time": "2021-12-29T16:07:48.203Z"
   },
   {
    "duration": 18,
    "start_time": "2021-12-29T16:07:48.220Z"
   },
   {
    "duration": 15,
    "start_time": "2021-12-29T16:07:48.240Z"
   },
   {
    "duration": 41,
    "start_time": "2021-12-29T16:07:48.256Z"
   },
   {
    "duration": 10,
    "start_time": "2021-12-29T16:07:48.299Z"
   },
   {
    "duration": 6,
    "start_time": "2021-12-29T16:07:48.311Z"
   },
   {
    "duration": 5,
    "start_time": "2021-12-29T16:07:48.319Z"
   },
   {
    "duration": 11,
    "start_time": "2021-12-29T16:07:48.325Z"
   },
   {
    "duration": 7,
    "start_time": "2021-12-29T16:07:48.338Z"
   },
   {
    "duration": 45,
    "start_time": "2021-12-29T16:07:48.347Z"
   },
   {
    "duration": 13,
    "start_time": "2021-12-29T16:07:48.393Z"
   },
   {
    "duration": 10,
    "start_time": "2021-12-29T16:07:48.411Z"
   },
   {
    "duration": 4,
    "start_time": "2021-12-29T16:07:48.423Z"
   },
   {
    "duration": 7,
    "start_time": "2021-12-29T16:07:48.428Z"
   },
   {
    "duration": 5,
    "start_time": "2021-12-29T16:07:48.437Z"
   },
   {
    "duration": 8,
    "start_time": "2021-12-29T16:07:48.444Z"
   },
   {
    "duration": 5,
    "start_time": "2021-12-29T16:07:48.453Z"
   },
   {
    "duration": 45,
    "start_time": "2021-12-29T16:07:48.459Z"
   },
   {
    "duration": 16,
    "start_time": "2021-12-29T16:07:48.506Z"
   },
   {
    "duration": 10,
    "start_time": "2021-12-29T16:07:48.524Z"
   },
   {
    "duration": 8,
    "start_time": "2021-12-29T16:07:48.535Z"
   },
   {
    "duration": 15,
    "start_time": "2021-12-29T16:07:48.545Z"
   },
   {
    "duration": 34,
    "start_time": "2021-12-29T16:07:48.561Z"
   },
   {
    "duration": 2,
    "start_time": "2021-12-29T16:08:51.376Z"
   },
   {
    "duration": 4,
    "start_time": "2021-12-29T16:08:51.382Z"
   },
   {
    "duration": 314,
    "start_time": "2021-12-29T16:08:51.388Z"
   },
   {
    "duration": 8,
    "start_time": "2021-12-29T16:08:51.704Z"
   },
   {
    "duration": 9,
    "start_time": "2021-12-29T16:08:51.714Z"
   },
   {
    "duration": 11,
    "start_time": "2021-12-29T16:08:51.724Z"
   },
   {
    "duration": 10,
    "start_time": "2021-12-29T16:08:51.736Z"
   },
   {
    "duration": 10,
    "start_time": "2021-12-29T16:08:51.748Z"
   },
   {
    "duration": 37,
    "start_time": "2021-12-29T16:08:51.760Z"
   },
   {
    "duration": 17,
    "start_time": "2021-12-29T16:08:51.798Z"
   },
   {
    "duration": 21,
    "start_time": "2021-12-29T16:08:51.816Z"
   },
   {
    "duration": 12,
    "start_time": "2021-12-29T16:08:51.839Z"
   },
   {
    "duration": 8,
    "start_time": "2021-12-29T16:08:51.853Z"
   },
   {
    "duration": 37,
    "start_time": "2021-12-29T16:08:51.863Z"
   },
   {
    "duration": 11,
    "start_time": "2021-12-29T16:08:51.902Z"
   },
   {
    "duration": 5,
    "start_time": "2021-12-29T16:08:51.914Z"
   },
   {
    "duration": 14,
    "start_time": "2021-12-29T16:08:51.921Z"
   },
   {
    "duration": 14,
    "start_time": "2021-12-29T16:08:51.936Z"
   },
   {
    "duration": 26,
    "start_time": "2021-12-29T16:08:51.951Z"
   },
   {
    "duration": 14,
    "start_time": "2021-12-29T16:08:51.980Z"
   },
   {
    "duration": 9,
    "start_time": "2021-12-29T16:08:51.996Z"
   },
   {
    "duration": 16,
    "start_time": "2021-12-29T16:08:52.007Z"
   },
   {
    "duration": 28,
    "start_time": "2021-12-29T16:08:52.025Z"
   },
   {
    "duration": 16,
    "start_time": "2021-12-29T16:08:52.055Z"
   },
   {
    "duration": 24,
    "start_time": "2021-12-29T16:08:52.072Z"
   },
   {
    "duration": 13,
    "start_time": "2021-12-29T16:08:52.097Z"
   },
   {
    "duration": 22,
    "start_time": "2021-12-29T16:08:52.112Z"
   },
   {
    "duration": 14,
    "start_time": "2021-12-29T16:08:52.136Z"
   },
   {
    "duration": 10,
    "start_time": "2021-12-29T16:08:52.152Z"
   },
   {
    "duration": 28,
    "start_time": "2021-12-29T16:08:52.164Z"
   },
   {
    "duration": 6,
    "start_time": "2021-12-29T16:08:52.194Z"
   },
   {
    "duration": 21,
    "start_time": "2021-12-29T16:08:52.201Z"
   },
   {
    "duration": 19,
    "start_time": "2021-12-29T16:08:52.223Z"
   },
   {
    "duration": 18,
    "start_time": "2021-12-29T16:08:52.244Z"
   },
   {
    "duration": 14,
    "start_time": "2021-12-29T16:08:52.264Z"
   },
   {
    "duration": 14,
    "start_time": "2021-12-29T16:08:52.280Z"
   },
   {
    "duration": 12,
    "start_time": "2021-12-29T16:08:52.295Z"
   },
   {
    "duration": 4,
    "start_time": "2021-12-29T16:08:52.309Z"
   },
   {
    "duration": 7,
    "start_time": "2021-12-29T16:08:52.314Z"
   },
   {
    "duration": 5,
    "start_time": "2021-12-29T16:08:52.323Z"
   },
   {
    "duration": 7,
    "start_time": "2021-12-29T16:08:52.329Z"
   },
   {
    "duration": 5,
    "start_time": "2021-12-29T16:08:52.337Z"
   },
   {
    "duration": 14,
    "start_time": "2021-12-29T16:08:52.344Z"
   },
   {
    "duration": 43,
    "start_time": "2021-12-29T16:08:52.359Z"
   },
   {
    "duration": 10,
    "start_time": "2021-12-29T16:08:52.404Z"
   },
   {
    "duration": 8,
    "start_time": "2021-12-29T16:08:52.416Z"
   },
   {
    "duration": 15,
    "start_time": "2021-12-29T16:08:52.425Z"
   },
   {
    "duration": 6,
    "start_time": "2021-12-29T16:08:52.441Z"
   },
   {
    "duration": 483,
    "start_time": "2021-12-29T16:10:12.910Z"
   },
   {
    "duration": 202,
    "start_time": "2021-12-29T16:10:25.653Z"
   },
   {
    "duration": 424,
    "start_time": "2021-12-29T16:10:42.861Z"
   },
   {
    "duration": 172,
    "start_time": "2021-12-29T16:11:11.504Z"
   },
   {
    "duration": 15,
    "start_time": "2021-12-29T16:11:28.182Z"
   },
   {
    "duration": 169,
    "start_time": "2021-12-29T16:12:52.384Z"
   },
   {
    "duration": 17,
    "start_time": "2021-12-29T16:13:20.538Z"
   },
   {
    "duration": 15,
    "start_time": "2021-12-29T16:13:39.586Z"
   },
   {
    "duration": 27,
    "start_time": "2021-12-29T19:30:31.484Z"
   },
   {
    "duration": 11,
    "start_time": "2021-12-29T19:33:57.410Z"
   },
   {
    "duration": 8,
    "start_time": "2021-12-29T19:34:20.093Z"
   },
   {
    "duration": 9,
    "start_time": "2021-12-29T19:35:08.072Z"
   },
   {
    "duration": 229,
    "start_time": "2021-12-29T19:37:03.899Z"
   },
   {
    "duration": 17,
    "start_time": "2021-12-29T19:37:09.591Z"
   },
   {
    "duration": 20,
    "start_time": "2021-12-29T19:38:18.628Z"
   },
   {
    "duration": 8,
    "start_time": "2021-12-29T19:39:23.906Z"
   },
   {
    "duration": 17,
    "start_time": "2021-12-29T19:39:25.003Z"
   },
   {
    "duration": 7,
    "start_time": "2021-12-29T19:39:25.887Z"
   },
   {
    "duration": 11,
    "start_time": "2021-12-29T19:39:26.761Z"
   },
   {
    "duration": 14,
    "start_time": "2021-12-29T19:39:26.998Z"
   },
   {
    "duration": 13,
    "start_time": "2021-12-29T19:39:27.275Z"
   },
   {
    "duration": 9,
    "start_time": "2021-12-29T19:39:27.581Z"
   },
   {
    "duration": 12,
    "start_time": "2021-12-29T19:39:27.860Z"
   },
   {
    "duration": 13,
    "start_time": "2021-12-29T19:39:28.209Z"
   },
   {
    "duration": 5,
    "start_time": "2021-12-29T19:39:28.583Z"
   },
   {
    "duration": 15,
    "start_time": "2021-12-29T19:39:28.948Z"
   },
   {
    "duration": 4,
    "start_time": "2021-12-29T19:39:29.251Z"
   },
   {
    "duration": 16,
    "start_time": "2021-12-29T19:39:29.562Z"
   },
   {
    "duration": 8,
    "start_time": "2021-12-29T19:39:29.865Z"
   },
   {
    "duration": 12,
    "start_time": "2021-12-29T19:39:30.135Z"
   },
   {
    "duration": 12,
    "start_time": "2021-12-29T19:40:26.492Z"
   },
   {
    "duration": 188,
    "start_time": "2021-12-29T19:45:50.341Z"
   },
   {
    "duration": 28,
    "start_time": "2021-12-29T19:46:25.505Z"
   },
   {
    "duration": 13,
    "start_time": "2021-12-29T19:46:28.858Z"
   },
   {
    "duration": 63,
    "start_time": "2021-12-29T19:48:07.723Z"
   },
   {
    "duration": 4,
    "start_time": "2021-12-29T19:48:15.740Z"
   },
   {
    "duration": 15,
    "start_time": "2021-12-29T19:48:25.010Z"
   },
   {
    "duration": 12,
    "start_time": "2021-12-29T19:48:43.495Z"
   },
   {
    "duration": 5,
    "start_time": "2021-12-29T19:48:56.060Z"
   },
   {
    "duration": 26,
    "start_time": "2021-12-29T19:48:59.182Z"
   },
   {
    "duration": 4,
    "start_time": "2021-12-29T19:48:59.973Z"
   },
   {
    "duration": 5,
    "start_time": "2021-12-29T19:49:00.688Z"
   },
   {
    "duration": 13,
    "start_time": "2021-12-29T19:49:14.928Z"
   },
   {
    "duration": 11,
    "start_time": "2021-12-29T19:49:46.033Z"
   },
   {
    "duration": 11,
    "start_time": "2021-12-29T19:50:15.826Z"
   },
   {
    "duration": 8,
    "start_time": "2021-12-29T19:51:00.160Z"
   },
   {
    "duration": 12,
    "start_time": "2021-12-29T19:53:31.543Z"
   },
   {
    "duration": 22,
    "start_time": "2021-12-29T19:54:20.294Z"
   },
   {
    "duration": 9,
    "start_time": "2021-12-29T19:54:29.911Z"
   },
   {
    "duration": 238,
    "start_time": "2021-12-29T19:57:07.959Z"
   },
   {
    "duration": 21,
    "start_time": "2021-12-29T19:57:17.279Z"
   },
   {
    "duration": 8,
    "start_time": "2021-12-29T19:57:20.222Z"
   },
   {
    "duration": 4,
    "start_time": "2021-12-29T19:59:25.799Z"
   },
   {
    "duration": 14,
    "start_time": "2021-12-29T20:15:13.098Z"
   },
   {
    "duration": 4,
    "start_time": "2021-12-29T20:15:24.105Z"
   },
   {
    "duration": 14,
    "start_time": "2021-12-29T20:15:25.770Z"
   },
   {
    "duration": 4,
    "start_time": "2021-12-29T20:15:56.920Z"
   },
   {
    "duration": 13,
    "start_time": "2021-12-29T20:15:59.657Z"
   },
   {
    "duration": 5,
    "start_time": "2021-12-29T20:16:29.625Z"
   },
   {
    "duration": 10,
    "start_time": "2021-12-29T20:16:41.479Z"
   },
   {
    "duration": 230,
    "start_time": "2021-12-29T20:20:03.370Z"
   },
   {
    "duration": 20,
    "start_time": "2021-12-29T20:20:20.713Z"
   },
   {
    "duration": 12,
    "start_time": "2021-12-29T20:20:31.080Z"
   },
   {
    "duration": 4,
    "start_time": "2021-12-29T20:20:55.719Z"
   },
   {
    "duration": 10,
    "start_time": "2021-12-29T20:21:00.056Z"
   },
   {
    "duration": 5,
    "start_time": "2021-12-29T20:22:52.078Z"
   },
   {
    "duration": 11,
    "start_time": "2021-12-29T20:22:57.016Z"
   },
   {
    "duration": 10,
    "start_time": "2021-12-29T20:23:28.444Z"
   },
   {
    "duration": 3,
    "start_time": "2021-12-29T20:24:38.486Z"
   },
   {
    "duration": 8,
    "start_time": "2021-12-29T20:24:38.491Z"
   },
   {
    "duration": 309,
    "start_time": "2021-12-29T20:24:38.500Z"
   },
   {
    "duration": 9,
    "start_time": "2021-12-29T20:24:38.811Z"
   },
   {
    "duration": 9,
    "start_time": "2021-12-29T20:24:38.821Z"
   },
   {
    "duration": 9,
    "start_time": "2021-12-29T20:24:38.832Z"
   },
   {
    "duration": 11,
    "start_time": "2021-12-29T20:24:38.843Z"
   },
   {
    "duration": 37,
    "start_time": "2021-12-29T20:24:38.855Z"
   },
   {
    "duration": 17,
    "start_time": "2021-12-29T20:24:38.894Z"
   },
   {
    "duration": 17,
    "start_time": "2021-12-29T20:24:38.912Z"
   },
   {
    "duration": 15,
    "start_time": "2021-12-29T20:24:38.931Z"
   },
   {
    "duration": 6,
    "start_time": "2021-12-29T20:24:38.948Z"
   },
   {
    "duration": 41,
    "start_time": "2021-12-29T20:24:38.955Z"
   },
   {
    "duration": 23,
    "start_time": "2021-12-29T20:24:38.999Z"
   },
   {
    "duration": 13,
    "start_time": "2021-12-29T20:24:39.024Z"
   },
   {
    "duration": 9,
    "start_time": "2021-12-29T20:24:39.038Z"
   },
   {
    "duration": 11,
    "start_time": "2021-12-29T20:24:39.048Z"
   },
   {
    "duration": 41,
    "start_time": "2021-12-29T20:24:39.061Z"
   },
   {
    "duration": 5,
    "start_time": "2021-12-29T20:24:39.104Z"
   },
   {
    "duration": 8,
    "start_time": "2021-12-29T20:24:39.111Z"
   },
   {
    "duration": 11,
    "start_time": "2021-12-29T20:24:39.120Z"
   },
   {
    "duration": 11,
    "start_time": "2021-12-29T20:24:39.133Z"
   },
   {
    "duration": 12,
    "start_time": "2021-12-29T20:24:39.146Z"
   },
   {
    "duration": 38,
    "start_time": "2021-12-29T20:24:39.160Z"
   },
   {
    "duration": 18,
    "start_time": "2021-12-29T20:24:39.200Z"
   },
   {
    "duration": 12,
    "start_time": "2021-12-29T20:24:39.220Z"
   },
   {
    "duration": 13,
    "start_time": "2021-12-29T20:24:39.234Z"
   },
   {
    "duration": 10,
    "start_time": "2021-12-29T20:24:39.248Z"
   },
   {
    "duration": 6,
    "start_time": "2021-12-29T20:24:39.291Z"
   },
   {
    "duration": 8,
    "start_time": "2021-12-29T20:24:39.299Z"
   },
   {
    "duration": 15,
    "start_time": "2021-12-29T20:24:39.308Z"
   },
   {
    "duration": 8,
    "start_time": "2021-12-29T20:24:39.324Z"
   },
   {
    "duration": 8,
    "start_time": "2021-12-29T20:24:39.333Z"
   },
   {
    "duration": 13,
    "start_time": "2021-12-29T20:24:39.343Z"
   },
   {
    "duration": 36,
    "start_time": "2021-12-29T20:24:39.358Z"
   },
   {
    "duration": 7,
    "start_time": "2021-12-29T20:24:39.396Z"
   },
   {
    "duration": 7,
    "start_time": "2021-12-29T20:24:39.405Z"
   },
   {
    "duration": 3,
    "start_time": "2021-12-29T20:24:39.416Z"
   },
   {
    "duration": 7,
    "start_time": "2021-12-29T20:24:39.421Z"
   },
   {
    "duration": 5,
    "start_time": "2021-12-29T20:24:39.430Z"
   },
   {
    "duration": 14,
    "start_time": "2021-12-29T20:24:39.437Z"
   },
   {
    "duration": 39,
    "start_time": "2021-12-29T20:24:39.453Z"
   },
   {
    "duration": 11,
    "start_time": "2021-12-29T20:24:39.494Z"
   },
   {
    "duration": 8,
    "start_time": "2021-12-29T20:24:39.507Z"
   },
   {
    "duration": 17,
    "start_time": "2021-12-29T20:24:39.516Z"
   },
   {
    "duration": 5,
    "start_time": "2021-12-29T20:24:39.534Z"
   },
   {
    "duration": 7,
    "start_time": "2021-12-29T20:24:39.541Z"
   },
   {
    "duration": 48,
    "start_time": "2021-12-29T20:24:39.550Z"
   },
   {
    "duration": 29,
    "start_time": "2021-12-29T20:24:39.600Z"
   },
   {
    "duration": 3,
    "start_time": "2021-12-29T20:24:39.631Z"
   },
   {
    "duration": 9,
    "start_time": "2021-12-29T20:24:39.636Z"
   },
   {
    "duration": 13,
    "start_time": "2021-12-29T20:24:39.647Z"
   },
   {
    "duration": 8,
    "start_time": "2021-12-29T20:24:39.661Z"
   },
   {
    "duration": 40,
    "start_time": "2021-12-29T20:24:39.671Z"
   },
   {
    "duration": 7,
    "start_time": "2021-12-29T20:24:39.713Z"
   },
   {
    "duration": 6,
    "start_time": "2021-12-29T20:24:39.721Z"
   },
   {
    "duration": 14,
    "start_time": "2021-12-29T20:24:39.729Z"
   },
   {
    "duration": 7,
    "start_time": "2021-12-29T20:24:39.745Z"
   },
   {
    "duration": 38,
    "start_time": "2021-12-29T20:24:39.753Z"
   },
   {
    "duration": 18,
    "start_time": "2021-12-29T20:24:39.793Z"
   },
   {
    "duration": 12,
    "start_time": "2021-12-29T20:24:39.812Z"
   },
   {
    "duration": 4,
    "start_time": "2021-12-29T20:24:39.826Z"
   },
   {
    "duration": 12,
    "start_time": "2021-12-29T20:24:39.831Z"
   },
   {
    "duration": 4,
    "start_time": "2021-12-29T20:24:39.845Z"
   },
   {
    "duration": 42,
    "start_time": "2021-12-29T20:24:39.851Z"
   },
   {
    "duration": 9,
    "start_time": "2021-12-29T20:24:39.894Z"
   },
   {
    "duration": 2,
    "start_time": "2021-12-29T20:24:48.624Z"
   },
   {
    "duration": 2,
    "start_time": "2021-12-29T20:24:49.150Z"
   },
   {
    "duration": 308,
    "start_time": "2021-12-29T20:24:49.740Z"
   },
   {
    "duration": 8,
    "start_time": "2021-12-29T20:24:50.189Z"
   },
   {
    "duration": 8,
    "start_time": "2021-12-29T20:24:50.574Z"
   },
   {
    "duration": 9,
    "start_time": "2021-12-29T20:24:50.877Z"
   },
   {
    "duration": 11,
    "start_time": "2021-12-29T20:24:51.413Z"
   },
   {
    "duration": 8,
    "start_time": "2021-12-29T20:24:51.700Z"
   },
   {
    "duration": 16,
    "start_time": "2021-12-29T20:24:51.919Z"
   },
   {
    "duration": 20,
    "start_time": "2021-12-29T20:24:52.114Z"
   },
   {
    "duration": 18,
    "start_time": "2021-12-29T20:24:52.323Z"
   },
   {
    "duration": 7,
    "start_time": "2021-12-29T20:24:52.541Z"
   },
   {
    "duration": 14,
    "start_time": "2021-12-29T20:24:52.776Z"
   },
   {
    "duration": 24,
    "start_time": "2021-12-29T20:24:53.020Z"
   },
   {
    "duration": 13,
    "start_time": "2021-12-29T20:24:53.236Z"
   },
   {
    "duration": 11,
    "start_time": "2021-12-29T20:24:53.488Z"
   },
   {
    "duration": 6,
    "start_time": "2021-12-29T20:24:53.781Z"
   },
   {
    "duration": 17,
    "start_time": "2021-12-29T20:24:54.006Z"
   },
   {
    "duration": 7,
    "start_time": "2021-12-29T20:24:54.229Z"
   },
   {
    "duration": 5,
    "start_time": "2021-12-29T20:24:54.468Z"
   },
   {
    "duration": 11,
    "start_time": "2021-12-29T20:24:54.908Z"
   },
   {
    "duration": 11,
    "start_time": "2021-12-29T20:24:55.140Z"
   },
   {
    "duration": 12,
    "start_time": "2021-12-29T20:24:55.348Z"
   },
   {
    "duration": 11,
    "start_time": "2021-12-29T20:24:55.565Z"
   },
   {
    "duration": 18,
    "start_time": "2021-12-29T20:24:56.718Z"
   },
   {
    "duration": 11,
    "start_time": "2021-12-29T20:24:57.109Z"
   },
   {
    "duration": 12,
    "start_time": "2021-12-29T20:24:57.627Z"
   },
   {
    "duration": 11,
    "start_time": "2021-12-29T20:24:57.840Z"
   },
   {
    "duration": 9,
    "start_time": "2021-12-29T20:24:58.334Z"
   },
   {
    "duration": 7,
    "start_time": "2021-12-29T20:24:58.549Z"
   },
   {
    "duration": 10,
    "start_time": "2021-12-29T20:24:58.851Z"
   },
   {
    "duration": 6,
    "start_time": "2021-12-29T20:24:59.164Z"
   },
   {
    "duration": 4,
    "start_time": "2021-12-29T20:24:59.448Z"
   },
   {
    "duration": 15,
    "start_time": "2021-12-29T20:24:59.707Z"
   },
   {
    "duration": 15,
    "start_time": "2021-12-29T20:24:59.997Z"
   },
   {
    "duration": 5,
    "start_time": "2021-12-29T20:25:00.287Z"
   },
   {
    "duration": 5,
    "start_time": "2021-12-29T20:25:00.493Z"
   },
   {
    "duration": 4,
    "start_time": "2021-12-29T20:25:00.718Z"
   },
   {
    "duration": 6,
    "start_time": "2021-12-29T20:25:01.002Z"
   },
   {
    "duration": 5,
    "start_time": "2021-12-29T20:25:01.303Z"
   },
   {
    "duration": 13,
    "start_time": "2021-12-29T20:25:01.577Z"
   },
   {
    "duration": 16,
    "start_time": "2021-12-29T20:25:01.827Z"
   },
   {
    "duration": 11,
    "start_time": "2021-12-29T20:25:02.029Z"
   },
   {
    "duration": 9,
    "start_time": "2021-12-29T20:25:02.244Z"
   },
   {
    "duration": 17,
    "start_time": "2021-12-29T20:25:02.526Z"
   },
   {
    "duration": 6,
    "start_time": "2021-12-29T20:25:02.714Z"
   },
   {
    "duration": 9,
    "start_time": "2021-12-29T20:25:02.933Z"
   },
   {
    "duration": 10,
    "start_time": "2021-12-29T20:25:03.151Z"
   },
   {
    "duration": 29,
    "start_time": "2021-12-29T20:25:03.342Z"
   },
   {
    "duration": 4,
    "start_time": "2021-12-29T20:25:03.540Z"
   },
   {
    "duration": 4,
    "start_time": "2021-12-29T20:25:03.966Z"
   },
   {
    "duration": 13,
    "start_time": "2021-12-29T20:25:04.189Z"
   },
   {
    "duration": 9,
    "start_time": "2021-12-29T20:25:04.426Z"
   },
   {
    "duration": 22,
    "start_time": "2021-12-29T20:25:04.629Z"
   },
   {
    "duration": 8,
    "start_time": "2021-12-29T20:25:04.861Z"
   },
   {
    "duration": 4,
    "start_time": "2021-12-29T20:25:05.154Z"
   },
   {
    "duration": 14,
    "start_time": "2021-12-29T20:25:05.435Z"
   },
   {
    "duration": 5,
    "start_time": "2021-12-29T20:25:05.655Z"
   },
   {
    "duration": 10,
    "start_time": "2021-12-29T20:25:06.501Z"
   },
   {
    "duration": 18,
    "start_time": "2021-12-29T20:25:07.144Z"
   },
   {
    "duration": 12,
    "start_time": "2021-12-29T20:25:07.485Z"
   },
   {
    "duration": 5,
    "start_time": "2021-12-29T20:25:07.760Z"
   },
   {
    "duration": 11,
    "start_time": "2021-12-29T20:25:08.014Z"
   },
   {
    "duration": 4,
    "start_time": "2021-12-29T20:25:08.251Z"
   },
   {
    "duration": 11,
    "start_time": "2021-12-29T20:25:08.535Z"
   },
   {
    "duration": 11,
    "start_time": "2021-12-29T20:25:08.810Z"
   },
   {
    "duration": 11,
    "start_time": "2021-12-29T20:37:02.154Z"
   },
   {
    "duration": 4637,
    "start_time": "2021-12-29T20:37:42.364Z"
   },
   {
    "duration": 18,
    "start_time": "2021-12-29T20:37:57.501Z"
   },
   {
    "duration": 793,
    "start_time": "2021-12-29T20:38:59.170Z"
   },
   {
    "duration": 20,
    "start_time": "2021-12-29T20:39:29.947Z"
   },
   {
    "duration": 20,
    "start_time": "2021-12-29T20:40:05.581Z"
   },
   {
    "duration": 16,
    "start_time": "2021-12-29T20:42:38.289Z"
   },
   {
    "duration": 9,
    "start_time": "2021-12-29T20:43:17.076Z"
   },
   {
    "duration": 68,
    "start_time": "2021-12-29T20:48:49.669Z"
   },
   {
    "duration": 183,
    "start_time": "2021-12-29T20:59:45.493Z"
   },
   {
    "duration": 201,
    "start_time": "2021-12-29T21:00:30.516Z"
   },
   {
    "duration": 3,
    "start_time": "2021-12-29T21:00:44.861Z"
   },
   {
    "duration": 8,
    "start_time": "2021-12-29T21:00:52.918Z"
   },
   {
    "duration": 15,
    "start_time": "2021-12-29T21:00:54.576Z"
   },
   {
    "duration": 6,
    "start_time": "2021-12-29T21:01:51.377Z"
   },
   {
    "duration": 12,
    "start_time": "2021-12-29T21:01:53.821Z"
   },
   {
    "duration": 7,
    "start_time": "2021-12-29T21:04:01.404Z"
   },
   {
    "duration": 14,
    "start_time": "2021-12-29T21:04:03.140Z"
   },
   {
    "duration": 8,
    "start_time": "2021-12-29T21:04:54.069Z"
   },
   {
    "duration": 15,
    "start_time": "2021-12-29T21:04:58.319Z"
   },
   {
    "duration": 7,
    "start_time": "2021-12-29T21:06:28.498Z"
   },
   {
    "duration": 16,
    "start_time": "2021-12-29T21:06:32.649Z"
   },
   {
    "duration": 16,
    "start_time": "2021-12-29T21:06:37.584Z"
   },
   {
    "duration": 2,
    "start_time": "2021-12-29T21:06:49.885Z"
   },
   {
    "duration": 2,
    "start_time": "2021-12-29T21:06:51.933Z"
   },
   {
    "duration": 2,
    "start_time": "2021-12-29T21:06:51.943Z"
   },
   {
    "duration": 294,
    "start_time": "2021-12-29T21:06:51.947Z"
   },
   {
    "duration": 8,
    "start_time": "2021-12-29T21:06:52.243Z"
   },
   {
    "duration": 9,
    "start_time": "2021-12-29T21:06:52.253Z"
   },
   {
    "duration": 29,
    "start_time": "2021-12-29T21:06:52.263Z"
   },
   {
    "duration": 9,
    "start_time": "2021-12-29T21:06:52.293Z"
   },
   {
    "duration": 10,
    "start_time": "2021-12-29T21:06:52.305Z"
   },
   {
    "duration": 25,
    "start_time": "2021-12-29T21:06:52.317Z"
   },
   {
    "duration": 18,
    "start_time": "2021-12-29T21:06:52.344Z"
   },
   {
    "duration": 36,
    "start_time": "2021-12-29T21:06:52.364Z"
   },
   {
    "duration": 6,
    "start_time": "2021-12-29T21:06:52.401Z"
   },
   {
    "duration": 13,
    "start_time": "2021-12-29T21:06:52.408Z"
   },
   {
    "duration": 21,
    "start_time": "2021-12-29T21:06:52.423Z"
   },
   {
    "duration": 13,
    "start_time": "2021-12-29T21:06:52.445Z"
   },
   {
    "duration": 38,
    "start_time": "2021-12-29T21:06:52.459Z"
   },
   {
    "duration": 8,
    "start_time": "2021-12-29T21:06:52.499Z"
   },
   {
    "duration": 15,
    "start_time": "2021-12-29T21:06:52.508Z"
   },
   {
    "duration": 5,
    "start_time": "2021-12-29T21:06:52.524Z"
   },
   {
    "duration": 7,
    "start_time": "2021-12-29T21:06:52.532Z"
   },
   {
    "duration": 10,
    "start_time": "2021-12-29T21:06:52.541Z"
   },
   {
    "duration": 42,
    "start_time": "2021-12-29T21:06:52.553Z"
   },
   {
    "duration": 12,
    "start_time": "2021-12-29T21:06:52.597Z"
   },
   {
    "duration": 11,
    "start_time": "2021-12-29T21:06:52.611Z"
   },
   {
    "duration": 16,
    "start_time": "2021-12-29T21:06:52.624Z"
   },
   {
    "duration": 11,
    "start_time": "2021-12-29T21:06:52.642Z"
   },
   {
    "duration": 43,
    "start_time": "2021-12-29T21:06:52.654Z"
   },
   {
    "duration": 11,
    "start_time": "2021-12-29T21:06:52.699Z"
   },
   {
    "duration": 6,
    "start_time": "2021-12-29T21:06:52.711Z"
   },
   {
    "duration": 4,
    "start_time": "2021-12-29T21:06:52.719Z"
   },
   {
    "duration": 11,
    "start_time": "2021-12-29T21:06:52.725Z"
   },
   {
    "duration": 6,
    "start_time": "2021-12-29T21:06:52.737Z"
   },
   {
    "duration": 4,
    "start_time": "2021-12-29T21:06:52.745Z"
   },
   {
    "duration": 41,
    "start_time": "2021-12-29T21:06:52.751Z"
   },
   {
    "duration": 12,
    "start_time": "2021-12-29T21:06:52.794Z"
   },
   {
    "duration": 9,
    "start_time": "2021-12-29T21:06:52.808Z"
   },
   {
    "duration": 10,
    "start_time": "2021-12-29T21:06:52.818Z"
   },
   {
    "duration": 6,
    "start_time": "2021-12-29T21:06:52.829Z"
   },
   {
    "duration": 8,
    "start_time": "2021-12-29T21:06:52.837Z"
   },
   {
    "duration": 6,
    "start_time": "2021-12-29T21:06:52.847Z"
   },
   {
    "duration": 41,
    "start_time": "2021-12-29T21:06:52.855Z"
   },
   {
    "duration": 16,
    "start_time": "2021-12-29T21:06:52.898Z"
   },
   {
    "duration": 12,
    "start_time": "2021-12-29T21:06:52.915Z"
   },
   {
    "duration": 10,
    "start_time": "2021-12-29T21:06:52.928Z"
   },
   {
    "duration": 16,
    "start_time": "2021-12-29T21:06:52.939Z"
   },
   {
    "duration": 41,
    "start_time": "2021-12-29T21:06:52.957Z"
   },
   {
    "duration": 8,
    "start_time": "2021-12-29T21:06:52.999Z"
   },
   {
    "duration": 11,
    "start_time": "2021-12-29T21:06:53.009Z"
   },
   {
    "duration": 12,
    "start_time": "2021-12-29T21:06:53.022Z"
   },
   {
    "duration": 18,
    "start_time": "2021-12-29T21:06:53.036Z"
   },
   {
    "duration": 42,
    "start_time": "2021-12-29T21:06:53.055Z"
   },
   {
    "duration": 22,
    "start_time": "2021-12-29T21:06:53.100Z"
   },
   {
    "duration": 27,
    "start_time": "2021-12-29T21:06:53.124Z"
   },
   {
    "duration": 3,
    "start_time": "2021-12-29T21:06:53.153Z"
   },
   {
    "duration": 34,
    "start_time": "2021-12-29T21:06:53.159Z"
   },
   {
    "duration": 12,
    "start_time": "2021-12-29T21:06:53.199Z"
   },
   {
    "duration": 8,
    "start_time": "2021-12-29T21:06:53.214Z"
   },
   {
    "duration": 22,
    "start_time": "2021-12-29T21:06:53.223Z"
   },
   {
    "duration": 7,
    "start_time": "2021-12-29T21:06:53.246Z"
   },
   {
    "duration": 6,
    "start_time": "2021-12-29T21:06:53.254Z"
   },
   {
    "duration": 41,
    "start_time": "2021-12-29T21:06:53.261Z"
   },
   {
    "duration": 6,
    "start_time": "2021-12-29T21:06:53.304Z"
   },
   {
    "duration": 11,
    "start_time": "2021-12-29T21:06:53.311Z"
   },
   {
    "duration": 23,
    "start_time": "2021-12-29T21:06:53.324Z"
   },
   {
    "duration": 12,
    "start_time": "2021-12-29T21:06:53.348Z"
   },
   {
    "duration": 30,
    "start_time": "2021-12-29T21:06:53.361Z"
   },
   {
    "duration": 14,
    "start_time": "2021-12-29T21:06:53.393Z"
   },
   {
    "duration": 4,
    "start_time": "2021-12-29T21:06:53.408Z"
   },
   {
    "duration": 16,
    "start_time": "2021-12-29T21:06:53.414Z"
   },
   {
    "duration": 15,
    "start_time": "2021-12-29T21:06:53.432Z"
   },
   {
    "duration": 5,
    "start_time": "2021-12-29T21:06:53.449Z"
   },
   {
    "duration": 8,
    "start_time": "2021-12-29T21:06:53.456Z"
   },
   {
    "duration": 27,
    "start_time": "2021-12-29T21:06:53.466Z"
   },
   {
    "duration": 7,
    "start_time": "2021-12-29T21:06:53.495Z"
   },
   {
    "duration": 14,
    "start_time": "2021-12-29T21:06:53.503Z"
   },
   {
    "duration": 3,
    "start_time": "2021-12-29T21:08:34.699Z"
   },
   {
    "duration": 7,
    "start_time": "2021-12-29T21:08:34.704Z"
   },
   {
    "duration": 299,
    "start_time": "2021-12-29T21:08:34.713Z"
   },
   {
    "duration": 8,
    "start_time": "2021-12-29T21:08:35.014Z"
   },
   {
    "duration": 13,
    "start_time": "2021-12-29T21:08:35.024Z"
   },
   {
    "duration": 16,
    "start_time": "2021-12-29T21:08:35.039Z"
   },
   {
    "duration": 15,
    "start_time": "2021-12-29T21:08:35.057Z"
   },
   {
    "duration": 19,
    "start_time": "2021-12-29T21:08:35.074Z"
   },
   {
    "duration": 20,
    "start_time": "2021-12-29T21:08:35.094Z"
   },
   {
    "duration": 17,
    "start_time": "2021-12-29T21:08:35.117Z"
   },
   {
    "duration": 16,
    "start_time": "2021-12-29T21:08:35.136Z"
   },
   {
    "duration": 5,
    "start_time": "2021-12-29T21:08:35.154Z"
   },
   {
    "duration": 13,
    "start_time": "2021-12-29T21:08:35.192Z"
   },
   {
    "duration": 24,
    "start_time": "2021-12-29T21:08:35.206Z"
   },
   {
    "duration": 13,
    "start_time": "2021-12-29T21:08:35.231Z"
   },
   {
    "duration": 9,
    "start_time": "2021-12-29T21:08:35.245Z"
   },
   {
    "duration": 37,
    "start_time": "2021-12-29T21:08:35.256Z"
   },
   {
    "duration": 15,
    "start_time": "2021-12-29T21:08:35.294Z"
   },
   {
    "duration": 6,
    "start_time": "2021-12-29T21:08:35.310Z"
   },
   {
    "duration": 7,
    "start_time": "2021-12-29T21:08:35.318Z"
   },
   {
    "duration": 13,
    "start_time": "2021-12-29T21:08:35.327Z"
   },
   {
    "duration": 14,
    "start_time": "2021-12-29T21:08:35.341Z"
   },
   {
    "duration": 40,
    "start_time": "2021-12-29T21:08:35.357Z"
   },
   {
    "duration": 10,
    "start_time": "2021-12-29T21:08:35.399Z"
   },
   {
    "duration": 19,
    "start_time": "2021-12-29T21:08:35.413Z"
   },
   {
    "duration": 10,
    "start_time": "2021-12-29T21:08:35.435Z"
   },
   {
    "duration": 12,
    "start_time": "2021-12-29T21:08:35.447Z"
   },
   {
    "duration": 34,
    "start_time": "2021-12-29T21:08:35.461Z"
   },
   {
    "duration": 5,
    "start_time": "2021-12-29T21:08:35.497Z"
   },
   {
    "duration": 11,
    "start_time": "2021-12-29T21:08:35.504Z"
   },
   {
    "duration": 11,
    "start_time": "2021-12-29T21:08:35.517Z"
   },
   {
    "duration": 8,
    "start_time": "2021-12-29T21:08:35.530Z"
   },
   {
    "duration": 17,
    "start_time": "2021-12-29T21:08:35.540Z"
   },
   {
    "duration": 16,
    "start_time": "2021-12-29T21:08:35.559Z"
   },
   {
    "duration": 25,
    "start_time": "2021-12-29T21:08:35.577Z"
   },
   {
    "duration": 7,
    "start_time": "2021-12-29T21:08:35.603Z"
   },
   {
    "duration": 8,
    "start_time": "2021-12-29T21:08:35.611Z"
   },
   {
    "duration": 6,
    "start_time": "2021-12-29T21:08:35.621Z"
   },
   {
    "duration": 18,
    "start_time": "2021-12-29T21:08:35.629Z"
   },
   {
    "duration": 12,
    "start_time": "2021-12-29T21:08:35.649Z"
   },
   {
    "duration": 30,
    "start_time": "2021-12-29T21:08:35.663Z"
   },
   {
    "duration": 15,
    "start_time": "2021-12-29T21:08:35.695Z"
   },
   {
    "duration": 10,
    "start_time": "2021-12-29T21:08:35.711Z"
   },
   {
    "duration": 9,
    "start_time": "2021-12-29T21:08:35.723Z"
   },
   {
    "duration": 15,
    "start_time": "2021-12-29T21:08:35.733Z"
   },
   {
    "duration": 5,
    "start_time": "2021-12-29T21:08:35.750Z"
   },
   {
    "duration": 9,
    "start_time": "2021-12-29T21:08:35.792Z"
   },
   {
    "duration": 11,
    "start_time": "2021-12-29T21:08:35.802Z"
   },
   {
    "duration": 12,
    "start_time": "2021-12-29T21:08:35.815Z"
   },
   {
    "duration": 18,
    "start_time": "2021-12-29T21:08:35.828Z"
   },
   {
    "duration": 8,
    "start_time": "2021-12-29T21:08:35.847Z"
   },
   {
    "duration": 47,
    "start_time": "2021-12-29T21:08:35.857Z"
   },
   {
    "duration": 27,
    "start_time": "2021-12-29T21:08:35.905Z"
   },
   {
    "duration": 3,
    "start_time": "2021-12-29T21:08:35.934Z"
   },
   {
    "duration": 21,
    "start_time": "2021-12-29T21:08:35.940Z"
   },
   {
    "duration": 31,
    "start_time": "2021-12-29T21:08:35.963Z"
   },
   {
    "duration": 26,
    "start_time": "2021-12-29T21:08:35.996Z"
   },
   {
    "duration": 34,
    "start_time": "2021-12-29T21:08:36.024Z"
   },
   {
    "duration": 34,
    "start_time": "2021-12-29T21:08:36.060Z"
   },
   {
    "duration": 27,
    "start_time": "2021-12-29T21:08:36.095Z"
   },
   {
    "duration": 24,
    "start_time": "2021-12-29T21:08:36.124Z"
   },
   {
    "duration": 29,
    "start_time": "2021-12-29T21:08:36.150Z"
   },
   {
    "duration": 35,
    "start_time": "2021-12-29T21:08:36.181Z"
   },
   {
    "duration": 51,
    "start_time": "2021-12-29T21:08:36.218Z"
   },
   {
    "duration": 18,
    "start_time": "2021-12-29T21:08:36.272Z"
   },
   {
    "duration": 25,
    "start_time": "2021-12-29T21:08:36.292Z"
   },
   {
    "duration": 33,
    "start_time": "2021-12-29T21:08:36.319Z"
   },
   {
    "duration": 5,
    "start_time": "2021-12-29T21:08:36.354Z"
   },
   {
    "duration": 32,
    "start_time": "2021-12-29T21:08:36.361Z"
   },
   {
    "duration": 15,
    "start_time": "2021-12-29T21:08:36.400Z"
   },
   {
    "duration": 29,
    "start_time": "2021-12-29T21:08:36.417Z"
   },
   {
    "duration": 20,
    "start_time": "2021-12-29T21:08:36.448Z"
   },
   {
    "duration": 13,
    "start_time": "2021-12-29T21:08:36.470Z"
   },
   {
    "duration": 22,
    "start_time": "2021-12-29T21:08:36.485Z"
   },
   {
    "duration": 30,
    "start_time": "2021-12-29T21:08:36.508Z"
   },
   {
    "duration": 2,
    "start_time": "2021-12-30T00:33:28.705Z"
   },
   {
    "duration": 4,
    "start_time": "2021-12-30T00:33:28.709Z"
   },
   {
    "duration": 301,
    "start_time": "2021-12-30T00:33:28.715Z"
   },
   {
    "duration": 8,
    "start_time": "2021-12-30T00:33:29.018Z"
   },
   {
    "duration": 8,
    "start_time": "2021-12-30T00:33:29.028Z"
   },
   {
    "duration": 9,
    "start_time": "2021-12-30T00:33:29.038Z"
   },
   {
    "duration": 10,
    "start_time": "2021-12-30T00:33:29.049Z"
   },
   {
    "duration": 8,
    "start_time": "2021-12-30T00:33:29.092Z"
   },
   {
    "duration": 17,
    "start_time": "2021-12-30T00:33:29.102Z"
   },
   {
    "duration": 19,
    "start_time": "2021-12-30T00:33:29.122Z"
   },
   {
    "duration": 16,
    "start_time": "2021-12-30T00:33:29.143Z"
   },
   {
    "duration": 34,
    "start_time": "2021-12-30T00:33:29.161Z"
   },
   {
    "duration": 13,
    "start_time": "2021-12-30T00:33:29.197Z"
   },
   {
    "duration": 24,
    "start_time": "2021-12-30T00:33:29.211Z"
   },
   {
    "duration": 12,
    "start_time": "2021-12-30T00:33:29.237Z"
   },
   {
    "duration": 9,
    "start_time": "2021-12-30T00:33:29.250Z"
   },
   {
    "duration": 4,
    "start_time": "2021-12-30T00:33:29.292Z"
   },
   {
    "duration": 22,
    "start_time": "2021-12-30T00:33:29.298Z"
   },
   {
    "duration": 6,
    "start_time": "2021-12-30T00:33:29.322Z"
   },
   {
    "duration": 17,
    "start_time": "2021-12-30T00:33:29.329Z"
   },
   {
    "duration": 24,
    "start_time": "2021-12-30T00:33:29.348Z"
   },
   {
    "duration": 26,
    "start_time": "2021-12-30T00:33:29.374Z"
   },
   {
    "duration": 21,
    "start_time": "2021-12-30T00:33:29.403Z"
   },
   {
    "duration": 14,
    "start_time": "2021-12-30T00:33:29.427Z"
   },
   {
    "duration": 17,
    "start_time": "2021-12-30T00:33:29.447Z"
   },
   {
    "duration": 33,
    "start_time": "2021-12-30T00:33:29.466Z"
   },
   {
    "duration": 12,
    "start_time": "2021-12-30T00:33:29.500Z"
   },
   {
    "duration": 10,
    "start_time": "2021-12-30T00:33:29.514Z"
   },
   {
    "duration": 19,
    "start_time": "2021-12-30T00:33:29.525Z"
   },
   {
    "duration": 14,
    "start_time": "2021-12-30T00:33:29.546Z"
   },
   {
    "duration": 32,
    "start_time": "2021-12-30T00:33:29.562Z"
   },
   {
    "duration": 16,
    "start_time": "2021-12-30T00:33:29.596Z"
   },
   {
    "duration": 5,
    "start_time": "2021-12-30T00:33:29.613Z"
   },
   {
    "duration": 21,
    "start_time": "2021-12-30T00:33:29.619Z"
   },
   {
    "duration": 22,
    "start_time": "2021-12-30T00:33:29.642Z"
   },
   {
    "duration": 8,
    "start_time": "2021-12-30T00:33:29.665Z"
   },
   {
    "duration": 34,
    "start_time": "2021-12-30T00:33:29.674Z"
   },
   {
    "duration": 23,
    "start_time": "2021-12-30T00:33:29.710Z"
   },
   {
    "duration": 13,
    "start_time": "2021-12-30T00:33:29.734Z"
   },
   {
    "duration": 23,
    "start_time": "2021-12-30T00:33:29.748Z"
   },
   {
    "duration": 17,
    "start_time": "2021-12-30T00:33:29.772Z"
   },
   {
    "duration": 24,
    "start_time": "2021-12-30T00:33:29.790Z"
   },
   {
    "duration": 10,
    "start_time": "2021-12-30T00:33:29.816Z"
   },
   {
    "duration": 13,
    "start_time": "2021-12-30T00:33:29.827Z"
   },
   {
    "duration": 29,
    "start_time": "2021-12-30T00:33:29.842Z"
   },
   {
    "duration": 20,
    "start_time": "2021-12-30T00:33:29.873Z"
   },
   {
    "duration": 11,
    "start_time": "2021-12-30T00:33:29.895Z"
   },
   {
    "duration": 23,
    "start_time": "2021-12-30T00:33:29.908Z"
   },
   {
    "duration": 14,
    "start_time": "2021-12-30T00:33:29.933Z"
   },
   {
    "duration": 47,
    "start_time": "2021-12-30T00:33:29.949Z"
   },
   {
    "duration": 12,
    "start_time": "2021-12-30T00:33:29.998Z"
   },
   {
    "duration": 23,
    "start_time": "2021-12-30T00:33:30.012Z"
   },
   {
    "duration": 54,
    "start_time": "2021-12-30T00:33:30.037Z"
   },
   {
    "duration": 4,
    "start_time": "2021-12-30T00:33:30.093Z"
   },
   {
    "duration": 13,
    "start_time": "2021-12-30T00:33:30.099Z"
   },
   {
    "duration": 23,
    "start_time": "2021-12-30T00:33:30.114Z"
   },
   {
    "duration": 9,
    "start_time": "2021-12-30T00:33:30.138Z"
   },
   {
    "duration": 46,
    "start_time": "2021-12-30T00:33:30.148Z"
   },
   {
    "duration": 8,
    "start_time": "2021-12-30T00:33:30.196Z"
   },
   {
    "duration": 32,
    "start_time": "2021-12-30T00:33:30.205Z"
   },
   {
    "duration": 21,
    "start_time": "2021-12-30T00:33:30.239Z"
   },
   {
    "duration": 13,
    "start_time": "2021-12-30T00:33:30.262Z"
   },
   {
    "duration": 25,
    "start_time": "2021-12-30T00:33:30.277Z"
   },
   {
    "duration": 34,
    "start_time": "2021-12-30T00:33:30.304Z"
   },
   {
    "duration": 18,
    "start_time": "2021-12-30T00:33:30.339Z"
   },
   {
    "duration": 16,
    "start_time": "2021-12-30T00:33:30.359Z"
   },
   {
    "duration": 32,
    "start_time": "2021-12-30T00:33:30.377Z"
   },
   {
    "duration": 12,
    "start_time": "2021-12-30T00:33:30.411Z"
   },
   {
    "duration": 23,
    "start_time": "2021-12-30T00:33:30.424Z"
   },
   {
    "duration": 18,
    "start_time": "2021-12-30T00:33:30.451Z"
   },
   {
    "duration": 35,
    "start_time": "2021-12-30T00:33:30.471Z"
   },
   {
    "duration": 26,
    "start_time": "2021-12-30T00:33:30.508Z"
   },
   {
    "duration": 35,
    "start_time": "2021-12-30T00:33:30.536Z"
   },
   {
    "duration": 16,
    "start_time": "2021-12-30T00:33:30.573Z"
   },
   {
    "duration": 25,
    "start_time": "2021-12-30T00:33:30.591Z"
   },
   {
    "duration": 14,
    "start_time": "2021-12-30T00:34:01.733Z"
   },
   {
    "duration": 2,
    "start_time": "2021-12-30T00:34:17.735Z"
   },
   {
    "duration": 3,
    "start_time": "2021-12-30T00:34:18.383Z"
   },
   {
    "duration": 298,
    "start_time": "2021-12-30T00:34:18.973Z"
   },
   {
    "duration": 8,
    "start_time": "2021-12-30T00:34:19.735Z"
   },
   {
    "duration": 7,
    "start_time": "2021-12-30T00:34:20.304Z"
   },
   {
    "duration": 9,
    "start_time": "2021-12-30T00:34:20.980Z"
   },
   {
    "duration": 11,
    "start_time": "2021-12-30T00:34:23.203Z"
   },
   {
    "duration": 8,
    "start_time": "2021-12-30T00:34:23.912Z"
   },
   {
    "duration": 18,
    "start_time": "2021-12-30T00:34:24.825Z"
   },
   {
    "duration": 20,
    "start_time": "2021-12-30T00:34:25.624Z"
   },
   {
    "duration": 17,
    "start_time": "2021-12-30T00:34:26.365Z"
   },
   {
    "duration": 7,
    "start_time": "2021-12-30T00:34:27.160Z"
   },
   {
    "duration": 14,
    "start_time": "2021-12-30T00:34:27.926Z"
   },
   {
    "duration": 24,
    "start_time": "2021-12-30T00:34:28.623Z"
   },
   {
    "duration": 14,
    "start_time": "2021-12-30T00:34:29.304Z"
   },
   {
    "duration": 12,
    "start_time": "2021-12-30T00:34:29.935Z"
   },
   {
    "duration": 6,
    "start_time": "2021-12-30T00:34:30.661Z"
   },
   {
    "duration": 16,
    "start_time": "2021-12-30T00:34:31.337Z"
   },
   {
    "duration": 7,
    "start_time": "2021-12-30T00:34:32.065Z"
   },
   {
    "duration": 6,
    "start_time": "2021-12-30T00:34:32.695Z"
   },
   {
    "duration": 12,
    "start_time": "2021-12-30T00:34:34.222Z"
   },
   {
    "duration": 11,
    "start_time": "2021-12-30T00:34:35.023Z"
   },
   {
    "duration": 13,
    "start_time": "2021-12-30T00:34:36.099Z"
   },
   {
    "duration": 11,
    "start_time": "2021-12-30T00:34:37.217Z"
   },
   {
    "duration": 19,
    "start_time": "2021-12-30T00:34:38.637Z"
   },
   {
    "duration": 12,
    "start_time": "2021-12-30T00:34:39.399Z"
   },
   {
    "duration": 12,
    "start_time": "2021-12-30T00:34:40.951Z"
   },
   {
    "duration": 10,
    "start_time": "2021-12-30T00:34:41.799Z"
   },
   {
    "duration": 6,
    "start_time": "2021-12-30T00:34:43.389Z"
   },
   {
    "duration": 10,
    "start_time": "2021-12-30T00:34:44.139Z"
   },
   {
    "duration": 11,
    "start_time": "2021-12-30T00:34:45.007Z"
   },
   {
    "duration": 7,
    "start_time": "2021-12-30T00:34:45.774Z"
   },
   {
    "duration": 5,
    "start_time": "2021-12-30T00:34:46.557Z"
   },
   {
    "duration": 17,
    "start_time": "2021-12-30T00:34:47.319Z"
   },
   {
    "duration": 13,
    "start_time": "2021-12-30T00:34:48.174Z"
   },
   {
    "duration": 4,
    "start_time": "2021-12-30T00:34:49.031Z"
   },
   {
    "duration": 5,
    "start_time": "2021-12-30T00:34:49.813Z"
   },
   {
    "duration": 3,
    "start_time": "2021-12-30T00:34:50.531Z"
   },
   {
    "duration": 7,
    "start_time": "2021-12-30T00:34:51.366Z"
   },
   {
    "duration": 5,
    "start_time": "2021-12-30T00:34:52.095Z"
   },
   {
    "duration": 14,
    "start_time": "2021-12-30T00:34:52.749Z"
   },
   {
    "duration": 16,
    "start_time": "2021-12-30T00:34:53.597Z"
   },
   {
    "duration": 12,
    "start_time": "2021-12-30T00:34:54.389Z"
   },
   {
    "duration": 9,
    "start_time": "2021-12-30T00:34:55.133Z"
   },
   {
    "duration": 17,
    "start_time": "2021-12-30T00:34:55.992Z"
   },
   {
    "duration": 7,
    "start_time": "2021-12-30T00:34:56.616Z"
   },
   {
    "duration": 8,
    "start_time": "2021-12-30T00:34:57.400Z"
   },
   {
    "duration": 10,
    "start_time": "2021-12-30T00:34:58.270Z"
   },
   {
    "duration": 12,
    "start_time": "2021-12-30T00:34:59.094Z"
   },
   {
    "duration": 30,
    "start_time": "2021-12-30T00:34:59.888Z"
   },
   {
    "duration": 9,
    "start_time": "2021-12-30T00:35:00.656Z"
   },
   {
    "duration": 18,
    "start_time": "2021-12-30T00:35:01.510Z"
   },
   {
    "duration": 27,
    "start_time": "2021-12-30T00:35:03.045Z"
   },
   {
    "duration": 4,
    "start_time": "2021-12-30T00:35:03.871Z"
   },
   {
    "duration": 4,
    "start_time": "2021-12-30T00:35:04.613Z"
   },
   {
    "duration": 13,
    "start_time": "2021-12-30T00:35:05.239Z"
   },
   {
    "duration": 8,
    "start_time": "2021-12-30T00:35:05.958Z"
   },
   {
    "duration": 21,
    "start_time": "2021-12-30T00:35:06.716Z"
   },
   {
    "duration": 7,
    "start_time": "2021-12-30T00:35:07.302Z"
   },
   {
    "duration": 4,
    "start_time": "2021-12-30T00:35:07.933Z"
   },
   {
    "duration": 12,
    "start_time": "2021-12-30T00:35:08.567Z"
   },
   {
    "duration": 5,
    "start_time": "2021-12-30T00:35:09.183Z"
   },
   {
    "duration": 10,
    "start_time": "2021-12-30T00:35:09.835Z"
   },
   {
    "duration": 20,
    "start_time": "2021-12-30T00:35:10.505Z"
   },
   {
    "duration": 12,
    "start_time": "2021-12-30T00:35:11.631Z"
   },
   {
    "duration": 4,
    "start_time": "2021-12-30T00:35:12.270Z"
   },
   {
    "duration": 10,
    "start_time": "2021-12-30T00:35:13.076Z"
   },
   {
    "duration": 4,
    "start_time": "2021-12-30T00:35:13.718Z"
   },
   {
    "duration": 12,
    "start_time": "2021-12-30T00:35:14.440Z"
   },
   {
    "duration": 10,
    "start_time": "2021-12-30T00:35:15.095Z"
   },
   {
    "duration": 3,
    "start_time": "2021-12-30T00:35:15.805Z"
   },
   {
    "duration": 7,
    "start_time": "2021-12-30T00:35:16.677Z"
   },
   {
    "duration": 12,
    "start_time": "2021-12-30T00:35:17.590Z"
   },
   {
    "duration": 7,
    "start_time": "2021-12-30T00:35:18.525Z"
   },
   {
    "duration": 13,
    "start_time": "2021-12-30T00:35:20.447Z"
   },
   {
    "duration": 14,
    "start_time": "2021-12-30T00:36:17.721Z"
   },
   {
    "duration": 11,
    "start_time": "2021-12-30T00:36:27.629Z"
   },
   {
    "duration": 6,
    "start_time": "2021-12-30T00:37:02.224Z"
   },
   {
    "duration": 6,
    "start_time": "2021-12-30T00:44:45.234Z"
   },
   {
    "duration": 15,
    "start_time": "2021-12-30T00:45:01.448Z"
   },
   {
    "duration": 7,
    "start_time": "2021-12-30T00:45:23.509Z"
   },
   {
    "duration": 9,
    "start_time": "2021-12-30T00:47:24.538Z"
   },
   {
    "duration": 14,
    "start_time": "2021-12-30T00:47:25.713Z"
   },
   {
    "duration": 8,
    "start_time": "2021-12-30T00:47:32.285Z"
   },
   {
    "duration": 14,
    "start_time": "2021-12-30T00:47:33.269Z"
   },
   {
    "duration": 7,
    "start_time": "2021-12-30T00:47:40.109Z"
   },
   {
    "duration": 9,
    "start_time": "2021-12-30T00:48:29.902Z"
   },
   {
    "duration": 7,
    "start_time": "2021-12-30T00:48:31.447Z"
   },
   {
    "duration": 6,
    "start_time": "2021-12-30T00:48:39.047Z"
   },
   {
    "duration": 16,
    "start_time": "2021-12-30T00:48:52.532Z"
   },
   {
    "duration": 8,
    "start_time": "2021-12-30T00:49:49.826Z"
   },
   {
    "duration": 5,
    "start_time": "2021-12-30T00:50:40.917Z"
   },
   {
    "duration": 27,
    "start_time": "2021-12-30T00:50:46.058Z"
   },
   {
    "duration": 6,
    "start_time": "2021-12-30T00:51:44.019Z"
   },
   {
    "duration": 14,
    "start_time": "2021-12-30T00:52:03.060Z"
   },
   {
    "duration": 16,
    "start_time": "2021-12-30T00:54:40.298Z"
   },
   {
    "duration": 8,
    "start_time": "2021-12-30T00:55:05.905Z"
   },
   {
    "duration": 12,
    "start_time": "2021-12-30T00:57:59.385Z"
   },
   {
    "duration": 66,
    "start_time": "2021-12-30T01:14:26.434Z"
   },
   {
    "duration": 3,
    "start_time": "2021-12-30T01:14:53.657Z"
   },
   {
    "duration": 727,
    "start_time": "2021-12-30T01:16:39.599Z"
   },
   {
    "duration": 759,
    "start_time": "2021-12-30T01:30:55.065Z"
   },
   {
    "duration": 3,
    "start_time": "2021-12-30T01:31:15.917Z"
   },
   {
    "duration": 715,
    "start_time": "2021-12-30T01:31:18.378Z"
   },
   {
    "duration": 11,
    "start_time": "2021-12-30T01:36:58.975Z"
   },
   {
    "duration": 69,
    "start_time": "2021-12-30T01:38:21.783Z"
   },
   {
    "duration": 3,
    "start_time": "2021-12-30T01:38:30.613Z"
   },
   {
    "duration": 2192,
    "start_time": "2021-12-30T01:38:31.840Z"
   },
   {
    "duration": 14,
    "start_time": "2021-12-30T01:39:44.783Z"
   },
   {
    "duration": 3,
    "start_time": "2021-12-30T01:43:11.707Z"
   },
   {
    "duration": 2202,
    "start_time": "2021-12-30T01:43:14.018Z"
   },
   {
    "duration": 14,
    "start_time": "2021-12-30T01:43:24.806Z"
   },
   {
    "duration": 3,
    "start_time": "2021-12-30T01:44:26.128Z"
   },
   {
    "duration": 1457,
    "start_time": "2021-12-30T01:44:28.013Z"
   },
   {
    "duration": 12,
    "start_time": "2021-12-30T01:44:34.351Z"
   },
   {
    "duration": 14,
    "start_time": "2021-12-30T01:44:36.784Z"
   },
   {
    "duration": 4,
    "start_time": "2021-12-30T01:45:03.008Z"
   },
   {
    "duration": 1495,
    "start_time": "2021-12-30T01:45:04.270Z"
   },
   {
    "duration": 12,
    "start_time": "2021-12-30T01:45:07.561Z"
   },
   {
    "duration": 14,
    "start_time": "2021-12-30T01:45:11.079Z"
   },
   {
    "duration": 1516,
    "start_time": "2021-12-30T01:45:23.245Z"
   },
   {
    "duration": 4,
    "start_time": "2021-12-30T01:45:29.803Z"
   },
   {
    "duration": 1536,
    "start_time": "2021-12-30T01:45:31.680Z"
   },
   {
    "duration": 3,
    "start_time": "2021-12-30T01:46:04.877Z"
   },
   {
    "duration": 1086,
    "start_time": "2021-12-30T01:46:06.031Z"
   },
   {
    "duration": 3,
    "start_time": "2021-12-30T01:47:05.252Z"
   },
   {
    "duration": 3848,
    "start_time": "2021-12-30T01:47:07.027Z"
   },
   {
    "duration": 14,
    "start_time": "2021-12-30T01:47:24.976Z"
   },
   {
    "duration": 61,
    "start_time": "2021-12-30T03:15:43.667Z"
   },
   {
    "duration": 3,
    "start_time": "2021-12-30T03:16:07.984Z"
   },
   {
    "duration": 3892,
    "start_time": "2021-12-30T03:16:13.243Z"
   },
   {
    "duration": 14,
    "start_time": "2021-12-30T03:16:25.614Z"
   },
   {
    "duration": 4,
    "start_time": "2021-12-30T03:17:16.308Z"
   },
   {
    "duration": 1419,
    "start_time": "2021-12-30T03:17:17.798Z"
   },
   {
    "duration": 11,
    "start_time": "2021-12-30T03:17:24.528Z"
   },
   {
    "duration": 14,
    "start_time": "2021-12-30T03:17:30.882Z"
   },
   {
    "duration": 1425,
    "start_time": "2021-12-30T03:17:56.916Z"
   },
   {
    "duration": 3,
    "start_time": "2021-12-30T03:18:05.563Z"
   },
   {
    "duration": 3,
    "start_time": "2021-12-30T03:18:06.256Z"
   },
   {
    "duration": 298,
    "start_time": "2021-12-30T03:18:06.755Z"
   },
   {
    "duration": 8,
    "start_time": "2021-12-30T03:18:07.276Z"
   },
   {
    "duration": 7,
    "start_time": "2021-12-30T03:18:07.790Z"
   },
   {
    "duration": 9,
    "start_time": "2021-12-30T03:18:08.332Z"
   },
   {
    "duration": 10,
    "start_time": "2021-12-30T03:18:09.156Z"
   },
   {
    "duration": 8,
    "start_time": "2021-12-30T03:18:09.788Z"
   },
   {
    "duration": 16,
    "start_time": "2021-12-30T03:18:10.148Z"
   },
   {
    "duration": 20,
    "start_time": "2021-12-30T03:18:10.537Z"
   },
   {
    "duration": 16,
    "start_time": "2021-12-30T03:18:11.091Z"
   },
   {
    "duration": 7,
    "start_time": "2021-12-30T03:18:11.561Z"
   },
   {
    "duration": 14,
    "start_time": "2021-12-30T03:18:11.890Z"
   },
   {
    "duration": 22,
    "start_time": "2021-12-30T03:18:12.297Z"
   },
   {
    "duration": 12,
    "start_time": "2021-12-30T03:18:12.779Z"
   },
   {
    "duration": 10,
    "start_time": "2021-12-30T03:18:13.334Z"
   },
   {
    "duration": 5,
    "start_time": "2021-12-30T03:18:13.848Z"
   },
   {
    "duration": 15,
    "start_time": "2021-12-30T03:18:14.256Z"
   },
   {
    "duration": 7,
    "start_time": "2021-12-30T03:18:14.826Z"
   },
   {
    "duration": 6,
    "start_time": "2021-12-30T03:18:15.317Z"
   },
   {
    "duration": 11,
    "start_time": "2021-12-30T03:18:16.294Z"
   },
   {
    "duration": 11,
    "start_time": "2021-12-30T03:18:16.837Z"
   },
   {
    "duration": 13,
    "start_time": "2021-12-30T03:18:17.409Z"
   },
   {
    "duration": 11,
    "start_time": "2021-12-30T03:18:17.921Z"
   },
   {
    "duration": 17,
    "start_time": "2021-12-30T03:18:18.949Z"
   },
   {
    "duration": 11,
    "start_time": "2021-12-30T03:18:19.401Z"
   },
   {
    "duration": 13,
    "start_time": "2021-12-30T03:18:20.474Z"
   },
   {
    "duration": 10,
    "start_time": "2021-12-30T03:18:21.043Z"
   },
   {
    "duration": 6,
    "start_time": "2021-12-30T03:18:22.127Z"
   },
   {
    "duration": 6,
    "start_time": "2021-12-30T03:18:22.674Z"
   },
   {
    "duration": 11,
    "start_time": "2021-12-30T03:18:23.170Z"
   },
   {
    "duration": 6,
    "start_time": "2021-12-30T03:18:23.742Z"
   },
   {
    "duration": 4,
    "start_time": "2021-12-30T03:18:24.190Z"
   },
   {
    "duration": 10,
    "start_time": "2021-12-30T03:18:24.665Z"
   },
   {
    "duration": 11,
    "start_time": "2021-12-30T03:18:25.005Z"
   },
   {
    "duration": 5,
    "start_time": "2021-12-30T03:18:25.310Z"
   },
   {
    "duration": 6,
    "start_time": "2021-12-30T03:18:25.535Z"
   },
   {
    "duration": 4,
    "start_time": "2021-12-30T03:18:25.823Z"
   },
   {
    "duration": 6,
    "start_time": "2021-12-30T03:18:27.244Z"
   },
   {
    "duration": 4,
    "start_time": "2021-12-30T03:18:28.269Z"
   },
   {
    "duration": 14,
    "start_time": "2021-12-30T03:18:28.841Z"
   },
   {
    "duration": 16,
    "start_time": "2021-12-30T03:18:29.404Z"
   },
   {
    "duration": 15,
    "start_time": "2021-12-30T03:18:29.955Z"
   },
   {
    "duration": 16,
    "start_time": "2021-12-30T03:18:30.525Z"
   },
   {
    "duration": 10,
    "start_time": "2021-12-30T03:18:31.039Z"
   },
   {
    "duration": 11,
    "start_time": "2021-12-30T03:18:31.512Z"
   },
   {
    "duration": 18,
    "start_time": "2021-12-30T03:18:31.908Z"
   },
   {
    "duration": 9,
    "start_time": "2021-12-30T03:18:32.400Z"
   },
   {
    "duration": 16,
    "start_time": "2021-12-30T03:18:32.979Z"
   },
   {
    "duration": 26,
    "start_time": "2021-12-30T03:18:34.018Z"
   },
   {
    "duration": 5,
    "start_time": "2021-12-30T03:18:34.906Z"
   },
   {
    "duration": 6,
    "start_time": "2021-12-30T03:18:35.457Z"
   },
   {
    "duration": 12,
    "start_time": "2021-12-30T03:18:35.866Z"
   },
   {
    "duration": 9,
    "start_time": "2021-12-30T03:18:36.357Z"
   },
   {
    "duration": 21,
    "start_time": "2021-12-30T03:18:36.801Z"
   },
   {
    "duration": 8,
    "start_time": "2021-12-30T03:18:37.297Z"
   },
   {
    "duration": 4,
    "start_time": "2021-12-30T03:18:37.859Z"
   },
   {
    "duration": 12,
    "start_time": "2021-12-30T03:18:38.300Z"
   },
   {
    "duration": 4,
    "start_time": "2021-12-30T03:18:38.768Z"
   },
   {
    "duration": 9,
    "start_time": "2021-12-30T03:18:39.197Z"
   },
   {
    "duration": 17,
    "start_time": "2021-12-30T03:18:39.618Z"
   },
   {
    "duration": 13,
    "start_time": "2021-12-30T03:18:39.986Z"
   },
   {
    "duration": 5,
    "start_time": "2021-12-30T03:18:40.427Z"
   },
   {
    "duration": 11,
    "start_time": "2021-12-30T03:18:40.793Z"
   },
   {
    "duration": 4,
    "start_time": "2021-12-30T03:18:41.217Z"
   },
   {
    "duration": 13,
    "start_time": "2021-12-30T03:18:41.577Z"
   },
   {
    "duration": 3,
    "start_time": "2021-12-30T03:18:41.961Z"
   },
   {
    "duration": 10,
    "start_time": "2021-12-30T03:18:42.304Z"
   },
   {
    "duration": 13,
    "start_time": "2021-12-30T03:18:42.860Z"
   },
   {
    "duration": 6,
    "start_time": "2021-12-30T03:18:43.210Z"
   },
   {
    "duration": 9,
    "start_time": "2021-12-30T03:18:43.569Z"
   },
   {
    "duration": 6,
    "start_time": "2021-12-30T03:18:43.870Z"
   },
   {
    "duration": 14,
    "start_time": "2021-12-30T03:18:44.227Z"
   },
   {
    "duration": 6,
    "start_time": "2021-12-30T03:18:44.643Z"
   },
   {
    "duration": 5,
    "start_time": "2021-12-30T03:18:45.017Z"
   },
   {
    "duration": 13,
    "start_time": "2021-12-30T03:18:45.423Z"
   },
   {
    "duration": 6,
    "start_time": "2021-12-30T03:18:46.181Z"
   },
   {
    "duration": 12,
    "start_time": "2021-12-30T03:18:46.725Z"
   },
   {
    "duration": 17,
    "start_time": "2021-12-30T03:18:47.252Z"
   },
   {
    "duration": 8,
    "start_time": "2021-12-30T03:18:47.808Z"
   },
   {
    "duration": 12,
    "start_time": "2021-12-30T03:18:48.371Z"
   },
   {
    "duration": 3,
    "start_time": "2021-12-30T03:18:49.267Z"
   },
   {
    "duration": 1455,
    "start_time": "2021-12-30T03:18:49.897Z"
   },
   {
    "duration": 11,
    "start_time": "2021-12-30T03:18:51.354Z"
   },
   {
    "duration": 14,
    "start_time": "2021-12-30T03:18:51.823Z"
   },
   {
    "duration": 14,
    "start_time": "2021-12-30T03:18:55.851Z"
   },
   {
    "duration": 14,
    "start_time": "2021-12-30T03:18:59.607Z"
   },
   {
    "duration": 3,
    "start_time": "2021-12-30T03:19:26.909Z"
   },
   {
    "duration": 5115,
    "start_time": "2021-12-30T03:19:27.830Z"
   },
   {
    "duration": -223,
    "start_time": "2021-12-30T03:19:33.171Z"
   },
   {
    "duration": 12,
    "start_time": "2021-12-30T03:20:40.975Z"
   },
   {
    "duration": 3,
    "start_time": "2021-12-30T03:21:04.091Z"
   },
   {
    "duration": 3750,
    "start_time": "2021-12-30T03:21:05.470Z"
   },
   {
    "duration": 12,
    "start_time": "2021-12-30T03:21:24.725Z"
   },
   {
    "duration": 14,
    "start_time": "2021-12-30T03:21:29.572Z"
   },
   {
    "duration": 203,
    "start_time": "2021-12-30T03:22:18.467Z"
   },
   {
    "duration": 6,
    "start_time": "2021-12-30T03:22:26.592Z"
   },
   {
    "duration": 3,
    "start_time": "2021-12-30T03:23:55.426Z"
   },
   {
    "duration": 3733,
    "start_time": "2021-12-30T03:23:56.772Z"
   },
   {
    "duration": 14,
    "start_time": "2021-12-30T03:24:11.993Z"
   },
   {
    "duration": 2,
    "start_time": "2021-12-30T03:28:16.006Z"
   },
   {
    "duration": 3,
    "start_time": "2021-12-30T03:28:16.701Z"
   },
   {
    "duration": 277,
    "start_time": "2021-12-30T03:28:17.502Z"
   },
   {
    "duration": 8,
    "start_time": "2021-12-30T03:28:18.154Z"
   },
   {
    "duration": 8,
    "start_time": "2021-12-30T03:28:18.919Z"
   },
   {
    "duration": 9,
    "start_time": "2021-12-30T03:28:19.610Z"
   },
   {
    "duration": 11,
    "start_time": "2021-12-30T03:28:21.120Z"
   },
   {
    "duration": 9,
    "start_time": "2021-12-30T03:28:21.749Z"
   },
   {
    "duration": 15,
    "start_time": "2021-12-30T03:28:22.437Z"
   },
   {
    "duration": 27,
    "start_time": "2021-12-30T03:28:23.141Z"
   },
   {
    "duration": 16,
    "start_time": "2021-12-30T03:28:23.876Z"
   },
   {
    "duration": 6,
    "start_time": "2021-12-30T03:28:24.553Z"
   },
   {
    "duration": 14,
    "start_time": "2021-12-30T03:28:25.277Z"
   },
   {
    "duration": 22,
    "start_time": "2021-12-30T03:28:26.076Z"
   },
   {
    "duration": 12,
    "start_time": "2021-12-30T03:28:26.753Z"
   },
   {
    "duration": 9,
    "start_time": "2021-12-30T03:28:27.442Z"
   },
   {
    "duration": 4,
    "start_time": "2021-12-30T03:28:28.117Z"
   },
   {
    "duration": 14,
    "start_time": "2021-12-30T03:28:28.794Z"
   },
   {
    "duration": 7,
    "start_time": "2021-12-30T03:28:29.398Z"
   },
   {
    "duration": 6,
    "start_time": "2021-12-30T03:28:30.087Z"
   },
   {
    "duration": 11,
    "start_time": "2021-12-30T03:28:31.306Z"
   },
   {
    "duration": 12,
    "start_time": "2021-12-30T03:28:31.934Z"
   },
   {
    "duration": 13,
    "start_time": "2021-12-30T03:28:32.550Z"
   },
   {
    "duration": 11,
    "start_time": "2021-12-30T03:28:33.085Z"
   },
   {
    "duration": 15,
    "start_time": "2021-12-30T03:28:34.042Z"
   },
   {
    "duration": 11,
    "start_time": "2021-12-30T03:28:34.814Z"
   },
   {
    "duration": 12,
    "start_time": "2021-12-30T03:28:35.950Z"
   },
   {
    "duration": 10,
    "start_time": "2021-12-30T03:28:36.574Z"
   },
   {
    "duration": 6,
    "start_time": "2021-12-30T03:28:37.729Z"
   },
   {
    "duration": 5,
    "start_time": "2021-12-30T03:28:38.351Z"
   },
   {
    "duration": 10,
    "start_time": "2021-12-30T03:28:38.929Z"
   },
   {
    "duration": 6,
    "start_time": "2021-12-30T03:28:39.559Z"
   },
   {
    "duration": 4,
    "start_time": "2021-12-30T03:28:40.135Z"
   },
   {
    "duration": 11,
    "start_time": "2021-12-30T03:28:40.633Z"
   },
   {
    "duration": 11,
    "start_time": "2021-12-30T03:28:41.182Z"
   },
   {
    "duration": 5,
    "start_time": "2021-12-30T03:28:41.867Z"
   },
   {
    "duration": 6,
    "start_time": "2021-12-30T03:28:42.432Z"
   },
   {
    "duration": 4,
    "start_time": "2021-12-30T03:28:43.022Z"
   },
   {
    "duration": 6,
    "start_time": "2021-12-30T03:28:43.579Z"
   },
   {
    "duration": 5,
    "start_time": "2021-12-30T03:28:44.120Z"
   },
   {
    "duration": 14,
    "start_time": "2021-12-30T03:28:44.639Z"
   },
   {
    "duration": 15,
    "start_time": "2021-12-30T03:28:45.113Z"
   },
   {
    "duration": 12,
    "start_time": "2021-12-30T03:28:45.711Z"
   },
   {
    "duration": 16,
    "start_time": "2021-12-30T03:28:46.275Z"
   },
   {
    "duration": 10,
    "start_time": "2021-12-30T03:28:46.745Z"
   },
   {
    "duration": 10,
    "start_time": "2021-12-30T03:28:47.149Z"
   },
   {
    "duration": 18,
    "start_time": "2021-12-30T03:28:47.610Z"
   },
   {
    "duration": 9,
    "start_time": "2021-12-30T03:28:48.093Z"
   },
   {
    "duration": 17,
    "start_time": "2021-12-30T03:28:48.566Z"
   },
   {
    "duration": 23,
    "start_time": "2021-12-30T03:28:49.436Z"
   },
   {
    "duration": 4,
    "start_time": "2021-12-30T03:28:49.877Z"
   },
   {
    "duration": 5,
    "start_time": "2021-12-30T03:28:50.308Z"
   },
   {
    "duration": 12,
    "start_time": "2021-12-30T03:28:50.727Z"
   },
   {
    "duration": 8,
    "start_time": "2021-12-30T03:28:51.088Z"
   },
   {
    "duration": 20,
    "start_time": "2021-12-30T03:28:51.581Z"
   },
   {
    "duration": 7,
    "start_time": "2021-12-30T03:28:51.944Z"
   },
   {
    "duration": 4,
    "start_time": "2021-12-30T03:28:52.303Z"
   },
   {
    "duration": 11,
    "start_time": "2021-12-30T03:28:52.640Z"
   },
   {
    "duration": 4,
    "start_time": "2021-12-30T03:28:53.317Z"
   },
   {
    "duration": 9,
    "start_time": "2021-12-30T03:28:53.775Z"
   },
   {
    "duration": 14,
    "start_time": "2021-12-30T03:28:54.166Z"
   },
   {
    "duration": 12,
    "start_time": "2021-12-30T03:28:54.534Z"
   },
   {
    "duration": 4,
    "start_time": "2021-12-30T03:28:54.953Z"
   },
   {
    "duration": 10,
    "start_time": "2021-12-30T03:28:56.442Z"
   },
   {
    "duration": 33,
    "start_time": "2021-12-30T03:28:56.454Z"
   },
   {
    "duration": 36,
    "start_time": "2021-12-30T03:28:56.489Z"
   },
   {
    "duration": 3,
    "start_time": "2021-12-30T03:28:56.659Z"
   },
   {
    "duration": 8,
    "start_time": "2021-12-30T03:28:57.601Z"
   },
   {
    "duration": 13,
    "start_time": "2021-12-30T03:28:57.914Z"
   },
   {
    "duration": 7,
    "start_time": "2021-12-30T03:28:58.191Z"
   },
   {
    "duration": 9,
    "start_time": "2021-12-30T03:28:58.428Z"
   },
   {
    "duration": 6,
    "start_time": "2021-12-30T03:28:58.625Z"
   },
   {
    "duration": 14,
    "start_time": "2021-12-30T03:28:58.889Z"
   },
   {
    "duration": 7,
    "start_time": "2021-12-30T03:29:00.936Z"
   },
   {
    "duration": 5,
    "start_time": "2021-12-30T03:29:01.663Z"
   },
   {
    "duration": 14,
    "start_time": "2021-12-30T03:29:02.352Z"
   },
   {
    "duration": 6,
    "start_time": "2021-12-30T03:29:03.191Z"
   },
   {
    "duration": 12,
    "start_time": "2021-12-30T03:29:03.784Z"
   },
   {
    "duration": 18,
    "start_time": "2021-12-30T03:29:04.442Z"
   },
   {
    "duration": 8,
    "start_time": "2021-12-30T03:29:05.103Z"
   },
   {
    "duration": 13,
    "start_time": "2021-12-30T03:29:05.711Z"
   },
   {
    "duration": 3,
    "start_time": "2021-12-30T03:29:06.357Z"
   },
   {
    "duration": 8261,
    "start_time": "2021-12-30T03:29:07.004Z"
   },
   {
    "duration": -349,
    "start_time": "2021-12-30T03:29:15.617Z"
   },
   {
    "duration": 11,
    "start_time": "2021-12-30T03:29:20.712Z"
   },
   {
    "duration": 13,
    "start_time": "2021-12-30T03:29:27.319Z"
   },
   {
    "duration": 13,
    "start_time": "2021-12-30T03:29:35.640Z"
   },
   {
    "duration": 7955,
    "start_time": "2021-12-30T03:29:42.958Z"
   },
   {
    "duration": 13,
    "start_time": "2021-12-30T03:29:56.180Z"
   },
   {
    "duration": 14334,
    "start_time": "2021-12-30T03:29:58.666Z"
   },
   {
    "duration": 3,
    "start_time": "2021-12-30T03:30:33.327Z"
   },
   {
    "duration": 9809,
    "start_time": "2021-12-30T03:30:35.476Z"
   },
   {
    "duration": 3,
    "start_time": "2021-12-30T03:46:28.500Z"
   },
   {
    "duration": 2,
    "start_time": "2021-12-30T03:46:28.512Z"
   },
   {
    "duration": 284,
    "start_time": "2021-12-30T03:46:28.521Z"
   },
   {
    "duration": 9,
    "start_time": "2021-12-30T03:46:28.807Z"
   },
   {
    "duration": 9,
    "start_time": "2021-12-30T03:46:28.818Z"
   },
   {
    "duration": 9,
    "start_time": "2021-12-30T03:46:28.829Z"
   },
   {
    "duration": 11,
    "start_time": "2021-12-30T03:46:28.840Z"
   },
   {
    "duration": 44,
    "start_time": "2021-12-30T03:46:28.853Z"
   },
   {
    "duration": 17,
    "start_time": "2021-12-30T03:46:28.899Z"
   },
   {
    "duration": 20,
    "start_time": "2021-12-30T03:46:28.920Z"
   },
   {
    "duration": 56,
    "start_time": "2021-12-30T03:46:28.942Z"
   },
   {
    "duration": 8,
    "start_time": "2021-12-30T03:46:29.000Z"
   },
   {
    "duration": 15,
    "start_time": "2021-12-30T03:46:29.010Z"
   },
   {
    "duration": 24,
    "start_time": "2021-12-30T03:46:29.027Z"
   },
   {
    "duration": 49,
    "start_time": "2021-12-30T03:46:29.053Z"
   },
   {
    "duration": 11,
    "start_time": "2021-12-30T03:46:29.104Z"
   },
   {
    "duration": 7,
    "start_time": "2021-12-30T03:46:29.117Z"
   },
   {
    "duration": 16,
    "start_time": "2021-12-30T03:46:29.125Z"
   },
   {
    "duration": 49,
    "start_time": "2021-12-30T03:46:29.143Z"
   },
   {
    "duration": 7,
    "start_time": "2021-12-30T03:46:29.194Z"
   },
   {
    "duration": 11,
    "start_time": "2021-12-30T03:46:29.203Z"
   },
   {
    "duration": 13,
    "start_time": "2021-12-30T03:46:29.216Z"
   },
   {
    "duration": 13,
    "start_time": "2021-12-30T03:46:29.231Z"
   },
   {
    "duration": 56,
    "start_time": "2021-12-30T03:46:29.246Z"
   },
   {
    "duration": 16,
    "start_time": "2021-12-30T03:46:29.307Z"
   },
   {
    "duration": 12,
    "start_time": "2021-12-30T03:46:29.326Z"
   },
   {
    "duration": 51,
    "start_time": "2021-12-30T03:46:29.340Z"
   },
   {
    "duration": 13,
    "start_time": "2021-12-30T03:46:29.393Z"
   },
   {
    "duration": 6,
    "start_time": "2021-12-30T03:46:29.408Z"
   },
   {
    "duration": 7,
    "start_time": "2021-12-30T03:46:29.416Z"
   },
   {
    "duration": 13,
    "start_time": "2021-12-30T03:46:29.424Z"
   },
   {
    "duration": 52,
    "start_time": "2021-12-30T03:46:29.439Z"
   },
   {
    "duration": 5,
    "start_time": "2021-12-30T03:46:29.494Z"
   },
   {
    "duration": 13,
    "start_time": "2021-12-30T03:46:29.501Z"
   },
   {
    "duration": 11,
    "start_time": "2021-12-30T03:46:29.516Z"
   },
   {
    "duration": 4,
    "start_time": "2021-12-30T03:46:29.528Z"
   },
   {
    "duration": 7,
    "start_time": "2021-12-30T03:46:29.533Z"
   },
   {
    "duration": 50,
    "start_time": "2021-12-30T03:46:29.541Z"
   },
   {
    "duration": 9,
    "start_time": "2021-12-30T03:46:29.593Z"
   },
   {
    "duration": 5,
    "start_time": "2021-12-30T03:46:29.603Z"
   },
   {
    "duration": 13,
    "start_time": "2021-12-30T03:46:29.609Z"
   },
   {
    "duration": 13,
    "start_time": "2021-12-30T03:46:29.624Z"
   },
   {
    "duration": 10,
    "start_time": "2021-12-30T03:46:29.638Z"
   },
   {
    "duration": 51,
    "start_time": "2021-12-30T03:46:29.650Z"
   },
   {
    "duration": 9,
    "start_time": "2021-12-30T03:46:29.702Z"
   },
   {
    "duration": 11,
    "start_time": "2021-12-30T03:46:29.713Z"
   },
   {
    "duration": 18,
    "start_time": "2021-12-30T03:46:29.725Z"
   },
   {
    "duration": 8,
    "start_time": "2021-12-30T03:46:29.744Z"
   },
   {
    "duration": 51,
    "start_time": "2021-12-30T03:46:29.753Z"
   },
   {
    "duration": 24,
    "start_time": "2021-12-30T03:46:29.806Z"
   },
   {
    "duration": 4,
    "start_time": "2021-12-30T03:46:29.832Z"
   },
   {
    "duration": 7,
    "start_time": "2021-12-30T03:46:29.837Z"
   },
   {
    "duration": 13,
    "start_time": "2021-12-30T03:46:29.845Z"
   },
   {
    "duration": 41,
    "start_time": "2021-12-30T03:46:29.860Z"
   },
   {
    "duration": 24,
    "start_time": "2021-12-30T03:46:29.903Z"
   },
   {
    "duration": 7,
    "start_time": "2021-12-30T03:46:29.929Z"
   },
   {
    "duration": 11,
    "start_time": "2021-12-30T03:46:29.938Z"
   },
   {
    "duration": 11,
    "start_time": "2021-12-30T03:46:29.951Z"
   },
   {
    "duration": 4,
    "start_time": "2021-12-30T03:46:29.992Z"
   },
   {
    "duration": 17,
    "start_time": "2021-12-30T03:46:29.998Z"
   },
   {
    "duration": 15,
    "start_time": "2021-12-30T03:46:30.017Z"
   },
   {
    "duration": 12,
    "start_time": "2021-12-30T03:46:30.033Z"
   },
   {
    "duration": 4,
    "start_time": "2021-12-30T03:46:30.047Z"
   },
   {
    "duration": 46,
    "start_time": "2021-12-30T03:46:30.052Z"
   },
   {
    "duration": 4,
    "start_time": "2021-12-30T03:46:30.100Z"
   },
   {
    "duration": 19,
    "start_time": "2021-12-30T03:46:30.105Z"
   },
   {
    "duration": 4,
    "start_time": "2021-12-30T03:46:30.126Z"
   },
   {
    "duration": 11,
    "start_time": "2021-12-30T03:46:30.132Z"
   },
   {
    "duration": 15,
    "start_time": "2021-12-30T03:46:30.145Z"
   },
   {
    "duration": 31,
    "start_time": "2021-12-30T03:46:30.165Z"
   },
   {
    "duration": 12,
    "start_time": "2021-12-30T03:46:30.198Z"
   },
   {
    "duration": 7,
    "start_time": "2021-12-30T03:46:30.212Z"
   },
   {
    "duration": 20,
    "start_time": "2021-12-30T03:46:30.220Z"
   },
   {
    "duration": 6,
    "start_time": "2021-12-30T03:46:30.242Z"
   },
   {
    "duration": 6,
    "start_time": "2021-12-30T03:46:30.249Z"
   },
   {
    "duration": 42,
    "start_time": "2021-12-30T03:46:30.257Z"
   },
   {
    "duration": 15,
    "start_time": "2021-12-30T03:46:30.301Z"
   },
   {
    "duration": 15,
    "start_time": "2021-12-30T03:46:30.318Z"
   },
   {
    "duration": 22,
    "start_time": "2021-12-30T03:46:30.334Z"
   },
   {
    "duration": 13,
    "start_time": "2021-12-30T03:46:30.358Z"
   },
   {
    "duration": 28,
    "start_time": "2021-12-30T03:46:30.373Z"
   },
   {
    "duration": 14,
    "start_time": "2021-12-30T03:46:30.402Z"
   },
   {
    "duration": 9377,
    "start_time": "2021-12-30T03:46:30.418Z"
   },
   {
    "duration": -447,
    "start_time": "2021-12-30T03:46:40.244Z"
   },
   {
    "duration": -469,
    "start_time": "2021-12-30T03:46:40.267Z"
   },
   {
    "duration": -486,
    "start_time": "2021-12-30T03:46:40.285Z"
   },
   {
    "duration": 5436,
    "start_time": "2021-12-30T03:46:46.352Z"
   },
   {
    "duration": 14,
    "start_time": "2021-12-30T03:47:15.970Z"
   },
   {
    "duration": 3,
    "start_time": "2021-12-30T03:47:37.286Z"
   },
   {
    "duration": 9174,
    "start_time": "2021-12-30T03:47:53.196Z"
   },
   {
    "duration": 13,
    "start_time": "2021-12-30T03:48:11.722Z"
   },
   {
    "duration": 6,
    "start_time": "2021-12-30T03:48:50.700Z"
   },
   {
    "duration": 3,
    "start_time": "2021-12-30T03:49:30.058Z"
   },
   {
    "duration": 1398,
    "start_time": "2021-12-30T03:49:31.152Z"
   },
   {
    "duration": 14,
    "start_time": "2021-12-30T03:49:35.031Z"
   },
   {
    "duration": 3,
    "start_time": "2021-12-30T03:50:13.490Z"
   },
   {
    "duration": 8094,
    "start_time": "2021-12-30T03:50:18.331Z"
   },
   {
    "duration": 3,
    "start_time": "2021-12-30T03:50:44.256Z"
   },
   {
    "duration": 3031,
    "start_time": "2021-12-30T03:50:45.449Z"
   },
   {
    "duration": 3,
    "start_time": "2021-12-30T03:51:33.880Z"
   },
   {
    "duration": 3076,
    "start_time": "2021-12-30T03:51:35.467Z"
   },
   {
    "duration": 3,
    "start_time": "2021-12-30T03:53:24.460Z"
   },
   {
    "duration": 3355,
    "start_time": "2021-12-30T03:53:25.614Z"
   },
   {
    "duration": 3,
    "start_time": "2021-12-30T03:54:50.378Z"
   },
   {
    "duration": 3443,
    "start_time": "2021-12-30T03:54:54.268Z"
   },
   {
    "duration": 3,
    "start_time": "2021-12-30T03:55:51.104Z"
   },
   {
    "duration": 3,
    "start_time": "2021-12-30T03:56:03.123Z"
   },
   {
    "duration": 3866,
    "start_time": "2021-12-30T03:56:04.335Z"
   },
   {
    "duration": 7,
    "start_time": "2021-12-30T03:56:22.978Z"
   },
   {
    "duration": 14,
    "start_time": "2021-12-30T03:56:29.509Z"
   },
   {
    "duration": 3,
    "start_time": "2021-12-30T03:57:00.971Z"
   },
   {
    "duration": 4472,
    "start_time": "2021-12-30T03:57:02.008Z"
   },
   {
    "duration": 3,
    "start_time": "2021-12-30T04:15:47.953Z"
   },
   {
    "duration": 3659,
    "start_time": "2021-12-30T04:15:50.295Z"
   },
   {
    "duration": 3849,
    "start_time": "2021-12-30T04:19:37.599Z"
   },
   {
    "duration": 14,
    "start_time": "2021-12-30T04:19:48.823Z"
   },
   {
    "duration": 186,
    "start_time": "2021-12-30T04:23:30.071Z"
   },
   {
    "duration": 4,
    "start_time": "2021-12-30T04:24:47.324Z"
   },
   {
    "duration": 12,
    "start_time": "2021-12-30T04:24:55.272Z"
   },
   {
    "duration": 14,
    "start_time": "2021-12-30T04:27:48.449Z"
   },
   {
    "duration": 8,
    "start_time": "2021-12-30T04:29:52.006Z"
   },
   {
    "duration": 2,
    "start_time": "2021-12-30T04:30:10.901Z"
   },
   {
    "duration": 11,
    "start_time": "2021-12-30T04:30:10.909Z"
   },
   {
    "duration": 275,
    "start_time": "2021-12-30T04:30:10.922Z"
   },
   {
    "duration": 11,
    "start_time": "2021-12-30T04:30:11.199Z"
   },
   {
    "duration": 17,
    "start_time": "2021-12-30T04:30:11.212Z"
   },
   {
    "duration": 17,
    "start_time": "2021-12-30T04:30:11.231Z"
   },
   {
    "duration": 24,
    "start_time": "2021-12-30T04:30:11.250Z"
   },
   {
    "duration": 25,
    "start_time": "2021-12-30T04:30:11.276Z"
   },
   {
    "duration": 28,
    "start_time": "2021-12-30T04:30:11.304Z"
   },
   {
    "duration": 17,
    "start_time": "2021-12-30T04:30:11.335Z"
   },
   {
    "duration": 38,
    "start_time": "2021-12-30T04:30:11.354Z"
   },
   {
    "duration": 6,
    "start_time": "2021-12-30T04:30:11.394Z"
   },
   {
    "duration": 19,
    "start_time": "2021-12-30T04:30:11.401Z"
   },
   {
    "duration": 22,
    "start_time": "2021-12-30T04:30:11.422Z"
   },
   {
    "duration": 13,
    "start_time": "2021-12-30T04:30:11.445Z"
   },
   {
    "duration": 40,
    "start_time": "2021-12-30T04:30:11.459Z"
   },
   {
    "duration": 6,
    "start_time": "2021-12-30T04:30:11.501Z"
   },
   {
    "duration": 15,
    "start_time": "2021-12-30T04:30:11.509Z"
   },
   {
    "duration": 6,
    "start_time": "2021-12-30T04:30:11.525Z"
   },
   {
    "duration": 8,
    "start_time": "2021-12-30T04:30:11.532Z"
   },
   {
    "duration": 12,
    "start_time": "2021-12-30T04:30:11.541Z"
   },
   {
    "duration": 46,
    "start_time": "2021-12-30T04:30:11.555Z"
   },
   {
    "duration": 13,
    "start_time": "2021-12-30T04:30:11.603Z"
   },
   {
    "duration": 10,
    "start_time": "2021-12-30T04:30:11.620Z"
   },
   {
    "duration": 14,
    "start_time": "2021-12-30T04:30:11.632Z"
   },
   {
    "duration": 52,
    "start_time": "2021-12-30T04:30:11.648Z"
   },
   {
    "duration": 12,
    "start_time": "2021-12-30T04:30:11.701Z"
   },
   {
    "duration": 10,
    "start_time": "2021-12-30T04:30:11.715Z"
   },
   {
    "duration": 6,
    "start_time": "2021-12-30T04:30:11.727Z"
   },
   {
    "duration": 8,
    "start_time": "2021-12-30T04:30:11.735Z"
   },
   {
    "duration": 48,
    "start_time": "2021-12-30T04:30:11.745Z"
   },
   {
    "duration": 6,
    "start_time": "2021-12-30T04:30:11.794Z"
   },
   {
    "duration": 5,
    "start_time": "2021-12-30T04:30:11.802Z"
   },
   {
    "duration": 15,
    "start_time": "2021-12-30T04:30:11.809Z"
   },
   {
    "duration": 16,
    "start_time": "2021-12-30T04:30:11.825Z"
   },
   {
    "duration": 5,
    "start_time": "2021-12-30T04:30:11.842Z"
   },
   {
    "duration": 7,
    "start_time": "2021-12-30T04:30:11.849Z"
   },
   {
    "duration": 35,
    "start_time": "2021-12-30T04:30:11.858Z"
   },
   {
    "duration": 9,
    "start_time": "2021-12-30T04:30:11.895Z"
   },
   {
    "duration": 6,
    "start_time": "2021-12-30T04:30:11.905Z"
   },
   {
    "duration": 14,
    "start_time": "2021-12-30T04:30:11.912Z"
   },
   {
    "duration": 14,
    "start_time": "2021-12-30T04:30:11.927Z"
   },
   {
    "duration": 10,
    "start_time": "2021-12-30T04:30:11.942Z"
   },
   {
    "duration": 52,
    "start_time": "2021-12-30T04:30:11.953Z"
   },
   {
    "duration": 9,
    "start_time": "2021-12-30T04:30:12.007Z"
   },
   {
    "duration": 12,
    "start_time": "2021-12-30T04:30:12.017Z"
   },
   {
    "duration": 17,
    "start_time": "2021-12-30T04:30:12.031Z"
   },
   {
    "duration": 47,
    "start_time": "2021-12-30T04:30:12.050Z"
   },
   {
    "duration": 15,
    "start_time": "2021-12-30T04:30:12.099Z"
   },
   {
    "duration": 22,
    "start_time": "2021-12-30T04:30:12.115Z"
   },
   {
    "duration": 4,
    "start_time": "2021-12-30T04:30:12.138Z"
   },
   {
    "duration": 8,
    "start_time": "2021-12-30T04:30:12.143Z"
   },
   {
    "duration": 41,
    "start_time": "2021-12-30T04:30:12.152Z"
   },
   {
    "duration": 8,
    "start_time": "2021-12-30T04:30:12.195Z"
   },
   {
    "duration": 31,
    "start_time": "2021-12-30T04:30:12.205Z"
   },
   {
    "duration": 8,
    "start_time": "2021-12-30T04:30:12.237Z"
   },
   {
    "duration": 18,
    "start_time": "2021-12-30T04:30:12.247Z"
   },
   {
    "duration": 27,
    "start_time": "2021-12-30T04:30:12.266Z"
   },
   {
    "duration": 17,
    "start_time": "2021-12-30T04:30:12.294Z"
   },
   {
    "duration": 30,
    "start_time": "2021-12-30T04:30:12.313Z"
   },
   {
    "duration": 31,
    "start_time": "2021-12-30T04:30:12.344Z"
   },
   {
    "duration": 24,
    "start_time": "2021-12-30T04:30:12.376Z"
   },
   {
    "duration": 6,
    "start_time": "2021-12-30T04:30:12.402Z"
   },
   {
    "duration": 35,
    "start_time": "2021-12-30T04:30:12.409Z"
   },
   {
    "duration": 25,
    "start_time": "2021-12-30T04:30:12.446Z"
   },
   {
    "duration": 18,
    "start_time": "2021-12-30T04:30:12.473Z"
   },
   {
    "duration": 16,
    "start_time": "2021-12-30T04:30:12.493Z"
   },
   {
    "duration": 30,
    "start_time": "2021-12-30T04:30:12.511Z"
   },
   {
    "duration": 56,
    "start_time": "2021-12-30T04:30:12.547Z"
   },
   {
    "duration": 22,
    "start_time": "2021-12-30T04:30:12.605Z"
   },
   {
    "duration": 24,
    "start_time": "2021-12-30T04:30:12.629Z"
   },
   {
    "duration": 14,
    "start_time": "2021-12-30T04:30:12.654Z"
   },
   {
    "duration": 26,
    "start_time": "2021-12-30T04:30:12.670Z"
   },
   {
    "duration": 16,
    "start_time": "2021-12-30T04:30:12.698Z"
   },
   {
    "duration": 42,
    "start_time": "2021-12-30T04:30:12.716Z"
   },
   {
    "duration": 33,
    "start_time": "2021-12-30T04:30:12.760Z"
   },
   {
    "duration": 26,
    "start_time": "2021-12-30T04:30:12.795Z"
   },
   {
    "duration": 17,
    "start_time": "2021-12-30T04:30:12.823Z"
   },
   {
    "duration": 35,
    "start_time": "2021-12-30T04:30:12.842Z"
   },
   {
    "duration": 14,
    "start_time": "2021-12-30T04:30:12.879Z"
   },
   {
    "duration": 27,
    "start_time": "2021-12-30T04:30:12.895Z"
   },
   {
    "duration": 27,
    "start_time": "2021-12-30T04:30:12.923Z"
   },
   {
    "duration": 30,
    "start_time": "2021-12-30T04:30:12.952Z"
   },
   {
    "duration": 15,
    "start_time": "2021-12-30T04:30:12.984Z"
   },
   {
    "duration": 21,
    "start_time": "2021-12-30T04:30:13.000Z"
   },
   {
    "duration": 11,
    "start_time": "2021-12-30T04:31:06.483Z"
   },
   {
    "duration": 584,
    "start_time": "2021-12-30T13:05:19.568Z"
   },
   {
    "duration": 3,
    "start_time": "2021-12-30T13:05:20.154Z"
   },
   {
    "duration": 952,
    "start_time": "2021-12-30T13:05:20.158Z"
   },
   {
    "duration": 14,
    "start_time": "2021-12-30T13:05:21.111Z"
   },
   {
    "duration": 6,
    "start_time": "2021-12-30T13:05:21.127Z"
   },
   {
    "duration": 23,
    "start_time": "2021-12-30T13:05:21.134Z"
   },
   {
    "duration": 28,
    "start_time": "2021-12-30T13:05:21.158Z"
   },
   {
    "duration": 18,
    "start_time": "2021-12-30T13:05:21.188Z"
   },
   {
    "duration": 25,
    "start_time": "2021-12-30T13:05:21.207Z"
   },
   {
    "duration": 25,
    "start_time": "2021-12-30T13:05:21.233Z"
   },
   {
    "duration": 16,
    "start_time": "2021-12-30T13:05:21.260Z"
   },
   {
    "duration": 7,
    "start_time": "2021-12-30T13:05:21.277Z"
   },
   {
    "duration": 16,
    "start_time": "2021-12-30T13:05:21.285Z"
   },
   {
    "duration": 28,
    "start_time": "2021-12-30T13:05:21.303Z"
   },
   {
    "duration": 13,
    "start_time": "2021-12-30T13:05:21.341Z"
   },
   {
    "duration": 11,
    "start_time": "2021-12-30T13:05:21.355Z"
   },
   {
    "duration": 20,
    "start_time": "2021-12-30T13:05:21.367Z"
   },
   {
    "duration": 18,
    "start_time": "2021-12-30T13:05:21.389Z"
   },
   {
    "duration": 12,
    "start_time": "2021-12-30T13:05:21.408Z"
   },
   {
    "duration": 10,
    "start_time": "2021-12-30T13:05:21.422Z"
   },
   {
    "duration": 12,
    "start_time": "2021-12-30T13:05:21.434Z"
   },
   {
    "duration": 12,
    "start_time": "2021-12-30T13:05:21.448Z"
   },
   {
    "duration": 13,
    "start_time": "2021-12-30T13:05:21.463Z"
   },
   {
    "duration": 11,
    "start_time": "2021-12-30T13:05:21.478Z"
   },
   {
    "duration": 17,
    "start_time": "2021-12-30T13:05:21.490Z"
   },
   {
    "duration": 40,
    "start_time": "2021-12-30T13:05:21.509Z"
   },
   {
    "duration": 14,
    "start_time": "2021-12-30T13:05:21.550Z"
   },
   {
    "duration": 9,
    "start_time": "2021-12-30T13:05:21.566Z"
   },
   {
    "duration": 294,
    "start_time": "2021-12-30T13:05:21.576Z"
   },
   {
    "duration": -447,
    "start_time": "2021-12-30T13:05:22.319Z"
   },
   {
    "duration": -471,
    "start_time": "2021-12-30T13:05:22.344Z"
   },
   {
    "duration": -538,
    "start_time": "2021-12-30T13:05:22.412Z"
   },
   {
    "duration": -552,
    "start_time": "2021-12-30T13:05:22.427Z"
   },
   {
    "duration": -561,
    "start_time": "2021-12-30T13:05:22.437Z"
   },
   {
    "duration": -575,
    "start_time": "2021-12-30T13:05:22.452Z"
   },
   {
    "duration": -592,
    "start_time": "2021-12-30T13:05:22.470Z"
   },
   {
    "duration": -607,
    "start_time": "2021-12-30T13:05:22.486Z"
   },
   {
    "duration": -624,
    "start_time": "2021-12-30T13:05:22.504Z"
   },
   {
    "duration": -640,
    "start_time": "2021-12-30T13:05:22.521Z"
   },
   {
    "duration": -681,
    "start_time": "2021-12-30T13:05:22.563Z"
   },
   {
    "duration": -699,
    "start_time": "2021-12-30T13:05:22.582Z"
   },
   {
    "duration": -720,
    "start_time": "2021-12-30T13:05:22.604Z"
   },
   {
    "duration": -738,
    "start_time": "2021-12-30T13:05:22.623Z"
   },
   {
    "duration": -761,
    "start_time": "2021-12-30T13:05:22.647Z"
   },
   {
    "duration": -779,
    "start_time": "2021-12-30T13:05:22.666Z"
   },
   {
    "duration": -799,
    "start_time": "2021-12-30T13:05:22.687Z"
   },
   {
    "duration": -824,
    "start_time": "2021-12-30T13:05:22.713Z"
   },
   {
    "duration": -840,
    "start_time": "2021-12-30T13:05:22.730Z"
   },
   {
    "duration": -856,
    "start_time": "2021-12-30T13:05:22.747Z"
   },
   {
    "duration": -873,
    "start_time": "2021-12-30T13:05:22.765Z"
   },
   {
    "duration": -891,
    "start_time": "2021-12-30T13:05:22.783Z"
   },
   {
    "duration": -905,
    "start_time": "2021-12-30T13:05:22.798Z"
   },
   {
    "duration": -921,
    "start_time": "2021-12-30T13:05:22.815Z"
   },
   {
    "duration": -937,
    "start_time": "2021-12-30T13:05:22.832Z"
   },
   {
    "duration": -951,
    "start_time": "2021-12-30T13:05:22.847Z"
   },
   {
    "duration": -965,
    "start_time": "2021-12-30T13:05:22.862Z"
   },
   {
    "duration": -973,
    "start_time": "2021-12-30T13:05:22.871Z"
   },
   {
    "duration": -991,
    "start_time": "2021-12-30T13:05:22.890Z"
   },
   {
    "duration": -1011,
    "start_time": "2021-12-30T13:05:22.911Z"
   },
   {
    "duration": -1020,
    "start_time": "2021-12-30T13:05:22.921Z"
   },
   {
    "duration": -1037,
    "start_time": "2021-12-30T13:05:22.939Z"
   },
   {
    "duration": -1058,
    "start_time": "2021-12-30T13:05:22.961Z"
   },
   {
    "duration": -1068,
    "start_time": "2021-12-30T13:05:22.972Z"
   },
   {
    "duration": -1101,
    "start_time": "2021-12-30T13:05:23.006Z"
   },
   {
    "duration": -1122,
    "start_time": "2021-12-30T13:05:23.028Z"
   },
   {
    "duration": -1139,
    "start_time": "2021-12-30T13:05:23.046Z"
   },
   {
    "duration": -1155,
    "start_time": "2021-12-30T13:05:23.063Z"
   },
   {
    "duration": -1169,
    "start_time": "2021-12-30T13:05:23.078Z"
   },
   {
    "duration": -1148,
    "start_time": "2021-12-30T13:05:23.089Z"
   },
   {
    "duration": -1163,
    "start_time": "2021-12-30T13:05:23.105Z"
   },
   {
    "duration": -1185,
    "start_time": "2021-12-30T13:05:23.128Z"
   },
   {
    "duration": -1195,
    "start_time": "2021-12-30T13:05:23.139Z"
   },
   {
    "duration": -1209,
    "start_time": "2021-12-30T13:05:23.154Z"
   },
   {
    "duration": -1224,
    "start_time": "2021-12-30T13:05:23.170Z"
   },
   {
    "duration": -1236,
    "start_time": "2021-12-30T13:05:23.183Z"
   },
   {
    "duration": -1251,
    "start_time": "2021-12-30T13:05:23.198Z"
   },
   {
    "duration": -1264,
    "start_time": "2021-12-30T13:05:23.212Z"
   },
   {
    "duration": -1271,
    "start_time": "2021-12-30T13:05:23.220Z"
   },
   {
    "duration": -1285,
    "start_time": "2021-12-30T13:05:23.235Z"
   },
   {
    "duration": -1314,
    "start_time": "2021-12-30T13:05:23.264Z"
   },
   {
    "duration": -1326,
    "start_time": "2021-12-30T13:05:23.277Z"
   },
   {
    "duration": -1339,
    "start_time": "2021-12-30T13:05:23.291Z"
   },
   {
    "duration": -1360,
    "start_time": "2021-12-30T13:05:23.313Z"
   },
   {
    "duration": -1375,
    "start_time": "2021-12-30T13:05:23.329Z"
   },
   {
    "duration": -1385,
    "start_time": "2021-12-30T13:05:23.339Z"
   },
   {
    "duration": 275,
    "start_time": "2021-12-30T13:06:40.489Z"
   },
   {
    "duration": 4,
    "start_time": "2021-12-30T13:06:48.363Z"
   },
   {
    "duration": 8,
    "start_time": "2021-12-30T13:06:49.580Z"
   },
   {
    "duration": 278,
    "start_time": "2021-12-30T13:07:42.259Z"
   },
   {
    "duration": 266,
    "start_time": "2021-12-30T13:07:53.481Z"
   },
   {
    "duration": 3,
    "start_time": "2021-12-30T13:08:07.052Z"
   },
   {
    "duration": 8,
    "start_time": "2021-12-30T13:08:07.059Z"
   },
   {
    "duration": 295,
    "start_time": "2021-12-30T13:08:07.069Z"
   },
   {
    "duration": 7,
    "start_time": "2021-12-30T13:08:07.366Z"
   },
   {
    "duration": 19,
    "start_time": "2021-12-30T13:08:07.375Z"
   },
   {
    "duration": 12,
    "start_time": "2021-12-30T13:08:07.396Z"
   },
   {
    "duration": 13,
    "start_time": "2021-12-30T13:08:07.409Z"
   },
   {
    "duration": 19,
    "start_time": "2021-12-30T13:08:07.425Z"
   },
   {
    "duration": 17,
    "start_time": "2021-12-30T13:08:07.446Z"
   },
   {
    "duration": 22,
    "start_time": "2021-12-30T13:08:07.465Z"
   },
   {
    "duration": 17,
    "start_time": "2021-12-30T13:08:07.488Z"
   },
   {
    "duration": 39,
    "start_time": "2021-12-30T13:08:07.507Z"
   },
   {
    "duration": 14,
    "start_time": "2021-12-30T13:08:07.548Z"
   },
   {
    "duration": 21,
    "start_time": "2021-12-30T13:08:07.563Z"
   },
   {
    "duration": 12,
    "start_time": "2021-12-30T13:08:07.586Z"
   },
   {
    "duration": 11,
    "start_time": "2021-12-30T13:08:07.599Z"
   },
   {
    "duration": 12,
    "start_time": "2021-12-30T13:08:07.642Z"
   },
   {
    "duration": 15,
    "start_time": "2021-12-30T13:08:07.656Z"
   },
   {
    "duration": 6,
    "start_time": "2021-12-30T13:08:07.673Z"
   },
   {
    "duration": 11,
    "start_time": "2021-12-30T13:08:07.682Z"
   },
   {
    "duration": 13,
    "start_time": "2021-12-30T13:08:07.696Z"
   },
   {
    "duration": 30,
    "start_time": "2021-12-30T13:08:07.711Z"
   },
   {
    "duration": 12,
    "start_time": "2021-12-30T13:08:07.743Z"
   },
   {
    "duration": 11,
    "start_time": "2021-12-30T13:08:07.757Z"
   },
   {
    "duration": 18,
    "start_time": "2021-12-30T13:08:07.769Z"
   },
   {
    "duration": 11,
    "start_time": "2021-12-30T13:08:07.789Z"
   },
   {
    "duration": 67,
    "start_time": "2021-12-30T13:08:07.801Z"
   },
   {
    "duration": 9,
    "start_time": "2021-12-30T13:08:07.870Z"
   },
   {
    "duration": 253,
    "start_time": "2021-12-30T13:08:07.880Z"
   },
   {
    "duration": -41,
    "start_time": "2021-12-30T13:08:08.177Z"
   },
   {
    "duration": -50,
    "start_time": "2021-12-30T13:08:08.187Z"
   },
   {
    "duration": -79,
    "start_time": "2021-12-30T13:08:08.217Z"
   },
   {
    "duration": -97,
    "start_time": "2021-12-30T13:08:08.236Z"
   },
   {
    "duration": -115,
    "start_time": "2021-12-30T13:08:08.255Z"
   },
   {
    "duration": -129,
    "start_time": "2021-12-30T13:08:08.270Z"
   },
   {
    "duration": -145,
    "start_time": "2021-12-30T13:08:08.287Z"
   },
   {
    "duration": -161,
    "start_time": "2021-12-30T13:08:08.304Z"
   },
   {
    "duration": -177,
    "start_time": "2021-12-30T13:08:08.321Z"
   },
   {
    "duration": -193,
    "start_time": "2021-12-30T13:08:08.338Z"
   },
   {
    "duration": -209,
    "start_time": "2021-12-30T13:08:08.355Z"
   },
   {
    "duration": -226,
    "start_time": "2021-12-30T13:08:08.373Z"
   },
   {
    "duration": -251,
    "start_time": "2021-12-30T13:08:08.399Z"
   },
   {
    "duration": -266,
    "start_time": "2021-12-30T13:08:08.415Z"
   },
   {
    "duration": -283,
    "start_time": "2021-12-30T13:08:08.433Z"
   },
   {
    "duration": -303,
    "start_time": "2021-12-30T13:08:08.453Z"
   },
   {
    "duration": -326,
    "start_time": "2021-12-30T13:08:08.477Z"
   },
   {
    "duration": -335,
    "start_time": "2021-12-30T13:08:08.487Z"
   },
   {
    "duration": -377,
    "start_time": "2021-12-30T13:08:08.530Z"
   },
   {
    "duration": -385,
    "start_time": "2021-12-30T13:08:08.539Z"
   },
   {
    "duration": -407,
    "start_time": "2021-12-30T13:08:08.562Z"
   },
   {
    "duration": -419,
    "start_time": "2021-12-30T13:08:08.575Z"
   },
   {
    "duration": -437,
    "start_time": "2021-12-30T13:08:08.594Z"
   },
   {
    "duration": -446,
    "start_time": "2021-12-30T13:08:08.604Z"
   },
   {
    "duration": -465,
    "start_time": "2021-12-30T13:08:08.623Z"
   },
   {
    "duration": -481,
    "start_time": "2021-12-30T13:08:08.640Z"
   },
   {
    "duration": -506,
    "start_time": "2021-12-30T13:08:08.666Z"
   },
   {
    "duration": -523,
    "start_time": "2021-12-30T13:08:08.684Z"
   },
   {
    "duration": -541,
    "start_time": "2021-12-30T13:08:08.703Z"
   },
   {
    "duration": -558,
    "start_time": "2021-12-30T13:08:08.721Z"
   },
   {
    "duration": -575,
    "start_time": "2021-12-30T13:08:08.739Z"
   },
   {
    "duration": -601,
    "start_time": "2021-12-30T13:08:08.765Z"
   },
   {
    "duration": -617,
    "start_time": "2021-12-30T13:08:08.783Z"
   },
   {
    "duration": -636,
    "start_time": "2021-12-30T13:08:08.803Z"
   },
   {
    "duration": -653,
    "start_time": "2021-12-30T13:08:08.821Z"
   },
   {
    "duration": -670,
    "start_time": "2021-12-30T13:08:08.839Z"
   },
   {
    "duration": -693,
    "start_time": "2021-12-30T13:08:08.863Z"
   },
   {
    "duration": -701,
    "start_time": "2021-12-30T13:08:08.872Z"
   },
   {
    "duration": -724,
    "start_time": "2021-12-30T13:08:08.896Z"
   },
   {
    "duration": -733,
    "start_time": "2021-12-30T13:08:08.906Z"
   },
   {
    "duration": -757,
    "start_time": "2021-12-30T13:08:08.931Z"
   },
   {
    "duration": -773,
    "start_time": "2021-12-30T13:08:08.948Z"
   },
   {
    "duration": -793,
    "start_time": "2021-12-30T13:08:08.969Z"
   },
   {
    "duration": -809,
    "start_time": "2021-12-30T13:08:08.986Z"
   },
   {
    "duration": -827,
    "start_time": "2021-12-30T13:08:09.005Z"
   },
   {
    "duration": -841,
    "start_time": "2021-12-30T13:08:09.020Z"
   },
   {
    "duration": -858,
    "start_time": "2021-12-30T13:08:09.038Z"
   },
   {
    "duration": -813,
    "start_time": "2021-12-30T13:08:09.054Z"
   },
   {
    "duration": -829,
    "start_time": "2021-12-30T13:08:09.071Z"
   },
   {
    "duration": -845,
    "start_time": "2021-12-30T13:08:09.088Z"
   },
   {
    "duration": -861,
    "start_time": "2021-12-30T13:08:09.105Z"
   },
   {
    "duration": -878,
    "start_time": "2021-12-30T13:08:09.123Z"
   },
   {
    "duration": -903,
    "start_time": "2021-12-30T13:08:09.149Z"
   },
   {
    "duration": -918,
    "start_time": "2021-12-30T13:08:09.165Z"
   },
   {
    "duration": -940,
    "start_time": "2021-12-30T13:08:09.188Z"
   },
   {
    "duration": -956,
    "start_time": "2021-12-30T13:08:09.205Z"
   },
   {
    "duration": -973,
    "start_time": "2021-12-30T13:08:09.222Z"
   },
   {
    "duration": -989,
    "start_time": "2021-12-30T13:08:09.239Z"
   },
   {
    "duration": -1015,
    "start_time": "2021-12-30T13:08:09.266Z"
   },
   {
    "duration": 3,
    "start_time": "2021-12-30T13:08:15.298Z"
   },
   {
    "duration": 5,
    "start_time": "2021-12-30T13:08:15.305Z"
   },
   {
    "duration": 299,
    "start_time": "2021-12-30T13:08:15.312Z"
   },
   {
    "duration": 9,
    "start_time": "2021-12-30T13:08:15.613Z"
   },
   {
    "duration": 18,
    "start_time": "2021-12-30T13:08:15.624Z"
   },
   {
    "duration": 11,
    "start_time": "2021-12-30T13:08:15.644Z"
   },
   {
    "duration": 16,
    "start_time": "2021-12-30T13:08:15.656Z"
   },
   {
    "duration": 10,
    "start_time": "2021-12-30T13:08:15.673Z"
   },
   {
    "duration": 20,
    "start_time": "2021-12-30T13:08:15.686Z"
   },
   {
    "duration": 46,
    "start_time": "2021-12-30T13:08:15.708Z"
   },
   {
    "duration": 18,
    "start_time": "2021-12-30T13:08:15.755Z"
   },
   {
    "duration": 7,
    "start_time": "2021-12-30T13:08:15.774Z"
   },
   {
    "duration": 15,
    "start_time": "2021-12-30T13:08:15.783Z"
   },
   {
    "duration": 53,
    "start_time": "2021-12-30T13:08:15.800Z"
   },
   {
    "duration": 13,
    "start_time": "2021-12-30T13:08:15.855Z"
   },
   {
    "duration": 10,
    "start_time": "2021-12-30T13:08:15.870Z"
   },
   {
    "duration": 5,
    "start_time": "2021-12-30T13:08:15.881Z"
   },
   {
    "duration": 17,
    "start_time": "2021-12-30T13:08:15.887Z"
   },
   {
    "duration": 35,
    "start_time": "2021-12-30T13:08:15.906Z"
   },
   {
    "duration": 6,
    "start_time": "2021-12-30T13:08:15.943Z"
   },
   {
    "duration": 17,
    "start_time": "2021-12-30T13:08:15.950Z"
   },
   {
    "duration": 9,
    "start_time": "2021-12-30T13:08:15.969Z"
   },
   {
    "duration": 13,
    "start_time": "2021-12-30T13:08:15.980Z"
   },
   {
    "duration": 10,
    "start_time": "2021-12-30T13:08:15.997Z"
   },
   {
    "duration": 40,
    "start_time": "2021-12-30T13:08:16.010Z"
   },
   {
    "duration": 11,
    "start_time": "2021-12-30T13:08:16.052Z"
   },
   {
    "duration": 12,
    "start_time": "2021-12-30T13:08:16.065Z"
   },
   {
    "duration": 9,
    "start_time": "2021-12-30T13:08:16.079Z"
   },
   {
    "duration": 245,
    "start_time": "2021-12-30T13:08:16.090Z"
   },
   {
    "duration": -280,
    "start_time": "2021-12-30T13:08:16.617Z"
   },
   {
    "duration": -305,
    "start_time": "2021-12-30T13:08:16.643Z"
   },
   {
    "duration": -314,
    "start_time": "2021-12-30T13:08:16.653Z"
   },
   {
    "duration": -344,
    "start_time": "2021-12-30T13:08:16.684Z"
   },
   {
    "duration": -363,
    "start_time": "2021-12-30T13:08:16.704Z"
   },
   {
    "duration": -371,
    "start_time": "2021-12-30T13:08:16.713Z"
   },
   {
    "duration": -390,
    "start_time": "2021-12-30T13:08:16.733Z"
   },
   {
    "duration": -410,
    "start_time": "2021-12-30T13:08:16.754Z"
   },
   {
    "duration": -416,
    "start_time": "2021-12-30T13:08:16.761Z"
   },
   {
    "duration": -435,
    "start_time": "2021-12-30T13:08:16.781Z"
   },
   {
    "duration": -456,
    "start_time": "2021-12-30T13:08:16.803Z"
   },
   {
    "duration": -475,
    "start_time": "2021-12-30T13:08:16.822Z"
   },
   {
    "duration": -482,
    "start_time": "2021-12-30T13:08:16.830Z"
   },
   {
    "duration": -501,
    "start_time": "2021-12-30T13:08:16.850Z"
   },
   {
    "duration": -528,
    "start_time": "2021-12-30T13:08:16.878Z"
   },
   {
    "duration": -549,
    "start_time": "2021-12-30T13:08:16.900Z"
   },
   {
    "duration": -578,
    "start_time": "2021-12-30T13:08:16.930Z"
   },
   {
    "duration": -600,
    "start_time": "2021-12-30T13:08:16.952Z"
   },
   {
    "duration": -617,
    "start_time": "2021-12-30T13:08:16.970Z"
   },
   {
    "duration": -624,
    "start_time": "2021-12-30T13:08:16.978Z"
   },
   {
    "duration": -641,
    "start_time": "2021-12-30T13:08:16.996Z"
   },
   {
    "duration": -663,
    "start_time": "2021-12-30T13:08:17.019Z"
   },
   {
    "duration": -689,
    "start_time": "2021-12-30T13:08:17.046Z"
   },
   {
    "duration": -700,
    "start_time": "2021-12-30T13:08:17.058Z"
   },
   {
    "duration": -708,
    "start_time": "2021-12-30T13:08:17.067Z"
   },
   {
    "duration": -729,
    "start_time": "2021-12-30T13:08:17.088Z"
   },
   {
    "duration": -748,
    "start_time": "2021-12-30T13:08:17.108Z"
   },
   {
    "duration": -756,
    "start_time": "2021-12-30T13:08:17.117Z"
   },
   {
    "duration": -776,
    "start_time": "2021-12-30T13:08:17.138Z"
   },
   {
    "duration": -783,
    "start_time": "2021-12-30T13:08:17.146Z"
   },
   {
    "duration": -820,
    "start_time": "2021-12-30T13:08:17.184Z"
   },
   {
    "duration": -829,
    "start_time": "2021-12-30T13:08:17.194Z"
   },
   {
    "duration": -851,
    "start_time": "2021-12-30T13:08:17.217Z"
   },
   {
    "duration": -872,
    "start_time": "2021-12-30T13:08:17.239Z"
   },
   {
    "duration": -878,
    "start_time": "2021-12-30T13:08:17.246Z"
   },
   {
    "duration": -902,
    "start_time": "2021-12-30T13:08:17.271Z"
   },
   {
    "duration": -920,
    "start_time": "2021-12-30T13:08:17.290Z"
   },
   {
    "duration": -928,
    "start_time": "2021-12-30T13:08:17.299Z"
   },
   {
    "duration": -954,
    "start_time": "2021-12-30T13:08:17.325Z"
   },
   {
    "duration": -966,
    "start_time": "2021-12-30T13:08:17.338Z"
   },
   {
    "duration": -994,
    "start_time": "2021-12-30T13:08:17.367Z"
   },
   {
    "duration": -1026,
    "start_time": "2021-12-30T13:08:17.400Z"
   },
   {
    "duration": -1045,
    "start_time": "2021-12-30T13:08:17.420Z"
   },
   {
    "duration": -1064,
    "start_time": "2021-12-30T13:08:17.440Z"
   },
   {
    "duration": -1071,
    "start_time": "2021-12-30T13:08:17.448Z"
   },
   {
    "duration": -1091,
    "start_time": "2021-12-30T13:08:17.469Z"
   },
   {
    "duration": -1113,
    "start_time": "2021-12-30T13:08:17.492Z"
   },
   {
    "duration": -1123,
    "start_time": "2021-12-30T13:08:17.502Z"
   },
   {
    "duration": -1141,
    "start_time": "2021-12-30T13:08:17.521Z"
   },
   {
    "duration": -1089,
    "start_time": "2021-12-30T13:08:17.529Z"
   },
   {
    "duration": -1110,
    "start_time": "2021-12-30T13:08:17.552Z"
   },
   {
    "duration": -1130,
    "start_time": "2021-12-30T13:08:17.573Z"
   },
   {
    "duration": -1138,
    "start_time": "2021-12-30T13:08:17.581Z"
   },
   {
    "duration": -1172,
    "start_time": "2021-12-30T13:08:17.616Z"
   },
   {
    "duration": -1183,
    "start_time": "2021-12-30T13:08:17.628Z"
   },
   {
    "duration": -1193,
    "start_time": "2021-12-30T13:08:17.639Z"
   },
   {
    "duration": -1199,
    "start_time": "2021-12-30T13:08:17.646Z"
   },
   {
    "duration": -1218,
    "start_time": "2021-12-30T13:08:17.666Z"
   },
   {
    "duration": -1243,
    "start_time": "2021-12-30T13:08:17.693Z"
   },
   {
    "duration": 279,
    "start_time": "2021-12-30T13:08:22.162Z"
   },
   {
    "duration": 3,
    "start_time": "2021-12-30T13:08:33.084Z"
   },
   {
    "duration": 279,
    "start_time": "2021-12-30T13:08:34.580Z"
   },
   {
    "duration": 5,
    "start_time": "2021-12-30T13:08:35.220Z"
   },
   {
    "duration": 3,
    "start_time": "2021-12-30T13:08:43.652Z"
   },
   {
    "duration": 2,
    "start_time": "2021-12-30T13:08:44.511Z"
   },
   {
    "duration": 311,
    "start_time": "2021-12-30T13:08:45.171Z"
   },
   {
    "duration": 9,
    "start_time": "2021-12-30T13:08:45.766Z"
   },
   {
    "duration": 8,
    "start_time": "2021-12-30T13:08:47.559Z"
   },
   {
    "duration": 9,
    "start_time": "2021-12-30T13:08:51.814Z"
   },
   {
    "duration": 10,
    "start_time": "2021-12-30T13:08:53.196Z"
   },
   {
    "duration": 9,
    "start_time": "2021-12-30T13:08:54.203Z"
   },
   {
    "duration": 18,
    "start_time": "2021-12-30T13:08:57.371Z"
   },
   {
    "duration": 20,
    "start_time": "2021-12-30T13:08:58.906Z"
   },
   {
    "duration": 17,
    "start_time": "2021-12-30T13:09:00.059Z"
   },
   {
    "duration": 7,
    "start_time": "2021-12-30T13:09:00.748Z"
   },
   {
    "duration": 17,
    "start_time": "2021-12-30T13:09:01.941Z"
   },
   {
    "duration": 25,
    "start_time": "2021-12-30T13:09:02.610Z"
   },
   {
    "duration": 14,
    "start_time": "2021-12-30T13:09:03.920Z"
   },
   {
    "duration": 9,
    "start_time": "2021-12-30T13:09:04.580Z"
   },
   {
    "duration": 5,
    "start_time": "2021-12-30T13:09:05.151Z"
   },
   {
    "duration": 17,
    "start_time": "2021-12-30T13:09:06.692Z"
   },
   {
    "duration": 7,
    "start_time": "2021-12-30T13:09:07.237Z"
   },
   {
    "duration": 6,
    "start_time": "2021-12-30T13:09:07.932Z"
   },
   {
    "duration": 12,
    "start_time": "2021-12-30T13:09:09.153Z"
   },
   {
    "duration": 16,
    "start_time": "2021-12-30T13:09:09.772Z"
   },
   {
    "duration": 12,
    "start_time": "2021-12-30T13:09:10.477Z"
   },
   {
    "duration": 12,
    "start_time": "2021-12-30T13:09:11.725Z"
   },
   {
    "duration": 17,
    "start_time": "2021-12-30T13:09:14.090Z"
   },
   {
    "duration": 13,
    "start_time": "2021-12-30T13:09:15.445Z"
   },
   {
    "duration": 12,
    "start_time": "2021-12-30T13:09:16.378Z"
   },
   {
    "duration": 10,
    "start_time": "2021-12-30T13:09:17.467Z"
   },
   {
    "duration": 293,
    "start_time": "2021-12-30T13:09:18.946Z"
   },
   {
    "duration": 309,
    "start_time": "2021-12-30T13:09:19.603Z"
   },
   {
    "duration": 11,
    "start_time": "2021-12-30T13:09:20.238Z"
   },
   {
    "duration": 11,
    "start_time": "2021-12-30T13:09:29.699Z"
   },
   {
    "duration": 7,
    "start_time": "2021-12-30T13:09:30.562Z"
   },
   {
    "duration": 4,
    "start_time": "2021-12-30T13:09:31.416Z"
   },
   {
    "duration": 13,
    "start_time": "2021-12-30T13:09:32.074Z"
   },
   {
    "duration": 12,
    "start_time": "2021-12-30T13:09:32.691Z"
   },
   {
    "duration": 5,
    "start_time": "2021-12-30T13:09:33.333Z"
   },
   {
    "duration": 6,
    "start_time": "2021-12-30T13:09:33.914Z"
   },
   {
    "duration": 4,
    "start_time": "2021-12-30T13:09:34.491Z"
   },
   {
    "duration": 7,
    "start_time": "2021-12-30T13:09:35.096Z"
   },
   {
    "duration": 5,
    "start_time": "2021-12-30T13:09:35.651Z"
   },
   {
    "duration": 14,
    "start_time": "2021-12-30T13:09:36.282Z"
   },
   {
    "duration": 16,
    "start_time": "2021-12-30T13:09:36.907Z"
   },
   {
    "duration": 12,
    "start_time": "2021-12-30T13:09:37.475Z"
   },
   {
    "duration": 16,
    "start_time": "2021-12-30T13:09:38.114Z"
   },
   {
    "duration": 10,
    "start_time": "2021-12-30T13:09:38.723Z"
   },
   {
    "duration": 12,
    "start_time": "2021-12-30T13:09:39.330Z"
   },
   {
    "duration": 19,
    "start_time": "2021-12-30T13:09:39.937Z"
   },
   {
    "duration": 10,
    "start_time": "2021-12-30T13:09:40.502Z"
   },
   {
    "duration": 18,
    "start_time": "2021-12-30T13:09:41.164Z"
   },
   {
    "duration": 27,
    "start_time": "2021-12-30T13:09:42.333Z"
   },
   {
    "duration": 4,
    "start_time": "2021-12-30T13:09:42.987Z"
   },
   {
    "duration": 6,
    "start_time": "2021-12-30T13:09:43.547Z"
   },
   {
    "duration": 13,
    "start_time": "2021-12-30T13:09:44.175Z"
   },
   {
    "duration": 9,
    "start_time": "2021-12-30T13:09:44.842Z"
   },
   {
    "duration": 24,
    "start_time": "2021-12-30T13:09:45.470Z"
   },
   {
    "duration": 8,
    "start_time": "2021-12-30T13:09:46.068Z"
   },
   {
    "duration": 4,
    "start_time": "2021-12-30T13:09:46.650Z"
   },
   {
    "duration": 13,
    "start_time": "2021-12-30T13:09:47.218Z"
   },
   {
    "duration": 6,
    "start_time": "2021-12-30T13:09:47.764Z"
   },
   {
    "duration": 9,
    "start_time": "2021-12-30T13:09:48.356Z"
   },
   {
    "duration": 18,
    "start_time": "2021-12-30T13:09:48.942Z"
   },
   {
    "duration": 17,
    "start_time": "2021-12-30T13:09:49.534Z"
   },
   {
    "duration": 5,
    "start_time": "2021-12-30T13:09:50.046Z"
   },
   {
    "duration": 11,
    "start_time": "2021-12-30T13:09:50.610Z"
   },
   {
    "duration": 9,
    "start_time": "2021-12-30T13:09:51.147Z"
   },
   {
    "duration": 11,
    "start_time": "2021-12-30T13:09:51.723Z"
   },
   {
    "duration": 4,
    "start_time": "2021-12-30T13:09:52.265Z"
   },
   {
    "duration": 8,
    "start_time": "2021-12-30T13:09:52.822Z"
   },
   {
    "duration": 14,
    "start_time": "2021-12-30T13:09:54.438Z"
   },
   {
    "duration": 8,
    "start_time": "2021-12-30T13:09:59.193Z"
   },
   {
    "duration": 10,
    "start_time": "2021-12-30T13:10:01.570Z"
   },
   {
    "duration": 7,
    "start_time": "2021-12-30T13:10:04.660Z"
   },
   {
    "duration": 16,
    "start_time": "2021-12-30T13:10:05.338Z"
   },
   {
    "duration": 7,
    "start_time": "2021-12-30T13:10:05.874Z"
   },
   {
    "duration": 5,
    "start_time": "2021-12-30T13:10:06.377Z"
   },
   {
    "duration": 12,
    "start_time": "2021-12-30T13:10:06.898Z"
   },
   {
    "duration": 7,
    "start_time": "2021-12-30T13:10:07.457Z"
   },
   {
    "duration": 13,
    "start_time": "2021-12-30T13:10:08.035Z"
   },
   {
    "duration": 16,
    "start_time": "2021-12-30T13:10:08.444Z"
   },
   {
    "duration": 8,
    "start_time": "2021-12-30T13:10:09.005Z"
   },
   {
    "duration": 11,
    "start_time": "2021-12-30T13:10:09.557Z"
   },
   {
    "duration": 12,
    "start_time": "2021-12-30T13:10:10.773Z"
   },
   {
    "duration": 4,
    "start_time": "2021-12-30T13:10:11.666Z"
   },
   {
    "duration": 7,
    "start_time": "2021-12-30T13:10:12.331Z"
   },
   {
    "duration": 11,
    "start_time": "2021-12-30T13:10:12.943Z"
   },
   {
    "duration": 4,
    "start_time": "2021-12-30T13:10:13.575Z"
   },
   {
    "duration": 7,
    "start_time": "2021-12-30T13:10:14.356Z"
   },
   {
    "duration": 6,
    "start_time": "2021-12-30T13:10:15.551Z"
   },
   {
    "duration": 14,
    "start_time": "2021-12-30T13:11:06.319Z"
   },
   {
    "duration": 7,
    "start_time": "2021-12-30T13:11:30.250Z"
   },
   {
    "duration": 391,
    "start_time": "2021-12-30T13:20:06.481Z"
   },
   {
    "duration": 3,
    "start_time": "2021-12-30T13:20:14.474Z"
   },
   {
    "duration": 268,
    "start_time": "2021-12-30T13:24:35.328Z"
   },
   {
    "duration": 246,
    "start_time": "2021-12-30T13:24:54.457Z"
   },
   {
    "duration": 3,
    "start_time": "2021-12-30T13:26:08.008Z"
   },
   {
    "duration": 8320,
    "start_time": "2021-12-30T13:26:09.108Z"
   },
   {
    "duration": 3,
    "start_time": "2021-12-30T13:26:44.791Z"
   },
   {
    "duration": 7530,
    "start_time": "2021-12-30T13:26:45.977Z"
   },
   {
    "duration": 4134,
    "start_time": "2021-12-30T13:27:38.312Z"
   },
   {
    "duration": 14,
    "start_time": "2021-12-30T13:28:15.210Z"
   },
   {
    "duration": 3,
    "start_time": "2021-12-30T13:28:20.054Z"
   },
   {
    "duration": 3340,
    "start_time": "2021-12-30T13:28:22.419Z"
   },
   {
    "duration": 3,
    "start_time": "2021-12-30T13:28:35.510Z"
   },
   {
    "duration": 3,
    "start_time": "2021-12-30T13:28:53.831Z"
   },
   {
    "duration": 7251,
    "start_time": "2021-12-30T13:29:47.935Z"
   },
   {
    "duration": 3,
    "start_time": "2021-12-30T13:30:43.004Z"
   },
   {
    "duration": 4,
    "start_time": "2021-12-30T13:30:44.373Z"
   },
   {
    "duration": 7577,
    "start_time": "2021-12-30T13:30:44.921Z"
   },
   {
    "duration": 3424,
    "start_time": "2021-12-30T13:31:50.727Z"
   },
   {
    "duration": 3,
    "start_time": "2021-12-30T13:47:38.084Z"
   },
   {
    "duration": 3,
    "start_time": "2021-12-30T13:47:39.139Z"
   },
   {
    "duration": 7665,
    "start_time": "2021-12-30T13:47:40.531Z"
   },
   {
    "duration": 4,
    "start_time": "2021-12-30T13:48:36.425Z"
   },
   {
    "duration": 4,
    "start_time": "2021-12-30T13:48:37.984Z"
   },
   {
    "duration": 7053,
    "start_time": "2021-12-30T13:48:39.323Z"
   },
   {
    "duration": 3,
    "start_time": "2021-12-30T14:09:33.295Z"
   },
   {
    "duration": 2,
    "start_time": "2021-12-30T14:09:40.000Z"
   },
   {
    "duration": 2,
    "start_time": "2021-12-30T14:09:40.494Z"
   },
   {
    "duration": 278,
    "start_time": "2021-12-30T14:09:40.798Z"
   },
   {
    "duration": 8,
    "start_time": "2021-12-30T14:09:41.302Z"
   },
   {
    "duration": 7,
    "start_time": "2021-12-30T14:09:41.704Z"
   },
   {
    "duration": 8,
    "start_time": "2021-12-30T14:09:42.264Z"
   },
   {
    "duration": 10,
    "start_time": "2021-12-30T14:09:44.176Z"
   },
   {
    "duration": 8,
    "start_time": "2021-12-30T14:09:45.121Z"
   },
   {
    "duration": 15,
    "start_time": "2021-12-30T14:09:45.866Z"
   },
   {
    "duration": 19,
    "start_time": "2021-12-30T14:09:46.502Z"
   },
   {
    "duration": 16,
    "start_time": "2021-12-30T14:09:47.094Z"
   },
   {
    "duration": 6,
    "start_time": "2021-12-30T14:09:47.846Z"
   },
   {
    "duration": 14,
    "start_time": "2021-12-30T14:09:48.638Z"
   },
   {
    "duration": 22,
    "start_time": "2021-12-30T14:09:49.391Z"
   },
   {
    "duration": 12,
    "start_time": "2021-12-30T14:09:50.117Z"
   },
   {
    "duration": 9,
    "start_time": "2021-12-30T14:09:51.031Z"
   },
   {
    "duration": 5,
    "start_time": "2021-12-30T14:09:51.726Z"
   },
   {
    "duration": 14,
    "start_time": "2021-12-30T14:09:52.503Z"
   },
   {
    "duration": 7,
    "start_time": "2021-12-30T14:09:53.189Z"
   },
   {
    "duration": 6,
    "start_time": "2021-12-30T14:09:53.861Z"
   },
   {
    "duration": 10,
    "start_time": "2021-12-30T14:09:55.301Z"
   },
   {
    "duration": 10,
    "start_time": "2021-12-30T14:09:55.962Z"
   },
   {
    "duration": 14,
    "start_time": "2021-12-30T14:09:56.598Z"
   },
   {
    "duration": 10,
    "start_time": "2021-12-30T14:09:57.400Z"
   },
   {
    "duration": 18,
    "start_time": "2021-12-30T14:09:58.758Z"
   },
   {
    "duration": 11,
    "start_time": "2021-12-30T14:09:59.346Z"
   },
   {
    "duration": 12,
    "start_time": "2021-12-30T14:10:00.670Z"
   },
   {
    "duration": 10,
    "start_time": "2021-12-30T14:10:01.336Z"
   },
   {
    "duration": 11,
    "start_time": "2021-12-30T14:10:02.575Z"
   },
   {
    "duration": 6,
    "start_time": "2021-12-30T14:10:03.221Z"
   },
   {
    "duration": 4,
    "start_time": "2021-12-30T14:10:03.880Z"
   },
   {
    "duration": 12,
    "start_time": "2021-12-30T14:10:04.472Z"
   },
   {
    "duration": 13,
    "start_time": "2021-12-30T14:10:05.136Z"
   },
   {
    "duration": 5,
    "start_time": "2021-12-30T14:10:05.774Z"
   },
   {
    "duration": 5,
    "start_time": "2021-12-30T14:10:06.430Z"
   },
   {
    "duration": 4,
    "start_time": "2021-12-30T14:10:07.038Z"
   },
   {
    "duration": 7,
    "start_time": "2021-12-30T14:10:07.688Z"
   },
   {
    "duration": 5,
    "start_time": "2021-12-30T14:10:08.335Z"
   },
   {
    "duration": 12,
    "start_time": "2021-12-30T14:10:08.977Z"
   },
   {
    "duration": 15,
    "start_time": "2021-12-30T14:10:09.630Z"
   },
   {
    "duration": 10,
    "start_time": "2021-12-30T14:10:10.263Z"
   },
   {
    "duration": 15,
    "start_time": "2021-12-30T14:10:10.827Z"
   },
   {
    "duration": 10,
    "start_time": "2021-12-30T14:10:11.444Z"
   },
   {
    "duration": 13,
    "start_time": "2021-12-30T14:10:12.072Z"
   },
   {
    "duration": 17,
    "start_time": "2021-12-30T14:10:12.641Z"
   },
   {
    "duration": 10,
    "start_time": "2021-12-30T14:10:13.231Z"
   },
   {
    "duration": 15,
    "start_time": "2021-12-30T14:10:13.852Z"
   },
   {
    "duration": 26,
    "start_time": "2021-12-30T14:10:15.123Z"
   },
   {
    "duration": 4,
    "start_time": "2021-12-30T14:10:15.719Z"
   },
   {
    "duration": 4,
    "start_time": "2021-12-30T14:10:16.365Z"
   },
   {
    "duration": 11,
    "start_time": "2021-12-30T14:10:16.962Z"
   },
   {
    "duration": 9,
    "start_time": "2021-12-30T14:10:17.591Z"
   },
   {
    "duration": 21,
    "start_time": "2021-12-30T14:10:18.145Z"
   },
   {
    "duration": 8,
    "start_time": "2021-12-30T14:10:18.629Z"
   },
   {
    "duration": 3,
    "start_time": "2021-12-30T14:10:19.170Z"
   },
   {
    "duration": 14,
    "start_time": "2021-12-30T14:10:19.640Z"
   },
   {
    "duration": 5,
    "start_time": "2021-12-30T14:10:21.461Z"
   },
   {
    "duration": 11,
    "start_time": "2021-12-30T14:10:21.467Z"
   },
   {
    "duration": 19,
    "start_time": "2021-12-30T14:10:21.480Z"
   },
   {
    "duration": 12,
    "start_time": "2021-12-30T14:10:21.609Z"
   },
   {
    "duration": 6,
    "start_time": "2021-12-30T14:10:22.112Z"
   },
   {
    "duration": 9,
    "start_time": "2021-12-30T14:10:22.740Z"
   },
   {
    "duration": 4,
    "start_time": "2021-12-30T14:10:23.212Z"
   },
   {
    "duration": 12,
    "start_time": "2021-12-30T14:10:23.681Z"
   },
   {
    "duration": 3,
    "start_time": "2021-12-30T14:10:24.240Z"
   },
   {
    "duration": 7,
    "start_time": "2021-12-30T14:10:24.724Z"
   },
   {
    "duration": 13,
    "start_time": "2021-12-30T14:10:25.231Z"
   },
   {
    "duration": 6,
    "start_time": "2021-12-30T14:10:25.872Z"
   },
   {
    "duration": 9,
    "start_time": "2021-12-30T14:10:26.407Z"
   },
   {
    "duration": 6,
    "start_time": "2021-12-30T14:10:26.877Z"
   },
   {
    "duration": 12,
    "start_time": "2021-12-30T14:10:27.487Z"
   },
   {
    "duration": 6,
    "start_time": "2021-12-30T14:10:27.992Z"
   },
   {
    "duration": 4,
    "start_time": "2021-12-30T14:10:28.510Z"
   },
   {
    "duration": 12,
    "start_time": "2021-12-30T14:10:29.096Z"
   },
   {
    "duration": 6,
    "start_time": "2021-12-30T14:10:29.631Z"
   },
   {
    "duration": 18,
    "start_time": "2021-12-30T14:10:30.232Z"
   },
   {
    "duration": 17,
    "start_time": "2021-12-30T14:10:30.763Z"
   },
   {
    "duration": 7,
    "start_time": "2021-12-30T14:10:31.429Z"
   },
   {
    "duration": 11,
    "start_time": "2021-12-30T14:10:31.817Z"
   },
   {
    "duration": 12,
    "start_time": "2021-12-30T14:10:32.839Z"
   },
   {
    "duration": 4,
    "start_time": "2021-12-30T14:10:33.403Z"
   },
   {
    "duration": 7,
    "start_time": "2021-12-30T14:10:33.905Z"
   },
   {
    "duration": 10,
    "start_time": "2021-12-30T14:10:34.403Z"
   },
   {
    "duration": 4,
    "start_time": "2021-12-30T14:10:34.895Z"
   },
   {
    "duration": 6,
    "start_time": "2021-12-30T14:10:35.389Z"
   },
   {
    "duration": 7,
    "start_time": "2021-12-30T14:10:35.879Z"
   },
   {
    "duration": 14,
    "start_time": "2021-12-30T14:10:36.399Z"
   },
   {
    "duration": 3,
    "start_time": "2021-12-30T14:10:36.896Z"
   },
   {
    "duration": 3,
    "start_time": "2021-12-30T14:10:37.454Z"
   },
   {
    "duration": 7228,
    "start_time": "2021-12-30T14:10:37.912Z"
   },
   {
    "duration": 3,
    "start_time": "2021-12-30T14:11:20.830Z"
   },
   {
    "duration": 9109,
    "start_time": "2021-12-30T14:11:30.384Z"
   },
   {
    "duration": 4,
    "start_time": "2021-12-30T14:16:14.902Z"
   },
   {
    "duration": 8285,
    "start_time": "2021-12-30T14:16:15.991Z"
   },
   {
    "duration": 3,
    "start_time": "2021-12-30T14:19:20.157Z"
   },
   {
    "duration": 3,
    "start_time": "2021-12-30T14:20:45.296Z"
   },
   {
    "duration": 7541,
    "start_time": "2021-12-30T14:20:47.180Z"
   },
   {
    "duration": 3,
    "start_time": "2021-12-30T14:26:04.124Z"
   },
   {
    "duration": 27,
    "start_time": "2021-12-30T14:26:05.495Z"
   },
   {
    "duration": 13,
    "start_time": "2021-12-30T14:26:13.338Z"
   },
   {
    "duration": 3,
    "start_time": "2021-12-30T14:28:21.122Z"
   },
   {
    "duration": 7383,
    "start_time": "2021-12-30T14:28:22.154Z"
   },
   {
    "duration": 2,
    "start_time": "2021-12-30T14:29:57.372Z"
   },
   {
    "duration": 1383,
    "start_time": "2021-12-30T14:30:00.788Z"
   },
   {
    "duration": 2,
    "start_time": "2021-12-30T14:30:46.045Z"
   },
   {
    "duration": 2,
    "start_time": "2021-12-30T14:30:46.053Z"
   },
   {
    "duration": 283,
    "start_time": "2021-12-30T14:30:46.060Z"
   },
   {
    "duration": 9,
    "start_time": "2021-12-30T14:30:46.344Z"
   },
   {
    "duration": 12,
    "start_time": "2021-12-30T14:30:46.355Z"
   },
   {
    "duration": 11,
    "start_time": "2021-12-30T14:30:46.368Z"
   },
   {
    "duration": 17,
    "start_time": "2021-12-30T14:30:46.380Z"
   },
   {
    "duration": 42,
    "start_time": "2021-12-30T14:30:46.399Z"
   },
   {
    "duration": 15,
    "start_time": "2021-12-30T14:30:46.443Z"
   },
   {
    "duration": 17,
    "start_time": "2021-12-30T14:30:46.460Z"
   },
   {
    "duration": 15,
    "start_time": "2021-12-30T14:30:46.479Z"
   },
   {
    "duration": 47,
    "start_time": "2021-12-30T14:30:46.496Z"
   },
   {
    "duration": 13,
    "start_time": "2021-12-30T14:30:46.544Z"
   },
   {
    "duration": 20,
    "start_time": "2021-12-30T14:30:46.559Z"
   },
   {
    "duration": 11,
    "start_time": "2021-12-30T14:30:46.581Z"
   },
   {
    "duration": 50,
    "start_time": "2021-12-30T14:30:46.594Z"
   },
   {
    "duration": 5,
    "start_time": "2021-12-30T14:30:46.646Z"
   },
   {
    "duration": 14,
    "start_time": "2021-12-30T14:30:46.653Z"
   },
   {
    "duration": 5,
    "start_time": "2021-12-30T14:30:46.669Z"
   },
   {
    "duration": 9,
    "start_time": "2021-12-30T14:30:46.675Z"
   },
   {
    "duration": 12,
    "start_time": "2021-12-30T14:30:46.686Z"
   },
   {
    "duration": 45,
    "start_time": "2021-12-30T14:30:46.699Z"
   },
   {
    "duration": 11,
    "start_time": "2021-12-30T14:30:46.746Z"
   },
   {
    "duration": 11,
    "start_time": "2021-12-30T14:30:46.758Z"
   },
   {
    "duration": 18,
    "start_time": "2021-12-30T14:30:46.773Z"
   },
   {
    "duration": 16,
    "start_time": "2021-12-30T14:30:46.794Z"
   },
   {
    "duration": 17,
    "start_time": "2021-12-30T14:30:46.840Z"
   },
   {
    "duration": 13,
    "start_time": "2021-12-30T14:30:46.859Z"
   },
   {
    "duration": 9,
    "start_time": "2021-12-30T14:30:46.873Z"
   },
   {
    "duration": 8,
    "start_time": "2021-12-30T14:30:46.884Z"
   },
   {
    "duration": 7,
    "start_time": "2021-12-30T14:30:46.893Z"
   },
   {
    "duration": 40,
    "start_time": "2021-12-30T14:30:46.902Z"
   },
   {
    "duration": 11,
    "start_time": "2021-12-30T14:30:46.944Z"
   },
   {
    "duration": 7,
    "start_time": "2021-12-30T14:30:46.956Z"
   },
   {
    "duration": 10,
    "start_time": "2021-12-30T14:30:46.964Z"
   },
   {
    "duration": 8,
    "start_time": "2021-12-30T14:30:46.975Z"
   },
   {
    "duration": 11,
    "start_time": "2021-12-30T14:30:46.985Z"
   },
   {
    "duration": 10,
    "start_time": "2021-12-30T14:30:46.997Z"
   },
   {
    "duration": 22,
    "start_time": "2021-12-30T14:30:47.008Z"
   },
   {
    "duration": 16,
    "start_time": "2021-12-30T14:30:47.032Z"
   },
   {
    "duration": 14,
    "start_time": "2021-12-30T14:30:47.050Z"
   },
   {
    "duration": 15,
    "start_time": "2021-12-30T14:30:47.066Z"
   },
   {
    "duration": 9,
    "start_time": "2021-12-30T14:30:47.083Z"
   },
   {
    "duration": 14,
    "start_time": "2021-12-30T14:30:47.093Z"
   },
   {
    "duration": 45,
    "start_time": "2021-12-30T14:30:47.109Z"
   },
   {
    "duration": 8,
    "start_time": "2021-12-30T14:30:47.155Z"
   },
   {
    "duration": 14,
    "start_time": "2021-12-30T14:30:47.164Z"
   },
   {
    "duration": 24,
    "start_time": "2021-12-30T14:30:47.180Z"
   },
   {
    "duration": 3,
    "start_time": "2021-12-30T14:30:47.206Z"
   },
   {
    "duration": 33,
    "start_time": "2021-12-30T14:30:47.211Z"
   },
   {
    "duration": 20,
    "start_time": "2021-12-30T14:30:47.245Z"
   },
   {
    "duration": 7,
    "start_time": "2021-12-30T14:30:47.267Z"
   },
   {
    "duration": 36,
    "start_time": "2021-12-30T14:30:47.276Z"
   },
   {
    "duration": 7,
    "start_time": "2021-12-30T14:30:47.313Z"
   },
   {
    "duration": 12,
    "start_time": "2021-12-30T14:30:47.321Z"
   },
   {
    "duration": 17,
    "start_time": "2021-12-30T14:30:47.334Z"
   },
   {
    "duration": 8,
    "start_time": "2021-12-30T14:30:47.352Z"
   },
   {
    "duration": 35,
    "start_time": "2021-12-30T14:30:47.361Z"
   },
   {
    "duration": 57,
    "start_time": "2021-12-30T14:30:47.397Z"
   },
   {
    "duration": 28,
    "start_time": "2021-12-30T14:30:47.456Z"
   },
   {
    "duration": 23,
    "start_time": "2021-12-30T14:30:47.485Z"
   },
   {
    "duration": 31,
    "start_time": "2021-12-30T14:30:47.510Z"
   },
   {
    "duration": 22,
    "start_time": "2021-12-30T14:30:47.543Z"
   },
   {
    "duration": 32,
    "start_time": "2021-12-30T14:30:47.567Z"
   },
   {
    "duration": 14,
    "start_time": "2021-12-30T14:30:47.602Z"
   },
   {
    "duration": 27,
    "start_time": "2021-12-30T14:30:47.618Z"
   },
   {
    "duration": 22,
    "start_time": "2021-12-30T14:30:47.648Z"
   },
   {
    "duration": 19,
    "start_time": "2021-12-30T14:30:47.672Z"
   },
   {
    "duration": 15,
    "start_time": "2021-12-30T14:30:47.693Z"
   },
   {
    "duration": 17,
    "start_time": "2021-12-30T14:30:47.713Z"
   },
   {
    "duration": 33,
    "start_time": "2021-12-30T14:30:47.732Z"
   },
   {
    "duration": 17,
    "start_time": "2021-12-30T14:30:47.766Z"
   },
   {
    "duration": 27,
    "start_time": "2021-12-30T14:30:47.785Z"
   },
   {
    "duration": 25,
    "start_time": "2021-12-30T14:30:47.813Z"
   },
   {
    "duration": 24,
    "start_time": "2021-12-30T14:30:47.840Z"
   },
   {
    "duration": 32,
    "start_time": "2021-12-30T14:30:47.865Z"
   },
   {
    "duration": 25,
    "start_time": "2021-12-30T14:30:47.899Z"
   },
   {
    "duration": 39,
    "start_time": "2021-12-30T14:30:47.926Z"
   },
   {
    "duration": 29,
    "start_time": "2021-12-30T14:30:47.967Z"
   },
   {
    "duration": 28,
    "start_time": "2021-12-30T14:30:47.998Z"
   },
   {
    "duration": 32,
    "start_time": "2021-12-30T14:30:48.027Z"
   },
   {
    "duration": 24,
    "start_time": "2021-12-30T14:30:48.060Z"
   },
   {
    "duration": 29,
    "start_time": "2021-12-30T14:30:48.085Z"
   },
   {
    "duration": 21,
    "start_time": "2021-12-30T14:30:48.115Z"
   },
   {
    "duration": 19,
    "start_time": "2021-12-30T14:30:48.138Z"
   },
   {
    "duration": 19,
    "start_time": "2021-12-30T14:30:48.159Z"
   },
   {
    "duration": 33,
    "start_time": "2021-12-30T14:30:48.180Z"
   },
   {
    "duration": 3,
    "start_time": "2021-12-30T14:30:48.215Z"
   },
   {
    "duration": 7212,
    "start_time": "2021-12-30T14:30:48.219Z"
   },
   {
    "duration": -334,
    "start_time": "2021-12-30T14:30:55.767Z"
   },
   {
    "duration": -348,
    "start_time": "2021-12-30T14:30:55.783Z"
   },
   {
    "duration": -356,
    "start_time": "2021-12-30T14:30:55.792Z"
   },
   {
    "duration": 3,
    "start_time": "2021-12-30T14:31:06.249Z"
   },
   {
    "duration": 11,
    "start_time": "2021-12-30T14:31:19.674Z"
   },
   {
    "duration": 4,
    "start_time": "2021-12-30T14:31:20.849Z"
   },
   {
    "duration": 7,
    "start_time": "2021-12-30T14:31:22.467Z"
   },
   {
    "duration": 6,
    "start_time": "2021-12-30T14:31:23.698Z"
   },
   {
    "duration": 14,
    "start_time": "2021-12-30T14:31:26.035Z"
   },
   {
    "duration": 6,
    "start_time": "2021-12-30T14:31:43.052Z"
   },
   {
    "duration": 4,
    "start_time": "2021-12-30T14:31:47.205Z"
   },
   {
    "duration": 41,
    "start_time": "2021-12-30T14:31:50.917Z"
   },
   {
    "duration": 3,
    "start_time": "2021-12-30T14:31:53.896Z"
   },
   {
    "duration": 1639,
    "start_time": "2021-12-30T14:31:55.168Z"
   },
   {
    "duration": 15,
    "start_time": "2021-12-30T14:32:03.507Z"
   },
   {
    "duration": 7,
    "start_time": "2021-12-30T14:34:43.355Z"
   },
   {
    "duration": 3,
    "start_time": "2021-12-30T14:34:44.332Z"
   },
   {
    "duration": 7859,
    "start_time": "2021-12-30T14:34:45.194Z"
   },
   {
    "duration": -365,
    "start_time": "2021-12-30T14:34:53.420Z"
   },
   {
    "duration": -376,
    "start_time": "2021-12-30T14:34:53.432Z"
   },
   {
    "duration": 16,
    "start_time": "2021-12-30T14:34:56.228Z"
   },
   {
    "duration": 2,
    "start_time": "2021-12-30T14:35:21.842Z"
   },
   {
    "duration": 19,
    "start_time": "2021-12-30T14:35:21.847Z"
   },
   {
    "duration": 300,
    "start_time": "2021-12-30T14:35:21.867Z"
   },
   {
    "duration": 8,
    "start_time": "2021-12-30T14:35:22.169Z"
   },
   {
    "duration": 15,
    "start_time": "2021-12-30T14:35:22.178Z"
   },
   {
    "duration": 17,
    "start_time": "2021-12-30T14:35:22.194Z"
   },
   {
    "duration": 15,
    "start_time": "2021-12-30T14:35:22.212Z"
   },
   {
    "duration": 19,
    "start_time": "2021-12-30T14:35:22.228Z"
   },
   {
    "duration": 17,
    "start_time": "2021-12-30T14:35:22.249Z"
   },
   {
    "duration": 19,
    "start_time": "2021-12-30T14:35:22.268Z"
   },
   {
    "duration": 16,
    "start_time": "2021-12-30T14:35:22.288Z"
   },
   {
    "duration": 6,
    "start_time": "2021-12-30T14:35:22.305Z"
   },
   {
    "duration": 13,
    "start_time": "2021-12-30T14:35:22.341Z"
   },
   {
    "duration": 29,
    "start_time": "2021-12-30T14:35:22.355Z"
   },
   {
    "duration": 12,
    "start_time": "2021-12-30T14:35:22.386Z"
   },
   {
    "duration": 8,
    "start_time": "2021-12-30T14:35:22.400Z"
   },
   {
    "duration": 31,
    "start_time": "2021-12-30T14:35:22.410Z"
   },
   {
    "duration": 18,
    "start_time": "2021-12-30T14:35:22.443Z"
   },
   {
    "duration": 9,
    "start_time": "2021-12-30T14:35:22.463Z"
   },
   {
    "duration": 19,
    "start_time": "2021-12-30T14:35:22.474Z"
   },
   {
    "duration": 19,
    "start_time": "2021-12-30T14:35:22.495Z"
   },
   {
    "duration": 15,
    "start_time": "2021-12-30T14:35:22.515Z"
   },
   {
    "duration": 18,
    "start_time": "2021-12-30T14:35:22.532Z"
   },
   {
    "duration": 11,
    "start_time": "2021-12-30T14:35:22.554Z"
   },
   {
    "duration": 18,
    "start_time": "2021-12-30T14:35:22.568Z"
   },
   {
    "duration": 14,
    "start_time": "2021-12-30T14:35:22.588Z"
   },
   {
    "duration": 37,
    "start_time": "2021-12-30T14:35:22.604Z"
   },
   {
    "duration": 11,
    "start_time": "2021-12-30T14:35:22.643Z"
   },
   {
    "duration": 15,
    "start_time": "2021-12-30T14:35:22.656Z"
   },
   {
    "duration": 18,
    "start_time": "2021-12-30T14:35:22.673Z"
   },
   {
    "duration": 17,
    "start_time": "2021-12-30T14:35:22.693Z"
   },
   {
    "duration": 19,
    "start_time": "2021-12-30T14:35:22.711Z"
   },
   {
    "duration": 19,
    "start_time": "2021-12-30T14:35:22.732Z"
   },
   {
    "duration": 19,
    "start_time": "2021-12-30T14:35:22.753Z"
   },
   {
    "duration": 16,
    "start_time": "2021-12-30T14:35:22.774Z"
   },
   {
    "duration": 20,
    "start_time": "2021-12-30T14:35:22.792Z"
   },
   {
    "duration": 16,
    "start_time": "2021-12-30T14:35:22.814Z"
   },
   {
    "duration": 18,
    "start_time": "2021-12-30T14:35:22.832Z"
   },
   {
    "duration": 18,
    "start_time": "2021-12-30T14:35:22.852Z"
   },
   {
    "duration": 20,
    "start_time": "2021-12-30T14:35:22.872Z"
   },
   {
    "duration": 15,
    "start_time": "2021-12-30T14:35:22.894Z"
   },
   {
    "duration": 20,
    "start_time": "2021-12-30T14:35:22.911Z"
   },
   {
    "duration": 9,
    "start_time": "2021-12-30T14:35:22.932Z"
   },
   {
    "duration": 26,
    "start_time": "2021-12-30T14:35:22.942Z"
   },
   {
    "duration": 22,
    "start_time": "2021-12-30T14:35:22.969Z"
   },
   {
    "duration": 8,
    "start_time": "2021-12-30T14:35:22.992Z"
   },
   {
    "duration": 30,
    "start_time": "2021-12-30T14:35:23.001Z"
   },
   {
    "duration": 36,
    "start_time": "2021-12-30T14:35:23.033Z"
   },
   {
    "duration": 4,
    "start_time": "2021-12-30T14:35:23.070Z"
   },
   {
    "duration": 13,
    "start_time": "2021-12-30T14:35:23.076Z"
   },
   {
    "duration": 22,
    "start_time": "2021-12-30T14:35:23.090Z"
   },
   {
    "duration": 12,
    "start_time": "2021-12-30T14:35:23.113Z"
   },
   {
    "duration": 32,
    "start_time": "2021-12-30T14:35:23.126Z"
   },
   {
    "duration": 7,
    "start_time": "2021-12-30T14:35:23.160Z"
   },
   {
    "duration": 17,
    "start_time": "2021-12-30T14:35:23.168Z"
   },
   {
    "duration": 23,
    "start_time": "2021-12-30T14:35:23.186Z"
   },
   {
    "duration": 13,
    "start_time": "2021-12-30T14:35:23.210Z"
   },
   {
    "duration": 21,
    "start_time": "2021-12-30T14:35:23.225Z"
   },
   {
    "duration": 30,
    "start_time": "2021-12-30T14:35:23.248Z"
   },
   {
    "duration": 11,
    "start_time": "2021-12-30T14:35:23.280Z"
   },
   {
    "duration": 11,
    "start_time": "2021-12-30T14:35:23.293Z"
   },
   {
    "duration": 28,
    "start_time": "2021-12-30T14:35:23.305Z"
   },
   {
    "duration": 17,
    "start_time": "2021-12-30T14:35:23.335Z"
   },
   {
    "duration": 19,
    "start_time": "2021-12-30T14:35:23.354Z"
   },
   {
    "duration": 13,
    "start_time": "2021-12-30T14:35:23.375Z"
   },
   {
    "duration": 22,
    "start_time": "2021-12-30T14:35:23.389Z"
   },
   {
    "duration": 14,
    "start_time": "2021-12-30T14:35:23.413Z"
   },
   {
    "duration": 12,
    "start_time": "2021-12-30T14:35:23.429Z"
   },
   {
    "duration": 18,
    "start_time": "2021-12-30T14:35:23.446Z"
   },
   {
    "duration": 12,
    "start_time": "2021-12-30T14:35:23.466Z"
   },
   {
    "duration": 21,
    "start_time": "2021-12-30T14:35:23.480Z"
   },
   {
    "duration": 13,
    "start_time": "2021-12-30T14:35:23.503Z"
   },
   {
    "duration": 17,
    "start_time": "2021-12-30T14:35:23.518Z"
   },
   {
    "duration": 18,
    "start_time": "2021-12-30T14:35:23.537Z"
   },
   {
    "duration": 13,
    "start_time": "2021-12-30T14:35:23.558Z"
   },
   {
    "duration": 23,
    "start_time": "2021-12-30T14:35:23.573Z"
   },
   {
    "duration": 28,
    "start_time": "2021-12-30T14:35:23.598Z"
   },
   {
    "duration": 11,
    "start_time": "2021-12-30T14:35:23.627Z"
   },
   {
    "duration": 14,
    "start_time": "2021-12-30T14:35:23.640Z"
   },
   {
    "duration": 17,
    "start_time": "2021-12-30T14:35:23.655Z"
   },
   {
    "duration": 6,
    "start_time": "2021-12-30T14:35:23.673Z"
   },
   {
    "duration": 13,
    "start_time": "2021-12-30T14:35:23.681Z"
   },
   {
    "duration": 11,
    "start_time": "2021-12-30T14:35:23.696Z"
   },
   {
    "duration": 8,
    "start_time": "2021-12-30T14:35:23.709Z"
   },
   {
    "duration": 24,
    "start_time": "2021-12-30T14:35:23.718Z"
   },
   {
    "duration": 11,
    "start_time": "2021-12-30T14:35:23.744Z"
   },
   {
    "duration": 8,
    "start_time": "2021-12-30T14:35:23.757Z"
   },
   {
    "duration": 6,
    "start_time": "2021-12-30T14:35:23.767Z"
   },
   {
    "duration": 52,
    "start_time": "2021-12-30T14:35:23.774Z"
   },
   {
    "duration": 13,
    "start_time": "2021-12-30T14:35:23.828Z"
   },
   {
    "duration": 43,
    "start_time": "2021-12-30T14:35:23.843Z"
   },
   {
    "duration": 14,
    "start_time": "2021-12-30T14:35:23.888Z"
   },
   {
    "duration": 4,
    "start_time": "2021-12-30T14:39:00.361Z"
   },
   {
    "duration": 40,
    "start_time": "2021-12-30T14:39:02.431Z"
   },
   {
    "duration": 23,
    "start_time": "2021-12-30T14:39:15.040Z"
   },
   {
    "duration": 3,
    "start_time": "2021-12-30T14:41:45.192Z"
   },
   {
    "duration": 38,
    "start_time": "2021-12-30T14:41:46.091Z"
   },
   {
    "duration": 3,
    "start_time": "2021-12-30T14:41:50.370Z"
   },
   {
    "duration": 66,
    "start_time": "2021-12-30T14:41:51.210Z"
   },
   {
    "duration": 16,
    "start_time": "2021-12-30T14:41:52.402Z"
   },
   {
    "duration": 3,
    "start_time": "2021-12-30T14:41:53.919Z"
   },
   {
    "duration": 3,
    "start_time": "2021-12-30T14:42:21.669Z"
   },
   {
    "duration": 46,
    "start_time": "2021-12-30T14:42:21.674Z"
   },
   {
    "duration": 18,
    "start_time": "2021-12-30T14:42:22.633Z"
   },
   {
    "duration": 4,
    "start_time": "2021-12-30T14:42:25.623Z"
   },
   {
    "duration": 39,
    "start_time": "2021-12-30T14:42:26.666Z"
   },
   {
    "duration": 13,
    "start_time": "2021-12-30T14:42:28.145Z"
   },
   {
    "duration": 84,
    "start_time": "2021-12-30T15:06:51.452Z"
   },
   {
    "duration": 5,
    "start_time": "2021-12-30T15:07:08.307Z"
   },
   {
    "duration": 541,
    "start_time": "2021-12-30T15:07:11.561Z"
   },
   {
    "duration": 7,
    "start_time": "2021-12-30T15:07:45.058Z"
   },
   {
    "duration": 497,
    "start_time": "2021-12-30T15:07:45.995Z"
   },
   {
    "duration": 5,
    "start_time": "2021-12-30T15:08:12.450Z"
   },
   {
    "duration": 525,
    "start_time": "2021-12-30T15:08:13.995Z"
   },
   {
    "duration": 5,
    "start_time": "2021-12-30T15:08:30.565Z"
   },
   {
    "duration": 71,
    "start_time": "2021-12-30T15:08:31.346Z"
   },
   {
    "duration": 22,
    "start_time": "2021-12-30T15:08:52.130Z"
   },
   {
    "duration": 6,
    "start_time": "2021-12-30T15:09:25.676Z"
   },
   {
    "duration": 6125,
    "start_time": "2021-12-30T15:21:30.431Z"
   },
   {
    "duration": 15,
    "start_time": "2021-12-30T15:21:43.433Z"
   },
   {
    "duration": 5,
    "start_time": "2021-12-30T15:22:24.306Z"
   },
   {
    "duration": 61,
    "start_time": "2021-12-30T15:22:24.927Z"
   },
   {
    "duration": 15,
    "start_time": "2021-12-30T15:22:25.657Z"
   },
   {
    "duration": 7,
    "start_time": "2021-12-30T15:22:28.638Z"
   },
   {
    "duration": 14,
    "start_time": "2021-12-30T15:22:31.890Z"
   },
   {
    "duration": 6,
    "start_time": "2021-12-30T16:18:06.707Z"
   },
   {
    "duration": 7,
    "start_time": "2021-12-30T16:19:24.880Z"
   },
   {
    "duration": 7,
    "start_time": "2021-12-30T16:19:47.050Z"
   },
   {
    "duration": 1416,
    "start_time": "2021-12-30T16:22:19.508Z"
   },
   {
    "duration": 9,
    "start_time": "2021-12-30T16:22:47.622Z"
   },
   {
    "duration": 16,
    "start_time": "2021-12-30T16:23:43.643Z"
   },
   {
    "duration": 7,
    "start_time": "2021-12-30T16:24:29.128Z"
   },
   {
    "duration": 6,
    "start_time": "2021-12-30T16:24:49.957Z"
   },
   {
    "duration": 8,
    "start_time": "2021-12-30T16:25:00.013Z"
   },
   {
    "duration": 237,
    "start_time": "2021-12-30T17:22:40.823Z"
   },
   {
    "duration": 12,
    "start_time": "2021-12-30T17:22:53.839Z"
   },
   {
    "duration": 3,
    "start_time": "2021-12-30T17:28:51.526Z"
   },
   {
    "duration": 3,
    "start_time": "2021-12-30T17:28:52.365Z"
   },
   {
    "duration": 276,
    "start_time": "2021-12-30T17:28:53.145Z"
   },
   {
    "duration": 8,
    "start_time": "2021-12-30T17:28:54.352Z"
   },
   {
    "duration": 7,
    "start_time": "2021-12-30T17:28:56.046Z"
   },
   {
    "duration": 9,
    "start_time": "2021-12-30T17:28:57.340Z"
   },
   {
    "duration": 10,
    "start_time": "2021-12-30T17:29:00.069Z"
   },
   {
    "duration": 8,
    "start_time": "2021-12-30T17:29:01.412Z"
   },
   {
    "duration": 16,
    "start_time": "2021-12-30T17:29:02.797Z"
   },
   {
    "duration": 18,
    "start_time": "2021-12-30T17:29:04.222Z"
   },
   {
    "duration": 17,
    "start_time": "2021-12-30T17:29:05.671Z"
   },
   {
    "duration": 7,
    "start_time": "2021-12-30T17:29:07.123Z"
   },
   {
    "duration": 15,
    "start_time": "2021-12-30T17:29:08.300Z"
   },
   {
    "duration": 23,
    "start_time": "2021-12-30T17:29:09.515Z"
   },
   {
    "duration": 13,
    "start_time": "2021-12-30T17:29:10.913Z"
   },
   {
    "duration": 9,
    "start_time": "2021-12-30T17:29:12.254Z"
   },
   {
    "duration": 5,
    "start_time": "2021-12-30T17:29:13.371Z"
   },
   {
    "duration": 14,
    "start_time": "2021-12-30T17:29:14.631Z"
   },
   {
    "duration": 6,
    "start_time": "2021-12-30T17:29:15.759Z"
   },
   {
    "duration": 6,
    "start_time": "2021-12-30T17:29:16.917Z"
   },
   {
    "duration": 12,
    "start_time": "2021-12-30T17:29:19.299Z"
   },
   {
    "duration": 11,
    "start_time": "2021-12-30T17:29:20.284Z"
   },
   {
    "duration": 12,
    "start_time": "2021-12-30T17:29:21.340Z"
   },
   {
    "duration": 10,
    "start_time": "2021-12-30T17:29:22.377Z"
   },
   {
    "duration": 18,
    "start_time": "2021-12-30T17:29:24.380Z"
   },
   {
    "duration": 12,
    "start_time": "2021-12-30T17:29:25.516Z"
   },
   {
    "duration": 11,
    "start_time": "2021-12-30T17:29:27.677Z"
   },
   {
    "duration": 9,
    "start_time": "2021-12-30T17:29:28.557Z"
   },
   {
    "duration": 14,
    "start_time": "2021-12-30T17:29:30.222Z"
   },
   {
    "duration": 6,
    "start_time": "2021-12-30T17:29:30.982Z"
   },
   {
    "duration": 4,
    "start_time": "2021-12-30T17:29:31.810Z"
   },
   {
    "duration": 12,
    "start_time": "2021-12-30T17:29:32.541Z"
   },
   {
    "duration": 10,
    "start_time": "2021-12-30T17:29:33.294Z"
   },
   {
    "duration": 4,
    "start_time": "2021-12-30T17:29:34.103Z"
   },
   {
    "duration": 6,
    "start_time": "2021-12-30T17:29:34.928Z"
   },
   {
    "duration": 4,
    "start_time": "2021-12-30T17:29:35.931Z"
   },
   {
    "duration": 7,
    "start_time": "2021-12-30T17:29:36.749Z"
   },
   {
    "duration": 5,
    "start_time": "2021-12-30T17:29:37.628Z"
   },
   {
    "duration": 13,
    "start_time": "2021-12-30T17:29:38.333Z"
   },
   {
    "duration": 16,
    "start_time": "2021-12-30T17:29:39.083Z"
   },
   {
    "duration": 11,
    "start_time": "2021-12-30T17:29:39.812Z"
   },
   {
    "duration": 17,
    "start_time": "2021-12-30T17:29:40.624Z"
   },
   {
    "duration": 10,
    "start_time": "2021-12-30T17:29:41.405Z"
   },
   {
    "duration": 11,
    "start_time": "2021-12-30T17:29:42.205Z"
   },
   {
    "duration": 19,
    "start_time": "2021-12-30T17:29:43.094Z"
   },
   {
    "duration": 10,
    "start_time": "2021-12-30T17:29:43.756Z"
   },
   {
    "duration": 18,
    "start_time": "2021-12-30T17:29:44.585Z"
   },
   {
    "duration": 27,
    "start_time": "2021-12-30T17:29:46.019Z"
   },
   {
    "duration": 4,
    "start_time": "2021-12-30T17:29:46.775Z"
   },
   {
    "duration": 5,
    "start_time": "2021-12-30T17:29:47.476Z"
   },
   {
    "duration": 13,
    "start_time": "2021-12-30T17:29:48.172Z"
   },
   {
    "duration": 9,
    "start_time": "2021-12-30T17:29:48.829Z"
   },
   {
    "duration": 21,
    "start_time": "2021-12-30T17:29:49.516Z"
   },
   {
    "duration": 7,
    "start_time": "2021-12-30T17:29:50.253Z"
   },
   {
    "duration": 4,
    "start_time": "2021-12-30T17:29:51.044Z"
   },
   {
    "duration": 11,
    "start_time": "2021-12-30T17:29:51.741Z"
   },
   {
    "duration": 5,
    "start_time": "2021-12-30T17:29:52.372Z"
   },
   {
    "duration": 9,
    "start_time": "2021-12-30T17:29:53.061Z"
   },
   {
    "duration": 17,
    "start_time": "2021-12-30T17:29:53.774Z"
   },
   {
    "duration": 13,
    "start_time": "2021-12-30T17:29:54.408Z"
   },
   {
    "duration": 4,
    "start_time": "2021-12-30T17:29:55.095Z"
   },
   {
    "duration": 10,
    "start_time": "2021-12-30T17:29:55.724Z"
   },
   {
    "duration": 4,
    "start_time": "2021-12-30T17:29:56.324Z"
   },
   {
    "duration": 13,
    "start_time": "2021-12-30T17:29:56.997Z"
   },
   {
    "duration": 3,
    "start_time": "2021-12-30T17:29:57.619Z"
   },
   {
    "duration": 9,
    "start_time": "2021-12-30T17:29:58.252Z"
   },
   {
    "duration": 13,
    "start_time": "2021-12-30T17:29:58.867Z"
   },
   {
    "duration": 7,
    "start_time": "2021-12-30T17:29:59.508Z"
   },
   {
    "duration": 9,
    "start_time": "2021-12-30T17:30:00.182Z"
   },
   {
    "duration": 6,
    "start_time": "2021-12-30T17:30:01.021Z"
   },
   {
    "duration": 14,
    "start_time": "2021-12-30T17:30:01.583Z"
   },
   {
    "duration": 6,
    "start_time": "2021-12-30T17:30:02.189Z"
   },
   {
    "duration": 4,
    "start_time": "2021-12-30T17:30:02.812Z"
   },
   {
    "duration": 12,
    "start_time": "2021-12-30T17:30:03.535Z"
   },
   {
    "duration": 7,
    "start_time": "2021-12-30T17:30:04.155Z"
   },
   {
    "duration": 16,
    "start_time": "2021-12-30T17:30:04.797Z"
   },
   {
    "duration": 17,
    "start_time": "2021-12-30T17:30:05.437Z"
   },
   {
    "duration": 7,
    "start_time": "2021-12-30T17:30:06.093Z"
   },
   {
    "duration": 10,
    "start_time": "2021-12-30T17:30:06.680Z"
   },
   {
    "duration": 11,
    "start_time": "2021-12-30T17:30:07.910Z"
   },
   {
    "duration": 4,
    "start_time": "2021-12-30T17:30:08.513Z"
   },
   {
    "duration": 6,
    "start_time": "2021-12-30T17:30:09.126Z"
   },
   {
    "duration": 12,
    "start_time": "2021-12-30T17:30:10.187Z"
   },
   {
    "duration": 4,
    "start_time": "2021-12-30T17:30:11.045Z"
   },
   {
    "duration": 7,
    "start_time": "2021-12-30T17:30:11.725Z"
   },
   {
    "duration": 6,
    "start_time": "2021-12-30T17:30:12.421Z"
   },
   {
    "duration": 6,
    "start_time": "2021-12-30T17:30:13.132Z"
   },
   {
    "duration": 3,
    "start_time": "2021-12-30T17:30:13.833Z"
   },
   {
    "duration": 40,
    "start_time": "2021-12-30T17:30:14.459Z"
   },
   {
    "duration": 3,
    "start_time": "2021-12-30T17:30:15.174Z"
   },
   {
    "duration": 43,
    "start_time": "2021-12-30T17:30:15.851Z"
   },
   {
    "duration": 15,
    "start_time": "2021-12-30T17:30:16.550Z"
   },
   {
    "duration": 4,
    "start_time": "2021-12-30T17:30:22.860Z"
   },
   {
    "duration": 40,
    "start_time": "2021-12-30T17:30:24.277Z"
   },
   {
    "duration": 16,
    "start_time": "2021-12-30T17:30:25.382Z"
   },
   {
    "duration": 6,
    "start_time": "2021-12-30T17:30:26.559Z"
   },
   {
    "duration": 68,
    "start_time": "2021-12-30T17:30:27.476Z"
   },
   {
    "duration": 65,
    "start_time": "2021-12-30T17:30:42.523Z"
   },
   {
    "duration": 14,
    "start_time": "2021-12-30T17:30:51.760Z"
   },
   {
    "duration": 16,
    "start_time": "2021-12-30T17:30:56.293Z"
   },
   {
    "duration": 5,
    "start_time": "2021-12-30T17:32:57.790Z"
   },
   {
    "duration": 282,
    "start_time": "2021-12-30T17:33:01.661Z"
   },
   {
    "duration": 5,
    "start_time": "2021-12-30T17:33:24.115Z"
   },
   {
    "duration": 280,
    "start_time": "2021-12-30T17:33:27.862Z"
   },
   {
    "duration": 273,
    "start_time": "2021-12-30T17:33:32.475Z"
   },
   {
    "duration": 6,
    "start_time": "2021-12-30T17:34:10.909Z"
   },
   {
    "duration": 257,
    "start_time": "2021-12-30T17:34:12.920Z"
   },
   {
    "duration": 5,
    "start_time": "2021-12-30T17:34:47.500Z"
   },
   {
    "duration": 262,
    "start_time": "2021-12-30T17:34:48.679Z"
   },
   {
    "duration": 14,
    "start_time": "2021-12-30T17:34:54.024Z"
   },
   {
    "duration": 16,
    "start_time": "2021-12-30T17:35:04.551Z"
   },
   {
    "duration": 15,
    "start_time": "2021-12-30T17:35:27.086Z"
   },
   {
    "duration": 7,
    "start_time": "2021-12-30T17:35:57.140Z"
   },
   {
    "duration": 66,
    "start_time": "2021-12-30T17:35:58.027Z"
   },
   {
    "duration": 18,
    "start_time": "2021-12-30T17:36:33.028Z"
   },
   {
    "duration": 5,
    "start_time": "2021-12-30T17:43:13.524Z"
   },
   {
    "duration": 15,
    "start_time": "2021-12-30T17:43:25.802Z"
   },
   {
    "duration": 4,
    "start_time": "2021-12-30T17:43:43.483Z"
   },
   {
    "duration": 16,
    "start_time": "2021-12-30T17:43:52.929Z"
   },
   {
    "duration": 63,
    "start_time": "2021-12-30T17:44:44.450Z"
   },
   {
    "duration": 17,
    "start_time": "2021-12-30T17:44:45.444Z"
   },
   {
    "duration": 65,
    "start_time": "2021-12-30T17:45:15.378Z"
   },
   {
    "duration": 18,
    "start_time": "2021-12-30T17:45:16.370Z"
   },
   {
    "duration": 6,
    "start_time": "2021-12-30T17:45:22.977Z"
   },
   {
    "duration": 16,
    "start_time": "2021-12-30T17:45:23.444Z"
   },
   {
    "duration": 9,
    "start_time": "2021-12-30T17:45:23.746Z"
   },
   {
    "duration": 9,
    "start_time": "2021-12-30T17:45:24.113Z"
   },
   {
    "duration": 277,
    "start_time": "2021-12-30T17:52:02.323Z"
   },
   {
    "duration": 483,
    "start_time": "2021-12-30T17:52:16.658Z"
   },
   {
    "duration": 168,
    "start_time": "2021-12-30T17:52:40.071Z"
   },
   {
    "duration": 167,
    "start_time": "2021-12-30T17:53:25.613Z"
   },
   {
    "duration": 159,
    "start_time": "2021-12-30T17:53:43.053Z"
   },
   {
    "duration": 240,
    "start_time": "2021-12-30T17:55:50.287Z"
   },
   {
    "duration": 3,
    "start_time": "2021-12-30T17:56:20.739Z"
   },
   {
    "duration": 162,
    "start_time": "2021-12-30T17:56:27.856Z"
   },
   {
    "duration": 154,
    "start_time": "2021-12-30T17:57:01.648Z"
   },
   {
    "duration": 163,
    "start_time": "2021-12-30T17:57:31.759Z"
   },
   {
    "duration": 29,
    "start_time": "2021-12-30T17:58:31.734Z"
   },
   {
    "duration": 30,
    "start_time": "2021-12-30T18:00:02.272Z"
   },
   {
    "duration": 176,
    "start_time": "2021-12-30T18:01:22.678Z"
   },
   {
    "duration": 154,
    "start_time": "2021-12-30T18:01:43.566Z"
   },
   {
    "duration": 181,
    "start_time": "2021-12-30T18:02:23.477Z"
   },
   {
    "duration": 5,
    "start_time": "2021-12-30T18:05:05.371Z"
   },
   {
    "duration": 4,
    "start_time": "2021-12-30T18:05:30.186Z"
   },
   {
    "duration": 441,
    "start_time": "2021-12-31T00:13:07.239Z"
   },
   {
    "duration": 12,
    "start_time": "2021-12-31T00:21:09.741Z"
   },
   {
    "duration": 14,
    "start_time": "2021-12-31T00:21:11.573Z"
   },
   {
    "duration": 11,
    "start_time": "2021-12-31T00:22:17.460Z"
   },
   {
    "duration": 14,
    "start_time": "2021-12-31T00:22:18.076Z"
   },
   {
    "duration": 6138,
    "start_time": "2021-12-31T00:23:08.513Z"
   },
   {
    "duration": 9,
    "start_time": "2021-12-31T00:26:41.158Z"
   },
   {
    "duration": 8,
    "start_time": "2021-12-31T00:26:58.307Z"
   },
   {
    "duration": 3,
    "start_time": "2021-12-31T00:27:56.973Z"
   },
   {
    "duration": 9,
    "start_time": "2021-12-31T00:28:09.085Z"
   },
   {
    "duration": 11,
    "start_time": "2021-12-31T00:30:14.029Z"
   },
   {
    "duration": 13,
    "start_time": "2021-12-31T00:30:16.763Z"
   },
   {
    "duration": 11,
    "start_time": "2021-12-31T00:32:30.666Z"
   },
   {
    "duration": 6,
    "start_time": "2021-12-31T00:39:01.828Z"
   },
   {
    "duration": 5,
    "start_time": "2021-12-31T00:39:11.640Z"
   },
   {
    "duration": 2,
    "start_time": "2021-12-31T00:41:28.145Z"
   },
   {
    "duration": 5,
    "start_time": "2021-12-31T00:41:39.787Z"
   },
   {
    "duration": 10,
    "start_time": "2021-12-31T00:45:18.034Z"
   },
   {
    "duration": 12,
    "start_time": "2021-12-31T00:45:28.904Z"
   },
   {
    "duration": 11,
    "start_time": "2021-12-31T00:46:34.602Z"
   },
   {
    "duration": 9,
    "start_time": "2021-12-31T00:47:34.270Z"
   },
   {
    "duration": 7,
    "start_time": "2021-12-31T00:47:36.732Z"
   },
   {
    "duration": 4,
    "start_time": "2021-12-31T00:48:10.328Z"
   },
   {
    "duration": 10,
    "start_time": "2021-12-31T00:48:21.818Z"
   },
   {
    "duration": 9,
    "start_time": "2021-12-31T00:50:25.449Z"
   },
   {
    "duration": 4,
    "start_time": "2021-12-31T00:50:26.448Z"
   },
   {
    "duration": 10,
    "start_time": "2021-12-31T00:50:27.941Z"
   },
   {
    "duration": 9,
    "start_time": "2021-12-31T00:51:34.319Z"
   },
   {
    "duration": 4,
    "start_time": "2021-12-31T00:51:39.752Z"
   },
   {
    "duration": 9,
    "start_time": "2021-12-31T00:51:42.066Z"
   },
   {
    "duration": 5,
    "start_time": "2021-12-31T00:52:55.792Z"
   },
   {
    "duration": 511,
    "start_time": "2021-12-31T00:55:46.691Z"
   },
   {
    "duration": 239,
    "start_time": "2021-12-31T00:56:12.285Z"
   },
   {
    "duration": 4,
    "start_time": "2021-12-31T00:58:01.039Z"
   },
   {
    "duration": 8,
    "start_time": "2021-12-31T00:58:24.093Z"
   },
   {
    "duration": 5,
    "start_time": "2021-12-31T00:59:26.996Z"
   },
   {
    "duration": 14,
    "start_time": "2021-12-31T01:02:45.292Z"
   },
   {
    "duration": 13,
    "start_time": "2021-12-31T01:03:47.236Z"
   },
   {
    "duration": 13,
    "start_time": "2021-12-31T01:03:49.213Z"
   },
   {
    "duration": 246,
    "start_time": "2021-12-31T01:07:15.724Z"
   },
   {
    "duration": 3,
    "start_time": "2021-12-31T01:07:30.100Z"
   },
   {
    "duration": 16,
    "start_time": "2021-12-31T01:07:34.067Z"
   },
   {
    "duration": 1321,
    "start_time": "2021-12-31T01:14:06.293Z"
   },
   {
    "duration": 5,
    "start_time": "2021-12-31T01:17:53.539Z"
   },
   {
    "duration": 6,
    "start_time": "2021-12-31T01:18:26.826Z"
   },
   {
    "duration": 275,
    "start_time": "2021-12-31T01:18:51.027Z"
   },
   {
    "duration": 4,
    "start_time": "2021-12-31T01:19:39.295Z"
   },
   {
    "duration": 16,
    "start_time": "2021-12-31T01:19:41.505Z"
   },
   {
    "duration": 5,
    "start_time": "2021-12-31T01:23:06.208Z"
   },
   {
    "duration": 17,
    "start_time": "2021-12-31T01:23:15.488Z"
   },
   {
    "duration": 3970,
    "start_time": "2021-12-31T01:24:04.914Z"
   },
   {
    "duration": 4,
    "start_time": "2021-12-31T01:24:58.211Z"
   },
   {
    "duration": 5,
    "start_time": "2021-12-31T01:25:00.117Z"
   },
   {
    "duration": 110,
    "start_time": "2021-12-31T01:25:25.194Z"
   },
   {
    "duration": 4,
    "start_time": "2021-12-31T01:25:38.607Z"
   },
   {
    "duration": 14,
    "start_time": "2021-12-31T01:25:40.353Z"
   },
   {
    "duration": 4,
    "start_time": "2021-12-31T01:26:34.281Z"
   },
   {
    "duration": 8,
    "start_time": "2021-12-31T01:26:44.033Z"
   },
   {
    "duration": 4,
    "start_time": "2021-12-31T01:27:11.695Z"
   },
   {
    "duration": 8,
    "start_time": "2021-12-31T01:27:23.183Z"
   },
   {
    "duration": 679,
    "start_time": "2021-12-31T01:30:03.240Z"
   },
   {
    "duration": 13,
    "start_time": "2021-12-31T01:30:18.336Z"
   },
   {
    "duration": 14,
    "start_time": "2021-12-31T01:37:41.186Z"
   },
   {
    "duration": 6,
    "start_time": "2021-12-31T01:38:36.832Z"
   },
   {
    "duration": 10,
    "start_time": "2021-12-31T01:38:52.246Z"
   },
   {
    "duration": 5,
    "start_time": "2021-12-31T01:43:29.243Z"
   },
   {
    "duration": 11,
    "start_time": "2021-12-31T01:43:30.010Z"
   },
   {
    "duration": 5,
    "start_time": "2021-12-31T01:43:36.561Z"
   },
   {
    "duration": 7,
    "start_time": "2021-12-31T01:43:38.453Z"
   },
   {
    "duration": 6,
    "start_time": "2021-12-31T01:45:29.489Z"
   },
   {
    "duration": 12,
    "start_time": "2021-12-31T01:45:39.896Z"
   },
   {
    "duration": 6,
    "start_time": "2021-12-31T01:46:34.254Z"
   },
   {
    "duration": 11,
    "start_time": "2021-12-31T01:46:36.688Z"
   },
   {
    "duration": 6,
    "start_time": "2021-12-31T01:47:08.198Z"
   },
   {
    "duration": 5,
    "start_time": "2021-12-31T01:47:09.341Z"
   },
   {
    "duration": 5,
    "start_time": "2021-12-31T01:48:39.237Z"
   },
   {
    "duration": 12,
    "start_time": "2021-12-31T01:48:40.548Z"
   },
   {
    "duration": 4,
    "start_time": "2021-12-31T01:53:04.056Z"
   },
   {
    "duration": 11,
    "start_time": "2021-12-31T01:53:05.502Z"
   },
   {
    "duration": 7,
    "start_time": "2021-12-31T01:54:10.201Z"
   },
   {
    "duration": 12,
    "start_time": "2021-12-31T01:54:18.669Z"
   },
   {
    "duration": 6,
    "start_time": "2021-12-31T01:55:24.399Z"
   },
   {
    "duration": 11,
    "start_time": "2021-12-31T01:55:32.967Z"
   },
   {
    "duration": 5,
    "start_time": "2021-12-31T01:56:18.450Z"
   },
   {
    "duration": 12,
    "start_time": "2021-12-31T01:56:27.404Z"
   },
   {
    "duration": 4,
    "start_time": "2021-12-31T01:58:22.048Z"
   },
   {
    "duration": 10,
    "start_time": "2021-12-31T01:58:31.234Z"
   },
   {
    "duration": 4,
    "start_time": "2021-12-31T01:59:12.908Z"
   },
   {
    "duration": 10,
    "start_time": "2021-12-31T01:59:21.821Z"
   },
   {
    "duration": 3,
    "start_time": "2021-12-31T02:00:16.586Z"
   },
   {
    "duration": 12,
    "start_time": "2021-12-31T02:00:30.782Z"
   },
   {
    "duration": 5,
    "start_time": "2021-12-31T02:02:05.289Z"
   },
   {
    "duration": 13,
    "start_time": "2021-12-31T02:02:35.753Z"
   },
   {
    "duration": 15,
    "start_time": "2021-12-31T02:03:01.474Z"
   },
   {
    "duration": 4,
    "start_time": "2021-12-31T02:04:36.699Z"
   },
   {
    "duration": 7,
    "start_time": "2021-12-31T02:04:55.628Z"
   },
   {
    "duration": 7,
    "start_time": "2021-12-31T02:06:37.310Z"
   },
   {
    "duration": 10,
    "start_time": "2021-12-31T02:07:43.237Z"
   },
   {
    "duration": 4,
    "start_time": "2021-12-31T02:07:43.966Z"
   },
   {
    "duration": 10,
    "start_time": "2021-12-31T02:07:45.315Z"
   },
   {
    "duration": 3,
    "start_time": "2021-12-31T02:07:48.812Z"
   },
   {
    "duration": 10,
    "start_time": "2021-12-31T02:07:50.015Z"
   },
   {
    "duration": 9,
    "start_time": "2021-12-31T02:08:41.232Z"
   },
   {
    "duration": 6,
    "start_time": "2021-12-31T02:08:49.032Z"
   },
   {
    "duration": 11,
    "start_time": "2021-12-31T02:08:49.657Z"
   },
   {
    "duration": 6,
    "start_time": "2021-12-31T02:08:50.132Z"
   },
   {
    "duration": 7,
    "start_time": "2021-12-31T02:08:50.477Z"
   },
   {
    "duration": 5,
    "start_time": "2021-12-31T02:08:50.871Z"
   },
   {
    "duration": 11,
    "start_time": "2021-12-31T02:08:51.351Z"
   },
   {
    "duration": 4,
    "start_time": "2021-12-31T02:08:51.985Z"
   },
   {
    "duration": 10,
    "start_time": "2021-12-31T02:08:53.058Z"
   },
   {
    "duration": 5,
    "start_time": "2021-12-31T02:08:55.222Z"
   },
   {
    "duration": 12,
    "start_time": "2021-12-31T02:08:56.892Z"
   },
   {
    "duration": 13,
    "start_time": "2021-12-31T02:09:13.709Z"
   },
   {
    "duration": 88,
    "start_time": "2021-12-31T04:55:13.915Z"
   },
   {
    "duration": 2,
    "start_time": "2021-12-31T04:55:19.214Z"
   },
   {
    "duration": 2,
    "start_time": "2021-12-31T04:55:19.887Z"
   },
   {
    "duration": 84,
    "start_time": "2021-12-31T04:55:20.535Z"
   },
   {
    "duration": 280,
    "start_time": "2021-12-31T04:55:32.736Z"
   },
   {
    "duration": 9,
    "start_time": "2021-12-31T04:55:34.504Z"
   },
   {
    "duration": 7,
    "start_time": "2021-12-31T04:55:44.636Z"
   },
   {
    "duration": 8,
    "start_time": "2021-12-31T04:55:45.874Z"
   },
   {
    "duration": 10,
    "start_time": "2021-12-31T04:55:48.178Z"
   },
   {
    "duration": 7,
    "start_time": "2021-12-31T04:55:53.090Z"
   },
   {
    "duration": 15,
    "start_time": "2021-12-31T04:55:54.291Z"
   },
   {
    "duration": 18,
    "start_time": "2021-12-31T04:55:55.463Z"
   },
   {
    "duration": 16,
    "start_time": "2021-12-31T04:55:56.564Z"
   },
   {
    "duration": 2,
    "start_time": "2021-12-31T05:06:03.397Z"
   },
   {
    "duration": 3,
    "start_time": "2021-12-31T05:06:05.386Z"
   },
   {
    "duration": 83,
    "start_time": "2021-12-31T05:06:20.411Z"
   },
   {
    "duration": 290,
    "start_time": "2021-12-31T05:06:29.407Z"
   },
   {
    "duration": 9,
    "start_time": "2021-12-31T05:06:37.264Z"
   },
   {
    "duration": 7,
    "start_time": "2021-12-31T05:06:41.075Z"
   },
   {
    "duration": 8,
    "start_time": "2021-12-31T05:06:46.069Z"
   },
   {
    "duration": 9,
    "start_time": "2021-12-31T05:06:59.085Z"
   },
   {
    "duration": 8,
    "start_time": "2021-12-31T05:07:04.800Z"
   },
   {
    "duration": 17,
    "start_time": "2021-12-31T05:08:47.858Z"
   },
   {
    "duration": 15,
    "start_time": "2021-12-31T05:08:48.679Z"
   },
   {
    "duration": 14,
    "start_time": "2021-12-31T05:09:51.028Z"
   },
   {
    "duration": 6,
    "start_time": "2021-12-31T05:09:53.983Z"
   },
   {
    "duration": 15,
    "start_time": "2021-12-31T05:09:54.825Z"
   },
   {
    "duration": 6,
    "start_time": "2021-12-31T05:09:55.506Z"
   },
   {
    "duration": 14,
    "start_time": "2021-12-31T05:09:58.481Z"
   },
   {
    "duration": 21,
    "start_time": "2021-12-31T05:10:35.388Z"
   },
   {
    "duration": 13,
    "start_time": "2021-12-31T05:10:36.595Z"
   },
   {
    "duration": 9,
    "start_time": "2021-12-31T05:10:37.506Z"
   },
   {
    "duration": 5,
    "start_time": "2021-12-31T05:11:33.723Z"
   },
   {
    "duration": 16,
    "start_time": "2021-12-31T05:11:34.958Z"
   },
   {
    "duration": 4,
    "start_time": "2021-12-31T05:12:39.805Z"
   },
   {
    "duration": 14,
    "start_time": "2021-12-31T05:12:41.093Z"
   },
   {
    "duration": 6,
    "start_time": "2021-12-31T05:13:10.754Z"
   },
   {
    "duration": 6,
    "start_time": "2021-12-31T05:13:12.940Z"
   },
   {
    "duration": 10,
    "start_time": "2021-12-31T05:13:17.381Z"
   },
   {
    "duration": 10,
    "start_time": "2021-12-31T05:13:58.563Z"
   },
   {
    "duration": 11,
    "start_time": "2021-12-31T05:15:00.400Z"
   },
   {
    "duration": 12,
    "start_time": "2021-12-31T05:15:30.726Z"
   },
   {
    "duration": 12,
    "start_time": "2021-12-31T05:15:31.573Z"
   },
   {
    "duration": 9,
    "start_time": "2021-12-31T05:15:34.245Z"
   },
   {
    "duration": 16,
    "start_time": "2021-12-31T05:15:50.350Z"
   },
   {
    "duration": 11,
    "start_time": "2021-12-31T05:15:51.352Z"
   },
   {
    "duration": 11,
    "start_time": "2021-12-31T05:15:55.581Z"
   },
   {
    "duration": 10,
    "start_time": "2021-12-31T05:15:59.016Z"
   },
   {
    "duration": 10,
    "start_time": "2021-12-31T05:16:04.025Z"
   },
   {
    "duration": 10,
    "start_time": "2021-12-31T05:16:31.931Z"
   },
   {
    "duration": 5571,
    "start_time": "2021-12-31T05:20:35.781Z"
   },
   {
    "duration": 4,
    "start_time": "2021-12-31T05:20:53.252Z"
   },
   {
    "duration": 12,
    "start_time": "2021-12-31T05:20:54.765Z"
   },
   {
    "duration": 10,
    "start_time": "2021-12-31T05:20:58.869Z"
   },
   {
    "duration": 4,
    "start_time": "2021-12-31T05:21:01.947Z"
   },
   {
    "duration": 6,
    "start_time": "2021-12-31T05:22:21.180Z"
   },
   {
    "duration": 3,
    "start_time": "2021-12-31T05:22:22.136Z"
   },
   {
    "duration": 15,
    "start_time": "2021-12-31T05:22:23.177Z"
   },
   {
    "duration": 4,
    "start_time": "2021-12-31T05:22:49.914Z"
   },
   {
    "duration": 16,
    "start_time": "2021-12-31T05:22:51.149Z"
   },
   {
    "duration": 3,
    "start_time": "2021-12-31T05:23:07.173Z"
   },
   {
    "duration": 5,
    "start_time": "2021-12-31T05:23:07.179Z"
   },
   {
    "duration": 295,
    "start_time": "2021-12-31T05:23:07.185Z"
   },
   {
    "duration": 8,
    "start_time": "2021-12-31T05:23:07.483Z"
   },
   {
    "duration": 10,
    "start_time": "2021-12-31T05:23:07.493Z"
   },
   {
    "duration": 8,
    "start_time": "2021-12-31T05:23:07.505Z"
   },
   {
    "duration": 27,
    "start_time": "2021-12-31T05:23:07.515Z"
   },
   {
    "duration": 8,
    "start_time": "2021-12-31T05:23:07.544Z"
   },
   {
    "duration": 18,
    "start_time": "2021-12-31T05:23:07.554Z"
   },
   {
    "duration": 18,
    "start_time": "2021-12-31T05:23:07.573Z"
   },
   {
    "duration": 16,
    "start_time": "2021-12-31T05:23:07.593Z"
   },
   {
    "duration": 33,
    "start_time": "2021-12-31T05:23:07.611Z"
   },
   {
    "duration": 15,
    "start_time": "2021-12-31T05:23:07.646Z"
   },
   {
    "duration": 7,
    "start_time": "2021-12-31T05:23:07.663Z"
   },
   {
    "duration": 15,
    "start_time": "2021-12-31T05:23:07.672Z"
   },
   {
    "duration": 60,
    "start_time": "2021-12-31T05:23:07.689Z"
   },
   {
    "duration": 12,
    "start_time": "2021-12-31T05:23:07.751Z"
   },
   {
    "duration": 9,
    "start_time": "2021-12-31T05:23:07.764Z"
   },
   {
    "duration": 9,
    "start_time": "2021-12-31T05:23:07.774Z"
   },
   {
    "duration": 5,
    "start_time": "2021-12-31T05:23:07.786Z"
   },
   {
    "duration": 13,
    "start_time": "2021-12-31T05:23:07.794Z"
   },
   {
    "duration": 39,
    "start_time": "2021-12-31T05:23:07.809Z"
   },
   {
    "duration": 10,
    "start_time": "2021-12-31T05:23:07.849Z"
   },
   {
    "duration": 10,
    "start_time": "2021-12-31T05:23:07.860Z"
   },
   {
    "duration": 18,
    "start_time": "2021-12-31T05:23:07.871Z"
   },
   {
    "duration": 11,
    "start_time": "2021-12-31T05:23:07.890Z"
   },
   {
    "duration": 49,
    "start_time": "2021-12-31T05:23:07.903Z"
   },
   {
    "duration": 9,
    "start_time": "2021-12-31T05:23:07.954Z"
   },
   {
    "duration": 10,
    "start_time": "2021-12-31T05:23:07.964Z"
   },
   {
    "duration": 7,
    "start_time": "2021-12-31T05:23:07.975Z"
   },
   {
    "duration": 7,
    "start_time": "2021-12-31T05:23:07.984Z"
   },
   {
    "duration": 23,
    "start_time": "2021-12-31T05:23:07.993Z"
   },
   {
    "duration": 10,
    "start_time": "2021-12-31T05:23:08.042Z"
   },
   {
    "duration": 12,
    "start_time": "2021-12-31T05:23:08.054Z"
   },
   {
    "duration": 9,
    "start_time": "2021-12-31T05:23:08.068Z"
   },
   {
    "duration": 8,
    "start_time": "2021-12-31T05:23:08.079Z"
   },
   {
    "duration": 21,
    "start_time": "2021-12-31T05:23:08.089Z"
   },
   {
    "duration": 8,
    "start_time": "2021-12-31T05:23:08.111Z"
   },
   {
    "duration": 27,
    "start_time": "2021-12-31T05:23:08.121Z"
   },
   {
    "duration": 14,
    "start_time": "2021-12-31T05:23:08.149Z"
   },
   {
    "duration": 10,
    "start_time": "2021-12-31T05:23:08.165Z"
   },
   {
    "duration": 15,
    "start_time": "2021-12-31T05:23:08.176Z"
   },
   {
    "duration": 9,
    "start_time": "2021-12-31T05:23:08.192Z"
   },
   {
    "duration": 43,
    "start_time": "2021-12-31T05:23:08.202Z"
   },
   {
    "duration": 16,
    "start_time": "2021-12-31T05:23:08.247Z"
   },
   {
    "duration": 7,
    "start_time": "2021-12-31T05:23:08.265Z"
   },
   {
    "duration": 15,
    "start_time": "2021-12-31T05:23:08.274Z"
   },
   {
    "duration": 65,
    "start_time": "2021-12-31T05:23:08.290Z"
   },
   {
    "duration": 3,
    "start_time": "2021-12-31T05:23:08.357Z"
   },
   {
    "duration": 8,
    "start_time": "2021-12-31T05:23:08.362Z"
   },
   {
    "duration": 13,
    "start_time": "2021-12-31T05:23:08.372Z"
   },
   {
    "duration": 7,
    "start_time": "2021-12-31T05:23:08.386Z"
   },
   {
    "duration": 23,
    "start_time": "2021-12-31T05:23:08.395Z"
   },
   {
    "duration": 8,
    "start_time": "2021-12-31T05:23:08.441Z"
   },
   {
    "duration": 6,
    "start_time": "2021-12-31T05:23:08.450Z"
   },
   {
    "duration": 12,
    "start_time": "2021-12-31T05:23:08.462Z"
   },
   {
    "duration": 8,
    "start_time": "2021-12-31T05:23:08.477Z"
   },
   {
    "duration": 13,
    "start_time": "2021-12-31T05:23:08.486Z"
   },
   {
    "duration": 22,
    "start_time": "2021-12-31T05:23:08.501Z"
   },
   {
    "duration": 11,
    "start_time": "2021-12-31T05:23:08.542Z"
   },
   {
    "duration": 6,
    "start_time": "2021-12-31T05:23:08.555Z"
   },
   {
    "duration": 16,
    "start_time": "2021-12-31T05:23:08.562Z"
   },
   {
    "duration": 4,
    "start_time": "2021-12-31T05:23:08.579Z"
   },
   {
    "duration": 15,
    "start_time": "2021-12-31T05:23:08.584Z"
   },
   {
    "duration": 3,
    "start_time": "2021-12-31T05:23:08.600Z"
   },
   {
    "duration": 13,
    "start_time": "2021-12-31T05:23:08.605Z"
   },
   {
    "duration": 30,
    "start_time": "2021-12-31T05:23:08.620Z"
   },
   {
    "duration": 15,
    "start_time": "2021-12-31T05:23:08.651Z"
   },
   {
    "duration": 11,
    "start_time": "2021-12-31T05:23:08.667Z"
   },
   {
    "duration": 7,
    "start_time": "2021-12-31T05:23:08.679Z"
   },
   {
    "duration": 19,
    "start_time": "2021-12-31T05:23:08.688Z"
   },
   {
    "duration": 20,
    "start_time": "2021-12-31T05:23:08.709Z"
   },
   {
    "duration": 5,
    "start_time": "2021-12-31T05:23:08.731Z"
   },
   {
    "duration": 14,
    "start_time": "2021-12-31T05:23:08.741Z"
   },
   {
    "duration": 13,
    "start_time": "2021-12-31T05:23:08.757Z"
   },
   {
    "duration": 14,
    "start_time": "2021-12-31T05:23:08.772Z"
   },
   {
    "duration": 18,
    "start_time": "2021-12-31T05:23:08.788Z"
   },
   {
    "duration": 10,
    "start_time": "2021-12-31T05:23:08.808Z"
   },
   {
    "duration": 27,
    "start_time": "2021-12-31T05:23:08.820Z"
   },
   {
    "duration": 15,
    "start_time": "2021-12-31T05:23:08.848Z"
   },
   {
    "duration": 9,
    "start_time": "2021-12-31T05:23:08.865Z"
   },
   {
    "duration": 13,
    "start_time": "2021-12-31T05:23:08.876Z"
   },
   {
    "duration": 17,
    "start_time": "2021-12-31T05:23:08.890Z"
   },
   {
    "duration": 8,
    "start_time": "2021-12-31T05:23:08.909Z"
   },
   {
    "duration": 12,
    "start_time": "2021-12-31T05:23:08.918Z"
   },
   {
    "duration": 12,
    "start_time": "2021-12-31T05:23:08.932Z"
   },
   {
    "duration": 5,
    "start_time": "2021-12-31T05:23:08.946Z"
   },
   {
    "duration": 9,
    "start_time": "2021-12-31T05:23:08.953Z"
   },
   {
    "duration": 44,
    "start_time": "2021-12-31T05:23:08.964Z"
   },
   {
    "duration": 3,
    "start_time": "2021-12-31T05:23:09.010Z"
   },
   {
    "duration": 58,
    "start_time": "2021-12-31T05:23:09.014Z"
   },
   {
    "duration": 14,
    "start_time": "2021-12-31T05:23:09.074Z"
   },
   {
    "duration": 3,
    "start_time": "2021-12-31T05:23:09.090Z"
   },
   {
    "duration": 54,
    "start_time": "2021-12-31T05:23:09.094Z"
   },
   {
    "duration": 14,
    "start_time": "2021-12-31T05:23:09.150Z"
   },
   {
    "duration": 5,
    "start_time": "2021-12-31T05:23:09.165Z"
   },
   {
    "duration": 81,
    "start_time": "2021-12-31T05:23:09.172Z"
   },
   {
    "duration": 16,
    "start_time": "2021-12-31T05:23:09.254Z"
   },
   {
    "duration": 6,
    "start_time": "2021-12-31T05:23:09.271Z"
   },
   {
    "duration": 16,
    "start_time": "2021-12-31T05:23:09.278Z"
   },
   {
    "duration": 7,
    "start_time": "2021-12-31T05:23:09.295Z"
   },
   {
    "duration": 39,
    "start_time": "2021-12-31T05:23:09.303Z"
   },
   {
    "duration": 3,
    "start_time": "2021-12-31T05:23:09.344Z"
   },
   {
    "duration": 17,
    "start_time": "2021-12-31T05:23:09.349Z"
   },
   {
    "duration": 28,
    "start_time": "2021-12-31T05:23:09.368Z"
   },
   {
    "duration": 3,
    "start_time": "2021-12-31T05:23:09.398Z"
   },
   {
    "duration": 192,
    "start_time": "2021-12-31T05:23:09.402Z"
   },
   {
    "duration": 164,
    "start_time": "2021-12-31T05:23:09.596Z"
   },
   {
    "duration": 165,
    "start_time": "2021-12-31T05:23:09.762Z"
   },
   {
    "duration": 4,
    "start_time": "2021-12-31T05:23:09.929Z"
   },
   {
    "duration": 15,
    "start_time": "2021-12-31T05:23:09.941Z"
   },
   {
    "duration": 29,
    "start_time": "2021-12-31T05:23:09.957Z"
   },
   {
    "duration": 4,
    "start_time": "2021-12-31T05:23:09.988Z"
   },
   {
    "duration": 196,
    "start_time": "2021-12-31T05:23:09.993Z"
   },
   {
    "duration": 249,
    "start_time": "2021-12-31T05:23:10.190Z"
   },
   {
    "duration": 170,
    "start_time": "2021-12-31T05:23:10.441Z"
   },
   {
    "duration": 9,
    "start_time": "2021-12-31T05:23:10.612Z"
   },
   {
    "duration": 19,
    "start_time": "2021-12-31T05:23:10.623Z"
   },
   {
    "duration": 9,
    "start_time": "2021-12-31T05:23:10.643Z"
   },
   {
    "duration": 12,
    "start_time": "2021-12-31T05:23:10.653Z"
   },
   {
    "duration": 4,
    "start_time": "2021-12-31T05:23:10.666Z"
   },
   {
    "duration": 14,
    "start_time": "2021-12-31T05:23:10.671Z"
   },
   {
    "duration": 12,
    "start_time": "2021-12-31T05:23:10.687Z"
   },
   {
    "duration": 19,
    "start_time": "2021-12-31T05:23:10.700Z"
   },
   {
    "duration": 31,
    "start_time": "2021-12-31T05:23:10.721Z"
   },
   {
    "duration": 10,
    "start_time": "2021-12-31T05:23:10.753Z"
   },
   {
    "duration": 20,
    "start_time": "2021-12-31T05:23:10.764Z"
   },
   {
    "duration": 9,
    "start_time": "2021-12-31T05:23:10.786Z"
   },
   {
    "duration": 28,
    "start_time": "2021-12-31T05:23:10.796Z"
   },
   {
    "duration": 9,
    "start_time": "2021-12-31T05:23:10.826Z"
   },
   {
    "duration": 23,
    "start_time": "2021-12-31T05:23:10.836Z"
   },
   {
    "duration": 11,
    "start_time": "2021-12-31T05:23:10.861Z"
   },
   {
    "duration": 15,
    "start_time": "2021-12-31T05:23:10.873Z"
   },
   {
    "duration": 14,
    "start_time": "2021-12-31T05:23:10.890Z"
   },
   {
    "duration": 17,
    "start_time": "2021-12-31T05:23:10.906Z"
   },
   {
    "duration": 12,
    "start_time": "2021-12-31T05:23:10.924Z"
   },
   {
    "duration": 13,
    "start_time": "2021-12-31T05:23:10.937Z"
   },
   {
    "duration": 10,
    "start_time": "2021-12-31T05:23:10.952Z"
   },
   {
    "duration": 12,
    "start_time": "2021-12-31T05:23:10.964Z"
   },
   {
    "duration": 8,
    "start_time": "2021-12-31T05:23:10.977Z"
   },
   {
    "duration": 18,
    "start_time": "2021-12-31T05:23:10.986Z"
   },
   {
    "duration": 12,
    "start_time": "2021-12-31T05:23:11.005Z"
   },
   {
    "duration": 15,
    "start_time": "2021-12-31T05:23:11.019Z"
   },
   {
    "duration": 9,
    "start_time": "2021-12-31T05:23:11.036Z"
   },
   {
    "duration": 18,
    "start_time": "2021-12-31T05:23:11.047Z"
   },
   {
    "duration": 10,
    "start_time": "2021-12-31T05:23:11.066Z"
   },
   {
    "duration": 14,
    "start_time": "2021-12-31T05:23:11.078Z"
   },
   {
    "duration": 8,
    "start_time": "2021-12-31T05:23:11.094Z"
   },
   {
    "duration": 16,
    "start_time": "2021-12-31T05:23:11.104Z"
   },
   {
    "duration": 8,
    "start_time": "2021-12-31T05:23:11.122Z"
   },
   {
    "duration": 22,
    "start_time": "2021-12-31T05:23:11.132Z"
   },
   {
    "duration": 17,
    "start_time": "2021-12-31T05:23:11.156Z"
   },
   {
    "duration": 5,
    "start_time": "2021-12-31T05:24:07.940Z"
   },
   {
    "duration": 15,
    "start_time": "2021-12-31T05:28:39.182Z"
   },
   {
    "duration": 24,
    "start_time": "2021-12-31T05:31:56.141Z"
   },
   {
    "duration": 12,
    "start_time": "2021-12-31T05:33:00.037Z"
   },
   {
    "duration": 15,
    "start_time": "2021-12-31T05:37:19.810Z"
   },
   {
    "duration": 29,
    "start_time": "2021-12-31T05:38:42.856Z"
   },
   {
    "duration": 4,
    "start_time": "2021-12-31T05:38:43.628Z"
   },
   {
    "duration": 5,
    "start_time": "2021-12-31T05:38:44.509Z"
   },
   {
    "duration": 11,
    "start_time": "2021-12-31T05:38:46.114Z"
   },
   {
    "duration": 25,
    "start_time": "2021-12-31T05:39:31.117Z"
   },
   {
    "duration": 8,
    "start_time": "2021-12-31T05:39:32.375Z"
   },
   {
    "duration": 3,
    "start_time": "2021-12-31T05:39:39.263Z"
   },
   {
    "duration": 13,
    "start_time": "2021-12-31T05:39:44.361Z"
   },
   {
    "duration": 6,
    "start_time": "2021-12-31T05:39:48.559Z"
   },
   {
    "duration": 10,
    "start_time": "2021-12-31T05:39:49.817Z"
   },
   {
    "duration": 21,
    "start_time": "2021-12-31T05:40:37.699Z"
   },
   {
    "duration": 12,
    "start_time": "2021-12-31T05:40:38.425Z"
   },
   {
    "duration": 5,
    "start_time": "2021-12-31T05:40:42.424Z"
   },
   {
    "duration": 11,
    "start_time": "2021-12-31T05:40:43.002Z"
   },
   {
    "duration": 4,
    "start_time": "2021-12-31T05:41:46.992Z"
   },
   {
    "duration": 11,
    "start_time": "2021-12-31T05:41:47.862Z"
   },
   {
    "duration": 3,
    "start_time": "2021-12-31T05:45:03.501Z"
   },
   {
    "duration": 8,
    "start_time": "2021-12-31T05:45:04.518Z"
   },
   {
    "duration": 14,
    "start_time": "2021-12-31T05:45:05.598Z"
   },
   {
    "duration": 10,
    "start_time": "2021-12-31T05:45:16.845Z"
   },
   {
    "duration": 14,
    "start_time": "2021-12-31T05:45:28.216Z"
   },
   {
    "duration": 4,
    "start_time": "2021-12-31T05:45:42.518Z"
   },
   {
    "duration": 12,
    "start_time": "2021-12-31T05:45:44.049Z"
   },
   {
    "duration": 6,
    "start_time": "2021-12-31T05:46:45.909Z"
   },
   {
    "duration": 11,
    "start_time": "2021-12-31T05:46:53.251Z"
   },
   {
    "duration": 8,
    "start_time": "2021-12-31T05:49:08.730Z"
   },
   {
    "duration": 11,
    "start_time": "2021-12-31T05:49:16.777Z"
   },
   {
    "duration": 3,
    "start_time": "2021-12-31T05:50:27.321Z"
   },
   {
    "duration": 6,
    "start_time": "2021-12-31T05:50:28.458Z"
   },
   {
    "duration": 11,
    "start_time": "2021-12-31T05:50:42.672Z"
   },
   {
    "duration": 4,
    "start_time": "2021-12-31T05:50:46.219Z"
   },
   {
    "duration": 4,
    "start_time": "2021-12-31T05:52:53.892Z"
   },
   {
    "duration": 7,
    "start_time": "2021-12-31T05:52:54.696Z"
   },
   {
    "duration": 7,
    "start_time": "2021-12-31T05:53:42.158Z"
   },
   {
    "duration": 4,
    "start_time": "2021-12-31T05:53:43.025Z"
   },
   {
    "duration": 6,
    "start_time": "2021-12-31T05:54:23.235Z"
   },
   {
    "duration": 4,
    "start_time": "2021-12-31T05:54:24.924Z"
   },
   {
    "duration": 7708,
    "start_time": "2021-12-31T05:54:29.211Z"
   },
   {
    "duration": 3,
    "start_time": "2021-12-31T05:55:09.891Z"
   },
   {
    "duration": 7508,
    "start_time": "2021-12-31T05:55:10.802Z"
   },
   {
    "duration": 3,
    "start_time": "2021-12-31T05:55:19.730Z"
   },
   {
    "duration": 6784,
    "start_time": "2021-12-31T05:55:21.216Z"
   },
   {
    "duration": 13,
    "start_time": "2021-12-31T05:55:44.197Z"
   },
   {
    "duration": 12,
    "start_time": "2021-12-31T05:55:54.182Z"
   },
   {
    "duration": 3,
    "start_time": "2021-12-31T05:55:59.344Z"
   },
   {
    "duration": 7015,
    "start_time": "2021-12-31T05:56:00.073Z"
   },
   {
    "duration": -999,
    "start_time": "2021-12-31T05:56:08.089Z"
   },
   {
    "duration": 12,
    "start_time": "2021-12-31T05:56:14.034Z"
   },
   {
    "duration": 4,
    "start_time": "2021-12-31T05:56:14.872Z"
   },
   {
    "duration": 2,
    "start_time": "2021-12-31T06:04:22.790Z"
   },
   {
    "duration": 3,
    "start_time": "2021-12-31T06:04:23.487Z"
   },
   {
    "duration": 297,
    "start_time": "2021-12-31T06:04:24.194Z"
   },
   {
    "duration": 9,
    "start_time": "2021-12-31T06:04:24.928Z"
   },
   {
    "duration": 8,
    "start_time": "2021-12-31T06:04:25.655Z"
   },
   {
    "duration": 9,
    "start_time": "2021-12-31T06:04:26.441Z"
   },
   {
    "duration": 10,
    "start_time": "2021-12-31T06:04:27.250Z"
   },
   {
    "duration": 8,
    "start_time": "2021-12-31T06:04:29.213Z"
   },
   {
    "duration": 16,
    "start_time": "2021-12-31T06:04:30.566Z"
   },
   {
    "duration": 20,
    "start_time": "2021-12-31T06:04:32.089Z"
   },
   {
    "duration": 17,
    "start_time": "2021-12-31T06:04:33.266Z"
   },
   {
    "duration": 6,
    "start_time": "2021-12-31T06:04:34.322Z"
   },
   {
    "duration": 15,
    "start_time": "2021-12-31T06:04:37.535Z"
   },
   {
    "duration": 7,
    "start_time": "2021-12-31T06:04:38.909Z"
   },
   {
    "duration": 12,
    "start_time": "2021-12-31T06:04:41.295Z"
   },
   {
    "duration": 22,
    "start_time": "2021-12-31T06:04:42.351Z"
   },
   {
    "duration": 13,
    "start_time": "2021-12-31T06:04:43.082Z"
   },
   {
    "duration": 9,
    "start_time": "2021-12-31T06:04:44.154Z"
   },
   {
    "duration": 6,
    "start_time": "2021-12-31T06:04:45.074Z"
   },
   {
    "duration": 6,
    "start_time": "2021-12-31T06:04:46.722Z"
   },
   {
    "duration": 11,
    "start_time": "2021-12-31T06:05:03.992Z"
   },
   {
    "duration": 14,
    "start_time": "2021-12-31T06:05:05.250Z"
   },
   {
    "duration": 11,
    "start_time": "2021-12-31T06:05:06.409Z"
   },
   {
    "duration": 11,
    "start_time": "2021-12-31T06:05:07.272Z"
   },
   {
    "duration": 17,
    "start_time": "2021-12-31T06:05:09.049Z"
   },
   {
    "duration": 12,
    "start_time": "2021-12-31T06:05:09.782Z"
   },
   {
    "duration": 11,
    "start_time": "2021-12-31T06:05:11.304Z"
   },
   {
    "duration": 10,
    "start_time": "2021-12-31T06:05:11.964Z"
   },
   {
    "duration": 10,
    "start_time": "2021-12-31T06:05:13.863Z"
   },
   {
    "duration": 6,
    "start_time": "2021-12-31T06:05:15.055Z"
   },
   {
    "duration": 3,
    "start_time": "2021-12-31T06:05:16.205Z"
   },
   {
    "duration": 12,
    "start_time": "2021-12-31T06:05:22.193Z"
   },
   {
    "duration": 5,
    "start_time": "2021-12-31T06:08:38.751Z"
   },
   {
    "duration": 4,
    "start_time": "2021-12-31T06:08:39.531Z"
   },
   {
    "duration": 15,
    "start_time": "2021-12-31T06:08:40.542Z"
   },
   {
    "duration": 4,
    "start_time": "2021-12-31T06:08:41.475Z"
   },
   {
    "duration": 12,
    "start_time": "2021-12-31T06:08:46.352Z"
   },
   {
    "duration": 14,
    "start_time": "2021-12-31T06:08:47.732Z"
   },
   {
    "duration": 10,
    "start_time": "2021-12-31T06:08:51.193Z"
   },
   {
    "duration": 16,
    "start_time": "2021-12-31T06:08:53.642Z"
   },
   {
    "duration": 13,
    "start_time": "2021-12-31T06:08:56.305Z"
   },
   {
    "duration": 11,
    "start_time": "2021-12-31T06:08:59.493Z"
   },
   {
    "duration": 18,
    "start_time": "2021-12-31T06:09:02.388Z"
   },
   {
    "duration": 26,
    "start_time": "2021-12-31T06:09:05.230Z"
   },
   {
    "duration": 4,
    "start_time": "2021-12-31T06:09:06.414Z"
   },
   {
    "duration": 4,
    "start_time": "2021-12-31T06:09:07.280Z"
   },
   {
    "duration": 12,
    "start_time": "2021-12-31T06:09:09.370Z"
   },
   {
    "duration": 9,
    "start_time": "2021-12-31T06:09:10.279Z"
   },
   {
    "duration": 20,
    "start_time": "2021-12-31T06:09:11.486Z"
   },
   {
    "duration": 7,
    "start_time": "2021-12-31T06:09:12.686Z"
   },
   {
    "duration": 4,
    "start_time": "2021-12-31T06:09:13.680Z"
   },
   {
    "duration": 12,
    "start_time": "2021-12-31T06:09:14.888Z"
   },
   {
    "duration": 5,
    "start_time": "2021-12-31T06:09:18.233Z"
   },
   {
    "duration": 10,
    "start_time": "2021-12-31T06:09:21.697Z"
   },
   {
    "duration": 17,
    "start_time": "2021-12-31T06:09:24.680Z"
   },
   {
    "duration": 12,
    "start_time": "2021-12-31T06:09:28.165Z"
   },
   {
    "duration": 5,
    "start_time": "2021-12-31T06:09:31.160Z"
   },
   {
    "duration": 10,
    "start_time": "2021-12-31T06:09:34.073Z"
   },
   {
    "duration": 4,
    "start_time": "2021-12-31T06:09:48.817Z"
   },
   {
    "duration": 11,
    "start_time": "2021-12-31T06:09:54.892Z"
   },
   {
    "duration": 3,
    "start_time": "2021-12-31T06:09:59.344Z"
   },
   {
    "duration": 8,
    "start_time": "2021-12-31T06:10:00.731Z"
   },
   {
    "duration": 15,
    "start_time": "2021-12-31T06:10:01.718Z"
   },
   {
    "duration": 8,
    "start_time": "2021-12-31T06:10:05.183Z"
   },
   {
    "duration": 13,
    "start_time": "2021-12-31T06:10:06.385Z"
   },
   {
    "duration": 4,
    "start_time": "2021-12-31T06:10:08.249Z"
   },
   {
    "duration": 13,
    "start_time": "2021-12-31T06:10:11.353Z"
   },
   {
    "duration": 8,
    "start_time": "2021-12-31T06:10:13.579Z"
   },
   {
    "duration": 10,
    "start_time": "2021-12-31T06:10:19.007Z"
   },
   {
    "duration": 12,
    "start_time": "2021-12-31T06:10:22.992Z"
   },
   {
    "duration": 4,
    "start_time": "2021-12-31T06:10:24.547Z"
   },
   {
    "duration": 6,
    "start_time": "2021-12-31T06:10:27.953Z"
   },
   {
    "duration": 10,
    "start_time": "2021-12-31T06:10:29.143Z"
   },
   {
    "duration": 4,
    "start_time": "2021-12-31T06:10:34.131Z"
   },
   {
    "duration": 8,
    "start_time": "2021-12-31T06:10:34.950Z"
   },
   {
    "duration": 8,
    "start_time": "2021-12-31T06:10:39.975Z"
   },
   {
    "duration": 6,
    "start_time": "2021-12-31T06:10:41.776Z"
   },
   {
    "duration": 4,
    "start_time": "2021-12-31T06:10:45.157Z"
   },
   {
    "duration": 41,
    "start_time": "2021-12-31T06:10:47.645Z"
   },
   {
    "duration": 4,
    "start_time": "2021-12-31T06:10:50.345Z"
   },
   {
    "duration": 41,
    "start_time": "2021-12-31T06:10:52.388Z"
   },
   {
    "duration": 15,
    "start_time": "2021-12-31T06:10:54.673Z"
   },
   {
    "duration": 4,
    "start_time": "2021-12-31T06:10:58.934Z"
   },
   {
    "duration": 40,
    "start_time": "2021-12-31T06:11:00.530Z"
   },
   {
    "duration": 16,
    "start_time": "2021-12-31T06:11:02.559Z"
   },
   {
    "duration": 5,
    "start_time": "2021-12-31T06:11:06.484Z"
   },
   {
    "duration": 64,
    "start_time": "2021-12-31T06:11:10.980Z"
   },
   {
    "duration": 14,
    "start_time": "2021-12-31T06:11:13.552Z"
   },
   {
    "duration": 5,
    "start_time": "2021-12-31T06:13:14.520Z"
   },
   {
    "duration": 18,
    "start_time": "2021-12-31T06:13:15.319Z"
   },
   {
    "duration": 31,
    "start_time": "2021-12-31T06:13:26.279Z"
   },
   {
    "duration": 5,
    "start_time": "2021-12-31T06:13:33.330Z"
   },
   {
    "duration": 13,
    "start_time": "2021-12-31T06:22:04.334Z"
   },
   {
    "duration": 21,
    "start_time": "2021-12-31T06:22:35.938Z"
   },
   {
    "duration": 4,
    "start_time": "2021-12-31T06:24:37.194Z"
   },
   {
    "duration": 4,
    "start_time": "2021-12-31T06:29:56.653Z"
   },
   {
    "duration": 14,
    "start_time": "2021-12-31T06:29:57.606Z"
   },
   {
    "duration": 29,
    "start_time": "2021-12-31T06:30:03.525Z"
   },
   {
    "duration": 9,
    "start_time": "2021-12-31T06:41:48.530Z"
   },
   {
    "duration": 4,
    "start_time": "2021-12-31T06:41:49.441Z"
   },
   {
    "duration": 8,
    "start_time": "2021-12-31T06:41:50.266Z"
   },
   {
    "duration": 9,
    "start_time": "2021-12-31T06:42:31.981Z"
   },
   {
    "duration": 4,
    "start_time": "2021-12-31T06:42:34.122Z"
   },
   {
    "duration": 9,
    "start_time": "2021-12-31T06:42:37.036Z"
   },
   {
    "duration": 10,
    "start_time": "2021-12-31T06:42:38.523Z"
   },
   {
    "duration": 4,
    "start_time": "2021-12-31T06:42:40.962Z"
   },
   {
    "duration": 9,
    "start_time": "2021-12-31T06:42:43.432Z"
   },
   {
    "duration": 8,
    "start_time": "2021-12-31T06:42:50.408Z"
   },
   {
    "duration": 15,
    "start_time": "2021-12-31T06:42:52.433Z"
   },
   {
    "duration": 13,
    "start_time": "2021-12-31T06:42:54.265Z"
   },
   {
    "duration": 13,
    "start_time": "2021-12-31T06:45:17.941Z"
   },
   {
    "duration": 14,
    "start_time": "2021-12-31T06:45:36.793Z"
   },
   {
    "duration": 5,
    "start_time": "2021-12-31T06:47:54.622Z"
   },
   {
    "duration": 5,
    "start_time": "2021-12-31T06:53:18.494Z"
   },
   {
    "duration": 93,
    "start_time": "2021-12-31T06:57:02.973Z"
   },
   {
    "duration": 169,
    "start_time": "2021-12-31T06:57:18.896Z"
   },
   {
    "duration": 4,
    "start_time": "2021-12-31T06:58:14.287Z"
   },
   {
    "duration": 15,
    "start_time": "2021-12-31T06:58:15.082Z"
   },
   {
    "duration": 4,
    "start_time": "2021-12-31T06:58:24.918Z"
   },
   {
    "duration": 4,
    "start_time": "2021-12-31T06:58:50.718Z"
   },
   {
    "duration": 15,
    "start_time": "2021-12-31T06:58:51.625Z"
   },
   {
    "duration": 3,
    "start_time": "2021-12-31T07:00:31.413Z"
   },
   {
    "duration": 9,
    "start_time": "2021-12-31T07:00:32.278Z"
   },
   {
    "duration": 4,
    "start_time": "2021-12-31T07:00:35.146Z"
   },
   {
    "duration": 9,
    "start_time": "2021-12-31T07:00:36.617Z"
   },
   {
    "duration": 4,
    "start_time": "2021-12-31T07:01:31.757Z"
   },
   {
    "duration": 9,
    "start_time": "2021-12-31T07:01:32.391Z"
   },
   {
    "duration": 7,
    "start_time": "2021-12-31T07:01:35.901Z"
   },
   {
    "duration": 9,
    "start_time": "2021-12-31T07:01:37.323Z"
   },
   {
    "duration": 5,
    "start_time": "2021-12-31T07:01:45.319Z"
   },
   {
    "duration": 6,
    "start_time": "2021-12-31T07:01:45.912Z"
   },
   {
    "duration": 5,
    "start_time": "2021-12-31T07:02:31.350Z"
   },
   {
    "duration": 10,
    "start_time": "2021-12-31T07:02:32.329Z"
   },
   {
    "duration": 6,
    "start_time": "2021-12-31T07:02:35.724Z"
   },
   {
    "duration": 10,
    "start_time": "2021-12-31T07:02:42.735Z"
   },
   {
    "duration": 6,
    "start_time": "2021-12-31T07:02:47.119Z"
   },
   {
    "duration": 10,
    "start_time": "2021-12-31T07:02:47.975Z"
   },
   {
    "duration": 4,
    "start_time": "2021-12-31T07:02:52.902Z"
   },
   {
    "duration": 10,
    "start_time": "2021-12-31T07:02:54.275Z"
   },
   {
    "duration": 4,
    "start_time": "2021-12-31T07:03:21.665Z"
   },
   {
    "duration": 4,
    "start_time": "2021-12-31T07:03:28.333Z"
   },
   {
    "duration": 11,
    "start_time": "2021-12-31T07:03:29.306Z"
   },
   {
    "duration": 3,
    "start_time": "2021-12-31T07:03:34.914Z"
   },
   {
    "duration": 10,
    "start_time": "2021-12-31T07:03:35.693Z"
   },
   {
    "duration": 6,
    "start_time": "2021-12-31T07:03:37.151Z"
   },
   {
    "duration": 5,
    "start_time": "2021-12-31T07:05:19.070Z"
   },
   {
    "duration": 14,
    "start_time": "2021-12-31T07:09:03.359Z"
   },
   {
    "duration": 14,
    "start_time": "2021-12-31T07:09:04.316Z"
   },
   {
    "duration": 94,
    "start_time": "2021-12-31T07:11:09.284Z"
   },
   {
    "duration": 3,
    "start_time": "2021-12-31T07:17:21.747Z"
   },
   {
    "duration": 3,
    "start_time": "2021-12-31T07:17:22.649Z"
   },
   {
    "duration": 300,
    "start_time": "2021-12-31T07:17:23.551Z"
   },
   {
    "duration": 8,
    "start_time": "2021-12-31T07:17:26.946Z"
   },
   {
    "duration": 7,
    "start_time": "2021-12-31T07:17:29.266Z"
   },
   {
    "duration": 9,
    "start_time": "2021-12-31T07:17:29.274Z"
   },
   {
    "duration": 10,
    "start_time": "2021-12-31T07:17:29.917Z"
   },
   {
    "duration": 8,
    "start_time": "2021-12-31T07:17:31.000Z"
   },
   {
    "duration": 16,
    "start_time": "2021-12-31T07:17:31.949Z"
   },
   {
    "duration": 19,
    "start_time": "2021-12-31T07:17:33.574Z"
   },
   {
    "duration": 16,
    "start_time": "2021-12-31T07:17:35.135Z"
   },
   {
    "duration": 4,
    "start_time": "2021-12-31T07:17:36.182Z"
   },
   {
    "duration": 11,
    "start_time": "2021-12-31T07:17:52.781Z"
   },
   {
    "duration": 7,
    "start_time": "2021-12-31T07:18:09.925Z"
   },
   {
    "duration": 14,
    "start_time": "2021-12-31T07:18:11.038Z"
   },
   {
    "duration": 22,
    "start_time": "2021-12-31T07:18:16.607Z"
   },
   {
    "duration": 13,
    "start_time": "2021-12-31T07:18:17.958Z"
   },
   {
    "duration": 10,
    "start_time": "2021-12-31T07:18:19.655Z"
   },
   {
    "duration": 6,
    "start_time": "2021-12-31T07:18:21.191Z"
   },
   {
    "duration": 9,
    "start_time": "2021-12-31T07:18:23.952Z"
   },
   {
    "duration": 12,
    "start_time": "2021-12-31T07:18:26.989Z"
   },
   {
    "duration": 14,
    "start_time": "2021-12-31T07:18:28.124Z"
   },
   {
    "duration": 11,
    "start_time": "2021-12-31T07:18:29.144Z"
   },
   {
    "duration": 12,
    "start_time": "2021-12-31T07:18:29.998Z"
   },
   {
    "duration": 19,
    "start_time": "2021-12-31T07:18:32.344Z"
   },
   {
    "duration": 13,
    "start_time": "2021-12-31T07:18:33.271Z"
   },
   {
    "duration": 13,
    "start_time": "2021-12-31T07:18:38.549Z"
   },
   {
    "duration": 11,
    "start_time": "2021-12-31T07:18:43.032Z"
   },
   {
    "duration": 11,
    "start_time": "2021-12-31T07:18:45.475Z"
   },
   {
    "duration": 6,
    "start_time": "2021-12-31T07:18:48.109Z"
   },
   {
    "duration": 4,
    "start_time": "2021-12-31T07:18:49.257Z"
   },
   {
    "duration": 13,
    "start_time": "2021-12-31T07:19:00.014Z"
   },
   {
    "duration": 11,
    "start_time": "2021-12-31T07:19:04.354Z"
   },
   {
    "duration": 4,
    "start_time": "2021-12-31T07:19:05.174Z"
   },
   {
    "duration": 5,
    "start_time": "2021-12-31T07:19:08.440Z"
   },
   {
    "duration": 4,
    "start_time": "2021-12-31T07:19:10.249Z"
   },
   {
    "duration": 16,
    "start_time": "2021-12-31T07:19:11.144Z"
   },
   {
    "duration": 3,
    "start_time": "2021-12-31T07:19:56.094Z"
   },
   {
    "duration": 16,
    "start_time": "2021-12-31T07:19:57.554Z"
   },
   {
    "duration": 11,
    "start_time": "2021-12-31T07:20:08.534Z"
   },
   {
    "duration": 4,
    "start_time": "2021-12-31T07:20:14.019Z"
   },
   {
    "duration": 14,
    "start_time": "2021-12-31T07:20:15.150Z"
   },
   {
    "duration": 14,
    "start_time": "2021-12-31T07:20:18.925Z"
   },
   {
    "duration": 10,
    "start_time": "2021-12-31T07:20:21.126Z"
   },
   {
    "duration": 13,
    "start_time": "2021-12-31T07:20:42.219Z"
   },
   {
    "duration": 11,
    "start_time": "2021-12-31T07:20:46.549Z"
   },
   {
    "duration": 10,
    "start_time": "2021-12-31T07:20:49.765Z"
   },
   {
    "duration": 17,
    "start_time": "2021-12-31T07:20:52.366Z"
   },
   {
    "duration": 26,
    "start_time": "2021-12-31T07:20:58.429Z"
   },
   {
    "duration": 4,
    "start_time": "2021-12-31T07:20:59.254Z"
   },
   {
    "duration": 5,
    "start_time": "2021-12-31T07:21:00.263Z"
   },
   {
    "duration": 12,
    "start_time": "2021-12-31T07:21:02.803Z"
   },
   {
    "duration": 10,
    "start_time": "2021-12-31T07:21:03.933Z"
   },
   {
    "duration": 20,
    "start_time": "2021-12-31T07:21:06.174Z"
   },
   {
    "duration": 7,
    "start_time": "2021-12-31T07:21:08.561Z"
   },
   {
    "duration": 4,
    "start_time": "2021-12-31T07:21:09.535Z"
   },
   {
    "duration": 12,
    "start_time": "2021-12-31T07:21:10.455Z"
   },
   {
    "duration": 5,
    "start_time": "2021-12-31T07:21:13.229Z"
   },
   {
    "duration": 9,
    "start_time": "2021-12-31T07:21:14.052Z"
   },
   {
    "duration": 22,
    "start_time": "2021-12-31T07:21:15.158Z"
   },
   {
    "duration": 11,
    "start_time": "2021-12-31T07:21:16.958Z"
   },
   {
    "duration": 4,
    "start_time": "2021-12-31T07:21:17.774Z"
   },
   {
    "duration": 9,
    "start_time": "2021-12-31T07:21:18.638Z"
   },
   {
    "duration": 4,
    "start_time": "2021-12-31T07:21:19.461Z"
   },
   {
    "duration": 11,
    "start_time": "2021-12-31T07:21:20.535Z"
   },
   {
    "duration": 2,
    "start_time": "2021-12-31T07:21:21.833Z"
   },
   {
    "duration": 8,
    "start_time": "2021-12-31T07:21:23.591Z"
   },
   {
    "duration": 12,
    "start_time": "2021-12-31T07:21:25.332Z"
   },
   {
    "duration": 8,
    "start_time": "2021-12-31T07:21:26.231Z"
   },
   {
    "duration": 13,
    "start_time": "2021-12-31T07:21:29.251Z"
   },
   {
    "duration": 13,
    "start_time": "2021-12-31T07:21:51.670Z"
   },
   {
    "duration": 4,
    "start_time": "2021-12-31T07:22:36.525Z"
   },
   {
    "duration": 12,
    "start_time": "2021-12-31T07:22:37.360Z"
   },
   {
    "duration": 8,
    "start_time": "2021-12-31T07:22:41.526Z"
   },
   {
    "duration": 10,
    "start_time": "2021-12-31T07:22:48.191Z"
   },
   {
    "duration": 10,
    "start_time": "2021-12-31T07:22:49.487Z"
   },
   {
    "duration": 4,
    "start_time": "2021-12-31T07:22:53.334Z"
   },
   {
    "duration": 6,
    "start_time": "2021-12-31T07:22:54.582Z"
   },
   {
    "duration": 10,
    "start_time": "2021-12-31T07:22:57.071Z"
   },
   {
    "duration": 3,
    "start_time": "2021-12-31T07:22:58.934Z"
   },
   {
    "duration": 7,
    "start_time": "2021-12-31T07:22:59.799Z"
   },
   {
    "duration": 7,
    "start_time": "2021-12-31T07:23:00.782Z"
   },
   {
    "duration": 6,
    "start_time": "2021-12-31T07:23:01.630Z"
   },
   {
    "duration": 3,
    "start_time": "2021-12-31T07:23:03.230Z"
   },
   {
    "duration": 41,
    "start_time": "2021-12-31T07:23:04.069Z"
   },
   {
    "duration": 4,
    "start_time": "2021-12-31T07:23:05.151Z"
   },
   {
    "duration": 38,
    "start_time": "2021-12-31T07:23:06.142Z"
   },
   {
    "duration": 15,
    "start_time": "2021-12-31T07:23:07.240Z"
   },
   {
    "duration": 3,
    "start_time": "2021-12-31T07:23:08.421Z"
   },
   {
    "duration": 40,
    "start_time": "2021-12-31T07:23:09.589Z"
   },
   {
    "duration": 15,
    "start_time": "2021-12-31T07:23:10.421Z"
   },
   {
    "duration": 6,
    "start_time": "2021-12-31T07:23:11.397Z"
   },
   {
    "duration": 61,
    "start_time": "2021-12-31T07:23:12.389Z"
   },
   {
    "duration": 16,
    "start_time": "2021-12-31T07:23:13.442Z"
   },
   {
    "duration": 7,
    "start_time": "2021-12-31T07:23:14.454Z"
   },
   {
    "duration": 15,
    "start_time": "2021-12-31T07:23:15.398Z"
   },
   {
    "duration": 7,
    "start_time": "2021-12-31T07:23:17.006Z"
   },
   {
    "duration": 8,
    "start_time": "2021-12-31T07:23:17.941Z"
   },
   {
    "duration": 7,
    "start_time": "2021-12-31T07:23:18.852Z"
   },
   {
    "duration": 15,
    "start_time": "2021-12-31T07:23:20.316Z"
   },
   {
    "duration": 31,
    "start_time": "2021-12-31T07:23:21.407Z"
   },
   {
    "duration": 4,
    "start_time": "2021-12-31T07:23:23.385Z"
   },
   {
    "duration": 163,
    "start_time": "2021-12-31T07:23:27.085Z"
   },
   {
    "duration": 167,
    "start_time": "2021-12-31T07:24:47.943Z"
   },
   {
    "duration": 153,
    "start_time": "2021-12-31T07:24:51.566Z"
   },
   {
    "duration": 153,
    "start_time": "2021-12-31T07:24:53.535Z"
   },
   {
    "duration": 5,
    "start_time": "2021-12-31T07:24:57.558Z"
   },
   {
    "duration": 14,
    "start_time": "2021-12-31T07:24:58.351Z"
   },
   {
    "duration": 29,
    "start_time": "2021-12-31T07:24:59.103Z"
   },
   {
    "duration": 5,
    "start_time": "2021-12-31T07:25:00.596Z"
   },
   {
    "duration": 162,
    "start_time": "2021-12-31T07:25:38.200Z"
   },
   {
    "duration": 211,
    "start_time": "2021-12-31T07:25:39.185Z"
   },
   {
    "duration": 161,
    "start_time": "2021-12-31T07:25:40.036Z"
   },
   {
    "duration": 9,
    "start_time": "2021-12-31T07:25:52.175Z"
   },
   {
    "duration": 4,
    "start_time": "2021-12-31T07:25:52.775Z"
   },
   {
    "duration": 8,
    "start_time": "2021-12-31T07:25:53.117Z"
   },
   {
    "duration": 9,
    "start_time": "2021-12-31T07:25:53.549Z"
   },
   {
    "duration": 4,
    "start_time": "2021-12-31T07:25:54.119Z"
   },
   {
    "duration": 8,
    "start_time": "2021-12-31T07:25:56.095Z"
   },
   {
    "duration": 7,
    "start_time": "2021-12-31T07:25:56.832Z"
   },
   {
    "duration": 13,
    "start_time": "2021-12-31T07:25:57.559Z"
   },
   {
    "duration": 13,
    "start_time": "2021-12-31T07:25:58.236Z"
   },
   {
    "duration": 6,
    "start_time": "2021-12-31T07:27:43.878Z"
   },
   {
    "duration": 16,
    "start_time": "2021-12-31T07:28:29.671Z"
   },
   {
    "duration": 5,
    "start_time": "2021-12-31T07:28:30.480Z"
   },
   {
    "duration": 16,
    "start_time": "2021-12-31T07:28:31.319Z"
   },
   {
    "duration": 4,
    "start_time": "2021-12-31T07:28:32.255Z"
   },
   {
    "duration": 16,
    "start_time": "2021-12-31T07:28:32.956Z"
   },
   {
    "duration": 3,
    "start_time": "2021-12-31T07:28:34.615Z"
   },
   {
    "duration": 9,
    "start_time": "2021-12-31T07:28:35.334Z"
   },
   {
    "duration": 4,
    "start_time": "2021-12-31T07:28:36.774Z"
   },
   {
    "duration": 8,
    "start_time": "2021-12-31T07:28:37.470Z"
   },
   {
    "duration": 6,
    "start_time": "2021-12-31T07:28:38.390Z"
   },
   {
    "duration": 10,
    "start_time": "2021-12-31T07:28:39.128Z"
   },
   {
    "duration": 6,
    "start_time": "2021-12-31T07:28:44.414Z"
   },
   {
    "duration": 8,
    "start_time": "2021-12-31T07:28:45.307Z"
   },
   {
    "duration": 5,
    "start_time": "2021-12-31T07:28:46.310Z"
   },
   {
    "duration": 13,
    "start_time": "2021-12-31T07:28:47.087Z"
   },
   {
    "duration": 7,
    "start_time": "2021-12-31T07:28:47.926Z"
   },
   {
    "duration": 11,
    "start_time": "2021-12-31T07:28:48.727Z"
   },
   {
    "duration": 6,
    "start_time": "2021-12-31T07:28:49.442Z"
   },
   {
    "duration": 12,
    "start_time": "2021-12-31T07:28:50.119Z"
   },
   {
    "duration": 5,
    "start_time": "2021-12-31T07:28:50.777Z"
   },
   {
    "duration": 11,
    "start_time": "2021-12-31T07:28:51.608Z"
   },
   {
    "duration": 3,
    "start_time": "2021-12-31T07:28:52.430Z"
   },
   {
    "duration": 9,
    "start_time": "2021-12-31T07:28:53.182Z"
   },
   {
    "duration": 5,
    "start_time": "2021-12-31T07:28:54.663Z"
   },
   {
    "duration": 12,
    "start_time": "2021-12-31T07:28:59.648Z"
   },
   {
    "duration": 13,
    "start_time": "2021-12-31T07:29:00.392Z"
   },
   {
    "duration": 3,
    "start_time": "2021-12-31T07:29:38.478Z"
   },
   {
    "duration": 3,
    "start_time": "2021-12-31T07:29:38.491Z"
   },
   {
    "duration": 289,
    "start_time": "2021-12-31T07:29:38.496Z"
   },
   {
    "duration": 8,
    "start_time": "2021-12-31T07:29:38.786Z"
   },
   {
    "duration": 8,
    "start_time": "2021-12-31T07:29:38.795Z"
   },
   {
    "duration": 8,
    "start_time": "2021-12-31T07:29:38.805Z"
   },
   {
    "duration": 28,
    "start_time": "2021-12-31T07:29:38.814Z"
   },
   {
    "duration": 7,
    "start_time": "2021-12-31T07:29:38.843Z"
   },
   {
    "duration": 16,
    "start_time": "2021-12-31T07:29:38.851Z"
   },
   {
    "duration": 16,
    "start_time": "2021-12-31T07:29:38.869Z"
   },
   {
    "duration": 15,
    "start_time": "2021-12-31T07:29:38.886Z"
   },
   {
    "duration": 3,
    "start_time": "2021-12-31T07:29:38.902Z"
   },
   {
    "duration": 41,
    "start_time": "2021-12-31T07:29:38.906Z"
   },
   {
    "duration": 11,
    "start_time": "2021-12-31T07:29:38.948Z"
   },
   {
    "duration": 23,
    "start_time": "2021-12-31T07:29:38.960Z"
   },
   {
    "duration": 20,
    "start_time": "2021-12-31T07:29:38.985Z"
   },
   {
    "duration": 19,
    "start_time": "2021-12-31T07:29:39.006Z"
   },
   {
    "duration": 18,
    "start_time": "2021-12-31T07:29:39.027Z"
   },
   {
    "duration": 17,
    "start_time": "2021-12-31T07:29:39.046Z"
   },
   {
    "duration": 18,
    "start_time": "2021-12-31T07:29:39.064Z"
   },
   {
    "duration": 24,
    "start_time": "2021-12-31T07:29:39.084Z"
   },
   {
    "duration": 22,
    "start_time": "2021-12-31T07:29:39.110Z"
   },
   {
    "duration": 19,
    "start_time": "2021-12-31T07:29:39.133Z"
   },
   {
    "duration": 16,
    "start_time": "2021-12-31T07:29:39.154Z"
   },
   {
    "duration": 18,
    "start_time": "2021-12-31T07:29:39.174Z"
   },
   {
    "duration": 10,
    "start_time": "2021-12-31T07:29:39.194Z"
   },
   {
    "duration": 15,
    "start_time": "2021-12-31T07:29:39.205Z"
   },
   {
    "duration": 25,
    "start_time": "2021-12-31T07:29:39.221Z"
   },
   {
    "duration": 9,
    "start_time": "2021-12-31T07:29:39.247Z"
   },
   {
    "duration": 15,
    "start_time": "2021-12-31T07:29:39.257Z"
   },
   {
    "duration": 12,
    "start_time": "2021-12-31T07:29:39.274Z"
   },
   {
    "duration": 22,
    "start_time": "2021-12-31T07:29:39.288Z"
   },
   {
    "duration": 24,
    "start_time": "2021-12-31T07:29:39.311Z"
   },
   {
    "duration": 8,
    "start_time": "2021-12-31T07:29:39.337Z"
   },
   {
    "duration": 9,
    "start_time": "2021-12-31T07:29:39.347Z"
   },
   {
    "duration": 7,
    "start_time": "2021-12-31T07:29:39.358Z"
   },
   {
    "duration": 17,
    "start_time": "2021-12-31T07:29:39.366Z"
   },
   {
    "duration": 8,
    "start_time": "2021-12-31T07:29:39.385Z"
   },
   {
    "duration": 16,
    "start_time": "2021-12-31T07:29:39.394Z"
   },
   {
    "duration": 13,
    "start_time": "2021-12-31T07:29:39.412Z"
   },
   {
    "duration": 22,
    "start_time": "2021-12-31T07:29:39.427Z"
   },
   {
    "duration": 11,
    "start_time": "2021-12-31T07:29:39.450Z"
   },
   {
    "duration": 14,
    "start_time": "2021-12-31T07:29:39.462Z"
   },
   {
    "duration": 9,
    "start_time": "2021-12-31T07:29:39.478Z"
   },
   {
    "duration": 14,
    "start_time": "2021-12-31T07:29:39.488Z"
   },
   {
    "duration": 54,
    "start_time": "2021-12-31T07:29:39.503Z"
   },
   {
    "duration": 4,
    "start_time": "2021-12-31T07:29:39.558Z"
   },
   {
    "duration": 14,
    "start_time": "2021-12-31T07:29:39.563Z"
   },
   {
    "duration": 12,
    "start_time": "2021-12-31T07:29:39.579Z"
   },
   {
    "duration": 7,
    "start_time": "2021-12-31T07:29:39.593Z"
   },
   {
    "duration": 45,
    "start_time": "2021-12-31T07:29:39.601Z"
   },
   {
    "duration": 7,
    "start_time": "2021-12-31T07:29:39.648Z"
   },
   {
    "duration": 4,
    "start_time": "2021-12-31T07:29:39.657Z"
   },
   {
    "duration": 32,
    "start_time": "2021-12-31T07:29:39.663Z"
   },
   {
    "duration": 119,
    "start_time": "2021-12-31T07:29:39.697Z"
   },
   {
    "duration": 44,
    "start_time": "2021-12-31T07:29:39.819Z"
   },
   {
    "duration": 19,
    "start_time": "2021-12-31T07:29:39.865Z"
   },
   {
    "duration": 10,
    "start_time": "2021-12-31T07:29:39.885Z"
   },
   {
    "duration": 7,
    "start_time": "2021-12-31T07:29:39.897Z"
   },
   {
    "duration": 10,
    "start_time": "2021-12-31T07:29:39.906Z"
   },
   {
    "duration": 4,
    "start_time": "2021-12-31T07:29:39.917Z"
   },
   {
    "duration": 12,
    "start_time": "2021-12-31T07:29:39.922Z"
   },
   {
    "duration": 6,
    "start_time": "2021-12-31T07:29:39.935Z"
   },
   {
    "duration": 11,
    "start_time": "2021-12-31T07:29:39.942Z"
   },
   {
    "duration": 26,
    "start_time": "2021-12-31T07:29:39.954Z"
   },
   {
    "duration": 28,
    "start_time": "2021-12-31T07:29:39.982Z"
   },
   {
    "duration": 44,
    "start_time": "2021-12-31T07:29:40.012Z"
   },
   {
    "duration": 33,
    "start_time": "2021-12-31T07:29:40.058Z"
   },
   {
    "duration": 22,
    "start_time": "2021-12-31T07:29:40.093Z"
   },
   {
    "duration": 35,
    "start_time": "2021-12-31T07:29:40.121Z"
   },
   {
    "duration": 23,
    "start_time": "2021-12-31T07:29:40.159Z"
   },
   {
    "duration": 21,
    "start_time": "2021-12-31T07:29:40.183Z"
   },
   {
    "duration": 28,
    "start_time": "2021-12-31T07:29:40.205Z"
   },
   {
    "duration": 23,
    "start_time": "2021-12-31T07:29:40.235Z"
   },
   {
    "duration": 31,
    "start_time": "2021-12-31T07:29:40.259Z"
   },
   {
    "duration": 27,
    "start_time": "2021-12-31T07:29:40.291Z"
   },
   {
    "duration": 23,
    "start_time": "2021-12-31T07:29:40.319Z"
   },
   {
    "duration": 40,
    "start_time": "2021-12-31T07:29:40.343Z"
   },
   {
    "duration": 21,
    "start_time": "2021-12-31T07:29:40.385Z"
   },
   {
    "duration": 20,
    "start_time": "2021-12-31T07:29:40.407Z"
   },
   {
    "duration": 65,
    "start_time": "2021-12-31T07:29:40.428Z"
   },
   {
    "duration": 3,
    "start_time": "2021-12-31T07:29:40.494Z"
   },
   {
    "duration": 58,
    "start_time": "2021-12-31T07:29:40.499Z"
   },
   {
    "duration": 13,
    "start_time": "2021-12-31T07:29:40.558Z"
   },
   {
    "duration": 13,
    "start_time": "2021-12-31T07:29:40.573Z"
   },
   {
    "duration": 61,
    "start_time": "2021-12-31T07:29:40.588Z"
   },
   {
    "duration": 15,
    "start_time": "2021-12-31T07:29:40.650Z"
   },
   {
    "duration": 20,
    "start_time": "2021-12-31T07:29:40.666Z"
   },
   {
    "duration": 88,
    "start_time": "2021-12-31T07:29:40.687Z"
   },
   {
    "duration": 15,
    "start_time": "2021-12-31T07:29:40.776Z"
   },
   {
    "duration": 19,
    "start_time": "2021-12-31T07:29:40.792Z"
   },
   {
    "duration": 24,
    "start_time": "2021-12-31T07:29:40.813Z"
   },
   {
    "duration": 13,
    "start_time": "2021-12-31T07:29:40.838Z"
   },
   {
    "duration": 18,
    "start_time": "2021-12-31T07:29:40.852Z"
   },
   {
    "duration": 18,
    "start_time": "2021-12-31T07:29:40.872Z"
   },
   {
    "duration": 34,
    "start_time": "2021-12-31T07:29:40.892Z"
   },
   {
    "duration": 29,
    "start_time": "2021-12-31T07:29:40.927Z"
   },
   {
    "duration": 4,
    "start_time": "2021-12-31T07:29:40.957Z"
   },
   {
    "duration": 270,
    "start_time": "2021-12-31T07:29:40.962Z"
   },
   {
    "duration": 168,
    "start_time": "2021-12-31T07:29:41.234Z"
   },
   {
    "duration": 164,
    "start_time": "2021-12-31T07:29:41.403Z"
   },
   {
    "duration": 4,
    "start_time": "2021-12-31T07:29:41.568Z"
   },
   {
    "duration": 25,
    "start_time": "2021-12-31T07:29:41.574Z"
   },
   {
    "duration": 50,
    "start_time": "2021-12-31T07:29:41.601Z"
   },
   {
    "duration": 4,
    "start_time": "2021-12-31T07:29:41.652Z"
   },
   {
    "duration": 184,
    "start_time": "2021-12-31T07:29:41.657Z"
   },
   {
    "duration": 175,
    "start_time": "2021-12-31T07:29:41.842Z"
   },
   {
    "duration": 166,
    "start_time": "2021-12-31T07:29:42.019Z"
   },
   {
    "duration": 8,
    "start_time": "2021-12-31T07:29:42.186Z"
   },
   {
    "duration": 12,
    "start_time": "2021-12-31T07:29:42.196Z"
   },
   {
    "duration": 28,
    "start_time": "2021-12-31T07:29:42.209Z"
   },
   {
    "duration": 14,
    "start_time": "2021-12-31T07:29:42.239Z"
   },
   {
    "duration": 19,
    "start_time": "2021-12-31T07:29:42.254Z"
   },
   {
    "duration": 23,
    "start_time": "2021-12-31T07:29:42.274Z"
   },
   {
    "duration": 16,
    "start_time": "2021-12-31T07:29:42.298Z"
   },
   {
    "duration": 22,
    "start_time": "2021-12-31T07:29:42.315Z"
   },
   {
    "duration": 16,
    "start_time": "2021-12-31T07:29:42.339Z"
   },
   {
    "duration": 20,
    "start_time": "2021-12-31T07:29:42.356Z"
   },
   {
    "duration": 36,
    "start_time": "2021-12-31T07:29:42.377Z"
   },
   {
    "duration": 4,
    "start_time": "2021-12-31T07:29:42.415Z"
   },
   {
    "duration": 35,
    "start_time": "2021-12-31T07:29:42.421Z"
   },
   {
    "duration": 3,
    "start_time": "2021-12-31T07:29:42.457Z"
   },
   {
    "duration": 36,
    "start_time": "2021-12-31T07:29:42.461Z"
   },
   {
    "duration": 13,
    "start_time": "2021-12-31T07:29:42.499Z"
   },
   {
    "duration": 24,
    "start_time": "2021-12-31T07:29:42.514Z"
   },
   {
    "duration": 32,
    "start_time": "2021-12-31T07:29:42.539Z"
   },
   {
    "duration": 26,
    "start_time": "2021-12-31T07:29:42.572Z"
   },
   {
    "duration": 29,
    "start_time": "2021-12-31T07:29:42.599Z"
   },
   {
    "duration": 22,
    "start_time": "2021-12-31T07:29:42.630Z"
   },
   {
    "duration": 21,
    "start_time": "2021-12-31T07:29:42.653Z"
   },
   {
    "duration": 23,
    "start_time": "2021-12-31T07:29:42.676Z"
   },
   {
    "duration": 30,
    "start_time": "2021-12-31T07:29:42.700Z"
   },
   {
    "duration": 26,
    "start_time": "2021-12-31T07:29:42.731Z"
   },
   {
    "duration": 36,
    "start_time": "2021-12-31T07:29:42.759Z"
   },
   {
    "duration": 23,
    "start_time": "2021-12-31T07:29:42.796Z"
   },
   {
    "duration": 27,
    "start_time": "2021-12-31T07:29:42.821Z"
   },
   {
    "duration": 20,
    "start_time": "2021-12-31T07:29:42.849Z"
   },
   {
    "duration": 21,
    "start_time": "2021-12-31T07:29:42.871Z"
   },
   {
    "duration": 32,
    "start_time": "2021-12-31T07:29:42.893Z"
   },
   {
    "duration": 13,
    "start_time": "2021-12-31T07:29:42.927Z"
   },
   {
    "duration": 15,
    "start_time": "2021-12-31T07:29:42.941Z"
   },
   {
    "duration": 5,
    "start_time": "2021-12-31T07:29:42.958Z"
   },
   {
    "duration": 28,
    "start_time": "2021-12-31T07:29:42.964Z"
   },
   {
    "duration": 13,
    "start_time": "2021-12-31T07:29:42.994Z"
   },
   {
    "duration": 3,
    "start_time": "2021-12-31T07:30:01.260Z"
   },
   {
    "duration": 3,
    "start_time": "2021-12-31T07:30:05.424Z"
   },
   {
    "duration": 281,
    "start_time": "2021-12-31T07:30:06.122Z"
   },
   {
    "duration": 8,
    "start_time": "2021-12-31T07:30:09.839Z"
   },
   {
    "duration": 8,
    "start_time": "2021-12-31T07:30:10.849Z"
   },
   {
    "duration": 8,
    "start_time": "2021-12-31T07:30:11.878Z"
   },
   {
    "duration": 10,
    "start_time": "2021-12-31T07:30:12.614Z"
   },
   {
    "duration": 7,
    "start_time": "2021-12-31T07:30:13.351Z"
   },
   {
    "duration": 16,
    "start_time": "2021-12-31T07:30:14.181Z"
   },
   {
    "duration": 17,
    "start_time": "2021-12-31T07:30:14.877Z"
   },
   {
    "duration": 18,
    "start_time": "2021-12-31T07:30:15.654Z"
   },
   {
    "duration": 5,
    "start_time": "2021-12-31T07:30:16.467Z"
   },
   {
    "duration": 10,
    "start_time": "2021-12-31T07:30:17.183Z"
   },
   {
    "duration": 7,
    "start_time": "2021-12-31T07:30:17.907Z"
   },
   {
    "duration": 13,
    "start_time": "2021-12-31T07:30:18.750Z"
   },
   {
    "duration": 21,
    "start_time": "2021-12-31T07:30:19.470Z"
   },
   {
    "duration": 12,
    "start_time": "2021-12-31T07:30:20.142Z"
   },
   {
    "duration": 10,
    "start_time": "2021-12-31T07:30:20.910Z"
   },
   {
    "duration": 6,
    "start_time": "2021-12-31T07:30:21.574Z"
   },
   {
    "duration": 6,
    "start_time": "2021-12-31T07:30:22.252Z"
   },
   {
    "duration": 12,
    "start_time": "2021-12-31T07:30:23.528Z"
   },
   {
    "duration": 12,
    "start_time": "2021-12-31T07:30:24.137Z"
   },
   {
    "duration": 10,
    "start_time": "2021-12-31T07:30:24.783Z"
   },
   {
    "duration": 10,
    "start_time": "2021-12-31T07:30:25.432Z"
   },
   {
    "duration": 17,
    "start_time": "2021-12-31T07:30:26.799Z"
   },
   {
    "duration": 12,
    "start_time": "2021-12-31T07:30:27.383Z"
   },
   {
    "duration": 12,
    "start_time": "2021-12-31T07:30:28.606Z"
   },
   {
    "duration": 11,
    "start_time": "2021-12-31T07:30:29.181Z"
   },
   {
    "duration": 10,
    "start_time": "2021-12-31T07:30:30.308Z"
   },
   {
    "duration": 6,
    "start_time": "2021-12-31T07:30:30.927Z"
   },
   {
    "duration": 4,
    "start_time": "2021-12-31T07:30:31.576Z"
   },
   {
    "duration": 12,
    "start_time": "2021-12-31T07:30:32.416Z"
   },
   {
    "duration": 11,
    "start_time": "2021-12-31T07:30:33.016Z"
   },
   {
    "duration": 5,
    "start_time": "2021-12-31T07:30:33.501Z"
   },
   {
    "duration": 6,
    "start_time": "2021-12-31T07:30:34.027Z"
   },
   {
    "duration": 3,
    "start_time": "2021-12-31T07:30:35.275Z"
   },
   {
    "duration": 12,
    "start_time": "2021-12-31T07:30:36.399Z"
   },
   {
    "duration": 4,
    "start_time": "2021-12-31T07:30:36.902Z"
   },
   {
    "duration": 13,
    "start_time": "2021-12-31T07:30:37.350Z"
   },
   {
    "duration": 15,
    "start_time": "2021-12-31T07:30:37.950Z"
   },
   {
    "duration": 10,
    "start_time": "2021-12-31T07:30:38.564Z"
   },
   {
    "duration": 12,
    "start_time": "2021-12-31T07:30:39.151Z"
   },
   {
    "duration": 12,
    "start_time": "2021-12-31T07:30:39.743Z"
   },
   {
    "duration": 11,
    "start_time": "2021-12-31T07:30:40.262Z"
   },
   {
    "duration": 17,
    "start_time": "2021-12-31T07:30:40.871Z"
   },
   {
    "duration": 26,
    "start_time": "2021-12-31T07:30:42.117Z"
   },
   {
    "duration": 4,
    "start_time": "2021-12-31T07:30:42.740Z"
   },
   {
    "duration": 4,
    "start_time": "2021-12-31T07:30:43.253Z"
   },
   {
    "duration": 12,
    "start_time": "2021-12-31T07:30:43.802Z"
   },
   {
    "duration": 8,
    "start_time": "2021-12-31T07:30:44.423Z"
   },
   {
    "duration": 18,
    "start_time": "2021-12-31T07:30:44.952Z"
   },
   {
    "duration": 7,
    "start_time": "2021-12-31T07:30:45.400Z"
   },
   {
    "duration": 4,
    "start_time": "2021-12-31T07:30:45.966Z"
   },
   {
    "duration": 11,
    "start_time": "2021-12-31T07:30:46.446Z"
   },
   {
    "duration": 4,
    "start_time": "2021-12-31T07:30:46.973Z"
   },
   {
    "duration": 8,
    "start_time": "2021-12-31T07:30:47.414Z"
   },
   {
    "duration": 16,
    "start_time": "2021-12-31T07:30:47.920Z"
   },
   {
    "duration": 11,
    "start_time": "2021-12-31T07:30:48.416Z"
   },
   {
    "duration": 4,
    "start_time": "2021-12-31T07:30:48.842Z"
   },
   {
    "duration": 10,
    "start_time": "2021-12-31T07:30:49.231Z"
   },
   {
    "duration": 4,
    "start_time": "2021-12-31T07:30:49.685Z"
   },
   {
    "duration": 10,
    "start_time": "2021-12-31T07:30:50.097Z"
   },
   {
    "duration": 3,
    "start_time": "2021-12-31T07:30:50.490Z"
   },
   {
    "duration": 9,
    "start_time": "2021-12-31T07:30:50.872Z"
   },
   {
    "duration": 12,
    "start_time": "2021-12-31T07:30:51.270Z"
   },
   {
    "duration": 8,
    "start_time": "2021-12-31T07:30:51.659Z"
   },
   {
    "duration": 14,
    "start_time": "2021-12-31T07:30:52.088Z"
   },
   {
    "duration": 4,
    "start_time": "2021-12-31T07:30:52.490Z"
   },
   {
    "duration": 11,
    "start_time": "2021-12-31T07:30:52.930Z"
   },
   {
    "duration": 7,
    "start_time": "2021-12-31T07:30:53.380Z"
   },
   {
    "duration": 10,
    "start_time": "2021-12-31T07:30:53.704Z"
   },
   {
    "duration": 11,
    "start_time": "2021-12-31T07:30:54.111Z"
   },
   {
    "duration": 3,
    "start_time": "2021-12-31T07:30:54.480Z"
   },
   {
    "duration": 6,
    "start_time": "2021-12-31T07:30:54.830Z"
   },
   {
    "duration": 11,
    "start_time": "2021-12-31T07:30:55.191Z"
   },
   {
    "duration": 4,
    "start_time": "2021-12-31T07:30:55.949Z"
   },
   {
    "duration": 6,
    "start_time": "2021-12-31T07:30:56.324Z"
   },
   {
    "duration": 6,
    "start_time": "2021-12-31T07:30:56.667Z"
   },
   {
    "duration": 6,
    "start_time": "2021-12-31T07:30:57.041Z"
   },
   {
    "duration": 3,
    "start_time": "2021-12-31T07:30:57.382Z"
   },
   {
    "duration": 40,
    "start_time": "2021-12-31T07:30:57.713Z"
   },
   {
    "duration": 3,
    "start_time": "2021-12-31T07:30:58.058Z"
   },
   {
    "duration": 38,
    "start_time": "2021-12-31T07:30:58.486Z"
   },
   {
    "duration": 14,
    "start_time": "2021-12-31T07:30:58.903Z"
   },
   {
    "duration": 3,
    "start_time": "2021-12-31T07:31:00.479Z"
   },
   {
    "duration": 40,
    "start_time": "2021-12-31T07:31:01.355Z"
   },
   {
    "duration": 21,
    "start_time": "2021-12-31T07:31:02.088Z"
   },
   {
    "duration": 5,
    "start_time": "2021-12-31T07:31:03.086Z"
   },
   {
    "duration": 64,
    "start_time": "2021-12-31T07:31:03.690Z"
   },
   {
    "duration": 14,
    "start_time": "2021-12-31T07:31:04.136Z"
   },
   {
    "duration": 7,
    "start_time": "2021-12-31T07:31:04.607Z"
   },
   {
    "duration": 15,
    "start_time": "2021-12-31T07:31:04.990Z"
   },
   {
    "duration": 7,
    "start_time": "2021-12-31T07:31:05.370Z"
   },
   {
    "duration": 8,
    "start_time": "2021-12-31T07:31:05.739Z"
   },
   {
    "duration": 4,
    "start_time": "2021-12-31T07:31:06.086Z"
   },
   {
    "duration": 14,
    "start_time": "2021-12-31T07:31:06.398Z"
   },
   {
    "duration": 30,
    "start_time": "2021-12-31T07:31:06.744Z"
   },
   {
    "duration": 4,
    "start_time": "2021-12-31T07:31:07.396Z"
   },
   {
    "duration": 161,
    "start_time": "2021-12-31T07:31:08.845Z"
   },
   {
    "duration": 162,
    "start_time": "2021-12-31T07:31:09.629Z"
   },
   {
    "duration": 156,
    "start_time": "2021-12-31T07:31:10.301Z"
   },
   {
    "duration": 4,
    "start_time": "2021-12-31T07:31:10.670Z"
   },
   {
    "duration": 18,
    "start_time": "2021-12-31T07:31:11.008Z"
   },
   {
    "duration": 28,
    "start_time": "2021-12-31T07:31:11.339Z"
   },
   {
    "duration": 5,
    "start_time": "2021-12-31T07:31:12.038Z"
   },
   {
    "duration": 166,
    "start_time": "2021-12-31T07:31:12.718Z"
   },
   {
    "duration": 157,
    "start_time": "2021-12-31T07:31:13.094Z"
   },
   {
    "duration": 258,
    "start_time": "2021-12-31T07:31:13.471Z"
   },
   {
    "duration": 10,
    "start_time": "2021-12-31T07:31:14.164Z"
   },
   {
    "duration": 3,
    "start_time": "2021-12-31T07:31:14.494Z"
   },
   {
    "duration": 8,
    "start_time": "2021-12-31T07:31:14.817Z"
   },
   {
    "duration": 11,
    "start_time": "2021-12-31T07:31:15.180Z"
   },
   {
    "duration": 4,
    "start_time": "2021-12-31T07:31:15.499Z"
   },
   {
    "duration": 9,
    "start_time": "2021-12-31T07:31:15.831Z"
   },
   {
    "duration": 8,
    "start_time": "2021-12-31T07:31:16.185Z"
   },
   {
    "duration": 14,
    "start_time": "2021-12-31T07:31:16.519Z"
   },
   {
    "duration": 13,
    "start_time": "2021-12-31T07:31:16.854Z"
   },
   {
    "duration": 5,
    "start_time": "2021-12-31T07:31:19.301Z"
   },
   {
    "duration": 16,
    "start_time": "2021-12-31T07:31:20.711Z"
   },
   {
    "duration": 4,
    "start_time": "2021-12-31T07:31:21.085Z"
   },
   {
    "duration": 17,
    "start_time": "2021-12-31T07:31:21.389Z"
   },
   {
    "duration": 4,
    "start_time": "2021-12-31T07:31:21.736Z"
   },
   {
    "duration": 15,
    "start_time": "2021-12-31T07:31:22.071Z"
   },
   {
    "duration": 4,
    "start_time": "2021-12-31T07:31:22.781Z"
   },
   {
    "duration": 10,
    "start_time": "2021-12-31T07:31:23.076Z"
   },
   {
    "duration": 3,
    "start_time": "2021-12-31T07:31:23.726Z"
   },
   {
    "duration": 9,
    "start_time": "2021-12-31T07:31:24.068Z"
   },
   {
    "duration": 6,
    "start_time": "2021-12-31T07:31:24.821Z"
   },
   {
    "duration": 10,
    "start_time": "2021-12-31T07:31:25.127Z"
   },
   {
    "duration": 6,
    "start_time": "2021-12-31T07:31:25.470Z"
   },
   {
    "duration": 7,
    "start_time": "2021-12-31T07:31:25.814Z"
   },
   {
    "duration": 4,
    "start_time": "2021-12-31T07:31:26.162Z"
   },
   {
    "duration": 10,
    "start_time": "2021-12-31T07:31:26.423Z"
   },
   {
    "duration": 6,
    "start_time": "2021-12-31T07:31:26.772Z"
   },
   {
    "duration": 10,
    "start_time": "2021-12-31T07:31:27.032Z"
   },
   {
    "duration": 6,
    "start_time": "2021-12-31T07:31:27.386Z"
   },
   {
    "duration": 10,
    "start_time": "2021-12-31T07:31:27.809Z"
   },
   {
    "duration": 5,
    "start_time": "2021-12-31T07:31:29.159Z"
   },
   {
    "duration": 14,
    "start_time": "2021-12-31T07:31:29.166Z"
   },
   {
    "duration": 5,
    "start_time": "2021-12-31T07:31:29.181Z"
   },
   {
    "duration": 11,
    "start_time": "2021-12-31T07:31:29.187Z"
   },
   {
    "duration": 5,
    "start_time": "2021-12-31T07:31:30.094Z"
   },
   {
    "duration": 13,
    "start_time": "2021-12-31T07:31:31.103Z"
   },
   {
    "duration": 13,
    "start_time": "2021-12-31T07:31:31.588Z"
   },
   {
    "duration": 1029,
    "start_time": "2022-01-01T08:05:32.280Z"
   },
   {
    "duration": 2,
    "start_time": "2022-01-01T08:05:33.311Z"
   },
   {
    "duration": 310,
    "start_time": "2022-01-01T08:05:33.315Z"
   },
   {
    "duration": 11,
    "start_time": "2022-01-01T08:05:33.627Z"
   },
   {
    "duration": 14,
    "start_time": "2022-01-01T08:05:33.639Z"
   },
   {
    "duration": 8,
    "start_time": "2022-01-01T08:05:33.655Z"
   },
   {
    "duration": 10,
    "start_time": "2022-01-01T08:05:33.665Z"
   },
   {
    "duration": 7,
    "start_time": "2022-01-01T08:05:33.677Z"
   },
   {
    "duration": 17,
    "start_time": "2022-01-01T08:05:33.686Z"
   },
   {
    "duration": 40,
    "start_time": "2022-01-01T08:05:33.705Z"
   },
   {
    "duration": 18,
    "start_time": "2022-01-01T08:05:33.747Z"
   },
   {
    "duration": 4,
    "start_time": "2022-01-01T08:05:33.767Z"
   },
   {
    "duration": 11,
    "start_time": "2022-01-01T08:05:33.773Z"
   },
   {
    "duration": 7,
    "start_time": "2022-01-01T08:05:33.786Z"
   },
   {
    "duration": 50,
    "start_time": "2022-01-01T08:05:33.795Z"
   },
   {
    "duration": 22,
    "start_time": "2022-01-01T08:05:33.847Z"
   },
   {
    "duration": 13,
    "start_time": "2022-01-01T08:05:33.870Z"
   },
   {
    "duration": 9,
    "start_time": "2022-01-01T08:05:33.885Z"
   },
   {
    "duration": 7,
    "start_time": "2022-01-01T08:05:33.896Z"
   },
   {
    "duration": 38,
    "start_time": "2022-01-01T08:05:33.904Z"
   },
   {
    "duration": 11,
    "start_time": "2022-01-01T08:05:33.944Z"
   },
   {
    "duration": 13,
    "start_time": "2022-01-01T08:05:33.957Z"
   },
   {
    "duration": 10,
    "start_time": "2022-01-01T08:05:33.975Z"
   },
   {
    "duration": 10,
    "start_time": "2022-01-01T08:05:33.987Z"
   },
   {
    "duration": 56,
    "start_time": "2022-01-01T08:05:33.999Z"
   },
   {
    "duration": 12,
    "start_time": "2022-01-01T08:05:34.057Z"
   },
   {
    "duration": 12,
    "start_time": "2022-01-01T08:05:34.071Z"
   },
   {
    "duration": 11,
    "start_time": "2022-01-01T08:05:34.084Z"
   },
   {
    "duration": 11,
    "start_time": "2022-01-01T08:05:34.097Z"
   },
   {
    "duration": 6,
    "start_time": "2022-01-01T08:05:34.141Z"
   },
   {
    "duration": 8,
    "start_time": "2022-01-01T08:05:34.149Z"
   },
   {
    "duration": 18,
    "start_time": "2022-01-01T08:05:34.159Z"
   },
   {
    "duration": 14,
    "start_time": "2022-01-01T08:05:34.179Z"
   },
   {
    "duration": 9,
    "start_time": "2022-01-01T08:05:34.194Z"
   },
   {
    "duration": 10,
    "start_time": "2022-01-01T08:05:34.205Z"
   },
   {
    "duration": 24,
    "start_time": "2022-01-01T08:05:34.217Z"
   },
   {
    "duration": 12,
    "start_time": "2022-01-01T08:05:34.243Z"
   },
   {
    "duration": 6,
    "start_time": "2022-01-01T08:05:34.257Z"
   },
   {
    "duration": 18,
    "start_time": "2022-01-01T08:05:34.265Z"
   },
   {
    "duration": 18,
    "start_time": "2022-01-01T08:05:34.284Z"
   },
   {
    "duration": 43,
    "start_time": "2022-01-01T08:05:34.304Z"
   },
   {
    "duration": 16,
    "start_time": "2022-01-01T08:05:34.349Z"
   },
   {
    "duration": 12,
    "start_time": "2022-01-01T08:05:34.367Z"
   },
   {
    "duration": 10,
    "start_time": "2022-01-01T08:05:34.381Z"
   },
   {
    "duration": 16,
    "start_time": "2022-01-01T08:05:34.393Z"
   },
   {
    "duration": 56,
    "start_time": "2022-01-01T08:05:34.411Z"
   },
   {
    "duration": 3,
    "start_time": "2022-01-01T08:05:34.468Z"
   },
   {
    "duration": 7,
    "start_time": "2022-01-01T08:05:34.473Z"
   },
   {
    "duration": 12,
    "start_time": "2022-01-01T08:05:34.482Z"
   },
   {
    "duration": 7,
    "start_time": "2022-01-01T08:05:34.495Z"
   },
   {
    "duration": 44,
    "start_time": "2022-01-01T08:05:34.503Z"
   },
   {
    "duration": 7,
    "start_time": "2022-01-01T08:05:34.549Z"
   },
   {
    "duration": 6,
    "start_time": "2022-01-01T08:05:34.558Z"
   },
   {
    "duration": 14,
    "start_time": "2022-01-01T08:05:34.565Z"
   },
   {
    "duration": 7,
    "start_time": "2022-01-01T08:05:34.580Z"
   },
   {
    "duration": 13,
    "start_time": "2022-01-01T08:05:34.588Z"
   },
   {
    "duration": 21,
    "start_time": "2022-01-01T08:05:34.602Z"
   },
   {
    "duration": 12,
    "start_time": "2022-01-01T08:05:34.641Z"
   },
   {
    "duration": 6,
    "start_time": "2022-01-01T08:05:34.655Z"
   },
   {
    "duration": 12,
    "start_time": "2022-01-01T08:05:34.662Z"
   },
   {
    "duration": 11,
    "start_time": "2022-01-01T08:05:34.676Z"
   },
   {
    "duration": 11,
    "start_time": "2022-01-01T08:05:34.688Z"
   },
   {
    "duration": 8,
    "start_time": "2022-01-01T08:05:34.700Z"
   },
   {
    "duration": 13,
    "start_time": "2022-01-01T08:05:34.709Z"
   },
   {
    "duration": 26,
    "start_time": "2022-01-01T08:05:34.724Z"
   },
   {
    "duration": 8,
    "start_time": "2022-01-01T08:05:34.751Z"
   },
   {
    "duration": 15,
    "start_time": "2022-01-01T08:05:34.760Z"
   },
   {
    "duration": 4,
    "start_time": "2022-01-01T08:05:34.781Z"
   },
   {
    "duration": 14,
    "start_time": "2022-01-01T08:05:34.787Z"
   },
   {
    "duration": 11,
    "start_time": "2022-01-01T08:05:34.802Z"
   },
   {
    "duration": 31,
    "start_time": "2022-01-01T08:05:34.814Z"
   },
   {
    "duration": 15,
    "start_time": "2022-01-01T08:05:34.847Z"
   },
   {
    "duration": 7,
    "start_time": "2022-01-01T08:05:34.863Z"
   },
   {
    "duration": 10,
    "start_time": "2022-01-01T08:05:34.872Z"
   },
   {
    "duration": 12,
    "start_time": "2022-01-01T08:05:34.884Z"
   },
   {
    "duration": 6,
    "start_time": "2022-01-01T08:05:34.898Z"
   },
   {
    "duration": 10,
    "start_time": "2022-01-01T08:05:34.906Z"
   },
   {
    "duration": 27,
    "start_time": "2022-01-01T08:05:34.918Z"
   },
   {
    "duration": 6,
    "start_time": "2022-01-01T08:05:34.947Z"
   },
   {
    "duration": 6,
    "start_time": "2022-01-01T08:05:34.955Z"
   },
   {
    "duration": 45,
    "start_time": "2022-01-01T08:05:34.962Z"
   },
   {
    "duration": 4,
    "start_time": "2022-01-01T08:05:35.008Z"
   },
   {
    "duration": 59,
    "start_time": "2022-01-01T08:05:35.013Z"
   },
   {
    "duration": 14,
    "start_time": "2022-01-01T08:05:35.074Z"
   },
   {
    "duration": 3,
    "start_time": "2022-01-01T08:05:35.090Z"
   },
   {
    "duration": 56,
    "start_time": "2022-01-01T08:05:35.095Z"
   },
   {
    "duration": 15,
    "start_time": "2022-01-01T08:05:35.153Z"
   },
   {
    "duration": 6,
    "start_time": "2022-01-01T08:05:35.169Z"
   },
   {
    "duration": 82,
    "start_time": "2022-01-01T08:05:35.176Z"
   },
   {
    "duration": 15,
    "start_time": "2022-01-01T08:05:35.259Z"
   },
   {
    "duration": 11,
    "start_time": "2022-01-01T08:05:35.276Z"
   },
   {
    "duration": 18,
    "start_time": "2022-01-01T08:05:35.288Z"
   },
   {
    "duration": 7,
    "start_time": "2022-01-01T08:05:35.307Z"
   },
   {
    "duration": 27,
    "start_time": "2022-01-01T08:05:35.315Z"
   },
   {
    "duration": 4,
    "start_time": "2022-01-01T08:05:35.344Z"
   },
   {
    "duration": 20,
    "start_time": "2022-01-01T08:05:35.350Z"
   },
   {
    "duration": 33,
    "start_time": "2022-01-01T08:05:35.372Z"
   },
   {
    "duration": 4,
    "start_time": "2022-01-01T08:05:35.407Z"
   },
   {
    "duration": 195,
    "start_time": "2022-01-01T08:05:35.412Z"
   },
   {
    "duration": 167,
    "start_time": "2022-01-01T08:05:35.608Z"
   },
   {
    "duration": 167,
    "start_time": "2022-01-01T08:05:35.776Z"
   },
   {
    "duration": 3,
    "start_time": "2022-01-01T08:05:35.945Z"
   },
   {
    "duration": 15,
    "start_time": "2022-01-01T08:05:35.950Z"
   },
   {
    "duration": 28,
    "start_time": "2022-01-01T08:05:35.966Z"
   },
   {
    "duration": 3,
    "start_time": "2022-01-01T08:05:35.996Z"
   },
   {
    "duration": 198,
    "start_time": "2022-01-01T08:05:36.001Z"
   },
   {
    "duration": 172,
    "start_time": "2022-01-01T08:05:36.201Z"
   },
   {
    "duration": 170,
    "start_time": "2022-01-01T08:05:36.375Z"
   },
   {
    "duration": 9,
    "start_time": "2022-01-01T08:05:36.547Z"
   },
   {
    "duration": 10,
    "start_time": "2022-01-01T08:05:36.557Z"
   },
   {
    "duration": 14,
    "start_time": "2022-01-01T08:05:36.568Z"
   },
   {
    "duration": 11,
    "start_time": "2022-01-01T08:05:36.584Z"
   },
   {
    "duration": 7,
    "start_time": "2022-01-01T08:05:36.596Z"
   },
   {
    "duration": 27,
    "start_time": "2022-01-01T08:05:36.604Z"
   },
   {
    "duration": 322,
    "start_time": "2022-01-01T08:05:36.633Z"
   },
   {
    "duration": -3299,
    "start_time": "2022-01-01T08:05:40.256Z"
   },
   {
    "duration": -3303,
    "start_time": "2022-01-01T08:05:40.261Z"
   },
   {
    "duration": -3305,
    "start_time": "2022-01-01T08:05:40.264Z"
   },
   {
    "duration": -3311,
    "start_time": "2022-01-01T08:05:40.271Z"
   },
   {
    "duration": -3318,
    "start_time": "2022-01-01T08:05:40.279Z"
   },
   {
    "duration": -3321,
    "start_time": "2022-01-01T08:05:40.283Z"
   },
   {
    "duration": -3323,
    "start_time": "2022-01-01T08:05:40.286Z"
   },
   {
    "duration": -3326,
    "start_time": "2022-01-01T08:05:40.290Z"
   },
   {
    "duration": -3334,
    "start_time": "2022-01-01T08:05:40.299Z"
   },
   {
    "duration": -3341,
    "start_time": "2022-01-01T08:05:40.307Z"
   },
   {
    "duration": -3343,
    "start_time": "2022-01-01T08:05:40.310Z"
   },
   {
    "duration": -3344,
    "start_time": "2022-01-01T08:05:40.312Z"
   },
   {
    "duration": -3345,
    "start_time": "2022-01-01T08:05:40.314Z"
   },
   {
    "duration": -3347,
    "start_time": "2022-01-01T08:05:40.316Z"
   },
   {
    "duration": -3348,
    "start_time": "2022-01-01T08:05:40.318Z"
   },
   {
    "duration": -3351,
    "start_time": "2022-01-01T08:05:40.322Z"
   },
   {
    "duration": -3352,
    "start_time": "2022-01-01T08:05:40.324Z"
   },
   {
    "duration": -3353,
    "start_time": "2022-01-01T08:05:40.326Z"
   },
   {
    "duration": -3355,
    "start_time": "2022-01-01T08:05:40.329Z"
   },
   {
    "duration": -3357,
    "start_time": "2022-01-01T08:05:40.331Z"
   },
   {
    "duration": -3359,
    "start_time": "2022-01-01T08:05:40.334Z"
   },
   {
    "duration": -3361,
    "start_time": "2022-01-01T08:05:40.337Z"
   },
   {
    "duration": -3362,
    "start_time": "2022-01-01T08:05:40.339Z"
   },
   {
    "duration": -3363,
    "start_time": "2022-01-01T08:05:40.341Z"
   },
   {
    "duration": -3364,
    "start_time": "2022-01-01T08:05:40.343Z"
   },
   {
    "duration": -3366,
    "start_time": "2022-01-01T08:05:40.346Z"
   },
   {
    "duration": -3377,
    "start_time": "2022-01-01T08:05:40.358Z"
   },
   {
    "duration": -3381,
    "start_time": "2022-01-01T08:05:40.363Z"
   },
   {
    "duration": -3386,
    "start_time": "2022-01-01T08:05:40.368Z"
   },
   {
    "duration": 14,
    "start_time": "2022-01-01T08:05:46.696Z"
   },
   {
    "duration": 240,
    "start_time": "2022-01-01T08:05:47.416Z"
   },
   {
    "duration": 231,
    "start_time": "2022-01-01T08:05:50.878Z"
   },
   {
    "duration": 15,
    "start_time": "2022-01-01T08:05:52.422Z"
   },
   {
    "duration": 4,
    "start_time": "2022-01-01T08:05:52.646Z"
   },
   {
    "duration": 15,
    "start_time": "2022-01-01T08:05:52.863Z"
   },
   {
    "duration": 5,
    "start_time": "2022-01-01T08:05:53.054Z"
   },
   {
    "duration": 16,
    "start_time": "2022-01-01T08:05:53.247Z"
   },
   {
    "duration": 4,
    "start_time": "2022-01-01T08:05:53.749Z"
   },
   {
    "duration": 8,
    "start_time": "2022-01-01T08:05:53.950Z"
   },
   {
    "duration": 4,
    "start_time": "2022-01-01T08:05:54.310Z"
   },
   {
    "duration": 9,
    "start_time": "2022-01-01T08:05:54.487Z"
   },
   {
    "duration": 6,
    "start_time": "2022-01-01T08:05:54.726Z"
   },
   {
    "duration": 11,
    "start_time": "2022-01-01T08:05:54.885Z"
   },
   {
    "duration": 6,
    "start_time": "2022-01-01T08:05:55.055Z"
   },
   {
    "duration": 7,
    "start_time": "2022-01-01T08:05:55.195Z"
   },
   {
    "duration": 5,
    "start_time": "2022-01-01T08:05:55.315Z"
   },
   {
    "duration": 12,
    "start_time": "2022-01-01T08:05:55.430Z"
   },
   {
    "duration": 6,
    "start_time": "2022-01-01T08:05:55.595Z"
   },
   {
    "duration": 12,
    "start_time": "2022-01-01T08:05:55.699Z"
   },
   {
    "duration": 6,
    "start_time": "2022-01-01T08:05:55.890Z"
   },
   {
    "duration": 11,
    "start_time": "2022-01-01T08:05:56.044Z"
   },
   {
    "duration": 5,
    "start_time": "2022-01-01T08:05:56.130Z"
   },
   {
    "duration": 10,
    "start_time": "2022-01-01T08:05:56.240Z"
   },
   {
    "duration": 3,
    "start_time": "2022-01-01T08:05:56.417Z"
   },
   {
    "duration": 10,
    "start_time": "2022-01-01T08:05:56.551Z"
   },
   {
    "duration": 5,
    "start_time": "2022-01-01T08:05:56.854Z"
   },
   {
    "duration": 13,
    "start_time": "2022-01-01T08:05:57.262Z"
   },
   {
    "duration": 13,
    "start_time": "2022-01-01T08:05:57.408Z"
   },
   {
    "duration": 254,
    "start_time": "2022-01-01T08:32:05.888Z"
   },
   {
    "duration": 13,
    "start_time": "2022-01-01T08:32:24.239Z"
   },
   {
    "duration": 230,
    "start_time": "2022-01-01T08:32:32.294Z"
   },
   {
    "duration": 25,
    "start_time": "2022-01-01T08:32:37.845Z"
   },
   {
    "duration": 8,
    "start_time": "2022-01-01T08:51:23.145Z"
   },
   {
    "duration": 269,
    "start_time": "2022-01-01T08:52:15.054Z"
   },
   {
    "duration": 290,
    "start_time": "2022-01-01T08:52:32.750Z"
   },
   {
    "duration": 7,
    "start_time": "2022-01-01T08:52:35.743Z"
   },
   {
    "duration": 6,
    "start_time": "2022-01-01T08:52:53.060Z"
   },
   {
    "duration": 4,
    "start_time": "2022-01-01T08:53:08.785Z"
   },
   {
    "duration": 3267,
    "start_time": "2022-01-01T08:53:19.786Z"
   },
   {
    "duration": 18,
    "start_time": "2022-01-01T08:53:29.401Z"
   },
   {
    "duration": 17,
    "start_time": "2022-01-01T08:53:49.016Z"
   },
   {
    "duration": 5,
    "start_time": "2022-01-01T08:55:19.258Z"
   },
   {
    "duration": 1059,
    "start_time": "2022-01-01T09:11:24.249Z"
   },
   {
    "duration": 3,
    "start_time": "2022-01-01T09:11:25.310Z"
   },
   {
    "duration": 291,
    "start_time": "2022-01-01T09:11:25.314Z"
   },
   {
    "duration": 11,
    "start_time": "2022-01-01T09:11:25.606Z"
   },
   {
    "duration": 10,
    "start_time": "2022-01-01T09:11:25.618Z"
   },
   {
    "duration": 18,
    "start_time": "2022-01-01T09:11:25.629Z"
   },
   {
    "duration": 11,
    "start_time": "2022-01-01T09:11:25.648Z"
   },
   {
    "duration": 9,
    "start_time": "2022-01-01T09:11:25.662Z"
   },
   {
    "duration": 20,
    "start_time": "2022-01-01T09:11:25.673Z"
   },
   {
    "duration": 22,
    "start_time": "2022-01-01T09:11:25.695Z"
   },
   {
    "duration": 36,
    "start_time": "2022-01-01T09:11:25.719Z"
   },
   {
    "duration": 8,
    "start_time": "2022-01-01T09:11:25.757Z"
   },
   {
    "duration": 36,
    "start_time": "2022-01-01T09:11:25.767Z"
   },
   {
    "duration": 15,
    "start_time": "2022-01-01T09:11:25.805Z"
   },
   {
    "duration": 38,
    "start_time": "2022-01-01T09:11:25.821Z"
   },
   {
    "duration": 29,
    "start_time": "2022-01-01T09:11:25.861Z"
   },
   {
    "duration": 13,
    "start_time": "2022-01-01T09:11:25.892Z"
   },
   {
    "duration": 24,
    "start_time": "2022-01-01T09:11:25.907Z"
   },
   {
    "duration": 22,
    "start_time": "2022-01-01T09:11:25.933Z"
   },
   {
    "duration": 24,
    "start_time": "2022-01-01T09:11:25.956Z"
   },
   {
    "duration": 22,
    "start_time": "2022-01-01T09:11:25.981Z"
   },
   {
    "duration": 26,
    "start_time": "2022-01-01T09:11:26.004Z"
   },
   {
    "duration": 19,
    "start_time": "2022-01-01T09:11:26.034Z"
   },
   {
    "duration": 10,
    "start_time": "2022-01-01T09:11:26.056Z"
   },
   {
    "duration": 18,
    "start_time": "2022-01-01T09:11:26.067Z"
   },
   {
    "duration": 10,
    "start_time": "2022-01-01T09:11:26.087Z"
   },
   {
    "duration": 10,
    "start_time": "2022-01-01T09:11:26.098Z"
   },
   {
    "duration": 34,
    "start_time": "2022-01-01T09:11:26.110Z"
   },
   {
    "duration": 9,
    "start_time": "2022-01-01T09:11:26.145Z"
   },
   {
    "duration": 13,
    "start_time": "2022-01-01T09:11:26.156Z"
   },
   {
    "duration": 6,
    "start_time": "2022-01-01T09:11:26.170Z"
   },
   {
    "duration": 16,
    "start_time": "2022-01-01T09:11:26.177Z"
   },
   {
    "duration": 17,
    "start_time": "2022-01-01T09:11:26.194Z"
   },
   {
    "duration": 10,
    "start_time": "2022-01-01T09:11:26.212Z"
   },
   {
    "duration": 10,
    "start_time": "2022-01-01T09:11:26.224Z"
   },
   {
    "duration": 7,
    "start_time": "2022-01-01T09:11:26.235Z"
   },
   {
    "duration": 16,
    "start_time": "2022-01-01T09:11:26.244Z"
   },
   {
    "duration": 9,
    "start_time": "2022-01-01T09:11:26.262Z"
   },
   {
    "duration": 19,
    "start_time": "2022-01-01T09:11:26.273Z"
   },
   {
    "duration": 15,
    "start_time": "2022-01-01T09:11:26.293Z"
   },
   {
    "duration": 10,
    "start_time": "2022-01-01T09:11:26.309Z"
   },
   {
    "duration": 25,
    "start_time": "2022-01-01T09:11:26.321Z"
   },
   {
    "duration": 11,
    "start_time": "2022-01-01T09:11:26.348Z"
   },
   {
    "duration": 10,
    "start_time": "2022-01-01T09:11:26.360Z"
   },
   {
    "duration": 16,
    "start_time": "2022-01-01T09:11:26.372Z"
   },
   {
    "duration": 55,
    "start_time": "2022-01-01T09:11:26.389Z"
   },
   {
    "duration": 3,
    "start_time": "2022-01-01T09:11:26.446Z"
   },
   {
    "duration": 7,
    "start_time": "2022-01-01T09:11:26.451Z"
   },
   {
    "duration": 13,
    "start_time": "2022-01-01T09:11:26.460Z"
   },
   {
    "duration": 8,
    "start_time": "2022-01-01T09:11:26.475Z"
   },
   {
    "duration": 28,
    "start_time": "2022-01-01T09:11:26.485Z"
   },
   {
    "duration": 8,
    "start_time": "2022-01-01T09:11:26.515Z"
   },
   {
    "duration": 4,
    "start_time": "2022-01-01T09:11:26.542Z"
   },
   {
    "duration": 16,
    "start_time": "2022-01-01T09:11:26.548Z"
   },
   {
    "duration": 4,
    "start_time": "2022-01-01T09:11:26.566Z"
   },
   {
    "duration": 22,
    "start_time": "2022-01-01T09:11:26.572Z"
   },
   {
    "duration": 22,
    "start_time": "2022-01-01T09:11:26.595Z"
   },
   {
    "duration": 26,
    "start_time": "2022-01-01T09:11:26.619Z"
   },
   {
    "duration": 5,
    "start_time": "2022-01-01T09:11:26.647Z"
   },
   {
    "duration": 13,
    "start_time": "2022-01-01T09:11:26.653Z"
   },
   {
    "duration": 11,
    "start_time": "2022-01-01T09:11:26.667Z"
   },
   {
    "duration": 12,
    "start_time": "2022-01-01T09:11:26.680Z"
   },
   {
    "duration": 6,
    "start_time": "2022-01-01T09:11:26.694Z"
   },
   {
    "duration": 11,
    "start_time": "2022-01-01T09:11:26.702Z"
   },
   {
    "duration": 27,
    "start_time": "2022-01-01T09:11:26.714Z"
   },
   {
    "duration": 8,
    "start_time": "2022-01-01T09:11:26.743Z"
   },
   {
    "duration": 12,
    "start_time": "2022-01-01T09:11:26.752Z"
   },
   {
    "duration": 4,
    "start_time": "2022-01-01T09:11:26.770Z"
   },
   {
    "duration": 16,
    "start_time": "2022-01-01T09:11:26.776Z"
   },
   {
    "duration": 12,
    "start_time": "2022-01-01T09:11:26.793Z"
   },
   {
    "duration": 13,
    "start_time": "2022-01-01T09:11:26.807Z"
   },
   {
    "duration": 28,
    "start_time": "2022-01-01T09:11:26.822Z"
   },
   {
    "duration": 9,
    "start_time": "2022-01-01T09:11:26.852Z"
   },
   {
    "duration": 11,
    "start_time": "2022-01-01T09:11:26.862Z"
   },
   {
    "duration": 13,
    "start_time": "2022-01-01T09:11:26.874Z"
   },
   {
    "duration": 7,
    "start_time": "2022-01-01T09:11:26.889Z"
   },
   {
    "duration": 13,
    "start_time": "2022-01-01T09:11:26.898Z"
   },
   {
    "duration": 11,
    "start_time": "2022-01-01T09:11:26.912Z"
   },
   {
    "duration": 8,
    "start_time": "2022-01-01T09:11:26.925Z"
   },
   {
    "duration": 7,
    "start_time": "2022-01-01T09:11:26.934Z"
   },
   {
    "duration": 43,
    "start_time": "2022-01-01T09:11:26.943Z"
   },
   {
    "duration": 3,
    "start_time": "2022-01-01T09:11:26.988Z"
   },
   {
    "duration": 48,
    "start_time": "2022-01-01T09:11:26.993Z"
   },
   {
    "duration": 13,
    "start_time": "2022-01-01T09:11:27.043Z"
   },
   {
    "duration": 5,
    "start_time": "2022-01-01T09:11:27.058Z"
   },
   {
    "duration": 42,
    "start_time": "2022-01-01T09:11:27.064Z"
   },
   {
    "duration": 34,
    "start_time": "2022-01-01T09:11:27.108Z"
   },
   {
    "duration": 4,
    "start_time": "2022-01-01T09:11:27.144Z"
   },
   {
    "duration": 66,
    "start_time": "2022-01-01T09:11:27.150Z"
   },
   {
    "duration": 30,
    "start_time": "2022-01-01T09:11:27.217Z"
   },
   {
    "duration": 6,
    "start_time": "2022-01-01T09:11:27.249Z"
   },
   {
    "duration": 18,
    "start_time": "2022-01-01T09:11:27.257Z"
   },
   {
    "duration": 7,
    "start_time": "2022-01-01T09:11:27.276Z"
   },
   {
    "duration": 7,
    "start_time": "2022-01-01T09:11:27.285Z"
   },
   {
    "duration": 3,
    "start_time": "2022-01-01T09:11:27.294Z"
   },
   {
    "duration": 46,
    "start_time": "2022-01-01T09:11:27.298Z"
   },
   {
    "duration": 28,
    "start_time": "2022-01-01T09:11:27.345Z"
   },
   {
    "duration": 4,
    "start_time": "2022-01-01T09:11:27.374Z"
   },
   {
    "duration": 179,
    "start_time": "2022-01-01T09:11:27.379Z"
   },
   {
    "duration": 164,
    "start_time": "2022-01-01T09:11:27.560Z"
   },
   {
    "duration": 155,
    "start_time": "2022-01-01T09:11:27.726Z"
   },
   {
    "duration": 3,
    "start_time": "2022-01-01T09:11:27.883Z"
   },
   {
    "duration": 16,
    "start_time": "2022-01-01T09:11:27.888Z"
   },
   {
    "duration": 43,
    "start_time": "2022-01-01T09:11:27.905Z"
   },
   {
    "duration": 4,
    "start_time": "2022-01-01T09:11:27.949Z"
   },
   {
    "duration": 175,
    "start_time": "2022-01-01T09:11:27.954Z"
   },
   {
    "duration": 165,
    "start_time": "2022-01-01T09:11:28.131Z"
   },
   {
    "duration": 170,
    "start_time": "2022-01-01T09:11:28.298Z"
   },
   {
    "duration": 9,
    "start_time": "2022-01-01T09:11:28.469Z"
   },
   {
    "duration": 6,
    "start_time": "2022-01-01T09:11:28.480Z"
   },
   {
    "duration": 11,
    "start_time": "2022-01-01T09:11:28.488Z"
   },
   {
    "duration": 10,
    "start_time": "2022-01-01T09:11:28.501Z"
   },
   {
    "duration": 3,
    "start_time": "2022-01-01T09:11:28.512Z"
   },
   {
    "duration": 25,
    "start_time": "2022-01-01T09:11:28.517Z"
   },
   {
    "duration": 312,
    "start_time": "2022-01-01T09:11:28.544Z"
   },
   {
    "duration": -3478,
    "start_time": "2022-01-01T09:11:32.335Z"
   },
   {
    "duration": -3480,
    "start_time": "2022-01-01T09:11:32.339Z"
   },
   {
    "duration": -3483,
    "start_time": "2022-01-01T09:11:32.342Z"
   },
   {
    "duration": -3485,
    "start_time": "2022-01-01T09:11:32.345Z"
   },
   {
    "duration": -3491,
    "start_time": "2022-01-01T09:11:32.352Z"
   },
   {
    "duration": -3493,
    "start_time": "2022-01-01T09:11:32.355Z"
   },
   {
    "duration": -3496,
    "start_time": "2022-01-01T09:11:32.359Z"
   },
   {
    "duration": -3498,
    "start_time": "2022-01-01T09:11:32.362Z"
   },
   {
    "duration": -3500,
    "start_time": "2022-01-01T09:11:32.365Z"
   },
   {
    "duration": -3502,
    "start_time": "2022-01-01T09:11:32.368Z"
   },
   {
    "duration": -3505,
    "start_time": "2022-01-01T09:11:32.371Z"
   },
   {
    "duration": -3507,
    "start_time": "2022-01-01T09:11:32.374Z"
   },
   {
    "duration": -3510,
    "start_time": "2022-01-01T09:11:32.378Z"
   },
   {
    "duration": -3511,
    "start_time": "2022-01-01T09:11:32.380Z"
   },
   {
    "duration": -3514,
    "start_time": "2022-01-01T09:11:32.384Z"
   },
   {
    "duration": -3516,
    "start_time": "2022-01-01T09:11:32.386Z"
   },
   {
    "duration": -3518,
    "start_time": "2022-01-01T09:11:32.389Z"
   },
   {
    "duration": -3520,
    "start_time": "2022-01-01T09:11:32.392Z"
   },
   {
    "duration": -3522,
    "start_time": "2022-01-01T09:11:32.395Z"
   },
   {
    "duration": -3523,
    "start_time": "2022-01-01T09:11:32.397Z"
   },
   {
    "duration": -3525,
    "start_time": "2022-01-01T09:11:32.400Z"
   },
   {
    "duration": -3526,
    "start_time": "2022-01-01T09:11:32.402Z"
   },
   {
    "duration": -3529,
    "start_time": "2022-01-01T09:11:32.406Z"
   },
   {
    "duration": -3532,
    "start_time": "2022-01-01T09:11:32.409Z"
   },
   {
    "duration": -3534,
    "start_time": "2022-01-01T09:11:32.412Z"
   },
   {
    "duration": -3536,
    "start_time": "2022-01-01T09:11:32.415Z"
   },
   {
    "duration": -3538,
    "start_time": "2022-01-01T09:11:32.418Z"
   },
   {
    "duration": -3540,
    "start_time": "2022-01-01T09:11:32.421Z"
   },
   {
    "duration": -3542,
    "start_time": "2022-01-01T09:11:32.424Z"
   },
   {
    "duration": 13,
    "start_time": "2022-01-01T09:11:58.736Z"
   },
   {
    "duration": 280,
    "start_time": "2022-01-01T09:11:58.862Z"
   },
   {
    "duration": 234,
    "start_time": "2022-01-01T09:11:59.572Z"
   },
   {
    "duration": 18,
    "start_time": "2022-01-01T09:12:00.630Z"
   },
   {
    "duration": 5,
    "start_time": "2022-01-01T09:12:00.761Z"
   },
   {
    "duration": 17,
    "start_time": "2022-01-01T09:12:00.879Z"
   },
   {
    "duration": 5,
    "start_time": "2022-01-01T09:12:01.024Z"
   },
   {
    "duration": 19,
    "start_time": "2022-01-01T09:12:01.136Z"
   },
   {
    "duration": 4,
    "start_time": "2022-01-01T09:12:01.328Z"
   },
   {
    "duration": 9,
    "start_time": "2022-01-01T09:12:01.429Z"
   },
   {
    "duration": 5,
    "start_time": "2022-01-01T09:12:01.630Z"
   },
   {
    "duration": 10,
    "start_time": "2022-01-01T09:12:01.724Z"
   },
   {
    "duration": 8,
    "start_time": "2022-01-01T09:12:01.868Z"
   },
   {
    "duration": 12,
    "start_time": "2022-01-01T09:12:01.954Z"
   },
   {
    "duration": 7,
    "start_time": "2022-01-01T09:12:02.159Z"
   },
   {
    "duration": 9,
    "start_time": "2022-01-01T09:12:02.287Z"
   },
   {
    "duration": 5,
    "start_time": "2022-01-01T09:12:02.409Z"
   },
   {
    "duration": 12,
    "start_time": "2022-01-01T09:12:02.493Z"
   },
   {
    "duration": 6,
    "start_time": "2022-01-01T09:12:02.760Z"
   },
   {
    "duration": 11,
    "start_time": "2022-01-01T09:12:02.903Z"
   },
   {
    "duration": 6,
    "start_time": "2022-01-01T09:12:03.034Z"
   },
   {
    "duration": 12,
    "start_time": "2022-01-01T09:12:03.122Z"
   },
   {
    "duration": 5,
    "start_time": "2022-01-01T09:12:03.268Z"
   },
   {
    "duration": 11,
    "start_time": "2022-01-01T09:12:03.369Z"
   },
   {
    "duration": 4,
    "start_time": "2022-01-01T09:12:03.506Z"
   },
   {
    "duration": 10,
    "start_time": "2022-01-01T09:12:03.601Z"
   },
   {
    "duration": 5,
    "start_time": "2022-01-01T09:12:04.047Z"
   },
   {
    "duration": 13,
    "start_time": "2022-01-01T09:12:04.536Z"
   },
   {
    "duration": 15,
    "start_time": "2022-01-01T09:12:04.628Z"
   },
   {
    "duration": 14,
    "start_time": "2022-01-01T09:18:08.355Z"
   },
   {
    "duration": 803,
    "start_time": "2022-01-01T09:18:32.680Z"
   },
   {
    "duration": 1615,
    "start_time": "2022-01-01T15:17:25.391Z"
   },
   {
    "duration": 8,
    "start_time": "2022-01-01T15:17:27.010Z"
   },
   {
    "duration": 424,
    "start_time": "2022-01-01T15:17:27.022Z"
   },
   {
    "duration": 16,
    "start_time": "2022-01-01T15:17:27.449Z"
   },
   {
    "duration": 15,
    "start_time": "2022-01-01T15:17:27.468Z"
   },
   {
    "duration": 47,
    "start_time": "2022-01-01T15:17:27.486Z"
   },
   {
    "duration": 23,
    "start_time": "2022-01-01T15:17:27.536Z"
   },
   {
    "duration": 16,
    "start_time": "2022-01-01T15:17:27.564Z"
   },
   {
    "duration": 66,
    "start_time": "2022-01-01T15:17:27.584Z"
   },
   {
    "duration": 27,
    "start_time": "2022-01-01T15:17:27.653Z"
   },
   {
    "duration": 48,
    "start_time": "2022-01-01T15:17:27.682Z"
   },
   {
    "duration": 6,
    "start_time": "2022-01-01T15:17:27.733Z"
   },
   {
    "duration": 16,
    "start_time": "2022-01-01T15:17:27.742Z"
   },
   {
    "duration": 14,
    "start_time": "2022-01-01T15:17:27.761Z"
   },
   {
    "duration": 59,
    "start_time": "2022-01-01T15:17:27.778Z"
   },
   {
    "duration": 32,
    "start_time": "2022-01-01T15:17:27.840Z"
   },
   {
    "duration": 52,
    "start_time": "2022-01-01T15:17:27.875Z"
   },
   {
    "duration": 15,
    "start_time": "2022-01-01T15:17:27.930Z"
   },
   {
    "duration": 12,
    "start_time": "2022-01-01T15:17:27.948Z"
   },
   {
    "duration": 12,
    "start_time": "2022-01-01T15:17:27.963Z"
   },
   {
    "duration": 50,
    "start_time": "2022-01-01T15:17:27.977Z"
   },
   {
    "duration": 16,
    "start_time": "2022-01-01T15:17:28.030Z"
   },
   {
    "duration": 14,
    "start_time": "2022-01-01T15:17:28.053Z"
   },
   {
    "duration": 48,
    "start_time": "2022-01-01T15:17:28.070Z"
   },
   {
    "duration": 24,
    "start_time": "2022-01-01T15:17:28.120Z"
   },
   {
    "duration": 18,
    "start_time": "2022-01-01T15:17:28.147Z"
   },
   {
    "duration": 15,
    "start_time": "2022-01-01T15:17:28.167Z"
   },
   {
    "duration": 44,
    "start_time": "2022-01-01T15:17:28.184Z"
   },
   {
    "duration": 15,
    "start_time": "2022-01-01T15:17:28.230Z"
   },
   {
    "duration": 8,
    "start_time": "2022-01-01T15:17:28.248Z"
   },
   {
    "duration": 5,
    "start_time": "2022-01-01T15:17:28.258Z"
   },
   {
    "duration": 73,
    "start_time": "2022-01-01T15:17:28.266Z"
   },
   {
    "duration": 20,
    "start_time": "2022-01-01T15:17:28.341Z"
   },
   {
    "duration": 8,
    "start_time": "2022-01-01T15:17:28.363Z"
   },
   {
    "duration": 44,
    "start_time": "2022-01-01T15:17:28.373Z"
   },
   {
    "duration": 6,
    "start_time": "2022-01-01T15:17:28.419Z"
   },
   {
    "duration": 20,
    "start_time": "2022-01-01T15:17:28.427Z"
   },
   {
    "duration": 8,
    "start_time": "2022-01-01T15:17:28.449Z"
   },
   {
    "duration": 61,
    "start_time": "2022-01-01T15:17:28.460Z"
   },
   {
    "duration": 20,
    "start_time": "2022-01-01T15:17:28.524Z"
   },
   {
    "duration": 12,
    "start_time": "2022-01-01T15:17:28.547Z"
   },
   {
    "duration": 20,
    "start_time": "2022-01-01T15:17:28.561Z"
   },
   {
    "duration": 16,
    "start_time": "2022-01-01T15:17:28.618Z"
   },
   {
    "duration": 14,
    "start_time": "2022-01-01T15:17:28.636Z"
   },
   {
    "duration": 65,
    "start_time": "2022-01-01T15:17:28.652Z"
   },
   {
    "duration": 36,
    "start_time": "2022-01-01T15:17:28.720Z"
   },
   {
    "duration": 5,
    "start_time": "2022-01-01T15:17:28.758Z"
   },
   {
    "duration": 10,
    "start_time": "2022-01-01T15:17:28.765Z"
   },
   {
    "duration": 54,
    "start_time": "2022-01-01T15:17:28.777Z"
   },
   {
    "duration": 11,
    "start_time": "2022-01-01T15:17:28.834Z"
   },
   {
    "duration": 27,
    "start_time": "2022-01-01T15:17:28.848Z"
   },
   {
    "duration": 43,
    "start_time": "2022-01-01T15:17:28.877Z"
   },
   {
    "duration": 7,
    "start_time": "2022-01-01T15:17:28.923Z"
   },
   {
    "duration": 20,
    "start_time": "2022-01-01T15:17:28.933Z"
   },
   {
    "duration": 7,
    "start_time": "2022-01-01T15:17:28.956Z"
   },
   {
    "duration": 63,
    "start_time": "2022-01-01T15:17:28.966Z"
   },
   {
    "duration": 23,
    "start_time": "2022-01-01T15:17:29.032Z"
   },
   {
    "duration": 17,
    "start_time": "2022-01-01T15:17:29.057Z"
   },
   {
    "duration": 6,
    "start_time": "2022-01-01T15:17:29.077Z"
   },
   {
    "duration": 43,
    "start_time": "2022-01-01T15:17:29.086Z"
   },
   {
    "duration": 12,
    "start_time": "2022-01-01T15:17:29.131Z"
   },
   {
    "duration": 16,
    "start_time": "2022-01-01T15:17:29.145Z"
   },
   {
    "duration": 6,
    "start_time": "2022-01-01T15:17:29.163Z"
   },
   {
    "duration": 45,
    "start_time": "2022-01-01T15:17:29.172Z"
   },
   {
    "duration": 18,
    "start_time": "2022-01-01T15:17:29.220Z"
   },
   {
    "duration": 12,
    "start_time": "2022-01-01T15:17:29.241Z"
   },
   {
    "duration": 20,
    "start_time": "2022-01-01T15:17:29.256Z"
   },
   {
    "duration": 6,
    "start_time": "2022-01-01T15:17:29.318Z"
   },
   {
    "duration": 19,
    "start_time": "2022-01-01T15:17:29.328Z"
   },
   {
    "duration": 11,
    "start_time": "2022-01-01T15:17:29.350Z"
   },
   {
    "duration": 53,
    "start_time": "2022-01-01T15:17:29.364Z"
   },
   {
    "duration": 17,
    "start_time": "2022-01-01T15:17:29.420Z"
   },
   {
    "duration": 8,
    "start_time": "2022-01-01T15:17:29.439Z"
   },
   {
    "duration": 12,
    "start_time": "2022-01-01T15:17:29.450Z"
   },
   {
    "duration": 16,
    "start_time": "2022-01-01T15:17:29.464Z"
   },
   {
    "duration": 5,
    "start_time": "2022-01-01T15:17:29.516Z"
   },
   {
    "duration": 11,
    "start_time": "2022-01-01T15:17:29.524Z"
   },
   {
    "duration": 11,
    "start_time": "2022-01-01T15:17:29.538Z"
   },
   {
    "duration": 12,
    "start_time": "2022-01-01T15:17:29.552Z"
   },
   {
    "duration": 51,
    "start_time": "2022-01-01T15:17:29.567Z"
   },
   {
    "duration": 71,
    "start_time": "2022-01-01T15:17:29.621Z"
   },
   {
    "duration": 5,
    "start_time": "2022-01-01T15:17:29.694Z"
   },
   {
    "duration": 86,
    "start_time": "2022-01-01T15:17:29.701Z"
   },
   {
    "duration": 42,
    "start_time": "2022-01-01T15:17:29.789Z"
   },
   {
    "duration": 6,
    "start_time": "2022-01-01T15:17:29.834Z"
   },
   {
    "duration": 99,
    "start_time": "2022-01-01T15:17:29.842Z"
   },
   {
    "duration": 23,
    "start_time": "2022-01-01T15:17:29.944Z"
   },
   {
    "duration": 9,
    "start_time": "2022-01-01T15:17:29.971Z"
   },
   {
    "duration": 151,
    "start_time": "2022-01-01T15:17:29.983Z"
   },
   {
    "duration": 27,
    "start_time": "2022-01-01T15:17:30.136Z"
   },
   {
    "duration": 9,
    "start_time": "2022-01-01T15:17:30.165Z"
   },
   {
    "duration": 59,
    "start_time": "2022-01-01T15:17:30.177Z"
   },
   {
    "duration": 13,
    "start_time": "2022-01-01T15:17:30.240Z"
   },
   {
    "duration": 12,
    "start_time": "2022-01-01T15:17:30.256Z"
   },
   {
    "duration": 10,
    "start_time": "2022-01-01T15:17:30.270Z"
   },
   {
    "duration": 64,
    "start_time": "2022-01-01T15:17:30.282Z"
   },
   {
    "duration": 49,
    "start_time": "2022-01-01T15:17:30.348Z"
   },
   {
    "duration": 21,
    "start_time": "2022-01-01T15:17:30.399Z"
   },
   {
    "duration": 465,
    "start_time": "2022-01-01T15:17:30.423Z"
   },
   {
    "duration": 429,
    "start_time": "2022-01-01T15:17:30.891Z"
   },
   {
    "duration": 299,
    "start_time": "2022-01-01T15:17:31.323Z"
   },
   {
    "duration": 5,
    "start_time": "2022-01-01T15:17:31.625Z"
   },
   {
    "duration": 25,
    "start_time": "2022-01-01T15:17:31.633Z"
   },
   {
    "duration": 82,
    "start_time": "2022-01-01T15:17:31.661Z"
   },
   {
    "duration": 6,
    "start_time": "2022-01-01T15:17:31.746Z"
   },
   {
    "duration": 343,
    "start_time": "2022-01-01T15:17:31.754Z"
   },
   {
    "duration": 424,
    "start_time": "2022-01-01T15:17:32.100Z"
   },
   {
    "duration": 418,
    "start_time": "2022-01-01T15:17:32.527Z"
   },
   {
    "duration": 12,
    "start_time": "2022-01-01T15:17:32.948Z"
   },
   {
    "duration": 10,
    "start_time": "2022-01-01T15:17:32.963Z"
   },
   {
    "duration": 16,
    "start_time": "2022-01-01T15:17:32.976Z"
   },
   {
    "duration": 17,
    "start_time": "2022-01-01T15:17:33.017Z"
   },
   {
    "duration": 4,
    "start_time": "2022-01-01T15:17:33.037Z"
   },
   {
    "duration": 17,
    "start_time": "2022-01-01T15:17:33.043Z"
   },
   {
    "duration": 387,
    "start_time": "2022-01-01T15:17:33.063Z"
   },
   {
    "duration": -184,
    "start_time": "2022-01-01T15:17:33.637Z"
   },
   {
    "duration": -215,
    "start_time": "2022-01-01T15:17:33.670Z"
   },
   {
    "duration": -245,
    "start_time": "2022-01-01T15:17:33.701Z"
   },
   {
    "duration": -268,
    "start_time": "2022-01-01T15:17:33.726Z"
   },
   {
    "duration": -294,
    "start_time": "2022-01-01T15:17:33.754Z"
   },
   {
    "duration": -315,
    "start_time": "2022-01-01T15:17:33.776Z"
   },
   {
    "duration": -335,
    "start_time": "2022-01-01T15:17:33.797Z"
   },
   {
    "duration": -356,
    "start_time": "2022-01-01T15:17:33.820Z"
   },
   {
    "duration": -383,
    "start_time": "2022-01-01T15:17:33.848Z"
   },
   {
    "duration": -429,
    "start_time": "2022-01-01T15:17:33.896Z"
   },
   {
    "duration": -456,
    "start_time": "2022-01-01T15:17:33.924Z"
   },
   {
    "duration": -481,
    "start_time": "2022-01-01T15:17:33.951Z"
   },
   {
    "duration": -501,
    "start_time": "2022-01-01T15:17:33.972Z"
   },
   {
    "duration": -522,
    "start_time": "2022-01-01T15:17:33.995Z"
   },
   {
    "duration": -543,
    "start_time": "2022-01-01T15:17:34.017Z"
   },
   {
    "duration": -563,
    "start_time": "2022-01-01T15:17:34.038Z"
   },
   {
    "duration": -585,
    "start_time": "2022-01-01T15:17:34.062Z"
   },
   {
    "duration": -605,
    "start_time": "2022-01-01T15:17:34.083Z"
   },
   {
    "duration": -624,
    "start_time": "2022-01-01T15:17:34.104Z"
   },
   {
    "duration": -651,
    "start_time": "2022-01-01T15:17:34.132Z"
   },
   {
    "duration": -671,
    "start_time": "2022-01-01T15:17:34.154Z"
   },
   {
    "duration": -698,
    "start_time": "2022-01-01T15:17:34.182Z"
   },
   {
    "duration": -720,
    "start_time": "2022-01-01T15:17:34.205Z"
   },
   {
    "duration": -745,
    "start_time": "2022-01-01T15:17:34.232Z"
   },
   {
    "duration": -759,
    "start_time": "2022-01-01T15:17:34.247Z"
   },
   {
    "duration": -779,
    "start_time": "2022-01-01T15:17:34.269Z"
   },
   {
    "duration": -772,
    "start_time": "2022-01-01T15:17:34.290Z"
   },
   {
    "duration": -792,
    "start_time": "2022-01-01T15:17:34.312Z"
   },
   {
    "duration": -815,
    "start_time": "2022-01-01T15:17:34.336Z"
   },
   {
    "duration": 28,
    "start_time": "2022-01-01T15:18:10.821Z"
   },
   {
    "duration": 19,
    "start_time": "2022-01-01T15:18:14.741Z"
   },
   {
    "duration": 7,
    "start_time": "2022-01-01T15:18:54.079Z"
   },
   {
    "duration": 8,
    "start_time": "2022-01-01T15:18:58.730Z"
   },
   {
    "duration": 4,
    "start_time": "2022-01-02T05:30:58.572Z"
   },
   {
    "duration": 4,
    "start_time": "2022-01-02T05:31:00.913Z"
   },
   {
    "duration": 391,
    "start_time": "2022-01-02T05:31:02.289Z"
   },
   {
    "duration": 12,
    "start_time": "2022-01-02T05:31:04.739Z"
   },
   {
    "duration": 11,
    "start_time": "2022-01-02T05:31:10.248Z"
   },
   {
    "duration": 12,
    "start_time": "2022-01-02T05:31:11.871Z"
   },
   {
    "duration": 15,
    "start_time": "2022-01-02T05:31:14.305Z"
   },
   {
    "duration": 12,
    "start_time": "2022-01-02T05:31:20.336Z"
   },
   {
    "duration": 23,
    "start_time": "2022-01-02T05:31:27.380Z"
   },
   {
    "duration": 25,
    "start_time": "2022-01-02T05:31:28.810Z"
   },
   {
    "duration": 22,
    "start_time": "2022-01-02T05:31:30.880Z"
   },
   {
    "duration": 6,
    "start_time": "2022-01-02T05:31:32.849Z"
   },
   {
    "duration": 15,
    "start_time": "2022-01-02T05:31:36.979Z"
   },
   {
    "duration": 10,
    "start_time": "2022-01-02T05:31:41.159Z"
   },
   {
    "duration": 17,
    "start_time": "2022-01-02T05:31:42.123Z"
   },
   {
    "duration": 31,
    "start_time": "2022-01-02T05:31:45.816Z"
   },
   {
    "duration": 17,
    "start_time": "2022-01-02T05:31:46.698Z"
   },
   {
    "duration": 14,
    "start_time": "2022-01-02T05:31:47.562Z"
   },
   {
    "duration": 9,
    "start_time": "2022-01-02T05:31:48.474Z"
   },
   {
    "duration": 7,
    "start_time": "2022-01-02T05:31:52.817Z"
   },
   {
    "duration": 14,
    "start_time": "2022-01-02T05:31:54.488Z"
   },
   {
    "duration": 17,
    "start_time": "2022-01-02T05:31:55.279Z"
   },
   {
    "duration": 15,
    "start_time": "2022-01-02T05:31:56.057Z"
   },
   {
    "duration": 13,
    "start_time": "2022-01-02T05:31:59.824Z"
   },
   {
    "duration": 29,
    "start_time": "2022-01-02T05:32:01.278Z"
   },
   {
    "duration": 15,
    "start_time": "2022-01-02T05:32:02.030Z"
   },
   {
    "duration": 15,
    "start_time": "2022-01-02T05:32:06.289Z"
   },
   {
    "duration": 14,
    "start_time": "2022-01-02T05:32:07.010Z"
   },
   {
    "duration": 16,
    "start_time": "2022-01-02T05:32:08.459Z"
   },
   {
    "duration": 9,
    "start_time": "2022-01-02T05:32:09.336Z"
   },
   {
    "duration": 4,
    "start_time": "2022-01-02T05:32:10.063Z"
   },
   {
    "duration": 19,
    "start_time": "2022-01-02T05:32:13.385Z"
   },
   {
    "duration": 17,
    "start_time": "2022-01-02T05:32:14.209Z"
   },
   {
    "duration": 6,
    "start_time": "2022-01-02T05:32:14.933Z"
   },
   {
    "duration": 8,
    "start_time": "2022-01-02T05:32:15.782Z"
   },
   {
    "duration": 5,
    "start_time": "2022-01-02T05:32:19.709Z"
   },
   {
    "duration": 17,
    "start_time": "2022-01-02T05:32:21.343Z"
   },
   {
    "duration": 6,
    "start_time": "2022-01-02T05:32:22.191Z"
   },
   {
    "duration": 19,
    "start_time": "2022-01-02T05:32:23.031Z"
   },
   {
    "duration": 23,
    "start_time": "2022-01-02T05:32:27.178Z"
   },
   {
    "duration": 15,
    "start_time": "2022-01-02T05:32:27.983Z"
   },
   {
    "duration": 20,
    "start_time": "2022-01-02T05:32:31.873Z"
   },
   {
    "duration": 16,
    "start_time": "2022-01-02T05:32:33.385Z"
   },
   {
    "duration": 15,
    "start_time": "2022-01-02T05:32:39.371Z"
   },
   {
    "duration": 25,
    "start_time": "2022-01-02T05:32:40.247Z"
   },
   {
    "duration": 39,
    "start_time": "2022-01-02T05:32:48.389Z"
   },
   {
    "duration": 6,
    "start_time": "2022-01-02T05:32:49.310Z"
   },
   {
    "duration": 6,
    "start_time": "2022-01-02T05:32:50.173Z"
   },
   {
    "duration": 17,
    "start_time": "2022-01-02T05:32:51.150Z"
   },
   {
    "duration": 12,
    "start_time": "2022-01-02T05:32:53.062Z"
   },
   {
    "duration": 24,
    "start_time": "2022-01-02T05:32:54.113Z"
   },
   {
    "duration": 10,
    "start_time": "2022-01-02T05:32:57.542Z"
   },
   {
    "duration": 5,
    "start_time": "2022-01-02T05:32:58.486Z"
   },
   {
    "duration": 21,
    "start_time": "2022-01-02T05:32:59.429Z"
   },
   {
    "duration": 7,
    "start_time": "2022-01-02T05:33:00.445Z"
   },
   {
    "duration": 12,
    "start_time": "2022-01-02T05:33:03.348Z"
   },
   {
    "duration": 22,
    "start_time": "2022-01-02T05:33:04.110Z"
   },
   {
    "duration": 22,
    "start_time": "2022-01-02T05:33:04.841Z"
   },
   {
    "duration": 6,
    "start_time": "2022-01-02T05:33:05.622Z"
   },
   {
    "duration": 15,
    "start_time": "2022-01-02T05:33:06.377Z"
   },
   {
    "duration": 5,
    "start_time": "2022-01-02T05:33:07.085Z"
   },
   {
    "duration": 16,
    "start_time": "2022-01-02T05:33:08.526Z"
   },
   {
    "duration": 4,
    "start_time": "2022-01-02T05:33:09.250Z"
   },
   {
    "duration": 12,
    "start_time": "2022-01-02T05:33:09.983Z"
   },
   {
    "duration": 19,
    "start_time": "2022-01-02T05:33:10.671Z"
   },
   {
    "duration": 13,
    "start_time": "2022-01-02T05:33:11.396Z"
   },
   {
    "duration": 21,
    "start_time": "2022-01-02T05:33:12.087Z"
   },
   {
    "duration": 5,
    "start_time": "2022-01-02T05:33:12.866Z"
   },
   {
    "duration": 19,
    "start_time": "2022-01-02T05:33:13.590Z"
   },
   {
    "duration": 10,
    "start_time": "2022-01-02T05:33:15.156Z"
   },
   {
    "duration": 18,
    "start_time": "2022-01-02T05:33:15.915Z"
   },
   {
    "duration": 17,
    "start_time": "2022-01-02T05:33:16.675Z"
   },
   {
    "duration": 5,
    "start_time": "2022-01-02T05:33:17.377Z"
   },
   {
    "duration": 8,
    "start_time": "2022-01-02T05:33:18.109Z"
   },
   {
    "duration": 19,
    "start_time": "2022-01-02T05:33:19.889Z"
   },
   {
    "duration": 5,
    "start_time": "2022-01-02T05:33:20.273Z"
   },
   {
    "duration": 10,
    "start_time": "2022-01-02T05:33:21.022Z"
   },
   {
    "duration": 9,
    "start_time": "2022-01-02T05:33:21.758Z"
   },
   {
    "duration": 10,
    "start_time": "2022-01-02T05:33:22.577Z"
   },
   {
    "duration": 5,
    "start_time": "2022-01-02T05:33:25.630Z"
   },
   {
    "duration": 5400,
    "start_time": "2022-01-02T05:33:26.420Z"
   },
   {
    "duration": 5,
    "start_time": "2022-01-02T05:33:31.822Z"
   },
   {
    "duration": 5792,
    "start_time": "2022-01-02T05:33:39.226Z"
   },
   {
    "duration": 25,
    "start_time": "2022-01-02T05:33:53.727Z"
   },
   {
    "duration": 5,
    "start_time": "2022-01-02T05:33:59.696Z"
   },
   {
    "duration": 5259,
    "start_time": "2022-01-02T05:34:00.896Z"
   },
   {
    "duration": 26,
    "start_time": "2022-01-02T05:34:10.984Z"
   },
   {
    "duration": 9,
    "start_time": "2022-01-02T05:34:16.091Z"
   },
   {
    "duration": 11809,
    "start_time": "2022-01-02T05:34:24.607Z"
   },
   {
    "duration": -312,
    "start_time": "2022-01-02T05:34:36.731Z"
   },
   {
    "duration": 10,
    "start_time": "2022-01-02T05:36:25.009Z"
   },
   {
    "duration": 574,
    "start_time": "2022-01-02T05:36:28.450Z"
   },
   {
    "duration": 9,
    "start_time": "2022-01-02T05:38:23.559Z"
   },
   {
    "duration": 616,
    "start_time": "2022-01-02T05:38:24.802Z"
   },
   {
    "duration": 9,
    "start_time": "2022-01-02T05:38:52.999Z"
   },
   {
    "duration": 618,
    "start_time": "2022-01-02T05:38:55.325Z"
   },
   {
    "duration": 10,
    "start_time": "2022-01-02T05:39:37.886Z"
   },
   {
    "duration": 22,
    "start_time": "2022-01-02T05:39:39.538Z"
   },
   {
    "duration": 552,
    "start_time": "2022-01-02T05:39:58.358Z"
   },
   {
    "duration": 9,
    "start_time": "2022-01-02T05:45:29.464Z"
   },
   {
    "duration": 567,
    "start_time": "2022-01-02T05:45:30.955Z"
   },
   {
    "duration": 9,
    "start_time": "2022-01-02T05:45:53.279Z"
   },
   {
    "duration": 10966,
    "start_time": "2022-01-02T05:45:57.977Z"
   },
   {
    "duration": 10721,
    "start_time": "2022-01-02T05:49:00.821Z"
   },
   {
    "duration": 11070,
    "start_time": "2022-01-02T05:49:23.850Z"
   },
   {
    "duration": 11630,
    "start_time": "2022-01-02T05:53:10.916Z"
   },
   {
    "duration": 41,
    "start_time": "2022-01-02T05:53:25.661Z"
   },
   {
    "duration": 9,
    "start_time": "2022-01-02T05:54:33.406Z"
   },
   {
    "duration": 560,
    "start_time": "2022-01-02T05:54:35.223Z"
   },
   {
    "duration": 9,
    "start_time": "2022-01-02T05:56:36.577Z"
   },
   {
    "duration": 560,
    "start_time": "2022-01-02T05:56:38.501Z"
   },
   {
    "duration": 9,
    "start_time": "2022-01-02T05:56:57.355Z"
   },
   {
    "duration": 10873,
    "start_time": "2022-01-02T05:56:58.105Z"
   },
   {
    "duration": 36,
    "start_time": "2022-01-02T05:57:18.732Z"
   },
   {
    "duration": 9,
    "start_time": "2022-01-02T05:58:17.343Z"
   },
   {
    "duration": 10771,
    "start_time": "2022-01-02T05:58:19.306Z"
   },
   {
    "duration": 36,
    "start_time": "2022-01-02T05:58:30.971Z"
   },
   {
    "duration": 102,
    "start_time": "2022-01-02T06:01:24.850Z"
   },
   {
    "duration": 10833,
    "start_time": "2022-01-02T06:01:28.169Z"
   },
   {
    "duration": 41,
    "start_time": "2022-01-02T06:01:43.256Z"
   },
   {
    "duration": 9,
    "start_time": "2022-01-02T06:02:15.054Z"
   },
   {
    "duration": 587,
    "start_time": "2022-01-02T06:02:18.220Z"
   },
   {
    "duration": 587,
    "start_time": "2022-01-02T06:02:42.746Z"
   },
   {
    "duration": 3,
    "start_time": "2022-01-02T06:03:27.598Z"
   },
   {
    "duration": 7,
    "start_time": "2022-01-02T06:03:27.606Z"
   },
   {
    "duration": 371,
    "start_time": "2022-01-02T06:03:27.615Z"
   },
   {
    "duration": 27,
    "start_time": "2022-01-02T06:03:27.989Z"
   },
   {
    "duration": 11,
    "start_time": "2022-01-02T06:03:28.019Z"
   },
   {
    "duration": 13,
    "start_time": "2022-01-02T06:03:28.032Z"
   },
   {
    "duration": 19,
    "start_time": "2022-01-02T06:03:28.047Z"
   },
   {
    "duration": 48,
    "start_time": "2022-01-02T06:03:28.069Z"
   },
   {
    "duration": 21,
    "start_time": "2022-01-02T06:03:28.120Z"
   },
   {
    "duration": 24,
    "start_time": "2022-01-02T06:03:28.143Z"
   },
   {
    "duration": 58,
    "start_time": "2022-01-02T06:03:28.170Z"
   },
   {
    "duration": 4,
    "start_time": "2022-01-02T06:03:28.231Z"
   },
   {
    "duration": 18,
    "start_time": "2022-01-02T06:03:28.237Z"
   },
   {
    "duration": 8,
    "start_time": "2022-01-02T06:03:28.257Z"
   },
   {
    "duration": 54,
    "start_time": "2022-01-02T06:03:28.267Z"
   },
   {
    "duration": 31,
    "start_time": "2022-01-02T06:03:28.323Z"
   },
   {
    "duration": 18,
    "start_time": "2022-01-02T06:03:28.356Z"
   },
   {
    "duration": 48,
    "start_time": "2022-01-02T06:03:28.376Z"
   },
   {
    "duration": 18,
    "start_time": "2022-01-02T06:03:28.426Z"
   },
   {
    "duration": 7,
    "start_time": "2022-01-02T06:03:28.451Z"
   },
   {
    "duration": 56,
    "start_time": "2022-01-02T06:03:28.464Z"
   },
   {
    "duration": 16,
    "start_time": "2022-01-02T06:03:28.522Z"
   },
   {
    "duration": 14,
    "start_time": "2022-01-02T06:03:28.540Z"
   },
   {
    "duration": 11,
    "start_time": "2022-01-02T06:03:28.556Z"
   },
   {
    "duration": 58,
    "start_time": "2022-01-02T06:03:28.569Z"
   },
   {
    "duration": 15,
    "start_time": "2022-01-02T06:03:28.629Z"
   },
   {
    "duration": 15,
    "start_time": "2022-01-02T06:03:28.646Z"
   },
   {
    "duration": 12,
    "start_time": "2022-01-02T06:03:28.664Z"
   },
   {
    "duration": 53,
    "start_time": "2022-01-02T06:03:28.678Z"
   },
   {
    "duration": 9,
    "start_time": "2022-01-02T06:03:28.733Z"
   },
   {
    "duration": 5,
    "start_time": "2022-01-02T06:03:28.744Z"
   },
   {
    "duration": 20,
    "start_time": "2022-01-02T06:03:28.751Z"
   },
   {
    "duration": 60,
    "start_time": "2022-01-02T06:03:28.773Z"
   },
   {
    "duration": 7,
    "start_time": "2022-01-02T06:03:28.835Z"
   },
   {
    "duration": 8,
    "start_time": "2022-01-02T06:03:28.845Z"
   },
   {
    "duration": 5,
    "start_time": "2022-01-02T06:03:28.855Z"
   },
   {
    "duration": 57,
    "start_time": "2022-01-02T06:03:28.862Z"
   },
   {
    "duration": 10,
    "start_time": "2022-01-02T06:03:28.921Z"
   },
   {
    "duration": 19,
    "start_time": "2022-01-02T06:03:28.934Z"
   },
   {
    "duration": 21,
    "start_time": "2022-01-02T06:03:28.955Z"
   },
   {
    "duration": 49,
    "start_time": "2022-01-02T06:03:28.978Z"
   },
   {
    "duration": 17,
    "start_time": "2022-01-02T06:03:29.030Z"
   },
   {
    "duration": 15,
    "start_time": "2022-01-02T06:03:29.049Z"
   },
   {
    "duration": 54,
    "start_time": "2022-01-02T06:03:29.067Z"
   },
   {
    "duration": 23,
    "start_time": "2022-01-02T06:03:29.123Z"
   },
   {
    "duration": 35,
    "start_time": "2022-01-02T06:03:29.148Z"
   },
   {
    "duration": 5,
    "start_time": "2022-01-02T06:03:29.217Z"
   },
   {
    "duration": 9,
    "start_time": "2022-01-02T06:03:29.224Z"
   },
   {
    "duration": 17,
    "start_time": "2022-01-02T06:03:29.235Z"
   },
   {
    "duration": 11,
    "start_time": "2022-01-02T06:03:29.254Z"
   },
   {
    "duration": 62,
    "start_time": "2022-01-02T06:03:29.267Z"
   },
   {
    "duration": 10,
    "start_time": "2022-01-02T06:03:29.331Z"
   },
   {
    "duration": 9,
    "start_time": "2022-01-02T06:03:29.343Z"
   },
   {
    "duration": 20,
    "start_time": "2022-01-02T06:03:29.354Z"
   },
   {
    "duration": 6,
    "start_time": "2022-01-02T06:03:29.377Z"
   },
   {
    "duration": 13,
    "start_time": "2022-01-02T06:03:29.423Z"
   },
   {
    "duration": 24,
    "start_time": "2022-01-02T06:03:29.440Z"
   },
   {
    "duration": 17,
    "start_time": "2022-01-02T06:03:29.467Z"
   },
   {
    "duration": 34,
    "start_time": "2022-01-02T06:03:29.486Z"
   },
   {
    "duration": 14,
    "start_time": "2022-01-02T06:03:29.523Z"
   },
   {
    "duration": 5,
    "start_time": "2022-01-02T06:03:29.540Z"
   },
   {
    "duration": 19,
    "start_time": "2022-01-02T06:03:29.547Z"
   },
   {
    "duration": 6,
    "start_time": "2022-01-02T06:03:29.568Z"
   },
   {
    "duration": 46,
    "start_time": "2022-01-02T06:03:29.576Z"
   },
   {
    "duration": 18,
    "start_time": "2022-01-02T06:03:29.624Z"
   },
   {
    "duration": 11,
    "start_time": "2022-01-02T06:03:29.645Z"
   },
   {
    "duration": 20,
    "start_time": "2022-01-02T06:03:29.658Z"
   },
   {
    "duration": 4,
    "start_time": "2022-01-02T06:03:29.681Z"
   },
   {
    "duration": 19,
    "start_time": "2022-01-02T06:03:29.718Z"
   },
   {
    "duration": 11,
    "start_time": "2022-01-02T06:03:29.739Z"
   },
   {
    "duration": 19,
    "start_time": "2022-01-02T06:03:29.752Z"
   },
   {
    "duration": 54,
    "start_time": "2022-01-02T06:03:29.773Z"
   },
   {
    "duration": 5,
    "start_time": "2022-01-02T06:03:29.830Z"
   },
   {
    "duration": 9,
    "start_time": "2022-01-02T06:03:29.837Z"
   },
   {
    "duration": 16,
    "start_time": "2022-01-02T06:03:29.848Z"
   },
   {
    "duration": 6,
    "start_time": "2022-01-02T06:03:29.866Z"
   },
   {
    "duration": 47,
    "start_time": "2022-01-02T06:03:29.874Z"
   },
   {
    "duration": 9,
    "start_time": "2022-01-02T06:03:29.924Z"
   },
   {
    "duration": 8,
    "start_time": "2022-01-02T06:03:29.935Z"
   },
   {
    "duration": 5,
    "start_time": "2022-01-02T06:03:29.945Z"
   },
   {
    "duration": 5379,
    "start_time": "2022-01-02T06:03:29.952Z"
   },
   {
    "duration": 5,
    "start_time": "2022-01-02T06:03:35.334Z"
   },
   {
    "duration": 5330,
    "start_time": "2022-01-02T06:03:35.341Z"
   },
   {
    "duration": 26,
    "start_time": "2022-01-02T06:03:40.673Z"
   },
   {
    "duration": 5,
    "start_time": "2022-01-02T06:03:40.718Z"
   },
   {
    "duration": 5252,
    "start_time": "2022-01-02T06:03:40.725Z"
   },
   {
    "duration": 39,
    "start_time": "2022-01-02T06:03:45.979Z"
   },
   {
    "duration": 9,
    "start_time": "2022-01-02T06:03:46.021Z"
   },
   {
    "duration": 563,
    "start_time": "2022-01-02T06:03:46.033Z"
   },
   {
    "duration": -521,
    "start_time": "2022-01-02T06:03:47.119Z"
   },
   {
    "duration": -567,
    "start_time": "2022-01-02T06:03:47.167Z"
   },
   {
    "duration": -584,
    "start_time": "2022-01-02T06:03:47.185Z"
   },
   {
    "duration": -614,
    "start_time": "2022-01-02T06:03:47.217Z"
   },
   {
    "duration": -644,
    "start_time": "2022-01-02T06:03:47.248Z"
   },
   {
    "duration": -669,
    "start_time": "2022-01-02T06:03:47.274Z"
   },
   {
    "duration": -694,
    "start_time": "2022-01-02T06:03:47.301Z"
   },
   {
    "duration": -721,
    "start_time": "2022-01-02T06:03:47.329Z"
   },
   {
    "duration": -747,
    "start_time": "2022-01-02T06:03:47.356Z"
   },
   {
    "duration": -783,
    "start_time": "2022-01-02T06:03:47.394Z"
   },
   {
    "duration": -797,
    "start_time": "2022-01-02T06:03:47.409Z"
   },
   {
    "duration": -833,
    "start_time": "2022-01-02T06:03:47.446Z"
   },
   {
    "duration": -848,
    "start_time": "2022-01-02T06:03:47.462Z"
   },
   {
    "duration": -881,
    "start_time": "2022-01-02T06:03:47.497Z"
   },
   {
    "duration": -896,
    "start_time": "2022-01-02T06:03:47.513Z"
   },
   {
    "duration": -922,
    "start_time": "2022-01-02T06:03:47.540Z"
   },
   {
    "duration": -947,
    "start_time": "2022-01-02T06:03:47.566Z"
   },
   {
    "duration": -975,
    "start_time": "2022-01-02T06:03:47.595Z"
   },
   {
    "duration": -997,
    "start_time": "2022-01-02T06:03:47.619Z"
   },
   {
    "duration": -1023,
    "start_time": "2022-01-02T06:03:47.646Z"
   },
   {
    "duration": -1048,
    "start_time": "2022-01-02T06:03:47.673Z"
   },
   {
    "duration": -1086,
    "start_time": "2022-01-02T06:03:47.712Z"
   },
   {
    "duration": -1101,
    "start_time": "2022-01-02T06:03:47.728Z"
   },
   {
    "duration": -1144,
    "start_time": "2022-01-02T06:03:47.772Z"
   },
   {
    "duration": -1162,
    "start_time": "2022-01-02T06:03:47.791Z"
   },
   {
    "duration": -1204,
    "start_time": "2022-01-02T06:03:47.834Z"
   },
   {
    "duration": -1219,
    "start_time": "2022-01-02T06:03:47.851Z"
   },
   {
    "duration": -1247,
    "start_time": "2022-01-02T06:03:47.880Z"
   },
   {
    "duration": -1273,
    "start_time": "2022-01-02T06:03:47.907Z"
   },
   {
    "duration": -1305,
    "start_time": "2022-01-02T06:03:47.940Z"
   },
   {
    "duration": -1346,
    "start_time": "2022-01-02T06:03:47.983Z"
   },
   {
    "duration": -1380,
    "start_time": "2022-01-02T06:03:48.018Z"
   },
   {
    "duration": -1424,
    "start_time": "2022-01-02T06:03:48.063Z"
   },
   {
    "duration": -1448,
    "start_time": "2022-01-02T06:03:48.088Z"
   },
   {
    "duration": -1477,
    "start_time": "2022-01-02T06:03:48.119Z"
   },
   {
    "duration": -1506,
    "start_time": "2022-01-02T06:03:48.149Z"
   },
   {
    "duration": -1531,
    "start_time": "2022-01-02T06:03:48.175Z"
   },
   {
    "duration": -1556,
    "start_time": "2022-01-02T06:03:48.201Z"
   },
   {
    "duration": -1585,
    "start_time": "2022-01-02T06:03:48.231Z"
   },
   {
    "duration": -1613,
    "start_time": "2022-01-02T06:03:48.260Z"
   },
   {
    "duration": -1647,
    "start_time": "2022-01-02T06:03:48.296Z"
   },
   {
    "duration": -1684,
    "start_time": "2022-01-02T06:03:48.334Z"
   },
   {
    "duration": -1722,
    "start_time": "2022-01-02T06:03:48.373Z"
   },
   {
    "duration": -1751,
    "start_time": "2022-01-02T06:03:48.403Z"
   },
   {
    "duration": -1792,
    "start_time": "2022-01-02T06:03:48.446Z"
   },
   {
    "duration": -1811,
    "start_time": "2022-01-02T06:03:48.466Z"
   },
   {
    "duration": -1860,
    "start_time": "2022-01-02T06:03:48.516Z"
   },
   {
    "duration": -1835,
    "start_time": "2022-01-02T06:03:48.555Z"
   },
   {
    "duration": -1868,
    "start_time": "2022-01-02T06:03:48.589Z"
   },
   {
    "duration": -1896,
    "start_time": "2022-01-02T06:03:48.618Z"
   },
   {
    "duration": -1921,
    "start_time": "2022-01-02T06:03:48.645Z"
   },
   {
    "duration": -1951,
    "start_time": "2022-01-02T06:03:48.676Z"
   },
   {
    "duration": -1976,
    "start_time": "2022-01-02T06:03:48.702Z"
   },
   {
    "duration": -2008,
    "start_time": "2022-01-02T06:03:48.735Z"
   },
   {
    "duration": -2035,
    "start_time": "2022-01-02T06:03:48.764Z"
   },
   {
    "duration": -2059,
    "start_time": "2022-01-02T06:03:48.789Z"
   },
   {
    "duration": 5,
    "start_time": "2022-01-02T06:05:14.554Z"
   },
   {
    "duration": 5947,
    "start_time": "2022-01-02T06:05:15.920Z"
   },
   {
    "duration": 23,
    "start_time": "2022-01-02T06:05:25.033Z"
   },
   {
    "duration": 8,
    "start_time": "2022-01-02T06:05:31.279Z"
   },
   {
    "duration": 574,
    "start_time": "2022-01-02T06:05:37.479Z"
   },
   {
    "duration": 596,
    "start_time": "2022-01-02T06:08:40.770Z"
   },
   {
    "duration": 579,
    "start_time": "2022-01-02T06:08:56.808Z"
   },
   {
    "duration": 11,
    "start_time": "2022-01-02T06:09:23.175Z"
   },
   {
    "duration": 628,
    "start_time": "2022-01-02T06:09:36.430Z"
   },
   {
    "duration": 567,
    "start_time": "2022-01-02T06:12:28.712Z"
   },
   {
    "duration": 3,
    "start_time": "2022-01-02T06:22:17.573Z"
   },
   {
    "duration": 4,
    "start_time": "2022-01-02T06:22:18.620Z"
   },
   {
    "duration": 370,
    "start_time": "2022-01-02T06:22:19.045Z"
   },
   {
    "duration": 12,
    "start_time": "2022-01-02T06:22:20.238Z"
   },
   {
    "duration": 10,
    "start_time": "2022-01-02T06:22:20.652Z"
   },
   {
    "duration": 12,
    "start_time": "2022-01-02T06:22:21.104Z"
   },
   {
    "duration": 17,
    "start_time": "2022-01-02T06:22:21.486Z"
   },
   {
    "duration": 12,
    "start_time": "2022-01-02T06:22:21.876Z"
   },
   {
    "duration": 21,
    "start_time": "2022-01-02T06:22:24.812Z"
   },
   {
    "duration": 26,
    "start_time": "2022-01-02T06:22:25.324Z"
   },
   {
    "duration": 23,
    "start_time": "2022-01-02T06:22:26.489Z"
   },
   {
    "duration": 5,
    "start_time": "2022-01-02T06:22:28.369Z"
   },
   {
    "duration": 15,
    "start_time": "2022-01-02T06:22:29.806Z"
   },
   {
    "duration": 9,
    "start_time": "2022-01-02T06:22:30.583Z"
   },
   {
    "duration": 18,
    "start_time": "2022-01-02T06:22:31.582Z"
   },
   {
    "duration": 33,
    "start_time": "2022-01-02T06:22:32.322Z"
   },
   {
    "duration": 18,
    "start_time": "2022-01-02T06:22:33.221Z"
   },
   {
    "duration": 14,
    "start_time": "2022-01-02T06:22:33.959Z"
   },
   {
    "duration": 9,
    "start_time": "2022-01-02T06:22:34.852Z"
   },
   {
    "duration": 8,
    "start_time": "2022-01-02T06:22:35.637Z"
   },
   {
    "duration": 15,
    "start_time": "2022-01-02T06:22:37.142Z"
   },
   {
    "duration": 17,
    "start_time": "2022-01-02T06:22:37.920Z"
   },
   {
    "duration": 14,
    "start_time": "2022-01-02T06:22:38.870Z"
   },
   {
    "duration": 12,
    "start_time": "2022-01-02T06:22:39.558Z"
   },
   {
    "duration": 23,
    "start_time": "2022-01-02T06:22:41.055Z"
   },
   {
    "duration": 15,
    "start_time": "2022-01-02T06:22:41.797Z"
   },
   {
    "duration": 15,
    "start_time": "2022-01-02T06:22:43.366Z"
   },
   {
    "duration": 14,
    "start_time": "2022-01-02T06:22:44.014Z"
   },
   {
    "duration": 15,
    "start_time": "2022-01-02T06:22:45.565Z"
   },
   {
    "duration": 8,
    "start_time": "2022-01-02T06:22:46.388Z"
   },
   {
    "duration": 5,
    "start_time": "2022-01-02T06:22:47.165Z"
   },
   {
    "duration": 20,
    "start_time": "2022-01-02T06:22:47.968Z"
   },
   {
    "duration": 18,
    "start_time": "2022-01-02T06:22:48.882Z"
   },
   {
    "duration": 9,
    "start_time": "2022-01-02T06:22:49.715Z"
   },
   {
    "duration": 7,
    "start_time": "2022-01-02T06:22:50.454Z"
   },
   {
    "duration": 4,
    "start_time": "2022-01-02T06:22:51.245Z"
   },
   {
    "duration": 18,
    "start_time": "2022-01-02T06:22:52.774Z"
   },
   {
    "duration": 6,
    "start_time": "2022-01-02T06:22:53.573Z"
   },
   {
    "duration": 19,
    "start_time": "2022-01-02T06:22:54.206Z"
   },
   {
    "duration": 23,
    "start_time": "2022-01-02T06:22:54.915Z"
   },
   {
    "duration": 17,
    "start_time": "2022-01-02T06:22:55.573Z"
   },
   {
    "duration": 20,
    "start_time": "2022-01-02T06:22:56.230Z"
   },
   {
    "duration": 18,
    "start_time": "2022-01-02T06:22:57.701Z"
   },
   {
    "duration": 16,
    "start_time": "2022-01-02T06:22:58.453Z"
   },
   {
    "duration": 26,
    "start_time": "2022-01-02T06:22:59.215Z"
   },
   {
    "duration": 37,
    "start_time": "2022-01-02T06:23:03.138Z"
   },
   {
    "duration": 5,
    "start_time": "2022-01-02T06:23:03.854Z"
   },
   {
    "duration": 6,
    "start_time": "2022-01-02T06:23:04.566Z"
   },
   {
    "duration": 18,
    "start_time": "2022-01-02T06:23:05.265Z"
   },
   {
    "duration": 12,
    "start_time": "2022-01-02T06:23:06.710Z"
   },
   {
    "duration": 26,
    "start_time": "2022-01-02T06:23:07.358Z"
   },
   {
    "duration": 11,
    "start_time": "2022-01-02T06:23:08.068Z"
   },
   {
    "duration": 5,
    "start_time": "2022-01-02T06:23:08.698Z"
   },
   {
    "duration": 19,
    "start_time": "2022-01-02T06:23:09.386Z"
   },
   {
    "duration": 6,
    "start_time": "2022-01-02T06:23:10.069Z"
   },
   {
    "duration": 14,
    "start_time": "2022-01-02T06:23:10.623Z"
   },
   {
    "duration": 23,
    "start_time": "2022-01-02T06:23:11.332Z"
   },
   {
    "duration": 19,
    "start_time": "2022-01-02T06:23:11.958Z"
   },
   {
    "duration": 6,
    "start_time": "2022-01-02T06:23:12.582Z"
   },
   {
    "duration": 15,
    "start_time": "2022-01-02T06:23:13.231Z"
   },
   {
    "duration": 6,
    "start_time": "2022-01-02T06:23:14.053Z"
   },
   {
    "duration": 18,
    "start_time": "2022-01-02T06:23:15.686Z"
   },
   {
    "duration": 3,
    "start_time": "2022-01-02T06:23:16.438Z"
   },
   {
    "duration": 11,
    "start_time": "2022-01-02T06:23:17.180Z"
   },
   {
    "duration": 19,
    "start_time": "2022-01-02T06:23:17.878Z"
   },
   {
    "duration": 12,
    "start_time": "2022-01-02T06:23:18.566Z"
   },
   {
    "duration": 21,
    "start_time": "2022-01-02T06:23:19.261Z"
   },
   {
    "duration": 5,
    "start_time": "2022-01-02T06:23:19.974Z"
   },
   {
    "duration": 22,
    "start_time": "2022-01-02T06:23:20.678Z"
   },
   {
    "duration": 10,
    "start_time": "2022-01-02T06:23:22.104Z"
   },
   {
    "duration": 18,
    "start_time": "2022-01-02T06:23:22.846Z"
   },
   {
    "duration": 17,
    "start_time": "2022-01-02T06:23:23.596Z"
   },
   {
    "duration": 5,
    "start_time": "2022-01-02T06:23:24.332Z"
   },
   {
    "duration": 9,
    "start_time": "2022-01-02T06:23:25.046Z"
   },
   {
    "duration": 17,
    "start_time": "2022-01-02T06:23:25.806Z"
   },
   {
    "duration": 5,
    "start_time": "2022-01-02T06:23:27.301Z"
   },
   {
    "duration": 10,
    "start_time": "2022-01-02T06:23:28.262Z"
   },
   {
    "duration": 8,
    "start_time": "2022-01-02T06:23:28.959Z"
   },
   {
    "duration": 8,
    "start_time": "2022-01-02T06:23:29.693Z"
   },
   {
    "duration": 5,
    "start_time": "2022-01-02T06:23:33.355Z"
   },
   {
    "duration": 5606,
    "start_time": "2022-01-02T06:23:34.358Z"
   },
   {
    "duration": 5,
    "start_time": "2022-01-02T06:23:39.967Z"
   },
   {
    "duration": 5589,
    "start_time": "2022-01-02T06:23:41.980Z"
   },
   {
    "duration": 23,
    "start_time": "2022-01-02T06:24:00.203Z"
   },
   {
    "duration": 5,
    "start_time": "2022-01-02T06:24:05.127Z"
   },
   {
    "duration": 5370,
    "start_time": "2022-01-02T06:24:07.818Z"
   },
   {
    "duration": 24,
    "start_time": "2022-01-02T06:24:14.328Z"
   },
   {
    "duration": 9,
    "start_time": "2022-01-02T06:24:18.870Z"
   },
   {
    "duration": 587,
    "start_time": "2022-01-02T06:24:25.525Z"
   },
   {
    "duration": 9,
    "start_time": "2022-01-02T06:27:04.259Z"
   },
   {
    "duration": 870,
    "start_time": "2022-01-02T06:27:07.093Z"
   },
   {
    "duration": 10,
    "start_time": "2022-01-02T06:30:01.333Z"
   },
   {
    "duration": 801,
    "start_time": "2022-01-02T06:30:03.015Z"
   },
   {
    "duration": 10,
    "start_time": "2022-01-02T06:32:31.469Z"
   },
   {
    "duration": 750,
    "start_time": "2022-01-02T06:32:32.855Z"
   },
   {
    "duration": 11,
    "start_time": "2022-01-02T06:35:18.555Z"
   },
   {
    "duration": 884,
    "start_time": "2022-01-02T06:35:20.145Z"
   },
   {
    "duration": 10,
    "start_time": "2022-01-02T06:36:29.901Z"
   },
   {
    "duration": 12583,
    "start_time": "2022-01-02T06:36:31.690Z"
   },
   {
    "duration": 10,
    "start_time": "2022-01-02T06:36:52.153Z"
   },
   {
    "duration": 9930,
    "start_time": "2022-01-02T06:36:54.044Z"
   },
   {
    "duration": 25,
    "start_time": "2022-01-02T06:37:13.976Z"
   },
   {
    "duration": 8,
    "start_time": "2022-01-02T06:39:00.813Z"
   },
   {
    "duration": 27,
    "start_time": "2022-01-02T06:39:06.825Z"
   },
   {
    "duration": 11,
    "start_time": "2022-01-02T06:39:15.547Z"
   },
   {
    "duration": 10,
    "start_time": "2022-01-02T06:39:23.641Z"
   },
   {
    "duration": 11,
    "start_time": "2022-01-02T06:39:42.464Z"
   },
   {
    "duration": 5,
    "start_time": "2022-01-02T06:39:46.233Z"
   },
   {
    "duration": 23,
    "start_time": "2022-01-02T06:39:47.392Z"
   },
   {
    "duration": 58,
    "start_time": "2022-01-02T06:39:57.719Z"
   },
   {
    "duration": 6,
    "start_time": "2022-01-02T06:40:48.512Z"
   },
   {
    "duration": 6,
    "start_time": "2022-01-02T06:41:12.319Z"
   },
   {
    "duration": 300,
    "start_time": "2022-01-02T06:42:30.588Z"
   },
   {
    "duration": 311,
    "start_time": "2022-01-02T06:47:11.609Z"
   },
   {
    "duration": 306,
    "start_time": "2022-01-02T06:48:04.569Z"
   },
   {
    "duration": 280,
    "start_time": "2022-01-02T06:48:14.405Z"
   },
   {
    "duration": 285,
    "start_time": "2022-01-02T06:48:24.147Z"
   },
   {
    "duration": 7,
    "start_time": "2022-01-02T06:48:31.803Z"
   },
   {
    "duration": 26,
    "start_time": "2022-01-02T06:48:36.818Z"
   },
   {
    "duration": 56,
    "start_time": "2022-01-02T06:48:45.233Z"
   },
   {
    "duration": 6,
    "start_time": "2022-01-02T06:49:16.794Z"
   },
   {
    "duration": 6,
    "start_time": "2022-01-02T06:49:41.610Z"
   },
   {
    "duration": 303,
    "start_time": "2022-01-02T06:50:11.986Z"
   },
   {
    "duration": 288,
    "start_time": "2022-01-02T06:50:15.731Z"
   },
   {
    "duration": 294,
    "start_time": "2022-01-02T06:50:18.588Z"
   },
   {
    "duration": 957,
    "start_time": "2022-01-02T06:51:34.694Z"
   },
   {
    "duration": 35,
    "start_time": "2022-01-02T06:52:14.134Z"
   },
   {
    "duration": 315,
    "start_time": "2022-01-02T06:55:24.077Z"
   },
   {
    "duration": 286,
    "start_time": "2022-01-02T06:57:15.125Z"
   },
   {
    "duration": 31,
    "start_time": "2022-01-02T06:57:31.723Z"
   },
   {
    "duration": 15,
    "start_time": "2022-01-02T06:58:15.024Z"
   },
   {
    "duration": 5,
    "start_time": "2022-01-02T06:58:18.332Z"
   },
   {
    "duration": 13,
    "start_time": "2022-01-02T06:58:19.252Z"
   },
   {
    "duration": 13,
    "start_time": "2022-01-02T06:58:43.216Z"
   },
   {
    "duration": 5,
    "start_time": "2022-01-02T06:58:44.167Z"
   },
   {
    "duration": 11,
    "start_time": "2022-01-02T06:58:44.959Z"
   },
   {
    "duration": 20,
    "start_time": "2022-01-02T06:58:55.944Z"
   },
   {
    "duration": 12,
    "start_time": "2022-01-02T06:59:03.587Z"
   },
   {
    "duration": 20,
    "start_time": "2022-01-02T06:59:08.753Z"
   },
   {
    "duration": 21,
    "start_time": "2022-01-02T06:59:14.231Z"
   },
   {
    "duration": 4,
    "start_time": "2022-01-02T07:00:41.508Z"
   },
   {
    "duration": 20,
    "start_time": "2022-01-02T07:00:53.714Z"
   },
   {
    "duration": 4,
    "start_time": "2022-01-02T07:01:05.271Z"
   },
   {
    "duration": 21,
    "start_time": "2022-01-02T07:01:07.333Z"
   },
   {
    "duration": 22,
    "start_time": "2022-01-02T07:01:10.961Z"
   },
   {
    "duration": 12,
    "start_time": "2022-01-02T07:01:48.086Z"
   },
   {
    "duration": 12,
    "start_time": "2022-01-02T07:02:05.463Z"
   },
   {
    "duration": 116,
    "start_time": "2022-01-02T07:02:18.871Z"
   },
   {
    "duration": 96,
    "start_time": "2022-01-02T07:02:40.585Z"
   },
   {
    "duration": 7,
    "start_time": "2022-01-02T07:02:48.636Z"
   },
   {
    "duration": 27,
    "start_time": "2022-01-02T07:03:10.416Z"
   },
   {
    "duration": 6,
    "start_time": "2022-01-02T07:03:15.542Z"
   },
   {
    "duration": 27,
    "start_time": "2022-01-02T07:03:18.781Z"
   },
   {
    "duration": 6,
    "start_time": "2022-01-02T07:03:24.107Z"
   },
   {
    "duration": 27,
    "start_time": "2022-01-02T07:03:25.487Z"
   },
   {
    "duration": 5,
    "start_time": "2022-01-02T07:03:34.236Z"
   },
   {
    "duration": 13,
    "start_time": "2022-01-02T07:03:35.052Z"
   },
   {
    "duration": 5,
    "start_time": "2022-01-02T07:05:27.632Z"
   },
   {
    "duration": 13,
    "start_time": "2022-01-02T07:05:28.300Z"
   },
   {
    "duration": 9,
    "start_time": "2022-01-02T07:05:29.498Z"
   },
   {
    "duration": 17,
    "start_time": "2022-01-02T07:05:30.656Z"
   },
   {
    "duration": 9,
    "start_time": "2022-01-02T07:05:32.167Z"
   },
   {
    "duration": 11,
    "start_time": "2022-01-02T07:05:35.543Z"
   },
   {
    "duration": 6,
    "start_time": "2022-01-02T07:05:47.072Z"
   },
   {
    "duration": 18,
    "start_time": "2022-01-02T07:05:48.842Z"
   },
   {
    "duration": 10,
    "start_time": "2022-01-02T07:05:52.885Z"
   },
   {
    "duration": 18,
    "start_time": "2022-01-02T07:05:54.206Z"
   },
   {
    "duration": 9,
    "start_time": "2022-01-02T07:05:55.308Z"
   },
   {
    "duration": 17,
    "start_time": "2022-01-02T07:06:00.574Z"
   },
   {
    "duration": 7,
    "start_time": "2022-01-02T07:06:00.932Z"
   },
   {
    "duration": 17,
    "start_time": "2022-01-02T07:06:04.279Z"
   },
   {
    "duration": 5,
    "start_time": "2022-01-02T07:06:05.505Z"
   },
   {
    "duration": 15,
    "start_time": "2022-01-02T07:06:15.899Z"
   },
   {
    "duration": 7,
    "start_time": "2022-01-02T07:07:05.718Z"
   },
   {
    "duration": 21,
    "start_time": "2022-01-02T07:07:25.437Z"
   },
   {
    "duration": 23,
    "start_time": "2022-01-02T07:07:26.360Z"
   },
   {
    "duration": 4,
    "start_time": "2022-01-02T07:07:55.152Z"
   },
   {
    "duration": 3,
    "start_time": "2022-01-02T07:07:56.566Z"
   },
   {
    "duration": 394,
    "start_time": "2022-01-02T07:07:57.255Z"
   },
   {
    "duration": 12,
    "start_time": "2022-01-02T07:08:00.547Z"
   },
   {
    "duration": 12,
    "start_time": "2022-01-02T07:08:00.562Z"
   },
   {
    "duration": 13,
    "start_time": "2022-01-02T07:08:00.942Z"
   },
   {
    "duration": 17,
    "start_time": "2022-01-02T07:08:01.729Z"
   },
   {
    "duration": 13,
    "start_time": "2022-01-02T07:08:02.471Z"
   },
   {
    "duration": 25,
    "start_time": "2022-01-02T07:08:04.702Z"
   },
   {
    "duration": 29,
    "start_time": "2022-01-02T07:08:05.419Z"
   },
   {
    "duration": 24,
    "start_time": "2022-01-02T07:08:06.140Z"
   },
   {
    "duration": 7,
    "start_time": "2022-01-02T07:08:07.674Z"
   },
   {
    "duration": 16,
    "start_time": "2022-01-02T07:08:09.130Z"
   },
   {
    "duration": 12,
    "start_time": "2022-01-02T07:08:09.921Z"
   },
   {
    "duration": 22,
    "start_time": "2022-01-02T07:08:10.700Z"
   },
   {
    "duration": 36,
    "start_time": "2022-01-02T07:08:11.458Z"
   },
   {
    "duration": 20,
    "start_time": "2022-01-02T07:08:12.185Z"
   },
   {
    "duration": 15,
    "start_time": "2022-01-02T07:08:12.963Z"
   },
   {
    "duration": 9,
    "start_time": "2022-01-02T07:08:13.701Z"
   },
   {
    "duration": 8,
    "start_time": "2022-01-02T07:08:14.468Z"
   },
   {
    "duration": 16,
    "start_time": "2022-01-02T07:08:15.894Z"
   },
   {
    "duration": 19,
    "start_time": "2022-01-02T07:08:16.588Z"
   },
   {
    "duration": 15,
    "start_time": "2022-01-02T07:08:17.231Z"
   },
   {
    "duration": 15,
    "start_time": "2022-01-02T07:08:17.913Z"
   },
   {
    "duration": 24,
    "start_time": "2022-01-02T07:08:19.310Z"
   },
   {
    "duration": 15,
    "start_time": "2022-01-02T07:08:20.030Z"
   },
   {
    "duration": 17,
    "start_time": "2022-01-02T07:08:21.371Z"
   },
   {
    "duration": 14,
    "start_time": "2022-01-02T07:08:22.095Z"
   },
   {
    "duration": 15,
    "start_time": "2022-01-02T07:08:23.541Z"
   },
   {
    "duration": 8,
    "start_time": "2022-01-02T07:08:24.198Z"
   },
   {
    "duration": 5,
    "start_time": "2022-01-02T07:08:24.975Z"
   },
   {
    "duration": 19,
    "start_time": "2022-01-02T07:08:25.523Z"
   },
   {
    "duration": 19,
    "start_time": "2022-01-02T07:08:26.306Z"
   },
   {
    "duration": 6,
    "start_time": "2022-01-02T07:08:27.089Z"
   },
   {
    "duration": 7,
    "start_time": "2022-01-02T07:08:28.242Z"
   },
   {
    "duration": 5,
    "start_time": "2022-01-02T07:08:28.968Z"
   },
   {
    "duration": 18,
    "start_time": "2022-01-02T07:08:30.459Z"
   },
   {
    "duration": 8,
    "start_time": "2022-01-02T07:08:31.185Z"
   },
   {
    "duration": 21,
    "start_time": "2022-01-02T07:08:31.887Z"
   },
   {
    "duration": 21,
    "start_time": "2022-01-02T07:08:32.933Z"
   },
   {
    "duration": 14,
    "start_time": "2022-01-02T07:08:33.970Z"
   },
   {
    "duration": 18,
    "start_time": "2022-01-02T07:08:34.763Z"
   },
   {
    "duration": 16,
    "start_time": "2022-01-02T07:08:36.193Z"
   },
   {
    "duration": 15,
    "start_time": "2022-01-02T07:08:37.042Z"
   },
   {
    "duration": 24,
    "start_time": "2022-01-02T07:08:37.883Z"
   },
   {
    "duration": 38,
    "start_time": "2022-01-02T07:08:41.768Z"
   },
   {
    "duration": 6,
    "start_time": "2022-01-02T07:08:42.514Z"
   },
   {
    "duration": 6,
    "start_time": "2022-01-02T07:08:43.305Z"
   },
   {
    "duration": 17,
    "start_time": "2022-01-02T07:08:44.021Z"
   },
   {
    "duration": 12,
    "start_time": "2022-01-02T07:08:45.582Z"
   },
   {
    "duration": 28,
    "start_time": "2022-01-02T07:08:46.423Z"
   },
   {
    "duration": 12,
    "start_time": "2022-01-02T07:08:47.195Z"
   },
   {
    "duration": 5,
    "start_time": "2022-01-02T07:08:48.280Z"
   },
   {
    "duration": 18,
    "start_time": "2022-01-02T07:08:48.845Z"
   },
   {
    "duration": 6,
    "start_time": "2022-01-02T07:08:49.689Z"
   },
   {
    "duration": 14,
    "start_time": "2022-01-02T07:08:50.379Z"
   },
   {
    "duration": 22,
    "start_time": "2022-01-02T07:08:51.135Z"
   },
   {
    "duration": 17,
    "start_time": "2022-01-02T07:08:51.895Z"
   },
   {
    "duration": 6,
    "start_time": "2022-01-02T07:08:52.629Z"
   },
   {
    "duration": 15,
    "start_time": "2022-01-02T07:08:53.391Z"
   },
   {
    "duration": 6,
    "start_time": "2022-01-02T07:08:54.177Z"
   },
   {
    "duration": 17,
    "start_time": "2022-01-02T07:08:55.619Z"
   },
   {
    "duration": 4,
    "start_time": "2022-01-02T07:08:56.332Z"
   },
   {
    "duration": 13,
    "start_time": "2022-01-02T07:08:57.082Z"
   },
   {
    "duration": 20,
    "start_time": "2022-01-02T07:08:57.756Z"
   },
   {
    "duration": 12,
    "start_time": "2022-01-02T07:08:58.512Z"
   },
   {
    "duration": 29,
    "start_time": "2022-01-02T07:08:59.184Z"
   },
   {
    "duration": 5,
    "start_time": "2022-01-02T07:08:59.875Z"
   },
   {
    "duration": 18,
    "start_time": "2022-01-02T07:09:00.548Z"
   },
   {
    "duration": 13,
    "start_time": "2022-01-02T07:09:01.994Z"
   },
   {
    "duration": 18,
    "start_time": "2022-01-02T07:09:02.763Z"
   },
   {
    "duration": 19,
    "start_time": "2022-01-02T07:09:03.499Z"
   },
   {
    "duration": 4,
    "start_time": "2022-01-02T07:09:04.257Z"
   },
   {
    "duration": 9,
    "start_time": "2022-01-02T07:09:04.992Z"
   },
   {
    "duration": 17,
    "start_time": "2022-01-02T07:09:05.666Z"
   },
   {
    "duration": 5,
    "start_time": "2022-01-02T07:09:07.039Z"
   },
   {
    "duration": 10,
    "start_time": "2022-01-02T07:09:07.771Z"
   },
   {
    "duration": 9,
    "start_time": "2022-01-02T07:09:08.522Z"
   },
   {
    "duration": 9,
    "start_time": "2022-01-02T07:09:09.177Z"
   },
   {
    "duration": 5,
    "start_time": "2022-01-02T07:09:12.079Z"
   },
   {
    "duration": 5682,
    "start_time": "2022-01-02T07:09:12.768Z"
   },
   {
    "duration": 6,
    "start_time": "2022-01-02T07:09:18.452Z"
   },
   {
    "duration": 5511,
    "start_time": "2022-01-02T07:09:18.461Z"
   },
   {
    "duration": 25,
    "start_time": "2022-01-02T07:09:23.975Z"
   },
   {
    "duration": 18,
    "start_time": "2022-01-02T07:09:24.002Z"
   },
   {
    "duration": 5530,
    "start_time": "2022-01-02T07:09:24.022Z"
   },
   {
    "duration": 25,
    "start_time": "2022-01-02T07:09:29.555Z"
   },
   {
    "duration": 10,
    "start_time": "2022-01-02T07:09:29.583Z"
   },
   {
    "duration": 10306,
    "start_time": "2022-01-02T07:09:38.605Z"
   },
   {
    "duration": 26,
    "start_time": "2022-01-02T07:09:50.059Z"
   },
   {
    "duration": 9,
    "start_time": "2022-01-02T07:09:55.178Z"
   },
   {
    "duration": 27,
    "start_time": "2022-01-02T07:09:55.997Z"
   },
   {
    "duration": 12,
    "start_time": "2022-01-02T07:09:57.056Z"
   },
   {
    "duration": 11,
    "start_time": "2022-01-02T07:09:57.898Z"
   },
   {
    "duration": 12,
    "start_time": "2022-01-02T07:10:00.906Z"
   },
   {
    "duration": 35,
    "start_time": "2022-01-02T07:10:00.921Z"
   },
   {
    "duration": 49,
    "start_time": "2022-01-02T07:10:00.959Z"
   },
   {
    "duration": 60,
    "start_time": "2022-01-02T07:10:01.232Z"
   },
   {
    "duration": 6,
    "start_time": "2022-01-02T07:10:05.217Z"
   },
   {
    "duration": 6,
    "start_time": "2022-01-02T07:10:06.034Z"
   },
   {
    "duration": 326,
    "start_time": "2022-01-02T07:10:09.595Z"
   },
   {
    "duration": 286,
    "start_time": "2022-01-02T07:10:11.853Z"
   },
   {
    "duration": 286,
    "start_time": "2022-01-02T07:10:13.279Z"
   },
   {
    "duration": 312,
    "start_time": "2022-01-02T07:10:14.095Z"
   },
   {
    "duration": 7,
    "start_time": "2022-01-02T07:10:14.721Z"
   },
   {
    "duration": 24,
    "start_time": "2022-01-02T07:10:15.418Z"
   },
   {
    "duration": 75,
    "start_time": "2022-01-02T07:10:16.187Z"
   },
   {
    "duration": 6,
    "start_time": "2022-01-02T07:10:18.198Z"
   },
   {
    "duration": 6,
    "start_time": "2022-01-02T07:10:18.870Z"
   },
   {
    "duration": 309,
    "start_time": "2022-01-02T07:10:20.266Z"
   },
   {
    "duration": 410,
    "start_time": "2022-01-02T07:10:21.017Z"
   },
   {
    "duration": 294,
    "start_time": "2022-01-02T07:10:21.754Z"
   },
   {
    "duration": 391,
    "start_time": "2022-01-02T07:10:22.289Z"
   },
   {
    "duration": 31,
    "start_time": "2022-01-02T07:10:22.815Z"
   },
   {
    "duration": 14,
    "start_time": "2022-01-02T07:10:25.305Z"
   },
   {
    "duration": 5,
    "start_time": "2022-01-02T07:10:25.939Z"
   },
   {
    "duration": 12,
    "start_time": "2022-01-02T07:10:26.581Z"
   },
   {
    "duration": 15,
    "start_time": "2022-01-02T07:10:27.125Z"
   },
   {
    "duration": 5,
    "start_time": "2022-01-02T07:10:27.560Z"
   },
   {
    "duration": 13,
    "start_time": "2022-01-02T07:10:28.178Z"
   },
   {
    "duration": 4,
    "start_time": "2022-01-02T07:10:28.805Z"
   },
   {
    "duration": 21,
    "start_time": "2022-01-02T07:10:29.843Z"
   },
   {
    "duration": 19,
    "start_time": "2022-01-02T07:10:30.416Z"
   },
   {
    "duration": 12,
    "start_time": "2022-01-02T07:10:33.643Z"
   },
   {
    "duration": 7,
    "start_time": "2022-01-02T07:10:34.170Z"
   },
   {
    "duration": 25,
    "start_time": "2022-01-02T07:10:37.986Z"
   },
   {
    "duration": 6,
    "start_time": "2022-01-02T07:10:38.483Z"
   },
   {
    "duration": 30,
    "start_time": "2022-01-02T07:10:38.844Z"
   },
   {
    "duration": 6,
    "start_time": "2022-01-02T07:10:39.649Z"
   },
   {
    "duration": 27,
    "start_time": "2022-01-02T07:10:40.576Z"
   },
   {
    "duration": 5,
    "start_time": "2022-01-02T07:10:41.771Z"
   },
   {
    "duration": 13,
    "start_time": "2022-01-02T07:10:42.544Z"
   },
   {
    "duration": 5,
    "start_time": "2022-01-02T07:10:43.821Z"
   },
   {
    "duration": 13,
    "start_time": "2022-01-02T07:10:44.350Z"
   },
   {
    "duration": 9,
    "start_time": "2022-01-02T07:10:44.978Z"
   },
   {
    "duration": 17,
    "start_time": "2022-01-02T07:10:45.626Z"
   },
   {
    "duration": 10,
    "start_time": "2022-01-02T07:10:46.253Z"
   },
   {
    "duration": 12,
    "start_time": "2022-01-02T07:10:46.759Z"
   },
   {
    "duration": 7,
    "start_time": "2022-01-02T07:10:47.278Z"
   },
   {
    "duration": 18,
    "start_time": "2022-01-02T07:10:47.784Z"
   },
   {
    "duration": 9,
    "start_time": "2022-01-02T07:10:48.211Z"
   },
   {
    "duration": 17,
    "start_time": "2022-01-02T07:10:48.710Z"
   },
   {
    "duration": 9,
    "start_time": "2022-01-02T07:10:49.211Z"
   },
   {
    "duration": 18,
    "start_time": "2022-01-02T07:10:49.670Z"
   },
   {
    "duration": 7,
    "start_time": "2022-01-02T07:10:50.193Z"
   },
   {
    "duration": 17,
    "start_time": "2022-01-02T07:10:50.606Z"
   },
   {
    "duration": 4,
    "start_time": "2022-01-02T07:10:51.124Z"
   },
   {
    "duration": 15,
    "start_time": "2022-01-02T07:10:51.646Z"
   },
   {
    "duration": 6,
    "start_time": "2022-01-02T07:10:53.150Z"
   },
   {
    "duration": 26,
    "start_time": "2022-01-02T07:10:56.098Z"
   },
   {
    "duration": 30,
    "start_time": "2022-01-02T07:10:56.888Z"
   },
   {
    "duration": 1314,
    "start_time": "2022-01-02T15:42:27.014Z"
   },
   {
    "duration": 3,
    "start_time": "2022-01-02T15:42:28.880Z"
   },
   {
    "duration": 429,
    "start_time": "2022-01-02T15:42:29.688Z"
   },
   {
    "duration": 18,
    "start_time": "2022-01-02T15:42:31.818Z"
   },
   {
    "duration": 11,
    "start_time": "2022-01-02T15:42:32.688Z"
   },
   {
    "duration": 14,
    "start_time": "2022-01-02T15:42:33.761Z"
   },
   {
    "duration": 24,
    "start_time": "2022-01-02T15:42:34.778Z"
   },
   {
    "duration": 14,
    "start_time": "2022-01-02T15:42:36.497Z"
   },
   {
    "duration": 22,
    "start_time": "2022-01-02T15:42:40.095Z"
   },
   {
    "duration": 28,
    "start_time": "2022-01-02T15:42:41.019Z"
   },
   {
    "duration": 24,
    "start_time": "2022-01-02T15:42:41.904Z"
   },
   {
    "duration": 7,
    "start_time": "2022-01-02T15:42:44.396Z"
   },
   {
    "duration": 17,
    "start_time": "2022-01-02T15:42:45.937Z"
   },
   {
    "duration": 10,
    "start_time": "2022-01-02T15:42:46.488Z"
   },
   {
    "duration": 18,
    "start_time": "2022-01-02T15:42:57.323Z"
   },
   {
    "duration": 33,
    "start_time": "2022-01-02T15:42:58.008Z"
   },
   {
    "duration": 20,
    "start_time": "2022-01-02T15:42:58.984Z"
   },
   {
    "duration": 15,
    "start_time": "2022-01-02T15:43:00.065Z"
   },
   {
    "duration": 10,
    "start_time": "2022-01-02T15:43:00.825Z"
   },
   {
    "duration": 8,
    "start_time": "2022-01-02T15:43:01.937Z"
   },
   {
    "duration": 19,
    "start_time": "2022-01-02T15:43:03.474Z"
   },
   {
    "duration": 24,
    "start_time": "2022-01-02T15:43:05.327Z"
   },
   {
    "duration": 16,
    "start_time": "2022-01-02T15:43:05.974Z"
   },
   {
    "duration": 19,
    "start_time": "2022-01-02T15:43:06.568Z"
   },
   {
    "duration": 26,
    "start_time": "2022-01-02T15:43:07.897Z"
   },
   {
    "duration": 24,
    "start_time": "2022-01-02T15:43:08.535Z"
   },
   {
    "duration": 22,
    "start_time": "2022-01-02T15:43:09.736Z"
   },
   {
    "duration": 15,
    "start_time": "2022-01-02T15:43:10.330Z"
   },
   {
    "duration": 16,
    "start_time": "2022-01-02T15:43:12.903Z"
   },
   {
    "duration": 9,
    "start_time": "2022-01-02T15:43:14.285Z"
   },
   {
    "duration": 6,
    "start_time": "2022-01-02T15:43:15.410Z"
   },
   {
    "duration": 19,
    "start_time": "2022-01-02T15:43:16.785Z"
   },
   {
    "duration": 27,
    "start_time": "2022-01-02T15:43:17.888Z"
   },
   {
    "duration": 7,
    "start_time": "2022-01-02T15:43:19.281Z"
   },
   {
    "duration": 11,
    "start_time": "2022-01-02T15:43:20.304Z"
   },
   {
    "duration": 6,
    "start_time": "2022-01-02T15:43:21.535Z"
   },
   {
    "duration": 26,
    "start_time": "2022-01-02T15:43:24.304Z"
   },
   {
    "duration": 6,
    "start_time": "2022-01-02T15:43:26.104Z"
   },
   {
    "duration": 25,
    "start_time": "2022-01-02T15:43:27.493Z"
   },
   {
    "duration": 23,
    "start_time": "2022-01-02T15:43:28.705Z"
   },
   {
    "duration": 17,
    "start_time": "2022-01-02T15:43:31.385Z"
   },
   {
    "duration": 19,
    "start_time": "2022-01-02T15:43:33.393Z"
   },
   {
    "duration": 24,
    "start_time": "2022-01-02T15:43:35.256Z"
   },
   {
    "duration": 14,
    "start_time": "2022-01-02T15:43:36.198Z"
   },
   {
    "duration": 26,
    "start_time": "2022-01-02T15:43:37.222Z"
   },
   {
    "duration": 37,
    "start_time": "2022-01-02T15:43:44.594Z"
   },
   {
    "duration": 6,
    "start_time": "2022-01-02T15:43:45.442Z"
   },
   {
    "duration": 7,
    "start_time": "2022-01-02T15:43:46.281Z"
   },
   {
    "duration": 18,
    "start_time": "2022-01-02T15:43:47.041Z"
   },
   {
    "duration": 13,
    "start_time": "2022-01-02T15:43:47.911Z"
   },
   {
    "duration": 87,
    "start_time": "2022-01-02T15:43:48.443Z"
   },
   {
    "duration": 12,
    "start_time": "2022-01-02T15:43:49.587Z"
   },
   {
    "duration": 6,
    "start_time": "2022-01-02T15:43:50.818Z"
   },
   {
    "duration": 24,
    "start_time": "2022-01-02T15:43:51.564Z"
   },
   {
    "duration": 6,
    "start_time": "2022-01-02T15:43:52.193Z"
   },
   {
    "duration": 15,
    "start_time": "2022-01-02T15:43:52.907Z"
   },
   {
    "duration": 34,
    "start_time": "2022-01-02T15:43:53.733Z"
   },
   {
    "duration": 18,
    "start_time": "2022-01-02T15:43:54.595Z"
   },
   {
    "duration": 8,
    "start_time": "2022-01-02T15:43:55.483Z"
   },
   {
    "duration": 17,
    "start_time": "2022-01-02T15:43:56.340Z"
   },
   {
    "duration": 11,
    "start_time": "2022-01-02T15:43:57.201Z"
   },
   {
    "duration": 24,
    "start_time": "2022-01-02T15:43:59.489Z"
   },
   {
    "duration": 4,
    "start_time": "2022-01-02T15:44:00.795Z"
   },
   {
    "duration": 13,
    "start_time": "2022-01-02T15:44:01.997Z"
   },
   {
    "duration": 22,
    "start_time": "2022-01-02T15:44:03.051Z"
   },
   {
    "duration": 13,
    "start_time": "2022-01-02T15:44:03.940Z"
   },
   {
    "duration": 22,
    "start_time": "2022-01-02T15:44:04.779Z"
   },
   {
    "duration": 5,
    "start_time": "2022-01-02T15:44:05.716Z"
   },
   {
    "duration": 19,
    "start_time": "2022-01-02T15:44:06.380Z"
   },
   {
    "duration": 13,
    "start_time": "2022-01-02T15:44:08.573Z"
   },
   {
    "duration": 30,
    "start_time": "2022-01-02T15:44:10.052Z"
   },
   {
    "duration": 18,
    "start_time": "2022-01-02T15:44:11.629Z"
   },
   {
    "duration": 6,
    "start_time": "2022-01-02T15:44:12.713Z"
   },
   {
    "duration": 10,
    "start_time": "2022-01-02T15:44:13.931Z"
   },
   {
    "duration": 26,
    "start_time": "2022-01-02T15:44:14.825Z"
   },
   {
    "duration": 7,
    "start_time": "2022-01-02T15:44:17.273Z"
   },
   {
    "duration": 11,
    "start_time": "2022-01-02T15:44:18.467Z"
   },
   {
    "duration": 11,
    "start_time": "2022-01-02T15:44:19.953Z"
   },
   {
    "duration": 10,
    "start_time": "2022-01-02T15:44:21.123Z"
   },
   {
    "duration": 5,
    "start_time": "2022-01-02T15:44:26.228Z"
   },
   {
    "duration": 5587,
    "start_time": "2022-01-02T15:44:27.117Z"
   },
   {
    "duration": 6,
    "start_time": "2022-01-02T15:44:33.656Z"
   },
   {
    "duration": 5748,
    "start_time": "2022-01-02T15:44:34.586Z"
   },
   {
    "duration": 34,
    "start_time": "2022-01-02T15:44:40.337Z"
   },
   {
    "duration": 95,
    "start_time": "2022-01-02T15:44:41.772Z"
   },
   {
    "duration": 442,
    "start_time": "2022-01-02T15:44:43.041Z"
   },
   {
    "duration": 33,
    "start_time": "2022-01-02T15:44:43.987Z"
   },
   {
    "duration": 7,
    "start_time": "2022-01-02T15:45:35.301Z"
   },
   {
    "duration": 6394,
    "start_time": "2022-01-02T15:45:38.094Z"
   },
   {
    "duration": 36,
    "start_time": "2022-01-02T15:45:45.650Z"
   },
   {
    "duration": 9,
    "start_time": "2022-01-02T15:45:51.571Z"
   },
   {
    "duration": 10591,
    "start_time": "2022-01-02T15:45:53.448Z"
   },
   {
    "duration": 27,
    "start_time": "2022-01-02T15:46:05.879Z"
   },
   {
    "duration": 10,
    "start_time": "2022-01-02T15:46:09.534Z"
   },
   {
    "duration": 27,
    "start_time": "2022-01-02T15:46:10.473Z"
   },
   {
    "duration": 12,
    "start_time": "2022-01-02T15:46:11.311Z"
   },
   {
    "duration": 12,
    "start_time": "2022-01-02T15:46:13.206Z"
   },
   {
    "duration": 14,
    "start_time": "2022-01-02T15:46:15.025Z"
   },
   {
    "duration": 6,
    "start_time": "2022-01-02T15:46:16.441Z"
   },
   {
    "duration": 27,
    "start_time": "2022-01-02T15:46:18.899Z"
   },
   {
    "duration": 70,
    "start_time": "2022-01-02T15:46:23.643Z"
   },
   {
    "duration": 6,
    "start_time": "2022-01-02T15:46:27.839Z"
   },
   {
    "duration": 5,
    "start_time": "2022-01-02T15:46:29.198Z"
   },
   {
    "duration": 327,
    "start_time": "2022-01-02T15:46:35.791Z"
   },
   {
    "duration": 285,
    "start_time": "2022-01-02T15:46:39.621Z"
   },
   {
    "duration": 324,
    "start_time": "2022-01-02T15:46:41.862Z"
   },
   {
    "duration": 315,
    "start_time": "2022-01-02T15:46:45.815Z"
   },
   {
    "duration": 7,
    "start_time": "2022-01-02T15:46:47.661Z"
   },
   {
    "duration": 27,
    "start_time": "2022-01-02T15:46:48.865Z"
   },
   {
    "duration": 72,
    "start_time": "2022-01-02T15:46:50.128Z"
   },
   {
    "duration": 8,
    "start_time": "2022-01-02T15:46:55.008Z"
   },
   {
    "duration": 6,
    "start_time": "2022-01-02T15:46:56.526Z"
   },
   {
    "duration": 389,
    "start_time": "2022-01-02T15:46:58.912Z"
   },
   {
    "duration": 331,
    "start_time": "2022-01-02T15:46:59.911Z"
   },
   {
    "duration": 309,
    "start_time": "2022-01-02T15:47:02.482Z"
   },
   {
    "duration": 297,
    "start_time": "2022-01-02T15:47:03.400Z"
   },
   {
    "duration": 1000,
    "start_time": "2022-01-02T15:47:04.951Z"
   },
   {
    "duration": 17,
    "start_time": "2022-01-02T15:47:12.309Z"
   },
   {
    "duration": 5,
    "start_time": "2022-01-02T15:47:12.955Z"
   },
   {
    "duration": 14,
    "start_time": "2022-01-02T15:47:13.906Z"
   },
   {
    "duration": 15,
    "start_time": "2022-01-02T15:47:17.067Z"
   },
   {
    "duration": 5,
    "start_time": "2022-01-02T15:47:17.751Z"
   },
   {
    "duration": 14,
    "start_time": "2022-01-02T15:47:18.433Z"
   },
   {
    "duration": 6,
    "start_time": "2022-01-02T15:47:19.200Z"
   },
   {
    "duration": 23,
    "start_time": "2022-01-02T15:47:20.571Z"
   },
   {
    "duration": 22,
    "start_time": "2022-01-02T15:47:21.327Z"
   },
   {
    "duration": 10,
    "start_time": "2022-01-02T15:47:26.240Z"
   },
   {
    "duration": 7,
    "start_time": "2022-01-02T15:47:26.946Z"
   },
   {
    "duration": 28,
    "start_time": "2022-01-02T15:47:31.664Z"
   },
   {
    "duration": 7,
    "start_time": "2022-01-02T15:47:32.336Z"
   },
   {
    "duration": 27,
    "start_time": "2022-01-02T15:47:33.033Z"
   },
   {
    "duration": 6,
    "start_time": "2022-01-02T15:47:33.665Z"
   },
   {
    "duration": 28,
    "start_time": "2022-01-02T15:47:34.418Z"
   },
   {
    "duration": 5,
    "start_time": "2022-01-02T15:47:36.135Z"
   },
   {
    "duration": 14,
    "start_time": "2022-01-02T15:47:37.161Z"
   },
   {
    "duration": 5,
    "start_time": "2022-01-02T15:47:38.584Z"
   },
   {
    "duration": 18,
    "start_time": "2022-01-02T15:47:39.256Z"
   },
   {
    "duration": 11,
    "start_time": "2022-01-02T15:47:40.055Z"
   },
   {
    "duration": 16,
    "start_time": "2022-01-02T15:47:40.745Z"
   },
   {
    "duration": 8,
    "start_time": "2022-01-02T15:47:41.423Z"
   },
   {
    "duration": 11,
    "start_time": "2022-01-02T15:47:42.849Z"
   },
   {
    "duration": 7,
    "start_time": "2022-01-02T15:47:43.511Z"
   },
   {
    "duration": 18,
    "start_time": "2022-01-02T15:47:44.296Z"
   },
   {
    "duration": 10,
    "start_time": "2022-01-02T15:47:45.094Z"
   },
   {
    "duration": 18,
    "start_time": "2022-01-02T15:47:45.865Z"
   },
   {
    "duration": 8,
    "start_time": "2022-01-02T15:47:46.599Z"
   },
   {
    "duration": 17,
    "start_time": "2022-01-02T15:47:47.375Z"
   },
   {
    "duration": 8,
    "start_time": "2022-01-02T15:47:48.071Z"
   },
   {
    "duration": 16,
    "start_time": "2022-01-02T15:47:48.840Z"
   },
   {
    "duration": 5,
    "start_time": "2022-01-02T15:47:49.614Z"
   },
   {
    "duration": 31,
    "start_time": "2022-01-02T15:47:50.327Z"
   },
   {
    "duration": 9,
    "start_time": "2022-01-02T15:47:52.369Z"
   },
   {
    "duration": 31,
    "start_time": "2022-01-02T15:47:56.072Z"
   },
   {
    "duration": 23,
    "start_time": "2022-01-02T15:47:56.696Z"
   },
   {
    "duration": 708,
    "start_time": "2022-01-02T17:21:19.441Z"
   },
   {
    "duration": 702,
    "start_time": "2022-01-02T17:29:43.688Z"
   },
   {
    "duration": 739,
    "start_time": "2022-01-02T17:46:36.024Z"
   },
   {
    "duration": 827,
    "start_time": "2022-01-02T17:46:51.996Z"
   },
   {
    "duration": 835,
    "start_time": "2022-01-02T17:47:22.036Z"
   },
   {
    "duration": 725,
    "start_time": "2022-01-02T17:47:42.173Z"
   },
   {
    "duration": 283,
    "start_time": "2022-01-02T17:48:36.146Z"
   },
   {
    "duration": 296,
    "start_time": "2022-01-02T17:48:38.803Z"
   },
   {
    "duration": 311,
    "start_time": "2022-01-02T17:48:43.473Z"
   },
   {
    "duration": 715,
    "start_time": "2022-01-02T17:48:53.415Z"
   },
   {
    "duration": 765,
    "start_time": "2022-01-02T17:56:49.237Z"
   },
   {
    "duration": 785,
    "start_time": "2022-01-02T17:57:56.390Z"
   },
   {
    "duration": 857,
    "start_time": "2022-01-02T17:58:21.852Z"
   },
   {
    "duration": 763,
    "start_time": "2022-01-02T18:02:50.390Z"
   },
   {
    "duration": 725,
    "start_time": "2022-01-02T18:04:31.582Z"
   },
   {
    "duration": 737,
    "start_time": "2022-01-02T18:06:03.737Z"
   },
   {
    "duration": 6,
    "start_time": "2022-01-02T18:17:39.324Z"
   },
   {
    "duration": 63,
    "start_time": "2022-01-02T18:17:49.793Z"
   },
   {
    "duration": 6,
    "start_time": "2022-01-02T18:18:11.344Z"
   },
   {
    "duration": 60,
    "start_time": "2022-01-02T18:18:12.548Z"
   },
   {
    "duration": 28,
    "start_time": "2022-01-02T18:18:34.101Z"
   },
   {
    "duration": 5,
    "start_time": "2022-01-02T18:19:10.577Z"
   },
   {
    "duration": 61,
    "start_time": "2022-01-02T18:19:12.387Z"
   },
   {
    "duration": 8,
    "start_time": "2022-01-02T18:19:29.933Z"
   },
   {
    "duration": 30,
    "start_time": "2022-01-02T18:19:31.449Z"
   },
   {
    "duration": 6,
    "start_time": "2022-01-02T18:19:36.049Z"
   },
   {
    "duration": 65,
    "start_time": "2022-01-02T18:19:37.173Z"
   },
   {
    "duration": 5,
    "start_time": "2022-01-02T18:19:47.711Z"
   },
   {
    "duration": 67,
    "start_time": "2022-01-02T18:19:48.776Z"
   },
   {
    "duration": 745,
    "start_time": "2022-01-02T18:21:23.784Z"
   },
   {
    "duration": 710,
    "start_time": "2022-01-02T18:21:52.671Z"
   },
   {
    "duration": 880,
    "start_time": "2022-01-02T18:22:19.099Z"
   },
   {
    "duration": 716,
    "start_time": "2022-01-02T18:22:37.666Z"
   },
   {
    "duration": 64,
    "start_time": "2022-01-02T18:40:02.313Z"
   },
   {
    "duration": 7,
    "start_time": "2022-01-02T18:40:08.444Z"
   },
   {
    "duration": 7,
    "start_time": "2022-01-02T18:40:09.337Z"
   },
   {
    "duration": 794,
    "start_time": "2022-01-02T18:40:21.529Z"
   },
   {
    "duration": 745,
    "start_time": "2022-01-02T18:46:19.275Z"
   },
   {
    "duration": 724,
    "start_time": "2022-01-02T18:46:24.636Z"
   },
   {
    "duration": 835,
    "start_time": "2022-01-02T18:53:52.642Z"
   },
   {
    "duration": 722,
    "start_time": "2022-01-02T18:58:17.068Z"
   },
   {
    "duration": 35,
    "start_time": "2022-01-02T19:06:45.937Z"
   },
   {
    "duration": 32,
    "start_time": "2022-01-02T19:16:35.599Z"
   },
   {
    "duration": 15,
    "start_time": "2022-01-02T19:17:52.400Z"
   },
   {
    "duration": 5,
    "start_time": "2022-01-02T19:17:53.761Z"
   },
   {
    "duration": 18,
    "start_time": "2022-01-02T19:17:54.253Z"
   },
   {
    "duration": 14,
    "start_time": "2022-01-02T19:17:54.651Z"
   },
   {
    "duration": 5,
    "start_time": "2022-01-02T19:17:55.415Z"
   },
   {
    "duration": 12,
    "start_time": "2022-01-02T19:17:56.275Z"
   },
   {
    "duration": 4,
    "start_time": "2022-01-02T19:17:56.833Z"
   },
   {
    "duration": 21,
    "start_time": "2022-01-02T19:17:59.928Z"
   },
   {
    "duration": 4,
    "start_time": "2022-01-02T19:19:00.266Z"
   },
   {
    "duration": 22,
    "start_time": "2022-01-02T19:19:02.669Z"
   },
   {
    "duration": 23,
    "start_time": "2022-01-02T19:19:06.360Z"
   },
   {
    "duration": 8,
    "start_time": "2022-01-02T19:20:13.149Z"
   },
   {
    "duration": 22,
    "start_time": "2022-01-02T19:21:40.216Z"
   },
   {
    "duration": 8,
    "start_time": "2022-01-02T19:21:47.212Z"
   },
   {
    "duration": 4,
    "start_time": "2022-01-02T19:22:55.561Z"
   },
   {
    "duration": 4,
    "start_time": "2022-01-02T19:22:56.938Z"
   },
   {
    "duration": 382,
    "start_time": "2022-01-02T19:22:57.697Z"
   },
   {
    "duration": 13,
    "start_time": "2022-01-02T19:23:00.199Z"
   },
   {
    "duration": 12,
    "start_time": "2022-01-02T19:23:01.150Z"
   },
   {
    "duration": 13,
    "start_time": "2022-01-02T19:23:01.942Z"
   },
   {
    "duration": 17,
    "start_time": "2022-01-02T19:23:02.708Z"
   },
   {
    "duration": 13,
    "start_time": "2022-01-02T19:23:03.629Z"
   },
   {
    "duration": 21,
    "start_time": "2022-01-02T19:23:07.284Z"
   },
   {
    "duration": 27,
    "start_time": "2022-01-02T19:23:08.066Z"
   },
   {
    "duration": 26,
    "start_time": "2022-01-02T19:23:09.173Z"
   },
   {
    "duration": 6,
    "start_time": "2022-01-02T19:23:25.603Z"
   },
   {
    "duration": 23,
    "start_time": "2022-01-02T19:23:29.558Z"
   },
   {
    "duration": 10,
    "start_time": "2022-01-02T19:23:30.516Z"
   },
   {
    "duration": 20,
    "start_time": "2022-01-02T19:23:31.187Z"
   },
   {
    "duration": 34,
    "start_time": "2022-01-02T19:23:31.797Z"
   },
   {
    "duration": 18,
    "start_time": "2022-01-02T19:23:32.342Z"
   },
   {
    "duration": 14,
    "start_time": "2022-01-02T19:23:33.420Z"
   },
   {
    "duration": 10,
    "start_time": "2022-01-02T19:23:33.858Z"
   },
   {
    "duration": 8,
    "start_time": "2022-01-02T19:23:34.365Z"
   },
   {
    "duration": 16,
    "start_time": "2022-01-02T19:23:35.475Z"
   },
   {
    "duration": 18,
    "start_time": "2022-01-02T19:23:36.132Z"
   },
   {
    "duration": 15,
    "start_time": "2022-01-02T19:23:36.658Z"
   },
   {
    "duration": 13,
    "start_time": "2022-01-02T19:23:38.100Z"
   },
   {
    "duration": 24,
    "start_time": "2022-01-02T19:23:39.356Z"
   },
   {
    "duration": 15,
    "start_time": "2022-01-02T19:23:39.887Z"
   },
   {
    "duration": 16,
    "start_time": "2022-01-02T19:23:40.892Z"
   },
   {
    "duration": 14,
    "start_time": "2022-01-02T19:23:41.419Z"
   },
   {
    "duration": 16,
    "start_time": "2022-01-02T19:23:42.462Z"
   },
   {
    "duration": 9,
    "start_time": "2022-01-02T19:23:42.899Z"
   },
   {
    "duration": 5,
    "start_time": "2022-01-02T19:23:43.266Z"
   },
   {
    "duration": 21,
    "start_time": "2022-01-02T19:23:43.611Z"
   },
   {
    "duration": 18,
    "start_time": "2022-01-02T19:23:44.066Z"
   },
   {
    "duration": 6,
    "start_time": "2022-01-02T19:23:44.499Z"
   },
   {
    "duration": 7,
    "start_time": "2022-01-02T19:23:45.012Z"
   },
   {
    "duration": 5,
    "start_time": "2022-01-02T19:23:45.419Z"
   },
   {
    "duration": 19,
    "start_time": "2022-01-02T19:23:47.240Z"
   },
   {
    "duration": 9,
    "start_time": "2022-01-02T19:23:47.609Z"
   },
   {
    "duration": 21,
    "start_time": "2022-01-02T19:23:47.974Z"
   },
   {
    "duration": 23,
    "start_time": "2022-01-02T19:23:48.400Z"
   },
   {
    "duration": 16,
    "start_time": "2022-01-02T19:23:48.912Z"
   },
   {
    "duration": 20,
    "start_time": "2022-01-02T19:23:49.435Z"
   },
   {
    "duration": 24,
    "start_time": "2022-01-02T19:23:50.356Z"
   },
   {
    "duration": 15,
    "start_time": "2022-01-02T19:23:50.683Z"
   },
   {
    "duration": 27,
    "start_time": "2022-01-02T19:23:51.109Z"
   },
   {
    "duration": 37,
    "start_time": "2022-01-02T19:23:53.947Z"
   },
   {
    "duration": 6,
    "start_time": "2022-01-02T19:23:54.870Z"
   },
   {
    "duration": 6,
    "start_time": "2022-01-02T19:23:55.484Z"
   },
   {
    "duration": 20,
    "start_time": "2022-01-02T19:23:55.924Z"
   },
   {
    "duration": 13,
    "start_time": "2022-01-02T19:23:56.803Z"
   },
   {
    "duration": 27,
    "start_time": "2022-01-02T19:23:57.131Z"
   },
   {
    "duration": 11,
    "start_time": "2022-01-02T19:23:57.631Z"
   },
   {
    "duration": 6,
    "start_time": "2022-01-02T19:23:58.054Z"
   },
   {
    "duration": 18,
    "start_time": "2022-01-02T19:23:58.516Z"
   },
   {
    "duration": 6,
    "start_time": "2022-01-02T19:23:58.938Z"
   },
   {
    "duration": 13,
    "start_time": "2022-01-02T19:23:59.438Z"
   },
   {
    "duration": 25,
    "start_time": "2022-01-02T19:23:59.798Z"
   },
   {
    "duration": 20,
    "start_time": "2022-01-02T19:24:00.156Z"
   },
   {
    "duration": 7,
    "start_time": "2022-01-02T19:24:00.532Z"
   },
   {
    "duration": 15,
    "start_time": "2022-01-02T19:24:00.886Z"
   },
   {
    "duration": 7,
    "start_time": "2022-01-02T19:24:01.226Z"
   },
   {
    "duration": 18,
    "start_time": "2022-01-02T19:24:01.885Z"
   },
   {
    "duration": 5,
    "start_time": "2022-01-02T19:24:02.258Z"
   },
   {
    "duration": 12,
    "start_time": "2022-01-02T19:24:02.489Z"
   },
   {
    "duration": 20,
    "start_time": "2022-01-02T19:24:02.773Z"
   },
   {
    "duration": 14,
    "start_time": "2022-01-02T19:24:03.103Z"
   },
   {
    "duration": 23,
    "start_time": "2022-01-02T19:24:03.358Z"
   },
   {
    "duration": 6,
    "start_time": "2022-01-02T19:24:03.684Z"
   },
   {
    "duration": 21,
    "start_time": "2022-01-02T19:24:03.965Z"
   },
   {
    "duration": 12,
    "start_time": "2022-01-02T19:24:05.379Z"
   },
   {
    "duration": 18,
    "start_time": "2022-01-02T19:24:05.878Z"
   },
   {
    "duration": 18,
    "start_time": "2022-01-02T19:24:06.621Z"
   },
   {
    "duration": 5,
    "start_time": "2022-01-02T19:24:07.403Z"
   },
   {
    "duration": 11,
    "start_time": "2022-01-02T19:24:08.111Z"
   },
   {
    "duration": 20,
    "start_time": "2022-01-02T19:24:08.783Z"
   },
   {
    "duration": 6,
    "start_time": "2022-01-02T19:24:09.988Z"
   },
   {
    "duration": 10,
    "start_time": "2022-01-02T19:24:10.749Z"
   },
   {
    "duration": 9,
    "start_time": "2022-01-02T19:24:11.462Z"
   },
   {
    "duration": 10,
    "start_time": "2022-01-02T19:24:12.102Z"
   },
   {
    "duration": 6,
    "start_time": "2022-01-02T19:24:14.916Z"
   },
   {
    "duration": 5820,
    "start_time": "2022-01-02T19:24:15.249Z"
   },
   {
    "duration": 5,
    "start_time": "2022-01-02T19:24:21.072Z"
   },
   {
    "duration": 5662,
    "start_time": "2022-01-02T19:24:21.081Z"
   },
   {
    "duration": 36,
    "start_time": "2022-01-02T19:24:26.746Z"
   },
   {
    "duration": 7,
    "start_time": "2022-01-02T19:24:26.784Z"
   },
   {
    "duration": 5768,
    "start_time": "2022-01-02T19:24:26.793Z"
   },
   {
    "duration": 26,
    "start_time": "2022-01-02T19:24:44.670Z"
   },
   {
    "duration": 10,
    "start_time": "2022-01-02T19:24:52.477Z"
   },
   {
    "duration": 10677,
    "start_time": "2022-01-02T19:24:53.188Z"
   },
   {
    "duration": 27,
    "start_time": "2022-01-02T19:25:03.868Z"
   },
   {
    "duration": 9,
    "start_time": "2022-01-02T19:25:14.213Z"
   },
   {
    "duration": 30,
    "start_time": "2022-01-02T19:25:15.084Z"
   },
   {
    "duration": 12,
    "start_time": "2022-01-02T19:25:15.821Z"
   },
   {
    "duration": 11,
    "start_time": "2022-01-02T19:25:16.945Z"
   },
   {
    "duration": 13,
    "start_time": "2022-01-02T19:25:17.905Z"
   },
   {
    "duration": 5,
    "start_time": "2022-01-02T19:25:18.939Z"
   },
   {
    "duration": 25,
    "start_time": "2022-01-02T19:25:19.758Z"
   },
   {
    "duration": 60,
    "start_time": "2022-01-02T19:25:20.596Z"
   },
   {
    "duration": 6,
    "start_time": "2022-01-02T19:25:22.740Z"
   },
   {
    "duration": 7,
    "start_time": "2022-01-02T19:25:23.471Z"
   },
   {
    "duration": 7,
    "start_time": "2022-01-02T19:25:25.883Z"
   },
   {
    "duration": 29,
    "start_time": "2022-01-02T19:25:27.324Z"
   },
   {
    "duration": 64,
    "start_time": "2022-01-02T19:25:37.653Z"
   },
   {
    "duration": 6,
    "start_time": "2022-01-02T19:25:38.538Z"
   },
   {
    "duration": 7,
    "start_time": "2022-01-02T19:25:39.380Z"
   },
   {
    "duration": 763,
    "start_time": "2022-01-02T19:25:41.596Z"
   },
   {
    "duration": 703,
    "start_time": "2022-01-02T19:25:44.086Z"
   },
   {
    "duration": 746,
    "start_time": "2022-01-02T19:25:45.788Z"
   },
   {
    "duration": 804,
    "start_time": "2022-01-02T19:25:48.308Z"
   },
   {
    "duration": 35,
    "start_time": "2022-01-02T19:25:51.766Z"
   },
   {
    "duration": 15,
    "start_time": "2022-01-02T19:25:55.636Z"
   },
   {
    "duration": 5,
    "start_time": "2022-01-02T19:25:56.348Z"
   },
   {
    "duration": 14,
    "start_time": "2022-01-02T19:25:57.038Z"
   },
   {
    "duration": 14,
    "start_time": "2022-01-02T19:25:57.652Z"
   },
   {
    "duration": 5,
    "start_time": "2022-01-02T19:25:58.187Z"
   },
   {
    "duration": 13,
    "start_time": "2022-01-02T19:25:58.784Z"
   },
   {
    "duration": 22,
    "start_time": "2022-01-02T19:25:59.980Z"
   },
   {
    "duration": 22,
    "start_time": "2022-01-02T19:26:00.628Z"
   },
   {
    "duration": 7,
    "start_time": "2022-01-02T19:26:05.139Z"
   },
   {
    "duration": 27,
    "start_time": "2022-01-02T19:26:08.308Z"
   },
   {
    "duration": 6,
    "start_time": "2022-01-02T19:26:08.879Z"
   },
   {
    "duration": 27,
    "start_time": "2022-01-02T19:26:09.380Z"
   },
   {
    "duration": 6,
    "start_time": "2022-01-02T19:26:10.017Z"
   },
   {
    "duration": 28,
    "start_time": "2022-01-02T19:26:10.949Z"
   },
   {
    "duration": 5,
    "start_time": "2022-01-02T19:26:12.054Z"
   },
   {
    "duration": 13,
    "start_time": "2022-01-02T19:26:12.674Z"
   },
   {
    "duration": 5,
    "start_time": "2022-01-02T19:26:14.091Z"
   },
   {
    "duration": 13,
    "start_time": "2022-01-02T19:26:14.739Z"
   },
   {
    "duration": 8,
    "start_time": "2022-01-02T19:26:15.348Z"
   },
   {
    "duration": 17,
    "start_time": "2022-01-02T19:26:16.034Z"
   },
   {
    "duration": 10,
    "start_time": "2022-01-02T19:26:16.682Z"
   },
   {
    "duration": 14,
    "start_time": "2022-01-02T19:26:17.362Z"
   },
   {
    "duration": 6,
    "start_time": "2022-01-02T19:26:17.948Z"
   },
   {
    "duration": 17,
    "start_time": "2022-01-02T19:26:18.389Z"
   },
   {
    "duration": 10,
    "start_time": "2022-01-02T19:26:18.963Z"
   },
   {
    "duration": 23,
    "start_time": "2022-01-02T19:26:19.297Z"
   },
   {
    "duration": 9,
    "start_time": "2022-01-02T19:26:19.836Z"
   },
   {
    "duration": 17,
    "start_time": "2022-01-02T19:26:20.220Z"
   },
   {
    "duration": 8,
    "start_time": "2022-01-02T19:26:20.603Z"
   },
   {
    "duration": 18,
    "start_time": "2022-01-02T19:26:21.037Z"
   },
   {
    "duration": 5,
    "start_time": "2022-01-02T19:26:21.422Z"
   },
   {
    "duration": 15,
    "start_time": "2022-01-02T19:26:21.876Z"
   },
   {
    "duration": 7,
    "start_time": "2022-01-02T19:26:23.539Z"
   },
   {
    "duration": 21,
    "start_time": "2022-01-02T19:26:34.580Z"
   },
   {
    "duration": 23,
    "start_time": "2022-01-02T19:26:35.444Z"
   },
   {
    "duration": 212,
    "start_time": "2022-01-02T22:34:59.228Z"
   },
   {
    "duration": 1030,
    "start_time": "2022-01-02T22:35:12.704Z"
   },
   {
    "duration": 2,
    "start_time": "2022-01-02T22:35:13.971Z"
   },
   {
    "duration": 304,
    "start_time": "2022-01-02T22:35:14.610Z"
   },
   {
    "duration": 12,
    "start_time": "2022-01-02T22:35:16.992Z"
   },
   {
    "duration": 7,
    "start_time": "2022-01-02T22:35:17.449Z"
   },
   {
    "duration": 9,
    "start_time": "2022-01-02T22:35:17.820Z"
   },
   {
    "duration": 10,
    "start_time": "2022-01-02T22:35:18.176Z"
   },
   {
    "duration": 9,
    "start_time": "2022-01-02T22:35:18.510Z"
   },
   {
    "duration": 16,
    "start_time": "2022-01-02T22:35:23.033Z"
   },
   {
    "duration": 20,
    "start_time": "2022-01-02T22:35:23.666Z"
   },
   {
    "duration": 17,
    "start_time": "2022-01-02T22:35:24.009Z"
   },
   {
    "duration": 5,
    "start_time": "2022-01-02T22:35:24.689Z"
   },
   {
    "duration": 11,
    "start_time": "2022-01-02T22:35:26.595Z"
   },
   {
    "duration": 7,
    "start_time": "2022-01-02T22:35:26.924Z"
   },
   {
    "duration": 14,
    "start_time": "2022-01-02T22:35:27.253Z"
   },
   {
    "duration": 24,
    "start_time": "2022-01-02T22:35:27.574Z"
   },
   {
    "duration": 13,
    "start_time": "2022-01-02T22:35:27.888Z"
   },
   {
    "duration": 10,
    "start_time": "2022-01-02T22:35:28.145Z"
   },
   {
    "duration": 7,
    "start_time": "2022-01-02T22:35:28.525Z"
   },
   {
    "duration": 6,
    "start_time": "2022-01-02T22:35:29.738Z"
   },
   {
    "duration": 11,
    "start_time": "2022-01-02T22:35:30.378Z"
   },
   {
    "duration": 13,
    "start_time": "2022-01-02T22:35:30.682Z"
   },
   {
    "duration": 11,
    "start_time": "2022-01-02T22:35:31.033Z"
   },
   {
    "duration": 12,
    "start_time": "2022-01-02T22:35:31.393Z"
   },
   {
    "duration": 19,
    "start_time": "2022-01-02T22:35:33.265Z"
   },
   {
    "duration": 12,
    "start_time": "2022-01-02T22:35:33.573Z"
   },
   {
    "duration": 13,
    "start_time": "2022-01-02T22:35:34.275Z"
   },
   {
    "duration": 10,
    "start_time": "2022-01-02T22:35:34.668Z"
   },
   {
    "duration": 10,
    "start_time": "2022-01-02T22:35:36.938Z"
   },
   {
    "duration": 6,
    "start_time": "2022-01-02T22:35:37.278Z"
   },
   {
    "duration": 3,
    "start_time": "2022-01-02T22:35:37.633Z"
   },
   {
    "duration": 12,
    "start_time": "2022-01-02T22:35:37.993Z"
   },
   {
    "duration": 11,
    "start_time": "2022-01-02T22:35:43.949Z"
   },
   {
    "duration": 5,
    "start_time": "2022-01-02T22:35:44.425Z"
   },
   {
    "duration": 7,
    "start_time": "2022-01-02T22:35:44.664Z"
   },
   {
    "duration": 4,
    "start_time": "2022-01-02T22:35:44.995Z"
   },
   {
    "duration": 12,
    "start_time": "2022-01-02T22:35:46.396Z"
   },
   {
    "duration": 5,
    "start_time": "2022-01-02T22:35:46.817Z"
   },
   {
    "duration": 13,
    "start_time": "2022-01-02T22:35:47.116Z"
   },
   {
    "duration": 15,
    "start_time": "2022-01-02T22:35:47.401Z"
   },
   {
    "duration": 11,
    "start_time": "2022-01-02T22:35:47.662Z"
   },
   {
    "duration": 14,
    "start_time": "2022-01-02T22:35:47.986Z"
   },
   {
    "duration": 13,
    "start_time": "2022-01-02T22:35:49.292Z"
   },
   {
    "duration": 11,
    "start_time": "2022-01-02T22:35:49.522Z"
   },
   {
    "duration": 18,
    "start_time": "2022-01-02T22:35:49.849Z"
   },
   {
    "duration": 31,
    "start_time": "2022-01-02T22:35:52.555Z"
   },
   {
    "duration": 5,
    "start_time": "2022-01-02T22:35:52.873Z"
   },
   {
    "duration": 7,
    "start_time": "2022-01-02T22:35:53.193Z"
   },
   {
    "duration": 14,
    "start_time": "2022-01-02T22:35:53.489Z"
   },
   {
    "duration": 9,
    "start_time": "2022-01-02T22:35:54.089Z"
   },
   {
    "duration": 22,
    "start_time": "2022-01-02T22:35:54.440Z"
   },
   {
    "duration": 8,
    "start_time": "2022-01-02T22:35:55.706Z"
   },
   {
    "duration": 4,
    "start_time": "2022-01-02T22:35:56.042Z"
   },
   {
    "duration": 14,
    "start_time": "2022-01-02T22:35:56.340Z"
   },
   {
    "duration": 5,
    "start_time": "2022-01-02T22:35:56.669Z"
   },
   {
    "duration": 9,
    "start_time": "2022-01-02T22:35:56.959Z"
   },
   {
    "duration": 19,
    "start_time": "2022-01-02T22:35:57.290Z"
   },
   {
    "duration": 12,
    "start_time": "2022-01-02T22:35:58.261Z"
   },
   {
    "duration": 5,
    "start_time": "2022-01-02T22:35:58.599Z"
   },
   {
    "duration": 11,
    "start_time": "2022-01-02T22:35:58.894Z"
   },
   {
    "duration": 6,
    "start_time": "2022-01-02T22:35:59.221Z"
   },
   {
    "duration": 12,
    "start_time": "2022-01-02T22:35:59.756Z"
   },
   {
    "duration": 3,
    "start_time": "2022-01-02T22:36:00.109Z"
   },
   {
    "duration": 10,
    "start_time": "2022-01-02T22:36:02.629Z"
   },
   {
    "duration": 13,
    "start_time": "2022-01-02T22:36:02.641Z"
   },
   {
    "duration": 8,
    "start_time": "2022-01-02T22:36:02.656Z"
   },
   {
    "duration": 26,
    "start_time": "2022-01-02T22:36:02.666Z"
   },
   {
    "duration": 4,
    "start_time": "2022-01-02T22:36:02.694Z"
   },
   {
    "duration": 15,
    "start_time": "2022-01-02T22:36:02.699Z"
   },
   {
    "duration": 8,
    "start_time": "2022-01-02T22:36:03.032Z"
   },
   {
    "duration": 11,
    "start_time": "2022-01-02T22:36:03.267Z"
   },
   {
    "duration": 15,
    "start_time": "2022-01-02T22:36:03.545Z"
   },
   {
    "duration": 4,
    "start_time": "2022-01-02T22:36:03.884Z"
   },
   {
    "duration": 6,
    "start_time": "2022-01-02T22:36:04.116Z"
   },
   {
    "duration": 13,
    "start_time": "2022-01-02T22:36:04.367Z"
   },
   {
    "duration": 4,
    "start_time": "2022-01-02T22:36:05.081Z"
   },
   {
    "duration": 7,
    "start_time": "2022-01-02T22:36:07.738Z"
   },
   {
    "duration": 8,
    "start_time": "2022-01-02T22:36:08.098Z"
   },
   {
    "duration": 7,
    "start_time": "2022-01-02T22:36:08.350Z"
   },
   {
    "duration": 4,
    "start_time": "2022-01-02T22:36:09.538Z"
   },
   {
    "duration": 3116,
    "start_time": "2022-01-02T22:36:09.848Z"
   },
   {
    "duration": 5,
    "start_time": "2022-01-02T22:36:12.966Z"
   },
   {
    "duration": 3124,
    "start_time": "2022-01-02T22:36:12.973Z"
   },
   {
    "duration": 16,
    "start_time": "2022-01-02T22:36:16.099Z"
   },
   {
    "duration": 6,
    "start_time": "2022-01-02T22:36:16.116Z"
   },
   {
    "duration": 3132,
    "start_time": "2022-01-02T22:36:16.124Z"
   },
   {
    "duration": 16,
    "start_time": "2022-01-02T22:36:19.258Z"
   },
   {
    "duration": 15,
    "start_time": "2022-01-02T22:36:19.276Z"
   },
   {
    "duration": 5742,
    "start_time": "2022-01-02T22:36:19.293Z"
   },
   {
    "duration": 17,
    "start_time": "2022-01-02T22:36:25.036Z"
   },
   {
    "duration": 6,
    "start_time": "2022-01-02T22:36:27.404Z"
   },
   {
    "duration": 18,
    "start_time": "2022-01-02T22:36:27.730Z"
   },
   {
    "duration": 8,
    "start_time": "2022-01-02T22:36:28.123Z"
   },
   {
    "duration": 7,
    "start_time": "2022-01-02T22:36:28.446Z"
   },
   {
    "duration": 9,
    "start_time": "2022-01-02T22:36:28.767Z"
   },
   {
    "duration": 4,
    "start_time": "2022-01-02T22:36:29.130Z"
   },
   {
    "duration": 17,
    "start_time": "2022-01-02T22:36:29.475Z"
   },
   {
    "duration": 38,
    "start_time": "2022-01-02T22:36:29.835Z"
   },
   {
    "duration": 5,
    "start_time": "2022-01-02T22:36:30.959Z"
   },
   {
    "duration": 5,
    "start_time": "2022-01-02T22:36:31.259Z"
   },
   {
    "duration": 5,
    "start_time": "2022-01-02T22:36:32.257Z"
   },
   {
    "duration": 17,
    "start_time": "2022-01-02T22:36:32.574Z"
   },
   {
    "duration": 39,
    "start_time": "2022-01-02T22:36:32.958Z"
   },
   {
    "duration": 5,
    "start_time": "2022-01-02T22:36:33.242Z"
   },
   {
    "duration": 4,
    "start_time": "2022-01-02T22:36:33.644Z"
   },
   {
    "duration": 511,
    "start_time": "2022-01-02T22:36:34.557Z"
   },
   {
    "duration": 476,
    "start_time": "2022-01-02T22:36:41.262Z"
   },
   {
    "duration": 596,
    "start_time": "2022-01-02T22:36:42.606Z"
   },
   {
    "duration": 478,
    "start_time": "2022-01-02T22:36:46.974Z"
   },
   {
    "duration": 220,
    "start_time": "2022-01-02T22:36:51.853Z"
   },
   {
    "duration": 458,
    "start_time": "2022-01-02T22:37:38.438Z"
   },
   {
    "duration": 614,
    "start_time": "2022-01-02T22:37:44.390Z"
   },
   {
    "duration": 673,
    "start_time": "2022-01-02T22:38:07.731Z"
   },
   {
    "duration": 619,
    "start_time": "2022-01-02T22:38:50.189Z"
   },
   {
    "duration": 353,
    "start_time": "2022-01-02T22:39:18.178Z"
   },
   {
    "duration": 421,
    "start_time": "2022-01-02T22:40:40.355Z"
   },
   {
    "duration": 322,
    "start_time": "2022-01-02T22:41:58.484Z"
   },
   {
    "duration": 371,
    "start_time": "2022-01-02T22:42:30.940Z"
   },
   {
    "duration": 343,
    "start_time": "2022-01-02T22:43:01.461Z"
   },
   {
    "duration": 347,
    "start_time": "2022-01-02T22:59:00.877Z"
   },
   {
    "duration": 12,
    "start_time": "2022-01-02T22:59:04.844Z"
   },
   {
    "duration": 4,
    "start_time": "2022-01-02T22:59:05.676Z"
   },
   {
    "duration": 11,
    "start_time": "2022-01-02T22:59:06.549Z"
   },
   {
    "duration": 10,
    "start_time": "2022-01-02T22:59:07.196Z"
   },
   {
    "duration": 5,
    "start_time": "2022-01-02T22:59:07.940Z"
   },
   {
    "duration": 10,
    "start_time": "2022-01-02T22:59:08.556Z"
   },
   {
    "duration": 15,
    "start_time": "2022-01-02T22:59:09.788Z"
   },
   {
    "duration": 15,
    "start_time": "2022-01-02T22:59:10.483Z"
   },
   {
    "duration": 6,
    "start_time": "2022-01-02T22:59:15.332Z"
   },
   {
    "duration": 17,
    "start_time": "2022-01-02T22:59:19.473Z"
   },
   {
    "duration": 5,
    "start_time": "2022-01-02T22:59:21.100Z"
   },
   {
    "duration": 17,
    "start_time": "2022-01-02T22:59:22.256Z"
   },
   {
    "duration": 4,
    "start_time": "2022-01-02T22:59:23.059Z"
   },
   {
    "duration": 17,
    "start_time": "2022-01-02T22:59:23.748Z"
   },
   {
    "duration": 4,
    "start_time": "2022-01-02T22:59:25.145Z"
   },
   {
    "duration": 9,
    "start_time": "2022-01-02T22:59:25.787Z"
   },
   {
    "duration": 4,
    "start_time": "2022-01-02T22:59:27.128Z"
   },
   {
    "duration": 9,
    "start_time": "2022-01-02T22:59:27.775Z"
   },
   {
    "duration": 6,
    "start_time": "2022-01-02T22:59:28.384Z"
   },
   {
    "duration": 11,
    "start_time": "2022-01-02T22:59:29.083Z"
   },
   {
    "duration": 6,
    "start_time": "2022-01-02T22:59:29.689Z"
   },
   {
    "duration": 8,
    "start_time": "2022-01-02T22:59:30.613Z"
   },
   {
    "duration": 6,
    "start_time": "2022-01-02T22:59:31.203Z"
   },
   {
    "duration": 12,
    "start_time": "2022-01-02T22:59:31.745Z"
   },
   {
    "duration": 6,
    "start_time": "2022-01-02T22:59:32.386Z"
   },
   {
    "duration": 12,
    "start_time": "2022-01-02T22:59:33.503Z"
   },
   {
    "duration": 7,
    "start_time": "2022-01-02T22:59:33.988Z"
   },
   {
    "duration": 11,
    "start_time": "2022-01-02T22:59:34.426Z"
   },
   {
    "duration": 5,
    "start_time": "2022-01-02T22:59:35.219Z"
   },
   {
    "duration": 13,
    "start_time": "2022-01-02T22:59:35.813Z"
   },
   {
    "duration": 4,
    "start_time": "2022-01-02T22:59:36.234Z"
   },
   {
    "duration": 10,
    "start_time": "2022-01-02T22:59:36.716Z"
   },
   {
    "duration": 21,
    "start_time": "2022-01-02T23:01:06.300Z"
   },
   {
    "duration": 10,
    "start_time": "2022-01-02T23:01:09.283Z"
   },
   {
    "duration": 4,
    "start_time": "2022-01-02T23:01:09.748Z"
   },
   {
    "duration": 9,
    "start_time": "2022-01-02T23:01:10.115Z"
   },
   {
    "duration": 9,
    "start_time": "2022-01-02T23:01:10.517Z"
   },
   {
    "duration": 4,
    "start_time": "2022-01-02T23:01:10.842Z"
   },
   {
    "duration": 9,
    "start_time": "2022-01-02T23:01:11.218Z"
   },
   {
    "duration": 15,
    "start_time": "2022-01-02T23:01:11.931Z"
   },
   {
    "duration": 14,
    "start_time": "2022-01-02T23:01:12.403Z"
   },
   {
    "duration": 5,
    "start_time": "2022-01-02T23:01:15.598Z"
   },
   {
    "duration": 17,
    "start_time": "2022-01-02T23:01:24.178Z"
   },
   {
    "duration": 5,
    "start_time": "2022-01-02T23:01:24.721Z"
   },
   {
    "duration": 18,
    "start_time": "2022-01-02T23:01:25.140Z"
   },
   {
    "duration": 5,
    "start_time": "2022-01-02T23:01:25.550Z"
   },
   {
    "duration": 19,
    "start_time": "2022-01-02T23:01:25.924Z"
   },
   {
    "duration": 4,
    "start_time": "2022-01-02T23:01:26.759Z"
   },
   {
    "duration": 8,
    "start_time": "2022-01-02T23:01:27.499Z"
   },
   {
    "duration": 4,
    "start_time": "2022-01-02T23:01:28.571Z"
   },
   {
    "duration": 10,
    "start_time": "2022-01-02T23:01:29.370Z"
   },
   {
    "duration": 7,
    "start_time": "2022-01-02T23:01:30.548Z"
   },
   {
    "duration": 11,
    "start_time": "2022-01-02T23:01:31.269Z"
   },
   {
    "duration": 7,
    "start_time": "2022-01-02T23:01:31.840Z"
   },
   {
    "duration": 8,
    "start_time": "2022-01-02T23:01:32.179Z"
   },
   {
    "duration": 5,
    "start_time": "2022-01-02T23:01:32.599Z"
   },
   {
    "duration": 12,
    "start_time": "2022-01-02T23:01:33.068Z"
   },
   {
    "duration": 6,
    "start_time": "2022-01-02T23:01:33.835Z"
   },
   {
    "duration": 12,
    "start_time": "2022-01-02T23:01:34.191Z"
   },
   {
    "duration": 6,
    "start_time": "2022-01-02T23:01:34.603Z"
   },
   {
    "duration": 12,
    "start_time": "2022-01-02T23:01:35.093Z"
   },
   {
    "duration": 5,
    "start_time": "2022-01-02T23:01:35.938Z"
   },
   {
    "duration": 11,
    "start_time": "2022-01-02T23:01:36.603Z"
   },
   {
    "duration": 4,
    "start_time": "2022-01-02T23:01:37.306Z"
   },
   {
    "duration": 10,
    "start_time": "2022-01-02T23:01:39.372Z"
   },
   {
    "duration": 5,
    "start_time": "2022-01-02T23:01:48.356Z"
   },
   {
    "duration": 4,
    "start_time": "2022-01-02T23:02:31.887Z"
   },
   {
    "duration": 5,
    "start_time": "2022-01-02T23:02:50.307Z"
   },
   {
    "duration": 15,
    "start_time": "2022-01-02T23:03:07.673Z"
   },
   {
    "duration": 3,
    "start_time": "2022-01-02T23:13:53.422Z"
   },
   {
    "duration": 3,
    "start_time": "2022-01-02T23:13:54.936Z"
   },
   {
    "duration": 292,
    "start_time": "2022-01-02T23:13:55.847Z"
   },
   {
    "duration": 9,
    "start_time": "2022-01-02T23:13:58.647Z"
   },
   {
    "duration": 8,
    "start_time": "2022-01-02T23:13:59.623Z"
   },
   {
    "duration": 9,
    "start_time": "2022-01-02T23:14:33.017Z"
   },
   {
    "duration": 7,
    "start_time": "2022-01-02T23:14:33.783Z"
   },
   {
    "duration": 8,
    "start_time": "2022-01-02T23:14:34.983Z"
   },
   {
    "duration": 10,
    "start_time": "2022-01-02T23:14:35.972Z"
   },
   {
    "duration": 9,
    "start_time": "2022-01-02T23:14:36.752Z"
   },
   {
    "duration": 16,
    "start_time": "2022-01-02T23:14:57.320Z"
   },
   {
    "duration": 19,
    "start_time": "2022-01-02T23:14:58.198Z"
   },
   {
    "duration": 16,
    "start_time": "2022-01-02T23:14:59.575Z"
   },
   {
    "duration": 5,
    "start_time": "2022-01-02T23:15:01.369Z"
   },
   {
    "duration": 12,
    "start_time": "2022-01-02T23:15:02.720Z"
   },
   {
    "duration": 7,
    "start_time": "2022-01-02T23:15:03.368Z"
   },
   {
    "duration": 15,
    "start_time": "2022-01-02T23:15:04.390Z"
   },
   {
    "duration": 24,
    "start_time": "2022-01-02T23:15:05.239Z"
   },
   {
    "duration": 14,
    "start_time": "2022-01-02T23:15:06.030Z"
   },
   {
    "duration": 11,
    "start_time": "2022-01-02T23:15:06.752Z"
   },
   {
    "duration": 7,
    "start_time": "2022-01-02T23:15:07.543Z"
   },
   {
    "duration": 8,
    "start_time": "2022-01-02T23:15:08.339Z"
   },
   {
    "duration": 13,
    "start_time": "2022-01-02T23:15:09.754Z"
   },
   {
    "duration": 14,
    "start_time": "2022-01-02T23:15:10.518Z"
   },
   {
    "duration": 11,
    "start_time": "2022-01-02T23:15:11.326Z"
   },
   {
    "duration": 11,
    "start_time": "2022-01-02T23:15:12.021Z"
   },
   {
    "duration": 19,
    "start_time": "2022-01-02T23:15:13.546Z"
   },
   {
    "duration": 14,
    "start_time": "2022-01-02T23:15:14.710Z"
   },
   {
    "duration": 6,
    "start_time": "2022-01-02T23:16:10.926Z"
   },
   {
    "duration": 10,
    "start_time": "2022-01-02T23:16:12.158Z"
   },
   {
    "duration": 6,
    "start_time": "2022-01-02T23:16:12.807Z"
   },
   {
    "duration": 10,
    "start_time": "2022-01-02T23:16:13.366Z"
   },
   {
    "duration": 10,
    "start_time": "2022-01-02T23:16:13.943Z"
   },
   {
    "duration": 13,
    "start_time": "2022-01-02T23:16:15.200Z"
   },
   {
    "duration": 12,
    "start_time": "2022-01-02T23:16:15.927Z"
   },
   {
    "duration": 12,
    "start_time": "2022-01-02T23:16:17.072Z"
   },
   {
    "duration": 11,
    "start_time": "2022-01-02T23:16:17.630Z"
   },
   {
    "duration": 9,
    "start_time": "2022-01-02T23:16:18.922Z"
   },
   {
    "duration": 7,
    "start_time": "2022-01-02T23:16:19.510Z"
   },
   {
    "duration": 3,
    "start_time": "2022-01-02T23:16:20.117Z"
   },
   {
    "duration": 13,
    "start_time": "2022-01-02T23:16:20.667Z"
   },
   {
    "duration": 11,
    "start_time": "2022-01-02T23:16:21.280Z"
   },
   {
    "duration": 4,
    "start_time": "2022-01-02T23:16:21.809Z"
   },
   {
    "duration": 6,
    "start_time": "2022-01-02T23:16:22.536Z"
   },
   {
    "duration": 3,
    "start_time": "2022-01-02T23:16:23.160Z"
   },
   {
    "duration": 12,
    "start_time": "2022-01-02T23:16:25.808Z"
   },
   {
    "duration": 4,
    "start_time": "2022-01-02T23:16:26.489Z"
   },
   {
    "duration": 13,
    "start_time": "2022-01-02T23:16:27.071Z"
   },
   {
    "duration": 16,
    "start_time": "2022-01-02T23:16:27.671Z"
   },
   {
    "duration": 11,
    "start_time": "2022-01-02T23:16:28.334Z"
   },
   {
    "duration": 13,
    "start_time": "2022-01-02T23:16:29.081Z"
   },
   {
    "duration": 13,
    "start_time": "2022-01-02T23:16:31.153Z"
   },
   {
    "duration": 10,
    "start_time": "2022-01-02T23:16:31.896Z"
   },
   {
    "duration": 17,
    "start_time": "2022-01-02T23:16:32.568Z"
   },
   {
    "duration": 27,
    "start_time": "2022-01-02T23:16:46.207Z"
   },
   {
    "duration": 4,
    "start_time": "2022-01-02T23:16:47.406Z"
   },
   {
    "duration": 5,
    "start_time": "2022-01-02T23:16:48.161Z"
   },
   {
    "duration": 13,
    "start_time": "2022-01-02T23:16:48.687Z"
   },
   {
    "duration": 9,
    "start_time": "2022-01-02T23:16:49.651Z"
   },
   {
    "duration": 19,
    "start_time": "2022-01-02T23:16:50.291Z"
   },
   {
    "duration": 7,
    "start_time": "2022-01-02T23:16:50.899Z"
   },
   {
    "duration": 4,
    "start_time": "2022-01-02T23:16:51.406Z"
   },
   {
    "duration": 12,
    "start_time": "2022-01-02T23:16:51.950Z"
   },
   {
    "duration": 5,
    "start_time": "2022-01-02T23:16:52.549Z"
   },
   {
    "duration": 10,
    "start_time": "2022-01-02T23:16:52.999Z"
   },
   {
    "duration": 19,
    "start_time": "2022-01-02T23:16:53.616Z"
   },
   {
    "duration": 13,
    "start_time": "2022-01-02T23:16:54.567Z"
   },
   {
    "duration": 5,
    "start_time": "2022-01-02T23:16:55.297Z"
   },
   {
    "duration": 12,
    "start_time": "2022-01-02T23:16:55.957Z"
   },
   {
    "duration": 4,
    "start_time": "2022-01-02T23:16:56.735Z"
   },
   {
    "duration": 13,
    "start_time": "2022-01-02T23:17:01.393Z"
   },
   {
    "duration": 3,
    "start_time": "2022-01-02T23:17:02.887Z"
   },
   {
    "duration": 8,
    "start_time": "2022-01-02T23:17:03.680Z"
   },
   {
    "duration": 26,
    "start_time": "2022-01-02T23:17:04.513Z"
   },
   {
    "duration": 9,
    "start_time": "2022-01-02T23:17:05.453Z"
   },
   {
    "duration": 14,
    "start_time": "2022-01-02T23:17:06.905Z"
   },
   {
    "duration": 4,
    "start_time": "2022-01-02T23:17:07.775Z"
   },
   {
    "duration": 13,
    "start_time": "2022-01-02T23:17:08.704Z"
   },
   {
    "duration": 8,
    "start_time": "2022-01-02T23:17:10.751Z"
   },
   {
    "duration": 12,
    "start_time": "2022-01-02T23:17:11.601Z"
   },
   {
    "duration": 11,
    "start_time": "2022-01-02T23:17:12.497Z"
   },
   {
    "duration": 4,
    "start_time": "2022-01-02T23:17:13.464Z"
   },
   {
    "duration": 7,
    "start_time": "2022-01-02T23:17:14.278Z"
   },
   {
    "duration": 12,
    "start_time": "2022-01-02T23:17:15.081Z"
   },
   {
    "duration": 5,
    "start_time": "2022-01-02T23:17:17.054Z"
   },
   {
    "duration": 4,
    "start_time": "2022-01-02T23:17:39.591Z"
   },
   {
    "duration": 7,
    "start_time": "2022-01-02T23:17:40.400Z"
   },
   {
    "duration": 6,
    "start_time": "2022-01-02T23:17:41.120Z"
   },
   {
    "duration": 7,
    "start_time": "2022-01-02T23:17:41.819Z"
   },
   {
    "duration": 4,
    "start_time": "2022-01-02T23:18:00.409Z"
   },
   {
    "duration": 3183,
    "start_time": "2022-01-02T23:18:02.338Z"
   },
   {
    "duration": 4,
    "start_time": "2022-01-02T23:18:05.523Z"
   },
   {
    "duration": 3211,
    "start_time": "2022-01-02T23:18:06.743Z"
   },
   {
    "duration": 14,
    "start_time": "2022-01-02T23:18:09.956Z"
   },
   {
    "duration": 4,
    "start_time": "2022-01-02T23:18:11.296Z"
   },
   {
    "duration": 3147,
    "start_time": "2022-01-02T23:18:12.704Z"
   },
   {
    "duration": 17,
    "start_time": "2022-01-02T23:18:17.102Z"
   },
   {
    "duration": 7,
    "start_time": "2022-01-02T23:18:18.944Z"
   },
   {
    "duration": 5732,
    "start_time": "2022-01-02T23:18:20.463Z"
   },
   {
    "duration": 16,
    "start_time": "2022-01-02T23:18:26.197Z"
   },
   {
    "duration": 7,
    "start_time": "2022-01-02T23:18:39.421Z"
   },
   {
    "duration": 6,
    "start_time": "2022-01-02T23:18:52.311Z"
   },
   {
    "duration": 17,
    "start_time": "2022-01-02T23:18:52.959Z"
   },
   {
    "duration": 8,
    "start_time": "2022-01-02T23:18:53.526Z"
   },
   {
    "duration": 7,
    "start_time": "2022-01-02T23:18:53.896Z"
   },
   {
    "duration": 10,
    "start_time": "2022-01-02T23:18:55.016Z"
   },
   {
    "duration": 5,
    "start_time": "2022-01-02T23:18:55.753Z"
   },
   {
    "duration": 17,
    "start_time": "2022-01-02T23:18:56.306Z"
   },
   {
    "duration": 37,
    "start_time": "2022-01-02T23:18:57.200Z"
   },
   {
    "duration": 4,
    "start_time": "2022-01-02T23:19:00.090Z"
   },
   {
    "duration": 4,
    "start_time": "2022-01-02T23:19:01.455Z"
   },
   {
    "duration": 5,
    "start_time": "2022-01-02T23:19:04.513Z"
   },
   {
    "duration": 18,
    "start_time": "2022-01-02T23:19:05.520Z"
   },
   {
    "duration": 41,
    "start_time": "2022-01-02T23:19:06.136Z"
   },
   {
    "duration": 4,
    "start_time": "2022-01-02T23:19:06.569Z"
   },
   {
    "duration": 5,
    "start_time": "2022-01-02T23:19:06.977Z"
   },
   {
    "duration": 638,
    "start_time": "2022-01-02T23:19:21.241Z"
   },
   {
    "duration": 483,
    "start_time": "2022-01-02T23:19:24.449Z"
   },
   {
    "duration": 525,
    "start_time": "2022-01-02T23:19:26.312Z"
   },
   {
    "duration": 492,
    "start_time": "2022-01-02T23:19:28.185Z"
   },
   {
    "duration": 351,
    "start_time": "2022-01-02T23:19:29.063Z"
   },
   {
    "duration": 320,
    "start_time": "2022-01-02T23:19:30.216Z"
   },
   {
    "duration": 21,
    "start_time": "2022-01-02T23:21:26.824Z"
   },
   {
    "duration": 10,
    "start_time": "2022-01-02T23:21:31.647Z"
   },
   {
    "duration": 4,
    "start_time": "2022-01-02T23:21:32.502Z"
   },
   {
    "duration": 10,
    "start_time": "2022-01-02T23:21:34.416Z"
   },
   {
    "duration": 10,
    "start_time": "2022-01-02T23:21:39.071Z"
   },
   {
    "duration": 4,
    "start_time": "2022-01-02T23:21:39.649Z"
   },
   {
    "duration": 9,
    "start_time": "2022-01-02T23:21:40.184Z"
   },
   {
    "duration": 15,
    "start_time": "2022-01-02T23:21:41.227Z"
   },
   {
    "duration": 14,
    "start_time": "2022-01-02T23:21:41.626Z"
   },
   {
    "duration": 5,
    "start_time": "2022-01-02T23:21:47.698Z"
   },
   {
    "duration": 16,
    "start_time": "2022-01-02T23:22:07.138Z"
   },
   {
    "duration": 5,
    "start_time": "2022-01-02T23:22:07.711Z"
   },
   {
    "duration": 16,
    "start_time": "2022-01-02T23:22:09.818Z"
   },
   {
    "duration": 4,
    "start_time": "2022-01-02T23:22:10.624Z"
   },
   {
    "duration": 17,
    "start_time": "2022-01-02T23:22:12.953Z"
   },
   {
    "duration": 4,
    "start_time": "2022-01-02T23:22:14.552Z"
   },
   {
    "duration": 9,
    "start_time": "2022-01-02T23:22:15.544Z"
   },
   {
    "duration": 4,
    "start_time": "2022-01-02T23:22:17.095Z"
   },
   {
    "duration": 9,
    "start_time": "2022-01-02T23:22:17.913Z"
   },
   {
    "duration": 7,
    "start_time": "2022-01-02T23:22:18.728Z"
   },
   {
    "duration": 11,
    "start_time": "2022-01-02T23:22:19.283Z"
   },
   {
    "duration": 7,
    "start_time": "2022-01-02T23:22:19.920Z"
   },
   {
    "duration": 9,
    "start_time": "2022-01-02T23:22:20.542Z"
   },
   {
    "duration": 6,
    "start_time": "2022-01-02T23:22:21.548Z"
   },
   {
    "duration": 12,
    "start_time": "2022-01-02T23:22:23.322Z"
   },
   {
    "duration": 7,
    "start_time": "2022-01-02T23:22:23.976Z"
   },
   {
    "duration": 11,
    "start_time": "2022-01-02T23:22:24.576Z"
   },
   {
    "duration": 6,
    "start_time": "2022-01-02T23:22:25.142Z"
   },
   {
    "duration": 12,
    "start_time": "2022-01-02T23:22:25.914Z"
   },
   {
    "duration": 5,
    "start_time": "2022-01-02T23:22:26.416Z"
   },
   {
    "duration": 11,
    "start_time": "2022-01-02T23:22:27.360Z"
   },
   {
    "duration": 3,
    "start_time": "2022-01-02T23:22:28.046Z"
   },
   {
    "duration": 11,
    "start_time": "2022-01-02T23:22:28.749Z"
   },
   {
    "duration": 5,
    "start_time": "2022-01-02T23:22:34.952Z"
   },
   {
    "duration": 15,
    "start_time": "2022-01-02T23:22:43.328Z"
   },
   {
    "duration": 15,
    "start_time": "2022-01-02T23:22:44.527Z"
   },
   {
    "duration": 646,
    "start_time": "2022-01-02T23:29:31.746Z"
   },
   {
    "duration": 756,
    "start_time": "2022-01-02T23:29:47.963Z"
   },
   {
    "duration": 519,
    "start_time": "2022-01-02T23:30:08.620Z"
   },
   {
    "duration": 1006,
    "start_time": "2022-01-03T03:17:52.079Z"
   },
   {
    "duration": 3,
    "start_time": "2022-01-03T03:17:55.190Z"
   },
   {
    "duration": 290,
    "start_time": "2022-01-03T03:17:58.185Z"
   },
   {
    "duration": 10,
    "start_time": "2022-01-03T03:18:02.829Z"
   },
   {
    "duration": 8,
    "start_time": "2022-01-03T03:18:03.850Z"
   },
   {
    "duration": 8,
    "start_time": "2022-01-03T03:18:05.042Z"
   },
   {
    "duration": 9,
    "start_time": "2022-01-03T03:18:06.308Z"
   },
   {
    "duration": 8,
    "start_time": "2022-01-03T03:18:07.059Z"
   },
   {
    "duration": 14,
    "start_time": "2022-01-03T03:18:12.659Z"
   },
   {
    "duration": 26,
    "start_time": "2022-01-03T03:18:14.136Z"
   },
   {
    "duration": 15,
    "start_time": "2022-01-03T03:18:16.418Z"
   },
   {
    "duration": 4,
    "start_time": "2022-01-03T03:18:28.954Z"
   },
   {
    "duration": 9,
    "start_time": "2022-01-03T03:18:31.395Z"
   },
   {
    "duration": 6,
    "start_time": "2022-01-03T03:18:32.221Z"
   },
   {
    "duration": 13,
    "start_time": "2022-01-03T03:18:33.224Z"
   },
   {
    "duration": 21,
    "start_time": "2022-01-03T03:18:34.056Z"
   },
   {
    "duration": 11,
    "start_time": "2022-01-03T03:18:35.080Z"
   },
   {
    "duration": 8,
    "start_time": "2022-01-03T03:18:35.865Z"
   },
   {
    "duration": 6,
    "start_time": "2022-01-03T03:18:36.600Z"
   },
   {
    "duration": 5,
    "start_time": "2022-01-03T03:18:38.353Z"
   },
   {
    "duration": 11,
    "start_time": "2022-01-03T03:18:40.232Z"
   },
   {
    "duration": 12,
    "start_time": "2022-01-03T03:18:41.008Z"
   },
   {
    "duration": 11,
    "start_time": "2022-01-03T03:18:41.984Z"
   },
   {
    "duration": 10,
    "start_time": "2022-01-03T03:18:42.874Z"
   },
   {
    "duration": 18,
    "start_time": "2022-01-03T03:18:44.458Z"
   },
   {
    "duration": 11,
    "start_time": "2022-01-03T03:18:45.273Z"
   },
   {
    "duration": 12,
    "start_time": "2022-01-03T03:18:47.933Z"
   },
   {
    "duration": 9,
    "start_time": "2022-01-03T03:18:47.947Z"
   },
   {
    "duration": 9,
    "start_time": "2022-01-03T03:18:50.106Z"
   },
   {
    "duration": 6,
    "start_time": "2022-01-03T03:18:50.986Z"
   },
   {
    "duration": 3,
    "start_time": "2022-01-03T03:18:52.137Z"
   },
   {
    "duration": 11,
    "start_time": "2022-01-03T03:18:53.228Z"
   },
   {
    "duration": 10,
    "start_time": "2022-01-03T03:18:54.275Z"
   },
   {
    "duration": 4,
    "start_time": "2022-01-03T03:18:55.842Z"
   },
   {
    "duration": 5,
    "start_time": "2022-01-03T03:18:58.274Z"
   },
   {
    "duration": 3,
    "start_time": "2022-01-03T03:19:00.577Z"
   },
   {
    "duration": 15,
    "start_time": "2022-01-03T03:19:03.002Z"
   },
   {
    "duration": 5,
    "start_time": "2022-01-03T03:19:04.681Z"
   },
   {
    "duration": 12,
    "start_time": "2022-01-03T03:19:05.722Z"
   },
   {
    "duration": 14,
    "start_time": "2022-01-03T03:19:06.642Z"
   },
   {
    "duration": 9,
    "start_time": "2022-01-03T03:19:07.482Z"
   },
   {
    "duration": 12,
    "start_time": "2022-01-03T03:19:08.291Z"
   },
   {
    "duration": 11,
    "start_time": "2022-01-03T03:19:10.218Z"
   },
   {
    "duration": 9,
    "start_time": "2022-01-03T03:19:11.088Z"
   },
   {
    "duration": 15,
    "start_time": "2022-01-03T03:19:11.896Z"
   },
   {
    "duration": 24,
    "start_time": "2022-01-03T03:20:01.193Z"
   },
   {
    "duration": 4,
    "start_time": "2022-01-03T03:20:01.951Z"
   },
   {
    "duration": 4,
    "start_time": "2022-01-03T03:20:02.710Z"
   },
   {
    "duration": 11,
    "start_time": "2022-01-03T03:20:03.514Z"
   },
   {
    "duration": 8,
    "start_time": "2022-01-03T03:20:05.640Z"
   },
   {
    "duration": 18,
    "start_time": "2022-01-03T03:20:16.856Z"
   },
   {
    "duration": 6,
    "start_time": "2022-01-03T03:20:17.669Z"
   },
   {
    "duration": 3,
    "start_time": "2022-01-03T03:20:18.440Z"
   },
   {
    "duration": 13,
    "start_time": "2022-01-03T03:20:19.174Z"
   },
   {
    "duration": 4,
    "start_time": "2022-01-03T03:20:19.886Z"
   },
   {
    "duration": 8,
    "start_time": "2022-01-03T03:20:20.939Z"
   },
   {
    "duration": 23,
    "start_time": "2022-01-03T03:20:21.643Z"
   },
   {
    "duration": 12,
    "start_time": "2022-01-03T03:20:22.393Z"
   },
   {
    "duration": 4,
    "start_time": "2022-01-03T03:20:23.183Z"
   },
   {
    "duration": 11,
    "start_time": "2022-01-03T03:20:24.067Z"
   },
   {
    "duration": 8,
    "start_time": "2022-01-03T03:20:25.153Z"
   },
   {
    "duration": 11,
    "start_time": "2022-01-03T03:20:35.912Z"
   },
   {
    "duration": 3,
    "start_time": "2022-01-03T03:20:36.952Z"
   },
   {
    "duration": 8,
    "start_time": "2022-01-03T03:20:37.738Z"
   },
   {
    "duration": 12,
    "start_time": "2022-01-03T03:20:43.005Z"
   },
   {
    "duration": 8,
    "start_time": "2022-01-03T03:20:43.832Z"
   },
   {
    "duration": 13,
    "start_time": "2022-01-03T03:20:44.609Z"
   },
   {
    "duration": 4,
    "start_time": "2022-01-03T03:20:45.337Z"
   },
   {
    "duration": 12,
    "start_time": "2022-01-03T03:20:48.335Z"
   },
   {
    "duration": 7,
    "start_time": "2022-01-03T03:20:51.805Z"
   },
   {
    "duration": 10,
    "start_time": "2022-01-03T03:20:52.882Z"
   },
   {
    "duration": 10,
    "start_time": "2022-01-03T03:20:53.856Z"
   },
   {
    "duration": 3,
    "start_time": "2022-01-03T03:20:54.712Z"
   },
   {
    "duration": 6,
    "start_time": "2022-01-03T03:20:55.520Z"
   },
   {
    "duration": 10,
    "start_time": "2022-01-03T03:20:56.465Z"
   },
   {
    "duration": 4,
    "start_time": "2022-01-03T03:20:57.964Z"
   },
   {
    "duration": 7,
    "start_time": "2022-01-03T03:21:03.009Z"
   },
   {
    "duration": 6,
    "start_time": "2022-01-03T03:21:03.911Z"
   },
   {
    "duration": 6,
    "start_time": "2022-01-03T03:21:04.809Z"
   },
   {
    "duration": 3,
    "start_time": "2022-01-03T03:21:32.927Z"
   },
   {
    "duration": 2804,
    "start_time": "2022-01-03T03:21:34.310Z"
   },
   {
    "duration": 3,
    "start_time": "2022-01-03T03:21:37.116Z"
   },
   {
    "duration": 2819,
    "start_time": "2022-01-03T03:21:39.511Z"
   },
   {
    "duration": 14,
    "start_time": "2022-01-03T03:21:42.332Z"
   },
   {
    "duration": 3,
    "start_time": "2022-01-03T03:21:43.897Z"
   },
   {
    "duration": 2878,
    "start_time": "2022-01-03T03:21:44.759Z"
   },
   {
    "duration": 14,
    "start_time": "2022-01-03T03:21:47.639Z"
   },
   {
    "duration": 15,
    "start_time": "2022-01-03T03:21:51.848Z"
   },
   {
    "duration": 3,
    "start_time": "2022-01-03T03:21:54.193Z"
   },
   {
    "duration": 2817,
    "start_time": "2022-01-03T03:21:55.528Z"
   },
   {
    "duration": 14,
    "start_time": "2022-01-03T03:22:00.171Z"
   },
   {
    "duration": 6,
    "start_time": "2022-01-03T03:22:01.126Z"
   },
   {
    "duration": 5175,
    "start_time": "2022-01-03T03:22:03.969Z"
   },
   {
    "duration": 14,
    "start_time": "2022-01-03T03:22:10.368Z"
   },
   {
    "duration": 6,
    "start_time": "2022-01-03T03:22:13.592Z"
   },
   {
    "duration": 15,
    "start_time": "2022-01-03T03:22:14.594Z"
   },
   {
    "duration": 7,
    "start_time": "2022-01-03T03:22:15.887Z"
   },
   {
    "duration": 7,
    "start_time": "2022-01-03T03:22:16.551Z"
   },
   {
    "duration": 7,
    "start_time": "2022-01-03T03:22:17.289Z"
   },
   {
    "duration": 5,
    "start_time": "2022-01-03T03:22:17.984Z"
   },
   {
    "duration": 13,
    "start_time": "2022-01-03T03:22:18.728Z"
   },
   {
    "duration": 31,
    "start_time": "2022-01-03T03:22:19.520Z"
   },
   {
    "duration": 4,
    "start_time": "2022-01-03T03:22:35.503Z"
   },
   {
    "duration": 4,
    "start_time": "2022-01-03T03:22:38.439Z"
   },
   {
    "duration": 6,
    "start_time": "2022-01-03T03:22:48.091Z"
   },
   {
    "duration": 17,
    "start_time": "2022-01-03T03:22:49.241Z"
   },
   {
    "duration": 34,
    "start_time": "2022-01-03T03:22:50.105Z"
   },
   {
    "duration": 4,
    "start_time": "2022-01-03T03:22:51.143Z"
   },
   {
    "duration": 4,
    "start_time": "2022-01-03T03:22:52.143Z"
   },
   {
    "duration": 428,
    "start_time": "2022-01-03T03:23:01.113Z"
   },
   {
    "duration": 396,
    "start_time": "2022-01-03T03:23:07.218Z"
   },
   {
    "duration": 473,
    "start_time": "2022-01-03T03:23:09.897Z"
   },
   {
    "duration": 414,
    "start_time": "2022-01-03T03:23:13.697Z"
   },
   {
    "duration": 523,
    "start_time": "2022-01-03T03:23:50.516Z"
   },
   {
    "duration": 11,
    "start_time": "2022-01-03T03:23:59.116Z"
   },
   {
    "duration": 4,
    "start_time": "2022-01-03T03:24:00.957Z"
   },
   {
    "duration": 9,
    "start_time": "2022-01-03T03:24:01.740Z"
   },
   {
    "duration": 9,
    "start_time": "2022-01-03T03:24:02.486Z"
   },
   {
    "duration": 3,
    "start_time": "2022-01-03T03:24:03.243Z"
   },
   {
    "duration": 8,
    "start_time": "2022-01-03T03:24:04.028Z"
   },
   {
    "duration": 14,
    "start_time": "2022-01-03T03:24:05.595Z"
   },
   {
    "duration": 13,
    "start_time": "2022-01-03T03:24:07.597Z"
   },
   {
    "duration": 4,
    "start_time": "2022-01-03T03:24:13.837Z"
   },
   {
    "duration": 16,
    "start_time": "2022-01-03T03:24:21.540Z"
   },
   {
    "duration": 5,
    "start_time": "2022-01-03T03:24:22.471Z"
   },
   {
    "duration": 16,
    "start_time": "2022-01-03T03:24:23.383Z"
   },
   {
    "duration": 5,
    "start_time": "2022-01-03T03:24:24.336Z"
   },
   {
    "duration": 16,
    "start_time": "2022-01-03T03:24:25.068Z"
   },
   {
    "duration": 3,
    "start_time": "2022-01-03T03:24:26.547Z"
   },
   {
    "duration": 8,
    "start_time": "2022-01-03T03:24:27.228Z"
   },
   {
    "duration": 4,
    "start_time": "2022-01-03T03:24:28.612Z"
   },
   {
    "duration": 8,
    "start_time": "2022-01-03T03:24:29.404Z"
   },
   {
    "duration": 7,
    "start_time": "2022-01-03T03:24:30.079Z"
   },
   {
    "duration": 11,
    "start_time": "2022-01-03T03:24:30.862Z"
   },
   {
    "duration": 6,
    "start_time": "2022-01-03T03:24:31.622Z"
   },
   {
    "duration": 8,
    "start_time": "2022-01-03T03:24:32.380Z"
   },
   {
    "duration": 4,
    "start_time": "2022-01-03T03:24:33.060Z"
   },
   {
    "duration": 10,
    "start_time": "2022-01-03T03:24:33.790Z"
   },
   {
    "duration": 7,
    "start_time": "2022-01-03T03:24:34.692Z"
   },
   {
    "duration": 10,
    "start_time": "2022-01-03T03:24:35.432Z"
   },
   {
    "duration": 6,
    "start_time": "2022-01-03T03:24:36.168Z"
   },
   {
    "duration": 10,
    "start_time": "2022-01-03T03:24:36.879Z"
   },
   {
    "duration": 4,
    "start_time": "2022-01-03T03:24:37.563Z"
   },
   {
    "duration": 9,
    "start_time": "2022-01-03T03:24:38.311Z"
   },
   {
    "duration": 4,
    "start_time": "2022-01-03T03:24:39.083Z"
   },
   {
    "duration": 9,
    "start_time": "2022-01-03T03:24:39.813Z"
   },
   {
    "duration": 4,
    "start_time": "2022-01-03T03:24:43.249Z"
   },
   {
    "duration": 13,
    "start_time": "2022-01-03T03:24:56.324Z"
   },
   {
    "duration": 12,
    "start_time": "2022-01-03T03:24:57.364Z"
   },
   {
    "duration": 6,
    "start_time": "2022-01-03T03:33:37.201Z"
   },
   {
    "duration": 5,
    "start_time": "2022-01-03T03:34:08.666Z"
   },
   {
    "duration": 4,
    "start_time": "2022-01-03T03:41:13.409Z"
   },
   {
    "duration": 4,
    "start_time": "2022-01-03T03:41:22.720Z"
   },
   {
    "duration": 4,
    "start_time": "2022-01-03T03:42:15.990Z"
   },
   {
    "duration": 4,
    "start_time": "2022-01-03T03:42:18.613Z"
   },
   {
    "duration": 484,
    "start_time": "2022-01-03T03:47:58.897Z"
   },
   {
    "duration": 430,
    "start_time": "2022-01-03T03:48:01.965Z"
   },
   {
    "duration": 484,
    "start_time": "2022-01-03T03:48:03.343Z"
   },
   {
    "duration": 489,
    "start_time": "2022-01-03T03:48:04.943Z"
   },
   {
    "duration": 318,
    "start_time": "2022-01-03T03:48:06.888Z"
   },
   {
    "duration": 275,
    "start_time": "2022-01-03T03:48:07.825Z"
   },
   {
    "duration": 19,
    "start_time": "2022-01-03T03:48:22.934Z"
   },
   {
    "duration": 9,
    "start_time": "2022-01-03T03:48:28.908Z"
   },
   {
    "duration": 3,
    "start_time": "2022-01-03T03:48:30.960Z"
   },
   {
    "duration": 9,
    "start_time": "2022-01-03T03:48:32.121Z"
   },
   {
    "duration": 10,
    "start_time": "2022-01-03T03:48:32.911Z"
   },
   {
    "duration": 4,
    "start_time": "2022-01-03T03:48:33.600Z"
   },
   {
    "duration": 8,
    "start_time": "2022-01-03T03:48:34.261Z"
   },
   {
    "duration": 13,
    "start_time": "2022-01-03T03:48:34.966Z"
   },
   {
    "duration": 12,
    "start_time": "2022-01-03T03:48:35.350Z"
   },
   {
    "duration": 5,
    "start_time": "2022-01-03T03:48:48.893Z"
   },
   {
    "duration": 15,
    "start_time": "2022-01-03T03:48:55.311Z"
   },
   {
    "duration": 4,
    "start_time": "2022-01-03T03:48:56.254Z"
   },
   {
    "duration": 14,
    "start_time": "2022-01-03T03:48:57.251Z"
   },
   {
    "duration": 4,
    "start_time": "2022-01-03T03:48:58.093Z"
   },
   {
    "duration": 15,
    "start_time": "2022-01-03T03:48:58.823Z"
   },
   {
    "duration": 3,
    "start_time": "2022-01-03T03:49:00.410Z"
   },
   {
    "duration": 8,
    "start_time": "2022-01-03T03:49:01.168Z"
   },
   {
    "duration": 3,
    "start_time": "2022-01-03T03:49:02.536Z"
   },
   {
    "duration": 7,
    "start_time": "2022-01-03T03:49:03.361Z"
   },
   {
    "duration": 6,
    "start_time": "2022-01-03T03:49:04.196Z"
   },
   {
    "duration": 9,
    "start_time": "2022-01-03T03:49:04.986Z"
   },
   {
    "duration": 5,
    "start_time": "2022-01-03T03:49:05.554Z"
   },
   {
    "duration": 7,
    "start_time": "2022-01-03T03:49:06.167Z"
   },
   {
    "duration": 4,
    "start_time": "2022-01-03T03:49:06.878Z"
   },
   {
    "duration": 10,
    "start_time": "2022-01-03T03:49:07.879Z"
   },
   {
    "duration": 5,
    "start_time": "2022-01-03T03:49:08.814Z"
   },
   {
    "duration": 10,
    "start_time": "2022-01-03T03:49:09.509Z"
   },
   {
    "duration": 6,
    "start_time": "2022-01-03T03:49:10.358Z"
   },
   {
    "duration": 12,
    "start_time": "2022-01-03T03:49:11.211Z"
   },
   {
    "duration": 5,
    "start_time": "2022-01-03T03:49:12.086Z"
   },
   {
    "duration": 11,
    "start_time": "2022-01-03T03:49:13.255Z"
   },
   {
    "duration": 4,
    "start_time": "2022-01-03T03:49:14.046Z"
   },
   {
    "duration": 10,
    "start_time": "2022-01-03T03:49:14.728Z"
   },
   {
    "duration": 5,
    "start_time": "2022-01-03T03:49:17.984Z"
   },
   {
    "duration": 12,
    "start_time": "2022-01-03T03:49:26.136Z"
   },
   {
    "duration": 12,
    "start_time": "2022-01-03T03:49:29.190Z"
   },
   {
    "duration": 4,
    "start_time": "2022-01-03T04:01:30.997Z"
   },
   {
    "duration": 517,
    "start_time": "2022-01-03T04:01:55.190Z"
   },
   {
    "duration": 4,
    "start_time": "2022-01-03T04:02:16.459Z"
   },
   {
    "duration": 2,
    "start_time": "2022-01-03T04:38:35.299Z"
   },
   {
    "duration": 3,
    "start_time": "2022-01-03T04:38:36.963Z"
   },
   {
    "duration": 279,
    "start_time": "2022-01-03T04:38:38.131Z"
   },
   {
    "duration": 8,
    "start_time": "2022-01-03T04:38:41.563Z"
   },
   {
    "duration": 7,
    "start_time": "2022-01-03T04:38:42.652Z"
   },
   {
    "duration": 8,
    "start_time": "2022-01-03T04:38:43.596Z"
   },
   {
    "duration": 9,
    "start_time": "2022-01-03T04:38:44.396Z"
   },
   {
    "duration": 8,
    "start_time": "2022-01-03T04:38:45.417Z"
   },
   {
    "duration": 15,
    "start_time": "2022-01-03T04:38:47.453Z"
   },
   {
    "duration": 17,
    "start_time": "2022-01-03T04:38:48.211Z"
   },
   {
    "duration": 15,
    "start_time": "2022-01-03T04:38:48.999Z"
   },
   {
    "duration": 4,
    "start_time": "2022-01-03T04:38:50.682Z"
   },
   {
    "duration": 9,
    "start_time": "2022-01-03T04:38:53.026Z"
   },
   {
    "duration": 7,
    "start_time": "2022-01-03T04:38:53.037Z"
   },
   {
    "duration": 12,
    "start_time": "2022-01-03T04:38:53.781Z"
   },
   {
    "duration": 21,
    "start_time": "2022-01-03T04:38:54.587Z"
   },
   {
    "duration": 11,
    "start_time": "2022-01-03T04:38:55.597Z"
   },
   {
    "duration": 9,
    "start_time": "2022-01-03T04:38:56.328Z"
   },
   {
    "duration": 5,
    "start_time": "2022-01-03T04:38:57.084Z"
   },
   {
    "duration": 5,
    "start_time": "2022-01-03T04:39:00.053Z"
   },
   {
    "duration": 10,
    "start_time": "2022-01-03T04:39:01.604Z"
   },
   {
    "duration": 11,
    "start_time": "2022-01-03T04:39:02.322Z"
   },
   {
    "duration": 10,
    "start_time": "2022-01-03T04:39:03.045Z"
   },
   {
    "duration": 10,
    "start_time": "2022-01-03T04:39:03.763Z"
   },
   {
    "duration": 16,
    "start_time": "2022-01-03T04:39:07.275Z"
   },
   {
    "duration": 11,
    "start_time": "2022-01-03T04:39:07.916Z"
   },
   {
    "duration": 10,
    "start_time": "2022-01-03T04:39:09.404Z"
   },
   {
    "duration": 9,
    "start_time": "2022-01-03T04:39:10.220Z"
   },
   {
    "duration": 9,
    "start_time": "2022-01-03T04:39:11.644Z"
   },
   {
    "duration": 5,
    "start_time": "2022-01-03T04:39:12.413Z"
   },
   {
    "duration": 3,
    "start_time": "2022-01-03T04:39:13.099Z"
   },
   {
    "duration": 10,
    "start_time": "2022-01-03T04:39:13.780Z"
   },
   {
    "duration": 10,
    "start_time": "2022-01-03T04:39:14.548Z"
   },
   {
    "duration": 4,
    "start_time": "2022-01-03T04:39:15.204Z"
   },
   {
    "duration": 5,
    "start_time": "2022-01-03T04:39:15.926Z"
   },
   {
    "duration": 3,
    "start_time": "2022-01-03T04:39:16.611Z"
   },
   {
    "duration": 10,
    "start_time": "2022-01-03T04:39:18.299Z"
   },
   {
    "duration": 4,
    "start_time": "2022-01-03T04:39:18.900Z"
   },
   {
    "duration": 11,
    "start_time": "2022-01-03T04:39:19.403Z"
   },
   {
    "duration": 13,
    "start_time": "2022-01-03T04:39:19.898Z"
   },
   {
    "duration": 9,
    "start_time": "2022-01-03T04:39:20.286Z"
   },
   {
    "duration": 12,
    "start_time": "2022-01-03T04:39:20.796Z"
   },
   {
    "duration": 11,
    "start_time": "2022-01-03T04:39:22.348Z"
   },
   {
    "duration": 10,
    "start_time": "2022-01-03T04:39:23.017Z"
   },
   {
    "duration": 15,
    "start_time": "2022-01-03T04:39:23.733Z"
   },
   {
    "duration": 24,
    "start_time": "2022-01-03T04:39:30.444Z"
   },
   {
    "duration": 4,
    "start_time": "2022-01-03T04:39:31.132Z"
   },
   {
    "duration": 4,
    "start_time": "2022-01-03T04:39:31.713Z"
   },
   {
    "duration": 10,
    "start_time": "2022-01-03T04:39:32.372Z"
   },
   {
    "duration": 7,
    "start_time": "2022-01-03T04:39:33.581Z"
   },
   {
    "duration": 17,
    "start_time": "2022-01-03T04:39:34.196Z"
   },
   {
    "duration": 6,
    "start_time": "2022-01-03T04:39:34.741Z"
   },
   {
    "duration": 3,
    "start_time": "2022-01-03T04:39:35.443Z"
   },
   {
    "duration": 10,
    "start_time": "2022-01-03T04:39:36.188Z"
   },
   {
    "duration": 4,
    "start_time": "2022-01-03T04:39:36.856Z"
   },
   {
    "duration": 8,
    "start_time": "2022-01-03T04:39:37.456Z"
   },
   {
    "duration": 15,
    "start_time": "2022-01-03T04:39:38.228Z"
   },
   {
    "duration": 13,
    "start_time": "2022-01-03T04:39:39.483Z"
   },
   {
    "duration": 5,
    "start_time": "2022-01-03T04:39:40.630Z"
   },
   {
    "duration": 9,
    "start_time": "2022-01-03T04:39:41.500Z"
   },
   {
    "duration": 3,
    "start_time": "2022-01-03T04:39:42.159Z"
   },
   {
    "duration": 11,
    "start_time": "2022-01-03T04:39:43.778Z"
   },
   {
    "duration": 3,
    "start_time": "2022-01-03T04:39:46.403Z"
   },
   {
    "duration": 7,
    "start_time": "2022-01-03T04:39:48.191Z"
   },
   {
    "duration": 11,
    "start_time": "2022-01-03T04:39:49.545Z"
   },
   {
    "duration": 8,
    "start_time": "2022-01-03T04:39:50.199Z"
   },
   {
    "duration": 13,
    "start_time": "2022-01-03T04:39:57.438Z"
   },
   {
    "duration": 3,
    "start_time": "2022-01-03T04:40:00.045Z"
   },
   {
    "duration": 11,
    "start_time": "2022-01-03T04:40:01.811Z"
   },
   {
    "duration": 7,
    "start_time": "2022-01-03T04:40:04.315Z"
   },
   {
    "duration": 11,
    "start_time": "2022-01-03T04:40:05.204Z"
   },
   {
    "duration": 10,
    "start_time": "2022-01-03T04:40:06.101Z"
   },
   {
    "duration": 4,
    "start_time": "2022-01-03T04:40:06.780Z"
   },
   {
    "duration": 6,
    "start_time": "2022-01-03T04:40:07.584Z"
   },
   {
    "duration": 10,
    "start_time": "2022-01-03T04:40:08.347Z"
   },
   {
    "duration": 3,
    "start_time": "2022-01-03T04:40:10.037Z"
   },
   {
    "duration": 6,
    "start_time": "2022-01-03T04:40:10.917Z"
   },
   {
    "duration": 5,
    "start_time": "2022-01-03T04:40:11.824Z"
   },
   {
    "duration": 6,
    "start_time": "2022-01-03T04:40:12.446Z"
   },
   {
    "duration": 4,
    "start_time": "2022-01-03T04:40:15.977Z"
   },
   {
    "duration": 2994,
    "start_time": "2022-01-03T04:40:16.469Z"
   },
   {
    "duration": 4,
    "start_time": "2022-01-03T04:40:19.464Z"
   },
   {
    "duration": 2902,
    "start_time": "2022-01-03T04:40:20.694Z"
   },
   {
    "duration": 14,
    "start_time": "2022-01-03T04:40:27.516Z"
   },
   {
    "duration": 3,
    "start_time": "2022-01-03T04:40:28.497Z"
   },
   {
    "duration": 2947,
    "start_time": "2022-01-03T04:40:29.206Z"
   },
   {
    "duration": 14,
    "start_time": "2022-01-03T04:40:32.155Z"
   },
   {
    "duration": 7,
    "start_time": "2022-01-03T04:40:32.171Z"
   },
   {
    "duration": 5476,
    "start_time": "2022-01-03T04:40:32.179Z"
   },
   {
    "duration": 26,
    "start_time": "2022-01-03T04:40:37.658Z"
   },
   {
    "duration": 17,
    "start_time": "2022-01-03T04:40:37.686Z"
   },
   {
    "duration": 14,
    "start_time": "2022-01-03T04:40:37.705Z"
   },
   {
    "duration": 10,
    "start_time": "2022-01-03T04:40:37.721Z"
   },
   {
    "duration": 8,
    "start_time": "2022-01-03T04:40:37.732Z"
   },
   {
    "duration": 8,
    "start_time": "2022-01-03T04:40:37.953Z"
   },
   {
    "duration": 4,
    "start_time": "2022-01-03T04:40:42.684Z"
   },
   {
    "duration": 14,
    "start_time": "2022-01-03T04:40:44.277Z"
   },
   {
    "duration": 7,
    "start_time": "2022-01-03T04:40:45.726Z"
   },
   {
    "duration": 32,
    "start_time": "2022-01-03T04:40:46.901Z"
   },
   {
    "duration": 5,
    "start_time": "2022-01-03T04:40:49.833Z"
   },
   {
    "duration": 5,
    "start_time": "2022-01-03T04:40:50.763Z"
   },
   {
    "duration": 4,
    "start_time": "2022-01-03T04:40:51.628Z"
   },
   {
    "duration": 4,
    "start_time": "2022-01-03T04:40:52.611Z"
   },
   {
    "duration": 5,
    "start_time": "2022-01-03T04:40:54.819Z"
   },
   {
    "duration": 15,
    "start_time": "2022-01-03T04:40:55.397Z"
   },
   {
    "duration": 6,
    "start_time": "2022-01-03T04:40:56.027Z"
   },
   {
    "duration": 34,
    "start_time": "2022-01-03T04:40:56.596Z"
   },
   {
    "duration": 4,
    "start_time": "2022-01-03T04:40:57.250Z"
   },
   {
    "duration": 4,
    "start_time": "2022-01-03T04:40:57.948Z"
   },
   {
    "duration": 4,
    "start_time": "2022-01-03T04:40:58.630Z"
   },
   {
    "duration": 4,
    "start_time": "2022-01-03T04:40:59.092Z"
   },
   {
    "duration": 464,
    "start_time": "2022-01-03T04:41:00.856Z"
   },
   {
    "duration": 399,
    "start_time": "2022-01-03T04:41:02.212Z"
   },
   {
    "duration": 531,
    "start_time": "2022-01-03T04:41:03.508Z"
   },
   {
    "duration": 428,
    "start_time": "2022-01-03T04:41:04.916Z"
   },
   {
    "duration": 321,
    "start_time": "2022-01-03T04:41:06.214Z"
   },
   {
    "duration": 294,
    "start_time": "2022-01-03T04:41:06.925Z"
   },
   {
    "duration": 18,
    "start_time": "2022-01-03T04:41:10.028Z"
   },
   {
    "duration": 9,
    "start_time": "2022-01-03T04:41:13.434Z"
   },
   {
    "duration": 3,
    "start_time": "2022-01-03T04:41:14.067Z"
   },
   {
    "duration": 9,
    "start_time": "2022-01-03T04:41:14.742Z"
   },
   {
    "duration": 9,
    "start_time": "2022-01-03T04:41:15.444Z"
   },
   {
    "duration": 4,
    "start_time": "2022-01-03T04:41:16.082Z"
   },
   {
    "duration": 9,
    "start_time": "2022-01-03T04:41:16.782Z"
   },
   {
    "duration": 13,
    "start_time": "2022-01-03T04:41:18.022Z"
   },
   {
    "duration": 12,
    "start_time": "2022-01-03T04:41:18.628Z"
   },
   {
    "duration": 4,
    "start_time": "2022-01-03T04:41:22.589Z"
   },
   {
    "duration": 14,
    "start_time": "2022-01-03T04:41:26.006Z"
   },
   {
    "duration": 4,
    "start_time": "2022-01-03T04:41:26.442Z"
   },
   {
    "duration": 15,
    "start_time": "2022-01-03T04:41:26.908Z"
   },
   {
    "duration": 4,
    "start_time": "2022-01-03T04:41:27.330Z"
   },
   {
    "duration": 16,
    "start_time": "2022-01-03T04:41:27.789Z"
   },
   {
    "duration": 3,
    "start_time": "2022-01-03T04:41:28.741Z"
   },
   {
    "duration": 11,
    "start_time": "2022-01-03T04:41:29.196Z"
   },
   {
    "duration": 4,
    "start_time": "2022-01-03T04:41:30.054Z"
   },
   {
    "duration": 8,
    "start_time": "2022-01-03T04:41:30.395Z"
   },
   {
    "duration": 6,
    "start_time": "2022-01-03T04:41:30.915Z"
   },
   {
    "duration": 9,
    "start_time": "2022-01-03T04:41:31.318Z"
   },
   {
    "duration": 5,
    "start_time": "2022-01-03T04:41:31.667Z"
   },
   {
    "duration": 7,
    "start_time": "2022-01-03T04:41:32.125Z"
   },
   {
    "duration": 5,
    "start_time": "2022-01-03T04:41:32.497Z"
   },
   {
    "duration": 9,
    "start_time": "2022-01-03T04:41:32.850Z"
   },
   {
    "duration": 6,
    "start_time": "2022-01-03T04:41:33.243Z"
   },
   {
    "duration": 11,
    "start_time": "2022-01-03T04:41:33.772Z"
   },
   {
    "duration": 6,
    "start_time": "2022-01-03T04:41:34.148Z"
   },
   {
    "duration": 10,
    "start_time": "2022-01-03T04:41:34.516Z"
   },
   {
    "duration": 5,
    "start_time": "2022-01-03T04:41:34.896Z"
   },
   {
    "duration": 10,
    "start_time": "2022-01-03T04:41:35.228Z"
   },
   {
    "duration": 5,
    "start_time": "2022-01-03T04:41:36.315Z"
   },
   {
    "duration": 12,
    "start_time": "2022-01-03T04:41:38.928Z"
   },
   {
    "duration": 13,
    "start_time": "2022-01-03T04:41:40.011Z"
   },
   {
    "duration": 1156,
    "start_time": "2022-01-03T10:27:38.197Z"
   },
   {
    "duration": 5,
    "start_time": "2022-01-03T10:27:39.355Z"
   },
   {
    "duration": 294,
    "start_time": "2022-01-03T10:27:39.363Z"
   },
   {
    "duration": 10,
    "start_time": "2022-01-03T10:27:39.660Z"
   },
   {
    "duration": 7,
    "start_time": "2022-01-03T10:27:39.672Z"
   },
   {
    "duration": 18,
    "start_time": "2022-01-03T10:27:39.681Z"
   },
   {
    "duration": 11,
    "start_time": "2022-01-03T10:27:39.700Z"
   },
   {
    "duration": 8,
    "start_time": "2022-01-03T10:27:39.714Z"
   },
   {
    "duration": 38,
    "start_time": "2022-01-03T10:27:39.724Z"
   },
   {
    "duration": 19,
    "start_time": "2022-01-03T10:27:39.764Z"
   },
   {
    "duration": 17,
    "start_time": "2022-01-03T10:27:39.785Z"
   },
   {
    "duration": 4,
    "start_time": "2022-01-03T10:27:39.803Z"
   },
   {
    "duration": 11,
    "start_time": "2022-01-03T10:27:39.809Z"
   },
   {
    "duration": 11,
    "start_time": "2022-01-03T10:27:39.822Z"
   },
   {
    "duration": 38,
    "start_time": "2022-01-03T10:27:39.835Z"
   },
   {
    "duration": 22,
    "start_time": "2022-01-03T10:27:39.875Z"
   },
   {
    "duration": 14,
    "start_time": "2022-01-03T10:27:39.899Z"
   },
   {
    "duration": 9,
    "start_time": "2022-01-03T10:27:39.915Z"
   },
   {
    "duration": 38,
    "start_time": "2022-01-03T10:27:39.926Z"
   },
   {
    "duration": 5,
    "start_time": "2022-01-03T10:27:39.966Z"
   },
   {
    "duration": 11,
    "start_time": "2022-01-03T10:27:39.973Z"
   },
   {
    "duration": 12,
    "start_time": "2022-01-03T10:27:39.986Z"
   },
   {
    "duration": 12,
    "start_time": "2022-01-03T10:27:40.002Z"
   },
   {
    "duration": 10,
    "start_time": "2022-01-03T10:27:40.017Z"
   },
   {
    "duration": 46,
    "start_time": "2022-01-03T10:27:40.029Z"
   },
   {
    "duration": 11,
    "start_time": "2022-01-03T10:27:40.077Z"
   },
   {
    "duration": 10,
    "start_time": "2022-01-03T10:27:40.090Z"
   },
   {
    "duration": 10,
    "start_time": "2022-01-03T10:27:40.102Z"
   },
   {
    "duration": 10,
    "start_time": "2022-01-03T10:27:40.114Z"
   },
   {
    "duration": 7,
    "start_time": "2022-01-03T10:27:40.161Z"
   },
   {
    "duration": 5,
    "start_time": "2022-01-03T10:27:40.169Z"
   },
   {
    "duration": 15,
    "start_time": "2022-01-03T10:27:40.176Z"
   },
   {
    "duration": 11,
    "start_time": "2022-01-03T10:27:40.192Z"
   },
   {
    "duration": 5,
    "start_time": "2022-01-03T10:27:40.205Z"
   },
   {
    "duration": 6,
    "start_time": "2022-01-03T10:27:40.212Z"
   },
   {
    "duration": 4,
    "start_time": "2022-01-03T10:27:40.220Z"
   },
   {
    "duration": 44,
    "start_time": "2022-01-03T10:27:40.226Z"
   },
   {
    "duration": 6,
    "start_time": "2022-01-03T10:27:40.272Z"
   },
   {
    "duration": 15,
    "start_time": "2022-01-03T10:27:40.279Z"
   },
   {
    "duration": 16,
    "start_time": "2022-01-03T10:27:40.296Z"
   },
   {
    "duration": 10,
    "start_time": "2022-01-03T10:27:40.314Z"
   },
   {
    "duration": 46,
    "start_time": "2022-01-03T10:27:40.325Z"
   },
   {
    "duration": 11,
    "start_time": "2022-01-03T10:27:40.373Z"
   },
   {
    "duration": 9,
    "start_time": "2022-01-03T10:27:40.386Z"
   },
   {
    "duration": 15,
    "start_time": "2022-01-03T10:27:40.396Z"
   },
   {
    "duration": 54,
    "start_time": "2022-01-03T10:27:40.413Z"
   },
   {
    "duration": 3,
    "start_time": "2022-01-03T10:27:40.468Z"
   },
   {
    "duration": 7,
    "start_time": "2022-01-03T10:27:40.473Z"
   },
   {
    "duration": 12,
    "start_time": "2022-01-03T10:27:40.481Z"
   },
   {
    "duration": 7,
    "start_time": "2022-01-03T10:27:40.495Z"
   },
   {
    "duration": 29,
    "start_time": "2022-01-03T10:27:40.504Z"
   },
   {
    "duration": 6,
    "start_time": "2022-01-03T10:27:40.535Z"
   },
   {
    "duration": 18,
    "start_time": "2022-01-03T10:27:40.543Z"
   },
   {
    "duration": 13,
    "start_time": "2022-01-03T10:27:40.562Z"
   },
   {
    "duration": 4,
    "start_time": "2022-01-03T10:27:40.577Z"
   },
   {
    "duration": 9,
    "start_time": "2022-01-03T10:27:40.583Z"
   },
   {
    "duration": 18,
    "start_time": "2022-01-03T10:27:40.593Z"
   },
   {
    "duration": 11,
    "start_time": "2022-01-03T10:27:40.612Z"
   },
   {
    "duration": 42,
    "start_time": "2022-01-03T10:27:40.625Z"
   },
   {
    "duration": 25,
    "start_time": "2022-01-03T10:27:40.669Z"
   },
   {
    "duration": 24,
    "start_time": "2022-01-03T10:27:40.696Z"
   },
   {
    "duration": 11,
    "start_time": "2022-01-03T10:27:40.722Z"
   },
   {
    "duration": 5,
    "start_time": "2022-01-03T10:27:40.735Z"
   },
   {
    "duration": 24,
    "start_time": "2022-01-03T10:27:40.742Z"
   },
   {
    "duration": 12,
    "start_time": "2022-01-03T10:27:40.767Z"
   },
   {
    "duration": 8,
    "start_time": "2022-01-03T10:27:40.780Z"
   },
   {
    "duration": 16,
    "start_time": "2022-01-03T10:27:40.789Z"
   },
   {
    "duration": 9,
    "start_time": "2022-01-03T10:27:40.810Z"
   },
   {
    "duration": 24,
    "start_time": "2022-01-03T10:27:40.821Z"
   },
   {
    "duration": 19,
    "start_time": "2022-01-03T10:27:40.847Z"
   },
   {
    "duration": 19,
    "start_time": "2022-01-03T10:27:40.868Z"
   },
   {
    "duration": 19,
    "start_time": "2022-01-03T10:27:40.889Z"
   },
   {
    "duration": 14,
    "start_time": "2022-01-03T10:27:40.910Z"
   },
   {
    "duration": 20,
    "start_time": "2022-01-03T10:27:40.926Z"
   },
   {
    "duration": 27,
    "start_time": "2022-01-03T10:27:40.948Z"
   },
   {
    "duration": 5,
    "start_time": "2022-01-03T10:27:40.977Z"
   },
   {
    "duration": 10,
    "start_time": "2022-01-03T10:27:40.983Z"
   },
   {
    "duration": 10,
    "start_time": "2022-01-03T10:27:40.995Z"
   },
   {
    "duration": 12,
    "start_time": "2022-01-03T10:27:41.006Z"
   },
   {
    "duration": 4,
    "start_time": "2022-01-03T10:27:41.020Z"
   },
   {
    "duration": 3028,
    "start_time": "2022-01-03T10:27:41.025Z"
   },
   {
    "duration": 6,
    "start_time": "2022-01-03T10:27:44.055Z"
   },
   {
    "duration": 3050,
    "start_time": "2022-01-03T10:27:44.063Z"
   },
   {
    "duration": 15,
    "start_time": "2022-01-03T10:27:47.115Z"
   },
   {
    "duration": 6,
    "start_time": "2022-01-03T10:27:47.132Z"
   },
   {
    "duration": 3070,
    "start_time": "2022-01-03T10:27:47.140Z"
   },
   {
    "duration": 15,
    "start_time": "2022-01-03T10:27:50.211Z"
   },
   {
    "duration": 6,
    "start_time": "2022-01-03T10:27:50.228Z"
   },
   {
    "duration": 5846,
    "start_time": "2022-01-03T10:27:50.236Z"
   },
   {
    "duration": 18,
    "start_time": "2022-01-03T10:27:56.083Z"
   },
   {
    "duration": 12,
    "start_time": "2022-01-03T10:27:56.102Z"
   },
   {
    "duration": 16,
    "start_time": "2022-01-03T10:27:56.116Z"
   },
   {
    "duration": 27,
    "start_time": "2022-01-03T10:27:56.134Z"
   },
   {
    "duration": 6,
    "start_time": "2022-01-03T10:27:56.163Z"
   },
   {
    "duration": 7,
    "start_time": "2022-01-03T10:27:56.171Z"
   },
   {
    "duration": 3,
    "start_time": "2022-01-03T10:27:56.179Z"
   },
   {
    "duration": 15,
    "start_time": "2022-01-03T10:27:56.184Z"
   },
   {
    "duration": 5,
    "start_time": "2022-01-03T10:27:56.201Z"
   },
   {
    "duration": 68,
    "start_time": "2022-01-03T10:27:56.207Z"
   },
   {
    "duration": 4,
    "start_time": "2022-01-03T10:27:56.277Z"
   },
   {
    "duration": 11,
    "start_time": "2022-01-03T10:27:56.283Z"
   },
   {
    "duration": 18,
    "start_time": "2022-01-03T10:27:56.296Z"
   },
   {
    "duration": 11,
    "start_time": "2022-01-03T10:27:56.315Z"
   },
   {
    "duration": 16,
    "start_time": "2022-01-03T10:27:56.327Z"
   },
   {
    "duration": 19,
    "start_time": "2022-01-03T10:27:56.344Z"
   },
   {
    "duration": 6,
    "start_time": "2022-01-03T10:27:56.364Z"
   },
   {
    "duration": 38,
    "start_time": "2022-01-03T10:27:56.371Z"
   },
   {
    "duration": 6,
    "start_time": "2022-01-03T10:27:56.411Z"
   },
   {
    "duration": 7,
    "start_time": "2022-01-03T10:27:56.418Z"
   },
   {
    "duration": 34,
    "start_time": "2022-01-03T10:27:56.426Z"
   },
   {
    "duration": 5,
    "start_time": "2022-01-03T10:27:56.463Z"
   },
   {
    "duration": 555,
    "start_time": "2022-01-03T10:27:56.470Z"
   },
   {
    "duration": 493,
    "start_time": "2022-01-03T10:27:57.028Z"
   },
   {
    "duration": 556,
    "start_time": "2022-01-03T10:27:57.523Z"
   },
   {
    "duration": 490,
    "start_time": "2022-01-03T10:27:58.080Z"
   },
   {
    "duration": 329,
    "start_time": "2022-01-03T10:27:58.572Z"
   },
   {
    "duration": 329,
    "start_time": "2022-01-03T10:27:58.903Z"
   },
   {
    "duration": 51648,
    "start_time": "2022-01-03T10:27:59.234Z"
   },
   {
    "duration": 11,
    "start_time": "2022-01-03T10:28:50.883Z"
   },
   {
    "duration": 20,
    "start_time": "2022-01-03T10:28:50.895Z"
   },
   {
    "duration": 27,
    "start_time": "2022-01-03T10:28:50.916Z"
   },
   {
    "duration": 13,
    "start_time": "2022-01-03T10:28:50.945Z"
   },
   {
    "duration": 8,
    "start_time": "2022-01-03T10:28:50.959Z"
   },
   {
    "duration": 18,
    "start_time": "2022-01-03T10:28:50.969Z"
   },
   {
    "duration": 16,
    "start_time": "2022-01-03T10:28:50.988Z"
   },
   {
    "duration": 21,
    "start_time": "2022-01-03T10:28:51.006Z"
   },
   {
    "duration": 14,
    "start_time": "2022-01-03T10:28:51.029Z"
   },
   {
    "duration": 29,
    "start_time": "2022-01-03T10:28:51.045Z"
   },
   {
    "duration": 12,
    "start_time": "2022-01-03T10:28:51.075Z"
   },
   {
    "duration": 20,
    "start_time": "2022-01-03T10:28:51.088Z"
   },
   {
    "duration": 10,
    "start_time": "2022-01-03T10:28:51.110Z"
   },
   {
    "duration": 33,
    "start_time": "2022-01-03T10:28:51.122Z"
   },
   {
    "duration": 4,
    "start_time": "2022-01-03T10:28:51.156Z"
   },
   {
    "duration": 24,
    "start_time": "2022-01-03T10:28:51.161Z"
   },
   {
    "duration": 6,
    "start_time": "2022-01-03T10:28:51.187Z"
   },
   {
    "duration": 23,
    "start_time": "2022-01-03T10:28:51.195Z"
   },
   {
    "duration": 18,
    "start_time": "2022-01-03T10:28:51.219Z"
   },
   {
    "duration": 15,
    "start_time": "2022-01-03T10:28:51.238Z"
   },
   {
    "duration": 25,
    "start_time": "2022-01-03T10:28:51.255Z"
   },
   {
    "duration": 14,
    "start_time": "2022-01-03T10:28:51.282Z"
   },
   {
    "duration": 23,
    "start_time": "2022-01-03T10:28:51.297Z"
   },
   {
    "duration": 25,
    "start_time": "2022-01-03T10:28:51.321Z"
   },
   {
    "duration": 23,
    "start_time": "2022-01-03T10:28:51.348Z"
   },
   {
    "duration": 31,
    "start_time": "2022-01-03T10:28:51.373Z"
   },
   {
    "duration": 18,
    "start_time": "2022-01-03T10:28:51.406Z"
   },
   {
    "duration": 19,
    "start_time": "2022-01-03T10:28:51.426Z"
   },
   {
    "duration": 14,
    "start_time": "2022-01-03T10:28:51.447Z"
   },
   {
    "duration": 15,
    "start_time": "2022-01-03T10:28:51.463Z"
   },
   {
    "duration": 18,
    "start_time": "2022-01-03T10:28:51.480Z"
   },
   {
    "duration": 27,
    "start_time": "2022-01-03T10:28:51.500Z"
   },
   {
    "duration": 18,
    "start_time": "2022-01-03T10:28:51.528Z"
   },
   {
    "duration": 6,
    "start_time": "2022-01-03T11:02:25.257Z"
   },
   {
    "duration": 6602,
    "start_time": "2022-01-03T11:02:39.455Z"
   },
   {
    "duration": 18,
    "start_time": "2022-01-03T11:02:47.039Z"
   },
   {
    "duration": 8,
    "start_time": "2022-01-03T11:02:56.661Z"
   },
   {
    "duration": 17,
    "start_time": "2022-01-03T11:02:57.254Z"
   },
   {
    "duration": 7,
    "start_time": "2022-01-03T11:02:57.654Z"
   },
   {
    "duration": 9,
    "start_time": "2022-01-03T11:02:58.151Z"
   },
   {
    "duration": 9,
    "start_time": "2022-01-03T11:02:58.566Z"
   },
   {
    "duration": 5,
    "start_time": "2022-01-03T11:02:58.974Z"
   },
   {
    "duration": 17,
    "start_time": "2022-01-03T11:02:59.358Z"
   },
   {
    "duration": 7,
    "start_time": "2022-01-03T11:02:59.774Z"
   },
   {
    "duration": 39,
    "start_time": "2022-01-03T11:03:00.198Z"
   },
   {
    "duration": 4,
    "start_time": "2022-01-03T11:03:01.925Z"
   },
   {
    "duration": 4,
    "start_time": "2022-01-03T11:03:02.214Z"
   },
   {
    "duration": 5,
    "start_time": "2022-01-03T11:03:02.429Z"
   },
   {
    "duration": 4,
    "start_time": "2022-01-03T11:03:02.607Z"
   },
   {
    "duration": 5,
    "start_time": "2022-01-03T11:03:03.237Z"
   },
   {
    "duration": 18,
    "start_time": "2022-01-03T11:03:03.630Z"
   },
   {
    "duration": 8,
    "start_time": "2022-01-03T11:03:04.069Z"
   },
   {
    "duration": 38,
    "start_time": "2022-01-03T11:03:04.430Z"
   },
   {
    "duration": 5,
    "start_time": "2022-01-03T11:03:04.901Z"
   },
   {
    "duration": 5,
    "start_time": "2022-01-03T11:03:05.381Z"
   },
   {
    "duration": 5,
    "start_time": "2022-01-03T11:03:05.701Z"
   },
   {
    "duration": 4,
    "start_time": "2022-01-03T11:03:05.973Z"
   },
   {
    "duration": 661,
    "start_time": "2022-01-03T11:03:09.086Z"
   },
   {
    "duration": 455,
    "start_time": "2022-01-03T11:03:10.540Z"
   },
   {
    "duration": 533,
    "start_time": "2022-01-03T11:03:11.078Z"
   },
   {
    "duration": 461,
    "start_time": "2022-01-03T11:03:12.632Z"
   },
   {
    "duration": 354,
    "start_time": "2022-01-03T11:03:13.095Z"
   },
   {
    "duration": 296,
    "start_time": "2022-01-03T11:03:13.451Z"
   },
   {
    "duration": 9,
    "start_time": "2022-01-03T11:06:28.411Z"
   },
   {
    "duration": 4,
    "start_time": "2022-01-03T11:06:28.584Z"
   },
   {
    "duration": 10,
    "start_time": "2022-01-03T11:06:28.793Z"
   },
   {
    "duration": 10,
    "start_time": "2022-01-03T11:06:29.061Z"
   },
   {
    "duration": 4,
    "start_time": "2022-01-03T11:06:29.513Z"
   },
   {
    "duration": 10,
    "start_time": "2022-01-03T11:06:29.873Z"
   },
   {
    "duration": 14,
    "start_time": "2022-01-03T11:06:30.817Z"
   },
   {
    "duration": 15,
    "start_time": "2022-01-03T11:06:31.387Z"
   },
   {
    "duration": 6,
    "start_time": "2022-01-03T11:06:35.417Z"
   },
   {
    "duration": 16,
    "start_time": "2022-01-03T11:06:59.464Z"
   },
   {
    "duration": 4,
    "start_time": "2022-01-03T11:06:59.606Z"
   },
   {
    "duration": 16,
    "start_time": "2022-01-03T11:06:59.753Z"
   },
   {
    "duration": 5,
    "start_time": "2022-01-03T11:07:00.128Z"
   },
   {
    "duration": 17,
    "start_time": "2022-01-03T11:07:00.600Z"
   },
   {
    "duration": 4,
    "start_time": "2022-01-03T11:07:01.070Z"
   },
   {
    "duration": 8,
    "start_time": "2022-01-03T11:07:01.296Z"
   },
   {
    "duration": 4,
    "start_time": "2022-01-03T11:07:02.334Z"
   },
   {
    "duration": 10,
    "start_time": "2022-01-03T11:07:02.542Z"
   },
   {
    "duration": 6,
    "start_time": "2022-01-03T11:07:02.723Z"
   },
   {
    "duration": 11,
    "start_time": "2022-01-03T11:07:03.312Z"
   },
   {
    "duration": 6,
    "start_time": "2022-01-03T11:07:03.886Z"
   },
   {
    "duration": 8,
    "start_time": "2022-01-03T11:07:04.151Z"
   },
   {
    "duration": 4,
    "start_time": "2022-01-03T11:07:04.703Z"
   },
   {
    "duration": 10,
    "start_time": "2022-01-03T11:07:05.255Z"
   },
   {
    "duration": 6,
    "start_time": "2022-01-03T11:07:05.592Z"
   },
   {
    "duration": 12,
    "start_time": "2022-01-03T11:07:06.319Z"
   },
   {
    "duration": 6,
    "start_time": "2022-01-03T11:07:06.544Z"
   },
   {
    "duration": 13,
    "start_time": "2022-01-03T11:07:07.150Z"
   },
   {
    "duration": 5,
    "start_time": "2022-01-03T11:07:07.702Z"
   },
   {
    "duration": 11,
    "start_time": "2022-01-03T11:07:08.480Z"
   },
   {
    "duration": 5,
    "start_time": "2022-01-03T11:07:10.750Z"
   },
   {
    "duration": 19,
    "start_time": "2022-01-03T11:07:16.253Z"
   },
   {
    "duration": 14,
    "start_time": "2022-01-03T11:07:16.647Z"
   },
   {
    "duration": 1145,
    "start_time": "2022-01-03T11:11:10.617Z"
   },
   {
    "duration": 2,
    "start_time": "2022-01-03T11:11:11.765Z"
   },
   {
    "duration": 317,
    "start_time": "2022-01-03T11:11:11.769Z"
   },
   {
    "duration": 12,
    "start_time": "2022-01-03T11:11:12.088Z"
   },
   {
    "duration": 8,
    "start_time": "2022-01-03T11:11:12.102Z"
   },
   {
    "duration": 9,
    "start_time": "2022-01-03T11:11:12.112Z"
   },
   {
    "duration": 11,
    "start_time": "2022-01-03T11:11:12.161Z"
   },
   {
    "duration": 11,
    "start_time": "2022-01-03T11:11:12.174Z"
   },
   {
    "duration": 21,
    "start_time": "2022-01-03T11:11:12.187Z"
   },
   {
    "duration": 19,
    "start_time": "2022-01-03T11:11:12.210Z"
   },
   {
    "duration": 29,
    "start_time": "2022-01-03T11:11:12.231Z"
   },
   {
    "duration": 6,
    "start_time": "2022-01-03T11:11:12.262Z"
   },
   {
    "duration": 17,
    "start_time": "2022-01-03T11:11:12.269Z"
   },
   {
    "duration": 6,
    "start_time": "2022-01-03T11:11:12.288Z"
   },
   {
    "duration": 13,
    "start_time": "2022-01-03T11:11:12.296Z"
   },
   {
    "duration": 30,
    "start_time": "2022-01-03T11:11:12.311Z"
   },
   {
    "duration": 13,
    "start_time": "2022-01-03T11:11:12.343Z"
   },
   {
    "duration": 10,
    "start_time": "2022-01-03T11:11:12.360Z"
   },
   {
    "duration": 7,
    "start_time": "2022-01-03T11:11:12.372Z"
   },
   {
    "duration": 7,
    "start_time": "2022-01-03T11:11:12.381Z"
   },
   {
    "duration": 25,
    "start_time": "2022-01-03T11:11:12.390Z"
   },
   {
    "duration": 17,
    "start_time": "2022-01-03T11:11:12.417Z"
   },
   {
    "duration": 13,
    "start_time": "2022-01-03T11:11:12.440Z"
   },
   {
    "duration": 11,
    "start_time": "2022-01-03T11:11:12.455Z"
   },
   {
    "duration": 20,
    "start_time": "2022-01-03T11:11:12.468Z"
   },
   {
    "duration": 11,
    "start_time": "2022-01-03T11:11:12.490Z"
   },
   {
    "duration": 12,
    "start_time": "2022-01-03T11:11:12.503Z"
   },
   {
    "duration": 10,
    "start_time": "2022-01-03T11:11:12.516Z"
   },
   {
    "duration": 10,
    "start_time": "2022-01-03T11:11:12.528Z"
   },
   {
    "duration": 7,
    "start_time": "2022-01-03T11:11:12.539Z"
   },
   {
    "duration": 13,
    "start_time": "2022-01-03T11:11:12.548Z"
   },
   {
    "duration": 16,
    "start_time": "2022-01-03T11:11:12.563Z"
   },
   {
    "duration": 12,
    "start_time": "2022-01-03T11:11:12.581Z"
   },
   {
    "duration": 6,
    "start_time": "2022-01-03T11:11:12.594Z"
   },
   {
    "duration": 7,
    "start_time": "2022-01-03T11:11:12.601Z"
   },
   {
    "duration": 5,
    "start_time": "2022-01-03T11:11:12.610Z"
   },
   {
    "duration": 14,
    "start_time": "2022-01-03T11:11:12.616Z"
   },
   {
    "duration": 4,
    "start_time": "2022-01-03T11:11:12.632Z"
   },
   {
    "duration": 15,
    "start_time": "2022-01-03T11:11:12.637Z"
   },
   {
    "duration": 17,
    "start_time": "2022-01-03T11:11:12.654Z"
   },
   {
    "duration": 13,
    "start_time": "2022-01-03T11:11:12.673Z"
   },
   {
    "duration": 13,
    "start_time": "2022-01-03T11:11:12.688Z"
   },
   {
    "duration": 13,
    "start_time": "2022-01-03T11:11:12.702Z"
   },
   {
    "duration": 10,
    "start_time": "2022-01-03T11:11:12.717Z"
   },
   {
    "duration": 16,
    "start_time": "2022-01-03T11:11:12.728Z"
   },
   {
    "duration": 29,
    "start_time": "2022-01-03T11:11:12.761Z"
   },
   {
    "duration": 4,
    "start_time": "2022-01-03T11:11:12.792Z"
   },
   {
    "duration": 6,
    "start_time": "2022-01-03T11:11:12.798Z"
   },
   {
    "duration": 14,
    "start_time": "2022-01-03T11:11:12.805Z"
   },
   {
    "duration": 8,
    "start_time": "2022-01-03T11:11:12.820Z"
   },
   {
    "duration": 24,
    "start_time": "2022-01-03T11:11:12.830Z"
   },
   {
    "duration": 10,
    "start_time": "2022-01-03T11:11:12.856Z"
   },
   {
    "duration": 4,
    "start_time": "2022-01-03T11:11:12.867Z"
   },
   {
    "duration": 13,
    "start_time": "2022-01-03T11:11:12.872Z"
   },
   {
    "duration": 3,
    "start_time": "2022-01-03T11:11:12.887Z"
   },
   {
    "duration": 9,
    "start_time": "2022-01-03T11:11:12.892Z"
   },
   {
    "duration": 18,
    "start_time": "2022-01-03T11:11:12.903Z"
   },
   {
    "duration": 11,
    "start_time": "2022-01-03T11:11:12.923Z"
   },
   {
    "duration": 5,
    "start_time": "2022-01-03T11:11:12.935Z"
   },
   {
    "duration": 10,
    "start_time": "2022-01-03T11:11:12.942Z"
   },
   {
    "duration": 11,
    "start_time": "2022-01-03T11:11:12.954Z"
   },
   {
    "duration": 10,
    "start_time": "2022-01-03T11:11:12.967Z"
   },
   {
    "duration": 4,
    "start_time": "2022-01-03T11:11:12.978Z"
   },
   {
    "duration": 16,
    "start_time": "2022-01-03T11:11:12.983Z"
   },
   {
    "duration": 11,
    "start_time": "2022-01-03T11:11:13.001Z"
   },
   {
    "duration": 7,
    "start_time": "2022-01-03T11:11:13.014Z"
   },
   {
    "duration": 12,
    "start_time": "2022-01-03T11:11:13.023Z"
   },
   {
    "duration": 4,
    "start_time": "2022-01-03T11:11:13.041Z"
   },
   {
    "duration": 14,
    "start_time": "2022-01-03T11:11:13.047Z"
   },
   {
    "duration": 8,
    "start_time": "2022-01-03T11:11:13.063Z"
   },
   {
    "duration": 13,
    "start_time": "2022-01-03T11:11:13.073Z"
   },
   {
    "duration": 14,
    "start_time": "2022-01-03T11:11:13.088Z"
   },
   {
    "duration": 5,
    "start_time": "2022-01-03T11:11:13.104Z"
   },
   {
    "duration": 8,
    "start_time": "2022-01-03T11:11:13.111Z"
   },
   {
    "duration": 11,
    "start_time": "2022-01-03T11:11:13.120Z"
   },
   {
    "duration": 4,
    "start_time": "2022-01-03T11:11:13.132Z"
   },
   {
    "duration": 8,
    "start_time": "2022-01-03T11:11:13.138Z"
   },
   {
    "duration": 17,
    "start_time": "2022-01-03T11:11:13.148Z"
   },
   {
    "duration": 7,
    "start_time": "2022-01-03T11:11:13.166Z"
   },
   {
    "duration": 4,
    "start_time": "2022-01-03T11:11:13.175Z"
   },
   {
    "duration": 3750,
    "start_time": "2022-01-03T11:11:13.180Z"
   },
   {
    "duration": 3,
    "start_time": "2022-01-03T11:11:16.932Z"
   },
   {
    "duration": 3115,
    "start_time": "2022-01-03T11:11:16.937Z"
   },
   {
    "duration": 17,
    "start_time": "2022-01-03T11:11:20.054Z"
   },
   {
    "duration": 12,
    "start_time": "2022-01-03T11:11:20.073Z"
   },
   {
    "duration": 3098,
    "start_time": "2022-01-03T11:11:20.087Z"
   },
   {
    "duration": 15,
    "start_time": "2022-01-03T11:11:23.186Z"
   },
   {
    "duration": 6,
    "start_time": "2022-01-03T11:11:23.202Z"
   },
   {
    "duration": 5645,
    "start_time": "2022-01-03T11:11:23.210Z"
   },
   {
    "duration": 5,
    "start_time": "2022-01-03T11:11:28.857Z"
   },
   {
    "duration": 15,
    "start_time": "2022-01-03T11:11:28.864Z"
   },
   {
    "duration": 19,
    "start_time": "2022-01-03T11:11:28.880Z"
   },
   {
    "duration": 7,
    "start_time": "2022-01-03T11:11:28.900Z"
   },
   {
    "duration": 6,
    "start_time": "2022-01-03T11:11:28.908Z"
   },
   {
    "duration": 7,
    "start_time": "2022-01-03T11:11:28.916Z"
   },
   {
    "duration": 4,
    "start_time": "2022-01-03T11:11:28.924Z"
   },
   {
    "duration": 47,
    "start_time": "2022-01-03T11:11:28.929Z"
   },
   {
    "duration": 10,
    "start_time": "2022-01-03T11:11:28.978Z"
   },
   {
    "duration": 40,
    "start_time": "2022-01-03T11:11:28.990Z"
   },
   {
    "duration": 4,
    "start_time": "2022-01-03T11:11:29.031Z"
   },
   {
    "duration": 25,
    "start_time": "2022-01-03T11:11:29.036Z"
   },
   {
    "duration": 4,
    "start_time": "2022-01-03T11:11:29.063Z"
   },
   {
    "duration": 7,
    "start_time": "2022-01-03T11:11:29.069Z"
   },
   {
    "duration": 6,
    "start_time": "2022-01-03T11:11:29.077Z"
   },
   {
    "duration": 16,
    "start_time": "2022-01-03T11:11:29.084Z"
   },
   {
    "duration": 6,
    "start_time": "2022-01-03T11:11:29.101Z"
   },
   {
    "duration": 62,
    "start_time": "2022-01-03T11:11:29.108Z"
   },
   {
    "duration": 3,
    "start_time": "2022-01-03T11:11:29.172Z"
   },
   {
    "duration": 5,
    "start_time": "2022-01-03T11:11:29.177Z"
   },
   {
    "duration": 8,
    "start_time": "2022-01-03T11:11:29.184Z"
   },
   {
    "duration": 6,
    "start_time": "2022-01-03T11:11:29.193Z"
   },
   {
    "duration": 507,
    "start_time": "2022-01-03T11:11:29.201Z"
   },
   {
    "duration": 476,
    "start_time": "2022-01-03T11:11:29.709Z"
   },
   {
    "duration": 580,
    "start_time": "2022-01-03T11:11:30.186Z"
   },
   {
    "duration": 508,
    "start_time": "2022-01-03T11:11:30.767Z"
   },
   {
    "duration": 333,
    "start_time": "2022-01-03T11:11:31.276Z"
   },
   {
    "duration": 327,
    "start_time": "2022-01-03T11:11:31.610Z"
   },
   {
    "duration": 51181,
    "start_time": "2022-01-03T11:11:31.939Z"
   },
   {
    "duration": 12,
    "start_time": "2022-01-03T11:12:23.122Z"
   },
   {
    "duration": 8,
    "start_time": "2022-01-03T11:12:23.136Z"
   },
   {
    "duration": 22,
    "start_time": "2022-01-03T11:12:23.145Z"
   },
   {
    "duration": 9,
    "start_time": "2022-01-03T11:12:23.169Z"
   },
   {
    "duration": 8,
    "start_time": "2022-01-03T11:12:23.180Z"
   },
   {
    "duration": 17,
    "start_time": "2022-01-03T11:12:23.189Z"
   },
   {
    "duration": 15,
    "start_time": "2022-01-03T11:12:23.208Z"
   },
   {
    "duration": 12,
    "start_time": "2022-01-03T11:12:23.224Z"
   },
   {
    "duration": 25,
    "start_time": "2022-01-03T11:12:23.238Z"
   },
   {
    "duration": 17,
    "start_time": "2022-01-03T11:12:23.264Z"
   },
   {
    "duration": 6,
    "start_time": "2022-01-03T11:12:23.282Z"
   },
   {
    "duration": 19,
    "start_time": "2022-01-03T11:12:23.289Z"
   },
   {
    "duration": 4,
    "start_time": "2022-01-03T11:12:23.310Z"
   },
   {
    "duration": 18,
    "start_time": "2022-01-03T11:12:23.315Z"
   },
   {
    "duration": 27,
    "start_time": "2022-01-03T11:12:23.334Z"
   },
   {
    "duration": 10,
    "start_time": "2022-01-03T11:12:23.364Z"
   },
   {
    "duration": 4,
    "start_time": "2022-01-03T11:12:23.376Z"
   },
   {
    "duration": 12,
    "start_time": "2022-01-03T11:12:23.382Z"
   },
   {
    "duration": 8,
    "start_time": "2022-01-03T11:12:23.396Z"
   },
   {
    "duration": 14,
    "start_time": "2022-01-03T11:12:23.406Z"
   },
   {
    "duration": 9,
    "start_time": "2022-01-03T11:12:23.422Z"
   },
   {
    "duration": 33,
    "start_time": "2022-01-03T11:12:23.432Z"
   },
   {
    "duration": 8,
    "start_time": "2022-01-03T11:12:23.467Z"
   },
   {
    "duration": 18,
    "start_time": "2022-01-03T11:12:23.476Z"
   },
   {
    "duration": 10,
    "start_time": "2022-01-03T11:12:23.495Z"
   },
   {
    "duration": 16,
    "start_time": "2022-01-03T11:12:23.506Z"
   },
   {
    "duration": 10,
    "start_time": "2022-01-03T11:12:23.524Z"
   },
   {
    "duration": 24,
    "start_time": "2022-01-03T11:12:23.536Z"
   },
   {
    "duration": 5,
    "start_time": "2022-01-03T11:12:23.562Z"
   },
   {
    "duration": 13,
    "start_time": "2022-01-03T11:12:23.568Z"
   },
   {
    "duration": 6,
    "start_time": "2022-01-03T11:12:23.582Z"
   },
   {
    "duration": 16,
    "start_time": "2022-01-03T11:12:23.589Z"
   },
   {
    "duration": 13,
    "start_time": "2022-01-03T11:12:23.606Z"
   },
   {
    "duration": 3,
    "start_time": "2022-01-03T11:33:02.987Z"
   },
   {
    "duration": 752,
    "start_time": "2022-01-03T11:35:00.129Z"
   },
   {
    "duration": 737,
    "start_time": "2022-01-03T11:35:16.706Z"
   },
   {
    "duration": 695,
    "start_time": "2022-01-03T11:37:35.504Z"
   },
   {
    "duration": 1292,
    "start_time": "2022-01-03T11:37:48.129Z"
   },
   {
    "duration": 689,
    "start_time": "2022-01-03T11:37:59.457Z"
   },
   {
    "duration": 802,
    "start_time": "2022-01-03T11:38:43.630Z"
   },
   {
    "duration": 754,
    "start_time": "2022-01-03T11:38:49.622Z"
   },
   {
    "duration": 741,
    "start_time": "2022-01-03T11:38:59.445Z"
   },
   {
    "duration": 728,
    "start_time": "2022-01-03T11:40:14.443Z"
   },
   {
    "duration": 1097,
    "start_time": "2022-01-03T11:53:31.784Z"
   },
   {
    "duration": 2,
    "start_time": "2022-01-03T11:53:32.883Z"
   },
   {
    "duration": 322,
    "start_time": "2022-01-03T11:53:32.887Z"
   },
   {
    "duration": 11,
    "start_time": "2022-01-03T11:53:33.211Z"
   },
   {
    "duration": 9,
    "start_time": "2022-01-03T11:53:33.224Z"
   },
   {
    "duration": 10,
    "start_time": "2022-01-03T11:53:33.235Z"
   },
   {
    "duration": 21,
    "start_time": "2022-01-03T11:53:33.246Z"
   },
   {
    "duration": 7,
    "start_time": "2022-01-03T11:53:33.269Z"
   },
   {
    "duration": 19,
    "start_time": "2022-01-03T11:53:33.278Z"
   },
   {
    "duration": 20,
    "start_time": "2022-01-03T11:53:33.299Z"
   },
   {
    "duration": 47,
    "start_time": "2022-01-03T11:53:33.321Z"
   },
   {
    "duration": 6,
    "start_time": "2022-01-03T11:53:33.369Z"
   },
   {
    "duration": 12,
    "start_time": "2022-01-03T11:53:33.377Z"
   },
   {
    "duration": 10,
    "start_time": "2022-01-03T11:53:33.391Z"
   },
   {
    "duration": 15,
    "start_time": "2022-01-03T11:53:33.402Z"
   },
   {
    "duration": 52,
    "start_time": "2022-01-03T11:53:33.419Z"
   },
   {
    "duration": 14,
    "start_time": "2022-01-03T11:53:33.473Z"
   },
   {
    "duration": 10,
    "start_time": "2022-01-03T11:53:33.488Z"
   },
   {
    "duration": 8,
    "start_time": "2022-01-03T11:53:33.500Z"
   },
   {
    "duration": 6,
    "start_time": "2022-01-03T11:53:33.510Z"
   },
   {
    "duration": 12,
    "start_time": "2022-01-03T11:53:33.518Z"
   },
   {
    "duration": 14,
    "start_time": "2022-01-03T11:53:33.561Z"
   },
   {
    "duration": 11,
    "start_time": "2022-01-03T11:53:33.579Z"
   },
   {
    "duration": 10,
    "start_time": "2022-01-03T11:53:33.592Z"
   },
   {
    "duration": 19,
    "start_time": "2022-01-03T11:53:33.604Z"
   },
   {
    "duration": 41,
    "start_time": "2022-01-03T11:53:33.624Z"
   },
   {
    "duration": 11,
    "start_time": "2022-01-03T11:53:33.667Z"
   },
   {
    "duration": 12,
    "start_time": "2022-01-03T11:53:33.680Z"
   },
   {
    "duration": 10,
    "start_time": "2022-01-03T11:53:33.693Z"
   },
   {
    "duration": 12,
    "start_time": "2022-01-03T11:53:33.705Z"
   },
   {
    "duration": 5,
    "start_time": "2022-01-03T11:53:33.718Z"
   },
   {
    "duration": 45,
    "start_time": "2022-01-03T11:53:33.725Z"
   },
   {
    "duration": 14,
    "start_time": "2022-01-03T11:53:33.772Z"
   },
   {
    "duration": 5,
    "start_time": "2022-01-03T11:53:33.788Z"
   },
   {
    "duration": 7,
    "start_time": "2022-01-03T11:53:33.794Z"
   },
   {
    "duration": 6,
    "start_time": "2022-01-03T11:53:33.803Z"
   },
   {
    "duration": 12,
    "start_time": "2022-01-03T11:53:33.811Z"
   },
   {
    "duration": 37,
    "start_time": "2022-01-03T11:53:33.825Z"
   },
   {
    "duration": 17,
    "start_time": "2022-01-03T11:53:33.863Z"
   },
   {
    "duration": 17,
    "start_time": "2022-01-03T11:53:33.882Z"
   },
   {
    "duration": 10,
    "start_time": "2022-01-03T11:53:33.900Z"
   },
   {
    "duration": 12,
    "start_time": "2022-01-03T11:53:33.911Z"
   },
   {
    "duration": 12,
    "start_time": "2022-01-03T11:53:33.961Z"
   },
   {
    "duration": 10,
    "start_time": "2022-01-03T11:53:33.975Z"
   },
   {
    "duration": 16,
    "start_time": "2022-01-03T11:53:33.986Z"
   },
   {
    "duration": 26,
    "start_time": "2022-01-03T11:53:34.003Z"
   },
   {
    "duration": 4,
    "start_time": "2022-01-03T11:53:34.061Z"
   },
   {
    "duration": 6,
    "start_time": "2022-01-03T11:53:34.066Z"
   },
   {
    "duration": 12,
    "start_time": "2022-01-03T11:53:34.074Z"
   },
   {
    "duration": 7,
    "start_time": "2022-01-03T11:53:34.087Z"
   },
   {
    "duration": 19,
    "start_time": "2022-01-03T11:53:34.096Z"
   },
   {
    "duration": 7,
    "start_time": "2022-01-03T11:53:34.117Z"
   },
   {
    "duration": 36,
    "start_time": "2022-01-03T11:53:34.126Z"
   },
   {
    "duration": 15,
    "start_time": "2022-01-03T11:53:34.164Z"
   },
   {
    "duration": 8,
    "start_time": "2022-01-03T11:53:34.180Z"
   },
   {
    "duration": 10,
    "start_time": "2022-01-03T11:53:34.189Z"
   },
   {
    "duration": 19,
    "start_time": "2022-01-03T11:53:34.200Z"
   },
   {
    "duration": 43,
    "start_time": "2022-01-03T11:53:34.220Z"
   },
   {
    "duration": 6,
    "start_time": "2022-01-03T11:53:34.265Z"
   },
   {
    "duration": 14,
    "start_time": "2022-01-03T11:53:34.272Z"
   },
   {
    "duration": 8,
    "start_time": "2022-01-03T11:53:34.287Z"
   },
   {
    "duration": 11,
    "start_time": "2022-01-03T11:53:34.297Z"
   },
   {
    "duration": 3,
    "start_time": "2022-01-03T11:53:34.310Z"
   },
   {
    "duration": 10,
    "start_time": "2022-01-03T11:53:34.314Z"
   },
   {
    "duration": 45,
    "start_time": "2022-01-03T11:53:34.326Z"
   },
   {
    "duration": 8,
    "start_time": "2022-01-03T11:53:34.373Z"
   },
   {
    "duration": 11,
    "start_time": "2022-01-03T11:53:34.383Z"
   },
   {
    "duration": 3,
    "start_time": "2022-01-03T11:53:34.401Z"
   },
   {
    "duration": 12,
    "start_time": "2022-01-03T11:53:34.407Z"
   },
   {
    "duration": 42,
    "start_time": "2022-01-03T11:53:34.420Z"
   },
   {
    "duration": 11,
    "start_time": "2022-01-03T11:53:34.464Z"
   },
   {
    "duration": 11,
    "start_time": "2022-01-03T11:53:34.477Z"
   },
   {
    "duration": 4,
    "start_time": "2022-01-03T11:53:34.490Z"
   },
   {
    "duration": 8,
    "start_time": "2022-01-03T11:53:34.495Z"
   },
   {
    "duration": 10,
    "start_time": "2022-01-03T11:53:34.504Z"
   },
   {
    "duration": 3,
    "start_time": "2022-01-03T11:53:34.516Z"
   },
   {
    "duration": 41,
    "start_time": "2022-01-03T11:53:34.521Z"
   },
   {
    "duration": 7,
    "start_time": "2022-01-03T11:53:34.563Z"
   },
   {
    "duration": 7,
    "start_time": "2022-01-03T11:53:34.572Z"
   },
   {
    "duration": 6,
    "start_time": "2022-01-03T11:53:34.580Z"
   },
   {
    "duration": 3125,
    "start_time": "2022-01-03T11:53:34.587Z"
   },
   {
    "duration": 5,
    "start_time": "2022-01-03T11:53:37.714Z"
   },
   {
    "duration": 3244,
    "start_time": "2022-01-03T11:53:37.720Z"
   },
   {
    "duration": 15,
    "start_time": "2022-01-03T11:53:40.965Z"
   },
   {
    "duration": 5,
    "start_time": "2022-01-03T11:53:40.981Z"
   },
   {
    "duration": 3328,
    "start_time": "2022-01-03T11:53:40.987Z"
   },
   {
    "duration": 15,
    "start_time": "2022-01-03T11:53:44.317Z"
   },
   {
    "duration": 6,
    "start_time": "2022-01-03T11:53:44.334Z"
   },
   {
    "duration": 5625,
    "start_time": "2022-01-03T11:53:44.341Z"
   },
   {
    "duration": 6,
    "start_time": "2022-01-03T11:53:49.968Z"
   },
   {
    "duration": 19,
    "start_time": "2022-01-03T11:53:49.976Z"
   },
   {
    "duration": 6,
    "start_time": "2022-01-03T11:53:49.997Z"
   },
   {
    "duration": 24,
    "start_time": "2022-01-03T11:53:50.004Z"
   },
   {
    "duration": 32,
    "start_time": "2022-01-03T11:53:50.030Z"
   },
   {
    "duration": 9,
    "start_time": "2022-01-03T11:53:50.064Z"
   },
   {
    "duration": 9,
    "start_time": "2022-01-03T11:53:50.075Z"
   },
   {
    "duration": 4,
    "start_time": "2022-01-03T11:53:50.086Z"
   },
   {
    "duration": 20,
    "start_time": "2022-01-03T11:53:50.092Z"
   },
   {
    "duration": 7,
    "start_time": "2022-01-03T11:53:50.114Z"
   },
   {
    "duration": 37,
    "start_time": "2022-01-03T11:53:50.161Z"
   },
   {
    "duration": 5,
    "start_time": "2022-01-03T11:53:50.200Z"
   },
   {
    "duration": 6,
    "start_time": "2022-01-03T11:53:50.207Z"
   },
   {
    "duration": 5,
    "start_time": "2022-01-03T11:53:50.215Z"
   },
   {
    "duration": 40,
    "start_time": "2022-01-03T11:53:50.222Z"
   },
   {
    "duration": 9,
    "start_time": "2022-01-03T11:53:50.265Z"
   },
   {
    "duration": 19,
    "start_time": "2022-01-03T11:53:50.276Z"
   },
   {
    "duration": 8,
    "start_time": "2022-01-03T11:53:50.297Z"
   },
   {
    "duration": 72,
    "start_time": "2022-01-03T11:53:50.307Z"
   },
   {
    "duration": 5,
    "start_time": "2022-01-03T11:53:50.382Z"
   },
   {
    "duration": 5,
    "start_time": "2022-01-03T11:53:50.389Z"
   },
   {
    "duration": 91,
    "start_time": "2022-01-03T11:53:50.396Z"
   },
   {
    "duration": 118,
    "start_time": "2022-01-03T11:53:50.489Z"
   },
   {
    "duration": 681,
    "start_time": "2022-01-03T11:53:50.609Z"
   },
   {
    "duration": 481,
    "start_time": "2022-01-03T11:53:51.292Z"
   },
   {
    "duration": 547,
    "start_time": "2022-01-03T11:53:51.775Z"
   },
   {
    "duration": 462,
    "start_time": "2022-01-03T11:53:52.324Z"
   },
   {
    "duration": 348,
    "start_time": "2022-01-03T11:53:52.787Z"
   },
   {
    "duration": 310,
    "start_time": "2022-01-03T11:53:53.137Z"
   },
   {
    "duration": 57446,
    "start_time": "2022-01-03T11:53:53.449Z"
   },
   {
    "duration": 11,
    "start_time": "2022-01-03T11:54:50.897Z"
   },
   {
    "duration": 10,
    "start_time": "2022-01-03T11:54:50.910Z"
   },
   {
    "duration": 45,
    "start_time": "2022-01-03T11:54:50.921Z"
   },
   {
    "duration": 9,
    "start_time": "2022-01-03T11:54:50.968Z"
   },
   {
    "duration": 7,
    "start_time": "2022-01-03T11:54:50.978Z"
   },
   {
    "duration": 11,
    "start_time": "2022-01-03T11:54:50.986Z"
   },
   {
    "duration": 64,
    "start_time": "2022-01-03T11:54:50.998Z"
   },
   {
    "duration": 14,
    "start_time": "2022-01-03T11:54:51.063Z"
   },
   {
    "duration": 9,
    "start_time": "2022-01-03T11:54:51.078Z"
   },
   {
    "duration": 19,
    "start_time": "2022-01-03T11:54:51.088Z"
   },
   {
    "duration": 4,
    "start_time": "2022-01-03T11:54:51.109Z"
   },
   {
    "duration": 48,
    "start_time": "2022-01-03T11:54:51.115Z"
   },
   {
    "duration": 4,
    "start_time": "2022-01-03T11:54:51.165Z"
   },
   {
    "duration": 21,
    "start_time": "2022-01-03T11:54:51.171Z"
   },
   {
    "duration": 3,
    "start_time": "2022-01-03T11:54:51.193Z"
   },
   {
    "duration": 12,
    "start_time": "2022-01-03T11:54:51.198Z"
   },
   {
    "duration": 13,
    "start_time": "2022-01-03T11:54:51.212Z"
   },
   {
    "duration": 11,
    "start_time": "2022-01-03T11:54:51.226Z"
   },
   {
    "duration": 11,
    "start_time": "2022-01-03T11:54:51.239Z"
   },
   {
    "duration": 12,
    "start_time": "2022-01-03T11:54:51.252Z"
   },
   {
    "duration": 11,
    "start_time": "2022-01-03T11:54:51.265Z"
   },
   {
    "duration": 13,
    "start_time": "2022-01-03T11:54:51.277Z"
   },
   {
    "duration": 8,
    "start_time": "2022-01-03T11:54:51.292Z"
   },
   {
    "duration": 60,
    "start_time": "2022-01-03T11:54:51.302Z"
   },
   {
    "duration": 13,
    "start_time": "2022-01-03T11:54:51.364Z"
   },
   {
    "duration": 20,
    "start_time": "2022-01-03T11:54:51.379Z"
   },
   {
    "duration": 12,
    "start_time": "2022-01-03T11:54:51.400Z"
   },
   {
    "duration": 52,
    "start_time": "2022-01-03T11:54:51.414Z"
   },
   {
    "duration": 14,
    "start_time": "2022-01-03T11:54:51.468Z"
   },
   {
    "duration": 20,
    "start_time": "2022-01-03T11:54:51.483Z"
   },
   {
    "duration": 11,
    "start_time": "2022-01-03T11:54:51.504Z"
   },
   {
    "duration": 54,
    "start_time": "2022-01-03T11:54:51.516Z"
   },
   {
    "duration": 13,
    "start_time": "2022-01-03T11:54:51.572Z"
   },
   {
    "duration": 1182,
    "start_time": "2022-01-03T11:54:51.586Z"
   },
   {
    "duration": 1508,
    "start_time": "2022-01-03T17:46:15.196Z"
   },
   {
    "duration": 3,
    "start_time": "2022-01-03T17:46:16.707Z"
   },
   {
    "duration": 380,
    "start_time": "2022-01-03T17:46:16.867Z"
   },
   {
    "duration": 18,
    "start_time": "2022-01-03T17:46:19.067Z"
   },
   {
    "duration": 10,
    "start_time": "2022-01-03T17:46:22.942Z"
   },
   {
    "duration": 13,
    "start_time": "2022-01-03T17:46:23.739Z"
   },
   {
    "duration": 18,
    "start_time": "2022-01-03T17:46:25.168Z"
   },
   {
    "duration": 13,
    "start_time": "2022-01-03T17:46:26.058Z"
   },
   {
    "duration": 22,
    "start_time": "2022-01-03T17:46:31.865Z"
   },
   {
    "duration": 40,
    "start_time": "2022-01-03T17:46:33.779Z"
   },
   {
    "duration": 29,
    "start_time": "2022-01-03T17:46:34.536Z"
   },
   {
    "duration": 7,
    "start_time": "2022-01-03T17:46:36.882Z"
   },
   {
    "duration": 16,
    "start_time": "2022-01-03T17:46:43.031Z"
   },
   {
    "duration": 19,
    "start_time": "2022-01-03T17:46:43.049Z"
   },
   {
    "duration": 20,
    "start_time": "2022-01-03T17:46:43.070Z"
   },
   {
    "duration": 32,
    "start_time": "2022-01-03T17:46:45.710Z"
   },
   {
    "duration": 20,
    "start_time": "2022-01-03T17:46:46.303Z"
   },
   {
    "duration": 14,
    "start_time": "2022-01-03T17:46:47.028Z"
   },
   {
    "duration": 9,
    "start_time": "2022-01-03T17:46:48.127Z"
   },
   {
    "duration": 8,
    "start_time": "2022-01-03T17:46:51.059Z"
   },
   {
    "duration": 15,
    "start_time": "2022-01-03T17:46:53.115Z"
   },
   {
    "duration": 8,
    "start_time": "2022-01-03T17:46:56.891Z"
   },
   {
    "duration": 14,
    "start_time": "2022-01-03T17:46:59.138Z"
   },
   {
    "duration": 18,
    "start_time": "2022-01-03T17:47:00.131Z"
   },
   {
    "duration": 15,
    "start_time": "2022-01-03T17:47:00.853Z"
   },
   {
    "duration": 13,
    "start_time": "2022-01-03T17:47:01.209Z"
   },
   {
    "duration": 23,
    "start_time": "2022-01-03T17:47:37.994Z"
   },
   {
    "duration": 17,
    "start_time": "2022-01-03T17:47:38.682Z"
   },
   {
    "duration": 16,
    "start_time": "2022-01-03T17:47:39.939Z"
   },
   {
    "duration": 13,
    "start_time": "2022-01-03T17:47:40.580Z"
   },
   {
    "duration": 21,
    "start_time": "2022-01-03T17:47:42.533Z"
   },
   {
    "duration": 9,
    "start_time": "2022-01-03T17:47:43.111Z"
   },
   {
    "duration": 5,
    "start_time": "2022-01-03T17:47:43.749Z"
   },
   {
    "duration": 19,
    "start_time": "2022-01-03T17:47:44.339Z"
   },
   {
    "duration": 18,
    "start_time": "2022-01-03T17:47:44.804Z"
   },
   {
    "duration": 6,
    "start_time": "2022-01-03T17:47:45.159Z"
   },
   {
    "duration": 12,
    "start_time": "2022-01-03T17:47:45.483Z"
   },
   {
    "duration": 4,
    "start_time": "2022-01-03T17:47:46.083Z"
   },
   {
    "duration": 19,
    "start_time": "2022-01-03T17:47:47.236Z"
   },
   {
    "duration": 6,
    "start_time": "2022-01-03T17:47:47.591Z"
   },
   {
    "duration": 19,
    "start_time": "2022-01-03T17:47:48.117Z"
   },
   {
    "duration": 22,
    "start_time": "2022-01-03T17:47:48.411Z"
   },
   {
    "duration": 14,
    "start_time": "2022-01-03T17:47:48.770Z"
   },
   {
    "duration": 20,
    "start_time": "2022-01-03T17:47:49.648Z"
   },
   {
    "duration": 18,
    "start_time": "2022-01-03T17:47:50.569Z"
   },
   {
    "duration": 14,
    "start_time": "2022-01-03T17:47:51.029Z"
   },
   {
    "duration": 26,
    "start_time": "2022-01-03T17:47:51.419Z"
   },
   {
    "duration": 38,
    "start_time": "2022-01-03T17:47:54.013Z"
   },
   {
    "duration": 5,
    "start_time": "2022-01-03T17:47:54.306Z"
   },
   {
    "duration": 7,
    "start_time": "2022-01-03T17:47:54.635Z"
   },
   {
    "duration": 19,
    "start_time": "2022-01-03T17:47:55.035Z"
   },
   {
    "duration": 11,
    "start_time": "2022-01-03T17:47:55.844Z"
   },
   {
    "duration": 26,
    "start_time": "2022-01-03T17:47:56.226Z"
   },
   {
    "duration": 11,
    "start_time": "2022-01-03T17:47:56.636Z"
   },
   {
    "duration": 5,
    "start_time": "2022-01-03T17:47:57.012Z"
   },
   {
    "duration": 19,
    "start_time": "2022-01-03T17:47:57.373Z"
   },
   {
    "duration": 6,
    "start_time": "2022-01-03T17:47:57.842Z"
   },
   {
    "duration": 15,
    "start_time": "2022-01-03T17:47:58.185Z"
   },
   {
    "duration": 22,
    "start_time": "2022-01-03T17:47:58.582Z"
   },
   {
    "duration": 18,
    "start_time": "2022-01-03T17:47:58.947Z"
   },
   {
    "duration": 6,
    "start_time": "2022-01-03T17:47:59.369Z"
   },
   {
    "duration": 17,
    "start_time": "2022-01-03T17:47:59.700Z"
   },
   {
    "duration": 13,
    "start_time": "2022-01-03T17:48:00.086Z"
   },
   {
    "duration": 16,
    "start_time": "2022-01-03T17:48:04.797Z"
   },
   {
    "duration": 4,
    "start_time": "2022-01-03T17:48:05.474Z"
   },
   {
    "duration": 19,
    "start_time": "2022-01-03T17:48:06.138Z"
   },
   {
    "duration": 19,
    "start_time": "2022-01-03T17:48:07.107Z"
   },
   {
    "duration": 13,
    "start_time": "2022-01-03T17:48:07.874Z"
   },
   {
    "duration": 23,
    "start_time": "2022-01-03T17:48:08.951Z"
   },
   {
    "duration": 5,
    "start_time": "2022-01-03T17:48:10.154Z"
   },
   {
    "duration": 27,
    "start_time": "2022-01-03T17:48:11.115Z"
   },
   {
    "duration": 14,
    "start_time": "2022-01-03T17:48:13.139Z"
   },
   {
    "duration": 18,
    "start_time": "2022-01-03T17:48:13.860Z"
   },
   {
    "duration": 24,
    "start_time": "2022-01-03T17:48:14.588Z"
   },
   {
    "duration": 6,
    "start_time": "2022-01-03T17:48:15.096Z"
   },
   {
    "duration": 10,
    "start_time": "2022-01-03T17:48:15.529Z"
   },
   {
    "duration": 17,
    "start_time": "2022-01-03T17:48:16.267Z"
   },
   {
    "duration": 5,
    "start_time": "2022-01-03T17:48:17.772Z"
   },
   {
    "duration": 14,
    "start_time": "2022-01-03T17:48:19.179Z"
   },
   {
    "duration": 9,
    "start_time": "2022-01-03T17:48:19.897Z"
   },
   {
    "duration": 10,
    "start_time": "2022-01-03T17:48:21.787Z"
   },
   {
    "duration": 5,
    "start_time": "2022-01-03T17:48:24.532Z"
   },
   {
    "duration": 5958,
    "start_time": "2022-01-03T17:48:25.138Z"
   },
   {
    "duration": 5,
    "start_time": "2022-01-03T17:48:31.100Z"
   },
   {
    "duration": 5403,
    "start_time": "2022-01-03T17:48:31.108Z"
   },
   {
    "duration": 24,
    "start_time": "2022-01-03T17:48:36.513Z"
   },
   {
    "duration": 21,
    "start_time": "2022-01-03T17:48:36.539Z"
   },
   {
    "duration": 6237,
    "start_time": "2022-01-03T17:48:36.563Z"
   },
   {
    "duration": 37,
    "start_time": "2022-01-03T17:48:42.803Z"
   },
   {
    "duration": 23,
    "start_time": "2022-01-03T17:48:42.845Z"
   },
   {
    "duration": 12189,
    "start_time": "2022-01-03T17:48:42.871Z"
   },
   {
    "duration": 9,
    "start_time": "2022-01-03T17:48:55.063Z"
   },
   {
    "duration": 30,
    "start_time": "2022-01-03T17:48:55.075Z"
   },
   {
    "duration": 10090,
    "start_time": "2022-01-03T17:51:08.138Z"
   },
   {
    "duration": 23,
    "start_time": "2022-01-03T17:51:22.724Z"
   },
   {
    "duration": 17,
    "start_time": "2022-01-03T17:52:43.057Z"
   },
   {
    "duration": 11830,
    "start_time": "2022-01-03T17:52:44.917Z"
   },
   {
    "duration": 30,
    "start_time": "2022-01-03T17:52:58.378Z"
   },
   {
    "duration": 9,
    "start_time": "2022-01-03T17:53:10.807Z"
   },
   {
    "duration": 27,
    "start_time": "2022-01-03T17:53:11.602Z"
   },
   {
    "duration": 16,
    "start_time": "2022-01-03T17:53:12.377Z"
   },
   {
    "duration": 11,
    "start_time": "2022-01-03T17:53:13.054Z"
   },
   {
    "duration": 15,
    "start_time": "2022-01-03T17:53:14.096Z"
   },
   {
    "duration": 8,
    "start_time": "2022-01-03T17:53:17.388Z"
   },
   {
    "duration": 34,
    "start_time": "2022-01-03T17:53:26.106Z"
   },
   {
    "duration": 9,
    "start_time": "2022-01-03T17:53:27.096Z"
   },
   {
    "duration": 59,
    "start_time": "2022-01-03T17:53:28.029Z"
   },
   {
    "duration": 6,
    "start_time": "2022-01-03T17:53:40.791Z"
   },
   {
    "duration": 6,
    "start_time": "2022-01-03T17:53:41.652Z"
   },
   {
    "duration": 6,
    "start_time": "2022-01-03T17:53:42.659Z"
   },
   {
    "duration": 6,
    "start_time": "2022-01-03T17:53:43.755Z"
   },
   {
    "duration": 7,
    "start_time": "2022-01-03T17:53:50.296Z"
   },
   {
    "duration": 28,
    "start_time": "2022-01-03T17:53:51.017Z"
   },
   {
    "duration": 10,
    "start_time": "2022-01-03T17:53:52.379Z"
   },
   {
    "duration": 61,
    "start_time": "2022-01-03T17:53:53.487Z"
   },
   {
    "duration": 6,
    "start_time": "2022-01-03T17:53:54.807Z"
   },
   {
    "duration": 66,
    "start_time": "2022-01-03T17:54:00.652Z"
   },
   {
    "duration": 6,
    "start_time": "2022-01-03T17:54:11.818Z"
   },
   {
    "duration": 6,
    "start_time": "2022-01-03T17:54:12.608Z"
   },
   {
    "duration": 6,
    "start_time": "2022-01-03T17:54:13.289Z"
   },
   {
    "duration": 6,
    "start_time": "2022-01-03T17:54:15.729Z"
   },
   {
    "duration": 1142,
    "start_time": "2022-01-03T17:54:55.054Z"
   },
   {
    "duration": 776,
    "start_time": "2022-01-03T17:54:57.891Z"
   },
   {
    "duration": 734,
    "start_time": "2022-01-03T17:54:59.436Z"
   },
   {
    "duration": 720,
    "start_time": "2022-01-03T17:55:01.559Z"
   },
   {
    "duration": 504,
    "start_time": "2022-01-03T17:55:32.250Z"
   },
   {
    "duration": 473,
    "start_time": "2022-01-03T17:55:33.261Z"
   },
   {
    "duration": 455,
    "start_time": "2022-01-03T17:55:51.036Z"
   },
   {
    "duration": 832,
    "start_time": "2022-01-03T17:59:34.061Z"
   },
   {
    "duration": 22,
    "start_time": "2022-01-03T17:59:59.883Z"
   },
   {
    "duration": 6,
    "start_time": "2022-01-03T18:00:00.464Z"
   },
   {
    "duration": 19,
    "start_time": "2022-01-03T18:00:01.059Z"
   },
   {
    "duration": 16,
    "start_time": "2022-01-03T18:00:01.713Z"
   },
   {
    "duration": 5,
    "start_time": "2022-01-03T18:00:02.402Z"
   },
   {
    "duration": 12,
    "start_time": "2022-01-03T18:00:03.069Z"
   },
   {
    "duration": 24,
    "start_time": "2022-01-03T18:00:04.353Z"
   },
   {
    "duration": 22,
    "start_time": "2022-01-03T18:00:05.117Z"
   },
   {
    "duration": 7,
    "start_time": "2022-01-03T18:00:10.917Z"
   },
   {
    "duration": 26,
    "start_time": "2022-01-03T18:00:16.902Z"
   },
   {
    "duration": 6,
    "start_time": "2022-01-03T18:00:17.710Z"
   },
   {
    "duration": 25,
    "start_time": "2022-01-03T18:00:18.500Z"
   },
   {
    "duration": 7,
    "start_time": "2022-01-03T18:00:19.522Z"
   },
   {
    "duration": 25,
    "start_time": "2022-01-03T18:00:20.257Z"
   },
   {
    "duration": 6,
    "start_time": "2022-01-03T18:00:21.661Z"
   },
   {
    "duration": 13,
    "start_time": "2022-01-03T18:00:22.364Z"
   },
   {
    "duration": 7,
    "start_time": "2022-01-03T18:00:23.619Z"
   },
   {
    "duration": 14,
    "start_time": "2022-01-03T18:00:24.612Z"
   },
   {
    "duration": 10,
    "start_time": "2022-01-03T18:00:25.657Z"
   },
   {
    "duration": 17,
    "start_time": "2022-01-03T18:00:26.336Z"
   },
   {
    "duration": 10,
    "start_time": "2022-01-03T18:00:26.891Z"
   },
   {
    "duration": 11,
    "start_time": "2022-01-03T18:00:27.349Z"
   },
   {
    "duration": 8,
    "start_time": "2022-01-03T18:00:27.938Z"
   },
   {
    "duration": 18,
    "start_time": "2022-01-03T18:00:28.596Z"
   },
   {
    "duration": 10,
    "start_time": "2022-01-03T18:00:30.051Z"
   },
   {
    "duration": 21,
    "start_time": "2022-01-03T18:00:31.045Z"
   },
   {
    "duration": 11,
    "start_time": "2022-01-03T18:00:32.074Z"
   },
   {
    "duration": 23,
    "start_time": "2022-01-03T18:00:33.130Z"
   },
   {
    "duration": 9,
    "start_time": "2022-01-03T18:00:33.900Z"
   },
   {
    "duration": 18,
    "start_time": "2022-01-03T18:00:34.723Z"
   },
   {
    "duration": 8,
    "start_time": "2022-01-03T18:00:38.099Z"
   },
   {
    "duration": 22,
    "start_time": "2022-01-03T18:00:48.172Z"
   },
   {
    "duration": 21,
    "start_time": "2022-01-03T18:00:49.324Z"
   },
   {
    "duration": 6,
    "start_time": "2022-01-03T18:01:32.749Z"
   },
   {
    "duration": 6,
    "start_time": "2022-01-03T18:02:00.188Z"
   },
   {
    "duration": 4,
    "start_time": "2022-01-03T18:20:44.693Z"
   },
   {
    "duration": 4,
    "start_time": "2022-01-03T18:20:45.399Z"
   },
   {
    "duration": 567,
    "start_time": "2022-01-03T18:20:45.951Z"
   },
   {
    "duration": 18,
    "start_time": "2022-01-03T18:20:46.876Z"
   },
   {
    "duration": 16,
    "start_time": "2022-01-03T18:20:47.316Z"
   },
   {
    "duration": 20,
    "start_time": "2022-01-03T18:20:47.737Z"
   },
   {
    "duration": 25,
    "start_time": "2022-01-03T18:20:48.023Z"
   },
   {
    "duration": 12,
    "start_time": "2022-01-03T18:20:48.305Z"
   },
   {
    "duration": 23,
    "start_time": "2022-01-03T18:20:49.239Z"
   },
   {
    "duration": 27,
    "start_time": "2022-01-03T18:20:49.572Z"
   },
   {
    "duration": 29,
    "start_time": "2022-01-03T18:20:49.809Z"
   },
   {
    "duration": 5,
    "start_time": "2022-01-03T18:20:50.519Z"
   },
   {
    "duration": 16,
    "start_time": "2022-01-03T18:20:51.111Z"
   },
   {
    "duration": 12,
    "start_time": "2022-01-03T18:20:51.384Z"
   },
   {
    "duration": 55,
    "start_time": "2022-01-03T18:20:51.739Z"
   },
   {
    "duration": 99,
    "start_time": "2022-01-03T18:20:52.035Z"
   },
   {
    "duration": 18,
    "start_time": "2022-01-03T18:20:52.372Z"
   },
   {
    "duration": 14,
    "start_time": "2022-01-03T18:20:52.670Z"
   },
   {
    "duration": 9,
    "start_time": "2022-01-03T18:20:52.960Z"
   },
   {
    "duration": 8,
    "start_time": "2022-01-03T18:20:53.578Z"
   },
   {
    "duration": 23,
    "start_time": "2022-01-03T18:20:54.244Z"
   },
   {
    "duration": 27,
    "start_time": "2022-01-03T18:20:54.567Z"
   },
   {
    "duration": 16,
    "start_time": "2022-01-03T18:20:54.889Z"
   },
   {
    "duration": 14,
    "start_time": "2022-01-03T18:20:55.212Z"
   },
   {
    "duration": 23,
    "start_time": "2022-01-03T18:20:55.868Z"
   },
   {
    "duration": 24,
    "start_time": "2022-01-03T18:20:56.199Z"
   },
   {
    "duration": 23,
    "start_time": "2022-01-03T18:20:56.846Z"
   },
   {
    "duration": 19,
    "start_time": "2022-01-03T18:20:57.145Z"
   },
   {
    "duration": 16,
    "start_time": "2022-01-03T18:20:57.758Z"
   },
   {
    "duration": 11,
    "start_time": "2022-01-03T18:20:58.168Z"
   },
   {
    "duration": 5,
    "start_time": "2022-01-03T18:20:58.503Z"
   },
   {
    "duration": 32,
    "start_time": "2022-01-03T18:20:58.829Z"
   },
   {
    "duration": 17,
    "start_time": "2022-01-03T18:20:59.121Z"
   },
   {
    "duration": 6,
    "start_time": "2022-01-03T18:20:59.427Z"
   },
   {
    "duration": 8,
    "start_time": "2022-01-03T18:20:59.737Z"
   },
   {
    "duration": 4,
    "start_time": "2022-01-03T18:21:00.075Z"
   },
   {
    "duration": 23,
    "start_time": "2022-01-03T18:21:00.555Z"
   },
   {
    "duration": 8,
    "start_time": "2022-01-03T18:21:00.837Z"
   },
   {
    "duration": 26,
    "start_time": "2022-01-03T18:21:01.107Z"
   },
   {
    "duration": 33,
    "start_time": "2022-01-03T18:21:01.990Z"
   },
   {
    "duration": 20,
    "start_time": "2022-01-03T18:21:02.298Z"
   },
   {
    "duration": 19,
    "start_time": "2022-01-03T18:21:02.685Z"
   },
   {
    "duration": 16,
    "start_time": "2022-01-03T18:21:03.719Z"
   },
   {
    "duration": 14,
    "start_time": "2022-01-03T18:21:03.999Z"
   },
   {
    "duration": 27,
    "start_time": "2022-01-03T18:21:04.312Z"
   },
   {
    "duration": 36,
    "start_time": "2022-01-03T18:21:06.363Z"
   },
   {
    "duration": 5,
    "start_time": "2022-01-03T18:21:06.656Z"
   },
   {
    "duration": 8,
    "start_time": "2022-01-03T18:21:06.949Z"
   },
   {
    "duration": 20,
    "start_time": "2022-01-03T18:21:07.254Z"
   },
   {
    "duration": 12,
    "start_time": "2022-01-03T18:21:07.845Z"
   },
   {
    "duration": 27,
    "start_time": "2022-01-03T18:21:08.120Z"
   },
   {
    "duration": 11,
    "start_time": "2022-01-03T18:21:08.462Z"
   },
   {
    "duration": 7,
    "start_time": "2022-01-03T18:21:10.145Z"
   },
   {
    "duration": 22,
    "start_time": "2022-01-03T18:21:10.155Z"
   },
   {
    "duration": 9,
    "start_time": "2022-01-03T18:21:10.181Z"
   },
   {
    "duration": 15,
    "start_time": "2022-01-03T18:21:10.193Z"
   },
   {
    "duration": 25,
    "start_time": "2022-01-03T18:21:10.353Z"
   },
   {
    "duration": 19,
    "start_time": "2022-01-03T18:21:10.558Z"
   },
   {
    "duration": 7,
    "start_time": "2022-01-03T18:21:10.847Z"
   },
   {
    "duration": 14,
    "start_time": "2022-01-03T18:21:11.426Z"
   },
   {
    "duration": 5,
    "start_time": "2022-01-03T18:21:12.256Z"
   },
   {
    "duration": 17,
    "start_time": "2022-01-03T18:21:12.267Z"
   },
   {
    "duration": 4,
    "start_time": "2022-01-03T18:21:12.975Z"
   },
   {
    "duration": 13,
    "start_time": "2022-01-03T18:21:13.333Z"
   },
   {
    "duration": 23,
    "start_time": "2022-01-03T18:21:13.746Z"
   },
   {
    "duration": 15,
    "start_time": "2022-01-03T18:21:14.042Z"
   },
   {
    "duration": 22,
    "start_time": "2022-01-03T18:21:14.397Z"
   },
   {
    "duration": 5,
    "start_time": "2022-01-03T18:21:14.682Z"
   },
   {
    "duration": 20,
    "start_time": "2022-01-03T18:21:14.915Z"
   },
   {
    "duration": 11,
    "start_time": "2022-01-03T18:21:16.571Z"
   },
   {
    "duration": 26,
    "start_time": "2022-01-03T18:21:16.586Z"
   },
   {
    "duration": 42,
    "start_time": "2022-01-03T18:21:16.617Z"
   },
   {
    "duration": 6,
    "start_time": "2022-01-03T18:21:16.958Z"
   },
   {
    "duration": 15,
    "start_time": "2022-01-03T18:21:16.967Z"
   },
   {
    "duration": 18,
    "start_time": "2022-01-03T18:21:16.985Z"
   },
   {
    "duration": 7,
    "start_time": "2022-01-03T18:21:17.486Z"
   },
   {
    "duration": 12,
    "start_time": "2022-01-03T18:21:17.736Z"
   },
   {
    "duration": 12,
    "start_time": "2022-01-03T18:21:19.105Z"
   },
   {
    "duration": 10,
    "start_time": "2022-01-03T18:21:19.120Z"
   },
   {
    "duration": 7,
    "start_time": "2022-01-03T18:21:20.256Z"
   },
   {
    "duration": 7954,
    "start_time": "2022-01-03T18:21:20.605Z"
   },
   {
    "duration": 7,
    "start_time": "2022-01-03T18:21:28.562Z"
   },
   {
    "duration": 5698,
    "start_time": "2022-01-03T18:21:28.572Z"
   },
   {
    "duration": 26,
    "start_time": "2022-01-03T18:21:34.272Z"
   },
   {
    "duration": 7,
    "start_time": "2022-01-03T18:21:34.302Z"
   },
   {
    "duration": 5656,
    "start_time": "2022-01-03T18:21:34.312Z"
   },
   {
    "duration": 24,
    "start_time": "2022-01-03T18:21:39.970Z"
   },
   {
    "duration": 16,
    "start_time": "2022-01-03T18:21:39.999Z"
   },
   {
    "duration": 10574,
    "start_time": "2022-01-03T18:21:40.018Z"
   },
   {
    "duration": 26,
    "start_time": "2022-01-03T18:21:50.595Z"
   },
   {
    "duration": 35,
    "start_time": "2022-01-03T18:21:50.624Z"
   },
   {
    "duration": 26,
    "start_time": "2022-01-03T18:21:50.662Z"
   },
   {
    "duration": 11,
    "start_time": "2022-01-03T18:21:50.690Z"
   },
   {
    "duration": 13,
    "start_time": "2022-01-03T18:21:50.703Z"
   },
   {
    "duration": 13,
    "start_time": "2022-01-03T18:21:50.759Z"
   },
   {
    "duration": 5,
    "start_time": "2022-01-03T18:21:50.775Z"
   },
   {
    "duration": 25,
    "start_time": "2022-01-03T18:21:50.783Z"
   },
   {
    "duration": 55,
    "start_time": "2022-01-03T18:21:50.810Z"
   },
   {
    "duration": 62,
    "start_time": "2022-01-03T18:21:50.867Z"
   },
   {
    "duration": 7,
    "start_time": "2022-01-03T18:23:44.656Z"
   },
   {
    "duration": 6,
    "start_time": "2022-01-03T18:23:45.601Z"
   },
   {
    "duration": 7,
    "start_time": "2022-01-03T18:23:46.632Z"
   },
   {
    "duration": 6,
    "start_time": "2022-01-03T18:23:47.478Z"
   },
   {
    "duration": 6,
    "start_time": "2022-01-03T18:23:50.172Z"
   },
   {
    "duration": 29,
    "start_time": "2022-01-03T18:23:50.862Z"
   },
   {
    "duration": 11,
    "start_time": "2022-01-03T18:23:58.300Z"
   },
   {
    "duration": 97,
    "start_time": "2022-01-03T18:23:58.990Z"
   },
   {
    "duration": 7,
    "start_time": "2022-01-03T18:23:59.823Z"
   },
   {
    "duration": 6,
    "start_time": "2022-01-03T18:24:00.500Z"
   },
   {
    "duration": 6,
    "start_time": "2022-01-03T18:24:01.532Z"
   },
   {
    "duration": 6,
    "start_time": "2022-01-03T18:24:02.476Z"
   },
   {
    "duration": 1239,
    "start_time": "2022-01-03T18:24:08.282Z"
   },
   {
    "duration": 1073,
    "start_time": "2022-01-03T18:24:09.857Z"
   },
   {
    "duration": 1129,
    "start_time": "2022-01-03T18:24:11.516Z"
   },
   {
    "duration": 899,
    "start_time": "2022-01-03T18:24:14.360Z"
   },
   {
    "duration": 519,
    "start_time": "2022-01-03T18:24:16.258Z"
   },
   {
    "duration": 475,
    "start_time": "2022-01-03T18:24:17.694Z"
   },
   {
    "duration": 32,
    "start_time": "2022-01-03T18:24:22.985Z"
   },
   {
    "duration": 15,
    "start_time": "2022-01-03T18:24:33.828Z"
   },
   {
    "duration": 5,
    "start_time": "2022-01-03T18:24:35.367Z"
   },
   {
    "duration": 13,
    "start_time": "2022-01-03T18:24:36.233Z"
   },
   {
    "duration": 20,
    "start_time": "2022-01-03T18:24:37.115Z"
   },
   {
    "duration": 6,
    "start_time": "2022-01-03T18:24:38.117Z"
   },
   {
    "duration": 18,
    "start_time": "2022-01-03T18:24:39.156Z"
   },
   {
    "duration": 22,
    "start_time": "2022-01-03T18:24:42.517Z"
   },
   {
    "duration": 20,
    "start_time": "2022-01-03T18:24:42.542Z"
   },
   {
    "duration": 7,
    "start_time": "2022-01-03T18:24:48.526Z"
   },
   {
    "duration": 27,
    "start_time": "2022-01-03T18:24:54.895Z"
   },
   {
    "duration": 8,
    "start_time": "2022-01-03T18:24:55.600Z"
   },
   {
    "duration": 26,
    "start_time": "2022-01-03T18:24:56.477Z"
   },
   {
    "duration": 9,
    "start_time": "2022-01-03T18:24:57.312Z"
   },
   {
    "duration": 41,
    "start_time": "2022-01-03T18:24:57.945Z"
   },
   {
    "duration": 5,
    "start_time": "2022-01-03T18:25:00.580Z"
   },
   {
    "duration": 19,
    "start_time": "2022-01-03T18:25:01.374Z"
   },
   {
    "duration": 7,
    "start_time": "2022-01-03T18:25:03.196Z"
   },
   {
    "duration": 13,
    "start_time": "2022-01-03T18:25:04.388Z"
   },
   {
    "duration": 9,
    "start_time": "2022-01-03T18:25:05.558Z"
   },
   {
    "duration": 16,
    "start_time": "2022-01-03T18:25:06.651Z"
   },
   {
    "duration": 8,
    "start_time": "2022-01-03T18:25:07.534Z"
   },
   {
    "duration": 11,
    "start_time": "2022-01-03T18:25:08.401Z"
   },
   {
    "duration": 7,
    "start_time": "2022-01-03T18:25:09.223Z"
   },
   {
    "duration": 18,
    "start_time": "2022-01-03T18:25:10.060Z"
   },
   {
    "duration": 9,
    "start_time": "2022-01-03T18:25:11.222Z"
   },
   {
    "duration": 18,
    "start_time": "2022-01-03T18:25:12.380Z"
   },
   {
    "duration": 8,
    "start_time": "2022-01-03T18:25:13.406Z"
   },
   {
    "duration": 17,
    "start_time": "2022-01-03T18:25:14.267Z"
   },
   {
    "duration": 7,
    "start_time": "2022-01-03T18:25:15.408Z"
   },
   {
    "duration": 16,
    "start_time": "2022-01-03T18:25:16.409Z"
   },
   {
    "duration": 8,
    "start_time": "2022-01-03T18:25:19.848Z"
   },
   {
    "duration": 26,
    "start_time": "2022-01-03T18:25:23.909Z"
   },
   {
    "duration": 6,
    "start_time": "2022-01-03T18:25:27.386Z"
   },
   {
    "duration": 6,
    "start_time": "2022-01-03T18:25:28.454Z"
   },
   {
    "duration": 22,
    "start_time": "2022-01-03T18:25:30.073Z"
   },
   {
    "duration": 1498,
    "start_time": "2022-01-03T18:25:39.766Z"
   },
   {
    "duration": 1009,
    "start_time": "2022-01-03T18:26:02.971Z"
   },
   {
    "duration": 4,
    "start_time": "2022-01-03T23:37:36.534Z"
   },
   {
    "duration": 3,
    "start_time": "2022-01-03T23:37:42.966Z"
   },
   {
    "duration": 387,
    "start_time": "2022-01-03T23:37:43.710Z"
   },
   {
    "duration": 12,
    "start_time": "2022-01-03T23:37:46.339Z"
   },
   {
    "duration": 10,
    "start_time": "2022-01-03T23:37:47.264Z"
   },
   {
    "duration": 13,
    "start_time": "2022-01-03T23:37:47.983Z"
   },
   {
    "duration": 16,
    "start_time": "2022-01-03T23:37:49.103Z"
   },
   {
    "duration": 13,
    "start_time": "2022-01-03T23:37:50.495Z"
   },
   {
    "duration": 21,
    "start_time": "2022-01-03T23:37:58.437Z"
   },
   {
    "duration": 26,
    "start_time": "2022-01-03T23:37:59.652Z"
   },
   {
    "duration": 24,
    "start_time": "2022-01-03T23:38:00.598Z"
   },
   {
    "duration": 5,
    "start_time": "2022-01-03T23:38:02.062Z"
   },
   {
    "duration": 16,
    "start_time": "2022-01-03T23:38:05.319Z"
   },
   {
    "duration": 10,
    "start_time": "2022-01-03T23:38:06.025Z"
   },
   {
    "duration": 18,
    "start_time": "2022-01-03T23:38:07.582Z"
   },
   {
    "duration": 31,
    "start_time": "2022-01-03T23:38:08.436Z"
   },
   {
    "duration": 18,
    "start_time": "2022-01-03T23:38:09.269Z"
   },
   {
    "duration": 14,
    "start_time": "2022-01-03T23:38:10.183Z"
   },
   {
    "duration": 10,
    "start_time": "2022-01-03T23:38:11.173Z"
   },
   {
    "duration": 8,
    "start_time": "2022-01-03T23:38:13.078Z"
   },
   {
    "duration": 15,
    "start_time": "2022-01-03T23:38:14.605Z"
   },
   {
    "duration": 18,
    "start_time": "2022-01-03T23:38:15.557Z"
   },
   {
    "duration": 15,
    "start_time": "2022-01-03T23:38:16.363Z"
   },
   {
    "duration": 12,
    "start_time": "2022-01-03T23:38:17.103Z"
   },
   {
    "duration": 22,
    "start_time": "2022-01-03T23:38:18.493Z"
   },
   {
    "duration": 16,
    "start_time": "2022-01-03T23:38:19.230Z"
   },
   {
    "duration": 16,
    "start_time": "2022-01-03T23:38:20.874Z"
   },
   {
    "duration": 13,
    "start_time": "2022-01-03T23:38:21.765Z"
   },
   {
    "duration": 16,
    "start_time": "2022-01-03T23:38:24.504Z"
   },
   {
    "duration": 8,
    "start_time": "2022-01-03T23:38:25.294Z"
   },
   {
    "duration": 5,
    "start_time": "2022-01-03T23:38:26.111Z"
   },
   {
    "duration": 21,
    "start_time": "2022-01-03T23:38:26.927Z"
   },
   {
    "duration": 17,
    "start_time": "2022-01-03T23:38:27.775Z"
   },
   {
    "duration": 6,
    "start_time": "2022-01-03T23:38:28.554Z"
   },
   {
    "duration": 7,
    "start_time": "2022-01-03T23:38:29.448Z"
   },
   {
    "duration": 6,
    "start_time": "2022-01-03T23:38:30.429Z"
   },
   {
    "duration": 17,
    "start_time": "2022-01-03T23:38:32.348Z"
   },
   {
    "duration": 7,
    "start_time": "2022-01-03T23:38:33.228Z"
   },
   {
    "duration": 19,
    "start_time": "2022-01-03T23:38:34.040Z"
   },
   {
    "duration": 22,
    "start_time": "2022-01-03T23:38:34.912Z"
   },
   {
    "duration": 15,
    "start_time": "2022-01-03T23:38:35.662Z"
   },
   {
    "duration": 26,
    "start_time": "2022-01-03T23:38:36.425Z"
   },
   {
    "duration": 17,
    "start_time": "2022-01-03T23:38:38.590Z"
   },
   {
    "duration": 16,
    "start_time": "2022-01-03T23:38:39.438Z"
   },
   {
    "duration": 26,
    "start_time": "2022-01-03T23:38:40.432Z"
   },
   {
    "duration": 34,
    "start_time": "2022-01-03T23:38:45.869Z"
   },
   {
    "duration": 5,
    "start_time": "2022-01-03T23:38:46.711Z"
   },
   {
    "duration": 6,
    "start_time": "2022-01-03T23:38:47.245Z"
   },
   {
    "duration": 18,
    "start_time": "2022-01-03T23:38:48.119Z"
   },
   {
    "duration": 12,
    "start_time": "2022-01-03T23:38:49.582Z"
   },
   {
    "duration": 25,
    "start_time": "2022-01-03T23:38:50.458Z"
   },
   {
    "duration": 11,
    "start_time": "2022-01-03T23:38:51.367Z"
   },
   {
    "duration": 6,
    "start_time": "2022-01-03T23:38:52.373Z"
   },
   {
    "duration": 18,
    "start_time": "2022-01-03T23:38:53.255Z"
   },
   {
    "duration": 6,
    "start_time": "2022-01-03T23:38:54.085Z"
   },
   {
    "duration": 14,
    "start_time": "2022-01-03T23:38:55.303Z"
   },
   {
    "duration": 23,
    "start_time": "2022-01-03T23:38:56.325Z"
   },
   {
    "duration": 20,
    "start_time": "2022-01-03T23:38:57.422Z"
   },
   {
    "duration": 6,
    "start_time": "2022-01-03T23:38:59.013Z"
   },
   {
    "duration": 16,
    "start_time": "2022-01-03T23:38:59.766Z"
   },
   {
    "duration": 6,
    "start_time": "2022-01-03T23:39:00.299Z"
   },
   {
    "duration": 17,
    "start_time": "2022-01-03T23:39:02.237Z"
   },
   {
    "duration": 5,
    "start_time": "2022-01-03T23:39:02.909Z"
   },
   {
    "duration": 12,
    "start_time": "2022-01-03T23:39:03.589Z"
   },
   {
    "duration": 19,
    "start_time": "2022-01-03T23:39:04.265Z"
   },
   {
    "duration": 13,
    "start_time": "2022-01-03T23:39:04.913Z"
   },
   {
    "duration": 20,
    "start_time": "2022-01-03T23:39:05.407Z"
   },
   {
    "duration": 5,
    "start_time": "2022-01-03T23:39:05.941Z"
   },
   {
    "duration": 19,
    "start_time": "2022-01-03T23:39:06.534Z"
   },
   {
    "duration": 11,
    "start_time": "2022-01-03T23:39:07.694Z"
   },
   {
    "duration": 16,
    "start_time": "2022-01-03T23:39:08.300Z"
   },
   {
    "duration": 18,
    "start_time": "2022-01-03T23:39:08.801Z"
   },
   {
    "duration": 5,
    "start_time": "2022-01-03T23:39:09.326Z"
   },
   {
    "duration": 9,
    "start_time": "2022-01-03T23:39:09.839Z"
   },
   {
    "duration": 18,
    "start_time": "2022-01-03T23:39:10.407Z"
   },
   {
    "duration": 5,
    "start_time": "2022-01-03T23:39:11.509Z"
   },
   {
    "duration": 10,
    "start_time": "2022-01-03T23:39:12.054Z"
   },
   {
    "duration": 10,
    "start_time": "2022-01-03T23:39:12.493Z"
   },
   {
    "duration": 8,
    "start_time": "2022-01-03T23:39:13.117Z"
   },
   {
    "duration": 5,
    "start_time": "2022-01-03T23:39:15.910Z"
   },
   {
    "duration": 5546,
    "start_time": "2022-01-03T23:39:16.669Z"
   },
   {
    "duration": 5,
    "start_time": "2022-01-03T23:39:22.217Z"
   },
   {
    "duration": 5414,
    "start_time": "2022-01-03T23:39:22.226Z"
   },
   {
    "duration": 33,
    "start_time": "2022-01-03T23:39:27.642Z"
   },
   {
    "duration": 6,
    "start_time": "2022-01-03T23:39:27.677Z"
   },
   {
    "duration": 5535,
    "start_time": "2022-01-03T23:39:27.685Z"
   },
   {
    "duration": 38,
    "start_time": "2022-01-03T23:39:33.222Z"
   },
   {
    "duration": 9,
    "start_time": "2022-01-03T23:39:42.417Z"
   },
   {
    "duration": 10089,
    "start_time": "2022-01-03T23:39:44.543Z"
   },
   {
    "duration": 28,
    "start_time": "2022-01-03T23:39:57.934Z"
   },
   {
    "duration": 8,
    "start_time": "2022-01-03T23:40:01.739Z"
   },
   {
    "duration": 26,
    "start_time": "2022-01-03T23:40:02.494Z"
   },
   {
    "duration": 12,
    "start_time": "2022-01-03T23:40:03.293Z"
   },
   {
    "duration": 10,
    "start_time": "2022-01-03T23:40:03.999Z"
   },
   {
    "duration": 13,
    "start_time": "2022-01-03T23:40:04.686Z"
   },
   {
    "duration": 6,
    "start_time": "2022-01-03T23:40:05.429Z"
   },
   {
    "duration": 24,
    "start_time": "2022-01-03T23:40:09.081Z"
   },
   {
    "duration": 9,
    "start_time": "2022-01-03T23:40:10.070Z"
   },
   {
    "duration": 56,
    "start_time": "2022-01-03T23:40:11.216Z"
   },
   {
    "duration": 6,
    "start_time": "2022-01-03T23:40:14.342Z"
   },
   {
    "duration": 6,
    "start_time": "2022-01-03T23:40:15.153Z"
   },
   {
    "duration": 6,
    "start_time": "2022-01-03T23:40:15.924Z"
   },
   {
    "duration": 6,
    "start_time": "2022-01-03T23:40:16.678Z"
   },
   {
    "duration": 7,
    "start_time": "2022-01-03T23:40:18.883Z"
   },
   {
    "duration": 27,
    "start_time": "2022-01-03T23:40:19.638Z"
   },
   {
    "duration": 9,
    "start_time": "2022-01-03T23:40:20.454Z"
   },
   {
    "duration": 61,
    "start_time": "2022-01-03T23:40:21.227Z"
   },
   {
    "duration": 5,
    "start_time": "2022-01-03T23:40:22.097Z"
   },
   {
    "duration": 5,
    "start_time": "2022-01-03T23:40:22.847Z"
   },
   {
    "duration": 7,
    "start_time": "2022-01-03T23:40:23.625Z"
   },
   {
    "duration": 6,
    "start_time": "2022-01-03T23:40:24.462Z"
   },
   {
    "duration": 838,
    "start_time": "2022-01-03T23:40:29.982Z"
   },
   {
    "duration": 703,
    "start_time": "2022-01-03T23:40:31.541Z"
   },
   {
    "duration": 728,
    "start_time": "2022-01-03T23:40:33.013Z"
   },
   {
    "duration": 720,
    "start_time": "2022-01-03T23:40:36.958Z"
   },
   {
    "duration": 462,
    "start_time": "2022-01-03T23:40:42.770Z"
   },
   {
    "duration": 713,
    "start_time": "2022-01-03T23:40:44.281Z"
   },
   {
    "duration": 476,
    "start_time": "2022-01-03T23:40:45.862Z"
   },
   {
    "duration": 511,
    "start_time": "2022-01-03T23:40:46.869Z"
   },
   {
    "duration": 30,
    "start_time": "2022-01-03T23:40:52.062Z"
   },
   {
    "duration": 14,
    "start_time": "2022-01-03T23:40:57.316Z"
   },
   {
    "duration": 5,
    "start_time": "2022-01-03T23:40:58.086Z"
   },
   {
    "duration": 13,
    "start_time": "2022-01-03T23:40:58.757Z"
   },
   {
    "duration": 14,
    "start_time": "2022-01-03T23:40:59.541Z"
   },
   {
    "duration": 5,
    "start_time": "2022-01-03T23:41:00.350Z"
   },
   {
    "duration": 13,
    "start_time": "2022-01-03T23:41:00.828Z"
   },
   {
    "duration": 21,
    "start_time": "2022-01-03T23:41:02.078Z"
   },
   {
    "duration": 21,
    "start_time": "2022-01-03T23:41:03.255Z"
   },
   {
    "duration": 6,
    "start_time": "2022-01-03T23:41:35.877Z"
   },
   {
    "duration": 25,
    "start_time": "2022-01-03T23:41:43.536Z"
   },
   {
    "duration": 6,
    "start_time": "2022-01-03T23:41:44.820Z"
   },
   {
    "duration": 26,
    "start_time": "2022-01-03T23:41:45.517Z"
   },
   {
    "duration": 6,
    "start_time": "2022-01-03T23:41:46.772Z"
   },
   {
    "duration": 27,
    "start_time": "2022-01-03T23:41:48.116Z"
   },
   {
    "duration": 5,
    "start_time": "2022-01-03T23:41:53.787Z"
   },
   {
    "duration": 13,
    "start_time": "2022-01-03T23:41:55.059Z"
   },
   {
    "duration": 6,
    "start_time": "2022-01-03T23:41:56.740Z"
   },
   {
    "duration": 13,
    "start_time": "2022-01-03T23:41:57.555Z"
   },
   {
    "duration": 9,
    "start_time": "2022-01-03T23:41:58.296Z"
   },
   {
    "duration": 15,
    "start_time": "2022-01-03T23:41:59.145Z"
   },
   {
    "duration": 9,
    "start_time": "2022-01-03T23:42:00.052Z"
   },
   {
    "duration": 12,
    "start_time": "2022-01-03T23:42:00.719Z"
   },
   {
    "duration": 7,
    "start_time": "2022-01-03T23:42:01.404Z"
   },
   {
    "duration": 17,
    "start_time": "2022-01-03T23:42:02.274Z"
   },
   {
    "duration": 8,
    "start_time": "2022-01-03T23:42:03.030Z"
   },
   {
    "duration": 21,
    "start_time": "2022-01-03T23:42:03.751Z"
   },
   {
    "duration": 8,
    "start_time": "2022-01-03T23:42:04.723Z"
   },
   {
    "duration": 17,
    "start_time": "2022-01-03T23:42:05.270Z"
   },
   {
    "duration": 9,
    "start_time": "2022-01-03T23:42:06.157Z"
   },
   {
    "duration": 16,
    "start_time": "2022-01-03T23:42:07.309Z"
   },
   {
    "duration": 7,
    "start_time": "2022-01-03T23:42:10.389Z"
   },
   {
    "duration": 21,
    "start_time": "2022-01-03T23:42:13.381Z"
   },
   {
    "duration": 6,
    "start_time": "2022-01-03T23:42:15.644Z"
   },
   {
    "duration": 6,
    "start_time": "2022-01-03T23:42:18.144Z"
   },
   {
    "duration": 21,
    "start_time": "2022-01-03T23:42:19.578Z"
   },
   {
    "duration": 1030,
    "start_time": "2022-01-03T23:42:48.001Z"
   },
   {
    "duration": 6,
    "start_time": "2022-01-03T23:53:45.566Z"
   },
   {
    "duration": 1056,
    "start_time": "2022-01-03T23:55:14.717Z"
   },
   {
    "duration": 1490,
    "start_time": "2022-01-04T08:02:51.328Z"
   },
   {
    "duration": 4,
    "start_time": "2022-01-04T08:02:52.821Z"
   },
   {
    "duration": 408,
    "start_time": "2022-01-04T08:02:52.829Z"
   },
   {
    "duration": 21,
    "start_time": "2022-01-04T08:02:53.240Z"
   },
   {
    "duration": 12,
    "start_time": "2022-01-04T08:02:53.263Z"
   },
   {
    "duration": 15,
    "start_time": "2022-01-04T08:02:53.277Z"
   },
   {
    "duration": 17,
    "start_time": "2022-01-04T08:02:53.294Z"
   },
   {
    "duration": 53,
    "start_time": "2022-01-04T08:02:53.315Z"
   },
   {
    "duration": 22,
    "start_time": "2022-01-04T08:02:53.371Z"
   },
   {
    "duration": 26,
    "start_time": "2022-01-04T08:02:53.396Z"
   },
   {
    "duration": 48,
    "start_time": "2022-01-04T08:02:53.424Z"
   },
   {
    "duration": 6,
    "start_time": "2022-01-04T08:02:53.474Z"
   },
   {
    "duration": 18,
    "start_time": "2022-01-04T08:02:53.482Z"
   },
   {
    "duration": 10,
    "start_time": "2022-01-04T08:02:53.503Z"
   },
   {
    "duration": 50,
    "start_time": "2022-01-04T08:02:53.515Z"
   },
   {
    "duration": 31,
    "start_time": "2022-01-04T08:02:53.568Z"
   },
   {
    "duration": 18,
    "start_time": "2022-01-04T08:02:53.601Z"
   },
   {
    "duration": 45,
    "start_time": "2022-01-04T08:02:53.622Z"
   },
   {
    "duration": 9,
    "start_time": "2022-01-04T08:02:53.669Z"
   },
   {
    "duration": 9,
    "start_time": "2022-01-04T08:02:53.680Z"
   },
   {
    "duration": 16,
    "start_time": "2022-01-04T08:02:53.691Z"
   },
   {
    "duration": 54,
    "start_time": "2022-01-04T08:02:53.710Z"
   },
   {
    "duration": 16,
    "start_time": "2022-01-04T08:02:53.770Z"
   },
   {
    "duration": 14,
    "start_time": "2022-01-04T08:02:53.789Z"
   },
   {
    "duration": 57,
    "start_time": "2022-01-04T08:02:53.805Z"
   },
   {
    "duration": 16,
    "start_time": "2022-01-04T08:02:53.864Z"
   },
   {
    "duration": 16,
    "start_time": "2022-01-04T08:02:53.882Z"
   },
   {
    "duration": 14,
    "start_time": "2022-01-04T08:02:53.900Z"
   },
   {
    "duration": 56,
    "start_time": "2022-01-04T08:02:53.916Z"
   },
   {
    "duration": 20,
    "start_time": "2022-01-04T08:02:53.975Z"
   },
   {
    "duration": 16,
    "start_time": "2022-01-04T08:02:53.999Z"
   },
   {
    "duration": 32,
    "start_time": "2022-01-04T08:02:54.017Z"
   },
   {
    "duration": 46,
    "start_time": "2022-01-04T08:02:54.051Z"
   },
   {
    "duration": 25,
    "start_time": "2022-01-04T08:02:54.099Z"
   },
   {
    "duration": 20,
    "start_time": "2022-01-04T08:02:54.127Z"
   },
   {
    "duration": 10,
    "start_time": "2022-01-04T08:02:54.149Z"
   },
   {
    "duration": 25,
    "start_time": "2022-01-04T08:02:54.161Z"
   },
   {
    "duration": 16,
    "start_time": "2022-01-04T08:02:54.189Z"
   },
   {
    "duration": 23,
    "start_time": "2022-01-04T08:02:54.207Z"
   },
   {
    "duration": 33,
    "start_time": "2022-01-04T08:02:54.232Z"
   },
   {
    "duration": 14,
    "start_time": "2022-01-04T08:02:54.267Z"
   },
   {
    "duration": 18,
    "start_time": "2022-01-04T08:02:54.284Z"
   },
   {
    "duration": 17,
    "start_time": "2022-01-04T08:02:54.305Z"
   },
   {
    "duration": 47,
    "start_time": "2022-01-04T08:02:54.324Z"
   },
   {
    "duration": 26,
    "start_time": "2022-01-04T08:02:54.374Z"
   },
   {
    "duration": 76,
    "start_time": "2022-01-04T08:02:54.402Z"
   },
   {
    "duration": 5,
    "start_time": "2022-01-04T08:02:54.480Z"
   },
   {
    "duration": 7,
    "start_time": "2022-01-04T08:02:54.487Z"
   },
   {
    "duration": 19,
    "start_time": "2022-01-04T08:02:54.497Z"
   },
   {
    "duration": 11,
    "start_time": "2022-01-04T08:02:54.518Z"
   },
   {
    "duration": 51,
    "start_time": "2022-01-04T08:02:54.531Z"
   },
   {
    "duration": 10,
    "start_time": "2022-01-04T08:02:54.585Z"
   },
   {
    "duration": 7,
    "start_time": "2022-01-04T08:02:54.597Z"
   },
   {
    "duration": 21,
    "start_time": "2022-01-04T08:02:54.606Z"
   },
   {
    "duration": 32,
    "start_time": "2022-01-04T08:02:54.629Z"
   },
   {
    "duration": 17,
    "start_time": "2022-01-04T08:02:54.664Z"
   },
   {
    "duration": 23,
    "start_time": "2022-01-04T08:02:54.684Z"
   },
   {
    "duration": 18,
    "start_time": "2022-01-04T08:02:54.710Z"
   },
   {
    "duration": 33,
    "start_time": "2022-01-04T08:02:54.730Z"
   },
   {
    "duration": 15,
    "start_time": "2022-01-04T08:02:54.765Z"
   },
   {
    "duration": 12,
    "start_time": "2022-01-04T08:02:54.782Z"
   },
   {
    "duration": 17,
    "start_time": "2022-01-04T08:02:54.796Z"
   },
   {
    "duration": 4,
    "start_time": "2022-01-04T08:02:54.815Z"
   },
   {
    "duration": 12,
    "start_time": "2022-01-04T08:02:54.859Z"
   },
   {
    "duration": 20,
    "start_time": "2022-01-04T08:02:54.873Z"
   },
   {
    "duration": 12,
    "start_time": "2022-01-04T08:02:54.895Z"
   },
   {
    "duration": 56,
    "start_time": "2022-01-04T08:02:54.909Z"
   },
   {
    "duration": 5,
    "start_time": "2022-01-04T08:02:54.976Z"
   },
   {
    "duration": 20,
    "start_time": "2022-01-04T08:02:54.986Z"
   },
   {
    "duration": 51,
    "start_time": "2022-01-04T08:02:55.009Z"
   },
   {
    "duration": 20,
    "start_time": "2022-01-04T08:02:55.062Z"
   },
   {
    "duration": 19,
    "start_time": "2022-01-04T08:02:55.084Z"
   },
   {
    "duration": 6,
    "start_time": "2022-01-04T08:02:55.105Z"
   },
   {
    "duration": 51,
    "start_time": "2022-01-04T08:02:55.113Z"
   },
   {
    "duration": 16,
    "start_time": "2022-01-04T08:02:55.167Z"
   },
   {
    "duration": 5,
    "start_time": "2022-01-04T08:02:55.186Z"
   },
   {
    "duration": 11,
    "start_time": "2022-01-04T08:02:55.193Z"
   },
   {
    "duration": 8,
    "start_time": "2022-01-04T08:02:55.206Z"
   },
   {
    "duration": 49,
    "start_time": "2022-01-04T08:02:55.216Z"
   },
   {
    "duration": 13,
    "start_time": "2022-01-04T08:02:55.267Z"
   },
   {
    "duration": 5221,
    "start_time": "2022-01-04T08:02:55.282Z"
   },
   {
    "duration": 7,
    "start_time": "2022-01-04T08:03:00.506Z"
   },
   {
    "duration": 5274,
    "start_time": "2022-01-04T08:03:00.516Z"
   },
   {
    "duration": 24,
    "start_time": "2022-01-04T08:03:05.792Z"
   },
   {
    "duration": 7,
    "start_time": "2022-01-04T08:03:05.818Z"
   },
   {
    "duration": 5474,
    "start_time": "2022-01-04T08:03:05.828Z"
   },
   {
    "duration": 24,
    "start_time": "2022-01-04T08:03:11.304Z"
   },
   {
    "duration": 9,
    "start_time": "2022-01-04T08:03:11.330Z"
   },
   {
    "duration": 10512,
    "start_time": "2022-01-04T08:03:11.342Z"
   },
   {
    "duration": 25,
    "start_time": "2022-01-04T08:03:21.859Z"
   },
   {
    "duration": 7,
    "start_time": "2022-01-04T08:03:21.887Z"
   },
   {
    "duration": 27,
    "start_time": "2022-01-04T08:03:21.896Z"
   },
   {
    "duration": 10,
    "start_time": "2022-01-04T08:03:21.925Z"
   },
   {
    "duration": 23,
    "start_time": "2022-01-04T08:03:21.937Z"
   },
   {
    "duration": 11,
    "start_time": "2022-01-04T08:03:21.962Z"
   },
   {
    "duration": 6,
    "start_time": "2022-01-04T08:03:21.976Z"
   },
   {
    "duration": 29,
    "start_time": "2022-01-04T08:03:21.992Z"
   },
   {
    "duration": 8,
    "start_time": "2022-01-04T08:03:22.024Z"
   },
   {
    "duration": 64,
    "start_time": "2022-01-04T08:03:22.034Z"
   },
   {
    "duration": 8,
    "start_time": "2022-01-04T08:03:22.100Z"
   },
   {
    "duration": 9,
    "start_time": "2022-01-04T08:03:22.110Z"
   },
   {
    "duration": 13,
    "start_time": "2022-01-04T08:03:22.122Z"
   },
   {
    "duration": 6,
    "start_time": "2022-01-04T08:03:22.138Z"
   },
   {
    "duration": 9,
    "start_time": "2022-01-04T08:03:22.146Z"
   },
   {
    "duration": 31,
    "start_time": "2022-01-04T08:03:22.157Z"
   },
   {
    "duration": 8,
    "start_time": "2022-01-04T08:03:22.191Z"
   },
   {
    "duration": 63,
    "start_time": "2022-01-04T08:03:22.201Z"
   },
   {
    "duration": 6,
    "start_time": "2022-01-04T08:03:22.267Z"
   },
   {
    "duration": 9,
    "start_time": "2022-01-04T08:03:22.275Z"
   },
   {
    "duration": 7,
    "start_time": "2022-01-04T08:03:22.286Z"
   },
   {
    "duration": 8,
    "start_time": "2022-01-04T08:03:22.295Z"
   },
   {
    "duration": 1257,
    "start_time": "2022-01-04T08:03:22.305Z"
   },
   {
    "duration": 857,
    "start_time": "2022-01-04T08:03:23.564Z"
   },
   {
    "duration": 1041,
    "start_time": "2022-01-04T08:03:24.424Z"
   },
   {
    "duration": 772,
    "start_time": "2022-01-04T08:03:25.467Z"
   },
   {
    "duration": 490,
    "start_time": "2022-01-04T08:03:26.242Z"
   },
   {
    "duration": 436,
    "start_time": "2022-01-04T08:03:26.735Z"
   },
   {
    "duration": 69643,
    "start_time": "2022-01-04T08:03:27.174Z"
   },
   {
    "duration": 17,
    "start_time": "2022-01-04T08:04:36.820Z"
   },
   {
    "duration": 19,
    "start_time": "2022-01-04T08:04:36.840Z"
   },
   {
    "duration": 14,
    "start_time": "2022-01-04T08:04:36.862Z"
   },
   {
    "duration": 14,
    "start_time": "2022-01-04T08:04:36.878Z"
   },
   {
    "duration": 5,
    "start_time": "2022-01-04T08:04:36.895Z"
   },
   {
    "duration": 15,
    "start_time": "2022-01-04T08:04:36.902Z"
   },
   {
    "duration": 60,
    "start_time": "2022-01-04T08:04:36.919Z"
   },
   {
    "duration": 23,
    "start_time": "2022-01-04T08:04:36.981Z"
   },
   {
    "duration": 6,
    "start_time": "2022-01-04T08:04:37.007Z"
   },
   {
    "duration": 57,
    "start_time": "2022-01-04T08:04:37.016Z"
   },
   {
    "duration": 6,
    "start_time": "2022-01-04T08:04:37.075Z"
   },
   {
    "duration": 28,
    "start_time": "2022-01-04T08:04:37.083Z"
   },
   {
    "duration": 8,
    "start_time": "2022-01-04T08:04:37.113Z"
   },
   {
    "duration": 54,
    "start_time": "2022-01-04T08:04:37.123Z"
   },
   {
    "duration": 4,
    "start_time": "2022-01-04T08:04:37.179Z"
   },
   {
    "duration": 14,
    "start_time": "2022-01-04T08:04:37.186Z"
   },
   {
    "duration": 5,
    "start_time": "2022-01-04T08:04:37.202Z"
   },
   {
    "duration": 16,
    "start_time": "2022-01-04T08:04:37.209Z"
   },
   {
    "duration": 39,
    "start_time": "2022-01-04T08:04:37.227Z"
   },
   {
    "duration": 20,
    "start_time": "2022-01-04T08:04:37.268Z"
   },
   {
    "duration": 10,
    "start_time": "2022-01-04T08:04:37.290Z"
   },
   {
    "duration": 13,
    "start_time": "2022-01-04T08:04:37.303Z"
   },
   {
    "duration": 43,
    "start_time": "2022-01-04T08:04:37.318Z"
   },
   {
    "duration": 16,
    "start_time": "2022-01-04T08:04:37.363Z"
   },
   {
    "duration": 8,
    "start_time": "2022-01-04T08:04:37.381Z"
   },
   {
    "duration": 19,
    "start_time": "2022-01-04T08:04:37.391Z"
   },
   {
    "duration": 10,
    "start_time": "2022-01-04T08:04:37.412Z"
   },
   {
    "duration": 48,
    "start_time": "2022-01-04T08:04:37.424Z"
   },
   {
    "duration": 9,
    "start_time": "2022-01-04T08:04:37.475Z"
   },
   {
    "duration": 16,
    "start_time": "2022-01-04T08:04:37.486Z"
   },
   {
    "duration": 7,
    "start_time": "2022-01-04T08:04:37.505Z"
   },
   {
    "duration": 61,
    "start_time": "2022-01-04T08:04:37.514Z"
   },
   {
    "duration": 7,
    "start_time": "2022-01-04T08:04:37.578Z"
   },
   {
    "duration": 7,
    "start_time": "2022-01-04T08:04:37.588Z"
   },
   {
    "duration": 70,
    "start_time": "2022-01-04T08:04:37.598Z"
   },
   {
    "duration": 1077,
    "start_time": "2022-01-04T08:04:37.671Z"
   },
   {
    "duration": 7,
    "start_time": "2022-01-04T08:07:09.772Z"
   },
   {
    "duration": 11,
    "start_time": "2022-01-04T08:07:14.490Z"
   },
   {
    "duration": 11,
    "start_time": "2022-01-04T08:07:25.378Z"
   },
   {
    "duration": 12,
    "start_time": "2022-01-04T08:09:19.707Z"
   },
   {
    "duration": 12,
    "start_time": "2022-01-04T08:09:20.371Z"
   },
   {
    "duration": 13,
    "start_time": "2022-01-04T08:09:24.570Z"
   },
   {
    "duration": 6,
    "start_time": "2022-01-04T08:17:09.414Z"
   },
   {
    "duration": 6,
    "start_time": "2022-01-04T08:17:17.515Z"
   },
   {
    "duration": 111,
    "start_time": "2022-01-04T08:19:54.091Z"
   },
   {
    "duration": 8,
    "start_time": "2022-01-04T08:19:59.596Z"
   },
   {
    "duration": 8,
    "start_time": "2022-01-04T08:23:27.648Z"
   },
   {
    "duration": 7,
    "start_time": "2022-01-04T08:23:38.278Z"
   },
   {
    "duration": 7,
    "start_time": "2022-01-04T08:24:32.491Z"
   },
   {
    "duration": 1862,
    "start_time": "2022-04-18T17:08:45.704Z"
   },
   {
    "duration": 4,
    "start_time": "2022-04-18T17:08:47.581Z"
   },
   {
    "duration": 950,
    "start_time": "2022-04-18T17:08:47.588Z"
   },
   {
    "duration": 25,
    "start_time": "2022-04-18T17:08:48.542Z"
   },
   {
    "duration": 10,
    "start_time": "2022-04-18T17:08:48.570Z"
   },
   {
    "duration": 22,
    "start_time": "2022-04-18T17:08:48.583Z"
   },
   {
    "duration": 24,
    "start_time": "2022-04-18T17:08:48.608Z"
   },
   {
    "duration": 19,
    "start_time": "2022-04-18T17:08:48.635Z"
   },
   {
    "duration": 44,
    "start_time": "2022-04-18T17:08:48.683Z"
   },
   {
    "duration": 74,
    "start_time": "2022-04-18T17:08:48.732Z"
   },
   {
    "duration": 29,
    "start_time": "2022-04-18T17:08:48.809Z"
   },
   {
    "duration": 6,
    "start_time": "2022-04-18T17:08:48.841Z"
   },
   {
    "duration": 41,
    "start_time": "2022-04-18T17:08:48.850Z"
   },
   {
    "duration": 14,
    "start_time": "2022-04-18T17:08:48.894Z"
   },
   {
    "duration": 25,
    "start_time": "2022-04-18T17:08:48.911Z"
   },
   {
    "duration": 71,
    "start_time": "2022-04-18T17:08:48.939Z"
   },
   {
    "duration": 19,
    "start_time": "2022-04-18T17:08:49.012Z"
   },
   {
    "duration": 14,
    "start_time": "2022-04-18T17:08:49.033Z"
   },
   {
    "duration": 16,
    "start_time": "2022-04-18T17:08:49.081Z"
   },
   {
    "duration": 21,
    "start_time": "2022-04-18T17:08:49.099Z"
   },
   {
    "duration": 27,
    "start_time": "2022-04-18T17:08:49.123Z"
   },
   {
    "duration": 44,
    "start_time": "2022-04-18T17:08:49.153Z"
   },
   {
    "duration": 15,
    "start_time": "2022-04-18T17:08:49.199Z"
   },
   {
    "duration": 13,
    "start_time": "2022-04-18T17:08:49.216Z"
   },
   {
    "duration": 69,
    "start_time": "2022-04-18T17:08:49.231Z"
   },
   {
    "duration": 19,
    "start_time": "2022-04-18T17:08:49.303Z"
   },
   {
    "duration": 23,
    "start_time": "2022-04-18T17:08:49.324Z"
   },
   {
    "duration": 15,
    "start_time": "2022-04-18T17:08:49.387Z"
   },
   {
    "duration": 16,
    "start_time": "2022-04-18T17:08:49.405Z"
   },
   {
    "duration": 18,
    "start_time": "2022-04-18T17:08:49.423Z"
   },
   {
    "duration": 41,
    "start_time": "2022-04-18T17:08:49.443Z"
   },
   {
    "duration": 25,
    "start_time": "2022-04-18T17:08:49.487Z"
   },
   {
    "duration": 21,
    "start_time": "2022-04-18T17:08:49.514Z"
   },
   {
    "duration": 18,
    "start_time": "2022-04-18T17:08:49.537Z"
   },
   {
    "duration": 9,
    "start_time": "2022-04-18T17:08:49.583Z"
   },
   {
    "duration": 8,
    "start_time": "2022-04-18T17:08:49.594Z"
   },
   {
    "duration": 23,
    "start_time": "2022-04-18T17:08:49.604Z"
   },
   {
    "duration": 11,
    "start_time": "2022-04-18T17:08:49.629Z"
   },
   {
    "duration": 56,
    "start_time": "2022-04-18T17:08:49.643Z"
   },
   {
    "duration": 20,
    "start_time": "2022-04-18T17:08:49.701Z"
   },
   {
    "duration": 58,
    "start_time": "2022-04-18T17:08:49.724Z"
   },
   {
    "duration": 19,
    "start_time": "2022-04-18T17:08:49.787Z"
   },
   {
    "duration": 26,
    "start_time": "2022-04-18T17:08:49.808Z"
   },
   {
    "duration": 46,
    "start_time": "2022-04-18T17:08:49.837Z"
   },
   {
    "duration": 46,
    "start_time": "2022-04-18T17:08:49.885Z"
   },
   {
    "duration": 79,
    "start_time": "2022-04-18T17:08:49.933Z"
   },
   {
    "duration": 5,
    "start_time": "2022-04-18T17:08:50.014Z"
   },
   {
    "duration": 11,
    "start_time": "2022-04-18T17:08:50.021Z"
   },
   {
    "duration": 19,
    "start_time": "2022-04-18T17:08:50.034Z"
   },
   {
    "duration": 39,
    "start_time": "2022-04-18T17:08:50.056Z"
   },
   {
    "duration": 29,
    "start_time": "2022-04-18T17:08:50.099Z"
   },
   {
    "duration": 12,
    "start_time": "2022-04-18T17:08:50.131Z"
   },
   {
    "duration": 37,
    "start_time": "2022-04-18T17:08:50.145Z"
   },
   {
    "duration": 17,
    "start_time": "2022-04-18T17:08:50.185Z"
   },
   {
    "duration": 11,
    "start_time": "2022-04-18T17:08:50.204Z"
   },
   {
    "duration": 19,
    "start_time": "2022-04-18T17:08:50.217Z"
   },
   {
    "duration": 55,
    "start_time": "2022-04-18T17:08:50.239Z"
   },
   {
    "duration": 16,
    "start_time": "2022-04-18T17:08:50.296Z"
   },
   {
    "duration": 7,
    "start_time": "2022-04-18T17:08:50.315Z"
   },
   {
    "duration": 14,
    "start_time": "2022-04-18T17:08:50.324Z"
   },
   {
    "duration": 44,
    "start_time": "2022-04-18T17:08:50.341Z"
   },
   {
    "duration": 20,
    "start_time": "2022-04-18T17:08:50.387Z"
   },
   {
    "duration": 5,
    "start_time": "2022-04-18T17:08:50.409Z"
   },
   {
    "duration": 15,
    "start_time": "2022-04-18T17:08:50.417Z"
   },
   {
    "duration": 59,
    "start_time": "2022-04-18T17:08:50.434Z"
   },
   {
    "duration": 12,
    "start_time": "2022-04-18T17:08:50.495Z"
   },
   {
    "duration": 32,
    "start_time": "2022-04-18T17:08:50.510Z"
   },
   {
    "duration": 40,
    "start_time": "2022-04-18T17:08:50.545Z"
   },
   {
    "duration": 40,
    "start_time": "2022-04-18T17:08:50.588Z"
   },
   {
    "duration": 12,
    "start_time": "2022-04-18T17:08:50.631Z"
   },
   {
    "duration": 55,
    "start_time": "2022-04-18T17:08:50.646Z"
   },
   {
    "duration": 18,
    "start_time": "2022-04-18T17:08:50.703Z"
   },
   {
    "duration": 5,
    "start_time": "2022-04-18T17:08:50.724Z"
   },
   {
    "duration": 17,
    "start_time": "2022-04-18T17:08:50.731Z"
   },
   {
    "duration": 20,
    "start_time": "2022-04-18T17:08:50.782Z"
   },
   {
    "duration": 6,
    "start_time": "2022-04-18T17:08:50.804Z"
   },
   {
    "duration": 15,
    "start_time": "2022-04-18T17:08:50.813Z"
   },
   {
    "duration": 10,
    "start_time": "2022-04-18T17:08:50.830Z"
   },
   {
    "duration": 46,
    "start_time": "2022-04-18T17:08:50.842Z"
   },
   {
    "duration": 7,
    "start_time": "2022-04-18T17:08:50.891Z"
   },
   {
    "duration": 5370,
    "start_time": "2022-04-18T17:08:50.900Z"
   },
   {
    "duration": 6,
    "start_time": "2022-04-18T17:08:56.285Z"
   },
   {
    "duration": 5150,
    "start_time": "2022-04-18T17:08:56.293Z"
   },
   {
    "duration": 39,
    "start_time": "2022-04-18T17:09:01.445Z"
   },
   {
    "duration": 7,
    "start_time": "2022-04-18T17:09:01.487Z"
   },
   {
    "duration": 7573,
    "start_time": "2022-04-18T17:09:01.496Z"
   },
   {
    "duration": 40,
    "start_time": "2022-04-18T17:09:09.072Z"
   },
   {
    "duration": 13,
    "start_time": "2022-04-18T17:09:09.115Z"
   },
   {
    "duration": 4,
    "start_time": "2022-04-18T17:09:24.000Z"
   },
   {
    "duration": 7,
    "start_time": "2022-04-18T17:09:24.006Z"
   },
   {
    "duration": 373,
    "start_time": "2022-04-18T17:09:24.015Z"
   },
   {
    "duration": 18,
    "start_time": "2022-04-18T17:09:24.391Z"
   },
   {
    "duration": 19,
    "start_time": "2022-04-18T17:09:24.412Z"
   },
   {
    "duration": 21,
    "start_time": "2022-04-18T17:09:24.433Z"
   },
   {
    "duration": 42,
    "start_time": "2022-04-18T17:09:24.456Z"
   },
   {
    "duration": 17,
    "start_time": "2022-04-18T17:09:24.500Z"
   },
   {
    "duration": 31,
    "start_time": "2022-04-18T17:09:24.519Z"
   },
   {
    "duration": 59,
    "start_time": "2022-04-18T17:09:24.552Z"
   },
   {
    "duration": 23,
    "start_time": "2022-04-18T17:09:24.614Z"
   },
   {
    "duration": 6,
    "start_time": "2022-04-18T17:09:24.639Z"
   },
   {
    "duration": 47,
    "start_time": "2022-04-18T17:09:24.647Z"
   },
   {
    "duration": 15,
    "start_time": "2022-04-18T17:09:24.697Z"
   },
   {
    "duration": 25,
    "start_time": "2022-04-18T17:09:24.715Z"
   },
   {
    "duration": 68,
    "start_time": "2022-04-18T17:09:24.743Z"
   },
   {
    "duration": 18,
    "start_time": "2022-04-18T17:09:24.814Z"
   },
   {
    "duration": 14,
    "start_time": "2022-04-18T17:09:24.834Z"
   },
   {
    "duration": 15,
    "start_time": "2022-04-18T17:09:24.882Z"
   },
   {
    "duration": 12,
    "start_time": "2022-04-18T17:09:24.900Z"
   },
   {
    "duration": 24,
    "start_time": "2022-04-18T17:09:24.914Z"
   },
   {
    "duration": 54,
    "start_time": "2022-04-18T17:09:24.941Z"
   },
   {
    "duration": 14,
    "start_time": "2022-04-18T17:09:24.998Z"
   },
   {
    "duration": 13,
    "start_time": "2022-04-18T17:09:25.014Z"
   },
   {
    "duration": 65,
    "start_time": "2022-04-18T17:09:25.029Z"
   },
   {
    "duration": 17,
    "start_time": "2022-04-18T17:09:25.096Z"
   },
   {
    "duration": 23,
    "start_time": "2022-04-18T17:09:25.116Z"
   },
   {
    "duration": 44,
    "start_time": "2022-04-18T17:09:25.141Z"
   },
   {
    "duration": 16,
    "start_time": "2022-04-18T17:09:25.187Z"
   },
   {
    "duration": 18,
    "start_time": "2022-04-18T17:09:25.206Z"
   },
   {
    "duration": 7,
    "start_time": "2022-04-18T17:09:25.226Z"
   },
   {
    "duration": 54,
    "start_time": "2022-04-18T17:09:25.235Z"
   },
   {
    "duration": 21,
    "start_time": "2022-04-18T17:09:25.291Z"
   },
   {
    "duration": 7,
    "start_time": "2022-04-18T17:09:25.315Z"
   },
   {
    "duration": 10,
    "start_time": "2022-04-18T17:09:25.324Z"
   },
   {
    "duration": 12,
    "start_time": "2022-04-18T17:09:25.337Z"
   },
   {
    "duration": 53,
    "start_time": "2022-04-18T17:09:25.351Z"
   },
   {
    "duration": 11,
    "start_time": "2022-04-18T17:09:25.407Z"
   },
   {
    "duration": 26,
    "start_time": "2022-04-18T17:09:25.421Z"
   },
   {
    "duration": 54,
    "start_time": "2022-04-18T17:09:25.450Z"
   },
   {
    "duration": 30,
    "start_time": "2022-04-18T17:09:25.507Z"
   },
   {
    "duration": 48,
    "start_time": "2022-04-18T17:09:25.539Z"
   },
   {
    "duration": 25,
    "start_time": "2022-04-18T17:09:25.590Z"
   },
   {
    "duration": 14,
    "start_time": "2022-04-18T17:09:25.618Z"
   },
   {
    "duration": 69,
    "start_time": "2022-04-18T17:09:25.634Z"
   },
   {
    "duration": 38,
    "start_time": "2022-04-18T17:09:25.705Z"
   },
   {
    "duration": 6,
    "start_time": "2022-04-18T17:09:25.745Z"
   },
   {
    "duration": 8,
    "start_time": "2022-04-18T17:09:25.781Z"
   },
   {
    "duration": 28,
    "start_time": "2022-04-18T17:09:25.791Z"
   },
   {
    "duration": 16,
    "start_time": "2022-04-18T17:09:25.822Z"
   },
   {
    "duration": 55,
    "start_time": "2022-04-18T17:09:25.841Z"
   },
   {
    "duration": 11,
    "start_time": "2022-04-18T17:09:25.898Z"
   },
   {
    "duration": 7,
    "start_time": "2022-04-18T17:09:25.912Z"
   },
   {
    "duration": 18,
    "start_time": "2022-04-18T17:09:25.921Z"
   },
   {
    "duration": 41,
    "start_time": "2022-04-18T17:09:25.942Z"
   },
   {
    "duration": 20,
    "start_time": "2022-04-18T17:09:25.986Z"
   },
   {
    "duration": 49,
    "start_time": "2022-04-18T17:09:26.009Z"
   },
   {
    "duration": 33,
    "start_time": "2022-04-18T17:09:26.060Z"
   },
   {
    "duration": 10,
    "start_time": "2022-04-18T17:09:26.095Z"
   },
   {
    "duration": 16,
    "start_time": "2022-04-18T17:09:26.107Z"
   },
   {
    "duration": 8,
    "start_time": "2022-04-18T17:09:26.126Z"
   },
   {
    "duration": 50,
    "start_time": "2022-04-18T17:09:26.136Z"
   },
   {
    "duration": 7,
    "start_time": "2022-04-18T17:09:26.189Z"
   },
   {
    "duration": 16,
    "start_time": "2022-04-18T17:09:26.198Z"
   },
   {
    "duration": 34,
    "start_time": "2022-04-18T17:09:26.217Z"
   },
   {
    "duration": 34,
    "start_time": "2022-04-18T17:09:26.254Z"
   },
   {
    "duration": 24,
    "start_time": "2022-04-18T17:09:26.290Z"
   },
   {
    "duration": 6,
    "start_time": "2022-04-18T17:09:26.316Z"
   },
   {
    "duration": 60,
    "start_time": "2022-04-18T17:09:26.324Z"
   },
   {
    "duration": 14,
    "start_time": "2022-04-18T17:09:26.387Z"
   },
   {
    "duration": 36,
    "start_time": "2022-04-18T17:09:26.403Z"
   },
   {
    "duration": 49,
    "start_time": "2022-04-18T17:09:26.442Z"
   },
   {
    "duration": 8,
    "start_time": "2022-04-18T17:09:26.493Z"
   },
   {
    "duration": 26,
    "start_time": "2022-04-18T17:09:26.504Z"
   },
   {
    "duration": 50,
    "start_time": "2022-04-18T17:09:26.533Z"
   },
   {
    "duration": 6,
    "start_time": "2022-04-18T17:09:26.586Z"
   },
   {
    "duration": 17,
    "start_time": "2022-04-18T17:09:26.595Z"
   },
   {
    "duration": 14,
    "start_time": "2022-04-18T17:09:26.614Z"
   },
   {
    "duration": 10,
    "start_time": "2022-04-18T17:09:26.631Z"
   },
   {
    "duration": 43,
    "start_time": "2022-04-18T17:09:26.644Z"
   },
   {
    "duration": 5308,
    "start_time": "2022-04-18T17:09:26.690Z"
   },
   {
    "duration": 6,
    "start_time": "2022-04-18T17:09:32.000Z"
   },
   {
    "duration": 5307,
    "start_time": "2022-04-18T17:09:32.008Z"
   },
   {
    "duration": 34,
    "start_time": "2022-04-18T17:09:37.318Z"
   },
   {
    "duration": 7,
    "start_time": "2022-04-18T17:09:37.355Z"
   },
   {
    "duration": 5232,
    "start_time": "2022-04-18T17:09:37.383Z"
   },
   {
    "duration": 27,
    "start_time": "2022-04-18T17:09:42.617Z"
   },
   {
    "duration": 9,
    "start_time": "2022-04-18T17:09:42.647Z"
   },
   {
    "duration": 9598,
    "start_time": "2022-04-18T17:09:42.683Z"
   },
   {
    "duration": 27,
    "start_time": "2022-04-18T17:09:52.284Z"
   },
   {
    "duration": 8,
    "start_time": "2022-04-18T17:09:52.314Z"
   },
   {
    "duration": 57,
    "start_time": "2022-04-18T17:09:52.324Z"
   },
   {
    "duration": 12,
    "start_time": "2022-04-18T17:09:52.384Z"
   },
   {
    "duration": 15,
    "start_time": "2022-04-18T17:09:52.398Z"
   },
   {
    "duration": 14,
    "start_time": "2022-04-18T17:09:52.415Z"
   },
   {
    "duration": 9,
    "start_time": "2022-04-18T17:09:52.432Z"
   },
   {
    "duration": 31,
    "start_time": "2022-04-18T17:09:52.482Z"
   },
   {
    "duration": 11,
    "start_time": "2022-04-18T17:09:52.516Z"
   },
   {
    "duration": 85,
    "start_time": "2022-04-18T17:09:52.529Z"
   },
   {
    "duration": 6,
    "start_time": "2022-04-18T17:09:52.617Z"
   },
   {
    "duration": 9,
    "start_time": "2022-04-18T17:09:52.625Z"
   },
   {
    "duration": 10,
    "start_time": "2022-04-18T17:09:52.636Z"
   },
   {
    "duration": 36,
    "start_time": "2022-04-18T17:09:52.649Z"
   },
   {
    "duration": 11,
    "start_time": "2022-04-18T17:09:52.687Z"
   },
   {
    "duration": 36,
    "start_time": "2022-04-18T17:09:52.701Z"
   },
   {
    "duration": 9,
    "start_time": "2022-04-18T17:09:52.740Z"
   },
   {
    "duration": 88,
    "start_time": "2022-04-18T17:09:52.751Z"
   },
   {
    "duration": 8,
    "start_time": "2022-04-18T17:09:52.841Z"
   },
   {
    "duration": 37,
    "start_time": "2022-04-18T17:09:52.851Z"
   },
   {
    "duration": 20,
    "start_time": "2022-04-18T17:09:52.890Z"
   },
   {
    "duration": 12,
    "start_time": "2022-04-18T17:09:52.912Z"
   },
   {
    "duration": 694,
    "start_time": "2022-04-18T17:09:52.926Z"
   },
   {
    "duration": 597,
    "start_time": "2022-04-18T17:09:53.622Z"
   },
   {
    "duration": 561,
    "start_time": "2022-04-18T17:09:54.221Z"
   },
   {
    "duration": 538,
    "start_time": "2022-04-18T17:09:54.784Z"
   },
   {
    "duration": 358,
    "start_time": "2022-04-18T17:09:55.324Z"
   },
   {
    "duration": 348,
    "start_time": "2022-04-18T17:09:55.684Z"
   },
   {
    "duration": 27,
    "start_time": "2022-04-18T17:09:56.034Z"
   },
   {
    "duration": 30,
    "start_time": "2022-04-18T17:09:56.064Z"
   },
   {
    "duration": 5,
    "start_time": "2022-04-18T17:09:56.097Z"
   },
   {
    "duration": 18,
    "start_time": "2022-04-18T17:09:56.105Z"
   },
   {
    "duration": 18,
    "start_time": "2022-04-18T17:09:56.126Z"
   },
   {
    "duration": 6,
    "start_time": "2022-04-18T17:09:56.183Z"
   },
   {
    "duration": 17,
    "start_time": "2022-04-18T17:09:56.192Z"
   },
   {
    "duration": 21,
    "start_time": "2022-04-18T17:09:56.214Z"
   },
   {
    "duration": 60,
    "start_time": "2022-04-18T17:09:56.238Z"
   },
   {
    "duration": 9,
    "start_time": "2022-04-18T17:09:56.301Z"
   },
   {
    "duration": 29,
    "start_time": "2022-04-18T17:09:56.312Z"
   },
   {
    "duration": 38,
    "start_time": "2022-04-18T17:09:56.344Z"
   },
   {
    "duration": 29,
    "start_time": "2022-04-18T17:09:56.385Z"
   },
   {
    "duration": 8,
    "start_time": "2022-04-18T17:09:56.417Z"
   },
   {
    "duration": 56,
    "start_time": "2022-04-18T17:09:56.427Z"
   },
   {
    "duration": 11,
    "start_time": "2022-04-18T17:09:56.485Z"
   },
   {
    "duration": 17,
    "start_time": "2022-04-18T17:09:56.498Z"
   },
   {
    "duration": 12,
    "start_time": "2022-04-18T17:09:56.518Z"
   },
   {
    "duration": 20,
    "start_time": "2022-04-18T17:09:56.532Z"
   },
   {
    "duration": 35,
    "start_time": "2022-04-18T17:09:56.554Z"
   },
   {
    "duration": 16,
    "start_time": "2022-04-18T17:09:56.592Z"
   },
   {
    "duration": 12,
    "start_time": "2022-04-18T17:09:56.610Z"
   },
   {
    "duration": 12,
    "start_time": "2022-04-18T17:09:56.625Z"
   },
   {
    "duration": 60,
    "start_time": "2022-04-18T17:09:56.639Z"
   },
   {
    "duration": 26,
    "start_time": "2022-04-18T17:09:56.702Z"
   },
   {
    "duration": 13,
    "start_time": "2022-04-18T17:09:56.731Z"
   },
   {
    "duration": 18,
    "start_time": "2022-04-18T17:09:56.747Z"
   },
   {
    "duration": 14,
    "start_time": "2022-04-18T17:09:56.768Z"
   },
   {
    "duration": 17,
    "start_time": "2022-04-18T17:09:56.785Z"
   },
   {
    "duration": 9,
    "start_time": "2022-04-18T17:09:56.805Z"
   },
   {
    "duration": 14,
    "start_time": "2022-04-18T17:09:56.816Z"
   },
   {
    "duration": 9,
    "start_time": "2022-04-18T17:09:56.833Z"
   },
   {
    "duration": 58,
    "start_time": "2022-04-18T17:09:56.844Z"
   },
   {
    "duration": 7,
    "start_time": "2022-04-18T17:09:56.904Z"
   },
   {
    "duration": 9,
    "start_time": "2022-04-18T17:09:56.913Z"
   },
   {
    "duration": 59,
    "start_time": "2022-04-18T17:09:56.925Z"
   }
  ],
  "kernelspec": {
   "display_name": "Python 3 (ipykernel)",
   "language": "python",
   "name": "python3"
  },
  "language_info": {
   "codemirror_mode": {
    "name": "ipython",
    "version": 3
   },
   "file_extension": ".py",
   "mimetype": "text/x-python",
   "name": "python",
   "nbconvert_exporter": "python",
   "pygments_lexer": "ipython3",
   "version": "3.9.5"
  },
  "toc": {
   "base_numbering": 1,
   "nav_menu": {},
   "number_sections": true,
   "sideBar": true,
   "skip_h1_title": true,
   "title_cell": "Table of Contents",
   "title_sidebar": "Contents",
   "toc_cell": false,
   "toc_position": {},
   "toc_section_display": true,
   "toc_window_display": false
  }
 },
 "nbformat": 4,
 "nbformat_minor": 2
}
